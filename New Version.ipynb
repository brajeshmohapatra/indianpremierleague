{
 "cells": [
  {
   "cell_type": "code",
   "execution_count": 1,
   "id": "5c68ac0f",
   "metadata": {},
   "outputs": [],
   "source": [
    "import requests\n",
    "import warnings\n",
    "import pandas as pd\n",
    "from bs4 import BeautifulSoup\n",
    "warnings.filterwarnings('ignore')"
   ]
  },
  {
   "cell_type": "code",
   "execution_count": 2,
   "id": "5e0c6267",
   "metadata": {},
   "outputs": [],
   "source": [
    "url = 'https://www.espncricinfo.com/series/icc-men-s-t20-world-cup-qualifier-a-2021-22-1299556/ireland-vs-united-arab-emirates-final-1299585/live-cricket-score'\n",
    "url = url.split('/')\n",
    "url = '/'.join(url[: -1]) + '/'"
   ]
  },
  {
   "cell_type": "code",
   "execution_count": 4,
   "id": "36c07a5c",
   "metadata": {},
   "outputs": [],
   "source": [
    "response = requests.get(url + 'live-cricket-score')\n",
    "soup = BeautifulSoup(response.text, 'html.parser')\n",
    "\n",
    "#teams\n",
    "\n",
    "teams_1 = soup.find_all('div', attrs = {'class' : 'match-header'})\n",
    "for team in teams_1:\n",
    "    teams_2 = team.find_all('p', attrs = {'class' : 'name'})\n",
    "teams = [team.text for team in teams_2]\n",
    "\n",
    "#innings\n",
    "\n",
    "match_status = soup.find_all('div', attrs = {'class' : 'match-info match-info-MATCH match-info-MATCH-full-width'})\n",
    "for ms in match_status:\n",
    "    verifier = ms.find('div', attrs = {'class' : 'status-text'})\n",
    "if 'chose to' in verifier.text:\n",
    "    innings = 1\n",
    "elif 'need' in verifier.text:\n",
    "    innings = 2\n",
    "else:\n",
    "    innings = 0\n",
    "\n",
    "response = requests.get(url + 'full-scorecard')\n",
    "soup = BeautifulSoup(response.text, 'html.parser')\n",
    "\n",
    "#venue\n",
    "\n",
    "venues_1 = soup.find('div', attrs = {'class' : 'match-scorecard-page'})\n",
    "for ven in venues_1:\n",
    "    venues_2 = ven.find_all('a')\n",
    "venue = venues_2[0].text\n",
    "\n",
    "#toss\n",
    "\n",
    "toss_result = soup.find_all('tr')\n",
    "toss = [t for t in toss_result if 'Toss' in t.text]\n",
    "toss_winner = toss[0].text.split(',')[0].split('Toss')[1]\n",
    "toss_loser = [team for team in teams if team != toss_winner]\n",
    "toss_loser = toss_loser[0]\n",
    "\n",
    "#batting and bowling team\n",
    "\n",
    "if 'bat' in toss[0].text and innings == 1:\n",
    "    batting_team = toss_winner\n",
    "    bowling_team = toss_loser\n",
    "elif 'bat' in toss[0].text and innings == 2:\n",
    "    batting_team = toss_loser\n",
    "    bowling_team = toss_winner\n",
    "elif 'field' in toss[0].text and innings == 1:\n",
    "    batting_team = toss_loser\n",
    "    bowling_team = toss_winner\n",
    "else:\n",
    "    batting_team = toss_winner\n",
    "    bowling_team = toss_loser\n",
    "\n",
    "#over, score and wickets\n",
    "\n",
    "status = soup.find_all('tfoot')\n",
    "if innings == 1:\n",
    "    overs = float(status[0].text.split(' Ov')[0].split('(')[1])\n",
    "    score = int(status[0].text.split('/')[0].split(')')[-1])\n",
    "    if '/' in status[0].text:\n",
    "        wickets = int(status[0].text.split('/')[1][0])\n",
    "    else:\n",
    "        wickets = 10\n",
    "else:\n",
    "    overs = float(status[1].text.split(' Ov')[0].split('(')[1])\n",
    "    score = int(status[1].text.split('/')[0].split(')')[-1])\n",
    "    if '/' in status[1].text:\n",
    "        wickets = int(status[1].text.split('/')[1][0])\n",
    "    else:\n",
    "        wickets = 10\n",
    "\n",
    "#last five overs\n",
    "\n",
    "if overs >= 5.1:\n",
    "    recent = soup.find('div', attrs = {'class' : 'recent-overs'})\n",
    "    last_5_score = int(recent.text.split('/')[0].split('\\xa0')[-1])\n",
    "    last_5_wickets = int(recent.text.split('/')[-1].split(' ')[0])\n",
    "else:\n",
    "    pass"
   ]
  },
  {
   "cell_type": "code",
   "execution_count": 5,
   "id": "ed4289b0",
   "metadata": {},
   "outputs": [
    {
     "data": {
      "text/plain": [
       "['Ireland', 'United Arab Emirates']"
      ]
     },
     "execution_count": 5,
     "metadata": {},
     "output_type": "execute_result"
    }
   ],
   "source": [
    "teams"
   ]
  },
  {
   "cell_type": "code",
   "execution_count": 6,
   "id": "16ad35ec",
   "metadata": {},
   "outputs": [
    {
     "data": {
      "text/plain": [
       "'Al Amerat Cricket Ground Oman Cricket (Ministry Turf 1)'"
      ]
     },
     "execution_count": 6,
     "metadata": {},
     "output_type": "execute_result"
    }
   ],
   "source": [
    "venue"
   ]
  },
  {
   "cell_type": "code",
   "execution_count": 7,
   "id": "cd76ece4",
   "metadata": {},
   "outputs": [
    {
     "data": {
      "text/plain": [
       "'Ireland'"
      ]
     },
     "execution_count": 7,
     "metadata": {},
     "output_type": "execute_result"
    }
   ],
   "source": [
    "toss_winner"
   ]
  },
  {
   "cell_type": "code",
   "execution_count": 8,
   "id": "9834090a",
   "metadata": {},
   "outputs": [
    {
     "data": {
      "text/plain": [
       "2"
      ]
     },
     "execution_count": 8,
     "metadata": {},
     "output_type": "execute_result"
    }
   ],
   "source": [
    "innings"
   ]
  },
  {
   "cell_type": "code",
   "execution_count": 9,
   "id": "0493f668",
   "metadata": {},
   "outputs": [
    {
     "data": {
      "text/plain": [
       "'United Arab Emirates'"
      ]
     },
     "execution_count": 9,
     "metadata": {},
     "output_type": "execute_result"
    }
   ],
   "source": [
    "batting_team"
   ]
  },
  {
   "cell_type": "code",
   "execution_count": 10,
   "id": "c06443a3",
   "metadata": {},
   "outputs": [
    {
     "data": {
      "text/plain": [
       "'Ireland'"
      ]
     },
     "execution_count": 10,
     "metadata": {},
     "output_type": "execute_result"
    }
   ],
   "source": [
    "bowling_team"
   ]
  },
  {
   "cell_type": "code",
   "execution_count": 11,
   "id": "2fbbecf9",
   "metadata": {},
   "outputs": [
    {
     "data": {
      "text/plain": [
       "12.0"
      ]
     },
     "execution_count": 11,
     "metadata": {},
     "output_type": "execute_result"
    }
   ],
   "source": [
    "overs"
   ]
  },
  {
   "cell_type": "code",
   "execution_count": 12,
   "id": "97a5c50b",
   "metadata": {},
   "outputs": [
    {
     "data": {
      "text/plain": [
       "86"
      ]
     },
     "execution_count": 12,
     "metadata": {},
     "output_type": "execute_result"
    }
   ],
   "source": [
    "score"
   ]
  },
  {
   "cell_type": "code",
   "execution_count": 13,
   "id": "e5348a65",
   "metadata": {},
   "outputs": [
    {
     "data": {
      "text/plain": [
       "2"
      ]
     },
     "execution_count": 13,
     "metadata": {},
     "output_type": "execute_result"
    }
   ],
   "source": [
    "wickets"
   ]
  },
  {
   "cell_type": "code",
   "execution_count": 14,
   "id": "c5091be2",
   "metadata": {},
   "outputs": [
    {
     "data": {
      "text/plain": [
       "51"
      ]
     },
     "execution_count": 14,
     "metadata": {},
     "output_type": "execute_result"
    }
   ],
   "source": [
    "last_5_score"
   ]
  },
  {
   "cell_type": "code",
   "execution_count": 15,
   "id": "0602ad55",
   "metadata": {},
   "outputs": [
    {
     "data": {
      "text/plain": [
       "0"
      ]
     },
     "execution_count": 15,
     "metadata": {},
     "output_type": "execute_result"
    }
   ],
   "source": [
    "last_5_wickets"
   ]
  },
  {
   "cell_type": "code",
   "execution_count": null,
   "id": "0205ee90",
   "metadata": {},
   "outputs": [],
   "source": []
  },
  {
   "cell_type": "code",
   "execution_count": null,
   "id": "f0fd4c33",
   "metadata": {},
   "outputs": [],
   "source": []
  },
  {
   "cell_type": "code",
   "execution_count": null,
   "id": "2ca7d2be",
   "metadata": {},
   "outputs": [],
   "source": []
  },
  {
   "cell_type": "code",
   "execution_count": null,
   "id": "b46fb452",
   "metadata": {},
   "outputs": [],
   "source": []
  },
  {
   "cell_type": "code",
   "execution_count": null,
   "id": "2188df78",
   "metadata": {},
   "outputs": [],
   "source": []
  },
  {
   "cell_type": "code",
   "execution_count": null,
   "id": "f2c7247f",
   "metadata": {},
   "outputs": [],
   "source": []
  },
  {
   "cell_type": "code",
   "execution_count": null,
   "id": "eebe0135",
   "metadata": {},
   "outputs": [],
   "source": []
  },
  {
   "cell_type": "code",
   "execution_count": null,
   "id": "fbba1bf2",
   "metadata": {},
   "outputs": [],
   "source": []
  }
 ],
 "metadata": {
  "kernelspec": {
   "display_name": "Python 3 (ipykernel)",
   "language": "python",
   "name": "python3"
  },
  "language_info": {
   "codemirror_mode": {
    "name": "ipython",
    "version": 3
   },
   "file_extension": ".py",
   "mimetype": "text/x-python",
   "name": "python",
   "nbconvert_exporter": "python",
   "pygments_lexer": "ipython3",
   "version": "3.9.7"
  }
 },
 "nbformat": 4,
 "nbformat_minor": 5
}
