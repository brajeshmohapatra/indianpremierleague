{
 "cells": [
  {
   "cell_type": "code",
   "execution_count": 1,
   "id": "56ea4a5f",
   "metadata": {
    "ExecuteTime": {
     "end_time": "2022-03-26T14:09:31.104456Z",
     "start_time": "2022-03-26T14:09:30.157814Z"
    }
   },
   "outputs": [],
   "source": [
    "import requests\n",
    "import warnings\n",
    "import pandas as pd\n",
    "from bs4 import BeautifulSoup\n",
    "warnings.filterwarnings('ignore')"
   ]
  },
  {
   "cell_type": "code",
   "execution_count": 2,
   "id": "278d8c1d",
   "metadata": {
    "ExecuteTime": {
     "end_time": "2022-03-26T14:09:31.289110Z",
     "start_time": "2022-03-26T14:09:31.256453Z"
    }
   },
   "outputs": [
    {
     "data": {
      "text/plain": [
       "'https://www.espncricinfo.com/series/indian-premier-league-2022-1298423/chennai-super-kings-vs-kolkata-knight-riders-1st-match-1304047/'"
      ]
     },
     "execution_count": 2,
     "metadata": {},
     "output_type": "execute_result"
    }
   ],
   "source": [
    "url = 'https://www.espncricinfo.com/series/indian-premier-league-2022-1298423/chennai-super-kings-vs-kolkata-knight-riders-1st-match-1304047/live-cricket-score'\n",
    "url = url.split('/')\n",
    "url = '/'.join(url[: -1]) + '/'\n",
    "url"
   ]
  },
  {
   "cell_type": "code",
   "execution_count": 3,
   "id": "03ad33aa",
   "metadata": {
    "ExecuteTime": {
     "end_time": "2022-03-26T14:09:32.301042Z",
     "start_time": "2022-03-26T14:09:32.293042Z"
    }
   },
   "outputs": [],
   "source": [
    "teams, toss = [], []\n",
    "venue, toss_winner, toss_loser, batting_team, bowling_team, status = '', '', '', '', '', ''\n",
    "innings, overs, score, wickets, last_5_score, last_5_wickets = 0, 0, 0, 0, 0, 0"
   ]
  },
  {
   "cell_type": "code",
   "execution_count": 4,
   "id": "e33da22f",
   "metadata": {
    "ExecuteTime": {
     "end_time": "2022-03-26T14:09:34.238796Z",
     "start_time": "2022-03-26T14:09:32.995511Z"
    }
   },
   "outputs": [
    {
     "data": {
      "text/plain": [
       "['Chennai Super Kings', 'Kolkata Knight Riders']"
      ]
     },
     "execution_count": 4,
     "metadata": {},
     "output_type": "execute_result"
    }
   ],
   "source": [
    "#teams\n",
    "\n",
    "response = requests.get(url + 'live-cricket-score')\n",
    "soup = BeautifulSoup(response.text, 'html.parser')\n",
    "teams_1 = soup.find_all('div', attrs = {'class' : 'match-header'})\n",
    "for team in teams_1:\n",
    "    teams_2 = team.find_all('p', attrs = {'class' : 'name'})\n",
    "teams = [team.text for team in teams_2]\n",
    "teams"
   ]
  },
  {
   "cell_type": "code",
   "execution_count": 5,
   "id": "5aea97ba",
   "metadata": {
    "ExecuteTime": {
     "end_time": "2022-03-26T14:09:35.465441Z",
     "start_time": "2022-03-26T14:09:34.809402Z"
    }
   },
   "outputs": [
    {
     "data": {
      "text/plain": [
       "'Wankhede Stadium, Mumbai'"
      ]
     },
     "execution_count": 5,
     "metadata": {},
     "output_type": "execute_result"
    }
   ],
   "source": [
    "#venue\n",
    "\n",
    "response = requests.get(url + 'full-scorecard')\n",
    "soup = BeautifulSoup(response.text, 'html.parser')\n",
    "venue = soup.find('td', attrs = {'class' : 'match-venue'})\n",
    "venue = venue.text\n",
    "venue"
   ]
  },
  {
   "cell_type": "code",
   "execution_count": 6,
   "id": "fbde8e55",
   "metadata": {
    "ExecuteTime": {
     "end_time": "2022-03-26T14:09:36.359345Z",
     "start_time": "2022-03-26T14:09:35.996164Z"
    }
   },
   "outputs": [
    {
     "name": "stdout",
     "output_type": "stream",
     "text": [
      "Kolkata Knight Riders Chennai Super Kings\n"
     ]
    }
   ],
   "source": [
    "#toss\n",
    "\n",
    "response = requests.get(url + 'full-scorecard')\n",
    "soup = BeautifulSoup(response.text, 'html.parser')\n",
    "try:\n",
    "    toss_result = soup.find_all('tr')\n",
    "    toss = [t for t in toss_result if 'Toss' in t.text]\n",
    "    toss_winner = toss[0].text.split(',')[0].split('Toss')[1]\n",
    "    toss_loser = [team for team in teams if team != toss_winner]\n",
    "    toss_loser = toss_loser[0]\n",
    "    print(toss_winner, toss_loser)\n",
    "except:\n",
    "    pass"
   ]
  },
  {
   "cell_type": "code",
   "execution_count": 7,
   "id": "141717d9",
   "metadata": {
    "ExecuteTime": {
     "end_time": "2022-03-26T14:09:37.684769Z",
     "start_time": "2022-03-26T14:09:37.111001Z"
    }
   },
   "outputs": [
    {
     "name": "stdout",
     "output_type": "stream",
     "text": [
      "1\n"
     ]
    }
   ],
   "source": [
    "#innings\n",
    "\n",
    "response = requests.get(url + 'live-cricket-score')\n",
    "soup = BeautifulSoup(response.text, 'html.parser')\n",
    "match_status = soup.find_all('div', attrs = {'class' : 'match-info match-info-MATCH match-info-MATCH-full-width'})\n",
    "try:\n",
    "    for ms in match_status:\n",
    "        verifier = ms.find('div', attrs = {'class' : 'status-text'})\n",
    "    if 'chose to' in verifier.text:\n",
    "        innings = 1\n",
    "    elif 'need' in verifier.text:\n",
    "        innings = 2\n",
    "    print(innings)\n",
    "except:\n",
    "    pass"
   ]
  },
  {
   "cell_type": "code",
   "execution_count": 8,
   "id": "172d6052",
   "metadata": {
    "ExecuteTime": {
     "end_time": "2022-03-26T14:09:39.001357Z",
     "start_time": "2022-03-26T14:09:38.671680Z"
    }
   },
   "outputs": [
    {
     "name": "stdout",
     "output_type": "stream",
     "text": [
      "Chennai Super Kings - Kolkata Knight Riders\n"
     ]
    }
   ],
   "source": [
    "#batting and bowling team\n",
    "\n",
    "response = requests.get(url + 'full-scorecard')\n",
    "soup = BeautifulSoup(response.text, 'html.parser')\n",
    "try:\n",
    "    if 'bat' in toss[0].text and innings == 1:\n",
    "        batting_team = toss_winner\n",
    "        bowling_team = toss_loser\n",
    "    elif 'bat' in toss[0].text and innings == 2:\n",
    "        batting_team = toss_loser\n",
    "        bowling_team = toss_winner\n",
    "    elif 'field' in toss[0].text and innings == 1:\n",
    "        batting_team = toss_loser\n",
    "        bowling_team = toss_winner\n",
    "    else:\n",
    "        batting_team = toss_winner\n",
    "        bowling_team = toss_loser\n",
    "    print(batting_team, '-', bowling_team)\n",
    "except:\n",
    "    pass"
   ]
  },
  {
   "cell_type": "code",
   "execution_count": 9,
   "id": "243109dc",
   "metadata": {
    "ExecuteTime": {
     "end_time": "2022-03-26T14:09:41.128953Z",
     "start_time": "2022-03-26T14:09:40.459362Z"
    }
   },
   "outputs": [],
   "source": [
    "#over, score and wickets\n",
    "\n",
    "response = requests.get(url + 'full-scorecard')\n",
    "soup = BeautifulSoup(response.text, 'html.parser')\n",
    "status = soup.find_all('tfoot')\n",
    "try:\n",
    "    if innings == 1:\n",
    "        overs = int(status[0].text.split(' Ov')[0].split('(')[1])\n",
    "        score = int(status[0].text.split('/')[0].split(')')[-1])\n",
    "        if '/' in status[0].text:\n",
    "            wickets = int(status[0].text.split('/')[1][0])\n",
    "        else:\n",
    "            wickets = 10\n",
    "    else:\n",
    "        overs = int(status[1].text.split(' Ov')[0].split('(')[1])\n",
    "        score = int(status[1].text.split('/')[0].split(')')[-1])\n",
    "        if '/' in status[1].text:\n",
    "            wickets = int(status[1].text.split('/')[1][0])\n",
    "        else:\n",
    "            wickets = 10\n",
    "    print(overs, score, wickets)\n",
    "except:\n",
    "    pass"
   ]
  },
  {
   "cell_type": "code",
   "execution_count": null,
   "id": "62b1ab5a",
   "metadata": {},
   "outputs": [],
   "source": []
  },
  {
   "cell_type": "code",
   "execution_count": 10,
   "id": "e858f37f",
   "metadata": {
    "ExecuteTime": {
     "end_time": "2022-03-03T12:03:12.072453Z",
     "start_time": "2022-03-03T12:03:11.853841Z"
    }
   },
   "outputs": [],
   "source": [
    "#last five overs\n",
    "\n",
    "response = requests.get(url + 'full-scorecard')\n",
    "soup = BeautifulSoup(response.text, 'html.parser')\n",
    "recent = soup.find('div', attrs = {'class' : 'recent-overs'})\n",
    "try:\n",
    "    last_5_score = int(recent.text.split('/')[0].split('\\xa0')[-1])\n",
    "    last_5_wickets = int(recent.text.split('/')[-1].split(' ')[0])\n",
    "    print(last_5_score, last_5_wickets)\n",
    "except:\n",
    "    pass"
   ]
  },
  {
   "cell_type": "code",
   "execution_count": 11,
   "id": "a36d0b3d",
   "metadata": {
    "ExecuteTime": {
     "end_time": "2022-03-03T12:03:12.811172Z",
     "start_time": "2022-03-03T12:03:12.605142Z"
    }
   },
   "outputs": [
    {
     "data": {
      "text/plain": [
       "'Match yet to begin'"
      ]
     },
     "execution_count": 11,
     "metadata": {},
     "output_type": "execute_result"
    }
   ],
   "source": [
    "#status\n",
    "\n",
    "response = requests.get(url + 'full-scorecard')\n",
    "soup = BeautifulSoup(response.text, 'html.parser')\n",
    "status = soup.find_all('div', attrs = {'class' : 'match-header-container'})\n",
    "status = status[0].find_all('div', attrs = {'class' : 'status-text'})\n",
    "status = status[0].text\n",
    "status"
   ]
  },
  {
   "cell_type": "code",
   "execution_count": 16,
   "id": "4ec97e28",
   "metadata": {
    "ExecuteTime": {
     "end_time": "2022-03-03T12:04:26.657580Z",
     "start_time": "2022-03-03T12:04:26.648571Z"
    }
   },
   "outputs": [
    {
     "data": {
      "text/plain": [
       "(['West Indies', 'England'], [])"
      ]
     },
     "execution_count": 16,
     "metadata": {},
     "output_type": "execute_result"
    }
   ],
   "source": [
    "teams, toss"
   ]
  },
  {
   "cell_type": "code",
   "execution_count": 18,
   "id": "9ef60745",
   "metadata": {
    "ExecuteTime": {
     "end_time": "2022-03-03T12:04:38.408376Z",
     "start_time": "2022-03-03T12:04:38.399367Z"
    }
   },
   "outputs": [
    {
     "data": {
      "text/plain": [
       "('Sir Vivian Richards Stadium, North Sound, Antigua',\n",
       " '',\n",
       " '',\n",
       " '',\n",
       " '',\n",
       " 'Match yet to begin')"
      ]
     },
     "execution_count": 18,
     "metadata": {},
     "output_type": "execute_result"
    }
   ],
   "source": [
    "venue, toss_winner, toss_loser, batting_team, bowling_team, status"
   ]
  },
  {
   "cell_type": "code",
   "execution_count": 19,
   "id": "c7bcf9f8",
   "metadata": {
    "ExecuteTime": {
     "end_time": "2022-03-03T12:05:02.879821Z",
     "start_time": "2022-03-03T12:05:02.862215Z"
    }
   },
   "outputs": [
    {
     "data": {
      "text/plain": [
       "(0, 0, 0, 0, 0, 0)"
      ]
     },
     "execution_count": 19,
     "metadata": {},
     "output_type": "execute_result"
    }
   ],
   "source": [
    "innings, overs, score, wickets, last_5_score, last_5_wickets"
   ]
  },
  {
   "cell_type": "code",
   "execution_count": null,
   "id": "d786d0c6",
   "metadata": {},
   "outputs": [],
   "source": []
  },
  {
   "cell_type": "code",
   "execution_count": null,
   "id": "e950f2c2",
   "metadata": {},
   "outputs": [],
   "source": []
  },
  {
   "cell_type": "code",
   "execution_count": null,
   "id": "b3f3e1ee",
   "metadata": {},
   "outputs": [],
   "source": []
  },
  {
   "cell_type": "code",
   "execution_count": null,
   "id": "108029e5",
   "metadata": {},
   "outputs": [],
   "source": []
  },
  {
   "cell_type": "code",
   "execution_count": null,
   "id": "cc5afcc7",
   "metadata": {},
   "outputs": [],
   "source": []
  },
  {
   "cell_type": "code",
   "execution_count": null,
   "id": "5f00a4f7",
   "metadata": {},
   "outputs": [],
   "source": []
  },
  {
   "cell_type": "code",
   "execution_count": null,
   "id": "c6ebfcaf",
   "metadata": {},
   "outputs": [],
   "source": []
  },
  {
   "cell_type": "code",
   "execution_count": null,
   "id": "b4fe7710",
   "metadata": {},
   "outputs": [],
   "source": []
  },
  {
   "cell_type": "code",
   "execution_count": null,
   "id": "7f52dd0c",
   "metadata": {},
   "outputs": [],
   "source": []
  },
  {
   "cell_type": "code",
   "execution_count": null,
   "id": "360b16a8",
   "metadata": {},
   "outputs": [],
   "source": []
  },
  {
   "cell_type": "code",
   "execution_count": null,
   "id": "dd06471c",
   "metadata": {},
   "outputs": [],
   "source": []
  },
  {
   "cell_type": "code",
   "execution_count": null,
   "id": "a3e0ecd7",
   "metadata": {},
   "outputs": [],
   "source": []
  },
  {
   "cell_type": "code",
   "execution_count": null,
   "id": "2197f4a5",
   "metadata": {},
   "outputs": [],
   "source": []
  },
  {
   "cell_type": "code",
   "execution_count": null,
   "id": "61e45cc2",
   "metadata": {},
   "outputs": [],
   "source": []
  },
  {
   "cell_type": "code",
   "execution_count": null,
   "id": "c00d1b0f",
   "metadata": {},
   "outputs": [],
   "source": []
  },
  {
   "cell_type": "code",
   "execution_count": null,
   "id": "098997d9",
   "metadata": {},
   "outputs": [],
   "source": []
  },
  {
   "cell_type": "code",
   "execution_count": null,
   "id": "0e8942e4",
   "metadata": {},
   "outputs": [],
   "source": []
  },
  {
   "cell_type": "code",
   "execution_count": null,
   "id": "0d0b7710",
   "metadata": {},
   "outputs": [],
   "source": []
  },
  {
   "cell_type": "code",
   "execution_count": null,
   "id": "de00184e",
   "metadata": {},
   "outputs": [],
   "source": []
  },
  {
   "cell_type": "code",
   "execution_count": null,
   "id": "e2efc683",
   "metadata": {},
   "outputs": [],
   "source": []
  },
  {
   "cell_type": "code",
   "execution_count": null,
   "id": "8036bfbf",
   "metadata": {},
   "outputs": [],
   "source": []
  },
  {
   "cell_type": "code",
   "execution_count": null,
   "id": "5fafafe1",
   "metadata": {},
   "outputs": [],
   "source": []
  },
  {
   "cell_type": "code",
   "execution_count": null,
   "id": "8f71f2de",
   "metadata": {},
   "outputs": [],
   "source": []
  },
  {
   "cell_type": "code",
   "execution_count": null,
   "id": "f818c0f9",
   "metadata": {},
   "outputs": [],
   "source": []
  },
  {
   "cell_type": "code",
   "execution_count": null,
   "id": "832991b2",
   "metadata": {},
   "outputs": [],
   "source": []
  },
  {
   "cell_type": "code",
   "execution_count": null,
   "id": "fbaf1ac7",
   "metadata": {},
   "outputs": [],
   "source": []
  },
  {
   "cell_type": "code",
   "execution_count": null,
   "id": "6cdf3b34",
   "metadata": {},
   "outputs": [],
   "source": []
  },
  {
   "cell_type": "code",
   "execution_count": null,
   "id": "0fabb7f7",
   "metadata": {},
   "outputs": [],
   "source": []
  },
  {
   "cell_type": "code",
   "execution_count": null,
   "id": "573fcd94",
   "metadata": {},
   "outputs": [],
   "source": []
  },
  {
   "cell_type": "code",
   "execution_count": null,
   "id": "25423991",
   "metadata": {},
   "outputs": [],
   "source": []
  },
  {
   "cell_type": "code",
   "execution_count": null,
   "id": "3b2877cf",
   "metadata": {},
   "outputs": [],
   "source": []
  },
  {
   "cell_type": "code",
   "execution_count": null,
   "id": "35401e23",
   "metadata": {},
   "outputs": [],
   "source": []
  },
  {
   "cell_type": "code",
   "execution_count": null,
   "id": "80373dd8",
   "metadata": {},
   "outputs": [],
   "source": []
  },
  {
   "cell_type": "code",
   "execution_count": null,
   "id": "a063929a",
   "metadata": {},
   "outputs": [],
   "source": []
  },
  {
   "cell_type": "code",
   "execution_count": null,
   "id": "254f3858",
   "metadata": {},
   "outputs": [],
   "source": []
  },
  {
   "cell_type": "code",
   "execution_count": null,
   "id": "f3aeacae",
   "metadata": {},
   "outputs": [],
   "source": []
  },
  {
   "cell_type": "code",
   "execution_count": null,
   "id": "51483fd7",
   "metadata": {},
   "outputs": [],
   "source": []
  }
 ],
 "metadata": {
  "kernelspec": {
   "display_name": "Python 3 (ipykernel)",
   "language": "python",
   "name": "python3"
  },
  "language_info": {
   "codemirror_mode": {
    "name": "ipython",
    "version": 3
   },
   "file_extension": ".py",
   "mimetype": "text/x-python",
   "name": "python",
   "nbconvert_exporter": "python",
   "pygments_lexer": "ipython3",
   "version": "3.9.7"
  }
 },
 "nbformat": 4,
 "nbformat_minor": 5
}
