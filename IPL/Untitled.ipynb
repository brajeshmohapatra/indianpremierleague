{
 "cells": [
  {
   "cell_type": "code",
   "execution_count": 3,
   "id": "34193ca3",
   "metadata": {
    "ExecuteTime": {
     "end_time": "2022-04-03T14:21:01.772857Z",
     "start_time": "2022-04-03T14:21:01.748497Z"
    }
   },
   "outputs": [
    {
     "ename": "SyntaxError",
     "evalue": "invalid syntax (Temp/ipykernel_24108/2049065290.py, line 20)",
     "output_type": "error",
     "traceback": [
      "\u001b[1;36m  File \u001b[1;32m\"C:\\Users\\asset\\AppData\\Local\\Temp/ipykernel_24108/2049065290.py\"\u001b[1;36m, line \u001b[1;32m20\u001b[0m\n\u001b[1;33m    return x +* y\u001b[0m\n\u001b[1;37m              ^\u001b[0m\n\u001b[1;31mSyntaxError\u001b[0m\u001b[1;31m:\u001b[0m invalid syntax\n"
     ]
    }
   ],
   "source": [
    "import logging\n",
    "\n",
    "# DEBUG: Detailed information, typically of interest only when diagnosing problems.\n",
    "\n",
    "# INFO: Confirmation that things are working as expected.\n",
    "\n",
    "# WARNING: An indication that something unexpected happened, or indicative of some problem in the near future (e.g. ‘disk space low’). The software is still working as expected.\n",
    "\n",
    "# ERROR: Due to a more serious problem, the software has not been able to perform some function.\n",
    "\n",
    "# CRITICAL: A serious error, indicating that the program itself may be unable to continue running.\n",
    "\n",
    "# logging.basicConfig(filename='test.log', level=logging.DEBUG,\n",
    "#                     format='%(asctime)s:%(levelname)s:%(message)s')\n",
    "\n",
    "logging.basicConfig(filename=\"logs.log\", level=logging.CRITICAL)\n",
    "\n",
    "def add(x, y):\n",
    "    \"\"\"Add Function\"\"\"\n",
    "    return x +* y\n",
    "\n",
    "\n",
    "def subtract(x, y):\n",
    "    \"\"\"Subtract Function\"\"\"\n",
    "    return x - y\n",
    "\n",
    "\n",
    "def multiply(x, y):\n",
    "    \"\"\"Multiply Function\"\"\"\n",
    "    return x * y\n",
    "\n",
    "\n",
    "def divide(x, y):\n",
    "    \"\"\"Divide Function\"\"\"\n",
    "    return x / y\n",
    "\n",
    "\n",
    "num_1 = 20\n",
    "num_2 = 10\n",
    "\n",
    "add_result = add(num_1, num_2)\n",
    "logging.debug('Add: {} + {} = {}'.format(num_1, num_2, add_result))\n",
    "\n",
    "sub_result = subtract(num_1, num_2)\n",
    "logging.debug('Sub: {} - {} = {}'.format(num_1, num_2, sub_result))\n",
    "\n",
    "mul_result = multiply(num_1, num_2)\n",
    "logging.debug('Mul: {} * {} = {}'.format(num_1, num_2, mul_result))\n",
    "\n",
    "div_result = divide(num_1, num_2)\n",
    "logging.debug('Div: {} / {} = {}'.format(num_1, num_2, div_result))"
   ]
  },
  {
   "cell_type": "code",
   "execution_count": 2,
   "id": "5bc5f44a",
   "metadata": {
    "ExecuteTime": {
     "end_time": "2022-04-03T14:14:01.588583Z",
     "start_time": "2022-04-03T14:14:01.285901Z"
    }
   },
   "outputs": [
    {
     "ename": "NameError",
     "evalue": "name 'test' is not defined",
     "output_type": "error",
     "traceback": [
      "\u001b[1;31m---------------------------------------------------------------------------\u001b[0m",
      "\u001b[1;31mNameError\u001b[0m                                 Traceback (most recent call last)",
      "\u001b[1;32m~\\AppData\\Local\\Temp/ipykernel_11912/371555080.py\u001b[0m in \u001b[0;36m<module>\u001b[1;34m\u001b[0m\n\u001b[1;32m----> 1\u001b[1;33m \u001b[0mtest\u001b[0m\u001b[1;33m.\u001b[0m\u001b[0mlog\u001b[0m\u001b[1;33m\u001b[0m\u001b[1;33m\u001b[0m\u001b[0m\n\u001b[0m",
      "\u001b[1;31mNameError\u001b[0m: name 'test' is not defined"
     ]
    }
   ],
   "source": [
    "test.log"
   ]
  },
  {
   "cell_type": "code",
   "execution_count": null,
   "id": "f301491b",
   "metadata": {},
   "outputs": [],
   "source": []
  }
 ],
 "metadata": {
  "kernelspec": {
   "display_name": "Python 3 (ipykernel)",
   "language": "python",
   "name": "python3"
  },
  "language_info": {
   "codemirror_mode": {
    "name": "ipython",
    "version": 3
   },
   "file_extension": ".py",
   "mimetype": "text/x-python",
   "name": "python",
   "nbconvert_exporter": "python",
   "pygments_lexer": "ipython3",
   "version": "3.9.7"
  }
 },
 "nbformat": 4,
 "nbformat_minor": 5
}
