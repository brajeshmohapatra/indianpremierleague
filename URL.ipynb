{
 "cells": [
  {
   "cell_type": "code",
   "execution_count": 1,
   "id": "b4a23843",
   "metadata": {
    "ExecuteTime": {
     "end_time": "2022-03-07T06:22:06.323602Z",
     "start_time": "2022-03-07T06:22:05.526156Z"
    }
   },
   "outputs": [],
   "source": [
    "import warnings\n",
    "import pandas as pd\n",
    "warnings.filterwarnings('ignore')"
   ]
  },
  {
   "cell_type": "code",
   "execution_count": 2,
   "id": "f1cc0e82",
   "metadata": {
    "ExecuteTime": {
     "end_time": "2022-03-07T06:22:07.339521Z",
     "start_time": "2022-03-07T06:22:06.870851Z"
    }
   },
   "outputs": [],
   "source": [
    "df = pd.read_excel('Fixture.xlsx')"
   ]
  },
  {
   "cell_type": "code",
   "execution_count": 3,
   "id": "0c82bbd7",
   "metadata": {
    "ExecuteTime": {
     "end_time": "2022-03-07T06:22:08.064175Z",
     "start_time": "2022-03-07T06:22:08.015589Z"
    }
   },
   "outputs": [
    {
     "data": {
      "text/html": [
       "<div>\n",
       "<style scoped>\n",
       "    .dataframe tbody tr th:only-of-type {\n",
       "        vertical-align: middle;\n",
       "    }\n",
       "\n",
       "    .dataframe tbody tr th {\n",
       "        vertical-align: top;\n",
       "    }\n",
       "\n",
       "    .dataframe thead th {\n",
       "        text-align: right;\n",
       "    }\n",
       "</style>\n",
       "<table border=\"1\" class=\"dataframe\">\n",
       "  <thead>\n",
       "    <tr style=\"text-align: right;\">\n",
       "      <th></th>\n",
       "      <th>MATCH ID</th>\n",
       "      <th>MATCH NO</th>\n",
       "      <th>DATE</th>\n",
       "      <th>TIME</th>\n",
       "      <th>HOME TEAM</th>\n",
       "      <th>AWAY TEAM</th>\n",
       "      <th>VENUE</th>\n",
       "    </tr>\n",
       "  </thead>\n",
       "  <tbody>\n",
       "    <tr>\n",
       "      <th>0</th>\n",
       "      <td>1304047</td>\n",
       "      <td>1st</td>\n",
       "      <td>2022-03-26</td>\n",
       "      <td>19:30:00</td>\n",
       "      <td>Chennai Super Kings</td>\n",
       "      <td>Kolkata Knight Riders</td>\n",
       "      <td>Wankhede Stadium</td>\n",
       "    </tr>\n",
       "    <tr>\n",
       "      <th>1</th>\n",
       "      <td>1304048</td>\n",
       "      <td>2nd</td>\n",
       "      <td>2022-03-27</td>\n",
       "      <td>15:30:00</td>\n",
       "      <td>Delhi Capitals</td>\n",
       "      <td>Mumbai Indians</td>\n",
       "      <td>Brabourne - CCI</td>\n",
       "    </tr>\n",
       "    <tr>\n",
       "      <th>2</th>\n",
       "      <td>1304049</td>\n",
       "      <td>3rd</td>\n",
       "      <td>2022-03-27</td>\n",
       "      <td>19:30:00</td>\n",
       "      <td>Punjab Kings</td>\n",
       "      <td>Royal Challengers Bangalore</td>\n",
       "      <td>DY Patil Stadium</td>\n",
       "    </tr>\n",
       "    <tr>\n",
       "      <th>3</th>\n",
       "      <td>1304050</td>\n",
       "      <td>4th</td>\n",
       "      <td>2022-03-28</td>\n",
       "      <td>19:30:00</td>\n",
       "      <td>Gujarat Titans</td>\n",
       "      <td>Lucknow Super Giants</td>\n",
       "      <td>Wankhede Stadium</td>\n",
       "    </tr>\n",
       "    <tr>\n",
       "      <th>4</th>\n",
       "      <td>1304051</td>\n",
       "      <td>5th</td>\n",
       "      <td>2022-03-29</td>\n",
       "      <td>19:30:00</td>\n",
       "      <td>Sunrisers Hyderabad</td>\n",
       "      <td>Rajasthan Royals</td>\n",
       "      <td>MCA Stadium, Pune</td>\n",
       "    </tr>\n",
       "  </tbody>\n",
       "</table>\n",
       "</div>"
      ],
      "text/plain": [
       "   MATCH ID MATCH NO       DATE      TIME            HOME TEAM  \\\n",
       "0   1304047      1st 2022-03-26  19:30:00  Chennai Super Kings   \n",
       "1   1304048      2nd 2022-03-27  15:30:00       Delhi Capitals   \n",
       "2   1304049      3rd 2022-03-27  19:30:00         Punjab Kings   \n",
       "3   1304050      4th 2022-03-28  19:30:00       Gujarat Titans   \n",
       "4   1304051      5th 2022-03-29  19:30:00  Sunrisers Hyderabad   \n",
       "\n",
       "                     AWAY TEAM              VENUE  \n",
       "0        Kolkata Knight Riders   Wankhede Stadium  \n",
       "1               Mumbai Indians    Brabourne - CCI  \n",
       "2  Royal Challengers Bangalore   DY Patil Stadium  \n",
       "3         Lucknow Super Giants   Wankhede Stadium  \n",
       "4             Rajasthan Royals  MCA Stadium, Pune  "
      ]
     },
     "execution_count": 3,
     "metadata": {},
     "output_type": "execute_result"
    }
   ],
   "source": [
    "df.head()"
   ]
  },
  {
   "cell_type": "code",
   "execution_count": 4,
   "id": "ff525424",
   "metadata": {
    "ExecuteTime": {
     "end_time": "2022-03-07T06:22:10.107364Z",
     "start_time": "2022-03-07T06:22:10.097368Z"
    }
   },
   "outputs": [],
   "source": [
    "home_team_processed, away_team_processed = [], []\n",
    "for i in df['HOME TEAM']:\n",
    "    home_team_processed.append('-'.join(i.lower().split()))\n",
    "df['home_team_processed'] = home_team_processed\n",
    "for i in df['AWAY TEAM']:\n",
    "    away_team_processed.append('-'.join(i.lower().split()))\n",
    "df['away_team_processed'] = away_team_processed"
   ]
  },
  {
   "cell_type": "code",
   "execution_count": 5,
   "id": "217503ae",
   "metadata": {
    "ExecuteTime": {
     "end_time": "2022-03-07T06:22:10.986753Z",
     "start_time": "2022-03-07T06:22:10.953691Z"
    }
   },
   "outputs": [
    {
     "data": {
      "text/html": [
       "<div>\n",
       "<style scoped>\n",
       "    .dataframe tbody tr th:only-of-type {\n",
       "        vertical-align: middle;\n",
       "    }\n",
       "\n",
       "    .dataframe tbody tr th {\n",
       "        vertical-align: top;\n",
       "    }\n",
       "\n",
       "    .dataframe thead th {\n",
       "        text-align: right;\n",
       "    }\n",
       "</style>\n",
       "<table border=\"1\" class=\"dataframe\">\n",
       "  <thead>\n",
       "    <tr style=\"text-align: right;\">\n",
       "      <th></th>\n",
       "      <th>MATCH ID</th>\n",
       "      <th>MATCH NO</th>\n",
       "      <th>DATE</th>\n",
       "      <th>TIME</th>\n",
       "      <th>HOME TEAM</th>\n",
       "      <th>AWAY TEAM</th>\n",
       "      <th>VENUE</th>\n",
       "      <th>home_team_processed</th>\n",
       "      <th>away_team_processed</th>\n",
       "    </tr>\n",
       "  </thead>\n",
       "  <tbody>\n",
       "    <tr>\n",
       "      <th>0</th>\n",
       "      <td>1304047</td>\n",
       "      <td>1st</td>\n",
       "      <td>2022-03-26</td>\n",
       "      <td>19:30:00</td>\n",
       "      <td>Chennai Super Kings</td>\n",
       "      <td>Kolkata Knight Riders</td>\n",
       "      <td>Wankhede Stadium</td>\n",
       "      <td>chennai-super-kings</td>\n",
       "      <td>kolkata-knight-riders</td>\n",
       "    </tr>\n",
       "    <tr>\n",
       "      <th>1</th>\n",
       "      <td>1304048</td>\n",
       "      <td>2nd</td>\n",
       "      <td>2022-03-27</td>\n",
       "      <td>15:30:00</td>\n",
       "      <td>Delhi Capitals</td>\n",
       "      <td>Mumbai Indians</td>\n",
       "      <td>Brabourne - CCI</td>\n",
       "      <td>delhi-capitals</td>\n",
       "      <td>mumbai-indians</td>\n",
       "    </tr>\n",
       "    <tr>\n",
       "      <th>2</th>\n",
       "      <td>1304049</td>\n",
       "      <td>3rd</td>\n",
       "      <td>2022-03-27</td>\n",
       "      <td>19:30:00</td>\n",
       "      <td>Punjab Kings</td>\n",
       "      <td>Royal Challengers Bangalore</td>\n",
       "      <td>DY Patil Stadium</td>\n",
       "      <td>punjab-kings</td>\n",
       "      <td>royal-challengers-bangalore</td>\n",
       "    </tr>\n",
       "    <tr>\n",
       "      <th>3</th>\n",
       "      <td>1304050</td>\n",
       "      <td>4th</td>\n",
       "      <td>2022-03-28</td>\n",
       "      <td>19:30:00</td>\n",
       "      <td>Gujarat Titans</td>\n",
       "      <td>Lucknow Super Giants</td>\n",
       "      <td>Wankhede Stadium</td>\n",
       "      <td>gujarat-titans</td>\n",
       "      <td>lucknow-super-giants</td>\n",
       "    </tr>\n",
       "    <tr>\n",
       "      <th>4</th>\n",
       "      <td>1304051</td>\n",
       "      <td>5th</td>\n",
       "      <td>2022-03-29</td>\n",
       "      <td>19:30:00</td>\n",
       "      <td>Sunrisers Hyderabad</td>\n",
       "      <td>Rajasthan Royals</td>\n",
       "      <td>MCA Stadium, Pune</td>\n",
       "      <td>sunrisers-hyderabad</td>\n",
       "      <td>rajasthan-royals</td>\n",
       "    </tr>\n",
       "  </tbody>\n",
       "</table>\n",
       "</div>"
      ],
      "text/plain": [
       "   MATCH ID MATCH NO       DATE      TIME            HOME TEAM  \\\n",
       "0   1304047      1st 2022-03-26  19:30:00  Chennai Super Kings   \n",
       "1   1304048      2nd 2022-03-27  15:30:00       Delhi Capitals   \n",
       "2   1304049      3rd 2022-03-27  19:30:00         Punjab Kings   \n",
       "3   1304050      4th 2022-03-28  19:30:00       Gujarat Titans   \n",
       "4   1304051      5th 2022-03-29  19:30:00  Sunrisers Hyderabad   \n",
       "\n",
       "                     AWAY TEAM              VENUE  home_team_processed  \\\n",
       "0        Kolkata Knight Riders   Wankhede Stadium  chennai-super-kings   \n",
       "1               Mumbai Indians    Brabourne - CCI       delhi-capitals   \n",
       "2  Royal Challengers Bangalore   DY Patil Stadium         punjab-kings   \n",
       "3         Lucknow Super Giants   Wankhede Stadium       gujarat-titans   \n",
       "4             Rajasthan Royals  MCA Stadium, Pune  sunrisers-hyderabad   \n",
       "\n",
       "           away_team_processed  \n",
       "0        kolkata-knight-riders  \n",
       "1               mumbai-indians  \n",
       "2  royal-challengers-bangalore  \n",
       "3         lucknow-super-giants  \n",
       "4             rajasthan-royals  "
      ]
     },
     "execution_count": 5,
     "metadata": {},
     "output_type": "execute_result"
    }
   ],
   "source": [
    "df.head()"
   ]
  },
  {
   "cell_type": "code",
   "execution_count": 6,
   "id": "1244644a",
   "metadata": {
    "ExecuteTime": {
     "end_time": "2022-03-07T06:22:13.791633Z",
     "start_time": "2022-03-07T06:22:13.774702Z"
    }
   },
   "outputs": [],
   "source": [
    "url = []\n",
    "for i in df.index:\n",
    "    url.append('https://www.espncricinfo.com/series/indian-premier-league-2022-1298423/' + str(df['home_team_processed'][i]) + '-vs-' + str(df['away_team_processed'][i]) + '-' + str(df['MATCH NO'][i]) + '-match-' + str(df['MATCH ID'][i]) + '/live-cricket-score')\n",
    "df['URL'] = url"
   ]
  },
  {
   "cell_type": "code",
   "execution_count": 7,
   "id": "53798eb0",
   "metadata": {
    "ExecuteTime": {
     "end_time": "2022-03-07T06:22:14.676856Z",
     "start_time": "2022-03-07T06:22:14.653269Z"
    }
   },
   "outputs": [
    {
     "data": {
      "text/html": [
       "<div>\n",
       "<style scoped>\n",
       "    .dataframe tbody tr th:only-of-type {\n",
       "        vertical-align: middle;\n",
       "    }\n",
       "\n",
       "    .dataframe tbody tr th {\n",
       "        vertical-align: top;\n",
       "    }\n",
       "\n",
       "    .dataframe thead th {\n",
       "        text-align: right;\n",
       "    }\n",
       "</style>\n",
       "<table border=\"1\" class=\"dataframe\">\n",
       "  <thead>\n",
       "    <tr style=\"text-align: right;\">\n",
       "      <th></th>\n",
       "      <th>MATCH ID</th>\n",
       "      <th>MATCH NO</th>\n",
       "      <th>DATE</th>\n",
       "      <th>TIME</th>\n",
       "      <th>HOME TEAM</th>\n",
       "      <th>AWAY TEAM</th>\n",
       "      <th>VENUE</th>\n",
       "      <th>home_team_processed</th>\n",
       "      <th>away_team_processed</th>\n",
       "      <th>URL</th>\n",
       "    </tr>\n",
       "  </thead>\n",
       "  <tbody>\n",
       "    <tr>\n",
       "      <th>0</th>\n",
       "      <td>1304047</td>\n",
       "      <td>1st</td>\n",
       "      <td>2022-03-26</td>\n",
       "      <td>19:30:00</td>\n",
       "      <td>Chennai Super Kings</td>\n",
       "      <td>Kolkata Knight Riders</td>\n",
       "      <td>Wankhede Stadium</td>\n",
       "      <td>chennai-super-kings</td>\n",
       "      <td>kolkata-knight-riders</td>\n",
       "      <td>https://www.espncricinfo.com/series/indian-pre...</td>\n",
       "    </tr>\n",
       "    <tr>\n",
       "      <th>1</th>\n",
       "      <td>1304048</td>\n",
       "      <td>2nd</td>\n",
       "      <td>2022-03-27</td>\n",
       "      <td>15:30:00</td>\n",
       "      <td>Delhi Capitals</td>\n",
       "      <td>Mumbai Indians</td>\n",
       "      <td>Brabourne - CCI</td>\n",
       "      <td>delhi-capitals</td>\n",
       "      <td>mumbai-indians</td>\n",
       "      <td>https://www.espncricinfo.com/series/indian-pre...</td>\n",
       "    </tr>\n",
       "    <tr>\n",
       "      <th>2</th>\n",
       "      <td>1304049</td>\n",
       "      <td>3rd</td>\n",
       "      <td>2022-03-27</td>\n",
       "      <td>19:30:00</td>\n",
       "      <td>Punjab Kings</td>\n",
       "      <td>Royal Challengers Bangalore</td>\n",
       "      <td>DY Patil Stadium</td>\n",
       "      <td>punjab-kings</td>\n",
       "      <td>royal-challengers-bangalore</td>\n",
       "      <td>https://www.espncricinfo.com/series/indian-pre...</td>\n",
       "    </tr>\n",
       "    <tr>\n",
       "      <th>3</th>\n",
       "      <td>1304050</td>\n",
       "      <td>4th</td>\n",
       "      <td>2022-03-28</td>\n",
       "      <td>19:30:00</td>\n",
       "      <td>Gujarat Titans</td>\n",
       "      <td>Lucknow Super Giants</td>\n",
       "      <td>Wankhede Stadium</td>\n",
       "      <td>gujarat-titans</td>\n",
       "      <td>lucknow-super-giants</td>\n",
       "      <td>https://www.espncricinfo.com/series/indian-pre...</td>\n",
       "    </tr>\n",
       "    <tr>\n",
       "      <th>4</th>\n",
       "      <td>1304051</td>\n",
       "      <td>5th</td>\n",
       "      <td>2022-03-29</td>\n",
       "      <td>19:30:00</td>\n",
       "      <td>Sunrisers Hyderabad</td>\n",
       "      <td>Rajasthan Royals</td>\n",
       "      <td>MCA Stadium, Pune</td>\n",
       "      <td>sunrisers-hyderabad</td>\n",
       "      <td>rajasthan-royals</td>\n",
       "      <td>https://www.espncricinfo.com/series/indian-pre...</td>\n",
       "    </tr>\n",
       "  </tbody>\n",
       "</table>\n",
       "</div>"
      ],
      "text/plain": [
       "   MATCH ID MATCH NO       DATE      TIME            HOME TEAM  \\\n",
       "0   1304047      1st 2022-03-26  19:30:00  Chennai Super Kings   \n",
       "1   1304048      2nd 2022-03-27  15:30:00       Delhi Capitals   \n",
       "2   1304049      3rd 2022-03-27  19:30:00         Punjab Kings   \n",
       "3   1304050      4th 2022-03-28  19:30:00       Gujarat Titans   \n",
       "4   1304051      5th 2022-03-29  19:30:00  Sunrisers Hyderabad   \n",
       "\n",
       "                     AWAY TEAM              VENUE  home_team_processed  \\\n",
       "0        Kolkata Knight Riders   Wankhede Stadium  chennai-super-kings   \n",
       "1               Mumbai Indians    Brabourne - CCI       delhi-capitals   \n",
       "2  Royal Challengers Bangalore   DY Patil Stadium         punjab-kings   \n",
       "3         Lucknow Super Giants   Wankhede Stadium       gujarat-titans   \n",
       "4             Rajasthan Royals  MCA Stadium, Pune  sunrisers-hyderabad   \n",
       "\n",
       "           away_team_processed  \\\n",
       "0        kolkata-knight-riders   \n",
       "1               mumbai-indians   \n",
       "2  royal-challengers-bangalore   \n",
       "3         lucknow-super-giants   \n",
       "4             rajasthan-royals   \n",
       "\n",
       "                                                 URL  \n",
       "0  https://www.espncricinfo.com/series/indian-pre...  \n",
       "1  https://www.espncricinfo.com/series/indian-pre...  \n",
       "2  https://www.espncricinfo.com/series/indian-pre...  \n",
       "3  https://www.espncricinfo.com/series/indian-pre...  \n",
       "4  https://www.espncricinfo.com/series/indian-pre...  "
      ]
     },
     "execution_count": 7,
     "metadata": {},
     "output_type": "execute_result"
    }
   ],
   "source": [
    "df.head()"
   ]
  },
  {
   "cell_type": "code",
   "execution_count": 8,
   "id": "2c59cda2",
   "metadata": {
    "ExecuteTime": {
     "end_time": "2022-03-07T06:22:29.667741Z",
     "start_time": "2022-03-07T06:22:29.643846Z"
    }
   },
   "outputs": [
    {
     "data": {
      "text/plain": [
       "Index(['MATCH ID', 'MATCH NO', 'DATE', 'TIME', 'HOME TEAM', 'AWAY TEAM',\n",
       "       'VENUE', 'home_team_processed', 'away_team_processed', 'URL'],\n",
       "      dtype='object')"
      ]
     },
     "execution_count": 8,
     "metadata": {},
     "output_type": "execute_result"
    }
   ],
   "source": [
    "df.columns"
   ]
  },
  {
   "cell_type": "code",
   "execution_count": 9,
   "id": "fbeb8829",
   "metadata": {
    "ExecuteTime": {
     "end_time": "2022-03-07T06:22:55.424356Z",
     "start_time": "2022-03-07T06:22:55.385508Z"
    }
   },
   "outputs": [],
   "source": [
    "df = df[['MATCH ID', 'MATCH NO', 'DATE', 'TIME', 'HOME TEAM', 'AWAY TEAM', 'VENUE', 'URL']]"
   ]
  },
  {
   "cell_type": "code",
   "execution_count": 10,
   "id": "0974b86f",
   "metadata": {
    "ExecuteTime": {
     "end_time": "2022-03-07T06:23:00.100976Z",
     "start_time": "2022-03-07T06:23:00.076807Z"
    }
   },
   "outputs": [
    {
     "data": {
      "text/html": [
       "<div>\n",
       "<style scoped>\n",
       "    .dataframe tbody tr th:only-of-type {\n",
       "        vertical-align: middle;\n",
       "    }\n",
       "\n",
       "    .dataframe tbody tr th {\n",
       "        vertical-align: top;\n",
       "    }\n",
       "\n",
       "    .dataframe thead th {\n",
       "        text-align: right;\n",
       "    }\n",
       "</style>\n",
       "<table border=\"1\" class=\"dataframe\">\n",
       "  <thead>\n",
       "    <tr style=\"text-align: right;\">\n",
       "      <th></th>\n",
       "      <th>MATCH ID</th>\n",
       "      <th>MATCH NO</th>\n",
       "      <th>DATE</th>\n",
       "      <th>TIME</th>\n",
       "      <th>HOME TEAM</th>\n",
       "      <th>AWAY TEAM</th>\n",
       "      <th>VENUE</th>\n",
       "      <th>URL</th>\n",
       "    </tr>\n",
       "  </thead>\n",
       "  <tbody>\n",
       "    <tr>\n",
       "      <th>0</th>\n",
       "      <td>1304047</td>\n",
       "      <td>1st</td>\n",
       "      <td>2022-03-26</td>\n",
       "      <td>19:30:00</td>\n",
       "      <td>Chennai Super Kings</td>\n",
       "      <td>Kolkata Knight Riders</td>\n",
       "      <td>Wankhede Stadium</td>\n",
       "      <td>https://www.espncricinfo.com/series/indian-pre...</td>\n",
       "    </tr>\n",
       "    <tr>\n",
       "      <th>1</th>\n",
       "      <td>1304048</td>\n",
       "      <td>2nd</td>\n",
       "      <td>2022-03-27</td>\n",
       "      <td>15:30:00</td>\n",
       "      <td>Delhi Capitals</td>\n",
       "      <td>Mumbai Indians</td>\n",
       "      <td>Brabourne - CCI</td>\n",
       "      <td>https://www.espncricinfo.com/series/indian-pre...</td>\n",
       "    </tr>\n",
       "    <tr>\n",
       "      <th>2</th>\n",
       "      <td>1304049</td>\n",
       "      <td>3rd</td>\n",
       "      <td>2022-03-27</td>\n",
       "      <td>19:30:00</td>\n",
       "      <td>Punjab Kings</td>\n",
       "      <td>Royal Challengers Bangalore</td>\n",
       "      <td>DY Patil Stadium</td>\n",
       "      <td>https://www.espncricinfo.com/series/indian-pre...</td>\n",
       "    </tr>\n",
       "    <tr>\n",
       "      <th>3</th>\n",
       "      <td>1304050</td>\n",
       "      <td>4th</td>\n",
       "      <td>2022-03-28</td>\n",
       "      <td>19:30:00</td>\n",
       "      <td>Gujarat Titans</td>\n",
       "      <td>Lucknow Super Giants</td>\n",
       "      <td>Wankhede Stadium</td>\n",
       "      <td>https://www.espncricinfo.com/series/indian-pre...</td>\n",
       "    </tr>\n",
       "    <tr>\n",
       "      <th>4</th>\n",
       "      <td>1304051</td>\n",
       "      <td>5th</td>\n",
       "      <td>2022-03-29</td>\n",
       "      <td>19:30:00</td>\n",
       "      <td>Sunrisers Hyderabad</td>\n",
       "      <td>Rajasthan Royals</td>\n",
       "      <td>MCA Stadium, Pune</td>\n",
       "      <td>https://www.espncricinfo.com/series/indian-pre...</td>\n",
       "    </tr>\n",
       "  </tbody>\n",
       "</table>\n",
       "</div>"
      ],
      "text/plain": [
       "   MATCH ID MATCH NO       DATE      TIME            HOME TEAM  \\\n",
       "0   1304047      1st 2022-03-26  19:30:00  Chennai Super Kings   \n",
       "1   1304048      2nd 2022-03-27  15:30:00       Delhi Capitals   \n",
       "2   1304049      3rd 2022-03-27  19:30:00         Punjab Kings   \n",
       "3   1304050      4th 2022-03-28  19:30:00       Gujarat Titans   \n",
       "4   1304051      5th 2022-03-29  19:30:00  Sunrisers Hyderabad   \n",
       "\n",
       "                     AWAY TEAM              VENUE  \\\n",
       "0        Kolkata Knight Riders   Wankhede Stadium   \n",
       "1               Mumbai Indians    Brabourne - CCI   \n",
       "2  Royal Challengers Bangalore   DY Patil Stadium   \n",
       "3         Lucknow Super Giants   Wankhede Stadium   \n",
       "4             Rajasthan Royals  MCA Stadium, Pune   \n",
       "\n",
       "                                                 URL  \n",
       "0  https://www.espncricinfo.com/series/indian-pre...  \n",
       "1  https://www.espncricinfo.com/series/indian-pre...  \n",
       "2  https://www.espncricinfo.com/series/indian-pre...  \n",
       "3  https://www.espncricinfo.com/series/indian-pre...  \n",
       "4  https://www.espncricinfo.com/series/indian-pre...  "
      ]
     },
     "execution_count": 10,
     "metadata": {},
     "output_type": "execute_result"
    }
   ],
   "source": [
    "df.head()"
   ]
  },
  {
   "cell_type": "code",
   "execution_count": 11,
   "id": "c595ec9e",
   "metadata": {
    "ExecuteTime": {
     "end_time": "2022-03-07T06:23:09.103462Z",
     "start_time": "2022-03-07T06:23:08.976086Z"
    }
   },
   "outputs": [],
   "source": [
    "df.to_excel('Fixtures.xlsx', index = None)"
   ]
  },
  {
   "cell_type": "code",
   "execution_count": null,
   "id": "4693a62d",
   "metadata": {},
   "outputs": [],
   "source": []
  },
  {
   "cell_type": "code",
   "execution_count": null,
   "id": "c5873155",
   "metadata": {},
   "outputs": [],
   "source": []
  }
 ],
 "metadata": {
  "kernelspec": {
   "display_name": "Python 3 (ipykernel)",
   "language": "python",
   "name": "python3"
  },
  "language_info": {
   "codemirror_mode": {
    "name": "ipython",
    "version": 3
   },
   "file_extension": ".py",
   "mimetype": "text/x-python",
   "name": "python",
   "nbconvert_exporter": "python",
   "pygments_lexer": "ipython3",
   "version": "3.9.7"
  }
 },
 "nbformat": 4,
 "nbformat_minor": 5
}
