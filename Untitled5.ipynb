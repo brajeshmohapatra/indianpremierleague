{
 "cells": [
  {
   "cell_type": "code",
   "execution_count": 1,
   "id": "604deb8f",
   "metadata": {
    "ExecuteTime": {
     "end_time": "2022-03-31T12:35:56.966903Z",
     "start_time": "2022-03-31T12:35:56.583824Z"
    }
   },
   "outputs": [],
   "source": [
    "import matplotlib.pyplot as plt\n",
    "from datetime import date, datetime"
   ]
  },
  {
   "cell_type": "code",
   "execution_count": 2,
   "id": "8e76c0e6",
   "metadata": {
    "ExecuteTime": {
     "end_time": "2022-03-31T12:35:56.982854Z",
     "start_time": "2022-03-31T12:35:56.966903Z"
    }
   },
   "outputs": [
    {
     "data": {
      "text/plain": [
       "<Figure size 432x288 with 0 Axes>"
      ]
     },
     "metadata": {},
     "output_type": "display_data"
    }
   ],
   "source": [
    "fig = plt.figure()"
   ]
  },
  {
   "cell_type": "code",
   "execution_count": 3,
   "id": "a98ffc8c",
   "metadata": {
    "ExecuteTime": {
     "end_time": "2022-03-31T12:35:56.998488Z",
     "start_time": "2022-03-31T12:35:56.983849Z"
    }
   },
   "outputs": [],
   "source": [
    "plt.show()"
   ]
  },
  {
   "cell_type": "code",
   "execution_count": 4,
   "id": "04061dec",
   "metadata": {
    "ExecuteTime": {
     "end_time": "2022-03-31T12:35:57.014338Z",
     "start_time": "2022-03-31T12:35:57.000495Z"
    }
   },
   "outputs": [],
   "source": [
    "columns = ['batting_team_Chennai_Super_Kings', 'batting_team_Deccan_Chargers', 'batting_team_Delhi_Capitals', 'batting_team_Gujarat_Lions', 'batting_team_Kochi_Tuskers_Kerala', 'batting_team_Kolkata_Knight_Riders', 'batting_team_Mumbai_Indians', 'batting_team_Pune_Warriors', 'batting_team_Punjab_Kings', 'batting_team_Rajasthan_Royals', 'batting_team_Rising_Pune_Supergiant', 'batting_team_Royal_Challengers_Bangalore', 'batting_team_Sunrisers_Hyderabad', 'bowling_team_Chennai_Super_Kings', 'bowling_team_Deccan_Chargers', 'bowling_team_Delhi_Capitals', 'bowling_team_Gujarat_Lions', 'bowling_team_Kochi_Tuskers_Kerala', 'bowling_team_Kolkata_Knight_Riders', 'bowling_team_Mumbai_Indians', 'bowling_team_Pune_Warriors', 'bowling_team_Punjab_Kings', 'bowling_team_Rajasthan_Royals', 'bowling_team_Rising_Pune_Supergiant', 'bowling_team_Royal_Challengers_Bangalore', 'bowling_team_Sunrisers_Hyderabad', 'toss_decision_bat', 'toss_decision_field', 'venue_Arun_Jaitley_Stadium', 'venue_Barabati_Stadium', 'venue_Brabourne_Stadium', 'venue_Buffalo_Park', 'venue_De_Beers_Diamond_Oval', 'venue_Dr_DY_Patil_Sports_Academy', 'venue_Dr_YS_Rajasekhara_Reddy_ACA_VDCA_Cricket_Stadium', 'venue_Dubai_International_Cricket_Stadium', 'venue_Eden_Gardens', 'venue_Green_Park', 'venue_Himachal_Pradesh_Cricket_Association_Stadium', 'venue_Holkar_Cricket_Stadium', 'venue_JSCA_International_Stadium_Complex', 'venue_Kingsmead', 'venue_M_Chinnaswamy_Stadium', 'venue_MA_Chidambaram_Stadium', 'venue_Maharashtra_Cricket_Association_Stadium', 'venue_Narendra_Modi_Stadium', 'venue_Nehru_Stadium', 'venue_New_Wanderers_Stadium', 'venue_Newlands', 'venue_OUTsurance_Oval', 'venue_Punjab_Cricket_Association_IS_Bindra_Stadium', 'venue_Rajiv_Gandhi_International_Stadium', 'venue_Saurashtra_Cricket_Association_Stadium', 'venue_Sawai_Mansingh_Stadium', 'venue_Shaheed_Veer_Narayan_Singh_International_Stadium', 'venue_Sharjah_Cricket_Stadium', 'venue_Sheikh_Zayed_Stadium', 'venue_St_George\\'s_Park', 'venue_SuperSport_Park', 'venue_Vidarbha_Cricket_Association_Stadium', 'venue_Wankhede_Stadium', 'overs', 'balls', 'runs', 'wickets', 'runs_last_5_overs', 'wickets_last_5_overs', 'balls_remaining', 'playoff', 'knockout', 'final']"
   ]
  },
  {
   "cell_type": "code",
   "execution_count": 5,
   "id": "733b7ab6",
   "metadata": {
    "ExecuteTime": {
     "end_time": "2022-03-31T12:35:57.030351Z",
     "start_time": "2022-03-31T12:35:57.016348Z"
    }
   },
   "outputs": [
    {
     "data": {
      "text/plain": [
       "71"
      ]
     },
     "execution_count": 5,
     "metadata": {},
     "output_type": "execute_result"
    }
   ],
   "source": [
    "len(columns)"
   ]
  },
  {
   "cell_type": "code",
   "execution_count": 6,
   "id": "7ddeb329",
   "metadata": {
    "ExecuteTime": {
     "end_time": "2022-03-31T12:35:57.278219Z",
     "start_time": "2022-03-31T12:35:57.268207Z"
    }
   },
   "outputs": [],
   "source": [
    "prediction = [1] * 35"
   ]
  },
  {
   "cell_type": "code",
   "execution_count": 7,
   "id": "1ac0a150",
   "metadata": {
    "ExecuteTime": {
     "end_time": "2022-03-31T12:35:57.935306Z",
     "start_time": "2022-03-31T12:35:57.919676Z"
    }
   },
   "outputs": [],
   "source": [
    "prediction = prediction + [0] * 35"
   ]
  },
  {
   "cell_type": "code",
   "execution_count": 8,
   "id": "12caced7",
   "metadata": {
    "ExecuteTime": {
     "end_time": "2022-03-31T12:35:59.059388Z",
     "start_time": "2022-03-31T12:35:59.048387Z"
    }
   },
   "outputs": [],
   "source": [
    "prediction = prediction + [10]"
   ]
  },
  {
   "cell_type": "code",
   "execution_count": 9,
   "id": "84859414",
   "metadata": {
    "ExecuteTime": {
     "end_time": "2022-03-31T12:35:59.293010Z",
     "start_time": "2022-03-31T12:35:59.289014Z"
    }
   },
   "outputs": [],
   "source": [
    "df = {}\n",
    "for i in range(len(columns)):\n",
    "    df[columns[i]] = prediction[i]"
   ]
  },
  {
   "cell_type": "code",
   "execution_count": 10,
   "id": "35414121",
   "metadata": {
    "ExecuteTime": {
     "end_time": "2022-03-31T12:35:59.784063Z",
     "start_time": "2022-03-31T12:35:59.488786Z"
    }
   },
   "outputs": [],
   "source": [
    "import pandas as pd\n",
    "df = pd.DataFrame(df, index = [0])"
   ]
  },
  {
   "cell_type": "code",
   "execution_count": 11,
   "id": "1543b6cf",
   "metadata": {
    "ExecuteTime": {
     "end_time": "2022-03-31T12:36:00.269331Z",
     "start_time": "2022-03-31T12:36:00.250335Z"
    }
   },
   "outputs": [
    {
     "data": {
      "text/html": [
       "<div>\n",
       "<style scoped>\n",
       "    .dataframe tbody tr th:only-of-type {\n",
       "        vertical-align: middle;\n",
       "    }\n",
       "\n",
       "    .dataframe tbody tr th {\n",
       "        vertical-align: top;\n",
       "    }\n",
       "\n",
       "    .dataframe thead th {\n",
       "        text-align: right;\n",
       "    }\n",
       "</style>\n",
       "<table border=\"1\" class=\"dataframe\">\n",
       "  <thead>\n",
       "    <tr style=\"text-align: right;\">\n",
       "      <th></th>\n",
       "      <th>batting_team_Chennai_Super_Kings</th>\n",
       "      <th>batting_team_Deccan_Chargers</th>\n",
       "      <th>batting_team_Delhi_Capitals</th>\n",
       "      <th>batting_team_Gujarat_Lions</th>\n",
       "      <th>batting_team_Kochi_Tuskers_Kerala</th>\n",
       "      <th>batting_team_Kolkata_Knight_Riders</th>\n",
       "      <th>batting_team_Mumbai_Indians</th>\n",
       "      <th>batting_team_Pune_Warriors</th>\n",
       "      <th>batting_team_Punjab_Kings</th>\n",
       "      <th>batting_team_Rajasthan_Royals</th>\n",
       "      <th>...</th>\n",
       "      <th>overs</th>\n",
       "      <th>balls</th>\n",
       "      <th>runs</th>\n",
       "      <th>wickets</th>\n",
       "      <th>runs_last_5_overs</th>\n",
       "      <th>wickets_last_5_overs</th>\n",
       "      <th>balls_remaining</th>\n",
       "      <th>playoff</th>\n",
       "      <th>knockout</th>\n",
       "      <th>final</th>\n",
       "    </tr>\n",
       "  </thead>\n",
       "  <tbody>\n",
       "    <tr>\n",
       "      <th>0</th>\n",
       "      <td>1</td>\n",
       "      <td>1</td>\n",
       "      <td>1</td>\n",
       "      <td>1</td>\n",
       "      <td>1</td>\n",
       "      <td>1</td>\n",
       "      <td>1</td>\n",
       "      <td>1</td>\n",
       "      <td>1</td>\n",
       "      <td>1</td>\n",
       "      <td>...</td>\n",
       "      <td>0</td>\n",
       "      <td>0</td>\n",
       "      <td>0</td>\n",
       "      <td>0</td>\n",
       "      <td>0</td>\n",
       "      <td>0</td>\n",
       "      <td>0</td>\n",
       "      <td>0</td>\n",
       "      <td>0</td>\n",
       "      <td>10</td>\n",
       "    </tr>\n",
       "  </tbody>\n",
       "</table>\n",
       "<p>1 rows × 71 columns</p>\n",
       "</div>"
      ],
      "text/plain": [
       "   batting_team_Chennai_Super_Kings  batting_team_Deccan_Chargers  \\\n",
       "0                                 1                             1   \n",
       "\n",
       "   batting_team_Delhi_Capitals  batting_team_Gujarat_Lions  \\\n",
       "0                            1                           1   \n",
       "\n",
       "   batting_team_Kochi_Tuskers_Kerala  batting_team_Kolkata_Knight_Riders  \\\n",
       "0                                  1                                   1   \n",
       "\n",
       "   batting_team_Mumbai_Indians  batting_team_Pune_Warriors  \\\n",
       "0                            1                           1   \n",
       "\n",
       "   batting_team_Punjab_Kings  batting_team_Rajasthan_Royals  ...  overs  \\\n",
       "0                          1                              1  ...      0   \n",
       "\n",
       "   balls  runs  wickets  runs_last_5_overs  wickets_last_5_overs  \\\n",
       "0      0     0        0                  0                     0   \n",
       "\n",
       "   balls_remaining  playoff  knockout  final  \n",
       "0                0        0         0     10  \n",
       "\n",
       "[1 rows x 71 columns]"
      ]
     },
     "execution_count": 11,
     "metadata": {},
     "output_type": "execute_result"
    }
   ],
   "source": [
    "df.head()"
   ]
  },
  {
   "cell_type": "code",
   "execution_count": null,
   "id": "99505c52",
   "metadata": {},
   "outputs": [],
   "source": []
  },
  {
   "cell_type": "code",
   "execution_count": null,
   "id": "8441de1d",
   "metadata": {},
   "outputs": [],
   "source": []
  },
  {
   "cell_type": "code",
   "execution_count": null,
   "id": "b06c4e57",
   "metadata": {},
   "outputs": [],
   "source": []
  },
  {
   "cell_type": "code",
   "execution_count": null,
   "id": "add58f56",
   "metadata": {},
   "outputs": [],
   "source": []
  },
  {
   "cell_type": "code",
   "execution_count": null,
   "id": "427a147b",
   "metadata": {},
   "outputs": [],
   "source": []
  },
  {
   "cell_type": "code",
   "execution_count": null,
   "id": "6dce7fef",
   "metadata": {},
   "outputs": [],
   "source": []
  },
  {
   "cell_type": "code",
   "execution_count": 26,
   "id": "f4271ab9",
   "metadata": {
    "ExecuteTime": {
     "end_time": "2022-03-31T06:59:14.720014Z",
     "start_time": "2022-03-31T06:59:14.709323Z"
    }
   },
   "outputs": [],
   "source": [
    "color_codes = {'Chennai Super Kings' : '#EBF743', 'Delhi Capitals' : '#43A0F7', 'Gujarat Titans' : '#1C4062', \n",
    "               'Kolkata Knight Riders' : '#430F5A', 'Lucknow Super Giants' : '#00FFD0', 'Mumbai Indians' : '#2532C1', \n",
    "               'Punjab Kings' : '#E11D1D', 'Rajasthan Royals' : '#FFA3EE', 'Royal Challengers Bangalore' : '#840404', \n",
    "               'Sunrisers Hyderabad' : '#FF6600'}"
   ]
  },
  {
   "cell_type": "code",
   "execution_count": 30,
   "id": "4ad280ba",
   "metadata": {
    "ExecuteTime": {
     "end_time": "2022-03-31T06:59:36.313222Z",
     "start_time": "2022-03-31T06:59:36.297644Z"
    }
   },
   "outputs": [],
   "source": [
    "teams = ['Punjab Kings', 'Sunrisers Hyderabad']\n",
    "percentage = [50, 25]\n",
    "explode = (0.01, 0.01)\n",
    "colors = [color_codes[key] for key in color_codes if key in teams]"
   ]
  },
  {
   "cell_type": "code",
   "execution_count": 31,
   "id": "02b41925",
   "metadata": {
    "ExecuteTime": {
     "end_time": "2022-03-31T06:59:36.811352Z",
     "start_time": "2022-03-31T06:59:36.795679Z"
    }
   },
   "outputs": [
    {
     "data": {
      "text/plain": [
       "['#E11D1D', '#FF6600']"
      ]
     },
     "execution_count": 31,
     "metadata": {},
     "output_type": "execute_result"
    }
   ],
   "source": [
    "colors"
   ]
  },
  {
   "cell_type": "code",
   "execution_count": 32,
   "id": "5d505ed6",
   "metadata": {
    "ExecuteTime": {
     "end_time": "2022-03-31T06:59:37.414437Z",
     "start_time": "2022-03-31T06:59:37.300383Z"
    }
   },
   "outputs": [
    {
     "data": {
      "text/plain": [
       "<matplotlib.patches.Circle at 0x16b65643df0>"
      ]
     },
     "execution_count": 32,
     "metadata": {},
     "output_type": "execute_result"
    },
    {
     "data": {
      "image/png": "[encoded data removed]",
      "text/plain": [
       "<Figure size 432x288 with 1 Axes>"
      ]
     },
     "metadata": {},
     "output_type": "display_data"
    }
   ],
   "source": [
    "plt.pie(percentage, labels = teams, colors = colors, autopct = '%1.0f%%', pctdistance = 1.5, explode = explode)\n",
    "centre_circle = plt.Circle((0, 0), 0.60, fc = 'white')\n",
    "fig = plt.gcf()\n",
    "fig.gca().add_artist(centre_circle)"
   ]
  },
  {
   "cell_type": "code",
   "execution_count": 14,
   "id": "675f586f",
   "metadata": {
    "ExecuteTime": {
     "end_time": "2022-03-28T15:12:23.997691Z",
     "start_time": "2022-03-28T15:12:23.989831Z"
    }
   },
   "outputs": [
    {
     "name": "stdout",
     "output_type": "stream",
     "text": [
      "Yes\n"
     ]
    }
   ],
   "source": [
    "if 'Mumbai Indians' in teams:\n",
    "    print('Yes')\n",
    "else:\n",
    "    print('No')"
   ]
  },
  {
   "cell_type": "code",
   "execution_count": 15,
   "id": "4fec840f",
   "metadata": {
    "ExecuteTime": {
     "end_time": "2022-03-28T15:14:16.051357Z",
     "start_time": "2022-03-28T15:14:16.035579Z"
    }
   },
   "outputs": [],
   "source": [
    "teams = ['CSK', 'DC', 'MI', 'LSG', 'GT', 'KKR', 'SRH', 'RCB', 'RR', 'PBKS']"
   ]
  },
  {
   "cell_type": "code",
   "execution_count": 17,
   "id": "0e4e7530",
   "metadata": {
    "ExecuteTime": {
     "end_time": "2022-03-28T15:15:30.568110Z",
     "start_time": "2022-03-28T15:15:30.213248Z"
    }
   },
   "outputs": [
    {
     "ename": "AttributeError",
     "evalue": "'list' object has no attribute 'isin'",
     "output_type": "error",
     "traceback": [
      "\u001b[1;31m---------------------------------------------------------------------------\u001b[0m",
      "\u001b[1;31mAttributeError\u001b[0m                            Traceback (most recent call last)",
      "\u001b[1;32m~\\AppData\\Local\\Temp/ipykernel_5580/4152046577.py\u001b[0m in \u001b[0;36m<module>\u001b[1;34m\u001b[0m\n\u001b[1;32m----> 1\u001b[1;33m \u001b[1;32mif\u001b[0m \u001b[1;33m~\u001b[0m\u001b[1;33m[\u001b[0m\u001b[1;34m'CSK'\u001b[0m\u001b[1;33m,\u001b[0m \u001b[1;34m'DC'\u001b[0m\u001b[1;33m]\u001b[0m\u001b[1;33m.\u001b[0m\u001b[0misin\u001b[0m\u001b[1;33m(\u001b[0m\u001b[0mteams\u001b[0m\u001b[1;33m)\u001b[0m\u001b[1;33m:\u001b[0m\u001b[1;33m\u001b[0m\u001b[1;33m\u001b[0m\u001b[0m\n\u001b[0m\u001b[0;32m      2\u001b[0m     \u001b[0mprint\u001b[0m\u001b[1;33m(\u001b[0m\u001b[1;34m'Yes'\u001b[0m\u001b[1;33m)\u001b[0m\u001b[1;33m\u001b[0m\u001b[1;33m\u001b[0m\u001b[0m\n\u001b[0;32m      3\u001b[0m \u001b[1;32melse\u001b[0m\u001b[1;33m:\u001b[0m\u001b[1;33m\u001b[0m\u001b[1;33m\u001b[0m\u001b[0m\n\u001b[0;32m      4\u001b[0m     \u001b[0mprint\u001b[0m\u001b[1;33m(\u001b[0m\u001b[1;34m'No'\u001b[0m\u001b[1;33m)\u001b[0m\u001b[1;33m\u001b[0m\u001b[1;33m\u001b[0m\u001b[0m\n",
      "\u001b[1;31mAttributeError\u001b[0m: 'list' object has no attribute 'isin'"
     ]
    }
   ],
   "source": [
    "if ~['CSK', 'DC'].isin(teams):\n",
    "    print('Yes')\n",
    "else:\n",
    "    print('No')"
   ]
  },
  {
   "cell_type": "code",
   "execution_count": null,
   "id": "e84913d6",
   "metadata": {},
   "outputs": [],
   "source": []
  }
 ],
 "metadata": {
  "kernelspec": {
   "display_name": "Python 3 (ipykernel)",
   "language": "python",
   "name": "python3"
  },
  "language_info": {
   "codemirror_mode": {
    "name": "ipython",
    "version": 3
   },
   "file_extension": ".py",
   "mimetype": "text/x-python",
   "name": "python",
   "nbconvert_exporter": "python",
   "pygments_lexer": "ipython3",
   "version": "3.9.7"
  }
 },
 "nbformat": 4,
 "nbformat_minor": 5
}
