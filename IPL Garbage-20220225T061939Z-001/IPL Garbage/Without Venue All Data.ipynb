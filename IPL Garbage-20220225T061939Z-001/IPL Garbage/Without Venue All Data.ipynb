{
 "cells": [
  {
   "cell_type": "code",
   "execution_count": 1,
   "metadata": {
    "ExecuteTime": {
     "end_time": "2021-04-10T13:38:59.434535Z",
     "start_time": "2021-04-10T13:38:57.778394Z"
    }
   },
   "outputs": [
    {
     "data": {
      "text/html": [
       "<style>.container{width : 100% ! important;}</style>"
      ],
      "text/plain": [
       "<IPython.core.display.HTML object>"
      ]
     },
     "metadata": {},
     "output_type": "display_data"
    },
    {
     "name": "stdout",
     "output_type": "stream",
     "text": [
      "Libraries imported successfully!!\n"
     ]
    }
   ],
   "source": [
    "import warnings\n",
    "import numpy as np\n",
    "import pandas as pd\n",
    "import seaborn as sns\n",
    "import matplotlib.pyplot as plt\n",
    "from sklearn.svm import SVR\n",
    "from xgboost import XGBRegressor\n",
    "from datetime import date, datetime\n",
    "from sklearn.impute import SimpleImputer\n",
    "from IPython.core.display import display, HTML\n",
    "from sklearn.tree import DecisionTreeRegressor\n",
    "from sklearn.neighbors import KNeighborsRegressor\n",
    "from sklearn.preprocessing import StandardScaler, LabelEncoder\n",
    "from sklearn.linear_model import Lasso, LinearRegression, Ridge\n",
    "from sklearn.model_selection import RandomizedSearchCV, train_test_split\n",
    "from sklearn.metrics import r2_score, mean_squared_error, mean_absolute_error\n",
    "from sklearn.ensemble import RandomForestRegressor, AdaBoostRegressor, GradientBoostingRegressor\n",
    "%matplotlib inline\n",
    "warnings.filterwarnings('ignore')\n",
    "pd.pandas.set_option('display.max_rows', None)\n",
    "pd.pandas.set_option('display.max_columns', None)\n",
    "display(HTML('<style>.container{width : 100% ! important;}</style>'))\n",
    "print('Libraries imported successfully!!')"
   ]
  },
  {
   "cell_type": "code",
   "execution_count": 2,
   "metadata": {
    "ExecuteTime": {
     "end_time": "2021-04-10T13:38:59.593111Z",
     "start_time": "2021-04-10T13:38:59.435532Z"
    }
   },
   "outputs": [
    {
     "data": {
      "text/html": [
       "<div>\n",
       "<style scoped>\n",
       "    .dataframe tbody tr th:only-of-type {\n",
       "        vertical-align: middle;\n",
       "    }\n",
       "\n",
       "    .dataframe tbody tr th {\n",
       "        vertical-align: top;\n",
       "    }\n",
       "\n",
       "    .dataframe thead th {\n",
       "        text-align: right;\n",
       "    }\n",
       "</style>\n",
       "<table border=\"1\" class=\"dataframe\">\n",
       "  <thead>\n",
       "    <tr style=\"text-align: right;\">\n",
       "      <th></th>\n",
       "      <th>mid</th>\n",
       "      <th>date</th>\n",
       "      <th>venue</th>\n",
       "      <th>bat_team</th>\n",
       "      <th>bowl_team</th>\n",
       "      <th>batsman</th>\n",
       "      <th>bowler</th>\n",
       "      <th>runs</th>\n",
       "      <th>wickets</th>\n",
       "      <th>overs</th>\n",
       "      <th>runs_last_5</th>\n",
       "      <th>wickets_last_5</th>\n",
       "      <th>striker</th>\n",
       "      <th>non-striker</th>\n",
       "      <th>total</th>\n",
       "    </tr>\n",
       "  </thead>\n",
       "  <tbody>\n",
       "    <tr>\n",
       "      <th>0</th>\n",
       "      <td>1</td>\n",
       "      <td>18-04-2008</td>\n",
       "      <td>M Chinnaswamy Stadium</td>\n",
       "      <td>Kolkata Knight Riders</td>\n",
       "      <td>Royal Challengers Bangalore</td>\n",
       "      <td>SC Ganguly</td>\n",
       "      <td>P Kumar</td>\n",
       "      <td>1</td>\n",
       "      <td>0</td>\n",
       "      <td>0.1</td>\n",
       "      <td>1</td>\n",
       "      <td>0</td>\n",
       "      <td>0</td>\n",
       "      <td>0</td>\n",
       "      <td>222</td>\n",
       "    </tr>\n",
       "    <tr>\n",
       "      <th>1</th>\n",
       "      <td>1</td>\n",
       "      <td>18-04-2008</td>\n",
       "      <td>M Chinnaswamy Stadium</td>\n",
       "      <td>Kolkata Knight Riders</td>\n",
       "      <td>Royal Challengers Bangalore</td>\n",
       "      <td>BB McCullum</td>\n",
       "      <td>P Kumar</td>\n",
       "      <td>1</td>\n",
       "      <td>0</td>\n",
       "      <td>0.2</td>\n",
       "      <td>1</td>\n",
       "      <td>0</td>\n",
       "      <td>0</td>\n",
       "      <td>0</td>\n",
       "      <td>222</td>\n",
       "    </tr>\n",
       "    <tr>\n",
       "      <th>2</th>\n",
       "      <td>1</td>\n",
       "      <td>18-04-2008</td>\n",
       "      <td>M Chinnaswamy Stadium</td>\n",
       "      <td>Kolkata Knight Riders</td>\n",
       "      <td>Royal Challengers Bangalore</td>\n",
       "      <td>BB McCullum</td>\n",
       "      <td>P Kumar</td>\n",
       "      <td>2</td>\n",
       "      <td>0</td>\n",
       "      <td>0.2</td>\n",
       "      <td>2</td>\n",
       "      <td>0</td>\n",
       "      <td>0</td>\n",
       "      <td>0</td>\n",
       "      <td>222</td>\n",
       "    </tr>\n",
       "    <tr>\n",
       "      <th>3</th>\n",
       "      <td>1</td>\n",
       "      <td>18-04-2008</td>\n",
       "      <td>M Chinnaswamy Stadium</td>\n",
       "      <td>Kolkata Knight Riders</td>\n",
       "      <td>Royal Challengers Bangalore</td>\n",
       "      <td>BB McCullum</td>\n",
       "      <td>P Kumar</td>\n",
       "      <td>2</td>\n",
       "      <td>0</td>\n",
       "      <td>0.3</td>\n",
       "      <td>2</td>\n",
       "      <td>0</td>\n",
       "      <td>0</td>\n",
       "      <td>0</td>\n",
       "      <td>222</td>\n",
       "    </tr>\n",
       "    <tr>\n",
       "      <th>4</th>\n",
       "      <td>1</td>\n",
       "      <td>18-04-2008</td>\n",
       "      <td>M Chinnaswamy Stadium</td>\n",
       "      <td>Kolkata Knight Riders</td>\n",
       "      <td>Royal Challengers Bangalore</td>\n",
       "      <td>BB McCullum</td>\n",
       "      <td>P Kumar</td>\n",
       "      <td>2</td>\n",
       "      <td>0</td>\n",
       "      <td>0.4</td>\n",
       "      <td>2</td>\n",
       "      <td>0</td>\n",
       "      <td>0</td>\n",
       "      <td>0</td>\n",
       "      <td>222</td>\n",
       "    </tr>\n",
       "  </tbody>\n",
       "</table>\n",
       "</div>"
      ],
      "text/plain": [
       "   mid        date                  venue               bat_team  \\\n",
       "0    1  18-04-2008  M Chinnaswamy Stadium  Kolkata Knight Riders   \n",
       "1    1  18-04-2008  M Chinnaswamy Stadium  Kolkata Knight Riders   \n",
       "2    1  18-04-2008  M Chinnaswamy Stadium  Kolkata Knight Riders   \n",
       "3    1  18-04-2008  M Chinnaswamy Stadium  Kolkata Knight Riders   \n",
       "4    1  18-04-2008  M Chinnaswamy Stadium  Kolkata Knight Riders   \n",
       "\n",
       "                     bowl_team      batsman   bowler  runs  wickets  overs  \\\n",
       "0  Royal Challengers Bangalore   SC Ganguly  P Kumar     1        0    0.1   \n",
       "1  Royal Challengers Bangalore  BB McCullum  P Kumar     1        0    0.2   \n",
       "2  Royal Challengers Bangalore  BB McCullum  P Kumar     2        0    0.2   \n",
       "3  Royal Challengers Bangalore  BB McCullum  P Kumar     2        0    0.3   \n",
       "4  Royal Challengers Bangalore  BB McCullum  P Kumar     2        0    0.4   \n",
       "\n",
       "   runs_last_5  wickets_last_5  striker  non-striker  total  \n",
       "0            1               0        0            0    222  \n",
       "1            1               0        0            0    222  \n",
       "2            2               0        0            0    222  \n",
       "3            2               0        0            0    222  \n",
       "4            2               0        0            0    222  "
      ]
     },
     "execution_count": 2,
     "metadata": {},
     "output_type": "execute_result"
    }
   ],
   "source": [
    "db = pd.read_csv('iplav.csv')\n",
    "db.head()"
   ]
  },
  {
   "cell_type": "code",
   "execution_count": 3,
   "metadata": {
    "ExecuteTime": {
     "end_time": "2021-04-10T13:39:00.344819Z",
     "start_time": "2021-04-10T13:39:00.336840Z"
    }
   },
   "outputs": [],
   "source": [
    "db.drop(['mid', 'venue', 'batsman', 'bowler', 'striker', 'non-striker'], axis = 1, inplace = True)"
   ]
  },
  {
   "cell_type": "code",
   "execution_count": 4,
   "metadata": {
    "ExecuteTime": {
     "end_time": "2021-04-10T13:39:01.762285Z",
     "start_time": "2021-04-10T13:39:01.753765Z"
    }
   },
   "outputs": [
    {
     "data": {
      "text/html": [
       "<div>\n",
       "<style scoped>\n",
       "    .dataframe tbody tr th:only-of-type {\n",
       "        vertical-align: middle;\n",
       "    }\n",
       "\n",
       "    .dataframe tbody tr th {\n",
       "        vertical-align: top;\n",
       "    }\n",
       "\n",
       "    .dataframe thead th {\n",
       "        text-align: right;\n",
       "    }\n",
       "</style>\n",
       "<table border=\"1\" class=\"dataframe\">\n",
       "  <thead>\n",
       "    <tr style=\"text-align: right;\">\n",
       "      <th></th>\n",
       "      <th>date</th>\n",
       "      <th>bat_team</th>\n",
       "      <th>bowl_team</th>\n",
       "      <th>runs</th>\n",
       "      <th>wickets</th>\n",
       "      <th>overs</th>\n",
       "      <th>runs_last_5</th>\n",
       "      <th>wickets_last_5</th>\n",
       "      <th>total</th>\n",
       "    </tr>\n",
       "  </thead>\n",
       "  <tbody>\n",
       "    <tr>\n",
       "      <th>0</th>\n",
       "      <td>18-04-2008</td>\n",
       "      <td>Kolkata Knight Riders</td>\n",
       "      <td>Royal Challengers Bangalore</td>\n",
       "      <td>1</td>\n",
       "      <td>0</td>\n",
       "      <td>0.1</td>\n",
       "      <td>1</td>\n",
       "      <td>0</td>\n",
       "      <td>222</td>\n",
       "    </tr>\n",
       "    <tr>\n",
       "      <th>1</th>\n",
       "      <td>18-04-2008</td>\n",
       "      <td>Kolkata Knight Riders</td>\n",
       "      <td>Royal Challengers Bangalore</td>\n",
       "      <td>1</td>\n",
       "      <td>0</td>\n",
       "      <td>0.2</td>\n",
       "      <td>1</td>\n",
       "      <td>0</td>\n",
       "      <td>222</td>\n",
       "    </tr>\n",
       "    <tr>\n",
       "      <th>2</th>\n",
       "      <td>18-04-2008</td>\n",
       "      <td>Kolkata Knight Riders</td>\n",
       "      <td>Royal Challengers Bangalore</td>\n",
       "      <td>2</td>\n",
       "      <td>0</td>\n",
       "      <td>0.2</td>\n",
       "      <td>2</td>\n",
       "      <td>0</td>\n",
       "      <td>222</td>\n",
       "    </tr>\n",
       "    <tr>\n",
       "      <th>3</th>\n",
       "      <td>18-04-2008</td>\n",
       "      <td>Kolkata Knight Riders</td>\n",
       "      <td>Royal Challengers Bangalore</td>\n",
       "      <td>2</td>\n",
       "      <td>0</td>\n",
       "      <td>0.3</td>\n",
       "      <td>2</td>\n",
       "      <td>0</td>\n",
       "      <td>222</td>\n",
       "    </tr>\n",
       "    <tr>\n",
       "      <th>4</th>\n",
       "      <td>18-04-2008</td>\n",
       "      <td>Kolkata Knight Riders</td>\n",
       "      <td>Royal Challengers Bangalore</td>\n",
       "      <td>2</td>\n",
       "      <td>0</td>\n",
       "      <td>0.4</td>\n",
       "      <td>2</td>\n",
       "      <td>0</td>\n",
       "      <td>222</td>\n",
       "    </tr>\n",
       "  </tbody>\n",
       "</table>\n",
       "</div>"
      ],
      "text/plain": [
       "         date               bat_team                    bowl_team  runs  \\\n",
       "0  18-04-2008  Kolkata Knight Riders  Royal Challengers Bangalore     1   \n",
       "1  18-04-2008  Kolkata Knight Riders  Royal Challengers Bangalore     1   \n",
       "2  18-04-2008  Kolkata Knight Riders  Royal Challengers Bangalore     2   \n",
       "3  18-04-2008  Kolkata Knight Riders  Royal Challengers Bangalore     2   \n",
       "4  18-04-2008  Kolkata Knight Riders  Royal Challengers Bangalore     2   \n",
       "\n",
       "   wickets  overs  runs_last_5  wickets_last_5  total  \n",
       "0        0    0.1            1               0    222  \n",
       "1        0    0.2            1               0    222  \n",
       "2        0    0.2            2               0    222  \n",
       "3        0    0.3            2               0    222  \n",
       "4        0    0.4            2               0    222  "
      ]
     },
     "execution_count": 4,
     "metadata": {},
     "output_type": "execute_result"
    }
   ],
   "source": [
    "db.head()"
   ]
  },
  {
   "cell_type": "code",
   "execution_count": 5,
   "metadata": {
    "ExecuteTime": {
     "end_time": "2021-04-10T13:39:04.881887Z",
     "start_time": "2021-04-10T13:39:02.521112Z"
    }
   },
   "outputs": [],
   "source": [
    "db['yyyymmdd'] = db['date'].apply(lambda x : x.split()[0])\n",
    "db['year'] = db['yyyymmdd'].apply(lambda dateString : datetime.strptime(dateString,'%d-%m-%Y').year)\n",
    "db['month'] = db['yyyymmdd'].apply(lambda dateString : datetime.strptime(dateString,'%d-%m-%Y').month)\n",
    "db['date'] = db['yyyymmdd'].apply(lambda dateString : datetime.strptime(dateString,'%d-%m-%Y').day)\n",
    "db['day_number'] = db['yyyymmdd'].apply(lambda dateString : datetime.strptime(dateString,'%d-%m-%Y').weekday())\n",
    "db = db.drop(['yyyymmdd'], axis = 1)"
   ]
  },
  {
   "cell_type": "code",
   "execution_count": 6,
   "metadata": {
    "ExecuteTime": {
     "end_time": "2021-04-10T13:39:05.333681Z",
     "start_time": "2021-04-10T13:39:05.321679Z"
    }
   },
   "outputs": [
    {
     "data": {
      "text/html": [
       "<div>\n",
       "<style scoped>\n",
       "    .dataframe tbody tr th:only-of-type {\n",
       "        vertical-align: middle;\n",
       "    }\n",
       "\n",
       "    .dataframe tbody tr th {\n",
       "        vertical-align: top;\n",
       "    }\n",
       "\n",
       "    .dataframe thead th {\n",
       "        text-align: right;\n",
       "    }\n",
       "</style>\n",
       "<table border=\"1\" class=\"dataframe\">\n",
       "  <thead>\n",
       "    <tr style=\"text-align: right;\">\n",
       "      <th></th>\n",
       "      <th>date</th>\n",
       "      <th>bat_team</th>\n",
       "      <th>bowl_team</th>\n",
       "      <th>runs</th>\n",
       "      <th>wickets</th>\n",
       "      <th>overs</th>\n",
       "      <th>runs_last_5</th>\n",
       "      <th>wickets_last_5</th>\n",
       "      <th>total</th>\n",
       "      <th>year</th>\n",
       "      <th>month</th>\n",
       "      <th>day_number</th>\n",
       "    </tr>\n",
       "  </thead>\n",
       "  <tbody>\n",
       "    <tr>\n",
       "      <th>0</th>\n",
       "      <td>18</td>\n",
       "      <td>Kolkata Knight Riders</td>\n",
       "      <td>Royal Challengers Bangalore</td>\n",
       "      <td>1</td>\n",
       "      <td>0</td>\n",
       "      <td>0.1</td>\n",
       "      <td>1</td>\n",
       "      <td>0</td>\n",
       "      <td>222</td>\n",
       "      <td>2008</td>\n",
       "      <td>4</td>\n",
       "      <td>4</td>\n",
       "    </tr>\n",
       "    <tr>\n",
       "      <th>1</th>\n",
       "      <td>18</td>\n",
       "      <td>Kolkata Knight Riders</td>\n",
       "      <td>Royal Challengers Bangalore</td>\n",
       "      <td>1</td>\n",
       "      <td>0</td>\n",
       "      <td>0.2</td>\n",
       "      <td>1</td>\n",
       "      <td>0</td>\n",
       "      <td>222</td>\n",
       "      <td>2008</td>\n",
       "      <td>4</td>\n",
       "      <td>4</td>\n",
       "    </tr>\n",
       "    <tr>\n",
       "      <th>2</th>\n",
       "      <td>18</td>\n",
       "      <td>Kolkata Knight Riders</td>\n",
       "      <td>Royal Challengers Bangalore</td>\n",
       "      <td>2</td>\n",
       "      <td>0</td>\n",
       "      <td>0.2</td>\n",
       "      <td>2</td>\n",
       "      <td>0</td>\n",
       "      <td>222</td>\n",
       "      <td>2008</td>\n",
       "      <td>4</td>\n",
       "      <td>4</td>\n",
       "    </tr>\n",
       "    <tr>\n",
       "      <th>3</th>\n",
       "      <td>18</td>\n",
       "      <td>Kolkata Knight Riders</td>\n",
       "      <td>Royal Challengers Bangalore</td>\n",
       "      <td>2</td>\n",
       "      <td>0</td>\n",
       "      <td>0.3</td>\n",
       "      <td>2</td>\n",
       "      <td>0</td>\n",
       "      <td>222</td>\n",
       "      <td>2008</td>\n",
       "      <td>4</td>\n",
       "      <td>4</td>\n",
       "    </tr>\n",
       "    <tr>\n",
       "      <th>4</th>\n",
       "      <td>18</td>\n",
       "      <td>Kolkata Knight Riders</td>\n",
       "      <td>Royal Challengers Bangalore</td>\n",
       "      <td>2</td>\n",
       "      <td>0</td>\n",
       "      <td>0.4</td>\n",
       "      <td>2</td>\n",
       "      <td>0</td>\n",
       "      <td>222</td>\n",
       "      <td>2008</td>\n",
       "      <td>4</td>\n",
       "      <td>4</td>\n",
       "    </tr>\n",
       "  </tbody>\n",
       "</table>\n",
       "</div>"
      ],
      "text/plain": [
       "   date               bat_team                    bowl_team  runs  wickets  \\\n",
       "0    18  Kolkata Knight Riders  Royal Challengers Bangalore     1        0   \n",
       "1    18  Kolkata Knight Riders  Royal Challengers Bangalore     1        0   \n",
       "2    18  Kolkata Knight Riders  Royal Challengers Bangalore     2        0   \n",
       "3    18  Kolkata Knight Riders  Royal Challengers Bangalore     2        0   \n",
       "4    18  Kolkata Knight Riders  Royal Challengers Bangalore     2        0   \n",
       "\n",
       "   overs  runs_last_5  wickets_last_5  total  year  month  day_number  \n",
       "0    0.1            1               0    222  2008      4           4  \n",
       "1    0.2            1               0    222  2008      4           4  \n",
       "2    0.2            2               0    222  2008      4           4  \n",
       "3    0.3            2               0    222  2008      4           4  \n",
       "4    0.4            2               0    222  2008      4           4  "
      ]
     },
     "execution_count": 6,
     "metadata": {},
     "output_type": "execute_result"
    }
   ],
   "source": [
    "db.head()"
   ]
  },
  {
   "cell_type": "code",
   "execution_count": 7,
   "metadata": {
    "ExecuteTime": {
     "end_time": "2021-04-10T13:39:20.049819Z",
     "start_time": "2021-04-10T13:39:20.040338Z"
    }
   },
   "outputs": [
    {
     "data": {
      "text/plain": [
       "array(['Kolkata Knight Riders', 'Chennai Super Kings', 'Rajasthan Royals',\n",
       "       'Mumbai Indians', 'Deccan Chargers', 'Kings XI Punjab',\n",
       "       'Royal Challengers Bangalore', 'Delhi Daredevils',\n",
       "       'Kochi Tuskers Kerala', 'Pune Warriors', 'Sunrisers Hyderabad',\n",
       "       'Rising Pune Supergiants', 'Gujarat Lions',\n",
       "       'Rising Pune Supergiant'], dtype=object)"
      ]
     },
     "execution_count": 7,
     "metadata": {},
     "output_type": "execute_result"
    }
   ],
   "source": [
    "db.bat_team.unique()"
   ]
  },
  {
   "cell_type": "code",
   "execution_count": 8,
   "metadata": {
    "ExecuteTime": {
     "end_time": "2021-04-10T13:39:23.741193Z",
     "start_time": "2021-04-10T13:39:23.737203Z"
    }
   },
   "outputs": [
    {
     "data": {
      "text/plain": [
       "Index(['date', 'bat_team', 'bowl_team', 'runs', 'wickets', 'overs',\n",
       "       'runs_last_5', 'wickets_last_5', 'total', 'year', 'month',\n",
       "       'day_number'],\n",
       "      dtype='object')"
      ]
     },
     "execution_count": 8,
     "metadata": {},
     "output_type": "execute_result"
    }
   ],
   "source": [
    "db.columns"
   ]
  },
  {
   "cell_type": "code",
   "execution_count": 9,
   "metadata": {
    "ExecuteTime": {
     "end_time": "2021-04-10T13:39:24.775624Z",
     "start_time": "2021-04-10T13:39:24.728709Z"
    }
   },
   "outputs": [],
   "source": [
    "for col in ['bat_team', 'bowl_team']:\n",
    "    t_list = []\n",
    "    for i in db[col]:\n",
    "        if i == 'Delhi Daredevils':\n",
    "            t_list.append('Delhi Capitals')\n",
    "        elif i == 'Rising Pune Supergiants':\n",
    "            t_list.append('Rising Pune Supergiant')\n",
    "        else:\n",
    "            t_list.append(i)\n",
    "    db[col] = t_list"
   ]
  },
  {
   "cell_type": "code",
   "execution_count": 10,
   "metadata": {
    "ExecuteTime": {
     "end_time": "2021-04-10T13:39:27.932069Z",
     "start_time": "2021-04-10T13:39:27.929075Z"
    }
   },
   "outputs": [],
   "source": [
    "#df = db[db['year'] >= 2012]\n",
    "#df = df[df['overs'] >= 5.0]"
   ]
  },
  {
   "cell_type": "code",
   "execution_count": 11,
   "metadata": {
    "ExecuteTime": {
     "end_time": "2021-04-10T13:39:29.147970Z",
     "start_time": "2021-04-10T13:39:29.144978Z"
    }
   },
   "outputs": [],
   "source": [
    "df = db"
   ]
  },
  {
   "cell_type": "code",
   "execution_count": 12,
   "metadata": {
    "ExecuteTime": {
     "end_time": "2021-04-10T13:39:29.701013Z",
     "start_time": "2021-04-10T13:39:29.690042Z"
    }
   },
   "outputs": [
    {
     "data": {
      "text/html": [
       "<div>\n",
       "<style scoped>\n",
       "    .dataframe tbody tr th:only-of-type {\n",
       "        vertical-align: middle;\n",
       "    }\n",
       "\n",
       "    .dataframe tbody tr th {\n",
       "        vertical-align: top;\n",
       "    }\n",
       "\n",
       "    .dataframe thead th {\n",
       "        text-align: right;\n",
       "    }\n",
       "</style>\n",
       "<table border=\"1\" class=\"dataframe\">\n",
       "  <thead>\n",
       "    <tr style=\"text-align: right;\">\n",
       "      <th></th>\n",
       "      <th>date</th>\n",
       "      <th>bat_team</th>\n",
       "      <th>bowl_team</th>\n",
       "      <th>runs</th>\n",
       "      <th>wickets</th>\n",
       "      <th>overs</th>\n",
       "      <th>runs_last_5</th>\n",
       "      <th>wickets_last_5</th>\n",
       "      <th>total</th>\n",
       "      <th>year</th>\n",
       "      <th>month</th>\n",
       "      <th>day_number</th>\n",
       "    </tr>\n",
       "  </thead>\n",
       "  <tbody>\n",
       "    <tr>\n",
       "      <th>0</th>\n",
       "      <td>18</td>\n",
       "      <td>Kolkata Knight Riders</td>\n",
       "      <td>Royal Challengers Bangalore</td>\n",
       "      <td>1</td>\n",
       "      <td>0</td>\n",
       "      <td>0.1</td>\n",
       "      <td>1</td>\n",
       "      <td>0</td>\n",
       "      <td>222</td>\n",
       "      <td>2008</td>\n",
       "      <td>4</td>\n",
       "      <td>4</td>\n",
       "    </tr>\n",
       "    <tr>\n",
       "      <th>1</th>\n",
       "      <td>18</td>\n",
       "      <td>Kolkata Knight Riders</td>\n",
       "      <td>Royal Challengers Bangalore</td>\n",
       "      <td>1</td>\n",
       "      <td>0</td>\n",
       "      <td>0.2</td>\n",
       "      <td>1</td>\n",
       "      <td>0</td>\n",
       "      <td>222</td>\n",
       "      <td>2008</td>\n",
       "      <td>4</td>\n",
       "      <td>4</td>\n",
       "    </tr>\n",
       "    <tr>\n",
       "      <th>2</th>\n",
       "      <td>18</td>\n",
       "      <td>Kolkata Knight Riders</td>\n",
       "      <td>Royal Challengers Bangalore</td>\n",
       "      <td>2</td>\n",
       "      <td>0</td>\n",
       "      <td>0.2</td>\n",
       "      <td>2</td>\n",
       "      <td>0</td>\n",
       "      <td>222</td>\n",
       "      <td>2008</td>\n",
       "      <td>4</td>\n",
       "      <td>4</td>\n",
       "    </tr>\n",
       "    <tr>\n",
       "      <th>3</th>\n",
       "      <td>18</td>\n",
       "      <td>Kolkata Knight Riders</td>\n",
       "      <td>Royal Challengers Bangalore</td>\n",
       "      <td>2</td>\n",
       "      <td>0</td>\n",
       "      <td>0.3</td>\n",
       "      <td>2</td>\n",
       "      <td>0</td>\n",
       "      <td>222</td>\n",
       "      <td>2008</td>\n",
       "      <td>4</td>\n",
       "      <td>4</td>\n",
       "    </tr>\n",
       "    <tr>\n",
       "      <th>4</th>\n",
       "      <td>18</td>\n",
       "      <td>Kolkata Knight Riders</td>\n",
       "      <td>Royal Challengers Bangalore</td>\n",
       "      <td>2</td>\n",
       "      <td>0</td>\n",
       "      <td>0.4</td>\n",
       "      <td>2</td>\n",
       "      <td>0</td>\n",
       "      <td>222</td>\n",
       "      <td>2008</td>\n",
       "      <td>4</td>\n",
       "      <td>4</td>\n",
       "    </tr>\n",
       "  </tbody>\n",
       "</table>\n",
       "</div>"
      ],
      "text/plain": [
       "   date               bat_team                    bowl_team  runs  wickets  \\\n",
       "0    18  Kolkata Knight Riders  Royal Challengers Bangalore     1        0   \n",
       "1    18  Kolkata Knight Riders  Royal Challengers Bangalore     1        0   \n",
       "2    18  Kolkata Knight Riders  Royal Challengers Bangalore     2        0   \n",
       "3    18  Kolkata Knight Riders  Royal Challengers Bangalore     2        0   \n",
       "4    18  Kolkata Knight Riders  Royal Challengers Bangalore     2        0   \n",
       "\n",
       "   overs  runs_last_5  wickets_last_5  total  year  month  day_number  \n",
       "0    0.1            1               0    222  2008      4           4  \n",
       "1    0.2            1               0    222  2008      4           4  \n",
       "2    0.2            2               0    222  2008      4           4  \n",
       "3    0.3            2               0    222  2008      4           4  \n",
       "4    0.4            2               0    222  2008      4           4  "
      ]
     },
     "execution_count": 12,
     "metadata": {},
     "output_type": "execute_result"
    }
   ],
   "source": [
    "df.head()"
   ]
  },
  {
   "cell_type": "code",
   "execution_count": 13,
   "metadata": {
    "ExecuteTime": {
     "end_time": "2021-04-10T13:39:30.389213Z",
     "start_time": "2021-04-10T13:39:30.352789Z"
    }
   },
   "outputs": [],
   "source": [
    "dummy = ['bat_team', 'bowl_team']\n",
    "df_dummy = pd.get_dummies(df[dummy], prefix_sep = '_', drop_first = True)\n",
    "df = df.drop(dummy, axis = 1)\n",
    "df = pd.concat([df, df_dummy], axis = 1)"
   ]
  },
  {
   "cell_type": "code",
   "execution_count": 14,
   "metadata": {
    "ExecuteTime": {
     "end_time": "2021-04-10T13:39:32.034343Z",
     "start_time": "2021-04-10T13:39:32.017373Z"
    }
   },
   "outputs": [
    {
     "data": {
      "text/html": [
       "<div>\n",
       "<style scoped>\n",
       "    .dataframe tbody tr th:only-of-type {\n",
       "        vertical-align: middle;\n",
       "    }\n",
       "\n",
       "    .dataframe tbody tr th {\n",
       "        vertical-align: top;\n",
       "    }\n",
       "\n",
       "    .dataframe thead th {\n",
       "        text-align: right;\n",
       "    }\n",
       "</style>\n",
       "<table border=\"1\" class=\"dataframe\">\n",
       "  <thead>\n",
       "    <tr style=\"text-align: right;\">\n",
       "      <th></th>\n",
       "      <th>date</th>\n",
       "      <th>runs</th>\n",
       "      <th>wickets</th>\n",
       "      <th>overs</th>\n",
       "      <th>runs_last_5</th>\n",
       "      <th>wickets_last_5</th>\n",
       "      <th>total</th>\n",
       "      <th>year</th>\n",
       "      <th>month</th>\n",
       "      <th>day_number</th>\n",
       "      <th>bat_team_Deccan Chargers</th>\n",
       "      <th>bat_team_Delhi Capitals</th>\n",
       "      <th>bat_team_Gujarat Lions</th>\n",
       "      <th>bat_team_Kings XI Punjab</th>\n",
       "      <th>bat_team_Kochi Tuskers Kerala</th>\n",
       "      <th>bat_team_Kolkata Knight Riders</th>\n",
       "      <th>bat_team_Mumbai Indians</th>\n",
       "      <th>bat_team_Pune Warriors</th>\n",
       "      <th>bat_team_Rajasthan Royals</th>\n",
       "      <th>bat_team_Rising Pune Supergiant</th>\n",
       "      <th>bat_team_Royal Challengers Bangalore</th>\n",
       "      <th>bat_team_Sunrisers Hyderabad</th>\n",
       "      <th>bowl_team_Deccan Chargers</th>\n",
       "      <th>bowl_team_Delhi Capitals</th>\n",
       "      <th>bowl_team_Gujarat Lions</th>\n",
       "      <th>bowl_team_Kings XI Punjab</th>\n",
       "      <th>bowl_team_Kochi Tuskers Kerala</th>\n",
       "      <th>bowl_team_Kolkata Knight Riders</th>\n",
       "      <th>bowl_team_Mumbai Indians</th>\n",
       "      <th>bowl_team_Pune Warriors</th>\n",
       "      <th>bowl_team_Rajasthan Royals</th>\n",
       "      <th>bowl_team_Rising Pune Supergiant</th>\n",
       "      <th>bowl_team_Royal Challengers Bangalore</th>\n",
       "      <th>bowl_team_Sunrisers Hyderabad</th>\n",
       "    </tr>\n",
       "  </thead>\n",
       "  <tbody>\n",
       "    <tr>\n",
       "      <th>0</th>\n",
       "      <td>18</td>\n",
       "      <td>1</td>\n",
       "      <td>0</td>\n",
       "      <td>0.1</td>\n",
       "      <td>1</td>\n",
       "      <td>0</td>\n",
       "      <td>222</td>\n",
       "      <td>2008</td>\n",
       "      <td>4</td>\n",
       "      <td>4</td>\n",
       "      <td>0</td>\n",
       "      <td>0</td>\n",
       "      <td>0</td>\n",
       "      <td>0</td>\n",
       "      <td>0</td>\n",
       "      <td>1</td>\n",
       "      <td>0</td>\n",
       "      <td>0</td>\n",
       "      <td>0</td>\n",
       "      <td>0</td>\n",
       "      <td>0</td>\n",
       "      <td>0</td>\n",
       "      <td>0</td>\n",
       "      <td>0</td>\n",
       "      <td>0</td>\n",
       "      <td>0</td>\n",
       "      <td>0</td>\n",
       "      <td>0</td>\n",
       "      <td>0</td>\n",
       "      <td>0</td>\n",
       "      <td>0</td>\n",
       "      <td>0</td>\n",
       "      <td>1</td>\n",
       "      <td>0</td>\n",
       "    </tr>\n",
       "    <tr>\n",
       "      <th>1</th>\n",
       "      <td>18</td>\n",
       "      <td>1</td>\n",
       "      <td>0</td>\n",
       "      <td>0.2</td>\n",
       "      <td>1</td>\n",
       "      <td>0</td>\n",
       "      <td>222</td>\n",
       "      <td>2008</td>\n",
       "      <td>4</td>\n",
       "      <td>4</td>\n",
       "      <td>0</td>\n",
       "      <td>0</td>\n",
       "      <td>0</td>\n",
       "      <td>0</td>\n",
       "      <td>0</td>\n",
       "      <td>1</td>\n",
       "      <td>0</td>\n",
       "      <td>0</td>\n",
       "      <td>0</td>\n",
       "      <td>0</td>\n",
       "      <td>0</td>\n",
       "      <td>0</td>\n",
       "      <td>0</td>\n",
       "      <td>0</td>\n",
       "      <td>0</td>\n",
       "      <td>0</td>\n",
       "      <td>0</td>\n",
       "      <td>0</td>\n",
       "      <td>0</td>\n",
       "      <td>0</td>\n",
       "      <td>0</td>\n",
       "      <td>0</td>\n",
       "      <td>1</td>\n",
       "      <td>0</td>\n",
       "    </tr>\n",
       "    <tr>\n",
       "      <th>2</th>\n",
       "      <td>18</td>\n",
       "      <td>2</td>\n",
       "      <td>0</td>\n",
       "      <td>0.2</td>\n",
       "      <td>2</td>\n",
       "      <td>0</td>\n",
       "      <td>222</td>\n",
       "      <td>2008</td>\n",
       "      <td>4</td>\n",
       "      <td>4</td>\n",
       "      <td>0</td>\n",
       "      <td>0</td>\n",
       "      <td>0</td>\n",
       "      <td>0</td>\n",
       "      <td>0</td>\n",
       "      <td>1</td>\n",
       "      <td>0</td>\n",
       "      <td>0</td>\n",
       "      <td>0</td>\n",
       "      <td>0</td>\n",
       "      <td>0</td>\n",
       "      <td>0</td>\n",
       "      <td>0</td>\n",
       "      <td>0</td>\n",
       "      <td>0</td>\n",
       "      <td>0</td>\n",
       "      <td>0</td>\n",
       "      <td>0</td>\n",
       "      <td>0</td>\n",
       "      <td>0</td>\n",
       "      <td>0</td>\n",
       "      <td>0</td>\n",
       "      <td>1</td>\n",
       "      <td>0</td>\n",
       "    </tr>\n",
       "    <tr>\n",
       "      <th>3</th>\n",
       "      <td>18</td>\n",
       "      <td>2</td>\n",
       "      <td>0</td>\n",
       "      <td>0.3</td>\n",
       "      <td>2</td>\n",
       "      <td>0</td>\n",
       "      <td>222</td>\n",
       "      <td>2008</td>\n",
       "      <td>4</td>\n",
       "      <td>4</td>\n",
       "      <td>0</td>\n",
       "      <td>0</td>\n",
       "      <td>0</td>\n",
       "      <td>0</td>\n",
       "      <td>0</td>\n",
       "      <td>1</td>\n",
       "      <td>0</td>\n",
       "      <td>0</td>\n",
       "      <td>0</td>\n",
       "      <td>0</td>\n",
       "      <td>0</td>\n",
       "      <td>0</td>\n",
       "      <td>0</td>\n",
       "      <td>0</td>\n",
       "      <td>0</td>\n",
       "      <td>0</td>\n",
       "      <td>0</td>\n",
       "      <td>0</td>\n",
       "      <td>0</td>\n",
       "      <td>0</td>\n",
       "      <td>0</td>\n",
       "      <td>0</td>\n",
       "      <td>1</td>\n",
       "      <td>0</td>\n",
       "    </tr>\n",
       "    <tr>\n",
       "      <th>4</th>\n",
       "      <td>18</td>\n",
       "      <td>2</td>\n",
       "      <td>0</td>\n",
       "      <td>0.4</td>\n",
       "      <td>2</td>\n",
       "      <td>0</td>\n",
       "      <td>222</td>\n",
       "      <td>2008</td>\n",
       "      <td>4</td>\n",
       "      <td>4</td>\n",
       "      <td>0</td>\n",
       "      <td>0</td>\n",
       "      <td>0</td>\n",
       "      <td>0</td>\n",
       "      <td>0</td>\n",
       "      <td>1</td>\n",
       "      <td>0</td>\n",
       "      <td>0</td>\n",
       "      <td>0</td>\n",
       "      <td>0</td>\n",
       "      <td>0</td>\n",
       "      <td>0</td>\n",
       "      <td>0</td>\n",
       "      <td>0</td>\n",
       "      <td>0</td>\n",
       "      <td>0</td>\n",
       "      <td>0</td>\n",
       "      <td>0</td>\n",
       "      <td>0</td>\n",
       "      <td>0</td>\n",
       "      <td>0</td>\n",
       "      <td>0</td>\n",
       "      <td>1</td>\n",
       "      <td>0</td>\n",
       "    </tr>\n",
       "  </tbody>\n",
       "</table>\n",
       "</div>"
      ],
      "text/plain": [
       "   date  runs  wickets  overs  runs_last_5  wickets_last_5  total  year  \\\n",
       "0    18     1        0    0.1            1               0    222  2008   \n",
       "1    18     1        0    0.2            1               0    222  2008   \n",
       "2    18     2        0    0.2            2               0    222  2008   \n",
       "3    18     2        0    0.3            2               0    222  2008   \n",
       "4    18     2        0    0.4            2               0    222  2008   \n",
       "\n",
       "   month  day_number  bat_team_Deccan Chargers  bat_team_Delhi Capitals  \\\n",
       "0      4           4                         0                        0   \n",
       "1      4           4                         0                        0   \n",
       "2      4           4                         0                        0   \n",
       "3      4           4                         0                        0   \n",
       "4      4           4                         0                        0   \n",
       "\n",
       "   bat_team_Gujarat Lions  bat_team_Kings XI Punjab  \\\n",
       "0                       0                         0   \n",
       "1                       0                         0   \n",
       "2                       0                         0   \n",
       "3                       0                         0   \n",
       "4                       0                         0   \n",
       "\n",
       "   bat_team_Kochi Tuskers Kerala  bat_team_Kolkata Knight Riders  \\\n",
       "0                              0                               1   \n",
       "1                              0                               1   \n",
       "2                              0                               1   \n",
       "3                              0                               1   \n",
       "4                              0                               1   \n",
       "\n",
       "   bat_team_Mumbai Indians  bat_team_Pune Warriors  bat_team_Rajasthan Royals  \\\n",
       "0                        0                       0                          0   \n",
       "1                        0                       0                          0   \n",
       "2                        0                       0                          0   \n",
       "3                        0                       0                          0   \n",
       "4                        0                       0                          0   \n",
       "\n",
       "   bat_team_Rising Pune Supergiant  bat_team_Royal Challengers Bangalore  \\\n",
       "0                                0                                     0   \n",
       "1                                0                                     0   \n",
       "2                                0                                     0   \n",
       "3                                0                                     0   \n",
       "4                                0                                     0   \n",
       "\n",
       "   bat_team_Sunrisers Hyderabad  bowl_team_Deccan Chargers  \\\n",
       "0                             0                          0   \n",
       "1                             0                          0   \n",
       "2                             0                          0   \n",
       "3                             0                          0   \n",
       "4                             0                          0   \n",
       "\n",
       "   bowl_team_Delhi Capitals  bowl_team_Gujarat Lions  \\\n",
       "0                         0                        0   \n",
       "1                         0                        0   \n",
       "2                         0                        0   \n",
       "3                         0                        0   \n",
       "4                         0                        0   \n",
       "\n",
       "   bowl_team_Kings XI Punjab  bowl_team_Kochi Tuskers Kerala  \\\n",
       "0                          0                               0   \n",
       "1                          0                               0   \n",
       "2                          0                               0   \n",
       "3                          0                               0   \n",
       "4                          0                               0   \n",
       "\n",
       "   bowl_team_Kolkata Knight Riders  bowl_team_Mumbai Indians  \\\n",
       "0                                0                         0   \n",
       "1                                0                         0   \n",
       "2                                0                         0   \n",
       "3                                0                         0   \n",
       "4                                0                         0   \n",
       "\n",
       "   bowl_team_Pune Warriors  bowl_team_Rajasthan Royals  \\\n",
       "0                        0                           0   \n",
       "1                        0                           0   \n",
       "2                        0                           0   \n",
       "3                        0                           0   \n",
       "4                        0                           0   \n",
       "\n",
       "   bowl_team_Rising Pune Supergiant  bowl_team_Royal Challengers Bangalore  \\\n",
       "0                                 0                                      1   \n",
       "1                                 0                                      1   \n",
       "2                                 0                                      1   \n",
       "3                                 0                                      1   \n",
       "4                                 0                                      1   \n",
       "\n",
       "   bowl_team_Sunrisers Hyderabad  \n",
       "0                              0  \n",
       "1                              0  \n",
       "2                              0  \n",
       "3                              0  \n",
       "4                              0  "
      ]
     },
     "execution_count": 14,
     "metadata": {},
     "output_type": "execute_result"
    }
   ],
   "source": [
    "df.head()"
   ]
  },
  {
   "cell_type": "code",
   "execution_count": 15,
   "metadata": {
    "ExecuteTime": {
     "end_time": "2021-04-10T13:39:33.957741Z",
     "start_time": "2021-04-10T13:39:33.952752Z"
    }
   },
   "outputs": [
    {
     "data": {
      "text/plain": [
       "(76014, 34)"
      ]
     },
     "execution_count": 15,
     "metadata": {},
     "output_type": "execute_result"
    }
   ],
   "source": [
    "df.shape"
   ]
  },
  {
   "cell_type": "code",
   "execution_count": 16,
   "metadata": {
    "ExecuteTime": {
     "end_time": "2021-04-10T13:39:37.133522Z",
     "start_time": "2021-04-10T13:39:37.128534Z"
    }
   },
   "outputs": [
    {
     "data": {
      "text/plain": [
       "Index(['date', 'runs', 'wickets', 'overs', 'runs_last_5', 'wickets_last_5',\n",
       "       'total', 'year', 'month', 'day_number', 'bat_team_Deccan Chargers',\n",
       "       'bat_team_Delhi Capitals', 'bat_team_Gujarat Lions',\n",
       "       'bat_team_Kings XI Punjab', 'bat_team_Kochi Tuskers Kerala',\n",
       "       'bat_team_Kolkata Knight Riders', 'bat_team_Mumbai Indians',\n",
       "       'bat_team_Pune Warriors', 'bat_team_Rajasthan Royals',\n",
       "       'bat_team_Rising Pune Supergiant',\n",
       "       'bat_team_Royal Challengers Bangalore', 'bat_team_Sunrisers Hyderabad',\n",
       "       'bowl_team_Deccan Chargers', 'bowl_team_Delhi Capitals',\n",
       "       'bowl_team_Gujarat Lions', 'bowl_team_Kings XI Punjab',\n",
       "       'bowl_team_Kochi Tuskers Kerala', 'bowl_team_Kolkata Knight Riders',\n",
       "       'bowl_team_Mumbai Indians', 'bowl_team_Pune Warriors',\n",
       "       'bowl_team_Rajasthan Royals', 'bowl_team_Rising Pune Supergiant',\n",
       "       'bowl_team_Royal Challengers Bangalore',\n",
       "       'bowl_team_Sunrisers Hyderabad'],\n",
       "      dtype='object')"
      ]
     },
     "execution_count": 16,
     "metadata": {},
     "output_type": "execute_result"
    }
   ],
   "source": [
    "df.columns"
   ]
  },
  {
   "cell_type": "code",
   "execution_count": 16,
   "metadata": {
    "ExecuteTime": {
     "end_time": "2021-04-10T13:34:46.216655Z",
     "start_time": "2021-04-10T13:34:46.201172Z"
    }
   },
   "outputs": [],
   "source": [
    "df = df[['runs', 'wickets', 'overs', 'runs_last_5', 'wickets_last_5', 'total', 'year', 'bat_team_Deccan Chargers', 'bat_team_Delhi Capitals', 'bat_team_Gujarat Lions', \n",
    "         'bat_team_Kings XI Punjab', 'bat_team_Kolkata Knight Riders', 'bat_team_Mumbai Indians', 'bat_team_Pune Warriors', \n",
    "         'bat_team_Rajasthan Royals', 'bat_team_Rising Pune Supergiant', 'bat_team_Royal Challengers Bangalore', 'bat_team_Sunrisers Hyderabad', \n",
    "         'bowl_team_Deccan Chargers', 'bowl_team_Delhi Capitals', 'bowl_team_Gujarat Lions', 'bowl_team_Kings XI Punjab', 'bowl_team_Kolkata Knight Riders', \n",
    "         'bowl_team_Mumbai Indians', 'bowl_team_Pune Warriors', 'bowl_team_Rajasthan Royals', 'bowl_team_Rising Pune Supergiant', 'bowl_team_Royal Challengers Bangalore', \n",
    "         'bowl_team_Sunrisers Hyderabad']]"
   ]
  },
  {
   "cell_type": "code",
   "execution_count": 17,
   "metadata": {
    "ExecuteTime": {
     "end_time": "2021-04-10T13:34:50.729272Z",
     "start_time": "2021-04-10T13:34:50.702817Z"
    }
   },
   "outputs": [],
   "source": [
    "train = df[df['year'] <= 2016]\n",
    "test = df[df['year'] > 2016]"
   ]
  },
  {
   "cell_type": "code",
   "execution_count": 18,
   "metadata": {
    "ExecuteTime": {
     "end_time": "2021-04-10T13:34:52.872153Z",
     "start_time": "2021-04-10T13:34:52.864869Z"
    }
   },
   "outputs": [],
   "source": [
    "X_train = train.drop(['year', 'total'], axis = 1)\n",
    "X_test = test.drop(['year', 'total'], axis = 1)\n",
    "y_train = train['total']\n",
    "y_test = test['total']"
   ]
  },
  {
   "cell_type": "code",
   "execution_count": 19,
   "metadata": {
    "ExecuteTime": {
     "end_time": "2021-04-10T13:34:53.254215Z",
     "start_time": "2021-04-10T13:34:53.249259Z"
    }
   },
   "outputs": [
    {
     "data": {
      "text/plain": [
       "((68862, 27), (7152, 27), (68862,), (7152,))"
      ]
     },
     "execution_count": 19,
     "metadata": {},
     "output_type": "execute_result"
    }
   ],
   "source": [
    "X_train.shape, X_test.shape, y_train.shape, y_test.shape"
   ]
  },
  {
   "cell_type": "code",
   "execution_count": 20,
   "metadata": {
    "ExecuteTime": {
     "end_time": "2021-04-10T13:34:53.970198Z",
     "start_time": "2021-04-10T13:34:53.896898Z"
    }
   },
   "outputs": [
    {
     "data": {
      "text/plain": [
       "LinearRegression()"
      ]
     },
     "execution_count": 20,
     "metadata": {},
     "output_type": "execute_result"
    }
   ],
   "source": [
    "lr = LinearRegression()\n",
    "lr.fit(X_train, y_train)"
   ]
  },
  {
   "cell_type": "code",
   "execution_count": 21,
   "metadata": {
    "ExecuteTime": {
     "end_time": "2021-04-09T16:38:54.968941Z",
     "start_time": "2021-04-09T16:38:54.931043Z"
    }
   },
   "outputs": [
    {
     "name": "stdout",
     "output_type": "stream",
     "text": [
      "Logistic Regression:\n",
      "----------------------------------------------------------------------------------------------------\n",
      "Train r2_score:  0.5206602546350326\n",
      "Test r2_score:  0.534061307784617\n",
      "----------------------------------------------------------------------------------------------------\n",
      "Train RMSE:  20.165599500438937\n",
      "Test RMSE:  20.238953138665543\n",
      "----------------------------------------------------------------------------------------------------\n",
      "Train MAPE:  0.09717050888021991\n",
      "Test MAPE:  0.09427843100236644\n"
     ]
    }
   ],
   "source": [
    "y_train_pred_lr = lr.predict(X_train)\n",
    "y_test_pred_lr = lr.predict(X_test)\n",
    "print('Logistic Regression:')\n",
    "print('-' * 100)\n",
    "print('Train r2_score: ', r2_score(y_train, y_train_pred_lr))\n",
    "print('Test r2_score: ', r2_score(y_test, y_test_pred_lr))\n",
    "print('-' * 100)\n",
    "print('Train RMSE: ', np.sqrt(mean_squared_error(y_train, y_train_pred_lr)))\n",
    "print('Test RMSE: ', np.sqrt(mean_squared_error(y_test, y_test_pred_lr)))\n",
    "print('-' * 100)\n",
    "print('Train MAPE: ', np.mean(mean_absolute_error(y_train, y_train_pred_lr) / y_train))\n",
    "print('Test MAPE: ', np.mean(mean_absolute_error(y_test, y_test_pred_lr) / y_test))"
   ]
  },
  {
   "cell_type": "code",
   "execution_count": 22,
   "metadata": {
    "ExecuteTime": {
     "end_time": "2021-04-09T16:39:02.901195Z",
     "start_time": "2021-04-09T16:39:02.690634Z"
    },
    "scrolled": false
   },
   "outputs": [
    {
     "data": {
      "text/plain": [
       "True     0.620106\n",
       "False    0.379894\n",
       "Name: Bool, dtype: float64"
      ]
     },
     "execution_count": 22,
     "metadata": {},
     "output_type": "execute_result"
    }
   ],
   "source": [
    "data_lr = pd.DataFrame()\n",
    "data_lr['actual'] = y_test\n",
    "data_lr['predicted'] = y_test_pred_lr\n",
    "data_lr['lower range'] = y_test_pred_lr - (0.09427843100236644 * y_test_pred_lr)\n",
    "data_lr['upper range'] = y_test_pred_lr + (0.09427843100236644 * y_test_pred_lr)\n",
    "t_list = []\n",
    "for i in data_lr.index:\n",
    "    if data_lr['actual'][i] > data_lr['lower range'][i]:\n",
    "        if data_lr['actual'][i] < data_lr['upper range'][i]:\n",
    "            t_list.append('True')\n",
    "        else:\n",
    "            t_list.append('False')\n",
    "    else:\n",
    "        t_list.append('False')\n",
    "data_lr['Bool'] = t_list\n",
    "data_lr['Bool'].value_counts()/data_lr.shape[0]"
   ]
  },
  {
   "cell_type": "code",
   "execution_count": 23,
   "metadata": {
    "ExecuteTime": {
     "end_time": "2021-04-09T16:39:40.357266Z",
     "start_time": "2021-04-09T16:39:18.506788Z"
    }
   },
   "outputs": [
    {
     "name": "stdout",
     "output_type": "stream",
     "text": [
      "Fitting 10 folds for each of 10 candidates, totalling 100 fits\n",
      "[CV] alpha=0.624 .....................................................\n"
     ]
    },
    {
     "name": "stderr",
     "output_type": "stream",
     "text": [
      "[Parallel(n_jobs=1)]: Using backend SequentialBackend with 1 concurrent workers.\n"
     ]
    },
    {
     "name": "stdout",
     "output_type": "stream",
     "text": [
      "[CV] ...................................... alpha=0.624, total=   0.2s\n",
      "[CV] alpha=0.624 .....................................................\n",
      "[CV] ...................................... alpha=0.624, total=   0.2s\n",
      "[CV] alpha=0.624 .....................................................\n"
     ]
    },
    {
     "name": "stderr",
     "output_type": "stream",
     "text": [
      "[Parallel(n_jobs=1)]: Done   1 out of   1 | elapsed:    0.1s remaining:    0.0s\n"
     ]
    },
    {
     "name": "stdout",
     "output_type": "stream",
     "text": [
      "[CV] ...................................... alpha=0.624, total=   0.2s\n",
      "[CV] alpha=0.624 .....................................................\n",
      "[CV] ...................................... alpha=0.624, total=   0.2s\n",
      "[CV] alpha=0.624 .....................................................\n",
      "[CV] ...................................... alpha=0.624, total=   0.2s\n",
      "[CV] alpha=0.624 .....................................................\n",
      "[CV] ...................................... alpha=0.624, total=   0.2s\n",
      "[CV] alpha=0.624 .....................................................\n",
      "[CV] ...................................... alpha=0.624, total=   0.2s\n",
      "[CV] alpha=0.624 .....................................................\n",
      "[CV] ...................................... alpha=0.624, total=   0.2s\n",
      "[CV] alpha=0.624 .....................................................\n",
      "[CV] ...................................... alpha=0.624, total=   0.2s\n",
      "[CV] alpha=0.624 .....................................................\n",
      "[CV] ...................................... alpha=0.624, total=   0.2s\n",
      "[CV] alpha=0.242 .....................................................\n",
      "[CV] ...................................... alpha=0.242, total=   0.2s\n",
      "[CV] alpha=0.242 .....................................................\n",
      "[CV] ...................................... alpha=0.242, total=   0.2s\n",
      "[CV] alpha=0.242 .....................................................\n",
      "[CV] ...................................... alpha=0.242, total=   0.3s\n",
      "[CV] alpha=0.242 .....................................................\n",
      "[CV] ...................................... alpha=0.242, total=   0.2s\n",
      "[CV] alpha=0.242 .....................................................\n",
      "[CV] ...................................... alpha=0.242, total=   0.2s\n",
      "[CV] alpha=0.242 .....................................................\n",
      "[CV] ...................................... alpha=0.242, total=   0.2s\n",
      "[CV] alpha=0.242 .....................................................\n",
      "[CV] ...................................... alpha=0.242, total=   0.2s\n",
      "[CV] alpha=0.242 .....................................................\n",
      "[CV] ...................................... alpha=0.242, total=   0.2s\n",
      "[CV] alpha=0.242 .....................................................\n",
      "[CV] ...................................... alpha=0.242, total=   0.3s\n",
      "[CV] alpha=0.242 .....................................................\n",
      "[CV] ...................................... alpha=0.242, total=   0.2s\n",
      "[CV] alpha=0.144 .....................................................\n",
      "[CV] ...................................... alpha=0.144, total=   0.2s\n",
      "[CV] alpha=0.144 .....................................................\n",
      "[CV] ...................................... alpha=0.144, total=   0.2s\n",
      "[CV] alpha=0.144 .....................................................\n",
      "[CV] ...................................... alpha=0.144, total=   0.2s\n",
      "[CV] alpha=0.144 .....................................................\n",
      "[CV] ...................................... alpha=0.144, total=   0.2s\n",
      "[CV] alpha=0.144 .....................................................\n",
      "[CV] ...................................... alpha=0.144, total=   0.3s\n",
      "[CV] alpha=0.144 .....................................................\n",
      "[CV] ...................................... alpha=0.144, total=   0.2s\n",
      "[CV] alpha=0.144 .....................................................\n",
      "[CV] ...................................... alpha=0.144, total=   0.2s\n",
      "[CV] alpha=0.144 .....................................................\n",
      "[CV] ...................................... alpha=0.144, total=   0.2s\n",
      "[CV] alpha=0.144 .....................................................\n",
      "[CV] ...................................... alpha=0.144, total=   0.2s\n",
      "[CV] alpha=0.144 .....................................................\n",
      "[CV] ...................................... alpha=0.144, total=   0.2s\n",
      "[CV] alpha=0.391 .....................................................\n",
      "[CV] ...................................... alpha=0.391, total=   0.2s\n",
      "[CV] alpha=0.391 .....................................................\n",
      "[CV] ...................................... alpha=0.391, total=   0.2s\n",
      "[CV] alpha=0.391 .....................................................\n",
      "[CV] ...................................... alpha=0.391, total=   0.2s\n",
      "[CV] alpha=0.391 .....................................................\n",
      "[CV] ...................................... alpha=0.391, total=   0.2s\n",
      "[CV] alpha=0.391 .....................................................\n",
      "[CV] ...................................... alpha=0.391, total=   0.2s\n",
      "[CV] alpha=0.391 .....................................................\n",
      "[CV] ...................................... alpha=0.391, total=   0.3s\n",
      "[CV] alpha=0.391 .....................................................\n",
      "[CV] ...................................... alpha=0.391, total=   0.3s\n",
      "[CV] alpha=0.391 .....................................................\n",
      "[CV] ...................................... alpha=0.391, total=   0.3s\n",
      "[CV] alpha=0.391 .....................................................\n",
      "[CV] ...................................... alpha=0.391, total=   0.2s\n",
      "[CV] alpha=0.391 .....................................................\n",
      "[CV] ...................................... alpha=0.391, total=   0.2s\n",
      "[CV] alpha=0.407 .....................................................\n",
      "[CV] ...................................... alpha=0.407, total=   0.2s\n",
      "[CV] alpha=0.407 .....................................................\n",
      "[CV] ...................................... alpha=0.407, total=   0.2s\n",
      "[CV] alpha=0.407 .....................................................\n",
      "[CV] ...................................... alpha=0.407, total=   0.2s\n",
      "[CV] alpha=0.407 .....................................................\n",
      "[CV] ...................................... alpha=0.407, total=   0.2s\n",
      "[CV] alpha=0.407 .....................................................\n",
      "[CV] ...................................... alpha=0.407, total=   0.3s\n",
      "[CV] alpha=0.407 .....................................................\n",
      "[CV] ...................................... alpha=0.407, total=   0.2s\n",
      "[CV] alpha=0.407 .....................................................\n",
      "[CV] ...................................... alpha=0.407, total=   0.3s\n",
      "[CV] alpha=0.407 .....................................................\n",
      "[CV] ...................................... alpha=0.407, total=   0.2s\n",
      "[CV] alpha=0.407 .....................................................\n",
      "[CV] ...................................... alpha=0.407, total=   0.2s\n",
      "[CV] alpha=0.407 .....................................................\n",
      "[CV] ...................................... alpha=0.407, total=   0.2s\n",
      "[CV] alpha=0.314 .....................................................\n",
      "[CV] ...................................... alpha=0.314, total=   0.2s\n",
      "[CV] alpha=0.314 .....................................................\n",
      "[CV] ...................................... alpha=0.314, total=   0.3s\n",
      "[CV] alpha=0.314 .....................................................\n",
      "[CV] ...................................... alpha=0.314, total=   0.2s\n",
      "[CV] alpha=0.314 .....................................................\n",
      "[CV] ...................................... alpha=0.314, total=   0.2s\n",
      "[CV] alpha=0.314 .....................................................\n",
      "[CV] ...................................... alpha=0.314, total=   0.2s\n",
      "[CV] alpha=0.314 .....................................................\n",
      "[CV] ...................................... alpha=0.314, total=   0.2s\n",
      "[CV] alpha=0.314 .....................................................\n",
      "[CV] ...................................... alpha=0.314, total=   0.2s\n",
      "[CV] alpha=0.314 .....................................................\n",
      "[CV] ...................................... alpha=0.314, total=   0.2s\n",
      "[CV] alpha=0.314 .....................................................\n",
      "[CV] ...................................... alpha=0.314, total=   0.2s\n",
      "[CV] alpha=0.314 .....................................................\n",
      "[CV] ...................................... alpha=0.314, total=   0.2s\n",
      "[CV] alpha=0.753 .....................................................\n",
      "[CV] ...................................... alpha=0.753, total=   0.2s\n"
     ]
    },
    {
     "name": "stdout",
     "output_type": "stream",
     "text": [
      "[CV] alpha=0.753 .....................................................\n",
      "[CV] ...................................... alpha=0.753, total=   0.2s\n",
      "[CV] alpha=0.753 .....................................................\n",
      "[CV] ...................................... alpha=0.753, total=   0.2s\n",
      "[CV] alpha=0.753 .....................................................\n",
      "[CV] ...................................... alpha=0.753, total=   0.2s\n",
      "[CV] alpha=0.753 .....................................................\n",
      "[CV] ...................................... alpha=0.753, total=   0.2s\n",
      "[CV] alpha=0.753 .....................................................\n",
      "[CV] ...................................... alpha=0.753, total=   0.2s\n",
      "[CV] alpha=0.753 .....................................................\n",
      "[CV] ...................................... alpha=0.753, total=   0.2s\n",
      "[CV] alpha=0.753 .....................................................\n",
      "[CV] ...................................... alpha=0.753, total=   0.2s\n",
      "[CV] alpha=0.753 .....................................................\n",
      "[CV] ...................................... alpha=0.753, total=   0.2s\n",
      "[CV] alpha=0.753 .....................................................\n",
      "[CV] ...................................... alpha=0.753, total=   0.1s\n",
      "[CV] alpha=0.942 .....................................................\n",
      "[CV] ...................................... alpha=0.942, total=   0.2s\n",
      "[CV] alpha=0.942 .....................................................\n",
      "[CV] ...................................... alpha=0.942, total=   0.2s\n",
      "[CV] alpha=0.942 .....................................................\n",
      "[CV] ...................................... alpha=0.942, total=   0.2s\n",
      "[CV] alpha=0.942 .....................................................\n",
      "[CV] ...................................... alpha=0.942, total=   0.2s\n",
      "[CV] alpha=0.942 .....................................................\n",
      "[CV] ...................................... alpha=0.942, total=   0.2s\n",
      "[CV] alpha=0.942 .....................................................\n",
      "[CV] ...................................... alpha=0.942, total=   0.2s\n",
      "[CV] alpha=0.942 .....................................................\n",
      "[CV] ...................................... alpha=0.942, total=   0.2s\n",
      "[CV] alpha=0.942 .....................................................\n",
      "[CV] ...................................... alpha=0.942, total=   0.2s\n",
      "[CV] alpha=0.942 .....................................................\n",
      "[CV] ...................................... alpha=0.942, total=   0.1s\n",
      "[CV] alpha=0.942 .....................................................\n",
      "[CV] ...................................... alpha=0.942, total=   0.2s\n",
      "[CV] alpha=0.279 .....................................................\n",
      "[CV] ...................................... alpha=0.279, total=   0.2s\n",
      "[CV] alpha=0.279 .....................................................\n",
      "[CV] ...................................... alpha=0.279, total=   0.2s\n",
      "[CV] alpha=0.279 .....................................................\n",
      "[CV] ...................................... alpha=0.279, total=   0.2s\n",
      "[CV] alpha=0.279 .....................................................\n",
      "[CV] ...................................... alpha=0.279, total=   0.2s\n",
      "[CV] alpha=0.279 .....................................................\n",
      "[CV] ...................................... alpha=0.279, total=   0.2s\n",
      "[CV] alpha=0.279 .....................................................\n",
      "[CV] ...................................... alpha=0.279, total=   0.2s\n",
      "[CV] alpha=0.279 .....................................................\n",
      "[CV] ...................................... alpha=0.279, total=   0.2s\n",
      "[CV] alpha=0.279 .....................................................\n",
      "[CV] ...................................... alpha=0.279, total=   0.2s\n",
      "[CV] alpha=0.279 .....................................................\n",
      "[CV] ...................................... alpha=0.279, total=   0.2s\n",
      "[CV] alpha=0.279 .....................................................\n",
      "[CV] ...................................... alpha=0.279, total=   0.2s\n",
      "[CV] alpha=0.032 .....................................................\n",
      "[CV] ...................................... alpha=0.032, total=   0.3s\n",
      "[CV] alpha=0.032 .....................................................\n",
      "[CV] ...................................... alpha=0.032, total=   0.3s\n",
      "[CV] alpha=0.032 .....................................................\n",
      "[CV] ...................................... alpha=0.032, total=   0.4s\n",
      "[CV] alpha=0.032 .....................................................\n",
      "[CV] ...................................... alpha=0.032, total=   0.4s\n",
      "[CV] alpha=0.032 .....................................................\n",
      "[CV] ...................................... alpha=0.032, total=   0.4s\n",
      "[CV] alpha=0.032 .....................................................\n",
      "[CV] ...................................... alpha=0.032, total=   0.3s\n",
      "[CV] alpha=0.032 .....................................................\n",
      "[CV] ...................................... alpha=0.032, total=   0.4s\n",
      "[CV] alpha=0.032 .....................................................\n",
      "[CV] ...................................... alpha=0.032, total=   0.3s\n",
      "[CV] alpha=0.032 .....................................................\n",
      "[CV] ...................................... alpha=0.032, total=   0.3s\n",
      "[CV] alpha=0.032 .....................................................\n",
      "[CV] ...................................... alpha=0.032, total=   0.2s\n"
     ]
    },
    {
     "name": "stderr",
     "output_type": "stream",
     "text": [
      "[Parallel(n_jobs=1)]: Done 100 out of 100 | elapsed:   21.5s finished\n"
     ]
    },
    {
     "data": {
      "text/plain": [
       "{'alpha': 0.279}"
      ]
     },
     "execution_count": 23,
     "metadata": {},
     "output_type": "execute_result"
    }
   ],
   "source": [
    "la = Lasso()\n",
    "possible_parameter_values = {'alpha' : [float(x)/1000 for x in np.arange(start = 1, stop = 1001, step = 1)]}\n",
    "la_rscv = RandomizedSearchCV(estimator = la, param_distributions = possible_parameter_values, cv = 10, scoring = 'neg_mean_squared_error', verbose = 2, random_state = 17, \n",
    "                              n_jobs = 1)\n",
    "la_rscv.fit(X_train, y_train)\n",
    "la_rscv.best_params_"
   ]
  },
  {
   "cell_type": "code",
   "execution_count": 24,
   "metadata": {
    "ExecuteTime": {
     "end_time": "2021-04-09T16:40:30.064795Z",
     "start_time": "2021-04-09T16:40:30.026778Z"
    },
    "scrolled": true
   },
   "outputs": [
    {
     "name": "stdout",
     "output_type": "stream",
     "text": [
      "Lasso Regression:\n",
      "----------------------------------------------------------------------------------------------------\n",
      "Train r2_score:  0.5108667545342995\n",
      "Test r2_score:  0.5360424821076555\n",
      "----------------------------------------------------------------------------------------------------\n",
      "Train RMSE:  20.370561876137163\n",
      "Test RMSE:  20.195879222637874\n",
      "----------------------------------------------------------------------------------------------------\n",
      "Train MAPE:  0.09732854669287187\n",
      "Test MAPE:  0.09303737459108365\n"
     ]
    }
   ],
   "source": [
    "y_train_pred_la = la_rscv.predict(X_train)\n",
    "y_test_pred_la = la_rscv.predict(X_test)\n",
    "print('Lasso Regression:')\n",
    "print('-' * 100)\n",
    "print('Train r2_score: ', r2_score(y_train, y_train_pred_la))\n",
    "print('Test r2_score: ', r2_score(y_test, y_test_pred_la))\n",
    "print('-' * 100)\n",
    "print('Train RMSE: ', np.sqrt(mean_squared_error(y_train, y_train_pred_la)))\n",
    "print('Test RMSE: ', np.sqrt(mean_squared_error(y_test, y_test_pred_la)))\n",
    "print('-' * 100)\n",
    "print('Train MAPE: ', np.mean(mean_absolute_error(y_train, y_train_pred_la) / y_train))\n",
    "print('Test MAPE: ', np.mean(mean_absolute_error(y_test, y_test_pred_la) / y_test))"
   ]
  },
  {
   "cell_type": "code",
   "execution_count": 25,
   "metadata": {
    "ExecuteTime": {
     "end_time": "2021-04-09T16:40:41.148244Z",
     "start_time": "2021-04-09T16:40:40.937523Z"
    }
   },
   "outputs": [
    {
     "data": {
      "text/plain": [
       "True     0.631711\n",
       "False    0.368289\n",
       "Name: Bool, dtype: float64"
      ]
     },
     "execution_count": 25,
     "metadata": {},
     "output_type": "execute_result"
    }
   ],
   "source": [
    "data_la = pd.DataFrame()\n",
    "data_la['actual'] = y_test\n",
    "data_la['predicted'] = y_test_pred_la\n",
    "data_la['lower range'] = y_test_pred_la - (0.09303737459108365 * y_test_pred_la)\n",
    "data_la['upper range'] = y_test_pred_la + (0.09303737459108365 * y_test_pred_la)\n",
    "t_list = []\n",
    "for i in data_la.index:\n",
    "    if data_la['actual'][i] > data_la['lower range'][i]:\n",
    "        if data_la['actual'][i] < data_la['upper range'][i]:\n",
    "            t_list.append('True')\n",
    "        else:\n",
    "            t_list.append('False')\n",
    "    else:\n",
    "        t_list.append('False')\n",
    "data_la['Bool'] = t_list\n",
    "data_la['Bool'].value_counts()/data_la.shape[0]"
   ]
  },
  {
   "cell_type": "code",
   "execution_count": 26,
   "metadata": {
    "ExecuteTime": {
     "end_time": "2021-04-09T16:41:29.295390Z",
     "start_time": "2021-04-09T16:41:24.402953Z"
    }
   },
   "outputs": [
    {
     "name": "stdout",
     "output_type": "stream",
     "text": [
      "Fitting 10 folds for each of 10 candidates, totalling 100 fits\n",
      "[CV] alpha=0.624 .....................................................\n",
      "[CV] ...................................... alpha=0.624, total=   0.0s\n",
      "[CV] alpha=0.624 .....................................................\n",
      "[CV] ...................................... alpha=0.624, total=   0.1s\n",
      "[CV] alpha=0.624 .....................................................\n",
      "[CV] ...................................... alpha=0.624, total=   0.1s\n",
      "[CV] alpha=0.624 .....................................................\n"
     ]
    },
    {
     "name": "stderr",
     "output_type": "stream",
     "text": [
      "[Parallel(n_jobs=1)]: Using backend SequentialBackend with 1 concurrent workers.\n",
      "[Parallel(n_jobs=1)]: Done   1 out of   1 | elapsed:    0.0s remaining:    0.0s\n"
     ]
    },
    {
     "name": "stdout",
     "output_type": "stream",
     "text": [
      "[CV] ...................................... alpha=0.624, total=   0.1s\n",
      "[CV] alpha=0.624 .....................................................\n",
      "[CV] ...................................... alpha=0.624, total=   0.0s\n",
      "[CV] alpha=0.624 .....................................................\n",
      "[CV] ...................................... alpha=0.624, total=   0.0s\n",
      "[CV] alpha=0.624 .....................................................\n",
      "[CV] ...................................... alpha=0.624, total=   0.0s\n",
      "[CV] alpha=0.624 .....................................................\n",
      "[CV] ...................................... alpha=0.624, total=   0.1s\n",
      "[CV] alpha=0.624 .....................................................\n",
      "[CV] ...................................... alpha=0.624, total=   0.0s\n",
      "[CV] alpha=0.624 .....................................................\n",
      "[CV] ...................................... alpha=0.624, total=   0.0s\n",
      "[CV] alpha=0.242 .....................................................\n",
      "[CV] ...................................... alpha=0.242, total=   0.1s\n",
      "[CV] alpha=0.242 .....................................................\n",
      "[CV] ...................................... alpha=0.242, total=   0.0s\n",
      "[CV] alpha=0.242 .....................................................\n",
      "[CV] ...................................... alpha=0.242, total=   0.1s\n",
      "[CV] alpha=0.242 .....................................................\n",
      "[CV] ...................................... alpha=0.242, total=   0.0s\n",
      "[CV] alpha=0.242 .....................................................\n",
      "[CV] ...................................... alpha=0.242, total=   0.0s\n",
      "[CV] alpha=0.242 .....................................................\n",
      "[CV] ...................................... alpha=0.242, total=   0.0s\n",
      "[CV] alpha=0.242 .....................................................\n",
      "[CV] ...................................... alpha=0.242, total=   0.0s\n",
      "[CV] alpha=0.242 .....................................................\n",
      "[CV] ...................................... alpha=0.242, total=   0.1s\n",
      "[CV] alpha=0.242 .....................................................\n",
      "[CV] ...................................... alpha=0.242, total=   0.0s\n",
      "[CV] alpha=0.242 .....................................................\n",
      "[CV] ...................................... alpha=0.242, total=   0.1s\n",
      "[CV] alpha=0.144 .....................................................\n",
      "[CV] ...................................... alpha=0.144, total=   0.1s\n",
      "[CV] alpha=0.144 .....................................................\n",
      "[CV] ...................................... alpha=0.144, total=   0.1s\n",
      "[CV] alpha=0.144 .....................................................\n",
      "[CV] ...................................... alpha=0.144, total=   0.0s\n",
      "[CV] alpha=0.144 .....................................................\n",
      "[CV] ...................................... alpha=0.144, total=   0.0s\n",
      "[CV] alpha=0.144 .....................................................\n",
      "[CV] ...................................... alpha=0.144, total=   0.0s\n",
      "[CV] alpha=0.144 .....................................................\n",
      "[CV] ...................................... alpha=0.144, total=   0.0s\n",
      "[CV] alpha=0.144 .....................................................\n",
      "[CV] ...................................... alpha=0.144, total=   0.0s\n",
      "[CV] alpha=0.144 .....................................................\n",
      "[CV] ...................................... alpha=0.144, total=   0.0s\n",
      "[CV] alpha=0.144 .....................................................\n",
      "[CV] ...................................... alpha=0.144, total=   0.0s\n",
      "[CV] alpha=0.144 .....................................................\n",
      "[CV] ...................................... alpha=0.144, total=   0.0s\n",
      "[CV] alpha=0.391 .....................................................\n",
      "[CV] ...................................... alpha=0.391, total=   0.0s\n",
      "[CV] alpha=0.391 .....................................................\n",
      "[CV] ...................................... alpha=0.391, total=   0.0s\n",
      "[CV] alpha=0.391 .....................................................\n",
      "[CV] ...................................... alpha=0.391, total=   0.0s\n",
      "[CV] alpha=0.391 .....................................................\n",
      "[CV] ...................................... alpha=0.391, total=   0.0s\n",
      "[CV] alpha=0.391 .....................................................\n",
      "[CV] ...................................... alpha=0.391, total=   0.0s\n",
      "[CV] alpha=0.391 .....................................................\n",
      "[CV] ...................................... alpha=0.391, total=   0.0s\n",
      "[CV] alpha=0.391 .....................................................\n",
      "[CV] ...................................... alpha=0.391, total=   0.0s\n",
      "[CV] alpha=0.391 .....................................................\n",
      "[CV] ...................................... alpha=0.391, total=   0.0s\n",
      "[CV] alpha=0.391 .....................................................\n",
      "[CV] ...................................... alpha=0.391, total=   0.0s\n",
      "[CV] alpha=0.391 .....................................................\n",
      "[CV] ...................................... alpha=0.391, total=   0.0s\n",
      "[CV] alpha=0.407 .....................................................\n",
      "[CV] ...................................... alpha=0.407, total=   0.1s\n",
      "[CV] alpha=0.407 .....................................................\n",
      "[CV] ...................................... alpha=0.407, total=   0.0s\n",
      "[CV] alpha=0.407 .....................................................\n",
      "[CV] ...................................... alpha=0.407, total=   0.0s\n",
      "[CV] alpha=0.407 .....................................................\n",
      "[CV] ...................................... alpha=0.407, total=   0.1s\n",
      "[CV] alpha=0.407 .....................................................\n",
      "[CV] ...................................... alpha=0.407, total=   0.1s\n",
      "[CV] alpha=0.407 .....................................................\n",
      "[CV] ...................................... alpha=0.407, total=   0.1s\n",
      "[CV] alpha=0.407 .....................................................\n",
      "[CV] ...................................... alpha=0.407, total=   0.0s\n",
      "[CV] alpha=0.407 .....................................................\n",
      "[CV] ...................................... alpha=0.407, total=   0.1s\n",
      "[CV] alpha=0.407 .....................................................\n",
      "[CV] ...................................... alpha=0.407, total=   0.0s\n",
      "[CV] alpha=0.407 .....................................................\n",
      "[CV] ...................................... alpha=0.407, total=   0.1s\n",
      "[CV] alpha=0.314 .....................................................\n",
      "[CV] ...................................... alpha=0.314, total=   0.1s\n",
      "[CV] alpha=0.314 .....................................................\n",
      "[CV] ...................................... alpha=0.314, total=   0.1s\n",
      "[CV] alpha=0.314 .....................................................\n",
      "[CV] ...................................... alpha=0.314, total=   0.0s\n",
      "[CV] alpha=0.314 .....................................................\n",
      "[CV] ...................................... alpha=0.314, total=   0.0s\n",
      "[CV] alpha=0.314 .....................................................\n",
      "[CV] ...................................... alpha=0.314, total=   0.0s\n",
      "[CV] alpha=0.314 .....................................................\n",
      "[CV] ...................................... alpha=0.314, total=   0.0s\n",
      "[CV] alpha=0.314 .....................................................\n",
      "[CV] ...................................... alpha=0.314, total=   0.1s\n",
      "[CV] alpha=0.314 .....................................................\n",
      "[CV] ...................................... alpha=0.314, total=   0.0s\n",
      "[CV] alpha=0.314 .....................................................\n",
      "[CV] ...................................... alpha=0.314, total=   0.0s\n",
      "[CV] alpha=0.314 .....................................................\n",
      "[CV] ...................................... alpha=0.314, total=   0.0s\n",
      "[CV] alpha=0.753 .....................................................\n",
      "[CV] ...................................... alpha=0.753, total=   0.1s\n",
      "[CV] alpha=0.753 .....................................................\n",
      "[CV] ...................................... alpha=0.753, total=   0.0s\n"
     ]
    },
    {
     "name": "stdout",
     "output_type": "stream",
     "text": [
      "[CV] alpha=0.753 .....................................................\n",
      "[CV] ...................................... alpha=0.753, total=   0.1s\n",
      "[CV] alpha=0.753 .....................................................\n",
      "[CV] ...................................... alpha=0.753, total=   0.0s\n",
      "[CV] alpha=0.753 .....................................................\n",
      "[CV] ...................................... alpha=0.753, total=   0.1s\n",
      "[CV] alpha=0.753 .....................................................\n",
      "[CV] ...................................... alpha=0.753, total=   0.1s\n",
      "[CV] alpha=0.753 .....................................................\n",
      "[CV] ...................................... alpha=0.753, total=   0.1s\n",
      "[CV] alpha=0.753 .....................................................\n",
      "[CV] ...................................... alpha=0.753, total=   0.1s\n",
      "[CV] alpha=0.753 .....................................................\n",
      "[CV] ...................................... alpha=0.753, total=   0.0s\n",
      "[CV] alpha=0.753 .....................................................\n",
      "[CV] ...................................... alpha=0.753, total=   0.1s\n",
      "[CV] alpha=0.942 .....................................................\n",
      "[CV] ...................................... alpha=0.942, total=   0.0s\n",
      "[CV] alpha=0.942 .....................................................\n",
      "[CV] ...................................... alpha=0.942, total=   0.0s\n",
      "[CV] alpha=0.942 .....................................................\n",
      "[CV] ...................................... alpha=0.942, total=   0.0s\n",
      "[CV] alpha=0.942 .....................................................\n",
      "[CV] ...................................... alpha=0.942, total=   0.0s\n",
      "[CV] alpha=0.942 .....................................................\n",
      "[CV] ...................................... alpha=0.942, total=   0.0s\n",
      "[CV] alpha=0.942 .....................................................\n",
      "[CV] ...................................... alpha=0.942, total=   0.0s\n",
      "[CV] alpha=0.942 .....................................................\n",
      "[CV] ...................................... alpha=0.942, total=   0.0s\n",
      "[CV] alpha=0.942 .....................................................\n",
      "[CV] ...................................... alpha=0.942, total=   0.0s\n",
      "[CV] alpha=0.942 .....................................................\n",
      "[CV] ...................................... alpha=0.942, total=   0.1s\n",
      "[CV] alpha=0.942 .....................................................\n",
      "[CV] ...................................... alpha=0.942, total=   0.1s\n",
      "[CV] alpha=0.279 .....................................................\n",
      "[CV] ...................................... alpha=0.279, total=   0.0s\n",
      "[CV] alpha=0.279 .....................................................\n",
      "[CV] ...................................... alpha=0.279, total=   0.0s\n",
      "[CV] alpha=0.279 .....................................................\n",
      "[CV] ...................................... alpha=0.279, total=   0.1s\n",
      "[CV] alpha=0.279 .....................................................\n",
      "[CV] ...................................... alpha=0.279, total=   0.0s\n",
      "[CV] alpha=0.279 .....................................................\n",
      "[CV] ...................................... alpha=0.279, total=   0.0s\n",
      "[CV] alpha=0.279 .....................................................\n",
      "[CV] ...................................... alpha=0.279, total=   0.0s\n",
      "[CV] alpha=0.279 .....................................................\n",
      "[CV] ...................................... alpha=0.279, total=   0.0s\n",
      "[CV] alpha=0.279 .....................................................\n",
      "[CV] ...................................... alpha=0.279, total=   0.1s\n",
      "[CV] alpha=0.279 .....................................................\n",
      "[CV] ...................................... alpha=0.279, total=   0.0s\n",
      "[CV] alpha=0.279 .....................................................\n",
      "[CV] ...................................... alpha=0.279, total=   0.0s\n",
      "[CV] alpha=0.032 .....................................................\n",
      "[CV] ...................................... alpha=0.032, total=   0.0s\n",
      "[CV] alpha=0.032 .....................................................\n",
      "[CV] ...................................... alpha=0.032, total=   0.1s\n",
      "[CV] alpha=0.032 .....................................................\n",
      "[CV] ...................................... alpha=0.032, total=   0.1s\n",
      "[CV] alpha=0.032 .....................................................\n",
      "[CV] ...................................... alpha=0.032, total=   0.0s\n",
      "[CV] alpha=0.032 .....................................................\n",
      "[CV] ...................................... alpha=0.032, total=   0.0s\n",
      "[CV] alpha=0.032 .....................................................\n",
      "[CV] ...................................... alpha=0.032, total=   0.1s\n",
      "[CV] alpha=0.032 .....................................................\n",
      "[CV] ...................................... alpha=0.032, total=   0.0s\n",
      "[CV] alpha=0.032 .....................................................\n",
      "[CV] ...................................... alpha=0.032, total=   0.1s\n",
      "[CV] alpha=0.032 .....................................................\n",
      "[CV] ...................................... alpha=0.032, total=   0.0s\n",
      "[CV] alpha=0.032 .....................................................\n",
      "[CV] ...................................... alpha=0.032, total=   0.0s\n"
     ]
    },
    {
     "name": "stderr",
     "output_type": "stream",
     "text": [
      "[Parallel(n_jobs=1)]: Done 100 out of 100 | elapsed:    4.7s finished\n"
     ]
    },
    {
     "data": {
      "text/plain": [
       "{'alpha': 0.942}"
      ]
     },
     "execution_count": 26,
     "metadata": {},
     "output_type": "execute_result"
    }
   ],
   "source": [
    "ri = Ridge()\n",
    "possible_parameter_values = {'alpha' : [float(x)/1000 for x in np.arange(start = 1, stop = 1001, step = 1)]}\n",
    "ri_rscv = RandomizedSearchCV(estimator = ri, param_distributions = possible_parameter_values, cv = 10, scoring = 'neg_mean_squared_error', verbose = 2, random_state = 17, \n",
    "                              n_jobs = 1)\n",
    "ri_rscv.fit(X_train, y_train)\n",
    "ri_rscv.best_params_"
   ]
  },
  {
   "cell_type": "code",
   "execution_count": 27,
   "metadata": {
    "ExecuteTime": {
     "end_time": "2021-04-09T16:42:29.943196Z",
     "start_time": "2021-04-09T16:42:29.906756Z"
    }
   },
   "outputs": [
    {
     "name": "stdout",
     "output_type": "stream",
     "text": [
      "Ridge Regression:\n",
      "----------------------------------------------------------------------------------------------------\n",
      "Train r2_score:  0.5206602517038694\n",
      "Test r2_score:  0.5340855096877972\n",
      "----------------------------------------------------------------------------------------------------\n",
      "Train RMSE:  20.16559956209527\n",
      "Test RMSE:  20.238427503476533\n",
      "----------------------------------------------------------------------------------------------------\n",
      "Train MAPE:  0.09717001686842104\n",
      "Test MAPE:  0.0942745696150554\n"
     ]
    }
   ],
   "source": [
    "y_train_pred_ri = ri_rscv.predict(X_train)\n",
    "y_test_pred_ri = ri_rscv.predict(X_test)\n",
    "print('Ridge Regression:')\n",
    "print('-' * 100)\n",
    "print('Train r2_score: ', r2_score(y_train, y_train_pred_ri))\n",
    "print('Test r2_score: ', r2_score(y_test, y_test_pred_ri))\n",
    "print('-' * 100)\n",
    "print('Train RMSE: ', np.sqrt(mean_squared_error(y_train, y_train_pred_ri)))\n",
    "print('Test RMSE: ', np.sqrt(mean_squared_error(y_test, y_test_pred_ri)))\n",
    "print('-' * 100)\n",
    "print('Train MAPE: ', np.mean(mean_absolute_error(y_train, y_train_pred_ri) / y_train))\n",
    "print('Test MAPE: ', np.mean(mean_absolute_error(y_test, y_test_pred_ri) / y_test))"
   ]
  },
  {
   "cell_type": "code",
   "execution_count": 28,
   "metadata": {
    "ExecuteTime": {
     "end_time": "2021-04-09T16:42:36.970221Z",
     "start_time": "2021-04-09T16:42:36.755655Z"
    }
   },
   "outputs": [
    {
     "data": {
      "text/plain": [
       "True     0.619966\n",
       "False    0.380034\n",
       "Name: Bool, dtype: float64"
      ]
     },
     "execution_count": 28,
     "metadata": {},
     "output_type": "execute_result"
    }
   ],
   "source": [
    "data_ri = pd.DataFrame()\n",
    "data_ri['actual'] = y_test\n",
    "data_ri['predicted'] = y_test_pred_ri\n",
    "data_ri['lower range'] = y_test_pred_ri - (0.0942745696150554 * y_test_pred_ri)\n",
    "data_ri['upper range'] = y_test_pred_ri + (0.0942745696150554 * y_test_pred_ri)\n",
    "t_list = []\n",
    "for i in data_ri.index:\n",
    "    if data_ri['actual'][i] > data_ri['lower range'][i]:\n",
    "        if data_ri['actual'][i] < data_ri['upper range'][i]:\n",
    "            t_list.append('True')\n",
    "        else:\n",
    "            t_list.append('False')\n",
    "    else:\n",
    "        t_list.append('False')\n",
    "data_ri['Bool'] = t_list\n",
    "data_ri['Bool'].value_counts()/data_ri.shape[0]"
   ]
  },
  {
   "cell_type": "code",
   "execution_count": 39,
   "metadata": {
    "ExecuteTime": {
     "end_time": "2021-04-10T07:42:21.607299Z",
     "start_time": "2021-04-10T07:23:41.649684Z"
    }
   },
   "outputs": [
    {
     "name": "stdout",
     "output_type": "stream",
     "text": [
      "Fitting 10 folds for each of 10 candidates, totalling 100 fits\n",
      "[CV] n_estimators=200, learning_rate=0.544 ...........................\n"
     ]
    },
    {
     "name": "stderr",
     "output_type": "stream",
     "text": [
      "[Parallel(n_jobs=1)]: Using backend SequentialBackend with 1 concurrent workers.\n"
     ]
    },
    {
     "name": "stdout",
     "output_type": "stream",
     "text": [
      "[CV] ............ n_estimators=200, learning_rate=0.544, total=   3.2s\n",
      "[CV] n_estimators=200, learning_rate=0.544 ...........................\n"
     ]
    },
    {
     "name": "stderr",
     "output_type": "stream",
     "text": [
      "[Parallel(n_jobs=1)]: Done   1 out of   1 | elapsed:    3.1s remaining:    0.0s\n"
     ]
    },
    {
     "name": "stdout",
     "output_type": "stream",
     "text": [
      "[CV] ............ n_estimators=200, learning_rate=0.544, total=   4.2s\n",
      "[CV] n_estimators=200, learning_rate=0.544 ...........................\n",
      "[CV] ............ n_estimators=200, learning_rate=0.544, total=   3.0s\n",
      "[CV] n_estimators=200, learning_rate=0.544 ...........................\n",
      "[CV] ............ n_estimators=200, learning_rate=0.544, total=   3.7s\n",
      "[CV] n_estimators=200, learning_rate=0.544 ...........................\n",
      "[CV] ............ n_estimators=200, learning_rate=0.544, total=   4.0s\n",
      "[CV] n_estimators=200, learning_rate=0.544 ...........................\n",
      "[CV] ............ n_estimators=200, learning_rate=0.544, total=   3.5s\n",
      "[CV] n_estimators=200, learning_rate=0.544 ...........................\n",
      "[CV] ............ n_estimators=200, learning_rate=0.544, total=   3.6s\n",
      "[CV] n_estimators=200, learning_rate=0.544 ...........................\n",
      "[CV] ............ n_estimators=200, learning_rate=0.544, total=   5.0s\n",
      "[CV] n_estimators=200, learning_rate=0.544 ...........................\n",
      "[CV] ............ n_estimators=200, learning_rate=0.544, total=   4.5s\n",
      "[CV] n_estimators=200, learning_rate=0.544 ...........................\n",
      "[CV] ............ n_estimators=200, learning_rate=0.544, total=   3.9s\n",
      "[CV] n_estimators=600, learning_rate=0.11 ............................\n",
      "[CV] ............. n_estimators=600, learning_rate=0.11, total=  15.8s\n",
      "[CV] n_estimators=600, learning_rate=0.11 ............................\n",
      "[CV] ............. n_estimators=600, learning_rate=0.11, total=  16.3s\n",
      "[CV] n_estimators=600, learning_rate=0.11 ............................\n",
      "[CV] ............. n_estimators=600, learning_rate=0.11, total=  16.9s\n",
      "[CV] n_estimators=600, learning_rate=0.11 ............................\n",
      "[CV] ............. n_estimators=600, learning_rate=0.11, total=  12.6s\n",
      "[CV] n_estimators=600, learning_rate=0.11 ............................\n",
      "[CV] ............. n_estimators=600, learning_rate=0.11, total=  16.0s\n",
      "[CV] n_estimators=600, learning_rate=0.11 ............................\n",
      "[CV] ............. n_estimators=600, learning_rate=0.11, total=  18.2s\n",
      "[CV] n_estimators=600, learning_rate=0.11 ............................\n",
      "[CV] ............. n_estimators=600, learning_rate=0.11, total=  17.2s\n",
      "[CV] n_estimators=600, learning_rate=0.11 ............................\n",
      "[CV] ............. n_estimators=600, learning_rate=0.11, total=  22.4s\n",
      "[CV] n_estimators=600, learning_rate=0.11 ............................\n",
      "[CV] ............. n_estimators=600, learning_rate=0.11, total=  20.4s\n",
      "[CV] n_estimators=600, learning_rate=0.11 ............................\n",
      "[CV] ............. n_estimators=600, learning_rate=0.11, total=  17.4s\n",
      "[CV] n_estimators=150, learning_rate=0.686 ...........................\n",
      "[CV] ............ n_estimators=150, learning_rate=0.686, total=   3.1s\n",
      "[CV] n_estimators=150, learning_rate=0.686 ...........................\n",
      "[CV] ............ n_estimators=150, learning_rate=0.686, total=   3.2s\n",
      "[CV] n_estimators=150, learning_rate=0.686 ...........................\n",
      "[CV] ............ n_estimators=150, learning_rate=0.686, total=   2.6s\n",
      "[CV] n_estimators=150, learning_rate=0.686 ...........................\n",
      "[CV] ............ n_estimators=150, learning_rate=0.686, total=   2.2s\n",
      "[CV] n_estimators=150, learning_rate=0.686 ...........................\n",
      "[CV] ............ n_estimators=150, learning_rate=0.686, total=   3.6s\n",
      "[CV] n_estimators=150, learning_rate=0.686 ...........................\n",
      "[CV] ............ n_estimators=150, learning_rate=0.686, total=   3.1s\n",
      "[CV] n_estimators=150, learning_rate=0.686 ...........................\n",
      "[CV] ............ n_estimators=150, learning_rate=0.686, total=   3.2s\n",
      "[CV] n_estimators=150, learning_rate=0.686 ...........................\n",
      "[CV] ............ n_estimators=150, learning_rate=0.686, total=   3.6s\n",
      "[CV] n_estimators=150, learning_rate=0.686 ...........................\n",
      "[CV] ............ n_estimators=150, learning_rate=0.686, total=   2.6s\n",
      "[CV] n_estimators=150, learning_rate=0.686 ...........................\n",
      "[CV] ............ n_estimators=150, learning_rate=0.686, total=   2.8s\n",
      "[CV] n_estimators=350, learning_rate=0.021 ...........................\n",
      "[CV] ............ n_estimators=350, learning_rate=0.021, total=  41.4s\n",
      "[CV] n_estimators=350, learning_rate=0.021 ...........................\n",
      "[CV] ............ n_estimators=350, learning_rate=0.021, total=  40.2s\n",
      "[CV] n_estimators=350, learning_rate=0.021 ...........................\n",
      "[CV] ............ n_estimators=350, learning_rate=0.021, total=  40.3s\n",
      "[CV] n_estimators=350, learning_rate=0.021 ...........................\n",
      "[CV] ............ n_estimators=350, learning_rate=0.021, total=  39.8s\n",
      "[CV] n_estimators=350, learning_rate=0.021 ...........................\n",
      "[CV] ............ n_estimators=350, learning_rate=0.021, total=  39.9s\n",
      "[CV] n_estimators=350, learning_rate=0.021 ...........................\n",
      "[CV] ............ n_estimators=350, learning_rate=0.021, total=  39.9s\n",
      "[CV] n_estimators=350, learning_rate=0.021 ...........................\n",
      "[CV] ............ n_estimators=350, learning_rate=0.021, total=  39.9s\n",
      "[CV] n_estimators=350, learning_rate=0.021 ...........................\n",
      "[CV] ............ n_estimators=350, learning_rate=0.021, total=  39.5s\n",
      "[CV] n_estimators=350, learning_rate=0.021 ...........................\n",
      "[CV] ............ n_estimators=350, learning_rate=0.021, total=  47.0s\n",
      "[CV] n_estimators=350, learning_rate=0.021 ...........................\n",
      "[CV] ............ n_estimators=350, learning_rate=0.021, total=  51.3s\n",
      "[CV] n_estimators=500, learning_rate=0.477 ...........................\n",
      "[CV] ............ n_estimators=500, learning_rate=0.477, total=   4.4s\n",
      "[CV] n_estimators=500, learning_rate=0.477 ...........................\n",
      "[CV] ............ n_estimators=500, learning_rate=0.477, total=   4.2s\n",
      "[CV] n_estimators=500, learning_rate=0.477 ...........................\n",
      "[CV] ............ n_estimators=500, learning_rate=0.477, total=   3.9s\n",
      "[CV] n_estimators=500, learning_rate=0.477 ...........................\n",
      "[CV] ............ n_estimators=500, learning_rate=0.477, total=   4.0s\n",
      "[CV] n_estimators=500, learning_rate=0.477 ...........................\n",
      "[CV] ............ n_estimators=500, learning_rate=0.477, total=   5.4s\n",
      "[CV] n_estimators=500, learning_rate=0.477 ...........................\n",
      "[CV] ............ n_estimators=500, learning_rate=0.477, total=   3.4s\n",
      "[CV] n_estimators=500, learning_rate=0.477 ...........................\n",
      "[CV] ............ n_estimators=500, learning_rate=0.477, total=   4.1s\n",
      "[CV] n_estimators=500, learning_rate=0.477 ...........................\n",
      "[CV] ............ n_estimators=500, learning_rate=0.477, total=   4.4s\n",
      "[CV] n_estimators=500, learning_rate=0.477 ...........................\n",
      "[CV] ............ n_estimators=500, learning_rate=0.477, total=   4.4s\n",
      "[CV] n_estimators=500, learning_rate=0.477 ...........................\n",
      "[CV] ............ n_estimators=500, learning_rate=0.477, total=   4.6s\n",
      "[CV] n_estimators=250, learning_rate=0.229 ...........................\n",
      "[CV] ............ n_estimators=250, learning_rate=0.229, total=   8.5s\n",
      "[CV] n_estimators=250, learning_rate=0.229 ...........................\n",
      "[CV] ............ n_estimators=250, learning_rate=0.229, total=   7.6s\n",
      "[CV] n_estimators=250, learning_rate=0.229 ...........................\n",
      "[CV] ............ n_estimators=250, learning_rate=0.229, total=   8.2s\n",
      "[CV] n_estimators=250, learning_rate=0.229 ...........................\n",
      "[CV] ............ n_estimators=250, learning_rate=0.229, total=   5.6s\n",
      "[CV] n_estimators=250, learning_rate=0.229 ...........................\n",
      "[CV] ............ n_estimators=250, learning_rate=0.229, total=   7.5s\n",
      "[CV] n_estimators=250, learning_rate=0.229 ...........................\n",
      "[CV] ............ n_estimators=250, learning_rate=0.229, total=   7.7s\n",
      "[CV] n_estimators=250, learning_rate=0.229 ...........................\n",
      "[CV] ............ n_estimators=250, learning_rate=0.229, total=   8.7s\n",
      "[CV] n_estimators=250, learning_rate=0.229 ...........................\n",
      "[CV] ............ n_estimators=250, learning_rate=0.229, total=  10.8s\n",
      "[CV] n_estimators=250, learning_rate=0.229 ...........................\n",
      "[CV] ............ n_estimators=250, learning_rate=0.229, total=   7.8s\n",
      "[CV] n_estimators=250, learning_rate=0.229 ...........................\n"
     ]
    },
    {
     "name": "stdout",
     "output_type": "stream",
     "text": [
      "[CV] ............ n_estimators=250, learning_rate=0.229, total=   8.3s\n",
      "[CV] n_estimators=650, learning_rate=0.713 ...........................\n",
      "[CV] ............ n_estimators=650, learning_rate=0.713, total=   3.0s\n",
      "[CV] n_estimators=650, learning_rate=0.713 ...........................\n",
      "[CV] ............ n_estimators=650, learning_rate=0.713, total=   3.5s\n",
      "[CV] n_estimators=650, learning_rate=0.713 ...........................\n",
      "[CV] ............ n_estimators=650, learning_rate=0.713, total=   2.4s\n",
      "[CV] n_estimators=650, learning_rate=0.713 ...........................\n",
      "[CV] ............ n_estimators=650, learning_rate=0.713, total=   2.2s\n",
      "[CV] n_estimators=650, learning_rate=0.713 ...........................\n",
      "[CV] ............ n_estimators=650, learning_rate=0.713, total=   2.2s\n",
      "[CV] n_estimators=650, learning_rate=0.713 ...........................\n",
      "[CV] ............ n_estimators=650, learning_rate=0.713, total=   3.2s\n",
      "[CV] n_estimators=650, learning_rate=0.713 ...........................\n",
      "[CV] ............ n_estimators=650, learning_rate=0.713, total=   3.2s\n",
      "[CV] n_estimators=650, learning_rate=0.713 ...........................\n",
      "[CV] ............ n_estimators=650, learning_rate=0.713, total=   4.0s\n",
      "[CV] n_estimators=650, learning_rate=0.713 ...........................\n",
      "[CV] ............ n_estimators=650, learning_rate=0.713, total=   3.6s\n",
      "[CV] n_estimators=650, learning_rate=0.713 ...........................\n",
      "[CV] ............ n_estimators=650, learning_rate=0.713, total=   3.1s\n",
      "[CV] n_estimators=600, learning_rate=0.692 ...........................\n",
      "[CV] ............ n_estimators=600, learning_rate=0.692, total=   2.5s\n",
      "[CV] n_estimators=600, learning_rate=0.692 ...........................\n",
      "[CV] ............ n_estimators=600, learning_rate=0.692, total=   2.9s\n",
      "[CV] n_estimators=600, learning_rate=0.692 ...........................\n",
      "[CV] ............ n_estimators=600, learning_rate=0.692, total=   3.1s\n",
      "[CV] n_estimators=600, learning_rate=0.692 ...........................\n",
      "[CV] ............ n_estimators=600, learning_rate=0.692, total=   2.8s\n",
      "[CV] n_estimators=600, learning_rate=0.692 ...........................\n",
      "[CV] ............ n_estimators=600, learning_rate=0.692, total=   3.0s\n",
      "[CV] n_estimators=600, learning_rate=0.692 ...........................\n",
      "[CV] ............ n_estimators=600, learning_rate=0.692, total=   2.8s\n",
      "[CV] n_estimators=600, learning_rate=0.692 ...........................\n",
      "[CV] ............ n_estimators=600, learning_rate=0.692, total=   2.9s\n",
      "[CV] n_estimators=600, learning_rate=0.692 ...........................\n",
      "[CV] ............ n_estimators=600, learning_rate=0.692, total=   1.7s\n",
      "[CV] n_estimators=600, learning_rate=0.692 ...........................\n",
      "[CV] ............ n_estimators=600, learning_rate=0.692, total=   2.8s\n",
      "[CV] n_estimators=600, learning_rate=0.692 ...........................\n",
      "[CV] ............ n_estimators=600, learning_rate=0.692, total=   3.2s\n",
      "[CV] n_estimators=500, learning_rate=0.967 ...........................\n",
      "[CV] ............ n_estimators=500, learning_rate=0.967, total=   2.8s\n",
      "[CV] n_estimators=500, learning_rate=0.967 ...........................\n",
      "[CV] ............ n_estimators=500, learning_rate=0.967, total=   1.7s\n",
      "[CV] n_estimators=500, learning_rate=0.967 ...........................\n",
      "[CV] ............ n_estimators=500, learning_rate=0.967, total=   1.6s\n",
      "[CV] n_estimators=500, learning_rate=0.967 ...........................\n",
      "[CV] ............ n_estimators=500, learning_rate=0.967, total=   2.3s\n",
      "[CV] n_estimators=500, learning_rate=0.967 ...........................\n",
      "[CV] ............ n_estimators=500, learning_rate=0.967, total=   1.6s\n",
      "[CV] n_estimators=500, learning_rate=0.967 ...........................\n",
      "[CV] ............ n_estimators=500, learning_rate=0.967, total=   2.4s\n",
      "[CV] n_estimators=500, learning_rate=0.967 ...........................\n",
      "[CV] ............ n_estimators=500, learning_rate=0.967, total=   4.0s\n",
      "[CV] n_estimators=500, learning_rate=0.967 ...........................\n",
      "[CV] ............ n_estimators=500, learning_rate=0.967, total=   2.9s\n",
      "[CV] n_estimators=500, learning_rate=0.967 ...........................\n",
      "[CV] ............ n_estimators=500, learning_rate=0.967, total=   2.4s\n",
      "[CV] n_estimators=500, learning_rate=0.967 ...........................\n",
      "[CV] ............ n_estimators=500, learning_rate=0.967, total=   2.2s\n",
      "[CV] n_estimators=750, learning_rate=0.089 ...........................\n",
      "[CV] ............ n_estimators=750, learning_rate=0.089, total=  23.2s\n",
      "[CV] n_estimators=750, learning_rate=0.089 ...........................\n",
      "[CV] ............ n_estimators=750, learning_rate=0.089, total=  21.1s\n",
      "[CV] n_estimators=750, learning_rate=0.089 ...........................\n",
      "[CV] ............ n_estimators=750, learning_rate=0.089, total=  19.0s\n",
      "[CV] n_estimators=750, learning_rate=0.089 ...........................\n",
      "[CV] ............ n_estimators=750, learning_rate=0.089, total=  17.9s\n",
      "[CV] n_estimators=750, learning_rate=0.089 ...........................\n",
      "[CV] ............ n_estimators=750, learning_rate=0.089, total=  18.3s\n",
      "[CV] n_estimators=750, learning_rate=0.089 ...........................\n",
      "[CV] ............ n_estimators=750, learning_rate=0.089, total=  17.8s\n",
      "[CV] n_estimators=750, learning_rate=0.089 ...........................\n",
      "[CV] ............ n_estimators=750, learning_rate=0.089, total=  22.3s\n",
      "[CV] n_estimators=750, learning_rate=0.089 ...........................\n",
      "[CV] ............ n_estimators=750, learning_rate=0.089, total=  23.9s\n",
      "[CV] n_estimators=750, learning_rate=0.089 ...........................\n",
      "[CV] ............ n_estimators=750, learning_rate=0.089, total=  20.4s\n",
      "[CV] n_estimators=750, learning_rate=0.089 ...........................\n",
      "[CV] ............ n_estimators=750, learning_rate=0.089, total=  23.6s\n"
     ]
    },
    {
     "name": "stderr",
     "output_type": "stream",
     "text": [
      "[Parallel(n_jobs=1)]: Done 100 out of 100 | elapsed: 17.9min finished\n"
     ]
    },
    {
     "data": {
      "text/plain": [
       "{'n_estimators': 350, 'learning_rate': 0.021}"
      ]
     },
     "execution_count": 39,
     "metadata": {},
     "output_type": "execute_result"
    }
   ],
   "source": [
    "abr = AdaBoostRegressor()\n",
    "possible_parameter_values = {'n_estimators' : [int(x) for x in np.arange(start = 50, stop = 1001, step = 50)],\n",
    "                             'learning_rate' : [float(x)/1000 for x in np.arange(start = 1, stop = 1001, step = 1)]}\n",
    "abr_rscv = RandomizedSearchCV(estimator = abr, param_distributions = possible_parameter_values, cv = 10, scoring = 'neg_mean_squared_error', verbose = 2, random_state = 17, \n",
    "                              n_jobs = 1)\n",
    "abr_rscv.fit(X_train, y_train)\n",
    "abr_rscv.best_params_"
   ]
  },
  {
   "cell_type": "code",
   "execution_count": 40,
   "metadata": {
    "ExecuteTime": {
     "end_time": "2021-04-10T07:42:39.101827Z",
     "start_time": "2021-04-10T07:42:34.318107Z"
    }
   },
   "outputs": [
    {
     "name": "stdout",
     "output_type": "stream",
     "text": [
      "Ada Boost Regressor:\n",
      "----------------------------------------------------------------------------------------------------\n",
      "Train r2_score:  0.3735506640076639\n",
      "Test r2_score:  0.3471515062212125\n",
      "----------------------------------------------------------------------------------------------------\n",
      "Train RMSE:  23.05326241230492\n",
      "Test RMSE:  23.956858066173687\n",
      "----------------------------------------------------------------------------------------------------\n",
      "Train MAPE:  0.11558111492391866\n",
      "Test MAPE:  0.11465422266062672\n"
     ]
    }
   ],
   "source": [
    "y_train_pred_abr = abr_rscv.predict(X_train)\n",
    "y_test_pred_abr = abr_rscv.predict(X_test)\n",
    "print('Ada Boost Regressor:')\n",
    "print('-' * 100)\n",
    "print('Train r2_score: ', r2_score(y_train, y_train_pred_abr))\n",
    "print('Test r2_score: ', r2_score(y_test, y_test_pred_abr))\n",
    "print('-' * 100)\n",
    "print('Train RMSE: ', np.sqrt(mean_squared_error(y_train, y_train_pred_abr)))\n",
    "print('Test RMSE: ', np.sqrt(mean_squared_error(y_test, y_test_pred_abr)))\n",
    "print('-' * 100)\n",
    "print('Train MAPE: ', np.mean(mean_absolute_error(y_train, y_train_pred_abr) / y_train))\n",
    "print('Test MAPE: ', np.mean(mean_absolute_error(y_test, y_test_pred_abr) / y_test))"
   ]
  },
  {
   "cell_type": "code",
   "execution_count": 41,
   "metadata": {
    "ExecuteTime": {
     "end_time": "2021-04-10T07:42:45.190691Z",
     "start_time": "2021-04-10T07:42:44.973298Z"
    }
   },
   "outputs": [
    {
     "data": {
      "text/plain": [
       "True     0.600951\n",
       "False    0.399049\n",
       "Name: Bool, dtype: float64"
      ]
     },
     "execution_count": 41,
     "metadata": {},
     "output_type": "execute_result"
    }
   ],
   "source": [
    "data_abr = pd.DataFrame()\n",
    "data_abr['actual'] = y_test\n",
    "data_abr['predicted'] = y_test_pred_abr\n",
    "data_abr['lower range'] = y_test_pred_abr - (0.11465422266062672 * y_test_pred_abr)\n",
    "data_abr['upper range'] = y_test_pred_abr + (0.11465422266062672 * y_test_pred_abr)\n",
    "t_list = []\n",
    "for i in data_abr.index:\n",
    "    if data_abr['actual'][i] > data_abr['lower range'][i]:\n",
    "        if data_abr['actual'][i] < data_abr['upper range'][i]:\n",
    "            t_list.append('True')\n",
    "        else:\n",
    "            t_list.append('False')\n",
    "    else:\n",
    "        t_list.append('False')\n",
    "data_abr['Bool'] = t_list\n",
    "data_abr['Bool'].value_counts()/data_abr.shape[0]"
   ]
  },
  {
   "cell_type": "code",
   "execution_count": 22,
   "metadata": {
    "ExecuteTime": {
     "end_time": "2021-04-10T06:05:31.795263Z",
     "start_time": "2021-04-10T06:04:14.725208Z"
    },
    "scrolled": false
   },
   "outputs": [
    {
     "name": "stdout",
     "output_type": "stream",
     "text": [
      "Fitting 10 folds for each of 10 candidates, totalling 100 fits\n",
      "[CV] weights=uniform, n_neighbors=8 ..................................\n"
     ]
    },
    {
     "name": "stderr",
     "output_type": "stream",
     "text": [
      "[Parallel(n_jobs=1)]: Using backend SequentialBackend with 1 concurrent workers.\n"
     ]
    },
    {
     "name": "stdout",
     "output_type": "stream",
     "text": [
      "[CV] ................... weights=uniform, n_neighbors=8, total=   0.8s\n",
      "[CV] weights=uniform, n_neighbors=8 ..................................\n"
     ]
    },
    {
     "name": "stderr",
     "output_type": "stream",
     "text": [
      "[Parallel(n_jobs=1)]: Done   1 out of   1 | elapsed:    0.7s remaining:    0.0s\n"
     ]
    },
    {
     "name": "stdout",
     "output_type": "stream",
     "text": [
      "[CV] ................... weights=uniform, n_neighbors=8, total=   0.8s\n",
      "[CV] weights=uniform, n_neighbors=8 ..................................\n",
      "[CV] ................... weights=uniform, n_neighbors=8, total=   0.7s\n",
      "[CV] weights=uniform, n_neighbors=8 ..................................\n",
      "[CV] ................... weights=uniform, n_neighbors=8, total=   0.8s\n",
      "[CV] weights=uniform, n_neighbors=8 ..................................\n",
      "[CV] ................... weights=uniform, n_neighbors=8, total=   0.8s\n",
      "[CV] weights=uniform, n_neighbors=8 ..................................\n",
      "[CV] ................... weights=uniform, n_neighbors=8, total=   0.8s\n",
      "[CV] weights=uniform, n_neighbors=8 ..................................\n",
      "[CV] ................... weights=uniform, n_neighbors=8, total=   0.8s\n",
      "[CV] weights=uniform, n_neighbors=8 ..................................\n",
      "[CV] ................... weights=uniform, n_neighbors=8, total=   0.8s\n",
      "[CV] weights=uniform, n_neighbors=8 ..................................\n",
      "[CV] ................... weights=uniform, n_neighbors=8, total=   0.8s\n",
      "[CV] weights=uniform, n_neighbors=8 ..................................\n",
      "[CV] ................... weights=uniform, n_neighbors=8, total=   0.7s\n",
      "[CV] weights=distance, n_neighbors=2 .................................\n",
      "[CV] .................. weights=distance, n_neighbors=2, total=   0.7s\n",
      "[CV] weights=distance, n_neighbors=2 .................................\n",
      "[CV] .................. weights=distance, n_neighbors=2, total=   0.7s\n",
      "[CV] weights=distance, n_neighbors=2 .................................\n",
      "[CV] .................. weights=distance, n_neighbors=2, total=   0.7s\n",
      "[CV] weights=distance, n_neighbors=2 .................................\n",
      "[CV] .................. weights=distance, n_neighbors=2, total=   0.7s\n",
      "[CV] weights=distance, n_neighbors=2 .................................\n",
      "[CV] .................. weights=distance, n_neighbors=2, total=   0.8s\n",
      "[CV] weights=distance, n_neighbors=2 .................................\n",
      "[CV] .................. weights=distance, n_neighbors=2, total=   0.9s\n",
      "[CV] weights=distance, n_neighbors=2 .................................\n",
      "[CV] .................. weights=distance, n_neighbors=2, total=   0.7s\n",
      "[CV] weights=distance, n_neighbors=2 .................................\n",
      "[CV] .................. weights=distance, n_neighbors=2, total=   0.8s\n",
      "[CV] weights=distance, n_neighbors=2 .................................\n",
      "[CV] .................. weights=distance, n_neighbors=2, total=   0.7s\n",
      "[CV] weights=distance, n_neighbors=2 .................................\n",
      "[CV] .................. weights=distance, n_neighbors=2, total=   0.7s\n",
      "[CV] weights=uniform, n_neighbors=2 ..................................\n",
      "[CV] ................... weights=uniform, n_neighbors=2, total=   0.7s\n",
      "[CV] weights=uniform, n_neighbors=2 ..................................\n",
      "[CV] ................... weights=uniform, n_neighbors=2, total=   0.8s\n",
      "[CV] weights=uniform, n_neighbors=2 ..................................\n",
      "[CV] ................... weights=uniform, n_neighbors=2, total=   0.7s\n",
      "[CV] weights=uniform, n_neighbors=2 ..................................\n",
      "[CV] ................... weights=uniform, n_neighbors=2, total=   0.7s\n",
      "[CV] weights=uniform, n_neighbors=2 ..................................\n",
      "[CV] ................... weights=uniform, n_neighbors=2, total=   0.8s\n",
      "[CV] weights=uniform, n_neighbors=2 ..................................\n",
      "[CV] ................... weights=uniform, n_neighbors=2, total=   0.8s\n",
      "[CV] weights=uniform, n_neighbors=2 ..................................\n",
      "[CV] ................... weights=uniform, n_neighbors=2, total=   0.7s\n",
      "[CV] weights=uniform, n_neighbors=2 ..................................\n",
      "[CV] ................... weights=uniform, n_neighbors=2, total=   0.8s\n",
      "[CV] weights=uniform, n_neighbors=2 ..................................\n",
      "[CV] ................... weights=uniform, n_neighbors=2, total=   0.7s\n",
      "[CV] weights=uniform, n_neighbors=2 ..................................\n",
      "[CV] ................... weights=uniform, n_neighbors=2, total=   0.7s\n",
      "[CV] weights=distance, n_neighbors=7 .................................\n",
      "[CV] .................. weights=distance, n_neighbors=7, total=   0.8s\n",
      "[CV] weights=distance, n_neighbors=7 .................................\n",
      "[CV] .................. weights=distance, n_neighbors=7, total=   0.7s\n",
      "[CV] weights=distance, n_neighbors=7 .................................\n",
      "[CV] .................. weights=distance, n_neighbors=7, total=   0.8s\n",
      "[CV] weights=distance, n_neighbors=7 .................................\n",
      "[CV] .................. weights=distance, n_neighbors=7, total=   0.8s\n",
      "[CV] weights=distance, n_neighbors=7 .................................\n",
      "[CV] .................. weights=distance, n_neighbors=7, total=   0.8s\n",
      "[CV] weights=distance, n_neighbors=7 .................................\n",
      "[CV] .................. weights=distance, n_neighbors=7, total=   0.7s\n",
      "[CV] weights=distance, n_neighbors=7 .................................\n",
      "[CV] .................. weights=distance, n_neighbors=7, total=   0.8s\n",
      "[CV] weights=distance, n_neighbors=7 .................................\n",
      "[CV] .................. weights=distance, n_neighbors=7, total=   0.7s\n",
      "[CV] weights=distance, n_neighbors=7 .................................\n",
      "[CV] .................. weights=distance, n_neighbors=7, total=   0.8s\n",
      "[CV] weights=distance, n_neighbors=7 .................................\n",
      "[CV] .................. weights=distance, n_neighbors=7, total=   0.7s\n",
      "[CV] weights=distance, n_neighbors=3 .................................\n",
      "[CV] .................. weights=distance, n_neighbors=3, total=   0.7s\n",
      "[CV] weights=distance, n_neighbors=3 .................................\n",
      "[CV] .................. weights=distance, n_neighbors=3, total=   0.7s\n",
      "[CV] weights=distance, n_neighbors=3 .................................\n",
      "[CV] .................. weights=distance, n_neighbors=3, total=   0.7s\n",
      "[CV] weights=distance, n_neighbors=3 .................................\n",
      "[CV] .................. weights=distance, n_neighbors=3, total=   0.8s\n",
      "[CV] weights=distance, n_neighbors=3 .................................\n",
      "[CV] .................. weights=distance, n_neighbors=3, total=   0.7s\n",
      "[CV] weights=distance, n_neighbors=3 .................................\n",
      "[CV] .................. weights=distance, n_neighbors=3, total=   0.7s\n",
      "[CV] weights=distance, n_neighbors=3 .................................\n",
      "[CV] .................. weights=distance, n_neighbors=3, total=   0.7s\n",
      "[CV] weights=distance, n_neighbors=3 .................................\n",
      "[CV] .................. weights=distance, n_neighbors=3, total=   0.7s\n",
      "[CV] weights=distance, n_neighbors=3 .................................\n",
      "[CV] .................. weights=distance, n_neighbors=3, total=   0.9s\n",
      "[CV] weights=distance, n_neighbors=3 .................................\n",
      "[CV] .................. weights=distance, n_neighbors=3, total=   0.8s\n",
      "[CV] weights=uniform, n_neighbors=5 ..................................\n",
      "[CV] ................... weights=uniform, n_neighbors=5, total=   0.8s\n",
      "[CV] weights=uniform, n_neighbors=5 ..................................\n",
      "[CV] ................... weights=uniform, n_neighbors=5, total=   0.8s\n",
      "[CV] weights=uniform, n_neighbors=5 ..................................\n",
      "[CV] ................... weights=uniform, n_neighbors=5, total=   0.8s\n",
      "[CV] weights=uniform, n_neighbors=5 ..................................\n",
      "[CV] ................... weights=uniform, n_neighbors=5, total=   0.8s\n",
      "[CV] weights=uniform, n_neighbors=5 ..................................\n",
      "[CV] ................... weights=uniform, n_neighbors=5, total=   0.7s\n",
      "[CV] weights=uniform, n_neighbors=5 ..................................\n",
      "[CV] ................... weights=uniform, n_neighbors=5, total=   0.7s\n",
      "[CV] weights=uniform, n_neighbors=5 ..................................\n",
      "[CV] ................... weights=uniform, n_neighbors=5, total=   0.8s\n",
      "[CV] weights=uniform, n_neighbors=5 ..................................\n",
      "[CV] ................... weights=uniform, n_neighbors=5, total=   0.7s\n",
      "[CV] weights=uniform, n_neighbors=5 ..................................\n",
      "[CV] ................... weights=uniform, n_neighbors=5, total=   0.7s\n",
      "[CV] weights=uniform, n_neighbors=5 ..................................\n"
     ]
    },
    {
     "name": "stdout",
     "output_type": "stream",
     "text": [
      "[CV] ................... weights=uniform, n_neighbors=5, total=   0.7s\n",
      "[CV] weights=uniform, n_neighbors=7 ..................................\n",
      "[CV] ................... weights=uniform, n_neighbors=7, total=   0.8s\n",
      "[CV] weights=uniform, n_neighbors=7 ..................................\n",
      "[CV] ................... weights=uniform, n_neighbors=7, total=   0.7s\n",
      "[CV] weights=uniform, n_neighbors=7 ..................................\n",
      "[CV] ................... weights=uniform, n_neighbors=7, total=   0.8s\n",
      "[CV] weights=uniform, n_neighbors=7 ..................................\n",
      "[CV] ................... weights=uniform, n_neighbors=7, total=   0.7s\n",
      "[CV] weights=uniform, n_neighbors=7 ..................................\n",
      "[CV] ................... weights=uniform, n_neighbors=7, total=   0.7s\n",
      "[CV] weights=uniform, n_neighbors=7 ..................................\n",
      "[CV] ................... weights=uniform, n_neighbors=7, total=   0.8s\n",
      "[CV] weights=uniform, n_neighbors=7 ..................................\n",
      "[CV] ................... weights=uniform, n_neighbors=7, total=   0.8s\n",
      "[CV] weights=uniform, n_neighbors=7 ..................................\n",
      "[CV] ................... weights=uniform, n_neighbors=7, total=   0.8s\n",
      "[CV] weights=uniform, n_neighbors=7 ..................................\n",
      "[CV] ................... weights=uniform, n_neighbors=7, total=   0.8s\n",
      "[CV] weights=uniform, n_neighbors=7 ..................................\n",
      "[CV] ................... weights=uniform, n_neighbors=7, total=   0.8s\n",
      "[CV] weights=distance, n_neighbors=1 .................................\n",
      "[CV] .................. weights=distance, n_neighbors=1, total=   0.7s\n",
      "[CV] weights=distance, n_neighbors=1 .................................\n",
      "[CV] .................. weights=distance, n_neighbors=1, total=   0.7s\n",
      "[CV] weights=distance, n_neighbors=1 .................................\n",
      "[CV] .................. weights=distance, n_neighbors=1, total=   0.7s\n",
      "[CV] weights=distance, n_neighbors=1 .................................\n",
      "[CV] .................. weights=distance, n_neighbors=1, total=   0.7s\n",
      "[CV] weights=distance, n_neighbors=1 .................................\n",
      "[CV] .................. weights=distance, n_neighbors=1, total=   0.7s\n",
      "[CV] weights=distance, n_neighbors=1 .................................\n",
      "[CV] .................. weights=distance, n_neighbors=1, total=   0.8s\n",
      "[CV] weights=distance, n_neighbors=1 .................................\n",
      "[CV] .................. weights=distance, n_neighbors=1, total=   0.8s\n",
      "[CV] weights=distance, n_neighbors=1 .................................\n",
      "[CV] .................. weights=distance, n_neighbors=1, total=   0.8s\n",
      "[CV] weights=distance, n_neighbors=1 .................................\n",
      "[CV] .................. weights=distance, n_neighbors=1, total=   0.8s\n",
      "[CV] weights=distance, n_neighbors=1 .................................\n",
      "[CV] .................. weights=distance, n_neighbors=1, total=   0.7s\n",
      "[CV] weights=uniform, n_neighbors=6 ..................................\n",
      "[CV] ................... weights=uniform, n_neighbors=6, total=   0.8s\n",
      "[CV] weights=uniform, n_neighbors=6 ..................................\n",
      "[CV] ................... weights=uniform, n_neighbors=6, total=   0.8s\n",
      "[CV] weights=uniform, n_neighbors=6 ..................................\n",
      "[CV] ................... weights=uniform, n_neighbors=6, total=   0.8s\n",
      "[CV] weights=uniform, n_neighbors=6 ..................................\n",
      "[CV] ................... weights=uniform, n_neighbors=6, total=   0.7s\n",
      "[CV] weights=uniform, n_neighbors=6 ..................................\n",
      "[CV] ................... weights=uniform, n_neighbors=6, total=   0.7s\n",
      "[CV] weights=uniform, n_neighbors=6 ..................................\n",
      "[CV] ................... weights=uniform, n_neighbors=6, total=   0.8s\n",
      "[CV] weights=uniform, n_neighbors=6 ..................................\n",
      "[CV] ................... weights=uniform, n_neighbors=6, total=   0.7s\n",
      "[CV] weights=uniform, n_neighbors=6 ..................................\n",
      "[CV] ................... weights=uniform, n_neighbors=6, total=   0.7s\n",
      "[CV] weights=uniform, n_neighbors=6 ..................................\n",
      "[CV] ................... weights=uniform, n_neighbors=6, total=   0.8s\n",
      "[CV] weights=uniform, n_neighbors=6 ..................................\n",
      "[CV] ................... weights=uniform, n_neighbors=6, total=   0.8s\n",
      "[CV] weights=distance, n_neighbors=6 .................................\n",
      "[CV] .................. weights=distance, n_neighbors=6, total=   0.7s\n",
      "[CV] weights=distance, n_neighbors=6 .................................\n",
      "[CV] .................. weights=distance, n_neighbors=6, total=   0.7s\n",
      "[CV] weights=distance, n_neighbors=6 .................................\n",
      "[CV] .................. weights=distance, n_neighbors=6, total=   0.7s\n",
      "[CV] weights=distance, n_neighbors=6 .................................\n",
      "[CV] .................. weights=distance, n_neighbors=6, total=   0.8s\n",
      "[CV] weights=distance, n_neighbors=6 .................................\n",
      "[CV] .................. weights=distance, n_neighbors=6, total=   0.9s\n",
      "[CV] weights=distance, n_neighbors=6 .................................\n",
      "[CV] .................. weights=distance, n_neighbors=6, total=   0.8s\n",
      "[CV] weights=distance, n_neighbors=6 .................................\n",
      "[CV] .................. weights=distance, n_neighbors=6, total=   0.9s\n",
      "[CV] weights=distance, n_neighbors=6 .................................\n",
      "[CV] .................. weights=distance, n_neighbors=6, total=   0.8s\n",
      "[CV] weights=distance, n_neighbors=6 .................................\n",
      "[CV] .................. weights=distance, n_neighbors=6, total=   0.8s\n",
      "[CV] weights=distance, n_neighbors=6 .................................\n",
      "[CV] .................. weights=distance, n_neighbors=6, total=   0.8s\n"
     ]
    },
    {
     "name": "stderr",
     "output_type": "stream",
     "text": [
      "[Parallel(n_jobs=1)]: Done 100 out of 100 | elapsed:  1.3min finished\n"
     ]
    },
    {
     "data": {
      "text/plain": [
       "{'weights': 'uniform', 'n_neighbors': 8}"
      ]
     },
     "execution_count": 22,
     "metadata": {},
     "output_type": "execute_result"
    }
   ],
   "source": [
    "knr = KNeighborsRegressor()\n",
    "possible_parameter_values = {'n_neighbors' : [int(x) for x in np.arange(start = 1, stop = 11, step = 1)],\n",
    "                             'weights' : ['uniform', 'distance']}\n",
    "knr_rscv = RandomizedSearchCV(estimator = knr, param_distributions = possible_parameter_values, cv = 10, scoring = 'neg_mean_squared_error', verbose = 2, random_state = 17, \n",
    "                              n_jobs = 1)\n",
    "knr_rscv.fit(X_train, y_train)\n",
    "knr_rscv.best_params_"
   ]
  },
  {
   "cell_type": "code",
   "execution_count": 24,
   "metadata": {
    "ExecuteTime": {
     "end_time": "2021-04-10T06:06:03.322951Z",
     "start_time": "2021-04-10T06:06:00.286120Z"
    }
   },
   "outputs": [
    {
     "name": "stdout",
     "output_type": "stream",
     "text": [
      "K Neighbors Regressor:\n",
      "----------------------------------------------------------------------------------------------------\n",
      "Train r2_score:  0.7302635717837929\n",
      "Test r2_score:  0.45298354313194744\n",
      "----------------------------------------------------------------------------------------------------\n",
      "Train RMSE:  15.127223321768287\n",
      "Test RMSE:  21.92925373982048\n",
      "----------------------------------------------------------------------------------------------------\n",
      "Train MAPE:  0.06834524627021053\n",
      "Test MAPE:  0.10216348804867138\n"
     ]
    }
   ],
   "source": [
    "y_train_pred_knr = knr_rscv.predict(X_train)\n",
    "y_test_pred_knr = knr_rscv.predict(X_test)\n",
    "print('K Neighbors Regressor:')\n",
    "print('-' * 100)\n",
    "print('Train r2_score: ', r2_score(y_train, y_train_pred_knr))\n",
    "print('Test r2_score: ', r2_score(y_test, y_test_pred_knr))\n",
    "print('-' * 100)\n",
    "print('Train RMSE: ', np.sqrt(mean_squared_error(y_train, y_train_pred_knr)))\n",
    "print('Test RMSE: ', np.sqrt(mean_squared_error(y_test, y_test_pred_knr)))\n",
    "print('-' * 100)\n",
    "print('Train MAPE: ', np.mean(mean_absolute_error(y_train, y_train_pred_knr) / y_train))\n",
    "print('Test MAPE: ', np.mean(mean_absolute_error(y_test, y_test_pred_knr) / y_test))"
   ]
  },
  {
   "cell_type": "code",
   "execution_count": 25,
   "metadata": {
    "ExecuteTime": {
     "end_time": "2021-04-10T06:06:13.461844Z",
     "start_time": "2021-04-10T06:06:13.246468Z"
    }
   },
   "outputs": [
    {
     "data": {
      "text/plain": [
       "True     0.633949\n",
       "False    0.366051\n",
       "Name: Bool, dtype: float64"
      ]
     },
     "execution_count": 25,
     "metadata": {},
     "output_type": "execute_result"
    }
   ],
   "source": [
    "data_knr = pd.DataFrame()\n",
    "data_knr['actual'] = y_test\n",
    "data_knr['predicted'] = y_test_pred_knr\n",
    "data_knr['lower range'] = y_test_pred_knr - (0.10216348804867138 * y_test_pred_knr)\n",
    "data_knr['upper range'] = y_test_pred_knr + (0.10216348804867138 * y_test_pred_knr)\n",
    "t_list = []\n",
    "for i in data_knr.index:\n",
    "    if data_knr['actual'][i] > data_knr['lower range'][i]:\n",
    "        if data_knr['actual'][i] < data_knr['upper range'][i]:\n",
    "            t_list.append('True')\n",
    "        else:\n",
    "            t_list.append('False')\n",
    "    else:\n",
    "        t_list.append('False')\n",
    "data_knr['Bool'] = t_list\n",
    "data_knr['Bool'].value_counts()/data_knr.shape[0]"
   ]
  },
  {
   "cell_type": "code",
   "execution_count": null,
   "metadata": {
    "ExecuteTime": {
     "start_time": "2021-04-10T06:06:23.027Z"
    },
    "scrolled": false
   },
   "outputs": [
    {
     "name": "stdout",
     "output_type": "stream",
     "text": [
      "Fitting 10 folds for each of 10 candidates, totalling 100 fits\n",
      "[CV] use_label_encoder=False, n_estimators=50, max_depth=35, learning_rate=0.737 \n"
     ]
    },
    {
     "name": "stderr",
     "output_type": "stream",
     "text": [
      "[Parallel(n_jobs=1)]: Using backend SequentialBackend with 1 concurrent workers.\n"
     ]
    },
    {
     "name": "stdout",
     "output_type": "stream",
     "text": [
      "[CV]  use_label_encoder=False, n_estimators=50, max_depth=35, learning_rate=0.737, total=  12.8s\n",
      "[CV] use_label_encoder=False, n_estimators=50, max_depth=35, learning_rate=0.737 \n"
     ]
    },
    {
     "name": "stderr",
     "output_type": "stream",
     "text": [
      "[Parallel(n_jobs=1)]: Done   1 out of   1 | elapsed:   12.7s remaining:    0.0s\n"
     ]
    },
    {
     "name": "stdout",
     "output_type": "stream",
     "text": [
      "[CV]  use_label_encoder=False, n_estimators=50, max_depth=35, learning_rate=0.737, total=  11.7s\n",
      "[CV] use_label_encoder=False, n_estimators=50, max_depth=35, learning_rate=0.737 \n",
      "[CV]  use_label_encoder=False, n_estimators=50, max_depth=35, learning_rate=0.737, total=  12.0s\n",
      "[CV] use_label_encoder=False, n_estimators=50, max_depth=35, learning_rate=0.737 \n",
      "[CV]  use_label_encoder=False, n_estimators=50, max_depth=35, learning_rate=0.737, total=  12.0s\n",
      "[CV] use_label_encoder=False, n_estimators=50, max_depth=35, learning_rate=0.737 \n",
      "[CV]  use_label_encoder=False, n_estimators=50, max_depth=35, learning_rate=0.737, total=  10.6s\n",
      "[CV] use_label_encoder=False, n_estimators=50, max_depth=35, learning_rate=0.737 \n",
      "[CV]  use_label_encoder=False, n_estimators=50, max_depth=35, learning_rate=0.737, total=  10.7s\n",
      "[CV] use_label_encoder=False, n_estimators=50, max_depth=35, learning_rate=0.737 \n",
      "[CV]  use_label_encoder=False, n_estimators=50, max_depth=35, learning_rate=0.737, total=  10.9s\n",
      "[CV] use_label_encoder=False, n_estimators=50, max_depth=35, learning_rate=0.737 \n",
      "[CV]  use_label_encoder=False, n_estimators=50, max_depth=35, learning_rate=0.737, total=  10.9s\n",
      "[CV] use_label_encoder=False, n_estimators=50, max_depth=35, learning_rate=0.737 \n",
      "[CV]  use_label_encoder=False, n_estimators=50, max_depth=35, learning_rate=0.737, total=  10.5s\n",
      "[CV] use_label_encoder=False, n_estimators=50, max_depth=35, learning_rate=0.737 \n",
      "[CV]  use_label_encoder=False, n_estimators=50, max_depth=35, learning_rate=0.737, total=  10.9s\n",
      "[CV] use_label_encoder=False, n_estimators=600, max_depth=40, learning_rate=0.372 \n",
      "[CV]  use_label_encoder=False, n_estimators=600, max_depth=40, learning_rate=0.372, total=  28.3s\n",
      "[CV] use_label_encoder=False, n_estimators=600, max_depth=40, learning_rate=0.372 \n",
      "[CV]  use_label_encoder=False, n_estimators=600, max_depth=40, learning_rate=0.372, total=  26.9s\n",
      "[CV] use_label_encoder=False, n_estimators=600, max_depth=40, learning_rate=0.372 \n",
      "[CV]  use_label_encoder=False, n_estimators=600, max_depth=40, learning_rate=0.372, total=  26.4s\n",
      "[CV] use_label_encoder=False, n_estimators=600, max_depth=40, learning_rate=0.372 \n",
      "[CV]  use_label_encoder=False, n_estimators=600, max_depth=40, learning_rate=0.372, total=  26.4s\n",
      "[CV] use_label_encoder=False, n_estimators=600, max_depth=40, learning_rate=0.372 \n",
      "[CV]  use_label_encoder=False, n_estimators=600, max_depth=40, learning_rate=0.372, total=  26.6s\n",
      "[CV] use_label_encoder=False, n_estimators=600, max_depth=40, learning_rate=0.372 \n",
      "[CV]  use_label_encoder=False, n_estimators=600, max_depth=40, learning_rate=0.372, total=  26.6s\n",
      "[CV] use_label_encoder=False, n_estimators=600, max_depth=40, learning_rate=0.372 \n",
      "[CV]  use_label_encoder=False, n_estimators=600, max_depth=40, learning_rate=0.372, total=  27.6s\n",
      "[CV] use_label_encoder=False, n_estimators=600, max_depth=40, learning_rate=0.372 \n",
      "[CV]  use_label_encoder=False, n_estimators=600, max_depth=40, learning_rate=0.372, total=  26.5s\n",
      "[CV] use_label_encoder=False, n_estimators=600, max_depth=40, learning_rate=0.372 \n",
      "[CV]  use_label_encoder=False, n_estimators=600, max_depth=40, learning_rate=0.372, total=  27.1s\n",
      "[CV] use_label_encoder=False, n_estimators=600, max_depth=40, learning_rate=0.372 \n",
      "[CV]  use_label_encoder=False, n_estimators=600, max_depth=40, learning_rate=0.372, total=  27.4s\n",
      "[CV] use_label_encoder=True, n_estimators=200, max_depth=95, learning_rate=0.615 \n",
      "[CV]  use_label_encoder=True, n_estimators=200, max_depth=95, learning_rate=0.615, total=  14.8s\n",
      "[CV] use_label_encoder=True, n_estimators=200, max_depth=95, learning_rate=0.615 \n",
      "[CV]  use_label_encoder=True, n_estimators=200, max_depth=95, learning_rate=0.615, total=  14.7s\n",
      "[CV] use_label_encoder=True, n_estimators=200, max_depth=95, learning_rate=0.615 \n",
      "[CV]  use_label_encoder=True, n_estimators=200, max_depth=95, learning_rate=0.615, total=  14.6s\n",
      "[CV] use_label_encoder=True, n_estimators=200, max_depth=95, learning_rate=0.615 \n",
      "[CV]  use_label_encoder=True, n_estimators=200, max_depth=95, learning_rate=0.615, total=  15.7s\n",
      "[CV] use_label_encoder=True, n_estimators=200, max_depth=95, learning_rate=0.615 \n",
      "[CV]  use_label_encoder=True, n_estimators=200, max_depth=95, learning_rate=0.615, total=  15.0s\n",
      "[CV] use_label_encoder=True, n_estimators=200, max_depth=95, learning_rate=0.615 \n",
      "[CV]  use_label_encoder=True, n_estimators=200, max_depth=95, learning_rate=0.615, total=  14.9s\n",
      "[CV] use_label_encoder=True, n_estimators=200, max_depth=95, learning_rate=0.615 \n",
      "[CV]  use_label_encoder=True, n_estimators=200, max_depth=95, learning_rate=0.615, total=  14.9s\n",
      "[CV] use_label_encoder=True, n_estimators=200, max_depth=95, learning_rate=0.615 \n",
      "[CV]  use_label_encoder=True, n_estimators=200, max_depth=95, learning_rate=0.615, total=  14.4s\n",
      "[CV] use_label_encoder=True, n_estimators=200, max_depth=95, learning_rate=0.615 \n",
      "[CV]  use_label_encoder=True, n_estimators=200, max_depth=95, learning_rate=0.615, total=  14.5s\n",
      "[CV] use_label_encoder=True, n_estimators=200, max_depth=95, learning_rate=0.615 \n",
      "[CV]  use_label_encoder=True, n_estimators=200, max_depth=95, learning_rate=0.615, total=  14.6s\n",
      "[CV] use_label_encoder=True, n_estimators=50, max_depth=15, learning_rate=0.158 \n",
      "[CV]  use_label_encoder=True, n_estimators=50, max_depth=15, learning_rate=0.158, total=   3.1s\n",
      "[CV] use_label_encoder=True, n_estimators=50, max_depth=15, learning_rate=0.158 \n",
      "[CV]  use_label_encoder=True, n_estimators=50, max_depth=15, learning_rate=0.158, total=   3.0s\n",
      "[CV] use_label_encoder=True, n_estimators=50, max_depth=15, learning_rate=0.158 \n",
      "[CV]  use_label_encoder=True, n_estimators=50, max_depth=15, learning_rate=0.158, total=   3.2s\n",
      "[CV] use_label_encoder=True, n_estimators=50, max_depth=15, learning_rate=0.158 \n",
      "[CV]  use_label_encoder=True, n_estimators=50, max_depth=15, learning_rate=0.158, total=   3.1s\n",
      "[CV] use_label_encoder=True, n_estimators=50, max_depth=15, learning_rate=0.158 \n",
      "[CV]  use_label_encoder=True, n_estimators=50, max_depth=15, learning_rate=0.158, total=   3.0s\n",
      "[CV] use_label_encoder=True, n_estimators=50, max_depth=15, learning_rate=0.158 \n",
      "[CV]  use_label_encoder=True, n_estimators=50, max_depth=15, learning_rate=0.158, total=   3.0s\n",
      "[CV] use_label_encoder=True, n_estimators=50, max_depth=15, learning_rate=0.158 \n",
      "[CV]  use_label_encoder=True, n_estimators=50, max_depth=15, learning_rate=0.158, total=   2.9s\n",
      "[CV] use_label_encoder=True, n_estimators=50, max_depth=15, learning_rate=0.158 \n",
      "[CV]  use_label_encoder=True, n_estimators=50, max_depth=15, learning_rate=0.158, total=   3.1s\n",
      "[CV] use_label_encoder=True, n_estimators=50, max_depth=15, learning_rate=0.158 \n",
      "[CV]  use_label_encoder=True, n_estimators=50, max_depth=15, learning_rate=0.158, total=   3.1s\n",
      "[CV] use_label_encoder=True, n_estimators=50, max_depth=15, learning_rate=0.158 \n",
      "[CV]  use_label_encoder=True, n_estimators=50, max_depth=15, learning_rate=0.158, total=   3.1s\n",
      "[CV] use_label_encoder=False, n_estimators=750, max_depth=15, learning_rate=0.971 \n",
      "[CV]  use_label_encoder=False, n_estimators=750, max_depth=15, learning_rate=0.971, total=  15.0s\n",
      "[CV] use_label_encoder=False, n_estimators=750, max_depth=15, learning_rate=0.971 \n",
      "[CV]  use_label_encoder=False, n_estimators=750, max_depth=15, learning_rate=0.971, total=  17.6s\n",
      "[CV] use_label_encoder=False, n_estimators=750, max_depth=15, learning_rate=0.971 \n",
      "[CV]  use_label_encoder=False, n_estimators=750, max_depth=15, learning_rate=0.971, total=  16.3s\n",
      "[CV] use_label_encoder=False, n_estimators=750, max_depth=15, learning_rate=0.971 \n",
      "[CV]  use_label_encoder=False, n_estimators=750, max_depth=15, learning_rate=0.971, total=  16.0s\n",
      "[CV] use_label_encoder=False, n_estimators=750, max_depth=15, learning_rate=0.971 \n",
      "[CV]  use_label_encoder=False, n_estimators=750, max_depth=15, learning_rate=0.971, total=  15.1s\n",
      "[CV] use_label_encoder=False, n_estimators=750, max_depth=15, learning_rate=0.971 \n",
      "[CV]  use_label_encoder=False, n_estimators=750, max_depth=15, learning_rate=0.971, total=  17.2s\n",
      "[CV] use_label_encoder=False, n_estimators=750, max_depth=15, learning_rate=0.971 \n",
      "[CV]  use_label_encoder=False, n_estimators=750, max_depth=15, learning_rate=0.971, total=  17.1s\n",
      "[CV] use_label_encoder=False, n_estimators=750, max_depth=15, learning_rate=0.971 \n"
     ]
    },
    {
     "name": "stdout",
     "output_type": "stream",
     "text": [
      "[CV]  use_label_encoder=False, n_estimators=750, max_depth=15, learning_rate=0.971, total=  16.2s\n",
      "[CV] use_label_encoder=False, n_estimators=750, max_depth=15, learning_rate=0.971 \n",
      "[CV]  use_label_encoder=False, n_estimators=750, max_depth=15, learning_rate=0.971, total=  18.4s\n",
      "[CV] use_label_encoder=False, n_estimators=750, max_depth=15, learning_rate=0.971 \n",
      "[CV]  use_label_encoder=False, n_estimators=750, max_depth=15, learning_rate=0.971, total=  16.4s\n",
      "[CV] use_label_encoder=True, n_estimators=400, max_depth=50, learning_rate=0.646 \n",
      "[CV]  use_label_encoder=True, n_estimators=400, max_depth=50, learning_rate=0.646, total=  16.7s\n",
      "[CV] use_label_encoder=True, n_estimators=400, max_depth=50, learning_rate=0.646 \n",
      "[CV]  use_label_encoder=True, n_estimators=400, max_depth=50, learning_rate=0.646, total=  14.9s\n",
      "[CV] use_label_encoder=True, n_estimators=400, max_depth=50, learning_rate=0.646 \n",
      "[CV]  use_label_encoder=True, n_estimators=400, max_depth=50, learning_rate=0.646, total=  15.6s\n",
      "[CV] use_label_encoder=True, n_estimators=400, max_depth=50, learning_rate=0.646 \n",
      "[CV]  use_label_encoder=True, n_estimators=400, max_depth=50, learning_rate=0.646, total=  16.1s\n",
      "[CV] use_label_encoder=True, n_estimators=400, max_depth=50, learning_rate=0.646 \n",
      "[CV]  use_label_encoder=True, n_estimators=400, max_depth=50, learning_rate=0.646, total=  14.6s\n",
      "[CV] use_label_encoder=True, n_estimators=400, max_depth=50, learning_rate=0.646 \n",
      "[CV]  use_label_encoder=True, n_estimators=400, max_depth=50, learning_rate=0.646, total=  15.2s\n",
      "[CV] use_label_encoder=True, n_estimators=400, max_depth=50, learning_rate=0.646 \n",
      "[CV]  use_label_encoder=True, n_estimators=400, max_depth=50, learning_rate=0.646, total=  15.8s\n",
      "[CV] use_label_encoder=True, n_estimators=400, max_depth=50, learning_rate=0.646 \n",
      "[CV]  use_label_encoder=True, n_estimators=400, max_depth=50, learning_rate=0.646, total=  15.4s\n",
      "[CV] use_label_encoder=True, n_estimators=400, max_depth=50, learning_rate=0.646 \n",
      "[CV]  use_label_encoder=True, n_estimators=400, max_depth=50, learning_rate=0.646, total=  14.9s\n",
      "[CV] use_label_encoder=True, n_estimators=400, max_depth=50, learning_rate=0.646 \n",
      "[CV]  use_label_encoder=True, n_estimators=400, max_depth=50, learning_rate=0.646, total=  15.8s\n",
      "[CV] use_label_encoder=False, n_estimators=400, max_depth=75, learning_rate=0.36 \n",
      "[CV]  use_label_encoder=False, n_estimators=400, max_depth=75, learning_rate=0.36, total=  31.0s\n",
      "[CV] use_label_encoder=False, n_estimators=400, max_depth=75, learning_rate=0.36 \n",
      "[CV]  use_label_encoder=False, n_estimators=400, max_depth=75, learning_rate=0.36, total=  27.9s\n",
      "[CV] use_label_encoder=False, n_estimators=400, max_depth=75, learning_rate=0.36 \n",
      "[CV]  use_label_encoder=False, n_estimators=400, max_depth=75, learning_rate=0.36, total=  29.5s\n",
      "[CV] use_label_encoder=False, n_estimators=400, max_depth=75, learning_rate=0.36 \n",
      "[CV]  use_label_encoder=False, n_estimators=400, max_depth=75, learning_rate=0.36, total=  30.5s\n",
      "[CV] use_label_encoder=False, n_estimators=400, max_depth=75, learning_rate=0.36 \n",
      "[CV]  use_label_encoder=False, n_estimators=400, max_depth=75, learning_rate=0.36, total=  29.4s\n",
      "[CV] use_label_encoder=False, n_estimators=400, max_depth=75, learning_rate=0.36 \n",
      "[CV]  use_label_encoder=False, n_estimators=400, max_depth=75, learning_rate=0.36, total=  28.5s\n",
      "[CV] use_label_encoder=False, n_estimators=400, max_depth=75, learning_rate=0.36 \n",
      "[CV]  use_label_encoder=False, n_estimators=400, max_depth=75, learning_rate=0.36, total=  29.9s\n",
      "[CV] use_label_encoder=False, n_estimators=400, max_depth=75, learning_rate=0.36 \n",
      "[CV]  use_label_encoder=False, n_estimators=400, max_depth=75, learning_rate=0.36, total=  29.0s\n",
      "[CV] use_label_encoder=False, n_estimators=400, max_depth=75, learning_rate=0.36 \n",
      "[CV]  use_label_encoder=False, n_estimators=400, max_depth=75, learning_rate=0.36, total=  29.5s\n",
      "[CV] use_label_encoder=False, n_estimators=400, max_depth=75, learning_rate=0.36 \n",
      "[CV]  use_label_encoder=False, n_estimators=400, max_depth=75, learning_rate=0.36, total=  28.6s\n",
      "[CV] use_label_encoder=True, n_estimators=150, max_depth=45, learning_rate=0.449 \n",
      "[CV]  use_label_encoder=True, n_estimators=150, max_depth=45, learning_rate=0.449, total=  21.3s\n",
      "[CV] use_label_encoder=True, n_estimators=150, max_depth=45, learning_rate=0.449 \n",
      "[CV]  use_label_encoder=True, n_estimators=150, max_depth=45, learning_rate=0.449, total=  21.6s\n",
      "[CV] use_label_encoder=True, n_estimators=150, max_depth=45, learning_rate=0.449 \n",
      "[CV]  use_label_encoder=True, n_estimators=150, max_depth=45, learning_rate=0.449, total=  21.1s\n",
      "[CV] use_label_encoder=True, n_estimators=150, max_depth=45, learning_rate=0.449 \n",
      "[CV]  use_label_encoder=True, n_estimators=150, max_depth=45, learning_rate=0.449, total=  22.2s\n",
      "[CV] use_label_encoder=True, n_estimators=150, max_depth=45, learning_rate=0.449 \n",
      "[CV]  use_label_encoder=True, n_estimators=150, max_depth=45, learning_rate=0.449, total=  21.7s\n",
      "[CV] use_label_encoder=True, n_estimators=150, max_depth=45, learning_rate=0.449 \n",
      "[CV]  use_label_encoder=True, n_estimators=150, max_depth=45, learning_rate=0.449, total=  21.8s\n",
      "[CV] use_label_encoder=True, n_estimators=150, max_depth=45, learning_rate=0.449 \n",
      "[CV]  use_label_encoder=True, n_estimators=150, max_depth=45, learning_rate=0.449, total=  23.3s\n",
      "[CV] use_label_encoder=True, n_estimators=150, max_depth=45, learning_rate=0.449 \n",
      "[CV]  use_label_encoder=True, n_estimators=150, max_depth=45, learning_rate=0.449, total=  21.4s\n",
      "[CV] use_label_encoder=True, n_estimators=150, max_depth=45, learning_rate=0.449 \n",
      "[CV]  use_label_encoder=True, n_estimators=150, max_depth=45, learning_rate=0.449, total=  21.6s\n",
      "[CV] use_label_encoder=True, n_estimators=150, max_depth=45, learning_rate=0.449 \n",
      "[CV]  use_label_encoder=True, n_estimators=150, max_depth=45, learning_rate=0.449, total=  22.4s\n",
      "[CV] use_label_encoder=True, n_estimators=950, max_depth=35, learning_rate=0.375 \n",
      "[CV]  use_label_encoder=True, n_estimators=950, max_depth=35, learning_rate=0.375, total=  29.4s\n",
      "[CV] use_label_encoder=True, n_estimators=950, max_depth=35, learning_rate=0.375 \n",
      "[CV]  use_label_encoder=True, n_estimators=950, max_depth=35, learning_rate=0.375, total=  32.6s\n",
      "[CV] use_label_encoder=True, n_estimators=950, max_depth=35, learning_rate=0.375 \n",
      "[CV]  use_label_encoder=True, n_estimators=950, max_depth=35, learning_rate=0.375, total=  28.6s\n",
      "[CV] use_label_encoder=True, n_estimators=950, max_depth=35, learning_rate=0.375 \n",
      "[CV]  use_label_encoder=True, n_estimators=950, max_depth=35, learning_rate=0.375, total=  28.6s\n",
      "[CV] use_label_encoder=True, n_estimators=950, max_depth=35, learning_rate=0.375 \n",
      "[CV]  use_label_encoder=True, n_estimators=950, max_depth=35, learning_rate=0.375, total=  28.4s\n",
      "[CV] use_label_encoder=True, n_estimators=950, max_depth=35, learning_rate=0.375 \n",
      "[CV]  use_label_encoder=True, n_estimators=950, max_depth=35, learning_rate=0.375, total=  28.5s\n",
      "[CV] use_label_encoder=True, n_estimators=950, max_depth=35, learning_rate=0.375 \n",
      "[CV]  use_label_encoder=True, n_estimators=950, max_depth=35, learning_rate=0.375, total=  28.4s\n",
      "[CV] use_label_encoder=True, n_estimators=950, max_depth=35, learning_rate=0.375 \n",
      "[CV]  use_label_encoder=True, n_estimators=950, max_depth=35, learning_rate=0.375, total=  30.7s\n",
      "[CV] use_label_encoder=True, n_estimators=950, max_depth=35, learning_rate=0.375 \n",
      "[CV]  use_label_encoder=True, n_estimators=950, max_depth=35, learning_rate=0.375, total=  27.9s\n",
      "[CV] use_label_encoder=True, n_estimators=950, max_depth=35, learning_rate=0.375 \n",
      "[CV]  use_label_encoder=True, n_estimators=950, max_depth=35, learning_rate=0.375, total=  28.3s\n",
      "[CV] use_label_encoder=True, n_estimators=750, max_depth=75, learning_rate=0.1 \n"
     ]
    }
   ],
   "source": [
    "xgbr = XGBRegressor()\n",
    "possible_parameter_values = {'n_estimators' : [int(x) for x in np.arange(start = 50, stop = 1001, step = 50)], \n",
    "                             'use_label_encoder' : [True, False], \n",
    "                             'max_depth' : [int(x) for x in np.arange(start = 5, stop = 101, step = 5)], \n",
    "                             'learning_rate' : [float(x)/1000 for x in np.arange(start = 1, stop = 1001, step = 1)]}\n",
    "xgbr_rscv = RandomizedSearchCV(estimator = xgbr, param_distributions = possible_parameter_values, cv = 10, scoring = 'neg_mean_squared_error', verbose = 2, \n",
    "                               random_state = 17, n_jobs = 1)\n",
    "xgbr_rscv.fit(X_train, y_train)\n",
    "xgbr_rscv.best_params_"
   ]
  },
  {
   "cell_type": "code",
   "execution_count": 27,
   "metadata": {
    "ExecuteTime": {
     "end_time": "2021-04-10T07:05:33.282992Z",
     "start_time": "2021-04-10T07:05:33.072729Z"
    }
   },
   "outputs": [
    {
     "name": "stdout",
     "output_type": "stream",
     "text": [
      "XGBoost Regressor:\n",
      "----------------------------------------------------------------------------------------------------\n",
      "Train r2_score:  0.9235852851017439\n",
      "Test r2_score:  0.41389287526253915\n",
      "----------------------------------------------------------------------------------------------------\n",
      "Train RMSE:  8.051520735953781\n",
      "Test RMSE:  22.699283920280294\n",
      "----------------------------------------------------------------------------------------------------\n",
      "Train MAPE:  0.02779792766537468\n",
      "Test MAPE:  0.10590305756468572\n"
     ]
    }
   ],
   "source": [
    "y_train_pred_xgbr = xgbr_rscv.predict(X_train)\n",
    "y_test_pred_xgbr = xgbr_rscv.predict(X_test)\n",
    "print('XGBoost Regressor:')\n",
    "print('-' * 100)\n",
    "print('Train r2_score: ', r2_score(y_train, y_train_pred_xgbr))\n",
    "print('Test r2_score: ', r2_score(y_test, y_test_pred_xgbr))\n",
    "print('-' * 100)\n",
    "print('Train RMSE: ', np.sqrt(mean_squared_error(y_train, y_train_pred_xgbr)))\n",
    "print('Test RMSE: ', np.sqrt(mean_squared_error(y_test, y_test_pred_xgbr)))\n",
    "print('-' * 100)\n",
    "print('Train MAPE: ', np.mean(mean_absolute_error(y_train, y_train_pred_xgbr) / y_train))\n",
    "print('Test MAPE: ', np.mean(mean_absolute_error(y_test, y_test_pred_xgbr) / y_test))"
   ]
  },
  {
   "cell_type": "code",
   "execution_count": 28,
   "metadata": {
    "ExecuteTime": {
     "end_time": "2021-04-10T07:05:40.461122Z",
     "start_time": "2021-04-10T07:05:40.197318Z"
    },
    "scrolled": true
   },
   "outputs": [
    {
     "data": {
      "text/plain": [
       "True     0.625419\n",
       "False    0.374581\n",
       "Name: Bool, dtype: float64"
      ]
     },
     "execution_count": 28,
     "metadata": {},
     "output_type": "execute_result"
    }
   ],
   "source": [
    "data_xgbr = pd.DataFrame()\n",
    "data_xgbr['actual'] = y_test\n",
    "data_xgbr['predicted'] = y_test_pred_xgbr\n",
    "data_xgbr['lower range'] = y_test_pred_xgbr - (0.10590305756468572 * y_test_pred_xgbr)\n",
    "data_xgbr['upper range'] = y_test_pred_xgbr + (0.10590305756468572 * y_test_pred_xgbr)\n",
    "t_list = []\n",
    "for i in data_xgbr.index:\n",
    "    if data_xgbr['actual'][i] > data_xgbr['lower range'][i]:\n",
    "        if data_xgbr['actual'][i] < data_xgbr['upper range'][i]:\n",
    "            t_list.append('True')\n",
    "        else:\n",
    "            t_list.append('False')\n",
    "    else:\n",
    "        t_list.append('False')\n",
    "data_xgbr['Bool'] = t_list\n",
    "data_xgbr['Bool'].value_counts()/data_xgbr.shape[0]"
   ]
  },
  {
   "cell_type": "code",
   "execution_count": null,
   "metadata": {},
   "outputs": [],
   "source": [
    "'runs', 'wickets', 'overs', 'runs_last_5', 'wickets_last_5', 'total', 'year', 'bat_team_Deccan Chargers', 'bat_team_Delhi Capitals', 'bat_team_Gujarat Lions', \n",
    "         'bat_team_Kings XI Punjab', 'bat_team_Kolkata Knight Riders', 'bat_team_Mumbai Indians', 'bat_team_Pune Warriors', \n",
    "         'bat_team_Rajasthan Royals', 'bat_team_Rising Pune Supergiant', 'bat_team_Royal Challengers Bangalore', 'bat_team_Sunrisers Hyderabad', \n",
    "         'bowl_team_Deccan Chargers', 'bowl_team_Delhi Capitals', 'bowl_team_Gujarat Lions', 'bowl_team_Kings XI Punjab', 'bowl_team_Kolkata Knight Riders', \n",
    "         'bowl_team_Mumbai Indians', 'bowl_team_Pune Warriors', 'bowl_team_Rajasthan Royals', 'bowl_team_Rising Pune Supergiant', 'bowl_team_Royal Challengers Bangalore', \n",
    "         'bowl_team_Sunrisers Hyderabad'"
   ]
  },
  {
   "cell_type": "code",
   "execution_count": 21,
   "metadata": {
    "ExecuteTime": {
     "end_time": "2021-04-10T13:35:32.640339Z",
     "start_time": "2021-04-10T13:35:32.058357Z"
    }
   },
   "outputs": [
    {
     "data": {
      "text/plain": [
       "KNeighborsRegressor(n_neighbors=8)"
      ]
     },
     "execution_count": 21,
     "metadata": {},
     "output_type": "execute_result"
    }
   ],
   "source": [
    "knr_rscv = KNeighborsRegressor(weights = 'uniform', n_neighbors = 8)\n",
    "knr_rscv.fit(X_train, y_train)"
   ]
  },
  {
   "cell_type": "code",
   "execution_count": 101,
   "metadata": {
    "ExecuteTime": {
     "end_time": "2021-04-09T15:43:18.368926Z",
     "start_time": "2021-04-09T15:43:18.355328Z"
    }
   },
   "outputs": [],
   "source": [
    "arr = np.array(['runs', 'wickets', 'overs', 'runs_last_5', 'wickets_last_5', 'bat_team_Deccan Chargers', 'bat_team_Delhi Capitals', 'bat_team_Gujarat Lions', \n",
    "         'bat_team_Kings XI Punjab', 'bat_team_Kolkata Knight Riders', 'bat_team_Mumbai Indians', 'bat_team_Pune Warriors', \n",
    "         'bat_team_Rajasthan Royals', 'bat_team_Rising Pune Supergiant', 'bat_team_Royal Challengers Bangalore', 'bat_team_Sunrisers Hyderabad', \n",
    "         'bowl_team_Deccan Chargers', 'bowl_team_Delhi Capitals', 'bowl_team_Gujarat Lions', 'bowl_team_Kings XI Punjab', 'bowl_team_Kolkata Knight Riders', \n",
    "         'bowl_team_Mumbai Indians', 'bowl_team_Pune Warriors', 'bowl_team_Rajasthan Royals', 'bowl_team_Rising Pune Supergiant', 'bowl_team_Royal Challengers Bangalore', \n",
    "         'bowl_team_Sunrisers Hyderabad'])"
   ]
  },
  {
   "cell_type": "code",
   "execution_count": 102,
   "metadata": {
    "ExecuteTime": {
     "end_time": "2021-04-09T15:43:18.659466Z",
     "start_time": "2021-04-09T15:43:18.650996Z"
    }
   },
   "outputs": [],
   "source": [
    "arr = arr.reshape(1, -1)"
   ]
  },
  {
   "cell_type": "code",
   "execution_count": 103,
   "metadata": {
    "ExecuteTime": {
     "end_time": "2021-04-09T15:43:18.954617Z",
     "start_time": "2021-04-09T15:43:18.947035Z"
    }
   },
   "outputs": [
    {
     "data": {
      "text/plain": [
       "167.125"
      ]
     },
     "execution_count": 103,
     "metadata": {},
     "output_type": "execute_result"
    }
   ],
   "source": [
    "s = knr_rscv.predict(arr)[0]\n",
    "s"
   ]
  },
  {
   "cell_type": "code",
   "execution_count": 104,
   "metadata": {
    "ExecuteTime": {
     "end_time": "2021-04-09T15:43:19.546114Z",
     "start_time": "2021-04-09T15:43:19.537795Z"
    }
   },
   "outputs": [
    {
     "data": {
      "text/plain": [
       "151.95620601134638"
      ]
     },
     "execution_count": 104,
     "metadata": {},
     "output_type": "execute_result"
    }
   ],
   "source": [
    "s - (0.09076316522754599 * s)"
   ]
  },
  {
   "cell_type": "code",
   "execution_count": 105,
   "metadata": {
    "ExecuteTime": {
     "end_time": "2021-04-09T15:43:21.425845Z",
     "start_time": "2021-04-09T15:43:21.418205Z"
    }
   },
   "outputs": [
    {
     "data": {
      "text/plain": [
       "182.29379398865362"
      ]
     },
     "execution_count": 105,
     "metadata": {},
     "output_type": "execute_result"
    }
   ],
   "source": [
    "s + (0.09076316522754599 * s)"
   ]
  },
  {
   "cell_type": "code",
   "execution_count": null,
   "metadata": {},
   "outputs": [],
   "source": []
  },
  {
   "cell_type": "code",
   "execution_count": null,
   "metadata": {},
   "outputs": [],
   "source": []
  }
 ],
 "metadata": {
  "kernelspec": {
   "display_name": "Python 3",
   "language": "python",
   "name": "python3"
  },
  "language_info": {
   "codemirror_mode": {
    "name": "ipython",
    "version": 3
   },
   "file_extension": ".py",
   "mimetype": "text/x-python",
   "name": "python",
   "nbconvert_exporter": "python",
   "pygments_lexer": "ipython3",
   "version": "3.8.5"
  }
 },
 "nbformat": 4,
 "nbformat_minor": 4
}
