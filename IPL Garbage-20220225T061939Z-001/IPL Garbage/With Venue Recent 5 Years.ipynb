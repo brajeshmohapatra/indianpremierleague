{
 "cells": [
  {
   "cell_type": "code",
   "execution_count": 1,
   "metadata": {
    "ExecuteTime": {
     "end_time": "2021-04-09T14:31:41.333857Z",
     "start_time": "2021-04-09T14:31:39.157688Z"
    }
   },
   "outputs": [
    {
     "data": {
      "text/html": [
       "<style>.container{width : 100% ! important;}</style>"
      ],
      "text/plain": [
       "<IPython.core.display.HTML object>"
      ]
     },
     "metadata": {},
     "output_type": "display_data"
    },
    {
     "name": "stdout",
     "output_type": "stream",
     "text": [
      "Libraries imported successfully!!\n"
     ]
    }
   ],
   "source": [
    "import warnings\n",
    "import numpy as np\n",
    "import pandas as pd\n",
    "import seaborn as sns\n",
    "import matplotlib.pyplot as plt\n",
    "from sklearn.svm import SVR\n",
    "from xgboost import XGBRegressor\n",
    "from datetime import date, datetime\n",
    "from sklearn.impute import SimpleImputer\n",
    "from IPython.core.display import display, HTML\n",
    "from sklearn.tree import DecisionTreeRegressor\n",
    "from sklearn.neighbors import KNeighborsRegressor\n",
    "from sklearn.preprocessing import StandardScaler, LabelEncoder\n",
    "from sklearn.linear_model import Lasso, LinearRegression, Ridge\n",
    "from sklearn.model_selection import RandomizedSearchCV, train_test_split\n",
    "from sklearn.metrics import r2_score, mean_squared_error, mean_absolute_error\n",
    "from sklearn.ensemble import RandomForestRegressor, AdaBoostRegressor, GradientBoostingRegressor\n",
    "%matplotlib inline\n",
    "warnings.filterwarnings('ignore')\n",
    "pd.pandas.set_option('display.max_rows', None)\n",
    "pd.pandas.set_option('display.max_columns', None)\n",
    "display(HTML('<style>.container{width : 100% ! important;}</style>'))\n",
    "print('Libraries imported successfully!!')"
   ]
  },
  {
   "cell_type": "code",
   "execution_count": 2,
   "metadata": {
    "ExecuteTime": {
     "end_time": "2021-04-09T14:31:41.810548Z",
     "start_time": "2021-04-09T14:31:41.334854Z"
    }
   },
   "outputs": [
    {
     "data": {
      "text/html": [
       "<div>\n",
       "<style scoped>\n",
       "    .dataframe tbody tr th:only-of-type {\n",
       "        vertical-align: middle;\n",
       "    }\n",
       "\n",
       "    .dataframe tbody tr th {\n",
       "        vertical-align: top;\n",
       "    }\n",
       "\n",
       "    .dataframe thead th {\n",
       "        text-align: right;\n",
       "    }\n",
       "</style>\n",
       "<table border=\"1\" class=\"dataframe\">\n",
       "  <thead>\n",
       "    <tr style=\"text-align: right;\">\n",
       "      <th></th>\n",
       "      <th>mid</th>\n",
       "      <th>date</th>\n",
       "      <th>venue</th>\n",
       "      <th>bat_team</th>\n",
       "      <th>bowl_team</th>\n",
       "      <th>batsman</th>\n",
       "      <th>bowler</th>\n",
       "      <th>runs</th>\n",
       "      <th>wickets</th>\n",
       "      <th>overs</th>\n",
       "      <th>runs_last_5</th>\n",
       "      <th>wickets_last_5</th>\n",
       "      <th>striker</th>\n",
       "      <th>non-striker</th>\n",
       "      <th>total</th>\n",
       "    </tr>\n",
       "  </thead>\n",
       "  <tbody>\n",
       "    <tr>\n",
       "      <th>0</th>\n",
       "      <td>1</td>\n",
       "      <td>18-04-2008</td>\n",
       "      <td>M Chinnaswamy Stadium</td>\n",
       "      <td>Kolkata Knight Riders</td>\n",
       "      <td>Royal Challengers Bangalore</td>\n",
       "      <td>SC Ganguly</td>\n",
       "      <td>P Kumar</td>\n",
       "      <td>1</td>\n",
       "      <td>0</td>\n",
       "      <td>0.1</td>\n",
       "      <td>1</td>\n",
       "      <td>0</td>\n",
       "      <td>0</td>\n",
       "      <td>0</td>\n",
       "      <td>222</td>\n",
       "    </tr>\n",
       "    <tr>\n",
       "      <th>1</th>\n",
       "      <td>1</td>\n",
       "      <td>18-04-2008</td>\n",
       "      <td>M Chinnaswamy Stadium</td>\n",
       "      <td>Kolkata Knight Riders</td>\n",
       "      <td>Royal Challengers Bangalore</td>\n",
       "      <td>BB McCullum</td>\n",
       "      <td>P Kumar</td>\n",
       "      <td>1</td>\n",
       "      <td>0</td>\n",
       "      <td>0.2</td>\n",
       "      <td>1</td>\n",
       "      <td>0</td>\n",
       "      <td>0</td>\n",
       "      <td>0</td>\n",
       "      <td>222</td>\n",
       "    </tr>\n",
       "    <tr>\n",
       "      <th>2</th>\n",
       "      <td>1</td>\n",
       "      <td>18-04-2008</td>\n",
       "      <td>M Chinnaswamy Stadium</td>\n",
       "      <td>Kolkata Knight Riders</td>\n",
       "      <td>Royal Challengers Bangalore</td>\n",
       "      <td>BB McCullum</td>\n",
       "      <td>P Kumar</td>\n",
       "      <td>2</td>\n",
       "      <td>0</td>\n",
       "      <td>0.2</td>\n",
       "      <td>2</td>\n",
       "      <td>0</td>\n",
       "      <td>0</td>\n",
       "      <td>0</td>\n",
       "      <td>222</td>\n",
       "    </tr>\n",
       "    <tr>\n",
       "      <th>3</th>\n",
       "      <td>1</td>\n",
       "      <td>18-04-2008</td>\n",
       "      <td>M Chinnaswamy Stadium</td>\n",
       "      <td>Kolkata Knight Riders</td>\n",
       "      <td>Royal Challengers Bangalore</td>\n",
       "      <td>BB McCullum</td>\n",
       "      <td>P Kumar</td>\n",
       "      <td>2</td>\n",
       "      <td>0</td>\n",
       "      <td>0.3</td>\n",
       "      <td>2</td>\n",
       "      <td>0</td>\n",
       "      <td>0</td>\n",
       "      <td>0</td>\n",
       "      <td>222</td>\n",
       "    </tr>\n",
       "    <tr>\n",
       "      <th>4</th>\n",
       "      <td>1</td>\n",
       "      <td>18-04-2008</td>\n",
       "      <td>M Chinnaswamy Stadium</td>\n",
       "      <td>Kolkata Knight Riders</td>\n",
       "      <td>Royal Challengers Bangalore</td>\n",
       "      <td>BB McCullum</td>\n",
       "      <td>P Kumar</td>\n",
       "      <td>2</td>\n",
       "      <td>0</td>\n",
       "      <td>0.4</td>\n",
       "      <td>2</td>\n",
       "      <td>0</td>\n",
       "      <td>0</td>\n",
       "      <td>0</td>\n",
       "      <td>222</td>\n",
       "    </tr>\n",
       "  </tbody>\n",
       "</table>\n",
       "</div>"
      ],
      "text/plain": [
       "   mid        date                  venue               bat_team  \\\n",
       "0    1  18-04-2008  M Chinnaswamy Stadium  Kolkata Knight Riders   \n",
       "1    1  18-04-2008  M Chinnaswamy Stadium  Kolkata Knight Riders   \n",
       "2    1  18-04-2008  M Chinnaswamy Stadium  Kolkata Knight Riders   \n",
       "3    1  18-04-2008  M Chinnaswamy Stadium  Kolkata Knight Riders   \n",
       "4    1  18-04-2008  M Chinnaswamy Stadium  Kolkata Knight Riders   \n",
       "\n",
       "                     bowl_team      batsman   bowler  runs  wickets  overs  \\\n",
       "0  Royal Challengers Bangalore   SC Ganguly  P Kumar     1        0    0.1   \n",
       "1  Royal Challengers Bangalore  BB McCullum  P Kumar     1        0    0.2   \n",
       "2  Royal Challengers Bangalore  BB McCullum  P Kumar     2        0    0.2   \n",
       "3  Royal Challengers Bangalore  BB McCullum  P Kumar     2        0    0.3   \n",
       "4  Royal Challengers Bangalore  BB McCullum  P Kumar     2        0    0.4   \n",
       "\n",
       "   runs_last_5  wickets_last_5  striker  non-striker  total  \n",
       "0            1               0        0            0    222  \n",
       "1            1               0        0            0    222  \n",
       "2            2               0        0            0    222  \n",
       "3            2               0        0            0    222  \n",
       "4            2               0        0            0    222  "
      ]
     },
     "execution_count": 2,
     "metadata": {},
     "output_type": "execute_result"
    }
   ],
   "source": [
    "db = pd.read_csv('iplav.csv')\n",
    "db.head()"
   ]
  },
  {
   "cell_type": "code",
   "execution_count": 3,
   "metadata": {
    "ExecuteTime": {
     "end_time": "2021-04-09T14:31:41.820554Z",
     "start_time": "2021-04-09T14:31:41.812581Z"
    }
   },
   "outputs": [],
   "source": [
    "db.drop(['mid', 'batsman', 'bowler', 'striker', 'non-striker'], axis = 1, inplace = True)"
   ]
  },
  {
   "cell_type": "code",
   "execution_count": 4,
   "metadata": {
    "ExecuteTime": {
     "end_time": "2021-04-09T14:31:46.149812Z",
     "start_time": "2021-04-09T14:31:46.136828Z"
    }
   },
   "outputs": [
    {
     "data": {
      "text/html": [
       "<div>\n",
       "<style scoped>\n",
       "    .dataframe tbody tr th:only-of-type {\n",
       "        vertical-align: middle;\n",
       "    }\n",
       "\n",
       "    .dataframe tbody tr th {\n",
       "        vertical-align: top;\n",
       "    }\n",
       "\n",
       "    .dataframe thead th {\n",
       "        text-align: right;\n",
       "    }\n",
       "</style>\n",
       "<table border=\"1\" class=\"dataframe\">\n",
       "  <thead>\n",
       "    <tr style=\"text-align: right;\">\n",
       "      <th></th>\n",
       "      <th>date</th>\n",
       "      <th>venue</th>\n",
       "      <th>bat_team</th>\n",
       "      <th>bowl_team</th>\n",
       "      <th>runs</th>\n",
       "      <th>wickets</th>\n",
       "      <th>overs</th>\n",
       "      <th>runs_last_5</th>\n",
       "      <th>wickets_last_5</th>\n",
       "      <th>total</th>\n",
       "    </tr>\n",
       "  </thead>\n",
       "  <tbody>\n",
       "    <tr>\n",
       "      <th>0</th>\n",
       "      <td>18-04-2008</td>\n",
       "      <td>M Chinnaswamy Stadium</td>\n",
       "      <td>Kolkata Knight Riders</td>\n",
       "      <td>Royal Challengers Bangalore</td>\n",
       "      <td>1</td>\n",
       "      <td>0</td>\n",
       "      <td>0.1</td>\n",
       "      <td>1</td>\n",
       "      <td>0</td>\n",
       "      <td>222</td>\n",
       "    </tr>\n",
       "    <tr>\n",
       "      <th>1</th>\n",
       "      <td>18-04-2008</td>\n",
       "      <td>M Chinnaswamy Stadium</td>\n",
       "      <td>Kolkata Knight Riders</td>\n",
       "      <td>Royal Challengers Bangalore</td>\n",
       "      <td>1</td>\n",
       "      <td>0</td>\n",
       "      <td>0.2</td>\n",
       "      <td>1</td>\n",
       "      <td>0</td>\n",
       "      <td>222</td>\n",
       "    </tr>\n",
       "    <tr>\n",
       "      <th>2</th>\n",
       "      <td>18-04-2008</td>\n",
       "      <td>M Chinnaswamy Stadium</td>\n",
       "      <td>Kolkata Knight Riders</td>\n",
       "      <td>Royal Challengers Bangalore</td>\n",
       "      <td>2</td>\n",
       "      <td>0</td>\n",
       "      <td>0.2</td>\n",
       "      <td>2</td>\n",
       "      <td>0</td>\n",
       "      <td>222</td>\n",
       "    </tr>\n",
       "    <tr>\n",
       "      <th>3</th>\n",
       "      <td>18-04-2008</td>\n",
       "      <td>M Chinnaswamy Stadium</td>\n",
       "      <td>Kolkata Knight Riders</td>\n",
       "      <td>Royal Challengers Bangalore</td>\n",
       "      <td>2</td>\n",
       "      <td>0</td>\n",
       "      <td>0.3</td>\n",
       "      <td>2</td>\n",
       "      <td>0</td>\n",
       "      <td>222</td>\n",
       "    </tr>\n",
       "    <tr>\n",
       "      <th>4</th>\n",
       "      <td>18-04-2008</td>\n",
       "      <td>M Chinnaswamy Stadium</td>\n",
       "      <td>Kolkata Knight Riders</td>\n",
       "      <td>Royal Challengers Bangalore</td>\n",
       "      <td>2</td>\n",
       "      <td>0</td>\n",
       "      <td>0.4</td>\n",
       "      <td>2</td>\n",
       "      <td>0</td>\n",
       "      <td>222</td>\n",
       "    </tr>\n",
       "  </tbody>\n",
       "</table>\n",
       "</div>"
      ],
      "text/plain": [
       "         date                  venue               bat_team  \\\n",
       "0  18-04-2008  M Chinnaswamy Stadium  Kolkata Knight Riders   \n",
       "1  18-04-2008  M Chinnaswamy Stadium  Kolkata Knight Riders   \n",
       "2  18-04-2008  M Chinnaswamy Stadium  Kolkata Knight Riders   \n",
       "3  18-04-2008  M Chinnaswamy Stadium  Kolkata Knight Riders   \n",
       "4  18-04-2008  M Chinnaswamy Stadium  Kolkata Knight Riders   \n",
       "\n",
       "                     bowl_team  runs  wickets  overs  runs_last_5  \\\n",
       "0  Royal Challengers Bangalore     1        0    0.1            1   \n",
       "1  Royal Challengers Bangalore     1        0    0.2            1   \n",
       "2  Royal Challengers Bangalore     2        0    0.2            2   \n",
       "3  Royal Challengers Bangalore     2        0    0.3            2   \n",
       "4  Royal Challengers Bangalore     2        0    0.4            2   \n",
       "\n",
       "   wickets_last_5  total  \n",
       "0               0    222  \n",
       "1               0    222  \n",
       "2               0    222  \n",
       "3               0    222  \n",
       "4               0    222  "
      ]
     },
     "execution_count": 4,
     "metadata": {},
     "output_type": "execute_result"
    }
   ],
   "source": [
    "db.head()"
   ]
  },
  {
   "cell_type": "code",
   "execution_count": 5,
   "metadata": {
    "ExecuteTime": {
     "end_time": "2021-04-09T14:31:49.954601Z",
     "start_time": "2021-04-09T14:31:47.359261Z"
    }
   },
   "outputs": [],
   "source": [
    "db['yyyymmdd'] = db['date'].apply(lambda x : x.split()[0])\n",
    "db['year'] = db['yyyymmdd'].apply(lambda dateString : datetime.strptime(dateString,'%d-%m-%Y').year)\n",
    "db['month'] = db['yyyymmdd'].apply(lambda dateString : datetime.strptime(dateString,'%d-%m-%Y').month)\n",
    "db['date'] = db['yyyymmdd'].apply(lambda dateString : datetime.strptime(dateString,'%d-%m-%Y').day)\n",
    "db['day_number'] = db['yyyymmdd'].apply(lambda dateString : datetime.strptime(dateString,'%d-%m-%Y').weekday())\n",
    "db = db.drop(['yyyymmdd'], axis = 1)"
   ]
  },
  {
   "cell_type": "code",
   "execution_count": 6,
   "metadata": {
    "ExecuteTime": {
     "end_time": "2021-04-09T14:31:49.967772Z",
     "start_time": "2021-04-09T14:31:49.954601Z"
    }
   },
   "outputs": [
    {
     "data": {
      "text/html": [
       "<div>\n",
       "<style scoped>\n",
       "    .dataframe tbody tr th:only-of-type {\n",
       "        vertical-align: middle;\n",
       "    }\n",
       "\n",
       "    .dataframe tbody tr th {\n",
       "        vertical-align: top;\n",
       "    }\n",
       "\n",
       "    .dataframe thead th {\n",
       "        text-align: right;\n",
       "    }\n",
       "</style>\n",
       "<table border=\"1\" class=\"dataframe\">\n",
       "  <thead>\n",
       "    <tr style=\"text-align: right;\">\n",
       "      <th></th>\n",
       "      <th>date</th>\n",
       "      <th>venue</th>\n",
       "      <th>bat_team</th>\n",
       "      <th>bowl_team</th>\n",
       "      <th>runs</th>\n",
       "      <th>wickets</th>\n",
       "      <th>overs</th>\n",
       "      <th>runs_last_5</th>\n",
       "      <th>wickets_last_5</th>\n",
       "      <th>total</th>\n",
       "      <th>year</th>\n",
       "      <th>month</th>\n",
       "      <th>day_number</th>\n",
       "    </tr>\n",
       "  </thead>\n",
       "  <tbody>\n",
       "    <tr>\n",
       "      <th>0</th>\n",
       "      <td>18</td>\n",
       "      <td>M Chinnaswamy Stadium</td>\n",
       "      <td>Kolkata Knight Riders</td>\n",
       "      <td>Royal Challengers Bangalore</td>\n",
       "      <td>1</td>\n",
       "      <td>0</td>\n",
       "      <td>0.1</td>\n",
       "      <td>1</td>\n",
       "      <td>0</td>\n",
       "      <td>222</td>\n",
       "      <td>2008</td>\n",
       "      <td>4</td>\n",
       "      <td>4</td>\n",
       "    </tr>\n",
       "    <tr>\n",
       "      <th>1</th>\n",
       "      <td>18</td>\n",
       "      <td>M Chinnaswamy Stadium</td>\n",
       "      <td>Kolkata Knight Riders</td>\n",
       "      <td>Royal Challengers Bangalore</td>\n",
       "      <td>1</td>\n",
       "      <td>0</td>\n",
       "      <td>0.2</td>\n",
       "      <td>1</td>\n",
       "      <td>0</td>\n",
       "      <td>222</td>\n",
       "      <td>2008</td>\n",
       "      <td>4</td>\n",
       "      <td>4</td>\n",
       "    </tr>\n",
       "    <tr>\n",
       "      <th>2</th>\n",
       "      <td>18</td>\n",
       "      <td>M Chinnaswamy Stadium</td>\n",
       "      <td>Kolkata Knight Riders</td>\n",
       "      <td>Royal Challengers Bangalore</td>\n",
       "      <td>2</td>\n",
       "      <td>0</td>\n",
       "      <td>0.2</td>\n",
       "      <td>2</td>\n",
       "      <td>0</td>\n",
       "      <td>222</td>\n",
       "      <td>2008</td>\n",
       "      <td>4</td>\n",
       "      <td>4</td>\n",
       "    </tr>\n",
       "    <tr>\n",
       "      <th>3</th>\n",
       "      <td>18</td>\n",
       "      <td>M Chinnaswamy Stadium</td>\n",
       "      <td>Kolkata Knight Riders</td>\n",
       "      <td>Royal Challengers Bangalore</td>\n",
       "      <td>2</td>\n",
       "      <td>0</td>\n",
       "      <td>0.3</td>\n",
       "      <td>2</td>\n",
       "      <td>0</td>\n",
       "      <td>222</td>\n",
       "      <td>2008</td>\n",
       "      <td>4</td>\n",
       "      <td>4</td>\n",
       "    </tr>\n",
       "    <tr>\n",
       "      <th>4</th>\n",
       "      <td>18</td>\n",
       "      <td>M Chinnaswamy Stadium</td>\n",
       "      <td>Kolkata Knight Riders</td>\n",
       "      <td>Royal Challengers Bangalore</td>\n",
       "      <td>2</td>\n",
       "      <td>0</td>\n",
       "      <td>0.4</td>\n",
       "      <td>2</td>\n",
       "      <td>0</td>\n",
       "      <td>222</td>\n",
       "      <td>2008</td>\n",
       "      <td>4</td>\n",
       "      <td>4</td>\n",
       "    </tr>\n",
       "  </tbody>\n",
       "</table>\n",
       "</div>"
      ],
      "text/plain": [
       "   date                  venue               bat_team  \\\n",
       "0    18  M Chinnaswamy Stadium  Kolkata Knight Riders   \n",
       "1    18  M Chinnaswamy Stadium  Kolkata Knight Riders   \n",
       "2    18  M Chinnaswamy Stadium  Kolkata Knight Riders   \n",
       "3    18  M Chinnaswamy Stadium  Kolkata Knight Riders   \n",
       "4    18  M Chinnaswamy Stadium  Kolkata Knight Riders   \n",
       "\n",
       "                     bowl_team  runs  wickets  overs  runs_last_5  \\\n",
       "0  Royal Challengers Bangalore     1        0    0.1            1   \n",
       "1  Royal Challengers Bangalore     1        0    0.2            1   \n",
       "2  Royal Challengers Bangalore     2        0    0.2            2   \n",
       "3  Royal Challengers Bangalore     2        0    0.3            2   \n",
       "4  Royal Challengers Bangalore     2        0    0.4            2   \n",
       "\n",
       "   wickets_last_5  total  year  month  day_number  \n",
       "0               0    222  2008      4           4  \n",
       "1               0    222  2008      4           4  \n",
       "2               0    222  2008      4           4  \n",
       "3               0    222  2008      4           4  \n",
       "4               0    222  2008      4           4  "
      ]
     },
     "execution_count": 6,
     "metadata": {},
     "output_type": "execute_result"
    }
   ],
   "source": [
    "db.head()"
   ]
  },
  {
   "cell_type": "code",
   "execution_count": 7,
   "metadata": {
    "ExecuteTime": {
     "end_time": "2021-04-09T14:31:49.983722Z",
     "start_time": "2021-04-09T14:31:49.970762Z"
    }
   },
   "outputs": [
    {
     "data": {
      "text/plain": [
       "Index(['date', 'venue', 'bat_team', 'bowl_team', 'runs', 'wickets', 'overs',\n",
       "       'runs_last_5', 'wickets_last_5', 'total', 'year', 'month',\n",
       "       'day_number'],\n",
       "      dtype='object')"
      ]
     },
     "execution_count": 7,
     "metadata": {},
     "output_type": "execute_result"
    }
   ],
   "source": [
    "db.columns"
   ]
  },
  {
   "cell_type": "code",
   "execution_count": 8,
   "metadata": {
    "ExecuteTime": {
     "end_time": "2021-04-09T14:31:51.121623Z",
     "start_time": "2021-04-09T14:31:51.111114Z"
    }
   },
   "outputs": [
    {
     "data": {
      "text/plain": [
       "array(['M Chinnaswamy Stadium',\n",
       "       'Punjab Cricket Association Stadium, Mohali', 'Feroz Shah Kotla',\n",
       "       'Wankhede Stadium', 'Eden Gardens', 'Sawai Mansingh Stadium',\n",
       "       'Rajiv Gandhi International Stadium, Uppal',\n",
       "       'MA Chidambaram Stadium, Chepauk', 'Dr DY Patil Sports Academy',\n",
       "       'Newlands', \"St George's Park\", 'Kingsmead', 'SuperSport Park',\n",
       "       'Buffalo Park', 'New Wanderers Stadium', 'De Beers Diamond Oval',\n",
       "       'OUTsurance Oval', 'Brabourne Stadium',\n",
       "       'Sardar Patel Stadium, Motera', 'Barabati Stadium',\n",
       "       'Vidarbha Cricket Association Stadium, Jamtha',\n",
       "       'Himachal Pradesh Cricket Association Stadium', 'Nehru Stadium',\n",
       "       'Holkar Cricket Stadium',\n",
       "       'Dr. Y.S. Rajasekhara Reddy ACA-VDCA Cricket Stadium',\n",
       "       'Subrata Roy Sahara Stadium',\n",
       "       'Shaheed Veer Narayan Singh International Stadium',\n",
       "       'JSCA International Stadium Complex', 'Sheikh Zayed Stadium',\n",
       "       'Sharjah Cricket Stadium', 'Dubai International Cricket Stadium',\n",
       "       'Maharashtra Cricket Association Stadium',\n",
       "       'Saurashtra Cricket Association Stadium', 'Green Park'],\n",
       "      dtype=object)"
      ]
     },
     "execution_count": 8,
     "metadata": {},
     "output_type": "execute_result"
    }
   ],
   "source": [
    "db.venue.unique()"
   ]
  },
  {
   "cell_type": "code",
   "execution_count": 9,
   "metadata": {
    "ExecuteTime": {
     "end_time": "2021-04-09T14:31:51.808564Z",
     "start_time": "2021-04-09T14:31:51.758918Z"
    }
   },
   "outputs": [],
   "source": [
    "for col in ['bat_team', 'bowl_team']:\n",
    "    t_list = []\n",
    "    for i in db[col]:\n",
    "        if i == 'Delhi Daredevils':\n",
    "            t_list.append('Delhi Capitals')\n",
    "        elif i == 'Rising Pune Supergiants':\n",
    "            t_list.append('Rising Pune Supergiant')\n",
    "        else:\n",
    "            t_list.append(i)\n",
    "    db[col] = t_list"
   ]
  },
  {
   "cell_type": "code",
   "execution_count": 10,
   "metadata": {
    "ExecuteTime": {
     "end_time": "2021-04-09T14:31:52.535056Z",
     "start_time": "2021-04-09T14:31:52.510121Z"
    }
   },
   "outputs": [],
   "source": [
    "df = db[db['year'] >= 2012]\n",
    "df = df[df['overs'] >= 5.0]"
   ]
  },
  {
   "cell_type": "code",
   "execution_count": 11,
   "metadata": {
    "ExecuteTime": {
     "end_time": "2021-04-09T14:31:53.099495Z",
     "start_time": "2021-04-09T14:31:53.088543Z"
    }
   },
   "outputs": [
    {
     "data": {
      "text/html": [
       "<div>\n",
       "<style scoped>\n",
       "    .dataframe tbody tr th:only-of-type {\n",
       "        vertical-align: middle;\n",
       "    }\n",
       "\n",
       "    .dataframe tbody tr th {\n",
       "        vertical-align: top;\n",
       "    }\n",
       "\n",
       "    .dataframe thead th {\n",
       "        text-align: right;\n",
       "    }\n",
       "</style>\n",
       "<table border=\"1\" class=\"dataframe\">\n",
       "  <thead>\n",
       "    <tr style=\"text-align: right;\">\n",
       "      <th></th>\n",
       "      <th>date</th>\n",
       "      <th>venue</th>\n",
       "      <th>bat_team</th>\n",
       "      <th>bowl_team</th>\n",
       "      <th>runs</th>\n",
       "      <th>wickets</th>\n",
       "      <th>overs</th>\n",
       "      <th>runs_last_5</th>\n",
       "      <th>wickets_last_5</th>\n",
       "      <th>total</th>\n",
       "      <th>year</th>\n",
       "      <th>month</th>\n",
       "      <th>day_number</th>\n",
       "    </tr>\n",
       "  </thead>\n",
       "  <tbody>\n",
       "    <tr>\n",
       "      <th>29594</th>\n",
       "      <td>4</td>\n",
       "      <td>MA Chidambaram Stadium, Chepauk</td>\n",
       "      <td>Chennai Super Kings</td>\n",
       "      <td>Mumbai Indians</td>\n",
       "      <td>35</td>\n",
       "      <td>1</td>\n",
       "      <td>5.1</td>\n",
       "      <td>31</td>\n",
       "      <td>1</td>\n",
       "      <td>112</td>\n",
       "      <td>2012</td>\n",
       "      <td>4</td>\n",
       "      <td>2</td>\n",
       "    </tr>\n",
       "    <tr>\n",
       "      <th>29595</th>\n",
       "      <td>4</td>\n",
       "      <td>MA Chidambaram Stadium, Chepauk</td>\n",
       "      <td>Chennai Super Kings</td>\n",
       "      <td>Mumbai Indians</td>\n",
       "      <td>36</td>\n",
       "      <td>1</td>\n",
       "      <td>5.2</td>\n",
       "      <td>32</td>\n",
       "      <td>0</td>\n",
       "      <td>112</td>\n",
       "      <td>2012</td>\n",
       "      <td>4</td>\n",
       "      <td>2</td>\n",
       "    </tr>\n",
       "    <tr>\n",
       "      <th>29596</th>\n",
       "      <td>4</td>\n",
       "      <td>MA Chidambaram Stadium, Chepauk</td>\n",
       "      <td>Chennai Super Kings</td>\n",
       "      <td>Mumbai Indians</td>\n",
       "      <td>37</td>\n",
       "      <td>1</td>\n",
       "      <td>5.3</td>\n",
       "      <td>33</td>\n",
       "      <td>0</td>\n",
       "      <td>112</td>\n",
       "      <td>2012</td>\n",
       "      <td>4</td>\n",
       "      <td>2</td>\n",
       "    </tr>\n",
       "    <tr>\n",
       "      <th>29597</th>\n",
       "      <td>4</td>\n",
       "      <td>MA Chidambaram Stadium, Chepauk</td>\n",
       "      <td>Chennai Super Kings</td>\n",
       "      <td>Mumbai Indians</td>\n",
       "      <td>38</td>\n",
       "      <td>1</td>\n",
       "      <td>5.4</td>\n",
       "      <td>33</td>\n",
       "      <td>0</td>\n",
       "      <td>112</td>\n",
       "      <td>2012</td>\n",
       "      <td>4</td>\n",
       "      <td>2</td>\n",
       "    </tr>\n",
       "    <tr>\n",
       "      <th>29598</th>\n",
       "      <td>4</td>\n",
       "      <td>MA Chidambaram Stadium, Chepauk</td>\n",
       "      <td>Chennai Super Kings</td>\n",
       "      <td>Mumbai Indians</td>\n",
       "      <td>38</td>\n",
       "      <td>2</td>\n",
       "      <td>5.5</td>\n",
       "      <td>32</td>\n",
       "      <td>1</td>\n",
       "      <td>112</td>\n",
       "      <td>2012</td>\n",
       "      <td>4</td>\n",
       "      <td>2</td>\n",
       "    </tr>\n",
       "  </tbody>\n",
       "</table>\n",
       "</div>"
      ],
      "text/plain": [
       "       date                            venue             bat_team  \\\n",
       "29594     4  MA Chidambaram Stadium, Chepauk  Chennai Super Kings   \n",
       "29595     4  MA Chidambaram Stadium, Chepauk  Chennai Super Kings   \n",
       "29596     4  MA Chidambaram Stadium, Chepauk  Chennai Super Kings   \n",
       "29597     4  MA Chidambaram Stadium, Chepauk  Chennai Super Kings   \n",
       "29598     4  MA Chidambaram Stadium, Chepauk  Chennai Super Kings   \n",
       "\n",
       "            bowl_team  runs  wickets  overs  runs_last_5  wickets_last_5  \\\n",
       "29594  Mumbai Indians    35        1    5.1           31               1   \n",
       "29595  Mumbai Indians    36        1    5.2           32               0   \n",
       "29596  Mumbai Indians    37        1    5.3           33               0   \n",
       "29597  Mumbai Indians    38        1    5.4           33               0   \n",
       "29598  Mumbai Indians    38        2    5.5           32               1   \n",
       "\n",
       "       total  year  month  day_number  \n",
       "29594    112  2012      4           2  \n",
       "29595    112  2012      4           2  \n",
       "29596    112  2012      4           2  \n",
       "29597    112  2012      4           2  \n",
       "29598    112  2012      4           2  "
      ]
     },
     "execution_count": 11,
     "metadata": {},
     "output_type": "execute_result"
    }
   ],
   "source": [
    "df.head()"
   ]
  },
  {
   "cell_type": "code",
   "execution_count": 12,
   "metadata": {
    "ExecuteTime": {
     "end_time": "2021-04-09T14:31:54.313157Z",
     "start_time": "2021-04-09T14:31:54.278708Z"
    }
   },
   "outputs": [],
   "source": [
    "dummy = ['venue', 'bat_team', 'bowl_team']\n",
    "df_dummy = pd.get_dummies(df[dummy], prefix_sep = '_', drop_first = True)\n",
    "df = df.drop(dummy, axis = 1)\n",
    "df = pd.concat([df, df_dummy], axis = 1)"
   ]
  },
  {
   "cell_type": "code",
   "execution_count": 13,
   "metadata": {
    "ExecuteTime": {
     "end_time": "2021-04-09T14:31:55.439076Z",
     "start_time": "2021-04-09T14:31:55.416134Z"
    }
   },
   "outputs": [
    {
     "data": {
      "text/html": [
       "<div>\n",
       "<style scoped>\n",
       "    .dataframe tbody tr th:only-of-type {\n",
       "        vertical-align: middle;\n",
       "    }\n",
       "\n",
       "    .dataframe tbody tr th {\n",
       "        vertical-align: top;\n",
       "    }\n",
       "\n",
       "    .dataframe thead th {\n",
       "        text-align: right;\n",
       "    }\n",
       "</style>\n",
       "<table border=\"1\" class=\"dataframe\">\n",
       "  <thead>\n",
       "    <tr style=\"text-align: right;\">\n",
       "      <th></th>\n",
       "      <th>date</th>\n",
       "      <th>runs</th>\n",
       "      <th>wickets</th>\n",
       "      <th>overs</th>\n",
       "      <th>runs_last_5</th>\n",
       "      <th>wickets_last_5</th>\n",
       "      <th>total</th>\n",
       "      <th>year</th>\n",
       "      <th>month</th>\n",
       "      <th>day_number</th>\n",
       "      <th>venue_Brabourne Stadium</th>\n",
       "      <th>venue_Dr. Y.S. Rajasekhara Reddy ACA-VDCA Cricket Stadium</th>\n",
       "      <th>venue_Dubai International Cricket Stadium</th>\n",
       "      <th>venue_Eden Gardens</th>\n",
       "      <th>venue_Feroz Shah Kotla</th>\n",
       "      <th>venue_Green Park</th>\n",
       "      <th>venue_Himachal Pradesh Cricket Association Stadium</th>\n",
       "      <th>venue_Holkar Cricket Stadium</th>\n",
       "      <th>venue_JSCA International Stadium Complex</th>\n",
       "      <th>venue_M Chinnaswamy Stadium</th>\n",
       "      <th>venue_MA Chidambaram Stadium, Chepauk</th>\n",
       "      <th>venue_Maharashtra Cricket Association Stadium</th>\n",
       "      <th>venue_Punjab Cricket Association Stadium, Mohali</th>\n",
       "      <th>venue_Rajiv Gandhi International Stadium, Uppal</th>\n",
       "      <th>venue_Sardar Patel Stadium, Motera</th>\n",
       "      <th>venue_Saurashtra Cricket Association Stadium</th>\n",
       "      <th>venue_Sawai Mansingh Stadium</th>\n",
       "      <th>venue_Shaheed Veer Narayan Singh International Stadium</th>\n",
       "      <th>venue_Sharjah Cricket Stadium</th>\n",
       "      <th>venue_Sheikh Zayed Stadium</th>\n",
       "      <th>venue_Subrata Roy Sahara Stadium</th>\n",
       "      <th>venue_Wankhede Stadium</th>\n",
       "      <th>bat_team_Deccan Chargers</th>\n",
       "      <th>bat_team_Delhi Capitals</th>\n",
       "      <th>bat_team_Gujarat Lions</th>\n",
       "      <th>bat_team_Kings XI Punjab</th>\n",
       "      <th>bat_team_Kolkata Knight Riders</th>\n",
       "      <th>bat_team_Mumbai Indians</th>\n",
       "      <th>bat_team_Pune Warriors</th>\n",
       "      <th>bat_team_Rajasthan Royals</th>\n",
       "      <th>bat_team_Rising Pune Supergiant</th>\n",
       "      <th>bat_team_Royal Challengers Bangalore</th>\n",
       "      <th>bat_team_Sunrisers Hyderabad</th>\n",
       "      <th>bowl_team_Deccan Chargers</th>\n",
       "      <th>bowl_team_Delhi Capitals</th>\n",
       "      <th>bowl_team_Gujarat Lions</th>\n",
       "      <th>bowl_team_Kings XI Punjab</th>\n",
       "      <th>bowl_team_Kolkata Knight Riders</th>\n",
       "      <th>bowl_team_Mumbai Indians</th>\n",
       "      <th>bowl_team_Pune Warriors</th>\n",
       "      <th>bowl_team_Rajasthan Royals</th>\n",
       "      <th>bowl_team_Rising Pune Supergiant</th>\n",
       "      <th>bowl_team_Royal Challengers Bangalore</th>\n",
       "      <th>bowl_team_Sunrisers Hyderabad</th>\n",
       "    </tr>\n",
       "  </thead>\n",
       "  <tbody>\n",
       "    <tr>\n",
       "      <th>29594</th>\n",
       "      <td>4</td>\n",
       "      <td>35</td>\n",
       "      <td>1</td>\n",
       "      <td>5.1</td>\n",
       "      <td>31</td>\n",
       "      <td>1</td>\n",
       "      <td>112</td>\n",
       "      <td>2012</td>\n",
       "      <td>4</td>\n",
       "      <td>2</td>\n",
       "      <td>0</td>\n",
       "      <td>0</td>\n",
       "      <td>0</td>\n",
       "      <td>0</td>\n",
       "      <td>0</td>\n",
       "      <td>0</td>\n",
       "      <td>0</td>\n",
       "      <td>0</td>\n",
       "      <td>0</td>\n",
       "      <td>0</td>\n",
       "      <td>1</td>\n",
       "      <td>0</td>\n",
       "      <td>0</td>\n",
       "      <td>0</td>\n",
       "      <td>0</td>\n",
       "      <td>0</td>\n",
       "      <td>0</td>\n",
       "      <td>0</td>\n",
       "      <td>0</td>\n",
       "      <td>0</td>\n",
       "      <td>0</td>\n",
       "      <td>0</td>\n",
       "      <td>0</td>\n",
       "      <td>0</td>\n",
       "      <td>0</td>\n",
       "      <td>0</td>\n",
       "      <td>0</td>\n",
       "      <td>0</td>\n",
       "      <td>0</td>\n",
       "      <td>0</td>\n",
       "      <td>0</td>\n",
       "      <td>0</td>\n",
       "      <td>0</td>\n",
       "      <td>0</td>\n",
       "      <td>0</td>\n",
       "      <td>0</td>\n",
       "      <td>0</td>\n",
       "      <td>0</td>\n",
       "      <td>1</td>\n",
       "      <td>0</td>\n",
       "      <td>0</td>\n",
       "      <td>0</td>\n",
       "      <td>0</td>\n",
       "      <td>0</td>\n",
       "    </tr>\n",
       "    <tr>\n",
       "      <th>29595</th>\n",
       "      <td>4</td>\n",
       "      <td>36</td>\n",
       "      <td>1</td>\n",
       "      <td>5.2</td>\n",
       "      <td>32</td>\n",
       "      <td>0</td>\n",
       "      <td>112</td>\n",
       "      <td>2012</td>\n",
       "      <td>4</td>\n",
       "      <td>2</td>\n",
       "      <td>0</td>\n",
       "      <td>0</td>\n",
       "      <td>0</td>\n",
       "      <td>0</td>\n",
       "      <td>0</td>\n",
       "      <td>0</td>\n",
       "      <td>0</td>\n",
       "      <td>0</td>\n",
       "      <td>0</td>\n",
       "      <td>0</td>\n",
       "      <td>1</td>\n",
       "      <td>0</td>\n",
       "      <td>0</td>\n",
       "      <td>0</td>\n",
       "      <td>0</td>\n",
       "      <td>0</td>\n",
       "      <td>0</td>\n",
       "      <td>0</td>\n",
       "      <td>0</td>\n",
       "      <td>0</td>\n",
       "      <td>0</td>\n",
       "      <td>0</td>\n",
       "      <td>0</td>\n",
       "      <td>0</td>\n",
       "      <td>0</td>\n",
       "      <td>0</td>\n",
       "      <td>0</td>\n",
       "      <td>0</td>\n",
       "      <td>0</td>\n",
       "      <td>0</td>\n",
       "      <td>0</td>\n",
       "      <td>0</td>\n",
       "      <td>0</td>\n",
       "      <td>0</td>\n",
       "      <td>0</td>\n",
       "      <td>0</td>\n",
       "      <td>0</td>\n",
       "      <td>0</td>\n",
       "      <td>1</td>\n",
       "      <td>0</td>\n",
       "      <td>0</td>\n",
       "      <td>0</td>\n",
       "      <td>0</td>\n",
       "      <td>0</td>\n",
       "    </tr>\n",
       "    <tr>\n",
       "      <th>29596</th>\n",
       "      <td>4</td>\n",
       "      <td>37</td>\n",
       "      <td>1</td>\n",
       "      <td>5.3</td>\n",
       "      <td>33</td>\n",
       "      <td>0</td>\n",
       "      <td>112</td>\n",
       "      <td>2012</td>\n",
       "      <td>4</td>\n",
       "      <td>2</td>\n",
       "      <td>0</td>\n",
       "      <td>0</td>\n",
       "      <td>0</td>\n",
       "      <td>0</td>\n",
       "      <td>0</td>\n",
       "      <td>0</td>\n",
       "      <td>0</td>\n",
       "      <td>0</td>\n",
       "      <td>0</td>\n",
       "      <td>0</td>\n",
       "      <td>1</td>\n",
       "      <td>0</td>\n",
       "      <td>0</td>\n",
       "      <td>0</td>\n",
       "      <td>0</td>\n",
       "      <td>0</td>\n",
       "      <td>0</td>\n",
       "      <td>0</td>\n",
       "      <td>0</td>\n",
       "      <td>0</td>\n",
       "      <td>0</td>\n",
       "      <td>0</td>\n",
       "      <td>0</td>\n",
       "      <td>0</td>\n",
       "      <td>0</td>\n",
       "      <td>0</td>\n",
       "      <td>0</td>\n",
       "      <td>0</td>\n",
       "      <td>0</td>\n",
       "      <td>0</td>\n",
       "      <td>0</td>\n",
       "      <td>0</td>\n",
       "      <td>0</td>\n",
       "      <td>0</td>\n",
       "      <td>0</td>\n",
       "      <td>0</td>\n",
       "      <td>0</td>\n",
       "      <td>0</td>\n",
       "      <td>1</td>\n",
       "      <td>0</td>\n",
       "      <td>0</td>\n",
       "      <td>0</td>\n",
       "      <td>0</td>\n",
       "      <td>0</td>\n",
       "    </tr>\n",
       "    <tr>\n",
       "      <th>29597</th>\n",
       "      <td>4</td>\n",
       "      <td>38</td>\n",
       "      <td>1</td>\n",
       "      <td>5.4</td>\n",
       "      <td>33</td>\n",
       "      <td>0</td>\n",
       "      <td>112</td>\n",
       "      <td>2012</td>\n",
       "      <td>4</td>\n",
       "      <td>2</td>\n",
       "      <td>0</td>\n",
       "      <td>0</td>\n",
       "      <td>0</td>\n",
       "      <td>0</td>\n",
       "      <td>0</td>\n",
       "      <td>0</td>\n",
       "      <td>0</td>\n",
       "      <td>0</td>\n",
       "      <td>0</td>\n",
       "      <td>0</td>\n",
       "      <td>1</td>\n",
       "      <td>0</td>\n",
       "      <td>0</td>\n",
       "      <td>0</td>\n",
       "      <td>0</td>\n",
       "      <td>0</td>\n",
       "      <td>0</td>\n",
       "      <td>0</td>\n",
       "      <td>0</td>\n",
       "      <td>0</td>\n",
       "      <td>0</td>\n",
       "      <td>0</td>\n",
       "      <td>0</td>\n",
       "      <td>0</td>\n",
       "      <td>0</td>\n",
       "      <td>0</td>\n",
       "      <td>0</td>\n",
       "      <td>0</td>\n",
       "      <td>0</td>\n",
       "      <td>0</td>\n",
       "      <td>0</td>\n",
       "      <td>0</td>\n",
       "      <td>0</td>\n",
       "      <td>0</td>\n",
       "      <td>0</td>\n",
       "      <td>0</td>\n",
       "      <td>0</td>\n",
       "      <td>0</td>\n",
       "      <td>1</td>\n",
       "      <td>0</td>\n",
       "      <td>0</td>\n",
       "      <td>0</td>\n",
       "      <td>0</td>\n",
       "      <td>0</td>\n",
       "    </tr>\n",
       "    <tr>\n",
       "      <th>29598</th>\n",
       "      <td>4</td>\n",
       "      <td>38</td>\n",
       "      <td>2</td>\n",
       "      <td>5.5</td>\n",
       "      <td>32</td>\n",
       "      <td>1</td>\n",
       "      <td>112</td>\n",
       "      <td>2012</td>\n",
       "      <td>4</td>\n",
       "      <td>2</td>\n",
       "      <td>0</td>\n",
       "      <td>0</td>\n",
       "      <td>0</td>\n",
       "      <td>0</td>\n",
       "      <td>0</td>\n",
       "      <td>0</td>\n",
       "      <td>0</td>\n",
       "      <td>0</td>\n",
       "      <td>0</td>\n",
       "      <td>0</td>\n",
       "      <td>1</td>\n",
       "      <td>0</td>\n",
       "      <td>0</td>\n",
       "      <td>0</td>\n",
       "      <td>0</td>\n",
       "      <td>0</td>\n",
       "      <td>0</td>\n",
       "      <td>0</td>\n",
       "      <td>0</td>\n",
       "      <td>0</td>\n",
       "      <td>0</td>\n",
       "      <td>0</td>\n",
       "      <td>0</td>\n",
       "      <td>0</td>\n",
       "      <td>0</td>\n",
       "      <td>0</td>\n",
       "      <td>0</td>\n",
       "      <td>0</td>\n",
       "      <td>0</td>\n",
       "      <td>0</td>\n",
       "      <td>0</td>\n",
       "      <td>0</td>\n",
       "      <td>0</td>\n",
       "      <td>0</td>\n",
       "      <td>0</td>\n",
       "      <td>0</td>\n",
       "      <td>0</td>\n",
       "      <td>0</td>\n",
       "      <td>1</td>\n",
       "      <td>0</td>\n",
       "      <td>0</td>\n",
       "      <td>0</td>\n",
       "      <td>0</td>\n",
       "      <td>0</td>\n",
       "    </tr>\n",
       "  </tbody>\n",
       "</table>\n",
       "</div>"
      ],
      "text/plain": [
       "       date  runs  wickets  overs  runs_last_5  wickets_last_5  total  year  \\\n",
       "29594     4    35        1    5.1           31               1    112  2012   \n",
       "29595     4    36        1    5.2           32               0    112  2012   \n",
       "29596     4    37        1    5.3           33               0    112  2012   \n",
       "29597     4    38        1    5.4           33               0    112  2012   \n",
       "29598     4    38        2    5.5           32               1    112  2012   \n",
       "\n",
       "       month  day_number  venue_Brabourne Stadium  \\\n",
       "29594      4           2                        0   \n",
       "29595      4           2                        0   \n",
       "29596      4           2                        0   \n",
       "29597      4           2                        0   \n",
       "29598      4           2                        0   \n",
       "\n",
       "       venue_Dr. Y.S. Rajasekhara Reddy ACA-VDCA Cricket Stadium  \\\n",
       "29594                                                  0           \n",
       "29595                                                  0           \n",
       "29596                                                  0           \n",
       "29597                                                  0           \n",
       "29598                                                  0           \n",
       "\n",
       "       venue_Dubai International Cricket Stadium  venue_Eden Gardens  \\\n",
       "29594                                          0                   0   \n",
       "29595                                          0                   0   \n",
       "29596                                          0                   0   \n",
       "29597                                          0                   0   \n",
       "29598                                          0                   0   \n",
       "\n",
       "       venue_Feroz Shah Kotla  venue_Green Park  \\\n",
       "29594                       0                 0   \n",
       "29595                       0                 0   \n",
       "29596                       0                 0   \n",
       "29597                       0                 0   \n",
       "29598                       0                 0   \n",
       "\n",
       "       venue_Himachal Pradesh Cricket Association Stadium  \\\n",
       "29594                                                  0    \n",
       "29595                                                  0    \n",
       "29596                                                  0    \n",
       "29597                                                  0    \n",
       "29598                                                  0    \n",
       "\n",
       "       venue_Holkar Cricket Stadium  venue_JSCA International Stadium Complex  \\\n",
       "29594                             0                                         0   \n",
       "29595                             0                                         0   \n",
       "29596                             0                                         0   \n",
       "29597                             0                                         0   \n",
       "29598                             0                                         0   \n",
       "\n",
       "       venue_M Chinnaswamy Stadium  venue_MA Chidambaram Stadium, Chepauk  \\\n",
       "29594                            0                                      1   \n",
       "29595                            0                                      1   \n",
       "29596                            0                                      1   \n",
       "29597                            0                                      1   \n",
       "29598                            0                                      1   \n",
       "\n",
       "       venue_Maharashtra Cricket Association Stadium  \\\n",
       "29594                                              0   \n",
       "29595                                              0   \n",
       "29596                                              0   \n",
       "29597                                              0   \n",
       "29598                                              0   \n",
       "\n",
       "       venue_Punjab Cricket Association Stadium, Mohali  \\\n",
       "29594                                                 0   \n",
       "29595                                                 0   \n",
       "29596                                                 0   \n",
       "29597                                                 0   \n",
       "29598                                                 0   \n",
       "\n",
       "       venue_Rajiv Gandhi International Stadium, Uppal  \\\n",
       "29594                                                0   \n",
       "29595                                                0   \n",
       "29596                                                0   \n",
       "29597                                                0   \n",
       "29598                                                0   \n",
       "\n",
       "       venue_Sardar Patel Stadium, Motera  \\\n",
       "29594                                   0   \n",
       "29595                                   0   \n",
       "29596                                   0   \n",
       "29597                                   0   \n",
       "29598                                   0   \n",
       "\n",
       "       venue_Saurashtra Cricket Association Stadium  \\\n",
       "29594                                             0   \n",
       "29595                                             0   \n",
       "29596                                             0   \n",
       "29597                                             0   \n",
       "29598                                             0   \n",
       "\n",
       "       venue_Sawai Mansingh Stadium  \\\n",
       "29594                             0   \n",
       "29595                             0   \n",
       "29596                             0   \n",
       "29597                             0   \n",
       "29598                             0   \n",
       "\n",
       "       venue_Shaheed Veer Narayan Singh International Stadium  \\\n",
       "29594                                                  0        \n",
       "29595                                                  0        \n",
       "29596                                                  0        \n",
       "29597                                                  0        \n",
       "29598                                                  0        \n",
       "\n",
       "       venue_Sharjah Cricket Stadium  venue_Sheikh Zayed Stadium  \\\n",
       "29594                              0                           0   \n",
       "29595                              0                           0   \n",
       "29596                              0                           0   \n",
       "29597                              0                           0   \n",
       "29598                              0                           0   \n",
       "\n",
       "       venue_Subrata Roy Sahara Stadium  venue_Wankhede Stadium  \\\n",
       "29594                                 0                       0   \n",
       "29595                                 0                       0   \n",
       "29596                                 0                       0   \n",
       "29597                                 0                       0   \n",
       "29598                                 0                       0   \n",
       "\n",
       "       bat_team_Deccan Chargers  bat_team_Delhi Capitals  \\\n",
       "29594                         0                        0   \n",
       "29595                         0                        0   \n",
       "29596                         0                        0   \n",
       "29597                         0                        0   \n",
       "29598                         0                        0   \n",
       "\n",
       "       bat_team_Gujarat Lions  bat_team_Kings XI Punjab  \\\n",
       "29594                       0                         0   \n",
       "29595                       0                         0   \n",
       "29596                       0                         0   \n",
       "29597                       0                         0   \n",
       "29598                       0                         0   \n",
       "\n",
       "       bat_team_Kolkata Knight Riders  bat_team_Mumbai Indians  \\\n",
       "29594                               0                        0   \n",
       "29595                               0                        0   \n",
       "29596                               0                        0   \n",
       "29597                               0                        0   \n",
       "29598                               0                        0   \n",
       "\n",
       "       bat_team_Pune Warriors  bat_team_Rajasthan Royals  \\\n",
       "29594                       0                          0   \n",
       "29595                       0                          0   \n",
       "29596                       0                          0   \n",
       "29597                       0                          0   \n",
       "29598                       0                          0   \n",
       "\n",
       "       bat_team_Rising Pune Supergiant  bat_team_Royal Challengers Bangalore  \\\n",
       "29594                                0                                     0   \n",
       "29595                                0                                     0   \n",
       "29596                                0                                     0   \n",
       "29597                                0                                     0   \n",
       "29598                                0                                     0   \n",
       "\n",
       "       bat_team_Sunrisers Hyderabad  bowl_team_Deccan Chargers  \\\n",
       "29594                             0                          0   \n",
       "29595                             0                          0   \n",
       "29596                             0                          0   \n",
       "29597                             0                          0   \n",
       "29598                             0                          0   \n",
       "\n",
       "       bowl_team_Delhi Capitals  bowl_team_Gujarat Lions  \\\n",
       "29594                         0                        0   \n",
       "29595                         0                        0   \n",
       "29596                         0                        0   \n",
       "29597                         0                        0   \n",
       "29598                         0                        0   \n",
       "\n",
       "       bowl_team_Kings XI Punjab  bowl_team_Kolkata Knight Riders  \\\n",
       "29594                          0                                0   \n",
       "29595                          0                                0   \n",
       "29596                          0                                0   \n",
       "29597                          0                                0   \n",
       "29598                          0                                0   \n",
       "\n",
       "       bowl_team_Mumbai Indians  bowl_team_Pune Warriors  \\\n",
       "29594                         1                        0   \n",
       "29595                         1                        0   \n",
       "29596                         1                        0   \n",
       "29597                         1                        0   \n",
       "29598                         1                        0   \n",
       "\n",
       "       bowl_team_Rajasthan Royals  bowl_team_Rising Pune Supergiant  \\\n",
       "29594                           0                                 0   \n",
       "29595                           0                                 0   \n",
       "29596                           0                                 0   \n",
       "29597                           0                                 0   \n",
       "29598                           0                                 0   \n",
       "\n",
       "       bowl_team_Royal Challengers Bangalore  bowl_team_Sunrisers Hyderabad  \n",
       "29594                                      0                              0  \n",
       "29595                                      0                              0  \n",
       "29596                                      0                              0  \n",
       "29597                                      0                              0  \n",
       "29598                                      0                              0  "
      ]
     },
     "execution_count": 13,
     "metadata": {},
     "output_type": "execute_result"
    }
   ],
   "source": [
    "df.head()"
   ]
  },
  {
   "cell_type": "code",
   "execution_count": 14,
   "metadata": {
    "ExecuteTime": {
     "end_time": "2021-04-09T14:31:55.972545Z",
     "start_time": "2021-04-09T14:31:55.968555Z"
    }
   },
   "outputs": [
    {
     "data": {
      "text/plain": [
       "(34685, 54)"
      ]
     },
     "execution_count": 14,
     "metadata": {},
     "output_type": "execute_result"
    }
   ],
   "source": [
    "df.shape"
   ]
  },
  {
   "cell_type": "code",
   "execution_count": 15,
   "metadata": {
    "ExecuteTime": {
     "end_time": "2021-04-09T14:31:56.789894Z",
     "start_time": "2021-04-09T14:31:56.783875Z"
    }
   },
   "outputs": [
    {
     "data": {
      "text/plain": [
       "Index(['date', 'runs', 'wickets', 'overs', 'runs_last_5', 'wickets_last_5',\n",
       "       'total', 'year', 'month', 'day_number', 'venue_Brabourne Stadium',\n",
       "       'venue_Dr. Y.S. Rajasekhara Reddy ACA-VDCA Cricket Stadium',\n",
       "       'venue_Dubai International Cricket Stadium', 'venue_Eden Gardens',\n",
       "       'venue_Feroz Shah Kotla', 'venue_Green Park',\n",
       "       'venue_Himachal Pradesh Cricket Association Stadium',\n",
       "       'venue_Holkar Cricket Stadium',\n",
       "       'venue_JSCA International Stadium Complex',\n",
       "       'venue_M Chinnaswamy Stadium', 'venue_MA Chidambaram Stadium, Chepauk',\n",
       "       'venue_Maharashtra Cricket Association Stadium',\n",
       "       'venue_Punjab Cricket Association Stadium, Mohali',\n",
       "       'venue_Rajiv Gandhi International Stadium, Uppal',\n",
       "       'venue_Sardar Patel Stadium, Motera',\n",
       "       'venue_Saurashtra Cricket Association Stadium',\n",
       "       'venue_Sawai Mansingh Stadium',\n",
       "       'venue_Shaheed Veer Narayan Singh International Stadium',\n",
       "       'venue_Sharjah Cricket Stadium', 'venue_Sheikh Zayed Stadium',\n",
       "       'venue_Subrata Roy Sahara Stadium', 'venue_Wankhede Stadium',\n",
       "       'bat_team_Deccan Chargers', 'bat_team_Delhi Capitals',\n",
       "       'bat_team_Gujarat Lions', 'bat_team_Kings XI Punjab',\n",
       "       'bat_team_Kolkata Knight Riders', 'bat_team_Mumbai Indians',\n",
       "       'bat_team_Pune Warriors', 'bat_team_Rajasthan Royals',\n",
       "       'bat_team_Rising Pune Supergiant',\n",
       "       'bat_team_Royal Challengers Bangalore', 'bat_team_Sunrisers Hyderabad',\n",
       "       'bowl_team_Deccan Chargers', 'bowl_team_Delhi Capitals',\n",
       "       'bowl_team_Gujarat Lions', 'bowl_team_Kings XI Punjab',\n",
       "       'bowl_team_Kolkata Knight Riders', 'bowl_team_Mumbai Indians',\n",
       "       'bowl_team_Pune Warriors', 'bowl_team_Rajasthan Royals',\n",
       "       'bowl_team_Rising Pune Supergiant',\n",
       "       'bowl_team_Royal Challengers Bangalore',\n",
       "       'bowl_team_Sunrisers Hyderabad'],\n",
       "      dtype='object')"
      ]
     },
     "execution_count": 15,
     "metadata": {},
     "output_type": "execute_result"
    }
   ],
   "source": [
    "df.columns"
   ]
  },
  {
   "cell_type": "code",
   "execution_count": 16,
   "metadata": {
    "ExecuteTime": {
     "end_time": "2021-04-09T14:31:57.458322Z",
     "start_time": "2021-04-09T14:31:57.447804Z"
    }
   },
   "outputs": [],
   "source": [
    "df = df[['runs', 'wickets', 'overs', 'runs_last_5', 'wickets_last_5', 'total', 'year', 'bat_team_Deccan Chargers', 'bat_team_Delhi Capitals', 'bat_team_Gujarat Lions', \n",
    "         'bat_team_Kings XI Punjab', 'bat_team_Kolkata Knight Riders', 'bat_team_Mumbai Indians', 'bat_team_Pune Warriors', \n",
    "         'bat_team_Rajasthan Royals', 'bat_team_Rising Pune Supergiant', 'bat_team_Royal Challengers Bangalore', 'bat_team_Sunrisers Hyderabad', \n",
    "         'bowl_team_Deccan Chargers', 'bowl_team_Delhi Capitals', 'bowl_team_Gujarat Lions', 'bowl_team_Kings XI Punjab', 'bowl_team_Kolkata Knight Riders', \n",
    "         'bowl_team_Mumbai Indians', 'bowl_team_Pune Warriors', 'bowl_team_Rajasthan Royals', 'bowl_team_Rising Pune Supergiant', 'bowl_team_Royal Challengers Bangalore', \n",
    "         'bowl_team_Sunrisers Hyderabad', 'venue_Brabourne Stadium', 'venue_Dr. Y.S. Rajasekhara Reddy ACA-VDCA Cricket Stadium', \n",
    "         'venue_Dubai International Cricket Stadium', 'venue_Eden Gardens', 'venue_Feroz Shah Kotla', 'venue_Green Park', \n",
    "         'venue_Himachal Pradesh Cricket Association Stadium', 'venue_Holkar Cricket Stadium', 'venue_JSCA International Stadium Complex', \n",
    "         'venue_M Chinnaswamy Stadium', 'venue_MA Chidambaram Stadium, Chepauk', 'venue_Maharashtra Cricket Association Stadium', \n",
    "         'venue_Punjab Cricket Association Stadium, Mohali', 'venue_Rajiv Gandhi International Stadium, Uppal', 'venue_Sardar Patel Stadium, Motera', \n",
    "         'venue_Saurashtra Cricket Association Stadium', 'venue_Sawai Mansingh Stadium', 'venue_Shaheed Veer Narayan Singh International Stadium', \n",
    "         'venue_Sharjah Cricket Stadium', 'venue_Sheikh Zayed Stadium', 'venue_Subrata Roy Sahara Stadium', 'venue_Wankhede Stadium',]]"
   ]
  },
  {
   "cell_type": "code",
   "execution_count": 17,
   "metadata": {
    "ExecuteTime": {
     "end_time": "2021-04-09T14:32:00.075937Z",
     "start_time": "2021-04-09T14:32:00.061942Z"
    }
   },
   "outputs": [],
   "source": [
    "train = df[df['year'] <= 2016]\n",
    "test = df[df['year'] > 2016]"
   ]
  },
  {
   "cell_type": "code",
   "execution_count": 18,
   "metadata": {
    "ExecuteTime": {
     "end_time": "2021-04-09T14:32:00.894249Z",
     "start_time": "2021-04-09T14:32:00.888232Z"
    }
   },
   "outputs": [],
   "source": [
    "X_train = train.drop(['year', 'total'], axis = 1)\n",
    "X_test = test.drop(['year', 'total'], axis = 1)\n",
    "y_train = train['total']\n",
    "y_test = test['total']"
   ]
  },
  {
   "cell_type": "code",
   "execution_count": 19,
   "metadata": {
    "ExecuteTime": {
     "end_time": "2021-04-09T14:32:01.543801Z",
     "start_time": "2021-04-09T14:32:01.538765Z"
    }
   },
   "outputs": [
    {
     "data": {
      "text/plain": [
       "((29344, 49), (5341, 49), (29344,), (5341,))"
      ]
     },
     "execution_count": 19,
     "metadata": {},
     "output_type": "execute_result"
    }
   ],
   "source": [
    "X_train.shape, X_test.shape, y_train.shape, y_test.shape"
   ]
  },
  {
   "cell_type": "code",
   "execution_count": 20,
   "metadata": {
    "ExecuteTime": {
     "end_time": "2021-04-09T14:32:55.945024Z",
     "start_time": "2021-04-09T14:32:55.863765Z"
    }
   },
   "outputs": [
    {
     "data": {
      "text/plain": [
       "LinearRegression()"
      ]
     },
     "execution_count": 20,
     "metadata": {},
     "output_type": "execute_result"
    }
   ],
   "source": [
    "lr = LinearRegression()\n",
    "lr.fit(X_train, y_train)"
   ]
  },
  {
   "cell_type": "code",
   "execution_count": 21,
   "metadata": {
    "ExecuteTime": {
     "end_time": "2021-04-09T14:33:07.887648Z",
     "start_time": "2021-04-09T14:33:07.854504Z"
    }
   },
   "outputs": [
    {
     "name": "stdout",
     "output_type": "stream",
     "text": [
      "Linear Regression:\n",
      "----------------------------------------------------------------------------------------------------\n",
      "Train r2_score:  0.656623416184033\n",
      "Test r2_score:  0.6162551780358305\n",
      "----------------------------------------------------------------------------------------------------\n",
      "Train RMSE:  16.811235290579244\n",
      "Test RMSE:  18.208928038125112\n",
      "----------------------------------------------------------------------------------------------------\n",
      "Train MAPE:  0.08190542867396797\n",
      "Test MAPE:  0.0890134624057405\n"
     ]
    }
   ],
   "source": [
    "y_train_pred_lr = lr.predict(X_train)\n",
    "y_test_pred_lr = lr.predict(X_test)\n",
    "print('Linear Regression:')\n",
    "print('-' * 100)\n",
    "print('Train r2_score: ', r2_score(y_train, y_train_pred_lr))\n",
    "print('Test r2_score: ', r2_score(y_test, y_test_pred_lr))\n",
    "print('-' * 100)\n",
    "print('Train RMSE: ', np.sqrt(mean_squared_error(y_train, y_train_pred_lr)))\n",
    "print('Test RMSE: ', np.sqrt(mean_squared_error(y_test, y_test_pred_lr)))\n",
    "print('-' * 100)\n",
    "print('Train MAPE: ', np.mean(mean_absolute_error(y_train, y_train_pred_lr) / y_train))\n",
    "print('Test MAPE: ', np.mean(mean_absolute_error(y_test, y_test_pred_lr) / y_test))"
   ]
  },
  {
   "cell_type": "code",
   "execution_count": 22,
   "metadata": {
    "ExecuteTime": {
     "end_time": "2021-04-09T14:33:15.247348Z",
     "start_time": "2021-04-09T14:33:15.095202Z"
    },
    "scrolled": false
   },
   "outputs": [
    {
     "data": {
      "text/plain": [
       "True     0.615053\n",
       "False    0.384947\n",
       "Name: Bool, dtype: float64"
      ]
     },
     "execution_count": 22,
     "metadata": {},
     "output_type": "execute_result"
    }
   ],
   "source": [
    "data_lr = pd.DataFrame()\n",
    "data_lr['actual'] = y_test\n",
    "data_lr['predicted'] = y_test_pred_lr\n",
    "data_lr['lower range'] = y_test_pred_lr - (0.0890134624057405 * y_test_pred_lr)\n",
    "data_lr['upper range'] = y_test_pred_lr + (0.0890134624057405 * y_test_pred_lr)\n",
    "t_list = []\n",
    "for i in data_lr.index:\n",
    "    if data_lr['actual'][i] > data_lr['lower range'][i]:\n",
    "        if data_lr['actual'][i] < data_lr['upper range'][i]:\n",
    "            t_list.append('True')\n",
    "        else:\n",
    "            t_list.append('False')\n",
    "    else:\n",
    "        t_list.append('False')\n",
    "data_lr['Bool'] = t_list\n",
    "data_lr['Bool'].value_counts()/data_lr.shape[0]"
   ]
  },
  {
   "cell_type": "code",
   "execution_count": 23,
   "metadata": {
    "ExecuteTime": {
     "end_time": "2021-04-09T14:33:27.956506Z",
     "start_time": "2021-04-09T14:33:16.982966Z"
    }
   },
   "outputs": [
    {
     "name": "stdout",
     "output_type": "stream",
     "text": [
      "Fitting 10 folds for each of 10 candidates, totalling 100 fits\n",
      "[CV] alpha=0.624 .....................................................\n",
      "[CV] ...................................... alpha=0.624, total=   0.2s\n",
      "[CV] alpha=0.624 .....................................................\n"
     ]
    },
    {
     "name": "stderr",
     "output_type": "stream",
     "text": [
      "[Parallel(n_jobs=1)]: Using backend SequentialBackend with 1 concurrent workers.\n",
      "[Parallel(n_jobs=1)]: Done   1 out of   1 | elapsed:    0.1s remaining:    0.0s\n"
     ]
    },
    {
     "name": "stdout",
     "output_type": "stream",
     "text": [
      "[CV] ...................................... alpha=0.624, total=   0.1s\n",
      "[CV] alpha=0.624 .....................................................\n",
      "[CV] ...................................... alpha=0.624, total=   0.1s\n",
      "[CV] alpha=0.624 .....................................................\n",
      "[CV] ...................................... alpha=0.624, total=   0.1s\n",
      "[CV] alpha=0.624 .....................................................\n",
      "[CV] ...................................... alpha=0.624, total=   0.1s\n",
      "[CV] alpha=0.624 .....................................................\n",
      "[CV] ...................................... alpha=0.624, total=   0.1s\n",
      "[CV] alpha=0.624 .....................................................\n",
      "[CV] ...................................... alpha=0.624, total=   0.1s\n",
      "[CV] alpha=0.624 .....................................................\n",
      "[CV] ...................................... alpha=0.624, total=   0.1s\n",
      "[CV] alpha=0.624 .....................................................\n",
      "[CV] ...................................... alpha=0.624, total=   0.1s\n",
      "[CV] alpha=0.624 .....................................................\n",
      "[CV] ...................................... alpha=0.624, total=   0.1s\n",
      "[CV] alpha=0.242 .....................................................\n",
      "[CV] ...................................... alpha=0.242, total=   0.1s\n",
      "[CV] alpha=0.242 .....................................................\n",
      "[CV] ...................................... alpha=0.242, total=   0.1s\n",
      "[CV] alpha=0.242 .....................................................\n",
      "[CV] ...................................... alpha=0.242, total=   0.1s\n",
      "[CV] alpha=0.242 .....................................................\n",
      "[CV] ...................................... alpha=0.242, total=   0.1s\n",
      "[CV] alpha=0.242 .....................................................\n",
      "[CV] ...................................... alpha=0.242, total=   0.1s\n",
      "[CV] alpha=0.242 .....................................................\n",
      "[CV] ...................................... alpha=0.242, total=   0.1s\n",
      "[CV] alpha=0.242 .....................................................\n",
      "[CV] ...................................... alpha=0.242, total=   0.1s\n",
      "[CV] alpha=0.242 .....................................................\n",
      "[CV] ...................................... alpha=0.242, total=   0.2s\n",
      "[CV] alpha=0.242 .....................................................\n",
      "[CV] ...................................... alpha=0.242, total=   0.1s\n",
      "[CV] alpha=0.242 .....................................................\n",
      "[CV] ...................................... alpha=0.242, total=   0.1s\n",
      "[CV] alpha=0.144 .....................................................\n",
      "[CV] ...................................... alpha=0.144, total=   0.1s\n",
      "[CV] alpha=0.144 .....................................................\n",
      "[CV] ...................................... alpha=0.144, total=   0.1s\n",
      "[CV] alpha=0.144 .....................................................\n",
      "[CV] ...................................... alpha=0.144, total=   0.2s\n",
      "[CV] alpha=0.144 .....................................................\n",
      "[CV] ...................................... alpha=0.144, total=   0.2s\n",
      "[CV] alpha=0.144 .....................................................\n",
      "[CV] ...................................... alpha=0.144, total=   0.1s\n",
      "[CV] alpha=0.144 .....................................................\n",
      "[CV] ...................................... alpha=0.144, total=   0.1s\n",
      "[CV] alpha=0.144 .....................................................\n",
      "[CV] ...................................... alpha=0.144, total=   0.1s\n",
      "[CV] alpha=0.144 .....................................................\n",
      "[CV] ...................................... alpha=0.144, total=   0.1s\n",
      "[CV] alpha=0.144 .....................................................\n",
      "[CV] ...................................... alpha=0.144, total=   0.1s\n",
      "[CV] alpha=0.144 .....................................................\n",
      "[CV] ...................................... alpha=0.144, total=   0.1s\n",
      "[CV] alpha=0.391 .....................................................\n",
      "[CV] ...................................... alpha=0.391, total=   0.1s\n",
      "[CV] alpha=0.391 .....................................................\n",
      "[CV] ...................................... alpha=0.391, total=   0.1s\n",
      "[CV] alpha=0.391 .....................................................\n",
      "[CV] ...................................... alpha=0.391, total=   0.1s\n",
      "[CV] alpha=0.391 .....................................................\n",
      "[CV] ...................................... alpha=0.391, total=   0.2s\n",
      "[CV] alpha=0.391 .....................................................\n",
      "[CV] ...................................... alpha=0.391, total=   0.1s\n",
      "[CV] alpha=0.391 .....................................................\n",
      "[CV] ...................................... alpha=0.391, total=   0.1s\n",
      "[CV] alpha=0.391 .....................................................\n",
      "[CV] ...................................... alpha=0.391, total=   0.1s\n",
      "[CV] alpha=0.391 .....................................................\n",
      "[CV] ...................................... alpha=0.391, total=   0.1s\n",
      "[CV] alpha=0.391 .....................................................\n",
      "[CV] ...................................... alpha=0.391, total=   0.1s\n",
      "[CV] alpha=0.391 .....................................................\n",
      "[CV] ...................................... alpha=0.391, total=   0.1s\n",
      "[CV] alpha=0.407 .....................................................\n",
      "[CV] ...................................... alpha=0.407, total=   0.1s\n",
      "[CV] alpha=0.407 .....................................................\n",
      "[CV] ...................................... alpha=0.407, total=   0.1s\n",
      "[CV] alpha=0.407 .....................................................\n",
      "[CV] ...................................... alpha=0.407, total=   0.1s\n",
      "[CV] alpha=0.407 .....................................................\n",
      "[CV] ...................................... alpha=0.407, total=   0.1s\n",
      "[CV] alpha=0.407 .....................................................\n",
      "[CV] ...................................... alpha=0.407, total=   0.1s\n",
      "[CV] alpha=0.407 .....................................................\n",
      "[CV] ...................................... alpha=0.407, total=   0.1s\n",
      "[CV] alpha=0.407 .....................................................\n",
      "[CV] ...................................... alpha=0.407, total=   0.1s\n",
      "[CV] alpha=0.407 .....................................................\n",
      "[CV] ...................................... alpha=0.407, total=   0.1s\n",
      "[CV] alpha=0.407 .....................................................\n",
      "[CV] ...................................... alpha=0.407, total=   0.1s\n",
      "[CV] alpha=0.407 .....................................................\n",
      "[CV] ...................................... alpha=0.407, total=   0.1s\n",
      "[CV] alpha=0.314 .....................................................\n",
      "[CV] ...................................... alpha=0.314, total=   0.1s\n",
      "[CV] alpha=0.314 .....................................................\n",
      "[CV] ...................................... alpha=0.314, total=   0.1s\n",
      "[CV] alpha=0.314 .....................................................\n",
      "[CV] ...................................... alpha=0.314, total=   0.2s\n",
      "[CV] alpha=0.314 .....................................................\n",
      "[CV] ...................................... alpha=0.314, total=   0.2s\n",
      "[CV] alpha=0.314 .....................................................\n",
      "[CV] ...................................... alpha=0.314, total=   0.1s\n",
      "[CV] alpha=0.314 .....................................................\n",
      "[CV] ...................................... alpha=0.314, total=   0.1s\n",
      "[CV] alpha=0.314 .....................................................\n",
      "[CV] ...................................... alpha=0.314, total=   0.1s\n",
      "[CV] alpha=0.314 .....................................................\n",
      "[CV] ...................................... alpha=0.314, total=   0.1s\n",
      "[CV] alpha=0.314 .....................................................\n",
      "[CV] ...................................... alpha=0.314, total=   0.1s\n",
      "[CV] alpha=0.314 .....................................................\n",
      "[CV] ...................................... alpha=0.314, total=   0.1s\n",
      "[CV] alpha=0.753 .....................................................\n"
     ]
    },
    {
     "name": "stdout",
     "output_type": "stream",
     "text": [
      "[CV] ...................................... alpha=0.753, total=   0.1s\n",
      "[CV] alpha=0.753 .....................................................\n",
      "[CV] ...................................... alpha=0.753, total=   0.1s\n",
      "[CV] alpha=0.753 .....................................................\n",
      "[CV] ...................................... alpha=0.753, total=   0.1s\n",
      "[CV] alpha=0.753 .....................................................\n",
      "[CV] ...................................... alpha=0.753, total=   0.1s\n",
      "[CV] alpha=0.753 .....................................................\n",
      "[CV] ...................................... alpha=0.753, total=   0.1s\n",
      "[CV] alpha=0.753 .....................................................\n",
      "[CV] ...................................... alpha=0.753, total=   0.1s\n",
      "[CV] alpha=0.753 .....................................................\n",
      "[CV] ...................................... alpha=0.753, total=   0.1s\n",
      "[CV] alpha=0.753 .....................................................\n",
      "[CV] ...................................... alpha=0.753, total=   0.1s\n",
      "[CV] alpha=0.753 .....................................................\n",
      "[CV] ...................................... alpha=0.753, total=   0.1s\n",
      "[CV] alpha=0.753 .....................................................\n",
      "[CV] ...................................... alpha=0.753, total=   0.1s\n",
      "[CV] alpha=0.942 .....................................................\n",
      "[CV] ...................................... alpha=0.942, total=   0.1s\n",
      "[CV] alpha=0.942 .....................................................\n",
      "[CV] ...................................... alpha=0.942, total=   0.1s\n",
      "[CV] alpha=0.942 .....................................................\n",
      "[CV] ...................................... alpha=0.942, total=   0.1s\n",
      "[CV] alpha=0.942 .....................................................\n",
      "[CV] ...................................... alpha=0.942, total=   0.1s\n",
      "[CV] alpha=0.942 .....................................................\n",
      "[CV] ...................................... alpha=0.942, total=   0.1s\n",
      "[CV] alpha=0.942 .....................................................\n",
      "[CV] ...................................... alpha=0.942, total=   0.1s\n",
      "[CV] alpha=0.942 .....................................................\n",
      "[CV] ...................................... alpha=0.942, total=   0.1s\n",
      "[CV] alpha=0.942 .....................................................\n",
      "[CV] ...................................... alpha=0.942, total=   0.1s\n",
      "[CV] alpha=0.942 .....................................................\n",
      "[CV] ...................................... alpha=0.942, total=   0.1s\n",
      "[CV] alpha=0.942 .....................................................\n",
      "[CV] ...................................... alpha=0.942, total=   0.1s\n",
      "[CV] alpha=0.279 .....................................................\n",
      "[CV] ...................................... alpha=0.279, total=   0.1s\n",
      "[CV] alpha=0.279 .....................................................\n",
      "[CV] ...................................... alpha=0.279, total=   0.1s\n",
      "[CV] alpha=0.279 .....................................................\n",
      "[CV] ...................................... alpha=0.279, total=   0.1s\n",
      "[CV] alpha=0.279 .....................................................\n",
      "[CV] ...................................... alpha=0.279, total=   0.1s\n",
      "[CV] alpha=0.279 .....................................................\n",
      "[CV] ...................................... alpha=0.279, total=   0.1s\n",
      "[CV] alpha=0.279 .....................................................\n",
      "[CV] ...................................... alpha=0.279, total=   0.1s\n",
      "[CV] alpha=0.279 .....................................................\n",
      "[CV] ...................................... alpha=0.279, total=   0.1s\n",
      "[CV] alpha=0.279 .....................................................\n",
      "[CV] ...................................... alpha=0.279, total=   0.1s\n",
      "[CV] alpha=0.279 .....................................................\n",
      "[CV] ...................................... alpha=0.279, total=   0.1s\n",
      "[CV] alpha=0.279 .....................................................\n",
      "[CV] ...................................... alpha=0.279, total=   0.1s\n",
      "[CV] alpha=0.032 .....................................................\n",
      "[CV] ...................................... alpha=0.032, total=   0.2s\n",
      "[CV] alpha=0.032 .....................................................\n",
      "[CV] ...................................... alpha=0.032, total=   0.2s\n",
      "[CV] alpha=0.032 .....................................................\n",
      "[CV] ...................................... alpha=0.032, total=   0.2s\n",
      "[CV] alpha=0.032 .....................................................\n",
      "[CV] ...................................... alpha=0.032, total=   0.1s\n",
      "[CV] alpha=0.032 .....................................................\n",
      "[CV] ...................................... alpha=0.032, total=   0.1s\n",
      "[CV] alpha=0.032 .....................................................\n",
      "[CV] ...................................... alpha=0.032, total=   0.1s\n",
      "[CV] alpha=0.032 .....................................................\n",
      "[CV] ...................................... alpha=0.032, total=   0.2s\n",
      "[CV] alpha=0.032 .....................................................\n",
      "[CV] ...................................... alpha=0.032, total=   0.1s\n",
      "[CV] alpha=0.032 .....................................................\n",
      "[CV] ...................................... alpha=0.032, total=   0.2s\n",
      "[CV] alpha=0.032 .....................................................\n",
      "[CV] ...................................... alpha=0.032, total=   0.1s\n"
     ]
    },
    {
     "name": "stderr",
     "output_type": "stream",
     "text": [
      "[Parallel(n_jobs=1)]: Done 100 out of 100 | elapsed:   10.8s finished\n"
     ]
    },
    {
     "data": {
      "text/plain": [
       "{'alpha': 0.314}"
      ]
     },
     "execution_count": 23,
     "metadata": {},
     "output_type": "execute_result"
    }
   ],
   "source": [
    "la = Lasso()\n",
    "possible_parameter_values = {'alpha' : [float(x)/1000 for x in np.arange(start = 1, stop = 1001, step = 1)]}\n",
    "la_rscv = RandomizedSearchCV(estimator = la, param_distributions = possible_parameter_values, cv = 10, scoring = 'neg_mean_squared_error', verbose = 2, random_state = 17, \n",
    "                              n_jobs = 1)\n",
    "la_rscv.fit(X_train, y_train)\n",
    "la_rscv.best_params_"
   ]
  },
  {
   "cell_type": "code",
   "execution_count": 24,
   "metadata": {
    "ExecuteTime": {
     "end_time": "2021-04-09T14:34:41.828786Z",
     "start_time": "2021-04-09T14:34:41.788786Z"
    },
    "scrolled": true
   },
   "outputs": [
    {
     "name": "stdout",
     "output_type": "stream",
     "text": [
      "Lasso Regression:\n",
      "----------------------------------------------------------------------------------------------------\n",
      "Train r2_score:  0.6300002598739947\n",
      "Test r2_score:  0.6663102068815934\n",
      "----------------------------------------------------------------------------------------------------\n",
      "Train RMSE:  17.450786222562808\n",
      "Test RMSE:  16.97987843773432\n",
      "----------------------------------------------------------------------------------------------------\n",
      "Train MAPE:  0.0832273289172532\n",
      "Test MAPE:  0.08037740543792475\n"
     ]
    }
   ],
   "source": [
    "y_train_pred_la = la_rscv.predict(X_train)\n",
    "y_test_pred_la = la_rscv.predict(X_test)\n",
    "print('Lasso Regression:')\n",
    "print('-' * 100)\n",
    "print('Train r2_score: ', r2_score(y_train, y_train_pred_la))\n",
    "print('Test r2_score: ', r2_score(y_test, y_test_pred_la))\n",
    "print('-' * 100)\n",
    "print('Train RMSE: ', np.sqrt(mean_squared_error(y_train, y_train_pred_la)))\n",
    "print('Test RMSE: ', np.sqrt(mean_squared_error(y_test, y_test_pred_la)))\n",
    "print('-' * 100)\n",
    "print('Train MAPE: ', np.mean(mean_absolute_error(y_train, y_train_pred_la) / y_train))\n",
    "print('Test MAPE: ', np.mean(mean_absolute_error(y_test, y_test_pred_la) / y_test))"
   ]
  },
  {
   "cell_type": "code",
   "execution_count": 25,
   "metadata": {
    "ExecuteTime": {
     "end_time": "2021-04-09T14:35:00.878901Z",
     "start_time": "2021-04-09T14:35:00.719545Z"
    }
   },
   "outputs": [
    {
     "data": {
      "text/plain": [
       "True     0.625913\n",
       "False    0.374087\n",
       "Name: Bool, dtype: float64"
      ]
     },
     "execution_count": 25,
     "metadata": {},
     "output_type": "execute_result"
    }
   ],
   "source": [
    "data_la = pd.DataFrame()\n",
    "data_la['actual'] = y_test\n",
    "data_la['predicted'] = y_test_pred_la\n",
    "data_la['lower range'] = y_test_pred_la - (0.08037740543792475 * y_test_pred_la)\n",
    "data_la['upper range'] = y_test_pred_la + (0.08037740543792475 * y_test_pred_la)\n",
    "t_list = []\n",
    "for i in data_la.index:\n",
    "    if data_la['actual'][i] > data_la['lower range'][i]:\n",
    "        if data_la['actual'][i] < data_la['upper range'][i]:\n",
    "            t_list.append('True')\n",
    "        else:\n",
    "            t_list.append('False')\n",
    "    else:\n",
    "        t_list.append('False')\n",
    "data_la['Bool'] = t_list\n",
    "data_la['Bool'].value_counts()/data_la.shape[0]"
   ]
  },
  {
   "cell_type": "code",
   "execution_count": 26,
   "metadata": {
    "ExecuteTime": {
     "end_time": "2021-04-09T14:35:07.419776Z",
     "start_time": "2021-04-09T14:35:03.718621Z"
    }
   },
   "outputs": [
    {
     "name": "stdout",
     "output_type": "stream",
     "text": [
      "Fitting 10 folds for each of 10 candidates, totalling 100 fits\n",
      "[CV] alpha=0.624 .....................................................\n",
      "[CV] ...................................... alpha=0.624, total=   0.1s\n",
      "[CV] alpha=0.624 .....................................................\n",
      "[CV] ...................................... alpha=0.624, total=   0.0s\n",
      "[CV] alpha=0.624 .....................................................\n",
      "[CV] ...................................... alpha=0.624, total=   0.0s\n",
      "[CV] alpha=0.624 .....................................................\n"
     ]
    },
    {
     "name": "stderr",
     "output_type": "stream",
     "text": [
      "[Parallel(n_jobs=1)]: Using backend SequentialBackend with 1 concurrent workers.\n",
      "[Parallel(n_jobs=1)]: Done   1 out of   1 | elapsed:    0.0s remaining:    0.0s\n"
     ]
    },
    {
     "name": "stdout",
     "output_type": "stream",
     "text": [
      "[CV] ...................................... alpha=0.624, total=   0.1s\n",
      "[CV] alpha=0.624 .....................................................\n",
      "[CV] ...................................... alpha=0.624, total=   0.1s\n",
      "[CV] alpha=0.624 .....................................................\n",
      "[CV] ...................................... alpha=0.624, total=   0.0s\n",
      "[CV] alpha=0.624 .....................................................\n",
      "[CV] ...................................... alpha=0.624, total=   0.0s\n",
      "[CV] alpha=0.624 .....................................................\n",
      "[CV] ...................................... alpha=0.624, total=   0.1s\n",
      "[CV] alpha=0.624 .....................................................\n",
      "[CV] ...................................... alpha=0.624, total=   0.0s\n",
      "[CV] alpha=0.624 .....................................................\n",
      "[CV] ...................................... alpha=0.624, total=   0.0s\n",
      "[CV] alpha=0.242 .....................................................\n",
      "[CV] ...................................... alpha=0.242, total=   0.0s\n",
      "[CV] alpha=0.242 .....................................................\n",
      "[CV] ...................................... alpha=0.242, total=   0.0s\n",
      "[CV] alpha=0.242 .....................................................\n",
      "[CV] ...................................... alpha=0.242, total=   0.0s\n",
      "[CV] alpha=0.242 .....................................................\n",
      "[CV] ...................................... alpha=0.242, total=   0.0s\n",
      "[CV] alpha=0.242 .....................................................\n",
      "[CV] ...................................... alpha=0.242, total=   0.0s\n",
      "[CV] alpha=0.242 .....................................................\n",
      "[CV] ...................................... alpha=0.242, total=   0.0s\n",
      "[CV] alpha=0.242 .....................................................\n",
      "[CV] ...................................... alpha=0.242, total=   0.0s\n",
      "[CV] alpha=0.242 .....................................................\n",
      "[CV] ...................................... alpha=0.242, total=   0.0s\n",
      "[CV] alpha=0.242 .....................................................\n",
      "[CV] ...................................... alpha=0.242, total=   0.0s\n",
      "[CV] alpha=0.242 .....................................................\n",
      "[CV] ...................................... alpha=0.242, total=   0.0s\n",
      "[CV] alpha=0.144 .....................................................\n",
      "[CV] ...................................... alpha=0.144, total=   0.0s\n",
      "[CV] alpha=0.144 .....................................................\n",
      "[CV] ...................................... alpha=0.144, total=   0.0s\n",
      "[CV] alpha=0.144 .....................................................\n",
      "[CV] ...................................... alpha=0.144, total=   0.0s\n",
      "[CV] alpha=0.144 .....................................................\n",
      "[CV] ...................................... alpha=0.144, total=   0.0s\n",
      "[CV] alpha=0.144 .....................................................\n",
      "[CV] ...................................... alpha=0.144, total=   0.0s\n",
      "[CV] alpha=0.144 .....................................................\n",
      "[CV] ...................................... alpha=0.144, total=   0.0s\n",
      "[CV] alpha=0.144 .....................................................\n",
      "[CV] ...................................... alpha=0.144, total=   0.0s\n",
      "[CV] alpha=0.144 .....................................................\n",
      "[CV] ...................................... alpha=0.144, total=   0.0s\n",
      "[CV] alpha=0.144 .....................................................\n",
      "[CV] ...................................... alpha=0.144, total=   0.0s\n",
      "[CV] alpha=0.144 .....................................................\n",
      "[CV] ...................................... alpha=0.144, total=   0.0s\n",
      "[CV] alpha=0.391 .....................................................\n",
      "[CV] ...................................... alpha=0.391, total=   0.0s\n",
      "[CV] alpha=0.391 .....................................................\n",
      "[CV] ...................................... alpha=0.391, total=   0.0s\n",
      "[CV] alpha=0.391 .....................................................\n",
      "[CV] ...................................... alpha=0.391, total=   0.0s\n",
      "[CV] alpha=0.391 .....................................................\n",
      "[CV] ...................................... alpha=0.391, total=   0.1s\n",
      "[CV] alpha=0.391 .....................................................\n",
      "[CV] ...................................... alpha=0.391, total=   0.0s\n",
      "[CV] alpha=0.391 .....................................................\n",
      "[CV] ...................................... alpha=0.391, total=   0.0s\n",
      "[CV] alpha=0.391 .....................................................\n",
      "[CV] ...................................... alpha=0.391, total=   0.0s\n",
      "[CV] alpha=0.391 .....................................................\n",
      "[CV] ...................................... alpha=0.391, total=   0.0s\n",
      "[CV] alpha=0.391 .....................................................\n",
      "[CV] ...................................... alpha=0.391, total=   0.0s\n",
      "[CV] alpha=0.391 .....................................................\n",
      "[CV] ...................................... alpha=0.391, total=   0.0s\n",
      "[CV] alpha=0.407 .....................................................\n",
      "[CV] ...................................... alpha=0.407, total=   0.0s\n",
      "[CV] alpha=0.407 .....................................................\n",
      "[CV] ...................................... alpha=0.407, total=   0.0s\n",
      "[CV] alpha=0.407 .....................................................\n",
      "[CV] ...................................... alpha=0.407, total=   0.0s\n",
      "[CV] alpha=0.407 .....................................................\n",
      "[CV] ...................................... alpha=0.407, total=   0.0s\n",
      "[CV] alpha=0.407 .....................................................\n",
      "[CV] ...................................... alpha=0.407, total=   0.1s\n",
      "[CV] alpha=0.407 .....................................................\n",
      "[CV] ...................................... alpha=0.407, total=   0.0s\n",
      "[CV] alpha=0.407 .....................................................\n",
      "[CV] ...................................... alpha=0.407, total=   0.0s\n",
      "[CV] alpha=0.407 .....................................................\n",
      "[CV] ...................................... alpha=0.407, total=   0.0s\n",
      "[CV] alpha=0.407 .....................................................\n",
      "[CV] ...................................... alpha=0.407, total=   0.0s\n",
      "[CV] alpha=0.407 .....................................................\n",
      "[CV] ...................................... alpha=0.407, total=   0.0s\n",
      "[CV] alpha=0.314 .....................................................\n",
      "[CV] ...................................... alpha=0.314, total=   0.0s\n",
      "[CV] alpha=0.314 .....................................................\n",
      "[CV] ...................................... alpha=0.314, total=   0.0s\n",
      "[CV] alpha=0.314 .....................................................\n",
      "[CV] ...................................... alpha=0.314, total=   0.0s\n",
      "[CV] alpha=0.314 .....................................................\n",
      "[CV] ...................................... alpha=0.314, total=   0.0s\n",
      "[CV] alpha=0.314 .....................................................\n",
      "[CV] ...................................... alpha=0.314, total=   0.0s\n",
      "[CV] alpha=0.314 .....................................................\n",
      "[CV] ...................................... alpha=0.314, total=   0.0s\n",
      "[CV] alpha=0.314 .....................................................\n",
      "[CV] ...................................... alpha=0.314, total=   0.0s\n",
      "[CV] alpha=0.314 .....................................................\n",
      "[CV] ...................................... alpha=0.314, total=   0.1s\n",
      "[CV] alpha=0.314 .....................................................\n",
      "[CV] ...................................... alpha=0.314, total=   0.0s\n",
      "[CV] alpha=0.314 .....................................................\n",
      "[CV] ...................................... alpha=0.314, total=   0.0s\n",
      "[CV] alpha=0.753 .....................................................\n",
      "[CV] ...................................... alpha=0.753, total=   0.0s\n",
      "[CV] alpha=0.753 .....................................................\n",
      "[CV] ...................................... alpha=0.753, total=   0.1s\n",
      "[CV] alpha=0.753 .....................................................\n",
      "[CV] ...................................... alpha=0.753, total=   0.0s\n",
      "[CV] alpha=0.753 .....................................................\n"
     ]
    },
    {
     "name": "stdout",
     "output_type": "stream",
     "text": [
      "[CV] ...................................... alpha=0.753, total=   0.1s\n",
      "[CV] alpha=0.753 .....................................................\n",
      "[CV] ...................................... alpha=0.753, total=   0.0s\n",
      "[CV] alpha=0.753 .....................................................\n",
      "[CV] ...................................... alpha=0.753, total=   0.0s\n",
      "[CV] alpha=0.753 .....................................................\n",
      "[CV] ...................................... alpha=0.753, total=   0.0s\n",
      "[CV] alpha=0.753 .....................................................\n",
      "[CV] ...................................... alpha=0.753, total=   0.0s\n",
      "[CV] alpha=0.753 .....................................................\n",
      "[CV] ...................................... alpha=0.753, total=   0.0s\n",
      "[CV] alpha=0.753 .....................................................\n",
      "[CV] ...................................... alpha=0.753, total=   0.0s\n",
      "[CV] alpha=0.942 .....................................................\n",
      "[CV] ...................................... alpha=0.942, total=   0.0s\n",
      "[CV] alpha=0.942 .....................................................\n",
      "[CV] ...................................... alpha=0.942, total=   0.0s\n",
      "[CV] alpha=0.942 .....................................................\n",
      "[CV] ...................................... alpha=0.942, total=   0.0s\n",
      "[CV] alpha=0.942 .....................................................\n",
      "[CV] ...................................... alpha=0.942, total=   0.0s\n",
      "[CV] alpha=0.942 .....................................................\n",
      "[CV] ...................................... alpha=0.942, total=   0.0s\n",
      "[CV] alpha=0.942 .....................................................\n",
      "[CV] ...................................... alpha=0.942, total=   0.0s\n",
      "[CV] alpha=0.942 .....................................................\n",
      "[CV] ...................................... alpha=0.942, total=   0.0s\n",
      "[CV] alpha=0.942 .....................................................\n",
      "[CV] ...................................... alpha=0.942, total=   0.0s\n",
      "[CV] alpha=0.942 .....................................................\n",
      "[CV] ...................................... alpha=0.942, total=   0.0s\n",
      "[CV] alpha=0.942 .....................................................\n",
      "[CV] ...................................... alpha=0.942, total=   0.0s\n",
      "[CV] alpha=0.279 .....................................................\n",
      "[CV] ...................................... alpha=0.279, total=   0.0s\n",
      "[CV] alpha=0.279 .....................................................\n",
      "[CV] ...................................... alpha=0.279, total=   0.0s\n",
      "[CV] alpha=0.279 .....................................................\n",
      "[CV] ...................................... alpha=0.279, total=   0.0s\n",
      "[CV] alpha=0.279 .....................................................\n",
      "[CV] ...................................... alpha=0.279, total=   0.0s\n",
      "[CV] alpha=0.279 .....................................................\n",
      "[CV] ...................................... alpha=0.279, total=   0.0s\n",
      "[CV] alpha=0.279 .....................................................\n",
      "[CV] ...................................... alpha=0.279, total=   0.0s\n",
      "[CV] alpha=0.279 .....................................................\n",
      "[CV] ...................................... alpha=0.279, total=   0.0s\n",
      "[CV] alpha=0.279 .....................................................\n",
      "[CV] ...................................... alpha=0.279, total=   0.0s\n",
      "[CV] alpha=0.279 .....................................................\n",
      "[CV] ...................................... alpha=0.279, total=   0.0s\n",
      "[CV] alpha=0.279 .....................................................\n",
      "[CV] ...................................... alpha=0.279, total=   0.0s\n",
      "[CV] alpha=0.032 .....................................................\n",
      "[CV] ...................................... alpha=0.032, total=   0.0s\n",
      "[CV] alpha=0.032 .....................................................\n",
      "[CV] ...................................... alpha=0.032, total=   0.0s\n",
      "[CV] alpha=0.032 .....................................................\n",
      "[CV] ...................................... alpha=0.032, total=   0.0s\n",
      "[CV] alpha=0.032 .....................................................\n",
      "[CV] ...................................... alpha=0.032, total=   0.0s\n",
      "[CV] alpha=0.032 .....................................................\n",
      "[CV] ...................................... alpha=0.032, total=   0.0s\n",
      "[CV] alpha=0.032 .....................................................\n",
      "[CV] ...................................... alpha=0.032, total=   0.0s\n",
      "[CV] alpha=0.032 .....................................................\n",
      "[CV] ...................................... alpha=0.032, total=   0.0s\n",
      "[CV] alpha=0.032 .....................................................\n",
      "[CV] ...................................... alpha=0.032, total=   0.0s\n",
      "[CV] alpha=0.032 .....................................................\n",
      "[CV] ...................................... alpha=0.032, total=   0.0s\n",
      "[CV] alpha=0.032 .....................................................\n",
      "[CV] ...................................... alpha=0.032, total=   0.0s\n"
     ]
    },
    {
     "name": "stderr",
     "output_type": "stream",
     "text": [
      "[Parallel(n_jobs=1)]: Done 100 out of 100 | elapsed:    3.5s finished\n"
     ]
    },
    {
     "data": {
      "text/plain": [
       "{'alpha': 0.942}"
      ]
     },
     "execution_count": 26,
     "metadata": {},
     "output_type": "execute_result"
    }
   ],
   "source": [
    "ri = Ridge()\n",
    "possible_parameter_values = {'alpha' : [float(x)/1000 for x in np.arange(start = 1, stop = 1001, step = 1)]}\n",
    "ri_rscv = RandomizedSearchCV(estimator = ri, param_distributions = possible_parameter_values, cv = 10, scoring = 'neg_mean_squared_error', verbose = 2, random_state = 17, \n",
    "                              n_jobs = 1)\n",
    "ri_rscv.fit(X_train, y_train)\n",
    "ri_rscv.best_params_"
   ]
  },
  {
   "cell_type": "code",
   "execution_count": 27,
   "metadata": {
    "ExecuteTime": {
     "end_time": "2021-04-09T14:35:18.672741Z",
     "start_time": "2021-04-09T14:35:18.638202Z"
    }
   },
   "outputs": [
    {
     "name": "stdout",
     "output_type": "stream",
     "text": [
      "Ridge Regression:\n",
      "----------------------------------------------------------------------------------------------------\n",
      "Train r2_score:  0.6566208196126131\n",
      "Test r2_score:  0.6164987910476469\n",
      "----------------------------------------------------------------------------------------------------\n",
      "Train RMSE:  16.81129885270407\n",
      "Test RMSE:  18.203147326845887\n",
      "----------------------------------------------------------------------------------------------------\n",
      "Train MAPE:  0.08189333140534527\n",
      "Test MAPE:  0.08898039302538752\n"
     ]
    }
   ],
   "source": [
    "y_train_pred_ri = ri_rscv.predict(X_train)\n",
    "y_test_pred_ri = ri_rscv.predict(X_test)\n",
    "print('Ridge Regression:')\n",
    "print('-' * 100)\n",
    "print('Train r2_score: ', r2_score(y_train, y_train_pred_ri))\n",
    "print('Test r2_score: ', r2_score(y_test, y_test_pred_ri))\n",
    "print('-' * 100)\n",
    "print('Train RMSE: ', np.sqrt(mean_squared_error(y_train, y_train_pred_ri)))\n",
    "print('Test RMSE: ', np.sqrt(mean_squared_error(y_test, y_test_pred_ri)))\n",
    "print('-' * 100)\n",
    "print('Train MAPE: ', np.mean(mean_absolute_error(y_train, y_train_pred_ri) / y_train))\n",
    "print('Test MAPE: ', np.mean(mean_absolute_error(y_test, y_test_pred_ri) / y_test))"
   ]
  },
  {
   "cell_type": "code",
   "execution_count": 28,
   "metadata": {
    "ExecuteTime": {
     "end_time": "2021-04-09T14:35:30.048849Z",
     "start_time": "2021-04-09T14:35:29.874780Z"
    }
   },
   "outputs": [
    {
     "data": {
      "text/plain": [
       "True     0.615053\n",
       "False    0.384947\n",
       "Name: Bool, dtype: float64"
      ]
     },
     "execution_count": 28,
     "metadata": {},
     "output_type": "execute_result"
    }
   ],
   "source": [
    "data_ri = pd.DataFrame()\n",
    "data_ri['actual'] = y_test\n",
    "data_ri['predicted'] = y_test_pred_ri\n",
    "data_ri['lower range'] = y_test_pred_ri - (0.08898039302538752 * y_test_pred_ri)\n",
    "data_ri['upper range'] = y_test_pred_ri + (0.08898039302538752 * y_test_pred_ri)\n",
    "t_list = []\n",
    "for i in data_ri.index:\n",
    "    if data_ri['actual'][i] > data_ri['lower range'][i]:\n",
    "        if data_ri['actual'][i] < data_ri['upper range'][i]:\n",
    "            t_list.append('True')\n",
    "        else:\n",
    "            t_list.append('False')\n",
    "    else:\n",
    "        t_list.append('False')\n",
    "data_ri['Bool'] = t_list\n",
    "data_ri['Bool'].value_counts()/data_ri.shape[0]"
   ]
  },
  {
   "cell_type": "code",
   "execution_count": 29,
   "metadata": {
    "ExecuteTime": {
     "end_time": "2021-04-09T14:52:12.900076Z",
     "start_time": "2021-04-09T14:35:34.293147Z"
    }
   },
   "outputs": [
    {
     "name": "stdout",
     "output_type": "stream",
     "text": [
      "Fitting 10 folds for each of 10 candidates, totalling 100 fits\n",
      "[CV] splitter=random, min_samples_split=44, min_samples_leaf=48, max_depth=55, criterion=friedman_mse \n",
      "[CV]  splitter=random, min_samples_split=44, min_samples_leaf=48, max_depth=55, criterion=friedman_mse, total=   0.1s\n",
      "[CV] splitter=random, min_samples_split=44, min_samples_leaf=48, max_depth=55, criterion=friedman_mse \n",
      "[CV]  splitter=random, min_samples_split=44, min_samples_leaf=48, max_depth=55, criterion=friedman_mse, total=   0.1s\n",
      "[CV] splitter=random, min_samples_split=44, min_samples_leaf=48, max_depth=55, criterion=friedman_mse \n"
     ]
    },
    {
     "name": "stderr",
     "output_type": "stream",
     "text": [
      "[Parallel(n_jobs=1)]: Using backend SequentialBackend with 1 concurrent workers.\n",
      "[Parallel(n_jobs=1)]: Done   1 out of   1 | elapsed:    0.0s remaining:    0.0s\n"
     ]
    },
    {
     "name": "stdout",
     "output_type": "stream",
     "text": [
      "[CV]  splitter=random, min_samples_split=44, min_samples_leaf=48, max_depth=55, criterion=friedman_mse, total=   0.1s\n",
      "[CV] splitter=random, min_samples_split=44, min_samples_leaf=48, max_depth=55, criterion=friedman_mse \n",
      "[CV]  splitter=random, min_samples_split=44, min_samples_leaf=48, max_depth=55, criterion=friedman_mse, total=   0.1s\n",
      "[CV] splitter=random, min_samples_split=44, min_samples_leaf=48, max_depth=55, criterion=friedman_mse \n",
      "[CV]  splitter=random, min_samples_split=44, min_samples_leaf=48, max_depth=55, criterion=friedman_mse, total=   0.1s\n",
      "[CV] splitter=random, min_samples_split=44, min_samples_leaf=48, max_depth=55, criterion=friedman_mse \n",
      "[CV]  splitter=random, min_samples_split=44, min_samples_leaf=48, max_depth=55, criterion=friedman_mse, total=   0.1s\n",
      "[CV] splitter=random, min_samples_split=44, min_samples_leaf=48, max_depth=55, criterion=friedman_mse \n",
      "[CV]  splitter=random, min_samples_split=44, min_samples_leaf=48, max_depth=55, criterion=friedman_mse, total=   0.1s\n",
      "[CV] splitter=random, min_samples_split=44, min_samples_leaf=48, max_depth=55, criterion=friedman_mse \n",
      "[CV]  splitter=random, min_samples_split=44, min_samples_leaf=48, max_depth=55, criterion=friedman_mse, total=   0.1s\n",
      "[CV] splitter=random, min_samples_split=44, min_samples_leaf=48, max_depth=55, criterion=friedman_mse \n",
      "[CV]  splitter=random, min_samples_split=44, min_samples_leaf=48, max_depth=55, criterion=friedman_mse, total=   0.1s\n",
      "[CV] splitter=random, min_samples_split=44, min_samples_leaf=48, max_depth=55, criterion=friedman_mse \n",
      "[CV]  splitter=random, min_samples_split=44, min_samples_leaf=48, max_depth=55, criterion=friedman_mse, total=   0.1s\n",
      "[CV] splitter=best, min_samples_split=16, min_samples_leaf=13, max_depth=60, criterion=mae \n",
      "[CV]  splitter=best, min_samples_split=16, min_samples_leaf=13, max_depth=60, criterion=mae, total=  30.4s\n",
      "[CV] splitter=best, min_samples_split=16, min_samples_leaf=13, max_depth=60, criterion=mae \n",
      "[CV]  splitter=best, min_samples_split=16, min_samples_leaf=13, max_depth=60, criterion=mae, total=  32.9s\n",
      "[CV] splitter=best, min_samples_split=16, min_samples_leaf=13, max_depth=60, criterion=mae \n",
      "[CV]  splitter=best, min_samples_split=16, min_samples_leaf=13, max_depth=60, criterion=mae, total=  31.2s\n",
      "[CV] splitter=best, min_samples_split=16, min_samples_leaf=13, max_depth=60, criterion=mae \n",
      "[CV]  splitter=best, min_samples_split=16, min_samples_leaf=13, max_depth=60, criterion=mae, total=  31.0s\n",
      "[CV] splitter=best, min_samples_split=16, min_samples_leaf=13, max_depth=60, criterion=mae \n",
      "[CV]  splitter=best, min_samples_split=16, min_samples_leaf=13, max_depth=60, criterion=mae, total=  31.5s\n",
      "[CV] splitter=best, min_samples_split=16, min_samples_leaf=13, max_depth=60, criterion=mae \n",
      "[CV]  splitter=best, min_samples_split=16, min_samples_leaf=13, max_depth=60, criterion=mae, total=  30.7s\n",
      "[CV] splitter=best, min_samples_split=16, min_samples_leaf=13, max_depth=60, criterion=mae \n",
      "[CV]  splitter=best, min_samples_split=16, min_samples_leaf=13, max_depth=60, criterion=mae, total=  30.8s\n",
      "[CV] splitter=best, min_samples_split=16, min_samples_leaf=13, max_depth=60, criterion=mae \n",
      "[CV]  splitter=best, min_samples_split=16, min_samples_leaf=13, max_depth=60, criterion=mae, total=  30.7s\n",
      "[CV] splitter=best, min_samples_split=16, min_samples_leaf=13, max_depth=60, criterion=mae \n",
      "[CV]  splitter=best, min_samples_split=16, min_samples_leaf=13, max_depth=60, criterion=mae, total=  31.9s\n",
      "[CV] splitter=best, min_samples_split=16, min_samples_leaf=13, max_depth=60, criterion=mae \n",
      "[CV]  splitter=best, min_samples_split=16, min_samples_leaf=13, max_depth=60, criterion=mae, total=  29.2s\n",
      "[CV] splitter=best, min_samples_split=61, min_samples_leaf=5, max_depth=70, criterion=mse \n",
      "[CV]  splitter=best, min_samples_split=61, min_samples_leaf=5, max_depth=70, criterion=mse, total=   0.1s\n",
      "[CV] splitter=best, min_samples_split=61, min_samples_leaf=5, max_depth=70, criterion=mse \n",
      "[CV]  splitter=best, min_samples_split=61, min_samples_leaf=5, max_depth=70, criterion=mse, total=   0.1s\n",
      "[CV] splitter=best, min_samples_split=61, min_samples_leaf=5, max_depth=70, criterion=mse \n",
      "[CV]  splitter=best, min_samples_split=61, min_samples_leaf=5, max_depth=70, criterion=mse, total=   0.1s\n",
      "[CV] splitter=best, min_samples_split=61, min_samples_leaf=5, max_depth=70, criterion=mse \n",
      "[CV]  splitter=best, min_samples_split=61, min_samples_leaf=5, max_depth=70, criterion=mse, total=   0.1s\n",
      "[CV] splitter=best, min_samples_split=61, min_samples_leaf=5, max_depth=70, criterion=mse \n",
      "[CV]  splitter=best, min_samples_split=61, min_samples_leaf=5, max_depth=70, criterion=mse, total=   0.1s\n",
      "[CV] splitter=best, min_samples_split=61, min_samples_leaf=5, max_depth=70, criterion=mse \n",
      "[CV]  splitter=best, min_samples_split=61, min_samples_leaf=5, max_depth=70, criterion=mse, total=   0.1s\n",
      "[CV] splitter=best, min_samples_split=61, min_samples_leaf=5, max_depth=70, criterion=mse \n",
      "[CV]  splitter=best, min_samples_split=61, min_samples_leaf=5, max_depth=70, criterion=mse, total=   0.1s\n",
      "[CV] splitter=best, min_samples_split=61, min_samples_leaf=5, max_depth=70, criterion=mse \n",
      "[CV]  splitter=best, min_samples_split=61, min_samples_leaf=5, max_depth=70, criterion=mse, total=   0.1s\n",
      "[CV] splitter=best, min_samples_split=61, min_samples_leaf=5, max_depth=70, criterion=mse \n",
      "[CV]  splitter=best, min_samples_split=61, min_samples_leaf=5, max_depth=70, criterion=mse, total=   0.1s\n",
      "[CV] splitter=best, min_samples_split=61, min_samples_leaf=5, max_depth=70, criterion=mse \n",
      "[CV]  splitter=best, min_samples_split=61, min_samples_leaf=5, max_depth=70, criterion=mse, total=   0.1s\n",
      "[CV] splitter=best, min_samples_split=48, min_samples_leaf=40, max_depth=70, criterion=mae \n",
      "[CV]  splitter=best, min_samples_split=48, min_samples_leaf=40, max_depth=70, criterion=mae, total=  31.1s\n",
      "[CV] splitter=best, min_samples_split=48, min_samples_leaf=40, max_depth=70, criterion=mae \n",
      "[CV]  splitter=best, min_samples_split=48, min_samples_leaf=40, max_depth=70, criterion=mae, total=  34.1s\n",
      "[CV] splitter=best, min_samples_split=48, min_samples_leaf=40, max_depth=70, criterion=mae \n",
      "[CV]  splitter=best, min_samples_split=48, min_samples_leaf=40, max_depth=70, criterion=mae, total=  34.8s\n",
      "[CV] splitter=best, min_samples_split=48, min_samples_leaf=40, max_depth=70, criterion=mae \n",
      "[CV]  splitter=best, min_samples_split=48, min_samples_leaf=40, max_depth=70, criterion=mae, total=  30.7s\n",
      "[CV] splitter=best, min_samples_split=48, min_samples_leaf=40, max_depth=70, criterion=mae \n",
      "[CV]  splitter=best, min_samples_split=48, min_samples_leaf=40, max_depth=70, criterion=mae, total=  28.7s\n",
      "[CV] splitter=best, min_samples_split=48, min_samples_leaf=40, max_depth=70, criterion=mae \n",
      "[CV]  splitter=best, min_samples_split=48, min_samples_leaf=40, max_depth=70, criterion=mae, total=  28.4s\n",
      "[CV] splitter=best, min_samples_split=48, min_samples_leaf=40, max_depth=70, criterion=mae \n",
      "[CV]  splitter=best, min_samples_split=48, min_samples_leaf=40, max_depth=70, criterion=mae, total=  27.5s\n",
      "[CV] splitter=best, min_samples_split=48, min_samples_leaf=40, max_depth=70, criterion=mae \n",
      "[CV]  splitter=best, min_samples_split=48, min_samples_leaf=40, max_depth=70, criterion=mae, total=  30.0s\n",
      "[CV] splitter=best, min_samples_split=48, min_samples_leaf=40, max_depth=70, criterion=mae \n",
      "[CV]  splitter=best, min_samples_split=48, min_samples_leaf=40, max_depth=70, criterion=mae, total=  35.1s\n",
      "[CV] splitter=best, min_samples_split=48, min_samples_leaf=40, max_depth=70, criterion=mae \n",
      "[CV]  splitter=best, min_samples_split=48, min_samples_leaf=40, max_depth=70, criterion=mae, total=  30.3s\n",
      "[CV] splitter=random, min_samples_split=84, min_samples_leaf=49, max_depth=50, criterion=friedman_mse \n",
      "[CV]  splitter=random, min_samples_split=84, min_samples_leaf=49, max_depth=50, criterion=friedman_mse, total=   0.1s\n",
      "[CV] splitter=random, min_samples_split=84, min_samples_leaf=49, max_depth=50, criterion=friedman_mse \n",
      "[CV]  splitter=random, min_samples_split=84, min_samples_leaf=49, max_depth=50, criterion=friedman_mse, total=   0.1s\n",
      "[CV] splitter=random, min_samples_split=84, min_samples_leaf=49, max_depth=50, criterion=friedman_mse \n",
      "[CV]  splitter=random, min_samples_split=84, min_samples_leaf=49, max_depth=50, criterion=friedman_mse, total=   0.1s\n",
      "[CV] splitter=random, min_samples_split=84, min_samples_leaf=49, max_depth=50, criterion=friedman_mse \n",
      "[CV]  splitter=random, min_samples_split=84, min_samples_leaf=49, max_depth=50, criterion=friedman_mse, total=   0.1s\n",
      "[CV] splitter=random, min_samples_split=84, min_samples_leaf=49, max_depth=50, criterion=friedman_mse \n",
      "[CV]  splitter=random, min_samples_split=84, min_samples_leaf=49, max_depth=50, criterion=friedman_mse, total=   0.1s\n",
      "[CV] splitter=random, min_samples_split=84, min_samples_leaf=49, max_depth=50, criterion=friedman_mse \n"
     ]
    },
    {
     "name": "stdout",
     "output_type": "stream",
     "text": [
      "[CV]  splitter=random, min_samples_split=84, min_samples_leaf=49, max_depth=50, criterion=friedman_mse, total=   0.1s\n",
      "[CV] splitter=random, min_samples_split=84, min_samples_leaf=49, max_depth=50, criterion=friedman_mse \n",
      "[CV]  splitter=random, min_samples_split=84, min_samples_leaf=49, max_depth=50, criterion=friedman_mse, total=   0.1s\n",
      "[CV] splitter=random, min_samples_split=84, min_samples_leaf=49, max_depth=50, criterion=friedman_mse \n",
      "[CV]  splitter=random, min_samples_split=84, min_samples_leaf=49, max_depth=50, criterion=friedman_mse, total=   0.1s\n",
      "[CV] splitter=random, min_samples_split=84, min_samples_leaf=49, max_depth=50, criterion=friedman_mse \n",
      "[CV]  splitter=random, min_samples_split=84, min_samples_leaf=49, max_depth=50, criterion=friedman_mse, total=   0.1s\n",
      "[CV] splitter=random, min_samples_split=84, min_samples_leaf=49, max_depth=50, criterion=friedman_mse \n",
      "[CV]  splitter=random, min_samples_split=84, min_samples_leaf=49, max_depth=50, criterion=friedman_mse, total=   0.1s\n",
      "[CV] splitter=best, min_samples_split=39, min_samples_leaf=19, max_depth=90, criterion=friedman_mse \n",
      "[CV]  splitter=best, min_samples_split=39, min_samples_leaf=19, max_depth=90, criterion=friedman_mse, total=   0.1s\n",
      "[CV] splitter=best, min_samples_split=39, min_samples_leaf=19, max_depth=90, criterion=friedman_mse \n",
      "[CV]  splitter=best, min_samples_split=39, min_samples_leaf=19, max_depth=90, criterion=friedman_mse, total=   0.1s\n",
      "[CV] splitter=best, min_samples_split=39, min_samples_leaf=19, max_depth=90, criterion=friedman_mse \n",
      "[CV]  splitter=best, min_samples_split=39, min_samples_leaf=19, max_depth=90, criterion=friedman_mse, total=   0.1s\n",
      "[CV] splitter=best, min_samples_split=39, min_samples_leaf=19, max_depth=90, criterion=friedman_mse \n",
      "[CV]  splitter=best, min_samples_split=39, min_samples_leaf=19, max_depth=90, criterion=friedman_mse, total=   0.1s\n",
      "[CV] splitter=best, min_samples_split=39, min_samples_leaf=19, max_depth=90, criterion=friedman_mse \n",
      "[CV]  splitter=best, min_samples_split=39, min_samples_leaf=19, max_depth=90, criterion=friedman_mse, total=   0.1s\n",
      "[CV] splitter=best, min_samples_split=39, min_samples_leaf=19, max_depth=90, criterion=friedman_mse \n",
      "[CV]  splitter=best, min_samples_split=39, min_samples_leaf=19, max_depth=90, criterion=friedman_mse, total=   0.1s\n",
      "[CV] splitter=best, min_samples_split=39, min_samples_leaf=19, max_depth=90, criterion=friedman_mse \n",
      "[CV]  splitter=best, min_samples_split=39, min_samples_leaf=19, max_depth=90, criterion=friedman_mse, total=   0.1s\n",
      "[CV] splitter=best, min_samples_split=39, min_samples_leaf=19, max_depth=90, criterion=friedman_mse \n",
      "[CV]  splitter=best, min_samples_split=39, min_samples_leaf=19, max_depth=90, criterion=friedman_mse, total=   0.1s\n",
      "[CV] splitter=best, min_samples_split=39, min_samples_leaf=19, max_depth=90, criterion=friedman_mse \n",
      "[CV]  splitter=best, min_samples_split=39, min_samples_leaf=19, max_depth=90, criterion=friedman_mse, total=   0.1s\n",
      "[CV] splitter=best, min_samples_split=39, min_samples_leaf=19, max_depth=90, criterion=friedman_mse \n",
      "[CV]  splitter=best, min_samples_split=39, min_samples_leaf=19, max_depth=90, criterion=friedman_mse, total=   0.1s\n",
      "[CV] splitter=best, min_samples_split=79, min_samples_leaf=10, max_depth=60, criterion=friedman_mse \n",
      "[CV]  splitter=best, min_samples_split=79, min_samples_leaf=10, max_depth=60, criterion=friedman_mse, total=   0.1s\n",
      "[CV] splitter=best, min_samples_split=79, min_samples_leaf=10, max_depth=60, criterion=friedman_mse \n",
      "[CV]  splitter=best, min_samples_split=79, min_samples_leaf=10, max_depth=60, criterion=friedman_mse, total=   0.1s\n",
      "[CV] splitter=best, min_samples_split=79, min_samples_leaf=10, max_depth=60, criterion=friedman_mse \n",
      "[CV]  splitter=best, min_samples_split=79, min_samples_leaf=10, max_depth=60, criterion=friedman_mse, total=   0.1s\n",
      "[CV] splitter=best, min_samples_split=79, min_samples_leaf=10, max_depth=60, criterion=friedman_mse \n",
      "[CV]  splitter=best, min_samples_split=79, min_samples_leaf=10, max_depth=60, criterion=friedman_mse, total=   0.1s\n",
      "[CV] splitter=best, min_samples_split=79, min_samples_leaf=10, max_depth=60, criterion=friedman_mse \n",
      "[CV]  splitter=best, min_samples_split=79, min_samples_leaf=10, max_depth=60, criterion=friedman_mse, total=   0.1s\n",
      "[CV] splitter=best, min_samples_split=79, min_samples_leaf=10, max_depth=60, criterion=friedman_mse \n",
      "[CV]  splitter=best, min_samples_split=79, min_samples_leaf=10, max_depth=60, criterion=friedman_mse, total=   0.1s\n",
      "[CV] splitter=best, min_samples_split=79, min_samples_leaf=10, max_depth=60, criterion=friedman_mse \n",
      "[CV]  splitter=best, min_samples_split=79, min_samples_leaf=10, max_depth=60, criterion=friedman_mse, total=   0.1s\n",
      "[CV] splitter=best, min_samples_split=79, min_samples_leaf=10, max_depth=60, criterion=friedman_mse \n",
      "[CV]  splitter=best, min_samples_split=79, min_samples_leaf=10, max_depth=60, criterion=friedman_mse, total=   0.1s\n",
      "[CV] splitter=best, min_samples_split=79, min_samples_leaf=10, max_depth=60, criterion=friedman_mse \n",
      "[CV]  splitter=best, min_samples_split=79, min_samples_leaf=10, max_depth=60, criterion=friedman_mse, total=   0.1s\n",
      "[CV] splitter=best, min_samples_split=79, min_samples_leaf=10, max_depth=60, criterion=friedman_mse \n",
      "[CV]  splitter=best, min_samples_split=79, min_samples_leaf=10, max_depth=60, criterion=friedman_mse, total=   0.1s\n",
      "[CV] splitter=best, min_samples_split=59, min_samples_leaf=16, max_depth=45, criterion=mse \n",
      "[CV]  splitter=best, min_samples_split=59, min_samples_leaf=16, max_depth=45, criterion=mse, total=   0.1s\n",
      "[CV] splitter=best, min_samples_split=59, min_samples_leaf=16, max_depth=45, criterion=mse \n",
      "[CV]  splitter=best, min_samples_split=59, min_samples_leaf=16, max_depth=45, criterion=mse, total=   0.1s\n",
      "[CV] splitter=best, min_samples_split=59, min_samples_leaf=16, max_depth=45, criterion=mse \n",
      "[CV]  splitter=best, min_samples_split=59, min_samples_leaf=16, max_depth=45, criterion=mse, total=   0.1s\n",
      "[CV] splitter=best, min_samples_split=59, min_samples_leaf=16, max_depth=45, criterion=mse \n",
      "[CV]  splitter=best, min_samples_split=59, min_samples_leaf=16, max_depth=45, criterion=mse, total=   0.1s\n",
      "[CV] splitter=best, min_samples_split=59, min_samples_leaf=16, max_depth=45, criterion=mse \n",
      "[CV]  splitter=best, min_samples_split=59, min_samples_leaf=16, max_depth=45, criterion=mse, total=   0.1s\n",
      "[CV] splitter=best, min_samples_split=59, min_samples_leaf=16, max_depth=45, criterion=mse \n",
      "[CV]  splitter=best, min_samples_split=59, min_samples_leaf=16, max_depth=45, criterion=mse, total=   0.1s\n",
      "[CV] splitter=best, min_samples_split=59, min_samples_leaf=16, max_depth=45, criterion=mse \n",
      "[CV]  splitter=best, min_samples_split=59, min_samples_leaf=16, max_depth=45, criterion=mse, total=   0.1s\n",
      "[CV] splitter=best, min_samples_split=59, min_samples_leaf=16, max_depth=45, criterion=mse \n",
      "[CV]  splitter=best, min_samples_split=59, min_samples_leaf=16, max_depth=45, criterion=mse, total=   0.1s\n",
      "[CV] splitter=best, min_samples_split=59, min_samples_leaf=16, max_depth=45, criterion=mse \n",
      "[CV]  splitter=best, min_samples_split=59, min_samples_leaf=16, max_depth=45, criterion=mse, total=   0.1s\n",
      "[CV] splitter=best, min_samples_split=59, min_samples_leaf=16, max_depth=45, criterion=mse \n",
      "[CV]  splitter=best, min_samples_split=59, min_samples_leaf=16, max_depth=45, criterion=mse, total=   0.1s\n",
      "[CV] splitter=random, min_samples_split=69, min_samples_leaf=11, max_depth=70, criterion=mae \n",
      "[CV]  splitter=random, min_samples_split=69, min_samples_leaf=11, max_depth=70, criterion=mae, total=  40.9s\n",
      "[CV] splitter=random, min_samples_split=69, min_samples_leaf=11, max_depth=70, criterion=mae \n",
      "[CV]  splitter=random, min_samples_split=69, min_samples_leaf=11, max_depth=70, criterion=mae, total=  42.7s\n",
      "[CV] splitter=random, min_samples_split=69, min_samples_leaf=11, max_depth=70, criterion=mae \n",
      "[CV]  splitter=random, min_samples_split=69, min_samples_leaf=11, max_depth=70, criterion=mae, total=  44.1s\n",
      "[CV] splitter=random, min_samples_split=69, min_samples_leaf=11, max_depth=70, criterion=mae \n",
      "[CV]  splitter=random, min_samples_split=69, min_samples_leaf=11, max_depth=70, criterion=mae, total=  35.6s\n",
      "[CV] splitter=random, min_samples_split=69, min_samples_leaf=11, max_depth=70, criterion=mae \n"
     ]
    },
    {
     "name": "stdout",
     "output_type": "stream",
     "text": [
      "[CV]  splitter=random, min_samples_split=69, min_samples_leaf=11, max_depth=70, criterion=mae, total=  37.8s\n",
      "[CV] splitter=random, min_samples_split=69, min_samples_leaf=11, max_depth=70, criterion=mae \n",
      "[CV]  splitter=random, min_samples_split=69, min_samples_leaf=11, max_depth=70, criterion=mae, total=  28.8s\n",
      "[CV] splitter=random, min_samples_split=69, min_samples_leaf=11, max_depth=70, criterion=mae \n",
      "[CV]  splitter=random, min_samples_split=69, min_samples_leaf=11, max_depth=70, criterion=mae, total=  34.3s\n",
      "[CV] splitter=random, min_samples_split=69, min_samples_leaf=11, max_depth=70, criterion=mae \n",
      "[CV]  splitter=random, min_samples_split=69, min_samples_leaf=11, max_depth=70, criterion=mae, total=  32.2s\n",
      "[CV] splitter=random, min_samples_split=69, min_samples_leaf=11, max_depth=70, criterion=mae \n",
      "[CV]  splitter=random, min_samples_split=69, min_samples_leaf=11, max_depth=70, criterion=mae, total=  41.0s\n",
      "[CV] splitter=random, min_samples_split=69, min_samples_leaf=11, max_depth=70, criterion=mae \n",
      "[CV]  splitter=random, min_samples_split=69, min_samples_leaf=11, max_depth=70, criterion=mae, total=  32.6s\n",
      "[CV] splitter=best, min_samples_split=28, min_samples_leaf=10, max_depth=5, criterion=mse \n",
      "[CV]  splitter=best, min_samples_split=28, min_samples_leaf=10, max_depth=5, criterion=mse, total=   0.1s\n",
      "[CV] splitter=best, min_samples_split=28, min_samples_leaf=10, max_depth=5, criterion=mse \n",
      "[CV]  splitter=best, min_samples_split=28, min_samples_leaf=10, max_depth=5, criterion=mse, total=   0.1s\n",
      "[CV] splitter=best, min_samples_split=28, min_samples_leaf=10, max_depth=5, criterion=mse \n",
      "[CV]  splitter=best, min_samples_split=28, min_samples_leaf=10, max_depth=5, criterion=mse, total=   0.1s\n",
      "[CV] splitter=best, min_samples_split=28, min_samples_leaf=10, max_depth=5, criterion=mse \n",
      "[CV]  splitter=best, min_samples_split=28, min_samples_leaf=10, max_depth=5, criterion=mse, total=   0.1s\n",
      "[CV] splitter=best, min_samples_split=28, min_samples_leaf=10, max_depth=5, criterion=mse \n",
      "[CV]  splitter=best, min_samples_split=28, min_samples_leaf=10, max_depth=5, criterion=mse, total=   0.1s\n",
      "[CV] splitter=best, min_samples_split=28, min_samples_leaf=10, max_depth=5, criterion=mse \n",
      "[CV]  splitter=best, min_samples_split=28, min_samples_leaf=10, max_depth=5, criterion=mse, total=   0.1s\n",
      "[CV] splitter=best, min_samples_split=28, min_samples_leaf=10, max_depth=5, criterion=mse \n",
      "[CV]  splitter=best, min_samples_split=28, min_samples_leaf=10, max_depth=5, criterion=mse, total=   0.1s\n",
      "[CV] splitter=best, min_samples_split=28, min_samples_leaf=10, max_depth=5, criterion=mse \n",
      "[CV]  splitter=best, min_samples_split=28, min_samples_leaf=10, max_depth=5, criterion=mse, total=   0.1s\n",
      "[CV] splitter=best, min_samples_split=28, min_samples_leaf=10, max_depth=5, criterion=mse \n",
      "[CV]  splitter=best, min_samples_split=28, min_samples_leaf=10, max_depth=5, criterion=mse, total=   0.1s\n",
      "[CV] splitter=best, min_samples_split=28, min_samples_leaf=10, max_depth=5, criterion=mse \n",
      "[CV]  splitter=best, min_samples_split=28, min_samples_leaf=10, max_depth=5, criterion=mse, total=   0.1s\n"
     ]
    },
    {
     "name": "stderr",
     "output_type": "stream",
     "text": [
      "[Parallel(n_jobs=1)]: Done 100 out of 100 | elapsed: 16.6min finished\n"
     ]
    },
    {
     "data": {
      "text/plain": [
       "{'splitter': 'best',\n",
       " 'min_samples_split': 28,\n",
       " 'min_samples_leaf': 10,\n",
       " 'max_depth': 5,\n",
       " 'criterion': 'mse'}"
      ]
     },
     "execution_count": 29,
     "metadata": {},
     "output_type": "execute_result"
    }
   ],
   "source": [
    "dtr = DecisionTreeRegressor()\n",
    "possible_parameter_values = {'criterion' : ['mse', 'friedman_mse', 'mae'],\n",
    "                             'splitter' : ['best', 'random'],\n",
    "                             'max_depth' : [int(x) for x in np.arange(start = 5, stop = 101, step = 5)],\n",
    "                             'min_samples_split' : [int(x) for x in np.arange(start = 5, stop = 101, step = 1)],\n",
    "                             'min_samples_leaf' : [int(x) for x in np.arange(start = 1, stop = 51, step = 1)]}\n",
    "dtr_rscv = RandomizedSearchCV(estimator = dtr, param_distributions = possible_parameter_values, cv = 10, scoring = 'neg_mean_squared_error', verbose = 2, random_state = 17, \n",
    "                              n_jobs = 1)\n",
    "dtr_rscv.fit(X_train, y_train)\n",
    "dtr_rscv.best_params_"
   ]
  },
  {
   "cell_type": "code",
   "execution_count": 30,
   "metadata": {
    "ExecuteTime": {
     "end_time": "2021-04-09T14:55:27.665498Z",
     "start_time": "2021-04-09T14:55:27.629344Z"
    }
   },
   "outputs": [
    {
     "name": "stdout",
     "output_type": "stream",
     "text": [
      "Decision Tree Regressor:\n",
      "----------------------------------------------------------------------------------------------------\n",
      "Train r2_score:  0.5433355536589235\n",
      "Test r2_score:  0.5196537290662708\n",
      "----------------------------------------------------------------------------------------------------\n",
      "Train RMSE:  19.387101732200232\n",
      "Test RMSE:  20.37231239367301\n",
      "----------------------------------------------------------------------------------------------------\n",
      "Train MAPE:  0.09596889752810353\n",
      "Test MAPE:  0.09795377510230392\n"
     ]
    }
   ],
   "source": [
    "y_train_pred_dtr = dtr_rscv.predict(X_train)\n",
    "y_test_pred_dtr = dtr_rscv.predict(X_test)\n",
    "print('Decision Tree Regressor:')\n",
    "print('-' * 100)\n",
    "print('Train r2_score: ', r2_score(y_train, y_train_pred_dtr))\n",
    "print('Test r2_score: ', r2_score(y_test, y_test_pred_dtr))\n",
    "print('-' * 100)\n",
    "print('Train RMSE: ', np.sqrt(mean_squared_error(y_train, y_train_pred_dtr)))\n",
    "print('Test RMSE: ', np.sqrt(mean_squared_error(y_test, y_test_pred_dtr)))\n",
    "print('-' * 100)\n",
    "print('Train MAPE: ', np.mean(mean_absolute_error(y_train, y_train_pred_dtr) / y_train))\n",
    "print('Test MAPE: ', np.mean(mean_absolute_error(y_test, y_test_pred_dtr) / y_test))"
   ]
  },
  {
   "cell_type": "code",
   "execution_count": 31,
   "metadata": {
    "ExecuteTime": {
     "end_time": "2021-04-09T14:55:42.854943Z",
     "start_time": "2021-04-09T14:55:42.676621Z"
    }
   },
   "outputs": [
    {
     "data": {
      "text/plain": [
       "True     0.621794\n",
       "False    0.378206\n",
       "Name: Bool, dtype: float64"
      ]
     },
     "execution_count": 31,
     "metadata": {},
     "output_type": "execute_result"
    }
   ],
   "source": [
    "data_dtr = pd.DataFrame()\n",
    "data_dtr['actual'] = y_test\n",
    "data_dtr['predicted'] = y_test_pred_dtr\n",
    "data_dtr['lower range'] = y_test_pred_dtr - (0.09795377510230392 * y_test_pred_dtr)\n",
    "data_dtr['upper range'] = y_test_pred_dtr + (0.09795377510230392 * y_test_pred_dtr)\n",
    "t_list = []\n",
    "for i in data_dtr.index:\n",
    "    if data_dtr['actual'][i] > data_dtr['lower range'][i]:\n",
    "        if data_dtr['actual'][i] < data_dtr['upper range'][i]:\n",
    "            t_list.append('True')\n",
    "        else:\n",
    "            t_list.append('False')\n",
    "    else:\n",
    "        t_list.append('False')\n",
    "data_dtr['Bool'] = t_list\n",
    "data_dtr['Bool'].value_counts()/data_dtr.shape[0]"
   ]
  },
  {
   "cell_type": "code",
   "execution_count": 32,
   "metadata": {
    "ExecuteTime": {
     "end_time": "2021-04-09T15:43:31.977333Z",
     "start_time": "2021-04-09T14:55:54.211669Z"
    }
   },
   "outputs": [
    {
     "name": "stdout",
     "output_type": "stream",
     "text": [
      "Fitting 10 folds for each of 10 candidates, totalling 100 fits\n",
      "[CV] n_estimators=200, min_samples_split=68, min_samples_leaf=18, max_depth=55 \n"
     ]
    },
    {
     "name": "stderr",
     "output_type": "stream",
     "text": [
      "[Parallel(n_jobs=1)]: Using backend SequentialBackend with 1 concurrent workers.\n"
     ]
    },
    {
     "name": "stdout",
     "output_type": "stream",
     "text": [
      "[CV]  n_estimators=200, min_samples_split=68, min_samples_leaf=18, max_depth=55, total=  14.0s\n",
      "[CV] n_estimators=200, min_samples_split=68, min_samples_leaf=18, max_depth=55 \n"
     ]
    },
    {
     "name": "stderr",
     "output_type": "stream",
     "text": [
      "[Parallel(n_jobs=1)]: Done   1 out of   1 | elapsed:   13.9s remaining:    0.0s\n"
     ]
    },
    {
     "name": "stdout",
     "output_type": "stream",
     "text": [
      "[CV]  n_estimators=200, min_samples_split=68, min_samples_leaf=18, max_depth=55, total=  13.2s\n",
      "[CV] n_estimators=200, min_samples_split=68, min_samples_leaf=18, max_depth=55 \n",
      "[CV]  n_estimators=200, min_samples_split=68, min_samples_leaf=18, max_depth=55, total=  12.9s\n",
      "[CV] n_estimators=200, min_samples_split=68, min_samples_leaf=18, max_depth=55 \n",
      "[CV]  n_estimators=200, min_samples_split=68, min_samples_leaf=18, max_depth=55, total=  13.0s\n",
      "[CV] n_estimators=200, min_samples_split=68, min_samples_leaf=18, max_depth=55 \n",
      "[CV]  n_estimators=200, min_samples_split=68, min_samples_leaf=18, max_depth=55, total=  12.8s\n",
      "[CV] n_estimators=200, min_samples_split=68, min_samples_leaf=18, max_depth=55 \n",
      "[CV]  n_estimators=200, min_samples_split=68, min_samples_leaf=18, max_depth=55, total=  12.6s\n",
      "[CV] n_estimators=200, min_samples_split=68, min_samples_leaf=18, max_depth=55 \n",
      "[CV]  n_estimators=200, min_samples_split=68, min_samples_leaf=18, max_depth=55, total=  13.8s\n",
      "[CV] n_estimators=200, min_samples_split=68, min_samples_leaf=18, max_depth=55 \n",
      "[CV]  n_estimators=200, min_samples_split=68, min_samples_leaf=18, max_depth=55, total=  14.0s\n",
      "[CV] n_estimators=200, min_samples_split=68, min_samples_leaf=18, max_depth=55 \n",
      "[CV]  n_estimators=200, min_samples_split=68, min_samples_leaf=18, max_depth=55, total=  12.7s\n",
      "[CV] n_estimators=200, min_samples_split=68, min_samples_leaf=18, max_depth=55 \n",
      "[CV]  n_estimators=200, min_samples_split=68, min_samples_leaf=18, max_depth=55, total=  12.5s\n",
      "[CV] n_estimators=100, min_samples_split=81, min_samples_leaf=7, max_depth=35 \n",
      "[CV]  n_estimators=100, min_samples_split=81, min_samples_leaf=7, max_depth=35, total=   6.8s\n",
      "[CV] n_estimators=100, min_samples_split=81, min_samples_leaf=7, max_depth=35 \n",
      "[CV]  n_estimators=100, min_samples_split=81, min_samples_leaf=7, max_depth=35, total=   6.9s\n",
      "[CV] n_estimators=100, min_samples_split=81, min_samples_leaf=7, max_depth=35 \n",
      "[CV]  n_estimators=100, min_samples_split=81, min_samples_leaf=7, max_depth=35, total=   7.0s\n",
      "[CV] n_estimators=100, min_samples_split=81, min_samples_leaf=7, max_depth=35 \n",
      "[CV]  n_estimators=100, min_samples_split=81, min_samples_leaf=7, max_depth=35, total=   6.8s\n",
      "[CV] n_estimators=100, min_samples_split=81, min_samples_leaf=7, max_depth=35 \n",
      "[CV]  n_estimators=100, min_samples_split=81, min_samples_leaf=7, max_depth=35, total=   6.8s\n",
      "[CV] n_estimators=100, min_samples_split=81, min_samples_leaf=7, max_depth=35 \n",
      "[CV]  n_estimators=100, min_samples_split=81, min_samples_leaf=7, max_depth=35, total=   6.8s\n",
      "[CV] n_estimators=100, min_samples_split=81, min_samples_leaf=7, max_depth=35 \n",
      "[CV]  n_estimators=100, min_samples_split=81, min_samples_leaf=7, max_depth=35, total=   6.5s\n",
      "[CV] n_estimators=100, min_samples_split=81, min_samples_leaf=7, max_depth=35 \n",
      "[CV]  n_estimators=100, min_samples_split=81, min_samples_leaf=7, max_depth=35, total=   6.9s\n",
      "[CV] n_estimators=100, min_samples_split=81, min_samples_leaf=7, max_depth=35 \n",
      "[CV]  n_estimators=100, min_samples_split=81, min_samples_leaf=7, max_depth=35, total=   6.8s\n",
      "[CV] n_estimators=100, min_samples_split=81, min_samples_leaf=7, max_depth=35 \n",
      "[CV]  n_estimators=100, min_samples_split=81, min_samples_leaf=7, max_depth=35, total=   6.7s\n",
      "[CV] n_estimators=1000, min_samples_split=88, min_samples_leaf=1, max_depth=75 \n",
      "[CV]  n_estimators=1000, min_samples_split=88, min_samples_leaf=1, max_depth=75, total= 1.1min\n",
      "[CV] n_estimators=1000, min_samples_split=88, min_samples_leaf=1, max_depth=75 \n",
      "[CV]  n_estimators=1000, min_samples_split=88, min_samples_leaf=1, max_depth=75, total= 1.1min\n",
      "[CV] n_estimators=1000, min_samples_split=88, min_samples_leaf=1, max_depth=75 \n",
      "[CV]  n_estimators=1000, min_samples_split=88, min_samples_leaf=1, max_depth=75, total= 1.1min\n",
      "[CV] n_estimators=1000, min_samples_split=88, min_samples_leaf=1, max_depth=75 \n",
      "[CV]  n_estimators=1000, min_samples_split=88, min_samples_leaf=1, max_depth=75, total= 1.1min\n",
      "[CV] n_estimators=1000, min_samples_split=88, min_samples_leaf=1, max_depth=75 \n",
      "[CV]  n_estimators=1000, min_samples_split=88, min_samples_leaf=1, max_depth=75, total= 1.1min\n",
      "[CV] n_estimators=1000, min_samples_split=88, min_samples_leaf=1, max_depth=75 \n",
      "[CV]  n_estimators=1000, min_samples_split=88, min_samples_leaf=1, max_depth=75, total= 1.1min\n",
      "[CV] n_estimators=1000, min_samples_split=88, min_samples_leaf=1, max_depth=75 \n",
      "[CV]  n_estimators=1000, min_samples_split=88, min_samples_leaf=1, max_depth=75, total= 1.1min\n",
      "[CV] n_estimators=1000, min_samples_split=88, min_samples_leaf=1, max_depth=75 \n",
      "[CV]  n_estimators=1000, min_samples_split=88, min_samples_leaf=1, max_depth=75, total= 1.1min\n",
      "[CV] n_estimators=1000, min_samples_split=88, min_samples_leaf=1, max_depth=75 \n",
      "[CV]  n_estimators=1000, min_samples_split=88, min_samples_leaf=1, max_depth=75, total= 1.1min\n",
      "[CV] n_estimators=1000, min_samples_split=88, min_samples_leaf=1, max_depth=75 \n",
      "[CV]  n_estimators=1000, min_samples_split=88, min_samples_leaf=1, max_depth=75, total= 1.0min\n",
      "[CV] n_estimators=350, min_samples_split=25, min_samples_leaf=7, max_depth=30 \n",
      "[CV]  n_estimators=350, min_samples_split=25, min_samples_leaf=7, max_depth=30, total=  26.0s\n",
      "[CV] n_estimators=350, min_samples_split=25, min_samples_leaf=7, max_depth=30 \n",
      "[CV]  n_estimators=350, min_samples_split=25, min_samples_leaf=7, max_depth=30, total=  25.7s\n",
      "[CV] n_estimators=350, min_samples_split=25, min_samples_leaf=7, max_depth=30 \n",
      "[CV]  n_estimators=350, min_samples_split=25, min_samples_leaf=7, max_depth=30, total=  26.9s\n",
      "[CV] n_estimators=350, min_samples_split=25, min_samples_leaf=7, max_depth=30 \n",
      "[CV]  n_estimators=350, min_samples_split=25, min_samples_leaf=7, max_depth=30, total=  26.3s\n",
      "[CV] n_estimators=350, min_samples_split=25, min_samples_leaf=7, max_depth=30 \n",
      "[CV]  n_estimators=350, min_samples_split=25, min_samples_leaf=7, max_depth=30, total=  26.3s\n",
      "[CV] n_estimators=350, min_samples_split=25, min_samples_leaf=7, max_depth=30 \n",
      "[CV]  n_estimators=350, min_samples_split=25, min_samples_leaf=7, max_depth=30, total=  26.3s\n",
      "[CV] n_estimators=350, min_samples_split=25, min_samples_leaf=7, max_depth=30 \n",
      "[CV]  n_estimators=350, min_samples_split=25, min_samples_leaf=7, max_depth=30, total=  25.3s\n",
      "[CV] n_estimators=350, min_samples_split=25, min_samples_leaf=7, max_depth=30 \n",
      "[CV]  n_estimators=350, min_samples_split=25, min_samples_leaf=7, max_depth=30, total=  26.3s\n",
      "[CV] n_estimators=350, min_samples_split=25, min_samples_leaf=7, max_depth=30 \n",
      "[CV]  n_estimators=350, min_samples_split=25, min_samples_leaf=7, max_depth=30, total=  26.6s\n",
      "[CV] n_estimators=350, min_samples_split=25, min_samples_leaf=7, max_depth=30 \n",
      "[CV]  n_estimators=350, min_samples_split=25, min_samples_leaf=7, max_depth=30, total=  24.9s\n",
      "[CV] n_estimators=500, min_samples_split=65, min_samples_leaf=32, max_depth=45 \n",
      "[CV]  n_estimators=500, min_samples_split=65, min_samples_leaf=32, max_depth=45, total=  30.9s\n",
      "[CV] n_estimators=500, min_samples_split=65, min_samples_leaf=32, max_depth=45 \n",
      "[CV]  n_estimators=500, min_samples_split=65, min_samples_leaf=32, max_depth=45, total=  33.8s\n",
      "[CV] n_estimators=500, min_samples_split=65, min_samples_leaf=32, max_depth=45 \n",
      "[CV]  n_estimators=500, min_samples_split=65, min_samples_leaf=32, max_depth=45, total=  31.1s\n",
      "[CV] n_estimators=500, min_samples_split=65, min_samples_leaf=32, max_depth=45 \n",
      "[CV]  n_estimators=500, min_samples_split=65, min_samples_leaf=32, max_depth=45, total=  29.4s\n",
      "[CV] n_estimators=500, min_samples_split=65, min_samples_leaf=32, max_depth=45 \n",
      "[CV]  n_estimators=500, min_samples_split=65, min_samples_leaf=32, max_depth=45, total=  29.9s\n",
      "[CV] n_estimators=500, min_samples_split=65, min_samples_leaf=32, max_depth=45 \n",
      "[CV]  n_estimators=500, min_samples_split=65, min_samples_leaf=32, max_depth=45, total=  28.1s\n",
      "[CV] n_estimators=500, min_samples_split=65, min_samples_leaf=32, max_depth=45 \n",
      "[CV]  n_estimators=500, min_samples_split=65, min_samples_leaf=32, max_depth=45, total=  29.9s\n",
      "[CV] n_estimators=500, min_samples_split=65, min_samples_leaf=32, max_depth=45 \n",
      "[CV]  n_estimators=500, min_samples_split=65, min_samples_leaf=32, max_depth=45, total=  30.2s\n",
      "[CV] n_estimators=500, min_samples_split=65, min_samples_leaf=32, max_depth=45 \n",
      "[CV]  n_estimators=500, min_samples_split=65, min_samples_leaf=32, max_depth=45, total=  29.6s\n",
      "[CV] n_estimators=500, min_samples_split=65, min_samples_leaf=32, max_depth=45 \n"
     ]
    },
    {
     "name": "stdout",
     "output_type": "stream",
     "text": [
      "[CV]  n_estimators=500, min_samples_split=65, min_samples_leaf=32, max_depth=45, total=  29.6s\n",
      "[CV] n_estimators=50, min_samples_split=49, min_samples_leaf=16, max_depth=10 \n",
      "[CV]  n_estimators=50, min_samples_split=49, min_samples_leaf=16, max_depth=10, total=   3.0s\n",
      "[CV] n_estimators=50, min_samples_split=49, min_samples_leaf=16, max_depth=10 \n",
      "[CV]  n_estimators=50, min_samples_split=49, min_samples_leaf=16, max_depth=10, total=   2.8s\n",
      "[CV] n_estimators=50, min_samples_split=49, min_samples_leaf=16, max_depth=10 \n",
      "[CV]  n_estimators=50, min_samples_split=49, min_samples_leaf=16, max_depth=10, total=   2.7s\n",
      "[CV] n_estimators=50, min_samples_split=49, min_samples_leaf=16, max_depth=10 \n",
      "[CV]  n_estimators=50, min_samples_split=49, min_samples_leaf=16, max_depth=10, total=   2.6s\n",
      "[CV] n_estimators=50, min_samples_split=49, min_samples_leaf=16, max_depth=10 \n",
      "[CV]  n_estimators=50, min_samples_split=49, min_samples_leaf=16, max_depth=10, total=   2.7s\n",
      "[CV] n_estimators=50, min_samples_split=49, min_samples_leaf=16, max_depth=10 \n",
      "[CV]  n_estimators=50, min_samples_split=49, min_samples_leaf=16, max_depth=10, total=   2.7s\n",
      "[CV] n_estimators=50, min_samples_split=49, min_samples_leaf=16, max_depth=10 \n",
      "[CV]  n_estimators=50, min_samples_split=49, min_samples_leaf=16, max_depth=10, total=   2.7s\n",
      "[CV] n_estimators=50, min_samples_split=49, min_samples_leaf=16, max_depth=10 \n",
      "[CV]  n_estimators=50, min_samples_split=49, min_samples_leaf=16, max_depth=10, total=   2.7s\n",
      "[CV] n_estimators=50, min_samples_split=49, min_samples_leaf=16, max_depth=10 \n",
      "[CV]  n_estimators=50, min_samples_split=49, min_samples_leaf=16, max_depth=10, total=   2.7s\n",
      "[CV] n_estimators=50, min_samples_split=49, min_samples_leaf=16, max_depth=10 \n",
      "[CV]  n_estimators=50, min_samples_split=49, min_samples_leaf=16, max_depth=10, total=   2.5s\n",
      "[CV] n_estimators=500, min_samples_split=26, min_samples_leaf=5, max_depth=45 \n",
      "[CV]  n_estimators=500, min_samples_split=26, min_samples_leaf=5, max_depth=45, total=  39.8s\n",
      "[CV] n_estimators=500, min_samples_split=26, min_samples_leaf=5, max_depth=45 \n",
      "[CV]  n_estimators=500, min_samples_split=26, min_samples_leaf=5, max_depth=45, total=  38.3s\n",
      "[CV] n_estimators=500, min_samples_split=26, min_samples_leaf=5, max_depth=45 \n",
      "[CV]  n_estimators=500, min_samples_split=26, min_samples_leaf=5, max_depth=45, total=  39.1s\n",
      "[CV] n_estimators=500, min_samples_split=26, min_samples_leaf=5, max_depth=45 \n",
      "[CV]  n_estimators=500, min_samples_split=26, min_samples_leaf=5, max_depth=45, total=  36.9s\n",
      "[CV] n_estimators=500, min_samples_split=26, min_samples_leaf=5, max_depth=45 \n",
      "[CV]  n_estimators=500, min_samples_split=26, min_samples_leaf=5, max_depth=45, total=  37.9s\n",
      "[CV] n_estimators=500, min_samples_split=26, min_samples_leaf=5, max_depth=45 \n",
      "[CV]  n_estimators=500, min_samples_split=26, min_samples_leaf=5, max_depth=45, total=  36.8s\n",
      "[CV] n_estimators=500, min_samples_split=26, min_samples_leaf=5, max_depth=45 \n",
      "[CV]  n_estimators=500, min_samples_split=26, min_samples_leaf=5, max_depth=45, total=  39.1s\n",
      "[CV] n_estimators=500, min_samples_split=26, min_samples_leaf=5, max_depth=45 \n",
      "[CV]  n_estimators=500, min_samples_split=26, min_samples_leaf=5, max_depth=45, total=  39.2s\n",
      "[CV] n_estimators=500, min_samples_split=26, min_samples_leaf=5, max_depth=45 \n",
      "[CV]  n_estimators=500, min_samples_split=26, min_samples_leaf=5, max_depth=45, total=  36.8s\n",
      "[CV] n_estimators=500, min_samples_split=26, min_samples_leaf=5, max_depth=45 \n",
      "[CV]  n_estimators=500, min_samples_split=26, min_samples_leaf=5, max_depth=45, total=  38.8s\n",
      "[CV] n_estimators=550, min_samples_split=12, min_samples_leaf=16, max_depth=85 \n",
      "[CV]  n_estimators=550, min_samples_split=12, min_samples_leaf=16, max_depth=85, total=  41.0s\n",
      "[CV] n_estimators=550, min_samples_split=12, min_samples_leaf=16, max_depth=85 \n",
      "[CV]  n_estimators=550, min_samples_split=12, min_samples_leaf=16, max_depth=85, total=  37.4s\n",
      "[CV] n_estimators=550, min_samples_split=12, min_samples_leaf=16, max_depth=85 \n",
      "[CV]  n_estimators=550, min_samples_split=12, min_samples_leaf=16, max_depth=85, total=  38.2s\n",
      "[CV] n_estimators=550, min_samples_split=12, min_samples_leaf=16, max_depth=85 \n",
      "[CV]  n_estimators=550, min_samples_split=12, min_samples_leaf=16, max_depth=85, total=  36.7s\n",
      "[CV] n_estimators=550, min_samples_split=12, min_samples_leaf=16, max_depth=85 \n",
      "[CV]  n_estimators=550, min_samples_split=12, min_samples_leaf=16, max_depth=85, total=  38.9s\n",
      "[CV] n_estimators=550, min_samples_split=12, min_samples_leaf=16, max_depth=85 \n",
      "[CV]  n_estimators=550, min_samples_split=12, min_samples_leaf=16, max_depth=85, total=  35.9s\n",
      "[CV] n_estimators=550, min_samples_split=12, min_samples_leaf=16, max_depth=85 \n",
      "[CV]  n_estimators=550, min_samples_split=12, min_samples_leaf=16, max_depth=85, total=  36.1s\n",
      "[CV] n_estimators=550, min_samples_split=12, min_samples_leaf=16, max_depth=85 \n",
      "[CV]  n_estimators=550, min_samples_split=12, min_samples_leaf=16, max_depth=85, total=  38.3s\n",
      "[CV] n_estimators=550, min_samples_split=12, min_samples_leaf=16, max_depth=85 \n",
      "[CV]  n_estimators=550, min_samples_split=12, min_samples_leaf=16, max_depth=85, total=  38.5s\n",
      "[CV] n_estimators=550, min_samples_split=12, min_samples_leaf=16, max_depth=85 \n",
      "[CV]  n_estimators=550, min_samples_split=12, min_samples_leaf=16, max_depth=85, total=  37.3s\n",
      "[CV] n_estimators=800, min_samples_split=89, min_samples_leaf=50, max_depth=15 \n",
      "[CV]  n_estimators=800, min_samples_split=89, min_samples_leaf=50, max_depth=15, total=  48.7s\n",
      "[CV] n_estimators=800, min_samples_split=89, min_samples_leaf=50, max_depth=15 \n",
      "[CV]  n_estimators=800, min_samples_split=89, min_samples_leaf=50, max_depth=15, total=  45.6s\n",
      "[CV] n_estimators=800, min_samples_split=89, min_samples_leaf=50, max_depth=15 \n",
      "[CV]  n_estimators=800, min_samples_split=89, min_samples_leaf=50, max_depth=15, total=  46.5s\n",
      "[CV] n_estimators=800, min_samples_split=89, min_samples_leaf=50, max_depth=15 \n",
      "[CV]  n_estimators=800, min_samples_split=89, min_samples_leaf=50, max_depth=15, total=  42.0s\n",
      "[CV] n_estimators=800, min_samples_split=89, min_samples_leaf=50, max_depth=15 \n",
      "[CV]  n_estimators=800, min_samples_split=89, min_samples_leaf=50, max_depth=15, total=  45.0s\n",
      "[CV] n_estimators=800, min_samples_split=89, min_samples_leaf=50, max_depth=15 \n",
      "[CV]  n_estimators=800, min_samples_split=89, min_samples_leaf=50, max_depth=15, total=  45.4s\n",
      "[CV] n_estimators=800, min_samples_split=89, min_samples_leaf=50, max_depth=15 \n",
      "[CV]  n_estimators=800, min_samples_split=89, min_samples_leaf=50, max_depth=15, total=  44.4s\n",
      "[CV] n_estimators=800, min_samples_split=89, min_samples_leaf=50, max_depth=15 \n",
      "[CV]  n_estimators=800, min_samples_split=89, min_samples_leaf=50, max_depth=15, total=  44.3s\n",
      "[CV] n_estimators=800, min_samples_split=89, min_samples_leaf=50, max_depth=15 \n",
      "[CV]  n_estimators=800, min_samples_split=89, min_samples_leaf=50, max_depth=15, total=  43.3s\n",
      "[CV] n_estimators=800, min_samples_split=89, min_samples_leaf=50, max_depth=15 \n",
      "[CV]  n_estimators=800, min_samples_split=89, min_samples_leaf=50, max_depth=15, total=  40.9s\n",
      "[CV] n_estimators=250, min_samples_split=85, min_samples_leaf=37, max_depth=20 \n",
      "[CV]  n_estimators=250, min_samples_split=85, min_samples_leaf=37, max_depth=20, total=  13.2s\n",
      "[CV] n_estimators=250, min_samples_split=85, min_samples_leaf=37, max_depth=20 \n",
      "[CV]  n_estimators=250, min_samples_split=85, min_samples_leaf=37, max_depth=20, total=  13.2s\n",
      "[CV] n_estimators=250, min_samples_split=85, min_samples_leaf=37, max_depth=20 \n",
      "[CV]  n_estimators=250, min_samples_split=85, min_samples_leaf=37, max_depth=20, total=  13.2s\n",
      "[CV] n_estimators=250, min_samples_split=85, min_samples_leaf=37, max_depth=20 \n",
      "[CV]  n_estimators=250, min_samples_split=85, min_samples_leaf=37, max_depth=20, total=  14.7s\n",
      "[CV] n_estimators=250, min_samples_split=85, min_samples_leaf=37, max_depth=20 \n",
      "[CV]  n_estimators=250, min_samples_split=85, min_samples_leaf=37, max_depth=20, total=  14.6s\n",
      "[CV] n_estimators=250, min_samples_split=85, min_samples_leaf=37, max_depth=20 \n",
      "[CV]  n_estimators=250, min_samples_split=85, min_samples_leaf=37, max_depth=20, total=  14.6s\n",
      "[CV] n_estimators=250, min_samples_split=85, min_samples_leaf=37, max_depth=20 \n",
      "[CV]  n_estimators=250, min_samples_split=85, min_samples_leaf=37, max_depth=20, total=  15.1s\n",
      "[CV] n_estimators=250, min_samples_split=85, min_samples_leaf=37, max_depth=20 \n"
     ]
    },
    {
     "name": "stdout",
     "output_type": "stream",
     "text": [
      "[CV]  n_estimators=250, min_samples_split=85, min_samples_leaf=37, max_depth=20, total=  14.3s\n",
      "[CV] n_estimators=250, min_samples_split=85, min_samples_leaf=37, max_depth=20 \n",
      "[CV]  n_estimators=250, min_samples_split=85, min_samples_leaf=37, max_depth=20, total=  14.5s\n",
      "[CV] n_estimators=250, min_samples_split=85, min_samples_leaf=37, max_depth=20 \n",
      "[CV]  n_estimators=250, min_samples_split=85, min_samples_leaf=37, max_depth=20, total=  13.4s\n"
     ]
    },
    {
     "name": "stderr",
     "output_type": "stream",
     "text": [
      "[Parallel(n_jobs=1)]: Done 100 out of 100 | elapsed: 46.8min finished\n"
     ]
    },
    {
     "data": {
      "text/plain": [
       "{'n_estimators': 800,\n",
       " 'min_samples_split': 89,\n",
       " 'min_samples_leaf': 50,\n",
       " 'max_depth': 15}"
      ]
     },
     "execution_count": 32,
     "metadata": {},
     "output_type": "execute_result"
    }
   ],
   "source": [
    "rfr = RandomForestRegressor()\n",
    "possible_parameter_values = {'n_estimators' : [int(x) for x in np.arange(start = 50, stop = 1001, step = 50)],\n",
    "                             'max_depth' : [int(x) for x in np.arange(start = 5, stop = 101, step = 5)],\n",
    "                             'min_samples_split' : [int(x) for x in np.arange(start = 5, stop = 101, step = 1)],\n",
    "                             'min_samples_leaf' : [int(x) for x in np.arange(start = 1, stop = 51, step = 1)]}\n",
    "rfr_rscv = RandomizedSearchCV(estimator = rfr, param_distributions = possible_parameter_values, cv = 10, scoring = 'neg_mean_squared_error', verbose = 2, random_state = 17, \n",
    "                              n_jobs = 1)\n",
    "rfr_rscv.fit(X_train, y_train)\n",
    "rfr_rscv.best_params_"
   ]
  },
  {
   "cell_type": "code",
   "execution_count": 33,
   "metadata": {
    "ExecuteTime": {
     "end_time": "2021-04-09T15:44:44.961859Z",
     "start_time": "2021-04-09T15:44:43.394986Z"
    }
   },
   "outputs": [
    {
     "name": "stdout",
     "output_type": "stream",
     "text": [
      "Random Forest Regressor:\n",
      "----------------------------------------------------------------------------------------------------\n",
      "Train r2_score:  0.7556185357578535\n",
      "Test r2_score:  0.634343916893259\n",
      "----------------------------------------------------------------------------------------------------\n",
      "Train RMSE:  14.182357222328058\n",
      "Test RMSE:  17.774586929405817\n",
      "----------------------------------------------------------------------------------------------------\n",
      "Train MAPE:  0.06805242582767848\n",
      "Test MAPE:  0.08427261254533734\n"
     ]
    }
   ],
   "source": [
    "y_train_pred_rfr = rfr_rscv.predict(X_train)\n",
    "y_test_pred_rfr = rfr_rscv.predict(X_test)\n",
    "print('Random Forest Regressor:')\n",
    "print('-' * 100)\n",
    "print('Train r2_score: ', r2_score(y_train, y_train_pred_rfr))\n",
    "print('Test r2_score: ', r2_score(y_test, y_test_pred_rfr))\n",
    "print('-' * 100)\n",
    "print('Train RMSE: ', np.sqrt(mean_squared_error(y_train, y_train_pred_rfr)))\n",
    "print('Test RMSE: ', np.sqrt(mean_squared_error(y_test, y_test_pred_rfr)))\n",
    "print('-' * 100)\n",
    "print('Train MAPE: ', np.mean(mean_absolute_error(y_train, y_train_pred_rfr) / y_train))\n",
    "print('Test MAPE: ', np.mean(mean_absolute_error(y_test, y_test_pred_rfr) / y_test))"
   ]
  },
  {
   "cell_type": "code",
   "execution_count": 34,
   "metadata": {
    "ExecuteTime": {
     "end_time": "2021-04-09T15:44:54.637608Z",
     "start_time": "2021-04-09T15:44:54.475074Z"
    }
   },
   "outputs": [
    {
     "data": {
      "text/plain": [
       "True     0.619734\n",
       "False    0.380266\n",
       "Name: Bool, dtype: float64"
      ]
     },
     "execution_count": 34,
     "metadata": {},
     "output_type": "execute_result"
    }
   ],
   "source": [
    "data_rfr = pd.DataFrame()\n",
    "data_rfr['actual'] = y_test\n",
    "data_rfr['predicted'] = y_test_pred_rfr\n",
    "data_rfr['lower range'] = y_test_pred_rfr - (0.08427261254533734 * y_test_pred_rfr)\n",
    "data_rfr['upper range'] = y_test_pred_rfr + (0.08427261254533734 * y_test_pred_rfr)\n",
    "t_list = []\n",
    "for i in data_rfr.index:\n",
    "    if data_rfr['actual'][i] > data_rfr['lower range'][i]:\n",
    "        if data_rfr['actual'][i] < data_rfr['upper range'][i]:\n",
    "            t_list.append('True')\n",
    "        else:\n",
    "            t_list.append('False')\n",
    "    else:\n",
    "        t_list.append('False')\n",
    "data_rfr['Bool'] = t_list\n",
    "data_rfr['Bool'].value_counts()/data_rfr.shape[0]"
   ]
  },
  {
   "cell_type": "code",
   "execution_count": 35,
   "metadata": {
    "ExecuteTime": {
     "end_time": "2021-04-09T15:57:05.008429Z",
     "start_time": "2021-04-09T15:45:00.034923Z"
    }
   },
   "outputs": [
    {
     "name": "stdout",
     "output_type": "stream",
     "text": [
      "Fitting 10 folds for each of 10 candidates, totalling 100 fits\n",
      "[CV] n_estimators=200, learning_rate=0.544 ...........................\n"
     ]
    },
    {
     "name": "stderr",
     "output_type": "stream",
     "text": [
      "[Parallel(n_jobs=1)]: Using backend SequentialBackend with 1 concurrent workers.\n"
     ]
    },
    {
     "name": "stdout",
     "output_type": "stream",
     "text": [
      "[CV] ............ n_estimators=200, learning_rate=0.544, total=   2.1s\n",
      "[CV] n_estimators=200, learning_rate=0.544 ...........................\n"
     ]
    },
    {
     "name": "stderr",
     "output_type": "stream",
     "text": [
      "[Parallel(n_jobs=1)]: Done   1 out of   1 | elapsed:    2.0s remaining:    0.0s\n"
     ]
    },
    {
     "name": "stdout",
     "output_type": "stream",
     "text": [
      "[CV] ............ n_estimators=200, learning_rate=0.544, total=   1.9s\n",
      "[CV] n_estimators=200, learning_rate=0.544 ...........................\n",
      "[CV] ............ n_estimators=200, learning_rate=0.544, total=   1.9s\n",
      "[CV] n_estimators=200, learning_rate=0.544 ...........................\n",
      "[CV] ............ n_estimators=200, learning_rate=0.544, total=   1.6s\n",
      "[CV] n_estimators=200, learning_rate=0.544 ...........................\n",
      "[CV] ............ n_estimators=200, learning_rate=0.544, total=   2.0s\n",
      "[CV] n_estimators=200, learning_rate=0.544 ...........................\n",
      "[CV] ............ n_estimators=200, learning_rate=0.544, total=   5.3s\n",
      "[CV] n_estimators=200, learning_rate=0.544 ...........................\n",
      "[CV] ............ n_estimators=200, learning_rate=0.544, total=   1.8s\n",
      "[CV] n_estimators=200, learning_rate=0.544 ...........................\n",
      "[CV] ............ n_estimators=200, learning_rate=0.544, total=   3.0s\n",
      "[CV] n_estimators=200, learning_rate=0.544 ...........................\n",
      "[CV] ............ n_estimators=200, learning_rate=0.544, total=   1.9s\n",
      "[CV] n_estimators=200, learning_rate=0.544 ...........................\n",
      "[CV] ............ n_estimators=200, learning_rate=0.544, total=   3.2s\n",
      "[CV] n_estimators=600, learning_rate=0.11 ............................\n",
      "[CV] ............. n_estimators=600, learning_rate=0.11, total=  10.8s\n",
      "[CV] n_estimators=600, learning_rate=0.11 ............................\n",
      "[CV] ............. n_estimators=600, learning_rate=0.11, total=  10.6s\n",
      "[CV] n_estimators=600, learning_rate=0.11 ............................\n",
      "[CV] ............. n_estimators=600, learning_rate=0.11, total=   9.5s\n",
      "[CV] n_estimators=600, learning_rate=0.11 ............................\n",
      "[CV] ............. n_estimators=600, learning_rate=0.11, total=  14.1s\n",
      "[CV] n_estimators=600, learning_rate=0.11 ............................\n",
      "[CV] ............. n_estimators=600, learning_rate=0.11, total=  10.9s\n",
      "[CV] n_estimators=600, learning_rate=0.11 ............................\n",
      "[CV] ............. n_estimators=600, learning_rate=0.11, total=  16.2s\n",
      "[CV] n_estimators=600, learning_rate=0.11 ............................\n",
      "[CV] ............. n_estimators=600, learning_rate=0.11, total=   9.3s\n",
      "[CV] n_estimators=600, learning_rate=0.11 ............................\n",
      "[CV] ............. n_estimators=600, learning_rate=0.11, total=  21.5s\n",
      "[CV] n_estimators=600, learning_rate=0.11 ............................\n",
      "[CV] ............. n_estimators=600, learning_rate=0.11, total=  24.4s\n",
      "[CV] n_estimators=600, learning_rate=0.11 ............................\n",
      "[CV] ............. n_estimators=600, learning_rate=0.11, total=  20.0s\n",
      "[CV] n_estimators=150, learning_rate=0.686 ...........................\n",
      "[CV] ............ n_estimators=150, learning_rate=0.686, total=   1.9s\n",
      "[CV] n_estimators=150, learning_rate=0.686 ...........................\n",
      "[CV] ............ n_estimators=150, learning_rate=0.686, total=   1.9s\n",
      "[CV] n_estimators=150, learning_rate=0.686 ...........................\n",
      "[CV] ............ n_estimators=150, learning_rate=0.686, total=   1.8s\n",
      "[CV] n_estimators=150, learning_rate=0.686 ...........................\n",
      "[CV] ............ n_estimators=150, learning_rate=0.686, total=   2.6s\n",
      "[CV] n_estimators=150, learning_rate=0.686 ...........................\n",
      "[CV] ............ n_estimators=150, learning_rate=0.686, total=   2.2s\n",
      "[CV] n_estimators=150, learning_rate=0.686 ...........................\n",
      "[CV] ............ n_estimators=150, learning_rate=0.686, total=   2.9s\n",
      "[CV] n_estimators=150, learning_rate=0.686 ...........................\n",
      "[CV] ............ n_estimators=150, learning_rate=0.686, total=   1.4s\n",
      "[CV] n_estimators=150, learning_rate=0.686 ...........................\n",
      "[CV] ............ n_estimators=150, learning_rate=0.686, total=   2.4s\n",
      "[CV] n_estimators=150, learning_rate=0.686 ...........................\n",
      "[CV] ............ n_estimators=150, learning_rate=0.686, total=   1.8s\n",
      "[CV] n_estimators=150, learning_rate=0.686 ...........................\n",
      "[CV] ............ n_estimators=150, learning_rate=0.686, total=   1.8s\n",
      "[CV] n_estimators=350, learning_rate=0.021 ...........................\n",
      "[CV] ............ n_estimators=350, learning_rate=0.021, total=  20.6s\n",
      "[CV] n_estimators=350, learning_rate=0.021 ...........................\n",
      "[CV] ............ n_estimators=350, learning_rate=0.021, total=  20.9s\n",
      "[CV] n_estimators=350, learning_rate=0.021 ...........................\n",
      "[CV] ............ n_estimators=350, learning_rate=0.021, total=  21.7s\n",
      "[CV] n_estimators=350, learning_rate=0.021 ...........................\n",
      "[CV] ............ n_estimators=350, learning_rate=0.021, total=  22.5s\n",
      "[CV] n_estimators=350, learning_rate=0.021 ...........................\n",
      "[CV] ............ n_estimators=350, learning_rate=0.021, total=  22.2s\n",
      "[CV] n_estimators=350, learning_rate=0.021 ...........................\n",
      "[CV] ............ n_estimators=350, learning_rate=0.021, total=  21.9s\n",
      "[CV] n_estimators=350, learning_rate=0.021 ...........................\n",
      "[CV] ............ n_estimators=350, learning_rate=0.021, total=  21.5s\n",
      "[CV] n_estimators=350, learning_rate=0.021 ...........................\n",
      "[CV] ............ n_estimators=350, learning_rate=0.021, total=  21.6s\n",
      "[CV] n_estimators=350, learning_rate=0.021 ...........................\n",
      "[CV] ............ n_estimators=350, learning_rate=0.021, total=  20.7s\n",
      "[CV] n_estimators=350, learning_rate=0.021 ...........................\n",
      "[CV] ............ n_estimators=350, learning_rate=0.021, total=  20.7s\n",
      "[CV] n_estimators=500, learning_rate=0.477 ...........................\n",
      "[CV] ............ n_estimators=500, learning_rate=0.477, total=   2.2s\n",
      "[CV] n_estimators=500, learning_rate=0.477 ...........................\n",
      "[CV] ............ n_estimators=500, learning_rate=0.477, total=   2.4s\n",
      "[CV] n_estimators=500, learning_rate=0.477 ...........................\n",
      "[CV] ............ n_estimators=500, learning_rate=0.477, total=   2.4s\n",
      "[CV] n_estimators=500, learning_rate=0.477 ...........................\n",
      "[CV] ............ n_estimators=500, learning_rate=0.477, total=   3.7s\n",
      "[CV] n_estimators=500, learning_rate=0.477 ...........................\n",
      "[CV] ............ n_estimators=500, learning_rate=0.477, total=   3.9s\n",
      "[CV] n_estimators=500, learning_rate=0.477 ...........................\n",
      "[CV] ............ n_estimators=500, learning_rate=0.477, total=   5.0s\n",
      "[CV] n_estimators=500, learning_rate=0.477 ...........................\n",
      "[CV] ............ n_estimators=500, learning_rate=0.477, total=   2.0s\n",
      "[CV] n_estimators=500, learning_rate=0.477 ...........................\n",
      "[CV] ............ n_estimators=500, learning_rate=0.477, total=   3.8s\n",
      "[CV] n_estimators=500, learning_rate=0.477 ...........................\n",
      "[CV] ............ n_estimators=500, learning_rate=0.477, total=   2.7s\n",
      "[CV] n_estimators=500, learning_rate=0.477 ...........................\n",
      "[CV] ............ n_estimators=500, learning_rate=0.477, total=   2.7s\n",
      "[CV] n_estimators=250, learning_rate=0.229 ...........................\n",
      "[CV] ............ n_estimators=250, learning_rate=0.229, total=   4.7s\n",
      "[CV] n_estimators=250, learning_rate=0.229 ...........................\n",
      "[CV] ............ n_estimators=250, learning_rate=0.229, total=   4.9s\n",
      "[CV] n_estimators=250, learning_rate=0.229 ...........................\n",
      "[CV] ............ n_estimators=250, learning_rate=0.229, total=   5.2s\n",
      "[CV] n_estimators=250, learning_rate=0.229 ...........................\n",
      "[CV] ............ n_estimators=250, learning_rate=0.229, total=   5.9s\n",
      "[CV] n_estimators=250, learning_rate=0.229 ...........................\n",
      "[CV] ............ n_estimators=250, learning_rate=0.229, total=   6.4s\n",
      "[CV] n_estimators=250, learning_rate=0.229 ...........................\n",
      "[CV] ............ n_estimators=250, learning_rate=0.229, total=   8.8s\n",
      "[CV] n_estimators=250, learning_rate=0.229 ...........................\n",
      "[CV] ............ n_estimators=250, learning_rate=0.229, total=   4.9s\n",
      "[CV] n_estimators=250, learning_rate=0.229 ...........................\n",
      "[CV] ............ n_estimators=250, learning_rate=0.229, total=   7.8s\n",
      "[CV] n_estimators=250, learning_rate=0.229 ...........................\n",
      "[CV] ............ n_estimators=250, learning_rate=0.229, total=   4.7s\n",
      "[CV] n_estimators=250, learning_rate=0.229 ...........................\n"
     ]
    },
    {
     "name": "stdout",
     "output_type": "stream",
     "text": [
      "[CV] ............ n_estimators=250, learning_rate=0.229, total=   5.0s\n",
      "[CV] n_estimators=650, learning_rate=0.713 ...........................\n",
      "[CV] ............ n_estimators=650, learning_rate=0.713, total=   1.7s\n",
      "[CV] n_estimators=650, learning_rate=0.713 ...........................\n",
      "[CV] ............ n_estimators=650, learning_rate=0.713, total=   1.5s\n",
      "[CV] n_estimators=650, learning_rate=0.713 ...........................\n",
      "[CV] ............ n_estimators=650, learning_rate=0.713, total=   2.1s\n",
      "[CV] n_estimators=650, learning_rate=0.713 ...........................\n",
      "[CV] ............ n_estimators=650, learning_rate=0.713, total=   2.3s\n",
      "[CV] n_estimators=650, learning_rate=0.713 ...........................\n",
      "[CV] ............ n_estimators=650, learning_rate=0.713, total=   2.1s\n",
      "[CV] n_estimators=650, learning_rate=0.713 ...........................\n",
      "[CV] ............ n_estimators=650, learning_rate=0.713, total=   3.7s\n",
      "[CV] n_estimators=650, learning_rate=0.713 ...........................\n",
      "[CV] ............ n_estimators=650, learning_rate=0.713, total=   1.7s\n",
      "[CV] n_estimators=650, learning_rate=0.713 ...........................\n",
      "[CV] ............ n_estimators=650, learning_rate=0.713, total=   2.0s\n",
      "[CV] n_estimators=650, learning_rate=0.713 ...........................\n",
      "[CV] ............ n_estimators=650, learning_rate=0.713, total=   1.5s\n",
      "[CV] n_estimators=650, learning_rate=0.713 ...........................\n",
      "[CV] ............ n_estimators=650, learning_rate=0.713, total=   2.0s\n",
      "[CV] n_estimators=600, learning_rate=0.692 ...........................\n",
      "[CV] ............ n_estimators=600, learning_rate=0.692, total=   1.4s\n",
      "[CV] n_estimators=600, learning_rate=0.692 ...........................\n",
      "[CV] ............ n_estimators=600, learning_rate=0.692, total=   2.0s\n",
      "[CV] n_estimators=600, learning_rate=0.692 ...........................\n",
      "[CV] ............ n_estimators=600, learning_rate=0.692, total=   2.0s\n",
      "[CV] n_estimators=600, learning_rate=0.692 ...........................\n",
      "[CV] ............ n_estimators=600, learning_rate=0.692, total=   2.3s\n",
      "[CV] n_estimators=600, learning_rate=0.692 ...........................\n",
      "[CV] ............ n_estimators=600, learning_rate=0.692, total=   2.0s\n",
      "[CV] n_estimators=600, learning_rate=0.692 ...........................\n",
      "[CV] ............ n_estimators=600, learning_rate=0.692, total=   2.9s\n",
      "[CV] n_estimators=600, learning_rate=0.692 ...........................\n",
      "[CV] ............ n_estimators=600, learning_rate=0.692, total=   1.8s\n",
      "[CV] n_estimators=600, learning_rate=0.692 ...........................\n",
      "[CV] ............ n_estimators=600, learning_rate=0.692, total=   2.4s\n",
      "[CV] n_estimators=600, learning_rate=0.692 ...........................\n",
      "[CV] ............ n_estimators=600, learning_rate=0.692, total=   2.3s\n",
      "[CV] n_estimators=600, learning_rate=0.692 ...........................\n",
      "[CV] ............ n_estimators=600, learning_rate=0.692, total=   1.9s\n",
      "[CV] n_estimators=500, learning_rate=0.967 ...........................\n",
      "[CV] ............ n_estimators=500, learning_rate=0.967, total=   1.6s\n",
      "[CV] n_estimators=500, learning_rate=0.967 ...........................\n",
      "[CV] ............ n_estimators=500, learning_rate=0.967, total=   1.4s\n",
      "[CV] n_estimators=500, learning_rate=0.967 ...........................\n",
      "[CV] ............ n_estimators=500, learning_rate=0.967, total=   1.4s\n",
      "[CV] n_estimators=500, learning_rate=0.967 ...........................\n",
      "[CV] ............ n_estimators=500, learning_rate=0.967, total=   1.5s\n",
      "[CV] n_estimators=500, learning_rate=0.967 ...........................\n",
      "[CV] ............ n_estimators=500, learning_rate=0.967, total=   2.0s\n",
      "[CV] n_estimators=500, learning_rate=0.967 ...........................\n",
      "[CV] ............ n_estimators=500, learning_rate=0.967, total=   3.2s\n",
      "[CV] n_estimators=500, learning_rate=0.967 ...........................\n",
      "[CV] ............ n_estimators=500, learning_rate=0.967, total=   1.6s\n",
      "[CV] n_estimators=500, learning_rate=0.967 ...........................\n",
      "[CV] ............ n_estimators=500, learning_rate=0.967, total=   2.0s\n",
      "[CV] n_estimators=500, learning_rate=0.967 ...........................\n",
      "[CV] ............ n_estimators=500, learning_rate=0.967, total=   1.0s\n",
      "[CV] n_estimators=500, learning_rate=0.967 ...........................\n",
      "[CV] ............ n_estimators=500, learning_rate=0.967, total=   1.3s\n",
      "[CV] n_estimators=750, learning_rate=0.089 ...........................\n",
      "[CV] ............ n_estimators=750, learning_rate=0.089, total=  14.7s\n",
      "[CV] n_estimators=750, learning_rate=0.089 ...........................\n",
      "[CV] ............ n_estimators=750, learning_rate=0.089, total=  13.3s\n",
      "[CV] n_estimators=750, learning_rate=0.089 ...........................\n",
      "[CV] ............ n_estimators=750, learning_rate=0.089, total=  13.1s\n",
      "[CV] n_estimators=750, learning_rate=0.089 ...........................\n",
      "[CV] ............ n_estimators=750, learning_rate=0.089, total=  14.8s\n",
      "[CV] n_estimators=750, learning_rate=0.089 ...........................\n",
      "[CV] ............ n_estimators=750, learning_rate=0.089, total=  12.4s\n",
      "[CV] n_estimators=750, learning_rate=0.089 ...........................\n",
      "[CV] ............ n_estimators=750, learning_rate=0.089, total=  18.3s\n",
      "[CV] n_estimators=750, learning_rate=0.089 ...........................\n",
      "[CV] ............ n_estimators=750, learning_rate=0.089, total=  11.7s\n",
      "[CV] n_estimators=750, learning_rate=0.089 ...........................\n",
      "[CV] ............ n_estimators=750, learning_rate=0.089, total=  22.4s\n",
      "[CV] n_estimators=750, learning_rate=0.089 ...........................\n",
      "[CV] ............ n_estimators=750, learning_rate=0.089, total=  13.8s\n",
      "[CV] n_estimators=750, learning_rate=0.089 ...........................\n",
      "[CV] ............ n_estimators=750, learning_rate=0.089, total=  11.9s\n"
     ]
    },
    {
     "name": "stderr",
     "output_type": "stream",
     "text": [
      "[Parallel(n_jobs=1)]: Done 100 out of 100 | elapsed: 11.7min finished\n"
     ]
    },
    {
     "data": {
      "text/plain": [
       "{'n_estimators': 350, 'learning_rate': 0.021}"
      ]
     },
     "execution_count": 35,
     "metadata": {},
     "output_type": "execute_result"
    }
   ],
   "source": [
    "abr = AdaBoostRegressor()\n",
    "possible_parameter_values = {'n_estimators' : [int(x) for x in np.arange(start = 50, stop = 1001, step = 50)],\n",
    "                             'learning_rate' : [float(x)/1000 for x in np.arange(start = 1, stop = 1001, step = 1)]}\n",
    "abr_rscv = RandomizedSearchCV(estimator = abr, param_distributions = possible_parameter_values, cv = 10, scoring = 'neg_mean_squared_error', verbose = 2, random_state = 17, \n",
    "                              n_jobs = 1)\n",
    "abr_rscv.fit(X_train, y_train)\n",
    "abr_rscv.best_params_"
   ]
  },
  {
   "cell_type": "code",
   "execution_count": 36,
   "metadata": {
    "ExecuteTime": {
     "end_time": "2021-04-09T15:58:21.130598Z",
     "start_time": "2021-04-09T15:58:18.419941Z"
    }
   },
   "outputs": [
    {
     "name": "stdout",
     "output_type": "stream",
     "text": [
      "Ada Boost Regressor:\n",
      "----------------------------------------------------------------------------------------------------\n",
      "Train r2_score:  0.5099577332763432\n",
      "Test r2_score:  0.48186611681369806\n",
      "----------------------------------------------------------------------------------------------------\n",
      "Train RMSE:  20.083114246033098\n",
      "Test RMSE:  21.158462800565864\n",
      "----------------------------------------------------------------------------------------------------\n",
      "Train MAPE:  0.10132603379271818\n",
      "Test MAPE:  0.10124573359584271\n"
     ]
    }
   ],
   "source": [
    "y_train_pred_abr = abr_rscv.predict(X_train)\n",
    "y_test_pred_abr = abr_rscv.predict(X_test)\n",
    "print('Ada Boost Regressor:')\n",
    "print('-' * 100)\n",
    "print('Train r2_score: ', r2_score(y_train, y_train_pred_abr))\n",
    "print('Test r2_score: ', r2_score(y_test, y_test_pred_abr))\n",
    "print('-' * 100)\n",
    "print('Train RMSE: ', np.sqrt(mean_squared_error(y_train, y_train_pred_abr)))\n",
    "print('Test RMSE: ', np.sqrt(mean_squared_error(y_test, y_test_pred_abr)))\n",
    "print('-' * 100)\n",
    "print('Train MAPE: ', np.mean(mean_absolute_error(y_train, y_train_pred_abr) / y_train))\n",
    "print('Test MAPE: ', np.mean(mean_absolute_error(y_test, y_test_pred_abr) / y_test))"
   ]
  },
  {
   "cell_type": "code",
   "execution_count": 37,
   "metadata": {
    "ExecuteTime": {
     "end_time": "2021-04-09T15:58:29.438584Z",
     "start_time": "2021-04-09T15:58:29.283242Z"
    }
   },
   "outputs": [
    {
     "data": {
      "text/plain": [
       "True     0.607002\n",
       "False    0.392998\n",
       "Name: Bool, dtype: float64"
      ]
     },
     "execution_count": 37,
     "metadata": {},
     "output_type": "execute_result"
    }
   ],
   "source": [
    "data_abr = pd.DataFrame()\n",
    "data_abr['actual'] = y_test\n",
    "data_abr['predicted'] = y_test_pred_abr\n",
    "data_abr['lower range'] = y_test_pred_abr - (0.10124573359584271 * y_test_pred_abr)\n",
    "data_abr['upper range'] = y_test_pred_abr + (0.10124573359584271 * y_test_pred_abr)\n",
    "t_list = []\n",
    "for i in data_abr.index:\n",
    "    if data_abr['actual'][i] > data_abr['lower range'][i]:\n",
    "        if data_abr['actual'][i] < data_abr['upper range'][i]:\n",
    "            t_list.append('True')\n",
    "        else:\n",
    "            t_list.append('False')\n",
    "    else:\n",
    "        t_list.append('False')\n",
    "data_abr['Bool'] = t_list\n",
    "data_abr['Bool'].value_counts()/data_abr.shape[0]"
   ]
  },
  {
   "cell_type": "code",
   "execution_count": 38,
   "metadata": {
    "ExecuteTime": {
     "end_time": "2021-04-09T15:59:20.145420Z",
     "start_time": "2021-04-09T15:58:35.315339Z"
    }
   },
   "outputs": [
    {
     "name": "stdout",
     "output_type": "stream",
     "text": [
      "Fitting 10 folds for each of 10 candidates, totalling 100 fits\n",
      "[CV] weights=uniform, n_neighbors=8 ..................................\n"
     ]
    },
    {
     "name": "stderr",
     "output_type": "stream",
     "text": [
      "[Parallel(n_jobs=1)]: Using backend SequentialBackend with 1 concurrent workers.\n"
     ]
    },
    {
     "name": "stdout",
     "output_type": "stream",
     "text": [
      "[CV] ................... weights=uniform, n_neighbors=8, total=   0.5s\n",
      "[CV] weights=uniform, n_neighbors=8 ..................................\n"
     ]
    },
    {
     "name": "stderr",
     "output_type": "stream",
     "text": [
      "[Parallel(n_jobs=1)]: Done   1 out of   1 | elapsed:    0.4s remaining:    0.0s\n"
     ]
    },
    {
     "name": "stdout",
     "output_type": "stream",
     "text": [
      "[CV] ................... weights=uniform, n_neighbors=8, total=   0.4s\n",
      "[CV] weights=uniform, n_neighbors=8 ..................................\n",
      "[CV] ................... weights=uniform, n_neighbors=8, total=   0.5s\n",
      "[CV] weights=uniform, n_neighbors=8 ..................................\n",
      "[CV] ................... weights=uniform, n_neighbors=8, total=   0.5s\n",
      "[CV] weights=uniform, n_neighbors=8 ..................................\n",
      "[CV] ................... weights=uniform, n_neighbors=8, total=   0.5s\n",
      "[CV] weights=uniform, n_neighbors=8 ..................................\n",
      "[CV] ................... weights=uniform, n_neighbors=8, total=   0.5s\n",
      "[CV] weights=uniform, n_neighbors=8 ..................................\n",
      "[CV] ................... weights=uniform, n_neighbors=8, total=   0.5s\n",
      "[CV] weights=uniform, n_neighbors=8 ..................................\n",
      "[CV] ................... weights=uniform, n_neighbors=8, total=   0.5s\n",
      "[CV] weights=uniform, n_neighbors=8 ..................................\n",
      "[CV] ................... weights=uniform, n_neighbors=8, total=   0.5s\n",
      "[CV] weights=uniform, n_neighbors=8 ..................................\n",
      "[CV] ................... weights=uniform, n_neighbors=8, total=   0.5s\n",
      "[CV] weights=distance, n_neighbors=2 .................................\n",
      "[CV] .................. weights=distance, n_neighbors=2, total=   0.4s\n",
      "[CV] weights=distance, n_neighbors=2 .................................\n",
      "[CV] .................. weights=distance, n_neighbors=2, total=   0.4s\n",
      "[CV] weights=distance, n_neighbors=2 .................................\n",
      "[CV] .................. weights=distance, n_neighbors=2, total=   0.4s\n",
      "[CV] weights=distance, n_neighbors=2 .................................\n",
      "[CV] .................. weights=distance, n_neighbors=2, total=   0.4s\n",
      "[CV] weights=distance, n_neighbors=2 .................................\n",
      "[CV] .................. weights=distance, n_neighbors=2, total=   0.4s\n",
      "[CV] weights=distance, n_neighbors=2 .................................\n",
      "[CV] .................. weights=distance, n_neighbors=2, total=   0.4s\n",
      "[CV] weights=distance, n_neighbors=2 .................................\n",
      "[CV] .................. weights=distance, n_neighbors=2, total=   0.4s\n",
      "[CV] weights=distance, n_neighbors=2 .................................\n",
      "[CV] .................. weights=distance, n_neighbors=2, total=   0.4s\n",
      "[CV] weights=distance, n_neighbors=2 .................................\n",
      "[CV] .................. weights=distance, n_neighbors=2, total=   0.4s\n",
      "[CV] weights=distance, n_neighbors=2 .................................\n",
      "[CV] .................. weights=distance, n_neighbors=2, total=   0.4s\n",
      "[CV] weights=uniform, n_neighbors=2 ..................................\n",
      "[CV] ................... weights=uniform, n_neighbors=2, total=   0.4s\n",
      "[CV] weights=uniform, n_neighbors=2 ..................................\n",
      "[CV] ................... weights=uniform, n_neighbors=2, total=   0.4s\n",
      "[CV] weights=uniform, n_neighbors=2 ..................................\n",
      "[CV] ................... weights=uniform, n_neighbors=2, total=   0.4s\n",
      "[CV] weights=uniform, n_neighbors=2 ..................................\n",
      "[CV] ................... weights=uniform, n_neighbors=2, total=   0.4s\n",
      "[CV] weights=uniform, n_neighbors=2 ..................................\n",
      "[CV] ................... weights=uniform, n_neighbors=2, total=   0.4s\n",
      "[CV] weights=uniform, n_neighbors=2 ..................................\n",
      "[CV] ................... weights=uniform, n_neighbors=2, total=   0.4s\n",
      "[CV] weights=uniform, n_neighbors=2 ..................................\n",
      "[CV] ................... weights=uniform, n_neighbors=2, total=   0.4s\n",
      "[CV] weights=uniform, n_neighbors=2 ..................................\n",
      "[CV] ................... weights=uniform, n_neighbors=2, total=   0.5s\n",
      "[CV] weights=uniform, n_neighbors=2 ..................................\n",
      "[CV] ................... weights=uniform, n_neighbors=2, total=   0.4s\n",
      "[CV] weights=uniform, n_neighbors=2 ..................................\n",
      "[CV] ................... weights=uniform, n_neighbors=2, total=   0.4s\n",
      "[CV] weights=distance, n_neighbors=7 .................................\n",
      "[CV] .................. weights=distance, n_neighbors=7, total=   0.4s\n",
      "[CV] weights=distance, n_neighbors=7 .................................\n",
      "[CV] .................. weights=distance, n_neighbors=7, total=   0.4s\n",
      "[CV] weights=distance, n_neighbors=7 .................................\n",
      "[CV] .................. weights=distance, n_neighbors=7, total=   0.4s\n",
      "[CV] weights=distance, n_neighbors=7 .................................\n",
      "[CV] .................. weights=distance, n_neighbors=7, total=   0.5s\n",
      "[CV] weights=distance, n_neighbors=7 .................................\n",
      "[CV] .................. weights=distance, n_neighbors=7, total=   0.4s\n",
      "[CV] weights=distance, n_neighbors=7 .................................\n",
      "[CV] .................. weights=distance, n_neighbors=7, total=   0.4s\n",
      "[CV] weights=distance, n_neighbors=7 .................................\n",
      "[CV] .................. weights=distance, n_neighbors=7, total=   0.4s\n",
      "[CV] weights=distance, n_neighbors=7 .................................\n",
      "[CV] .................. weights=distance, n_neighbors=7, total=   0.4s\n",
      "[CV] weights=distance, n_neighbors=7 .................................\n",
      "[CV] .................. weights=distance, n_neighbors=7, total=   0.4s\n",
      "[CV] weights=distance, n_neighbors=7 .................................\n",
      "[CV] .................. weights=distance, n_neighbors=7, total=   0.4s\n",
      "[CV] weights=distance, n_neighbors=3 .................................\n",
      "[CV] .................. weights=distance, n_neighbors=3, total=   0.4s\n",
      "[CV] weights=distance, n_neighbors=3 .................................\n",
      "[CV] .................. weights=distance, n_neighbors=3, total=   0.4s\n",
      "[CV] weights=distance, n_neighbors=3 .................................\n",
      "[CV] .................. weights=distance, n_neighbors=3, total=   0.4s\n",
      "[CV] weights=distance, n_neighbors=3 .................................\n",
      "[CV] .................. weights=distance, n_neighbors=3, total=   0.4s\n",
      "[CV] weights=distance, n_neighbors=3 .................................\n",
      "[CV] .................. weights=distance, n_neighbors=3, total=   0.4s\n",
      "[CV] weights=distance, n_neighbors=3 .................................\n",
      "[CV] .................. weights=distance, n_neighbors=3, total=   0.4s\n",
      "[CV] weights=distance, n_neighbors=3 .................................\n",
      "[CV] .................. weights=distance, n_neighbors=3, total=   0.4s\n",
      "[CV] weights=distance, n_neighbors=3 .................................\n",
      "[CV] .................. weights=distance, n_neighbors=3, total=   0.4s\n",
      "[CV] weights=distance, n_neighbors=3 .................................\n",
      "[CV] .................. weights=distance, n_neighbors=3, total=   0.4s\n",
      "[CV] weights=distance, n_neighbors=3 .................................\n",
      "[CV] .................. weights=distance, n_neighbors=3, total=   0.4s\n",
      "[CV] weights=uniform, n_neighbors=5 ..................................\n",
      "[CV] ................... weights=uniform, n_neighbors=5, total=   0.5s\n",
      "[CV] weights=uniform, n_neighbors=5 ..................................\n",
      "[CV] ................... weights=uniform, n_neighbors=5, total=   0.5s\n",
      "[CV] weights=uniform, n_neighbors=5 ..................................\n",
      "[CV] ................... weights=uniform, n_neighbors=5, total=   0.4s\n",
      "[CV] weights=uniform, n_neighbors=5 ..................................\n",
      "[CV] ................... weights=uniform, n_neighbors=5, total=   0.5s\n",
      "[CV] weights=uniform, n_neighbors=5 ..................................\n",
      "[CV] ................... weights=uniform, n_neighbors=5, total=   0.4s\n",
      "[CV] weights=uniform, n_neighbors=5 ..................................\n",
      "[CV] ................... weights=uniform, n_neighbors=5, total=   0.5s\n",
      "[CV] weights=uniform, n_neighbors=5 ..................................\n",
      "[CV] ................... weights=uniform, n_neighbors=5, total=   0.4s\n",
      "[CV] weights=uniform, n_neighbors=5 ..................................\n",
      "[CV] ................... weights=uniform, n_neighbors=5, total=   0.4s\n",
      "[CV] weights=uniform, n_neighbors=5 ..................................\n",
      "[CV] ................... weights=uniform, n_neighbors=5, total=   0.4s\n",
      "[CV] weights=uniform, n_neighbors=5 ..................................\n"
     ]
    },
    {
     "name": "stdout",
     "output_type": "stream",
     "text": [
      "[CV] ................... weights=uniform, n_neighbors=5, total=   0.4s\n",
      "[CV] weights=uniform, n_neighbors=7 ..................................\n",
      "[CV] ................... weights=uniform, n_neighbors=7, total=   0.5s\n",
      "[CV] weights=uniform, n_neighbors=7 ..................................\n",
      "[CV] ................... weights=uniform, n_neighbors=7, total=   0.5s\n",
      "[CV] weights=uniform, n_neighbors=7 ..................................\n",
      "[CV] ................... weights=uniform, n_neighbors=7, total=   0.4s\n",
      "[CV] weights=uniform, n_neighbors=7 ..................................\n",
      "[CV] ................... weights=uniform, n_neighbors=7, total=   0.4s\n",
      "[CV] weights=uniform, n_neighbors=7 ..................................\n",
      "[CV] ................... weights=uniform, n_neighbors=7, total=   0.5s\n",
      "[CV] weights=uniform, n_neighbors=7 ..................................\n",
      "[CV] ................... weights=uniform, n_neighbors=7, total=   0.4s\n",
      "[CV] weights=uniform, n_neighbors=7 ..................................\n",
      "[CV] ................... weights=uniform, n_neighbors=7, total=   0.4s\n",
      "[CV] weights=uniform, n_neighbors=7 ..................................\n",
      "[CV] ................... weights=uniform, n_neighbors=7, total=   0.4s\n",
      "[CV] weights=uniform, n_neighbors=7 ..................................\n",
      "[CV] ................... weights=uniform, n_neighbors=7, total=   0.4s\n",
      "[CV] weights=uniform, n_neighbors=7 ..................................\n",
      "[CV] ................... weights=uniform, n_neighbors=7, total=   0.4s\n",
      "[CV] weights=distance, n_neighbors=1 .................................\n",
      "[CV] .................. weights=distance, n_neighbors=1, total=   0.4s\n",
      "[CV] weights=distance, n_neighbors=1 .................................\n",
      "[CV] .................. weights=distance, n_neighbors=1, total=   0.4s\n",
      "[CV] weights=distance, n_neighbors=1 .................................\n",
      "[CV] .................. weights=distance, n_neighbors=1, total=   0.4s\n",
      "[CV] weights=distance, n_neighbors=1 .................................\n",
      "[CV] .................. weights=distance, n_neighbors=1, total=   0.4s\n",
      "[CV] weights=distance, n_neighbors=1 .................................\n",
      "[CV] .................. weights=distance, n_neighbors=1, total=   0.4s\n",
      "[CV] weights=distance, n_neighbors=1 .................................\n",
      "[CV] .................. weights=distance, n_neighbors=1, total=   0.4s\n",
      "[CV] weights=distance, n_neighbors=1 .................................\n",
      "[CV] .................. weights=distance, n_neighbors=1, total=   0.4s\n",
      "[CV] weights=distance, n_neighbors=1 .................................\n",
      "[CV] .................. weights=distance, n_neighbors=1, total=   0.4s\n",
      "[CV] weights=distance, n_neighbors=1 .................................\n",
      "[CV] .................. weights=distance, n_neighbors=1, total=   0.4s\n",
      "[CV] weights=distance, n_neighbors=1 .................................\n",
      "[CV] .................. weights=distance, n_neighbors=1, total=   0.4s\n",
      "[CV] weights=uniform, n_neighbors=6 ..................................\n",
      "[CV] ................... weights=uniform, n_neighbors=6, total=   0.5s\n",
      "[CV] weights=uniform, n_neighbors=6 ..................................\n",
      "[CV] ................... weights=uniform, n_neighbors=6, total=   0.4s\n",
      "[CV] weights=uniform, n_neighbors=6 ..................................\n",
      "[CV] ................... weights=uniform, n_neighbors=6, total=   0.4s\n",
      "[CV] weights=uniform, n_neighbors=6 ..................................\n",
      "[CV] ................... weights=uniform, n_neighbors=6, total=   0.4s\n",
      "[CV] weights=uniform, n_neighbors=6 ..................................\n",
      "[CV] ................... weights=uniform, n_neighbors=6, total=   0.5s\n",
      "[CV] weights=uniform, n_neighbors=6 ..................................\n",
      "[CV] ................... weights=uniform, n_neighbors=6, total=   0.4s\n",
      "[CV] weights=uniform, n_neighbors=6 ..................................\n",
      "[CV] ................... weights=uniform, n_neighbors=6, total=   0.4s\n",
      "[CV] weights=uniform, n_neighbors=6 ..................................\n",
      "[CV] ................... weights=uniform, n_neighbors=6, total=   0.5s\n",
      "[CV] weights=uniform, n_neighbors=6 ..................................\n",
      "[CV] ................... weights=uniform, n_neighbors=6, total=   0.4s\n",
      "[CV] weights=uniform, n_neighbors=6 ..................................\n",
      "[CV] ................... weights=uniform, n_neighbors=6, total=   0.4s\n",
      "[CV] weights=distance, n_neighbors=6 .................................\n",
      "[CV] .................. weights=distance, n_neighbors=6, total=   0.4s\n",
      "[CV] weights=distance, n_neighbors=6 .................................\n",
      "[CV] .................. weights=distance, n_neighbors=6, total=   0.4s\n",
      "[CV] weights=distance, n_neighbors=6 .................................\n",
      "[CV] .................. weights=distance, n_neighbors=6, total=   0.4s\n",
      "[CV] weights=distance, n_neighbors=6 .................................\n",
      "[CV] .................. weights=distance, n_neighbors=6, total=   0.5s\n",
      "[CV] weights=distance, n_neighbors=6 .................................\n",
      "[CV] .................. weights=distance, n_neighbors=6, total=   0.5s\n",
      "[CV] weights=distance, n_neighbors=6 .................................\n",
      "[CV] .................. weights=distance, n_neighbors=6, total=   0.5s\n",
      "[CV] weights=distance, n_neighbors=6 .................................\n",
      "[CV] .................. weights=distance, n_neighbors=6, total=   0.5s\n",
      "[CV] weights=distance, n_neighbors=6 .................................\n",
      "[CV] .................. weights=distance, n_neighbors=6, total=   0.4s\n",
      "[CV] weights=distance, n_neighbors=6 .................................\n",
      "[CV] .................. weights=distance, n_neighbors=6, total=   0.4s\n",
      "[CV] weights=distance, n_neighbors=6 .................................\n",
      "[CV] .................. weights=distance, n_neighbors=6, total=   0.5s\n"
     ]
    },
    {
     "name": "stderr",
     "output_type": "stream",
     "text": [
      "[Parallel(n_jobs=1)]: Done 100 out of 100 | elapsed:   44.3s finished\n"
     ]
    },
    {
     "data": {
      "text/plain": [
       "{'weights': 'uniform', 'n_neighbors': 8}"
      ]
     },
     "execution_count": 38,
     "metadata": {},
     "output_type": "execute_result"
    }
   ],
   "source": [
    "knr = KNeighborsRegressor()\n",
    "possible_parameter_values = {'n_neighbors' : [int(x) for x in np.arange(start = 1, stop = 11, step = 1)],\n",
    "                             'weights' : ['uniform', 'distance']}\n",
    "knr_rscv = RandomizedSearchCV(estimator = knr, param_distributions = possible_parameter_values, cv = 10, scoring = 'neg_mean_squared_error', verbose = 2, random_state = 17, \n",
    "                              n_jobs = 1)\n",
    "knr_rscv.fit(X_train, y_train)\n",
    "knr_rscv.best_params_"
   ]
  },
  {
   "cell_type": "code",
   "execution_count": 39,
   "metadata": {
    "ExecuteTime": {
     "end_time": "2021-04-09T16:00:16.716397Z",
     "start_time": "2021-04-09T16:00:15.195814Z"
    }
   },
   "outputs": [
    {
     "name": "stdout",
     "output_type": "stream",
     "text": [
      "K Neighbors Regressor:\n",
      "----------------------------------------------------------------------------------------------------\n",
      "Train r2_score:  0.8260128118881142\n",
      "Test r2_score:  0.5538009143266089\n",
      "----------------------------------------------------------------------------------------------------\n",
      "Train RMSE:  11.966659216042917\n",
      "Test RMSE:  19.634843921340206\n",
      "----------------------------------------------------------------------------------------------------\n",
      "Train MAPE:  0.05328509596416751\n",
      "Test MAPE:  0.09185259348772307\n"
     ]
    }
   ],
   "source": [
    "y_train_pred_knr = knr_rscv.predict(X_train)\n",
    "y_test_pred_knr = knr_rscv.predict(X_test)\n",
    "print('K Neighbors Regressor:')\n",
    "print('-' * 100)\n",
    "print('Train r2_score: ', r2_score(y_train, y_train_pred_knr))\n",
    "print('Test r2_score: ', r2_score(y_test, y_test_pred_knr))\n",
    "print('-' * 100)\n",
    "print('Train RMSE: ', np.sqrt(mean_squared_error(y_train, y_train_pred_knr)))\n",
    "print('Test RMSE: ', np.sqrt(mean_squared_error(y_test, y_test_pred_knr)))\n",
    "print('-' * 100)\n",
    "print('Train MAPE: ', np.mean(mean_absolute_error(y_train, y_train_pred_knr) / y_train))\n",
    "print('Test MAPE: ', np.mean(mean_absolute_error(y_test, y_test_pred_knr) / y_test))"
   ]
  },
  {
   "cell_type": "code",
   "execution_count": 40,
   "metadata": {
    "ExecuteTime": {
     "end_time": "2021-04-09T16:00:22.364305Z",
     "start_time": "2021-04-09T16:00:22.204445Z"
    }
   },
   "outputs": [
    {
     "data": {
      "text/plain": [
       "True     0.636585\n",
       "False    0.363415\n",
       "Name: Bool, dtype: float64"
      ]
     },
     "execution_count": 40,
     "metadata": {},
     "output_type": "execute_result"
    }
   ],
   "source": [
    "data_knr = pd.DataFrame()\n",
    "data_knr['actual'] = y_test\n",
    "data_knr['predicted'] = y_test_pred_knr\n",
    "data_knr['lower range'] = y_test_pred_knr - (0.09185259348772307 * y_test_pred_knr)\n",
    "data_knr['upper range'] = y_test_pred_knr + (0.09185259348772307 * y_test_pred_knr)\n",
    "t_list = []\n",
    "for i in data_knr.index:\n",
    "    if data_knr['actual'][i] > data_knr['lower range'][i]:\n",
    "        if data_knr['actual'][i] < data_knr['upper range'][i]:\n",
    "            t_list.append('True')\n",
    "        else:\n",
    "            t_list.append('False')\n",
    "    else:\n",
    "        t_list.append('False')\n",
    "data_knr['Bool'] = t_list\n",
    "data_knr['Bool'].value_counts()/data_knr.shape[0]"
   ]
  },
  {
   "cell_type": "code",
   "execution_count": 41,
   "metadata": {
    "ExecuteTime": {
     "end_time": "2021-04-09T16:18:41.608302Z",
     "start_time": "2021-04-09T16:00:37.237253Z"
    },
    "scrolled": true
   },
   "outputs": [
    {
     "name": "stdout",
     "output_type": "stream",
     "text": [
      "Fitting 10 folds for each of 10 candidates, totalling 100 fits\n",
      "[CV] use_label_encoder=False, n_estimators=50, max_depth=35, learning_rate=0.737 \n"
     ]
    },
    {
     "name": "stderr",
     "output_type": "stream",
     "text": [
      "[Parallel(n_jobs=1)]: Using backend SequentialBackend with 1 concurrent workers.\n"
     ]
    },
    {
     "name": "stdout",
     "output_type": "stream",
     "text": [
      "[CV]  use_label_encoder=False, n_estimators=50, max_depth=35, learning_rate=0.737, total=   5.8s\n",
      "[CV] use_label_encoder=False, n_estimators=50, max_depth=35, learning_rate=0.737 \n"
     ]
    },
    {
     "name": "stderr",
     "output_type": "stream",
     "text": [
      "[Parallel(n_jobs=1)]: Done   1 out of   1 | elapsed:    5.7s remaining:    0.0s\n"
     ]
    },
    {
     "name": "stdout",
     "output_type": "stream",
     "text": [
      "[CV]  use_label_encoder=False, n_estimators=50, max_depth=35, learning_rate=0.737, total=   4.5s\n",
      "[CV] use_label_encoder=False, n_estimators=50, max_depth=35, learning_rate=0.737 \n",
      "[CV]  use_label_encoder=False, n_estimators=50, max_depth=35, learning_rate=0.737, total=   4.3s\n",
      "[CV] use_label_encoder=False, n_estimators=50, max_depth=35, learning_rate=0.737 \n",
      "[CV]  use_label_encoder=False, n_estimators=50, max_depth=35, learning_rate=0.737, total=   4.1s\n",
      "[CV] use_label_encoder=False, n_estimators=50, max_depth=35, learning_rate=0.737 \n",
      "[CV]  use_label_encoder=False, n_estimators=50, max_depth=35, learning_rate=0.737, total=   3.8s\n",
      "[CV] use_label_encoder=False, n_estimators=50, max_depth=35, learning_rate=0.737 \n",
      "[CV]  use_label_encoder=False, n_estimators=50, max_depth=35, learning_rate=0.737, total=   3.8s\n",
      "[CV] use_label_encoder=False, n_estimators=50, max_depth=35, learning_rate=0.737 \n",
      "[CV]  use_label_encoder=False, n_estimators=50, max_depth=35, learning_rate=0.737, total=   3.9s\n",
      "[CV] use_label_encoder=False, n_estimators=50, max_depth=35, learning_rate=0.737 \n",
      "[CV]  use_label_encoder=False, n_estimators=50, max_depth=35, learning_rate=0.737, total=   3.8s\n",
      "[CV] use_label_encoder=False, n_estimators=50, max_depth=35, learning_rate=0.737 \n",
      "[CV]  use_label_encoder=False, n_estimators=50, max_depth=35, learning_rate=0.737, total=   3.8s\n",
      "[CV] use_label_encoder=False, n_estimators=50, max_depth=35, learning_rate=0.737 \n",
      "[CV]  use_label_encoder=False, n_estimators=50, max_depth=35, learning_rate=0.737, total=   3.8s\n",
      "[CV] use_label_encoder=False, n_estimators=600, max_depth=40, learning_rate=0.372 \n",
      "[CV]  use_label_encoder=False, n_estimators=600, max_depth=40, learning_rate=0.372, total=  10.1s\n",
      "[CV] use_label_encoder=False, n_estimators=600, max_depth=40, learning_rate=0.372 \n",
      "[CV]  use_label_encoder=False, n_estimators=600, max_depth=40, learning_rate=0.372, total=  10.7s\n",
      "[CV] use_label_encoder=False, n_estimators=600, max_depth=40, learning_rate=0.372 \n",
      "[CV]  use_label_encoder=False, n_estimators=600, max_depth=40, learning_rate=0.372, total=  10.3s\n",
      "[CV] use_label_encoder=False, n_estimators=600, max_depth=40, learning_rate=0.372 \n",
      "[CV]  use_label_encoder=False, n_estimators=600, max_depth=40, learning_rate=0.372, total=  10.4s\n",
      "[CV] use_label_encoder=False, n_estimators=600, max_depth=40, learning_rate=0.372 \n",
      "[CV]  use_label_encoder=False, n_estimators=600, max_depth=40, learning_rate=0.372, total=  10.0s\n",
      "[CV] use_label_encoder=False, n_estimators=600, max_depth=40, learning_rate=0.372 \n",
      "[CV]  use_label_encoder=False, n_estimators=600, max_depth=40, learning_rate=0.372, total=  10.4s\n",
      "[CV] use_label_encoder=False, n_estimators=600, max_depth=40, learning_rate=0.372 \n",
      "[CV]  use_label_encoder=False, n_estimators=600, max_depth=40, learning_rate=0.372, total=  10.1s\n",
      "[CV] use_label_encoder=False, n_estimators=600, max_depth=40, learning_rate=0.372 \n",
      "[CV]  use_label_encoder=False, n_estimators=600, max_depth=40, learning_rate=0.372, total=  10.3s\n",
      "[CV] use_label_encoder=False, n_estimators=600, max_depth=40, learning_rate=0.372 \n",
      "[CV]  use_label_encoder=False, n_estimators=600, max_depth=40, learning_rate=0.372, total=  11.0s\n",
      "[CV] use_label_encoder=False, n_estimators=600, max_depth=40, learning_rate=0.372 \n",
      "[CV]  use_label_encoder=False, n_estimators=600, max_depth=40, learning_rate=0.372, total=  10.9s\n",
      "[CV] use_label_encoder=True, n_estimators=200, max_depth=95, learning_rate=0.615 \n",
      "[CV]  use_label_encoder=True, n_estimators=200, max_depth=95, learning_rate=0.615, total=   5.7s\n",
      "[CV] use_label_encoder=True, n_estimators=200, max_depth=95, learning_rate=0.615 \n",
      "[CV]  use_label_encoder=True, n_estimators=200, max_depth=95, learning_rate=0.615, total=   5.9s\n",
      "[CV] use_label_encoder=True, n_estimators=200, max_depth=95, learning_rate=0.615 \n",
      "[CV]  use_label_encoder=True, n_estimators=200, max_depth=95, learning_rate=0.615, total=   5.7s\n",
      "[CV] use_label_encoder=True, n_estimators=200, max_depth=95, learning_rate=0.615 \n",
      "[CV]  use_label_encoder=True, n_estimators=200, max_depth=95, learning_rate=0.615, total=   5.7s\n",
      "[CV] use_label_encoder=True, n_estimators=200, max_depth=95, learning_rate=0.615 \n",
      "[CV]  use_label_encoder=True, n_estimators=200, max_depth=95, learning_rate=0.615, total=   6.0s\n",
      "[CV] use_label_encoder=True, n_estimators=200, max_depth=95, learning_rate=0.615 \n",
      "[CV]  use_label_encoder=True, n_estimators=200, max_depth=95, learning_rate=0.615, total=   6.0s\n",
      "[CV] use_label_encoder=True, n_estimators=200, max_depth=95, learning_rate=0.615 \n",
      "[CV]  use_label_encoder=True, n_estimators=200, max_depth=95, learning_rate=0.615, total=   6.0s\n",
      "[CV] use_label_encoder=True, n_estimators=200, max_depth=95, learning_rate=0.615 \n",
      "[CV]  use_label_encoder=True, n_estimators=200, max_depth=95, learning_rate=0.615, total=   5.9s\n",
      "[CV] use_label_encoder=True, n_estimators=200, max_depth=95, learning_rate=0.615 \n",
      "[CV]  use_label_encoder=True, n_estimators=200, max_depth=95, learning_rate=0.615, total=   5.5s\n",
      "[CV] use_label_encoder=True, n_estimators=200, max_depth=95, learning_rate=0.615 \n",
      "[CV]  use_label_encoder=True, n_estimators=200, max_depth=95, learning_rate=0.615, total=   5.5s\n",
      "[CV] use_label_encoder=True, n_estimators=50, max_depth=15, learning_rate=0.158 \n",
      "[CV]  use_label_encoder=True, n_estimators=50, max_depth=15, learning_rate=0.158, total=   1.9s\n",
      "[CV] use_label_encoder=True, n_estimators=50, max_depth=15, learning_rate=0.158 \n",
      "[CV]  use_label_encoder=True, n_estimators=50, max_depth=15, learning_rate=0.158, total=   1.9s\n",
      "[CV] use_label_encoder=True, n_estimators=50, max_depth=15, learning_rate=0.158 \n",
      "[CV]  use_label_encoder=True, n_estimators=50, max_depth=15, learning_rate=0.158, total=   1.7s\n",
      "[CV] use_label_encoder=True, n_estimators=50, max_depth=15, learning_rate=0.158 \n",
      "[CV]  use_label_encoder=True, n_estimators=50, max_depth=15, learning_rate=0.158, total=   1.8s\n",
      "[CV] use_label_encoder=True, n_estimators=50, max_depth=15, learning_rate=0.158 \n",
      "[CV]  use_label_encoder=True, n_estimators=50, max_depth=15, learning_rate=0.158, total=   1.8s\n",
      "[CV] use_label_encoder=True, n_estimators=50, max_depth=15, learning_rate=0.158 \n",
      "[CV]  use_label_encoder=True, n_estimators=50, max_depth=15, learning_rate=0.158, total=   1.8s\n",
      "[CV] use_label_encoder=True, n_estimators=50, max_depth=15, learning_rate=0.158 \n",
      "[CV]  use_label_encoder=True, n_estimators=50, max_depth=15, learning_rate=0.158, total=   1.8s\n",
      "[CV] use_label_encoder=True, n_estimators=50, max_depth=15, learning_rate=0.158 \n",
      "[CV]  use_label_encoder=True, n_estimators=50, max_depth=15, learning_rate=0.158, total=   1.8s\n",
      "[CV] use_label_encoder=True, n_estimators=50, max_depth=15, learning_rate=0.158 \n",
      "[CV]  use_label_encoder=True, n_estimators=50, max_depth=15, learning_rate=0.158, total=   1.7s\n",
      "[CV] use_label_encoder=True, n_estimators=50, max_depth=15, learning_rate=0.158 \n",
      "[CV]  use_label_encoder=True, n_estimators=50, max_depth=15, learning_rate=0.158, total=   1.8s\n",
      "[CV] use_label_encoder=False, n_estimators=750, max_depth=15, learning_rate=0.971 \n",
      "[CV]  use_label_encoder=False, n_estimators=750, max_depth=15, learning_rate=0.971, total=   5.1s\n",
      "[CV] use_label_encoder=False, n_estimators=750, max_depth=15, learning_rate=0.971 \n",
      "[CV]  use_label_encoder=False, n_estimators=750, max_depth=15, learning_rate=0.971, total=   5.1s\n",
      "[CV] use_label_encoder=False, n_estimators=750, max_depth=15, learning_rate=0.971 \n",
      "[CV]  use_label_encoder=False, n_estimators=750, max_depth=15, learning_rate=0.971, total=   5.5s\n",
      "[CV] use_label_encoder=False, n_estimators=750, max_depth=15, learning_rate=0.971 \n",
      "[CV]  use_label_encoder=False, n_estimators=750, max_depth=15, learning_rate=0.971, total=   5.3s\n",
      "[CV] use_label_encoder=False, n_estimators=750, max_depth=15, learning_rate=0.971 \n",
      "[CV]  use_label_encoder=False, n_estimators=750, max_depth=15, learning_rate=0.971, total=   5.3s\n",
      "[CV] use_label_encoder=False, n_estimators=750, max_depth=15, learning_rate=0.971 \n",
      "[CV]  use_label_encoder=False, n_estimators=750, max_depth=15, learning_rate=0.971, total=   5.6s\n",
      "[CV] use_label_encoder=False, n_estimators=750, max_depth=15, learning_rate=0.971 \n",
      "[CV]  use_label_encoder=False, n_estimators=750, max_depth=15, learning_rate=0.971, total=   5.0s\n",
      "[CV] use_label_encoder=False, n_estimators=750, max_depth=15, learning_rate=0.971 \n"
     ]
    },
    {
     "name": "stdout",
     "output_type": "stream",
     "text": [
      "[CV]  use_label_encoder=False, n_estimators=750, max_depth=15, learning_rate=0.971, total=   5.0s\n",
      "[CV] use_label_encoder=False, n_estimators=750, max_depth=15, learning_rate=0.971 \n",
      "[CV]  use_label_encoder=False, n_estimators=750, max_depth=15, learning_rate=0.971, total=   4.9s\n",
      "[CV] use_label_encoder=False, n_estimators=750, max_depth=15, learning_rate=0.971 \n",
      "[CV]  use_label_encoder=False, n_estimators=750, max_depth=15, learning_rate=0.971, total=   5.2s\n",
      "[CV] use_label_encoder=True, n_estimators=400, max_depth=50, learning_rate=0.646 \n",
      "[CV]  use_label_encoder=True, n_estimators=400, max_depth=50, learning_rate=0.646, total=   5.5s\n",
      "[CV] use_label_encoder=True, n_estimators=400, max_depth=50, learning_rate=0.646 \n",
      "[CV]  use_label_encoder=True, n_estimators=400, max_depth=50, learning_rate=0.646, total=   5.6s\n",
      "[CV] use_label_encoder=True, n_estimators=400, max_depth=50, learning_rate=0.646 \n",
      "[CV]  use_label_encoder=True, n_estimators=400, max_depth=50, learning_rate=0.646, total=   5.6s\n",
      "[CV] use_label_encoder=True, n_estimators=400, max_depth=50, learning_rate=0.646 \n",
      "[CV]  use_label_encoder=True, n_estimators=400, max_depth=50, learning_rate=0.646, total=   5.4s\n",
      "[CV] use_label_encoder=True, n_estimators=400, max_depth=50, learning_rate=0.646 \n",
      "[CV]  use_label_encoder=True, n_estimators=400, max_depth=50, learning_rate=0.646, total=   5.4s\n",
      "[CV] use_label_encoder=True, n_estimators=400, max_depth=50, learning_rate=0.646 \n",
      "[CV]  use_label_encoder=True, n_estimators=400, max_depth=50, learning_rate=0.646, total=   5.6s\n",
      "[CV] use_label_encoder=True, n_estimators=400, max_depth=50, learning_rate=0.646 \n",
      "[CV]  use_label_encoder=True, n_estimators=400, max_depth=50, learning_rate=0.646, total=   5.4s\n",
      "[CV] use_label_encoder=True, n_estimators=400, max_depth=50, learning_rate=0.646 \n",
      "[CV]  use_label_encoder=True, n_estimators=400, max_depth=50, learning_rate=0.646, total=   5.5s\n",
      "[CV] use_label_encoder=True, n_estimators=400, max_depth=50, learning_rate=0.646 \n",
      "[CV]  use_label_encoder=True, n_estimators=400, max_depth=50, learning_rate=0.646, total=   5.4s\n",
      "[CV] use_label_encoder=True, n_estimators=400, max_depth=50, learning_rate=0.646 \n",
      "[CV]  use_label_encoder=True, n_estimators=400, max_depth=50, learning_rate=0.646, total=   5.5s\n",
      "[CV] use_label_encoder=False, n_estimators=400, max_depth=75, learning_rate=0.36 \n",
      "[CV]  use_label_encoder=False, n_estimators=400, max_depth=75, learning_rate=0.36, total=  10.5s\n",
      "[CV] use_label_encoder=False, n_estimators=400, max_depth=75, learning_rate=0.36 \n",
      "[CV]  use_label_encoder=False, n_estimators=400, max_depth=75, learning_rate=0.36, total=  10.2s\n",
      "[CV] use_label_encoder=False, n_estimators=400, max_depth=75, learning_rate=0.36 \n",
      "[CV]  use_label_encoder=False, n_estimators=400, max_depth=75, learning_rate=0.36, total=  11.0s\n",
      "[CV] use_label_encoder=False, n_estimators=400, max_depth=75, learning_rate=0.36 \n",
      "[CV]  use_label_encoder=False, n_estimators=400, max_depth=75, learning_rate=0.36, total=  10.6s\n",
      "[CV] use_label_encoder=False, n_estimators=400, max_depth=75, learning_rate=0.36 \n",
      "[CV]  use_label_encoder=False, n_estimators=400, max_depth=75, learning_rate=0.36, total=  11.3s\n",
      "[CV] use_label_encoder=False, n_estimators=400, max_depth=75, learning_rate=0.36 \n",
      "[CV]  use_label_encoder=False, n_estimators=400, max_depth=75, learning_rate=0.36, total=  10.4s\n",
      "[CV] use_label_encoder=False, n_estimators=400, max_depth=75, learning_rate=0.36 \n",
      "[CV]  use_label_encoder=False, n_estimators=400, max_depth=75, learning_rate=0.36, total=  10.5s\n",
      "[CV] use_label_encoder=False, n_estimators=400, max_depth=75, learning_rate=0.36 \n",
      "[CV]  use_label_encoder=False, n_estimators=400, max_depth=75, learning_rate=0.36, total=   9.9s\n",
      "[CV] use_label_encoder=False, n_estimators=400, max_depth=75, learning_rate=0.36 \n",
      "[CV]  use_label_encoder=False, n_estimators=400, max_depth=75, learning_rate=0.36, total=  11.4s\n",
      "[CV] use_label_encoder=False, n_estimators=400, max_depth=75, learning_rate=0.36 \n",
      "[CV]  use_label_encoder=False, n_estimators=400, max_depth=75, learning_rate=0.36, total=  10.8s\n",
      "[CV] use_label_encoder=True, n_estimators=150, max_depth=45, learning_rate=0.449 \n",
      "[CV]  use_label_encoder=True, n_estimators=150, max_depth=45, learning_rate=0.449, total=   7.7s\n",
      "[CV] use_label_encoder=True, n_estimators=150, max_depth=45, learning_rate=0.449 \n",
      "[CV]  use_label_encoder=True, n_estimators=150, max_depth=45, learning_rate=0.449, total=   7.5s\n",
      "[CV] use_label_encoder=True, n_estimators=150, max_depth=45, learning_rate=0.449 \n",
      "[CV]  use_label_encoder=True, n_estimators=150, max_depth=45, learning_rate=0.449, total=   7.7s\n",
      "[CV] use_label_encoder=True, n_estimators=150, max_depth=45, learning_rate=0.449 \n",
      "[CV]  use_label_encoder=True, n_estimators=150, max_depth=45, learning_rate=0.449, total=   7.8s\n",
      "[CV] use_label_encoder=True, n_estimators=150, max_depth=45, learning_rate=0.449 \n",
      "[CV]  use_label_encoder=True, n_estimators=150, max_depth=45, learning_rate=0.449, total=   7.5s\n",
      "[CV] use_label_encoder=True, n_estimators=150, max_depth=45, learning_rate=0.449 \n",
      "[CV]  use_label_encoder=True, n_estimators=150, max_depth=45, learning_rate=0.449, total=   7.7s\n",
      "[CV] use_label_encoder=True, n_estimators=150, max_depth=45, learning_rate=0.449 \n",
      "[CV]  use_label_encoder=True, n_estimators=150, max_depth=45, learning_rate=0.449, total=   8.0s\n",
      "[CV] use_label_encoder=True, n_estimators=150, max_depth=45, learning_rate=0.449 \n",
      "[CV]  use_label_encoder=True, n_estimators=150, max_depth=45, learning_rate=0.449, total=   8.7s\n",
      "[CV] use_label_encoder=True, n_estimators=150, max_depth=45, learning_rate=0.449 \n",
      "[CV]  use_label_encoder=True, n_estimators=150, max_depth=45, learning_rate=0.449, total=   7.7s\n",
      "[CV] use_label_encoder=True, n_estimators=150, max_depth=45, learning_rate=0.449 \n",
      "[CV]  use_label_encoder=True, n_estimators=150, max_depth=45, learning_rate=0.449, total=   7.7s\n",
      "[CV] use_label_encoder=True, n_estimators=950, max_depth=35, learning_rate=0.375 \n",
      "[CV]  use_label_encoder=True, n_estimators=950, max_depth=35, learning_rate=0.375, total=  10.9s\n",
      "[CV] use_label_encoder=True, n_estimators=950, max_depth=35, learning_rate=0.375 \n",
      "[CV]  use_label_encoder=True, n_estimators=950, max_depth=35, learning_rate=0.375, total=  11.0s\n",
      "[CV] use_label_encoder=True, n_estimators=950, max_depth=35, learning_rate=0.375 \n",
      "[CV]  use_label_encoder=True, n_estimators=950, max_depth=35, learning_rate=0.375, total=  10.9s\n",
      "[CV] use_label_encoder=True, n_estimators=950, max_depth=35, learning_rate=0.375 \n",
      "[CV]  use_label_encoder=True, n_estimators=950, max_depth=35, learning_rate=0.375, total=  11.0s\n",
      "[CV] use_label_encoder=True, n_estimators=950, max_depth=35, learning_rate=0.375 \n",
      "[CV]  use_label_encoder=True, n_estimators=950, max_depth=35, learning_rate=0.375, total=  10.6s\n",
      "[CV] use_label_encoder=True, n_estimators=950, max_depth=35, learning_rate=0.375 \n",
      "[CV]  use_label_encoder=True, n_estimators=950, max_depth=35, learning_rate=0.375, total=  10.8s\n",
      "[CV] use_label_encoder=True, n_estimators=950, max_depth=35, learning_rate=0.375 \n",
      "[CV]  use_label_encoder=True, n_estimators=950, max_depth=35, learning_rate=0.375, total=  11.1s\n",
      "[CV] use_label_encoder=True, n_estimators=950, max_depth=35, learning_rate=0.375 \n",
      "[CV]  use_label_encoder=True, n_estimators=950, max_depth=35, learning_rate=0.375, total=  10.9s\n",
      "[CV] use_label_encoder=True, n_estimators=950, max_depth=35, learning_rate=0.375 \n",
      "[CV]  use_label_encoder=True, n_estimators=950, max_depth=35, learning_rate=0.375, total=  11.1s\n",
      "[CV] use_label_encoder=True, n_estimators=950, max_depth=35, learning_rate=0.375 \n",
      "[CV]  use_label_encoder=True, n_estimators=950, max_depth=35, learning_rate=0.375, total=  11.1s\n",
      "[CV] use_label_encoder=True, n_estimators=750, max_depth=75, learning_rate=0.1 \n",
      "[CV]  use_label_encoder=True, n_estimators=750, max_depth=75, learning_rate=0.1, total=  43.9s\n",
      "[CV] use_label_encoder=True, n_estimators=750, max_depth=75, learning_rate=0.1 \n",
      "[CV]  use_label_encoder=True, n_estimators=750, max_depth=75, learning_rate=0.1, total=  45.5s\n",
      "[CV] use_label_encoder=True, n_estimators=750, max_depth=75, learning_rate=0.1 \n",
      "[CV]  use_label_encoder=True, n_estimators=750, max_depth=75, learning_rate=0.1, total=  45.7s\n",
      "[CV] use_label_encoder=True, n_estimators=750, max_depth=75, learning_rate=0.1 \n"
     ]
    },
    {
     "name": "stdout",
     "output_type": "stream",
     "text": [
      "[CV]  use_label_encoder=True, n_estimators=750, max_depth=75, learning_rate=0.1, total=  43.8s\n",
      "[CV] use_label_encoder=True, n_estimators=750, max_depth=75, learning_rate=0.1 \n",
      "[CV]  use_label_encoder=True, n_estimators=750, max_depth=75, learning_rate=0.1, total=  43.2s\n",
      "[CV] use_label_encoder=True, n_estimators=750, max_depth=75, learning_rate=0.1 \n",
      "[CV]  use_label_encoder=True, n_estimators=750, max_depth=75, learning_rate=0.1, total=  45.4s\n",
      "[CV] use_label_encoder=True, n_estimators=750, max_depth=75, learning_rate=0.1 \n",
      "[CV]  use_label_encoder=True, n_estimators=750, max_depth=75, learning_rate=0.1, total=  47.1s\n",
      "[CV] use_label_encoder=True, n_estimators=750, max_depth=75, learning_rate=0.1 \n",
      "[CV]  use_label_encoder=True, n_estimators=750, max_depth=75, learning_rate=0.1, total=  46.7s\n",
      "[CV] use_label_encoder=True, n_estimators=750, max_depth=75, learning_rate=0.1 \n",
      "[CV]  use_label_encoder=True, n_estimators=750, max_depth=75, learning_rate=0.1, total=  47.2s\n",
      "[CV] use_label_encoder=True, n_estimators=750, max_depth=75, learning_rate=0.1 \n",
      "[CV]  use_label_encoder=True, n_estimators=750, max_depth=75, learning_rate=0.1, total=  48.0s\n"
     ]
    },
    {
     "name": "stderr",
     "output_type": "stream",
     "text": [
      "[Parallel(n_jobs=1)]: Done 100 out of 100 | elapsed: 18.0min finished\n"
     ]
    },
    {
     "data": {
      "text/plain": [
       "{'use_label_encoder': True,\n",
       " 'n_estimators': 50,\n",
       " 'max_depth': 15,\n",
       " 'learning_rate': 0.158}"
      ]
     },
     "execution_count": 41,
     "metadata": {},
     "output_type": "execute_result"
    }
   ],
   "source": [
    "xgbr = XGBRegressor()\n",
    "possible_parameter_values = {'n_estimators' : [int(x) for x in np.arange(start = 50, stop = 1001, step = 50)], \n",
    "                             'use_label_encoder' : [True, False], \n",
    "                             'max_depth' : [int(x) for x in np.arange(start = 5, stop = 101, step = 5)], \n",
    "                             'learning_rate' : [float(x)/1000 for x in np.arange(start = 1, stop = 1001, step = 1)]}\n",
    "xgbr_rscv = RandomizedSearchCV(estimator = xgbr, param_distributions = possible_parameter_values, cv = 10, scoring = 'neg_mean_squared_error', verbose = 2, \n",
    "                               random_state = 17, n_jobs = 1)\n",
    "xgbr_rscv.fit(X_train, y_train)\n",
    "xgbr_rscv.best_params_"
   ]
  },
  {
   "cell_type": "code",
   "execution_count": 42,
   "metadata": {
    "ExecuteTime": {
     "end_time": "2021-04-09T16:18:48.490624Z",
     "start_time": "2021-04-09T16:18:48.385934Z"
    }
   },
   "outputs": [
    {
     "name": "stdout",
     "output_type": "stream",
     "text": [
      "XGBoost Regressor:\n",
      "----------------------------------------------------------------------------------------------------\n",
      "Train r2_score:  0.9954155926736095\n",
      "Test r2_score:  0.49010348574639195\n",
      "----------------------------------------------------------------------------------------------------\n",
      "Train RMSE:  1.942477011321251\n",
      "Test RMSE:  20.989598773394167\n",
      "----------------------------------------------------------------------------------------------------\n",
      "Train MAPE:  0.007696522138562351\n",
      "Test MAPE:  0.09945668996057899\n"
     ]
    }
   ],
   "source": [
    "y_train_pred_xgbr = xgbr_rscv.predict(X_train)\n",
    "y_test_pred_xgbr = xgbr_rscv.predict(X_test)\n",
    "print('XGBoost Regressor:')\n",
    "print('-' * 100)\n",
    "print('Train r2_score: ', r2_score(y_train, y_train_pred_xgbr))\n",
    "print('Test r2_score: ', r2_score(y_test, y_test_pred_xgbr))\n",
    "print('-' * 100)\n",
    "print('Train RMSE: ', np.sqrt(mean_squared_error(y_train, y_train_pred_xgbr)))\n",
    "print('Test RMSE: ', np.sqrt(mean_squared_error(y_test, y_test_pred_xgbr)))\n",
    "print('-' * 100)\n",
    "print('Train MAPE: ', np.mean(mean_absolute_error(y_train, y_train_pred_xgbr) / y_train))\n",
    "print('Test MAPE: ', np.mean(mean_absolute_error(y_test, y_test_pred_xgbr) / y_test))"
   ]
  },
  {
   "cell_type": "code",
   "execution_count": 43,
   "metadata": {
    "ExecuteTime": {
     "end_time": "2021-04-09T16:18:55.310465Z",
     "start_time": "2021-04-09T16:18:55.140220Z"
    },
    "scrolled": true
   },
   "outputs": [
    {
     "data": {
      "text/plain": [
       "True     0.600449\n",
       "False    0.399551\n",
       "Name: Bool, dtype: float64"
      ]
     },
     "execution_count": 43,
     "metadata": {},
     "output_type": "execute_result"
    }
   ],
   "source": [
    "data_xgbr = pd.DataFrame()\n",
    "data_xgbr['actual'] = y_test\n",
    "data_xgbr['predicted'] = y_test_pred_xgbr\n",
    "data_xgbr['lower range'] = y_test_pred_xgbr - (0.09945668996057899 * y_test_pred_xgbr)\n",
    "data_xgbr['upper range'] = y_test_pred_xgbr + (0.09945668996057899 * y_test_pred_xgbr)\n",
    "t_list = []\n",
    "for i in data_xgbr.index:\n",
    "    if data_xgbr['actual'][i] > data_xgbr['lower range'][i]:\n",
    "        if data_xgbr['actual'][i] < data_xgbr['upper range'][i]:\n",
    "            t_list.append('True')\n",
    "        else:\n",
    "            t_list.append('False')\n",
    "    else:\n",
    "        t_list.append('False')\n",
    "data_xgbr['Bool'] = t_list\n",
    "data_xgbr['Bool'].value_counts()/data_xgbr.shape[0]"
   ]
  },
  {
   "cell_type": "code",
   "execution_count": null,
   "metadata": {},
   "outputs": [],
   "source": [
    "'runs', 'wickets', 'overs', 'runs_last_5', 'wickets_last_5', 'total', 'year', 'bat_team_Deccan Chargers', 'bat_team_Delhi Capitals', 'bat_team_Gujarat Lions', \n",
    "'bat_team_Kings XI Punjab', 'bat_team_Kolkata Knight Riders', 'bat_team_Mumbai Indians', 'bat_team_Pune Warriors', \n",
    "'bat_team_Rajasthan Royals', 'bat_team_Rising Pune Supergiant', 'bat_team_Royal Challengers Bangalore', 'bat_team_Sunrisers Hyderabad', \n",
    "'bowl_team_Deccan Chargers', 'bowl_team_Delhi Capitals', 'bowl_team_Gujarat Lions', 'bowl_team_Kings XI Punjab', 'bowl_team_Kolkata Knight Riders', \n",
    "'bowl_team_Mumbai Indians', 'bowl_team_Pune Warriors', 'bowl_team_Rajasthan Royals', 'bowl_team_Rising Pune Supergiant', 'bowl_team_Royal Challengers Bangalore', \n",
    "'bowl_team_Sunrisers Hyderabad', 'venue_Brabourne Stadium', 'venue_Dr. Y.S. Rajasekhara Reddy ACA-VDCA Cricket Stadium', \n",
    "'venue_Dubai International Cricket Stadium', 'venue_Eden Gardens', 'venue_Feroz Shah Kotla', 'venue_Green Park', \n",
    "'venue_Himachal Pradesh Cricket Association Stadium', 'venue_Holkar Cricket Stadium', 'venue_JSCA International Stadium Complex', \n",
    "'venue_M Chinnaswamy Stadium', 'venue_MA Chidambaram Stadium, Chepauk', 'venue_Maharashtra Cricket Association Stadium', \n",
    "'venue_Punjab Cricket Association Stadium, Mohali', 'venue_Rajiv Gandhi International Stadium, Uppal', 'venue_Sardar Patel Stadium, Motera', \n",
    "'venue_Saurashtra Cricket Association Stadium', 'venue_Sawai Mansingh Stadium', 'venue_Shaheed Veer Narayan Singh International Stadium', \n",
    "'venue_Sharjah Cricket Stadium', 'venue_Sheikh Zayed Stadium', 'venue_Subrata Roy Sahara Stadium', 'venue_Wankhede Stadium'"
   ]
  },
  {
   "cell_type": "code",
   "execution_count": 49,
   "metadata": {
    "ExecuteTime": {
     "end_time": "2021-04-09T16:31:18.802222Z",
     "start_time": "2021-04-09T16:31:18.796265Z"
    }
   },
   "outputs": [],
   "source": [
    "arr = np.array([86, 1, 10, 56, 0, 0, 0, 0, 0, 0, 1, 0, 0, 0, 0, 0, 0, 0, 0, 0, 0, 0, 0, 0, 0, 1, 0, 0, 0, 0, 0, 0, 0, 0, 0, 0, 0, 1, 0, 0, 0, 0, 0, 0, 0, 0, 0, 0, 0])"
   ]
  },
  {
   "cell_type": "code",
   "execution_count": 50,
   "metadata": {
    "ExecuteTime": {
     "end_time": "2021-04-09T16:31:19.039287Z",
     "start_time": "2021-04-09T16:31:19.035328Z"
    }
   },
   "outputs": [],
   "source": [
    "arr = arr.reshape(1, -1)"
   ]
  },
  {
   "cell_type": "code",
   "execution_count": 51,
   "metadata": {
    "ExecuteTime": {
     "end_time": "2021-04-09T16:31:19.243806Z",
     "start_time": "2021-04-09T16:31:19.234801Z"
    }
   },
   "outputs": [
    {
     "data": {
      "text/plain": [
       "184.25"
      ]
     },
     "execution_count": 51,
     "metadata": {},
     "output_type": "execute_result"
    }
   ],
   "source": [
    "s = knr_rscv.predict(arr)[0]\n",
    "s"
   ]
  },
  {
   "cell_type": "code",
   "execution_count": 52,
   "metadata": {
    "ExecuteTime": {
     "end_time": "2021-04-09T16:31:19.922285Z",
     "start_time": "2021-04-09T16:31:19.915307Z"
    }
   },
   "outputs": [
    {
     "data": {
      "text/plain": [
       "167.32615964988702"
      ]
     },
     "execution_count": 52,
     "metadata": {},
     "output_type": "execute_result"
    }
   ],
   "source": [
    "s - (0.09185259348772307 * s)"
   ]
  },
  {
   "cell_type": "code",
   "execution_count": 53,
   "metadata": {
    "ExecuteTime": {
     "end_time": "2021-04-09T16:31:20.744143Z",
     "start_time": "2021-04-09T16:31:20.723204Z"
    }
   },
   "outputs": [
    {
     "data": {
      "text/plain": [
       "201.17384035011298"
      ]
     },
     "execution_count": 53,
     "metadata": {},
     "output_type": "execute_result"
    }
   ],
   "source": [
    "s + (0.09185259348772307 * s)"
   ]
  },
  {
   "cell_type": "code",
   "execution_count": null,
   "metadata": {},
   "outputs": [],
   "source": []
  }
 ],
 "metadata": {
  "kernelspec": {
   "display_name": "Python 3",
   "language": "python",
   "name": "python3"
  },
  "language_info": {
   "codemirror_mode": {
    "name": "ipython",
    "version": 3
   },
   "file_extension": ".py",
   "mimetype": "text/x-python",
   "name": "python",
   "nbconvert_exporter": "python",
   "pygments_lexer": "ipython3",
   "version": "3.8.5"
  }
 },
 "nbformat": 4,
 "nbformat_minor": 4
}
