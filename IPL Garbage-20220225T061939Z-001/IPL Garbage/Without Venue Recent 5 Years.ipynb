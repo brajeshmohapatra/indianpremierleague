{
 "cells": [
  {
   "cell_type": "code",
   "execution_count": 1,
   "metadata": {
    "ExecuteTime": {
     "end_time": "2021-04-11T15:04:47.347851Z",
     "start_time": "2021-04-11T15:04:44.833014Z"
    }
   },
   "outputs": [
    {
     "data": {
      "text/html": [
       "<style>.container{width : 100% ! important;}</style>"
      ],
      "text/plain": [
       "<IPython.core.display.HTML object>"
      ]
     },
     "metadata": {},
     "output_type": "display_data"
    },
    {
     "name": "stdout",
     "output_type": "stream",
     "text": [
      "Libraries imported successfully!!\n"
     ]
    }
   ],
   "source": [
    "import warnings\n",
    "import numpy as np\n",
    "import pandas as pd\n",
    "import seaborn as sns\n",
    "import matplotlib.pyplot as plt\n",
    "from sklearn.svm import SVR\n",
    "from xgboost import XGBRegressor\n",
    "from datetime import date, datetime\n",
    "from sklearn.impute import SimpleImputer\n",
    "from IPython.core.display import display, HTML\n",
    "from sklearn.tree import DecisionTreeRegressor\n",
    "from sklearn.neighbors import KNeighborsRegressor\n",
    "from sklearn.preprocessing import StandardScaler, LabelEncoder\n",
    "from sklearn.linear_model import Lasso, LinearRegression, Ridge\n",
    "from sklearn.model_selection import RandomizedSearchCV, train_test_split\n",
    "from sklearn.metrics import r2_score, mean_squared_error, mean_absolute_error\n",
    "from sklearn.ensemble import RandomForestRegressor, AdaBoostRegressor, GradientBoostingRegressor\n",
    "%matplotlib inline\n",
    "warnings.filterwarnings('ignore')\n",
    "pd.pandas.set_option('display.max_rows', None)\n",
    "pd.pandas.set_option('display.max_columns', None)\n",
    "display(HTML('<style>.container{width : 100% ! important;}</style>'))\n",
    "print('Libraries imported successfully!!')"
   ]
  },
  {
   "cell_type": "code",
   "execution_count": 2,
   "metadata": {
    "ExecuteTime": {
     "end_time": "2021-04-11T15:04:47.868817Z",
     "start_time": "2021-04-11T15:04:47.347851Z"
    }
   },
   "outputs": [
    {
     "data": {
      "text/html": [
       "<div>\n",
       "<style scoped>\n",
       "    .dataframe tbody tr th:only-of-type {\n",
       "        vertical-align: middle;\n",
       "    }\n",
       "\n",
       "    .dataframe tbody tr th {\n",
       "        vertical-align: top;\n",
       "    }\n",
       "\n",
       "    .dataframe thead th {\n",
       "        text-align: right;\n",
       "    }\n",
       "</style>\n",
       "<table border=\"1\" class=\"dataframe\">\n",
       "  <thead>\n",
       "    <tr style=\"text-align: right;\">\n",
       "      <th></th>\n",
       "      <th>mid</th>\n",
       "      <th>date</th>\n",
       "      <th>venue</th>\n",
       "      <th>bat_team</th>\n",
       "      <th>bowl_team</th>\n",
       "      <th>batsman</th>\n",
       "      <th>bowler</th>\n",
       "      <th>runs</th>\n",
       "      <th>wickets</th>\n",
       "      <th>overs</th>\n",
       "      <th>runs_last_5</th>\n",
       "      <th>wickets_last_5</th>\n",
       "      <th>striker</th>\n",
       "      <th>non-striker</th>\n",
       "      <th>total</th>\n",
       "    </tr>\n",
       "  </thead>\n",
       "  <tbody>\n",
       "    <tr>\n",
       "      <th>0</th>\n",
       "      <td>1</td>\n",
       "      <td>18-04-2008</td>\n",
       "      <td>M Chinnaswamy Stadium</td>\n",
       "      <td>Kolkata Knight Riders</td>\n",
       "      <td>Royal Challengers Bangalore</td>\n",
       "      <td>SC Ganguly</td>\n",
       "      <td>P Kumar</td>\n",
       "      <td>1</td>\n",
       "      <td>0</td>\n",
       "      <td>0.1</td>\n",
       "      <td>1</td>\n",
       "      <td>0</td>\n",
       "      <td>0</td>\n",
       "      <td>0</td>\n",
       "      <td>222</td>\n",
       "    </tr>\n",
       "    <tr>\n",
       "      <th>1</th>\n",
       "      <td>1</td>\n",
       "      <td>18-04-2008</td>\n",
       "      <td>M Chinnaswamy Stadium</td>\n",
       "      <td>Kolkata Knight Riders</td>\n",
       "      <td>Royal Challengers Bangalore</td>\n",
       "      <td>BB McCullum</td>\n",
       "      <td>P Kumar</td>\n",
       "      <td>1</td>\n",
       "      <td>0</td>\n",
       "      <td>0.2</td>\n",
       "      <td>1</td>\n",
       "      <td>0</td>\n",
       "      <td>0</td>\n",
       "      <td>0</td>\n",
       "      <td>222</td>\n",
       "    </tr>\n",
       "    <tr>\n",
       "      <th>2</th>\n",
       "      <td>1</td>\n",
       "      <td>18-04-2008</td>\n",
       "      <td>M Chinnaswamy Stadium</td>\n",
       "      <td>Kolkata Knight Riders</td>\n",
       "      <td>Royal Challengers Bangalore</td>\n",
       "      <td>BB McCullum</td>\n",
       "      <td>P Kumar</td>\n",
       "      <td>2</td>\n",
       "      <td>0</td>\n",
       "      <td>0.2</td>\n",
       "      <td>2</td>\n",
       "      <td>0</td>\n",
       "      <td>0</td>\n",
       "      <td>0</td>\n",
       "      <td>222</td>\n",
       "    </tr>\n",
       "    <tr>\n",
       "      <th>3</th>\n",
       "      <td>1</td>\n",
       "      <td>18-04-2008</td>\n",
       "      <td>M Chinnaswamy Stadium</td>\n",
       "      <td>Kolkata Knight Riders</td>\n",
       "      <td>Royal Challengers Bangalore</td>\n",
       "      <td>BB McCullum</td>\n",
       "      <td>P Kumar</td>\n",
       "      <td>2</td>\n",
       "      <td>0</td>\n",
       "      <td>0.3</td>\n",
       "      <td>2</td>\n",
       "      <td>0</td>\n",
       "      <td>0</td>\n",
       "      <td>0</td>\n",
       "      <td>222</td>\n",
       "    </tr>\n",
       "    <tr>\n",
       "      <th>4</th>\n",
       "      <td>1</td>\n",
       "      <td>18-04-2008</td>\n",
       "      <td>M Chinnaswamy Stadium</td>\n",
       "      <td>Kolkata Knight Riders</td>\n",
       "      <td>Royal Challengers Bangalore</td>\n",
       "      <td>BB McCullum</td>\n",
       "      <td>P Kumar</td>\n",
       "      <td>2</td>\n",
       "      <td>0</td>\n",
       "      <td>0.4</td>\n",
       "      <td>2</td>\n",
       "      <td>0</td>\n",
       "      <td>0</td>\n",
       "      <td>0</td>\n",
       "      <td>222</td>\n",
       "    </tr>\n",
       "  </tbody>\n",
       "</table>\n",
       "</div>"
      ],
      "text/plain": [
       "   mid        date                  venue               bat_team  \\\n",
       "0    1  18-04-2008  M Chinnaswamy Stadium  Kolkata Knight Riders   \n",
       "1    1  18-04-2008  M Chinnaswamy Stadium  Kolkata Knight Riders   \n",
       "2    1  18-04-2008  M Chinnaswamy Stadium  Kolkata Knight Riders   \n",
       "3    1  18-04-2008  M Chinnaswamy Stadium  Kolkata Knight Riders   \n",
       "4    1  18-04-2008  M Chinnaswamy Stadium  Kolkata Knight Riders   \n",
       "\n",
       "                     bowl_team      batsman   bowler  runs  wickets  overs  \\\n",
       "0  Royal Challengers Bangalore   SC Ganguly  P Kumar     1        0    0.1   \n",
       "1  Royal Challengers Bangalore  BB McCullum  P Kumar     1        0    0.2   \n",
       "2  Royal Challengers Bangalore  BB McCullum  P Kumar     2        0    0.2   \n",
       "3  Royal Challengers Bangalore  BB McCullum  P Kumar     2        0    0.3   \n",
       "4  Royal Challengers Bangalore  BB McCullum  P Kumar     2        0    0.4   \n",
       "\n",
       "   runs_last_5  wickets_last_5  striker  non-striker  total  \n",
       "0            1               0        0            0    222  \n",
       "1            1               0        0            0    222  \n",
       "2            2               0        0            0    222  \n",
       "3            2               0        0            0    222  \n",
       "4            2               0        0            0    222  "
      ]
     },
     "execution_count": 2,
     "metadata": {},
     "output_type": "execute_result"
    }
   ],
   "source": [
    "db = pd.read_csv('iplav.csv')\n",
    "db.head()"
   ]
  },
  {
   "cell_type": "code",
   "execution_count": 3,
   "metadata": {
    "ExecuteTime": {
     "end_time": "2021-04-11T15:04:47.884821Z",
     "start_time": "2021-04-11T15:04:47.868817Z"
    }
   },
   "outputs": [],
   "source": [
    "db.drop(['mid', 'venue', 'batsman', 'bowler', 'striker', 'non-striker'], axis = 1, inplace = True)"
   ]
  },
  {
   "cell_type": "code",
   "execution_count": 4,
   "metadata": {
    "ExecuteTime": {
     "end_time": "2021-04-11T15:04:47.900819Z",
     "start_time": "2021-04-11T15:04:47.884821Z"
    }
   },
   "outputs": [
    {
     "data": {
      "text/html": [
       "<div>\n",
       "<style scoped>\n",
       "    .dataframe tbody tr th:only-of-type {\n",
       "        vertical-align: middle;\n",
       "    }\n",
       "\n",
       "    .dataframe tbody tr th {\n",
       "        vertical-align: top;\n",
       "    }\n",
       "\n",
       "    .dataframe thead th {\n",
       "        text-align: right;\n",
       "    }\n",
       "</style>\n",
       "<table border=\"1\" class=\"dataframe\">\n",
       "  <thead>\n",
       "    <tr style=\"text-align: right;\">\n",
       "      <th></th>\n",
       "      <th>date</th>\n",
       "      <th>bat_team</th>\n",
       "      <th>bowl_team</th>\n",
       "      <th>runs</th>\n",
       "      <th>wickets</th>\n",
       "      <th>overs</th>\n",
       "      <th>runs_last_5</th>\n",
       "      <th>wickets_last_5</th>\n",
       "      <th>total</th>\n",
       "    </tr>\n",
       "  </thead>\n",
       "  <tbody>\n",
       "    <tr>\n",
       "      <th>0</th>\n",
       "      <td>18-04-2008</td>\n",
       "      <td>Kolkata Knight Riders</td>\n",
       "      <td>Royal Challengers Bangalore</td>\n",
       "      <td>1</td>\n",
       "      <td>0</td>\n",
       "      <td>0.1</td>\n",
       "      <td>1</td>\n",
       "      <td>0</td>\n",
       "      <td>222</td>\n",
       "    </tr>\n",
       "    <tr>\n",
       "      <th>1</th>\n",
       "      <td>18-04-2008</td>\n",
       "      <td>Kolkata Knight Riders</td>\n",
       "      <td>Royal Challengers Bangalore</td>\n",
       "      <td>1</td>\n",
       "      <td>0</td>\n",
       "      <td>0.2</td>\n",
       "      <td>1</td>\n",
       "      <td>0</td>\n",
       "      <td>222</td>\n",
       "    </tr>\n",
       "    <tr>\n",
       "      <th>2</th>\n",
       "      <td>18-04-2008</td>\n",
       "      <td>Kolkata Knight Riders</td>\n",
       "      <td>Royal Challengers Bangalore</td>\n",
       "      <td>2</td>\n",
       "      <td>0</td>\n",
       "      <td>0.2</td>\n",
       "      <td>2</td>\n",
       "      <td>0</td>\n",
       "      <td>222</td>\n",
       "    </tr>\n",
       "    <tr>\n",
       "      <th>3</th>\n",
       "      <td>18-04-2008</td>\n",
       "      <td>Kolkata Knight Riders</td>\n",
       "      <td>Royal Challengers Bangalore</td>\n",
       "      <td>2</td>\n",
       "      <td>0</td>\n",
       "      <td>0.3</td>\n",
       "      <td>2</td>\n",
       "      <td>0</td>\n",
       "      <td>222</td>\n",
       "    </tr>\n",
       "    <tr>\n",
       "      <th>4</th>\n",
       "      <td>18-04-2008</td>\n",
       "      <td>Kolkata Knight Riders</td>\n",
       "      <td>Royal Challengers Bangalore</td>\n",
       "      <td>2</td>\n",
       "      <td>0</td>\n",
       "      <td>0.4</td>\n",
       "      <td>2</td>\n",
       "      <td>0</td>\n",
       "      <td>222</td>\n",
       "    </tr>\n",
       "  </tbody>\n",
       "</table>\n",
       "</div>"
      ],
      "text/plain": [
       "         date               bat_team                    bowl_team  runs  \\\n",
       "0  18-04-2008  Kolkata Knight Riders  Royal Challengers Bangalore     1   \n",
       "1  18-04-2008  Kolkata Knight Riders  Royal Challengers Bangalore     1   \n",
       "2  18-04-2008  Kolkata Knight Riders  Royal Challengers Bangalore     2   \n",
       "3  18-04-2008  Kolkata Knight Riders  Royal Challengers Bangalore     2   \n",
       "4  18-04-2008  Kolkata Knight Riders  Royal Challengers Bangalore     2   \n",
       "\n",
       "   wickets  overs  runs_last_5  wickets_last_5  total  \n",
       "0        0    0.1            1               0    222  \n",
       "1        0    0.2            1               0    222  \n",
       "2        0    0.2            2               0    222  \n",
       "3        0    0.3            2               0    222  \n",
       "4        0    0.4            2               0    222  "
      ]
     },
     "execution_count": 4,
     "metadata": {},
     "output_type": "execute_result"
    }
   ],
   "source": [
    "db.head()"
   ]
  },
  {
   "cell_type": "code",
   "execution_count": 5,
   "metadata": {
    "ExecuteTime": {
     "end_time": "2021-04-11T15:04:50.602182Z",
     "start_time": "2021-04-11T15:04:47.900819Z"
    }
   },
   "outputs": [],
   "source": [
    "db['yyyymmdd'] = db['date'].apply(lambda x : x.split()[0])\n",
    "db['year'] = db['yyyymmdd'].apply(lambda dateString : datetime.strptime(dateString,'%d-%m-%Y').year)\n",
    "db['month'] = db['yyyymmdd'].apply(lambda dateString : datetime.strptime(dateString,'%d-%m-%Y').month)\n",
    "db['date'] = db['yyyymmdd'].apply(lambda dateString : datetime.strptime(dateString,'%d-%m-%Y').day)\n",
    "db['day_number'] = db['yyyymmdd'].apply(lambda dateString : datetime.strptime(dateString,'%d-%m-%Y').weekday())\n",
    "db = db.drop(['yyyymmdd'], axis = 1)"
   ]
  },
  {
   "cell_type": "code",
   "execution_count": 6,
   "metadata": {
    "ExecuteTime": {
     "end_time": "2021-04-11T15:04:50.618518Z",
     "start_time": "2021-04-11T15:04:50.602182Z"
    }
   },
   "outputs": [
    {
     "data": {
      "text/html": [
       "<div>\n",
       "<style scoped>\n",
       "    .dataframe tbody tr th:only-of-type {\n",
       "        vertical-align: middle;\n",
       "    }\n",
       "\n",
       "    .dataframe tbody tr th {\n",
       "        vertical-align: top;\n",
       "    }\n",
       "\n",
       "    .dataframe thead th {\n",
       "        text-align: right;\n",
       "    }\n",
       "</style>\n",
       "<table border=\"1\" class=\"dataframe\">\n",
       "  <thead>\n",
       "    <tr style=\"text-align: right;\">\n",
       "      <th></th>\n",
       "      <th>date</th>\n",
       "      <th>bat_team</th>\n",
       "      <th>bowl_team</th>\n",
       "      <th>runs</th>\n",
       "      <th>wickets</th>\n",
       "      <th>overs</th>\n",
       "      <th>runs_last_5</th>\n",
       "      <th>wickets_last_5</th>\n",
       "      <th>total</th>\n",
       "      <th>year</th>\n",
       "      <th>month</th>\n",
       "      <th>day_number</th>\n",
       "    </tr>\n",
       "  </thead>\n",
       "  <tbody>\n",
       "    <tr>\n",
       "      <th>0</th>\n",
       "      <td>18</td>\n",
       "      <td>Kolkata Knight Riders</td>\n",
       "      <td>Royal Challengers Bangalore</td>\n",
       "      <td>1</td>\n",
       "      <td>0</td>\n",
       "      <td>0.1</td>\n",
       "      <td>1</td>\n",
       "      <td>0</td>\n",
       "      <td>222</td>\n",
       "      <td>2008</td>\n",
       "      <td>4</td>\n",
       "      <td>4</td>\n",
       "    </tr>\n",
       "    <tr>\n",
       "      <th>1</th>\n",
       "      <td>18</td>\n",
       "      <td>Kolkata Knight Riders</td>\n",
       "      <td>Royal Challengers Bangalore</td>\n",
       "      <td>1</td>\n",
       "      <td>0</td>\n",
       "      <td>0.2</td>\n",
       "      <td>1</td>\n",
       "      <td>0</td>\n",
       "      <td>222</td>\n",
       "      <td>2008</td>\n",
       "      <td>4</td>\n",
       "      <td>4</td>\n",
       "    </tr>\n",
       "    <tr>\n",
       "      <th>2</th>\n",
       "      <td>18</td>\n",
       "      <td>Kolkata Knight Riders</td>\n",
       "      <td>Royal Challengers Bangalore</td>\n",
       "      <td>2</td>\n",
       "      <td>0</td>\n",
       "      <td>0.2</td>\n",
       "      <td>2</td>\n",
       "      <td>0</td>\n",
       "      <td>222</td>\n",
       "      <td>2008</td>\n",
       "      <td>4</td>\n",
       "      <td>4</td>\n",
       "    </tr>\n",
       "    <tr>\n",
       "      <th>3</th>\n",
       "      <td>18</td>\n",
       "      <td>Kolkata Knight Riders</td>\n",
       "      <td>Royal Challengers Bangalore</td>\n",
       "      <td>2</td>\n",
       "      <td>0</td>\n",
       "      <td>0.3</td>\n",
       "      <td>2</td>\n",
       "      <td>0</td>\n",
       "      <td>222</td>\n",
       "      <td>2008</td>\n",
       "      <td>4</td>\n",
       "      <td>4</td>\n",
       "    </tr>\n",
       "    <tr>\n",
       "      <th>4</th>\n",
       "      <td>18</td>\n",
       "      <td>Kolkata Knight Riders</td>\n",
       "      <td>Royal Challengers Bangalore</td>\n",
       "      <td>2</td>\n",
       "      <td>0</td>\n",
       "      <td>0.4</td>\n",
       "      <td>2</td>\n",
       "      <td>0</td>\n",
       "      <td>222</td>\n",
       "      <td>2008</td>\n",
       "      <td>4</td>\n",
       "      <td>4</td>\n",
       "    </tr>\n",
       "  </tbody>\n",
       "</table>\n",
       "</div>"
      ],
      "text/plain": [
       "   date               bat_team                    bowl_team  runs  wickets  \\\n",
       "0    18  Kolkata Knight Riders  Royal Challengers Bangalore     1        0   \n",
       "1    18  Kolkata Knight Riders  Royal Challengers Bangalore     1        0   \n",
       "2    18  Kolkata Knight Riders  Royal Challengers Bangalore     2        0   \n",
       "3    18  Kolkata Knight Riders  Royal Challengers Bangalore     2        0   \n",
       "4    18  Kolkata Knight Riders  Royal Challengers Bangalore     2        0   \n",
       "\n",
       "   overs  runs_last_5  wickets_last_5  total  year  month  day_number  \n",
       "0    0.1            1               0    222  2008      4           4  \n",
       "1    0.2            1               0    222  2008      4           4  \n",
       "2    0.2            2               0    222  2008      4           4  \n",
       "3    0.3            2               0    222  2008      4           4  \n",
       "4    0.4            2               0    222  2008      4           4  "
      ]
     },
     "execution_count": 6,
     "metadata": {},
     "output_type": "execute_result"
    }
   ],
   "source": [
    "db.head()"
   ]
  },
  {
   "cell_type": "code",
   "execution_count": 7,
   "metadata": {
    "ExecuteTime": {
     "end_time": "2021-04-11T15:04:50.943251Z",
     "start_time": "2021-04-11T15:04:50.926809Z"
    }
   },
   "outputs": [
    {
     "data": {
      "text/plain": [
       "Index(['date', 'bat_team', 'bowl_team', 'runs', 'wickets', 'overs',\n",
       "       'runs_last_5', 'wickets_last_5', 'total', 'year', 'month',\n",
       "       'day_number'],\n",
       "      dtype='object')"
      ]
     },
     "execution_count": 7,
     "metadata": {},
     "output_type": "execute_result"
    }
   ],
   "source": [
    "db.columns"
   ]
  },
  {
   "cell_type": "code",
   "execution_count": 8,
   "metadata": {
    "ExecuteTime": {
     "end_time": "2021-04-11T15:04:51.479112Z",
     "start_time": "2021-04-11T15:04:51.419658Z"
    }
   },
   "outputs": [],
   "source": [
    "for col in ['bat_team', 'bowl_team']:\n",
    "    t_list = []\n",
    "    for i in db[col]:\n",
    "        if i == 'Delhi Daredevils':\n",
    "            t_list.append('Delhi Capitals')\n",
    "        elif i == 'Rising Pune Supergiants':\n",
    "            t_list.append('Rising Pune Supergiant')\n",
    "        else:\n",
    "            t_list.append(i)\n",
    "    db[col] = t_list"
   ]
  },
  {
   "cell_type": "code",
   "execution_count": 9,
   "metadata": {
    "ExecuteTime": {
     "end_time": "2021-04-11T15:04:51.917236Z",
     "start_time": "2021-04-11T15:04:51.871241Z"
    }
   },
   "outputs": [],
   "source": [
    "df = db[db['year'] >= 2012]\n",
    "df = df[df['overs'] >= 5.0]"
   ]
  },
  {
   "cell_type": "code",
   "execution_count": 10,
   "metadata": {
    "ExecuteTime": {
     "end_time": "2021-04-11T15:04:52.334767Z",
     "start_time": "2021-04-11T15:04:52.318343Z"
    }
   },
   "outputs": [
    {
     "data": {
      "text/html": [
       "<div>\n",
       "<style scoped>\n",
       "    .dataframe tbody tr th:only-of-type {\n",
       "        vertical-align: middle;\n",
       "    }\n",
       "\n",
       "    .dataframe tbody tr th {\n",
       "        vertical-align: top;\n",
       "    }\n",
       "\n",
       "    .dataframe thead th {\n",
       "        text-align: right;\n",
       "    }\n",
       "</style>\n",
       "<table border=\"1\" class=\"dataframe\">\n",
       "  <thead>\n",
       "    <tr style=\"text-align: right;\">\n",
       "      <th></th>\n",
       "      <th>date</th>\n",
       "      <th>bat_team</th>\n",
       "      <th>bowl_team</th>\n",
       "      <th>runs</th>\n",
       "      <th>wickets</th>\n",
       "      <th>overs</th>\n",
       "      <th>runs_last_5</th>\n",
       "      <th>wickets_last_5</th>\n",
       "      <th>total</th>\n",
       "      <th>year</th>\n",
       "      <th>month</th>\n",
       "      <th>day_number</th>\n",
       "    </tr>\n",
       "  </thead>\n",
       "  <tbody>\n",
       "    <tr>\n",
       "      <th>29594</th>\n",
       "      <td>4</td>\n",
       "      <td>Chennai Super Kings</td>\n",
       "      <td>Mumbai Indians</td>\n",
       "      <td>35</td>\n",
       "      <td>1</td>\n",
       "      <td>5.1</td>\n",
       "      <td>31</td>\n",
       "      <td>1</td>\n",
       "      <td>112</td>\n",
       "      <td>2012</td>\n",
       "      <td>4</td>\n",
       "      <td>2</td>\n",
       "    </tr>\n",
       "    <tr>\n",
       "      <th>29595</th>\n",
       "      <td>4</td>\n",
       "      <td>Chennai Super Kings</td>\n",
       "      <td>Mumbai Indians</td>\n",
       "      <td>36</td>\n",
       "      <td>1</td>\n",
       "      <td>5.2</td>\n",
       "      <td>32</td>\n",
       "      <td>0</td>\n",
       "      <td>112</td>\n",
       "      <td>2012</td>\n",
       "      <td>4</td>\n",
       "      <td>2</td>\n",
       "    </tr>\n",
       "    <tr>\n",
       "      <th>29596</th>\n",
       "      <td>4</td>\n",
       "      <td>Chennai Super Kings</td>\n",
       "      <td>Mumbai Indians</td>\n",
       "      <td>37</td>\n",
       "      <td>1</td>\n",
       "      <td>5.3</td>\n",
       "      <td>33</td>\n",
       "      <td>0</td>\n",
       "      <td>112</td>\n",
       "      <td>2012</td>\n",
       "      <td>4</td>\n",
       "      <td>2</td>\n",
       "    </tr>\n",
       "    <tr>\n",
       "      <th>29597</th>\n",
       "      <td>4</td>\n",
       "      <td>Chennai Super Kings</td>\n",
       "      <td>Mumbai Indians</td>\n",
       "      <td>38</td>\n",
       "      <td>1</td>\n",
       "      <td>5.4</td>\n",
       "      <td>33</td>\n",
       "      <td>0</td>\n",
       "      <td>112</td>\n",
       "      <td>2012</td>\n",
       "      <td>4</td>\n",
       "      <td>2</td>\n",
       "    </tr>\n",
       "    <tr>\n",
       "      <th>29598</th>\n",
       "      <td>4</td>\n",
       "      <td>Chennai Super Kings</td>\n",
       "      <td>Mumbai Indians</td>\n",
       "      <td>38</td>\n",
       "      <td>2</td>\n",
       "      <td>5.5</td>\n",
       "      <td>32</td>\n",
       "      <td>1</td>\n",
       "      <td>112</td>\n",
       "      <td>2012</td>\n",
       "      <td>4</td>\n",
       "      <td>2</td>\n",
       "    </tr>\n",
       "  </tbody>\n",
       "</table>\n",
       "</div>"
      ],
      "text/plain": [
       "       date             bat_team       bowl_team  runs  wickets  overs  \\\n",
       "29594     4  Chennai Super Kings  Mumbai Indians    35        1    5.1   \n",
       "29595     4  Chennai Super Kings  Mumbai Indians    36        1    5.2   \n",
       "29596     4  Chennai Super Kings  Mumbai Indians    37        1    5.3   \n",
       "29597     4  Chennai Super Kings  Mumbai Indians    38        1    5.4   \n",
       "29598     4  Chennai Super Kings  Mumbai Indians    38        2    5.5   \n",
       "\n",
       "       runs_last_5  wickets_last_5  total  year  month  day_number  \n",
       "29594           31               1    112  2012      4           2  \n",
       "29595           32               0    112  2012      4           2  \n",
       "29596           33               0    112  2012      4           2  \n",
       "29597           33               0    112  2012      4           2  \n",
       "29598           32               1    112  2012      4           2  "
      ]
     },
     "execution_count": 10,
     "metadata": {},
     "output_type": "execute_result"
    }
   ],
   "source": [
    "df.head()"
   ]
  },
  {
   "cell_type": "code",
   "execution_count": 11,
   "metadata": {
    "ExecuteTime": {
     "end_time": "2021-04-11T15:04:52.686454Z",
     "start_time": "2021-04-11T15:04:52.650991Z"
    }
   },
   "outputs": [],
   "source": [
    "dummy = ['bat_team', 'bowl_team']\n",
    "df_dummy = pd.get_dummies(df[dummy], prefix_sep = '_', drop_first = True)\n",
    "df = df.drop(dummy, axis = 1)\n",
    "df = pd.concat([df, df_dummy], axis = 1)"
   ]
  },
  {
   "cell_type": "code",
   "execution_count": 12,
   "metadata": {
    "ExecuteTime": {
     "end_time": "2021-04-11T15:04:53.028101Z",
     "start_time": "2021-04-11T15:04:53.009571Z"
    }
   },
   "outputs": [
    {
     "data": {
      "text/html": [
       "<div>\n",
       "<style scoped>\n",
       "    .dataframe tbody tr th:only-of-type {\n",
       "        vertical-align: middle;\n",
       "    }\n",
       "\n",
       "    .dataframe tbody tr th {\n",
       "        vertical-align: top;\n",
       "    }\n",
       "\n",
       "    .dataframe thead th {\n",
       "        text-align: right;\n",
       "    }\n",
       "</style>\n",
       "<table border=\"1\" class=\"dataframe\">\n",
       "  <thead>\n",
       "    <tr style=\"text-align: right;\">\n",
       "      <th></th>\n",
       "      <th>date</th>\n",
       "      <th>runs</th>\n",
       "      <th>wickets</th>\n",
       "      <th>overs</th>\n",
       "      <th>runs_last_5</th>\n",
       "      <th>wickets_last_5</th>\n",
       "      <th>total</th>\n",
       "      <th>year</th>\n",
       "      <th>month</th>\n",
       "      <th>day_number</th>\n",
       "      <th>bat_team_Deccan Chargers</th>\n",
       "      <th>bat_team_Delhi Capitals</th>\n",
       "      <th>bat_team_Gujarat Lions</th>\n",
       "      <th>bat_team_Kings XI Punjab</th>\n",
       "      <th>bat_team_Kolkata Knight Riders</th>\n",
       "      <th>bat_team_Mumbai Indians</th>\n",
       "      <th>bat_team_Pune Warriors</th>\n",
       "      <th>bat_team_Rajasthan Royals</th>\n",
       "      <th>bat_team_Rising Pune Supergiant</th>\n",
       "      <th>bat_team_Royal Challengers Bangalore</th>\n",
       "      <th>bat_team_Sunrisers Hyderabad</th>\n",
       "      <th>bowl_team_Deccan Chargers</th>\n",
       "      <th>bowl_team_Delhi Capitals</th>\n",
       "      <th>bowl_team_Gujarat Lions</th>\n",
       "      <th>bowl_team_Kings XI Punjab</th>\n",
       "      <th>bowl_team_Kolkata Knight Riders</th>\n",
       "      <th>bowl_team_Mumbai Indians</th>\n",
       "      <th>bowl_team_Pune Warriors</th>\n",
       "      <th>bowl_team_Rajasthan Royals</th>\n",
       "      <th>bowl_team_Rising Pune Supergiant</th>\n",
       "      <th>bowl_team_Royal Challengers Bangalore</th>\n",
       "      <th>bowl_team_Sunrisers Hyderabad</th>\n",
       "    </tr>\n",
       "  </thead>\n",
       "  <tbody>\n",
       "    <tr>\n",
       "      <th>29594</th>\n",
       "      <td>4</td>\n",
       "      <td>35</td>\n",
       "      <td>1</td>\n",
       "      <td>5.1</td>\n",
       "      <td>31</td>\n",
       "      <td>1</td>\n",
       "      <td>112</td>\n",
       "      <td>2012</td>\n",
       "      <td>4</td>\n",
       "      <td>2</td>\n",
       "      <td>0</td>\n",
       "      <td>0</td>\n",
       "      <td>0</td>\n",
       "      <td>0</td>\n",
       "      <td>0</td>\n",
       "      <td>0</td>\n",
       "      <td>0</td>\n",
       "      <td>0</td>\n",
       "      <td>0</td>\n",
       "      <td>0</td>\n",
       "      <td>0</td>\n",
       "      <td>0</td>\n",
       "      <td>0</td>\n",
       "      <td>0</td>\n",
       "      <td>0</td>\n",
       "      <td>0</td>\n",
       "      <td>1</td>\n",
       "      <td>0</td>\n",
       "      <td>0</td>\n",
       "      <td>0</td>\n",
       "      <td>0</td>\n",
       "      <td>0</td>\n",
       "    </tr>\n",
       "    <tr>\n",
       "      <th>29595</th>\n",
       "      <td>4</td>\n",
       "      <td>36</td>\n",
       "      <td>1</td>\n",
       "      <td>5.2</td>\n",
       "      <td>32</td>\n",
       "      <td>0</td>\n",
       "      <td>112</td>\n",
       "      <td>2012</td>\n",
       "      <td>4</td>\n",
       "      <td>2</td>\n",
       "      <td>0</td>\n",
       "      <td>0</td>\n",
       "      <td>0</td>\n",
       "      <td>0</td>\n",
       "      <td>0</td>\n",
       "      <td>0</td>\n",
       "      <td>0</td>\n",
       "      <td>0</td>\n",
       "      <td>0</td>\n",
       "      <td>0</td>\n",
       "      <td>0</td>\n",
       "      <td>0</td>\n",
       "      <td>0</td>\n",
       "      <td>0</td>\n",
       "      <td>0</td>\n",
       "      <td>0</td>\n",
       "      <td>1</td>\n",
       "      <td>0</td>\n",
       "      <td>0</td>\n",
       "      <td>0</td>\n",
       "      <td>0</td>\n",
       "      <td>0</td>\n",
       "    </tr>\n",
       "    <tr>\n",
       "      <th>29596</th>\n",
       "      <td>4</td>\n",
       "      <td>37</td>\n",
       "      <td>1</td>\n",
       "      <td>5.3</td>\n",
       "      <td>33</td>\n",
       "      <td>0</td>\n",
       "      <td>112</td>\n",
       "      <td>2012</td>\n",
       "      <td>4</td>\n",
       "      <td>2</td>\n",
       "      <td>0</td>\n",
       "      <td>0</td>\n",
       "      <td>0</td>\n",
       "      <td>0</td>\n",
       "      <td>0</td>\n",
       "      <td>0</td>\n",
       "      <td>0</td>\n",
       "      <td>0</td>\n",
       "      <td>0</td>\n",
       "      <td>0</td>\n",
       "      <td>0</td>\n",
       "      <td>0</td>\n",
       "      <td>0</td>\n",
       "      <td>0</td>\n",
       "      <td>0</td>\n",
       "      <td>0</td>\n",
       "      <td>1</td>\n",
       "      <td>0</td>\n",
       "      <td>0</td>\n",
       "      <td>0</td>\n",
       "      <td>0</td>\n",
       "      <td>0</td>\n",
       "    </tr>\n",
       "    <tr>\n",
       "      <th>29597</th>\n",
       "      <td>4</td>\n",
       "      <td>38</td>\n",
       "      <td>1</td>\n",
       "      <td>5.4</td>\n",
       "      <td>33</td>\n",
       "      <td>0</td>\n",
       "      <td>112</td>\n",
       "      <td>2012</td>\n",
       "      <td>4</td>\n",
       "      <td>2</td>\n",
       "      <td>0</td>\n",
       "      <td>0</td>\n",
       "      <td>0</td>\n",
       "      <td>0</td>\n",
       "      <td>0</td>\n",
       "      <td>0</td>\n",
       "      <td>0</td>\n",
       "      <td>0</td>\n",
       "      <td>0</td>\n",
       "      <td>0</td>\n",
       "      <td>0</td>\n",
       "      <td>0</td>\n",
       "      <td>0</td>\n",
       "      <td>0</td>\n",
       "      <td>0</td>\n",
       "      <td>0</td>\n",
       "      <td>1</td>\n",
       "      <td>0</td>\n",
       "      <td>0</td>\n",
       "      <td>0</td>\n",
       "      <td>0</td>\n",
       "      <td>0</td>\n",
       "    </tr>\n",
       "    <tr>\n",
       "      <th>29598</th>\n",
       "      <td>4</td>\n",
       "      <td>38</td>\n",
       "      <td>2</td>\n",
       "      <td>5.5</td>\n",
       "      <td>32</td>\n",
       "      <td>1</td>\n",
       "      <td>112</td>\n",
       "      <td>2012</td>\n",
       "      <td>4</td>\n",
       "      <td>2</td>\n",
       "      <td>0</td>\n",
       "      <td>0</td>\n",
       "      <td>0</td>\n",
       "      <td>0</td>\n",
       "      <td>0</td>\n",
       "      <td>0</td>\n",
       "      <td>0</td>\n",
       "      <td>0</td>\n",
       "      <td>0</td>\n",
       "      <td>0</td>\n",
       "      <td>0</td>\n",
       "      <td>0</td>\n",
       "      <td>0</td>\n",
       "      <td>0</td>\n",
       "      <td>0</td>\n",
       "      <td>0</td>\n",
       "      <td>1</td>\n",
       "      <td>0</td>\n",
       "      <td>0</td>\n",
       "      <td>0</td>\n",
       "      <td>0</td>\n",
       "      <td>0</td>\n",
       "    </tr>\n",
       "  </tbody>\n",
       "</table>\n",
       "</div>"
      ],
      "text/plain": [
       "       date  runs  wickets  overs  runs_last_5  wickets_last_5  total  year  \\\n",
       "29594     4    35        1    5.1           31               1    112  2012   \n",
       "29595     4    36        1    5.2           32               0    112  2012   \n",
       "29596     4    37        1    5.3           33               0    112  2012   \n",
       "29597     4    38        1    5.4           33               0    112  2012   \n",
       "29598     4    38        2    5.5           32               1    112  2012   \n",
       "\n",
       "       month  day_number  bat_team_Deccan Chargers  bat_team_Delhi Capitals  \\\n",
       "29594      4           2                         0                        0   \n",
       "29595      4           2                         0                        0   \n",
       "29596      4           2                         0                        0   \n",
       "29597      4           2                         0                        0   \n",
       "29598      4           2                         0                        0   \n",
       "\n",
       "       bat_team_Gujarat Lions  bat_team_Kings XI Punjab  \\\n",
       "29594                       0                         0   \n",
       "29595                       0                         0   \n",
       "29596                       0                         0   \n",
       "29597                       0                         0   \n",
       "29598                       0                         0   \n",
       "\n",
       "       bat_team_Kolkata Knight Riders  bat_team_Mumbai Indians  \\\n",
       "29594                               0                        0   \n",
       "29595                               0                        0   \n",
       "29596                               0                        0   \n",
       "29597                               0                        0   \n",
       "29598                               0                        0   \n",
       "\n",
       "       bat_team_Pune Warriors  bat_team_Rajasthan Royals  \\\n",
       "29594                       0                          0   \n",
       "29595                       0                          0   \n",
       "29596                       0                          0   \n",
       "29597                       0                          0   \n",
       "29598                       0                          0   \n",
       "\n",
       "       bat_team_Rising Pune Supergiant  bat_team_Royal Challengers Bangalore  \\\n",
       "29594                                0                                     0   \n",
       "29595                                0                                     0   \n",
       "29596                                0                                     0   \n",
       "29597                                0                                     0   \n",
       "29598                                0                                     0   \n",
       "\n",
       "       bat_team_Sunrisers Hyderabad  bowl_team_Deccan Chargers  \\\n",
       "29594                             0                          0   \n",
       "29595                             0                          0   \n",
       "29596                             0                          0   \n",
       "29597                             0                          0   \n",
       "29598                             0                          0   \n",
       "\n",
       "       bowl_team_Delhi Capitals  bowl_team_Gujarat Lions  \\\n",
       "29594                         0                        0   \n",
       "29595                         0                        0   \n",
       "29596                         0                        0   \n",
       "29597                         0                        0   \n",
       "29598                         0                        0   \n",
       "\n",
       "       bowl_team_Kings XI Punjab  bowl_team_Kolkata Knight Riders  \\\n",
       "29594                          0                                0   \n",
       "29595                          0                                0   \n",
       "29596                          0                                0   \n",
       "29597                          0                                0   \n",
       "29598                          0                                0   \n",
       "\n",
       "       bowl_team_Mumbai Indians  bowl_team_Pune Warriors  \\\n",
       "29594                         1                        0   \n",
       "29595                         1                        0   \n",
       "29596                         1                        0   \n",
       "29597                         1                        0   \n",
       "29598                         1                        0   \n",
       "\n",
       "       bowl_team_Rajasthan Royals  bowl_team_Rising Pune Supergiant  \\\n",
       "29594                           0                                 0   \n",
       "29595                           0                                 0   \n",
       "29596                           0                                 0   \n",
       "29597                           0                                 0   \n",
       "29598                           0                                 0   \n",
       "\n",
       "       bowl_team_Royal Challengers Bangalore  bowl_team_Sunrisers Hyderabad  \n",
       "29594                                      0                              0  \n",
       "29595                                      0                              0  \n",
       "29596                                      0                              0  \n",
       "29597                                      0                              0  \n",
       "29598                                      0                              0  "
      ]
     },
     "execution_count": 12,
     "metadata": {},
     "output_type": "execute_result"
    }
   ],
   "source": [
    "df.head()"
   ]
  },
  {
   "cell_type": "code",
   "execution_count": 13,
   "metadata": {
    "ExecuteTime": {
     "end_time": "2021-04-11T15:04:53.525865Z",
     "start_time": "2021-04-11T15:04:53.517363Z"
    }
   },
   "outputs": [
    {
     "data": {
      "text/plain": [
       "(34685, 32)"
      ]
     },
     "execution_count": 13,
     "metadata": {},
     "output_type": "execute_result"
    }
   ],
   "source": [
    "df.shape"
   ]
  },
  {
   "cell_type": "code",
   "execution_count": 14,
   "metadata": {
    "ExecuteTime": {
     "end_time": "2021-04-11T15:04:53.919885Z",
     "start_time": "2021-04-11T15:04:53.911511Z"
    }
   },
   "outputs": [
    {
     "data": {
      "text/plain": [
       "Index(['date', 'runs', 'wickets', 'overs', 'runs_last_5', 'wickets_last_5',\n",
       "       'total', 'year', 'month', 'day_number', 'bat_team_Deccan Chargers',\n",
       "       'bat_team_Delhi Capitals', 'bat_team_Gujarat Lions',\n",
       "       'bat_team_Kings XI Punjab', 'bat_team_Kolkata Knight Riders',\n",
       "       'bat_team_Mumbai Indians', 'bat_team_Pune Warriors',\n",
       "       'bat_team_Rajasthan Royals', 'bat_team_Rising Pune Supergiant',\n",
       "       'bat_team_Royal Challengers Bangalore', 'bat_team_Sunrisers Hyderabad',\n",
       "       'bowl_team_Deccan Chargers', 'bowl_team_Delhi Capitals',\n",
       "       'bowl_team_Gujarat Lions', 'bowl_team_Kings XI Punjab',\n",
       "       'bowl_team_Kolkata Knight Riders', 'bowl_team_Mumbai Indians',\n",
       "       'bowl_team_Pune Warriors', 'bowl_team_Rajasthan Royals',\n",
       "       'bowl_team_Rising Pune Supergiant',\n",
       "       'bowl_team_Royal Challengers Bangalore',\n",
       "       'bowl_team_Sunrisers Hyderabad'],\n",
       "      dtype='object')"
      ]
     },
     "execution_count": 14,
     "metadata": {},
     "output_type": "execute_result"
    }
   ],
   "source": [
    "df.columns"
   ]
  },
  {
   "cell_type": "code",
   "execution_count": 15,
   "metadata": {
    "ExecuteTime": {
     "end_time": "2021-04-11T15:04:54.598384Z",
     "start_time": "2021-04-11T15:04:54.582339Z"
    }
   },
   "outputs": [],
   "source": [
    "df = df[['runs', 'wickets', 'overs', 'runs_last_5', 'wickets_last_5', 'total', 'year', 'bat_team_Deccan Chargers', 'bat_team_Delhi Capitals', 'bat_team_Gujarat Lions', \n",
    "         'bat_team_Kings XI Punjab', 'bat_team_Kolkata Knight Riders', 'bat_team_Mumbai Indians', 'bat_team_Pune Warriors', \n",
    "         'bat_team_Rajasthan Royals', 'bat_team_Rising Pune Supergiant', 'bat_team_Royal Challengers Bangalore', 'bat_team_Sunrisers Hyderabad', \n",
    "         'bowl_team_Deccan Chargers', 'bowl_team_Delhi Capitals', 'bowl_team_Gujarat Lions', 'bowl_team_Kings XI Punjab', 'bowl_team_Kolkata Knight Riders', \n",
    "         'bowl_team_Mumbai Indians', 'bowl_team_Pune Warriors', 'bowl_team_Rajasthan Royals', 'bowl_team_Rising Pune Supergiant', 'bowl_team_Royal Challengers Bangalore', \n",
    "         'bowl_team_Sunrisers Hyderabad']]"
   ]
  },
  {
   "cell_type": "code",
   "execution_count": 16,
   "metadata": {
    "ExecuteTime": {
     "end_time": "2021-04-11T15:04:55.165482Z",
     "start_time": "2021-04-11T15:04:55.141876Z"
    }
   },
   "outputs": [],
   "source": [
    "train = df[df['year'] <= 2016]\n",
    "test = df[df['year'] > 2016]"
   ]
  },
  {
   "cell_type": "code",
   "execution_count": 17,
   "metadata": {
    "ExecuteTime": {
     "end_time": "2021-04-11T15:04:55.846390Z",
     "start_time": "2021-04-11T15:04:55.830390Z"
    }
   },
   "outputs": [],
   "source": [
    "X_train = train.drop(['year', 'total'], axis = 1)\n",
    "X_test = test.drop(['year', 'total'], axis = 1)\n",
    "y_train = train['total']\n",
    "y_test = test['total']"
   ]
  },
  {
   "cell_type": "code",
   "execution_count": 18,
   "metadata": {
    "ExecuteTime": {
     "end_time": "2021-04-11T15:04:56.387674Z",
     "start_time": "2021-04-11T15:04:56.373940Z"
    }
   },
   "outputs": [
    {
     "data": {
      "text/plain": [
       "((29344, 27), (5341, 27), (29344,), (5341,))"
      ]
     },
     "execution_count": 18,
     "metadata": {},
     "output_type": "execute_result"
    }
   ],
   "source": [
    "X_train.shape, X_test.shape, y_train.shape, y_test.shape"
   ]
  },
  {
   "cell_type": "code",
   "execution_count": 19,
   "metadata": {
    "ExecuteTime": {
     "end_time": "2021-04-11T15:04:57.278416Z",
     "start_time": "2021-04-11T15:04:57.179798Z"
    }
   },
   "outputs": [
    {
     "data": {
      "text/plain": [
       "LinearRegression()"
      ]
     },
     "execution_count": 19,
     "metadata": {},
     "output_type": "execute_result"
    }
   ],
   "source": [
    "lr = LinearRegression()\n",
    "lr.fit(X_train, y_train)"
   ]
  },
  {
   "cell_type": "code",
   "execution_count": 20,
   "metadata": {
    "ExecuteTime": {
     "end_time": "2021-04-09T07:07:00.660720Z",
     "start_time": "2021-04-09T07:07:00.631797Z"
    }
   },
   "outputs": [
    {
     "name": "stdout",
     "output_type": "stream",
     "text": [
      "Logistic Regression:\n",
      "----------------------------------------------------------------------------------------------------\n",
      "Train r2_score:  0.6314089443639566\n",
      "Test r2_score:  0.674575465374619\n",
      "----------------------------------------------------------------------------------------------------\n",
      "Train RMSE:  17.417534719935475\n",
      "Test RMSE:  16.768270127605113\n",
      "----------------------------------------------------------------------------------------------------\n",
      "Train MAPE:  0.08377194971941723\n",
      "Test MAPE:  0.08052532093989041\n"
     ]
    }
   ],
   "source": [
    "y_train_pred_lr = lr.predict(X_train)\n",
    "y_test_pred_lr = lr.predict(X_test)\n",
    "print('Logistic Regression:')\n",
    "print('-' * 100)\n",
    "print('Train r2_score: ', r2_score(y_train, y_train_pred_lr))\n",
    "print('Test r2_score: ', r2_score(y_test, y_test_pred_lr))\n",
    "print('-' * 100)\n",
    "print('Train RMSE: ', np.sqrt(mean_squared_error(y_train, y_train_pred_lr)))\n",
    "print('Test RMSE: ', np.sqrt(mean_squared_error(y_test, y_test_pred_lr)))\n",
    "print('-' * 100)\n",
    "print('Train MAPE: ', np.mean(mean_absolute_error(y_train, y_train_pred_lr) / y_train))\n",
    "print('Test MAPE: ', np.mean(mean_absolute_error(y_test, y_test_pred_lr) / y_test))"
   ]
  },
  {
   "cell_type": "code",
   "execution_count": 21,
   "metadata": {
    "ExecuteTime": {
     "end_time": "2021-04-09T07:07:14.181214Z",
     "start_time": "2021-04-09T07:07:14.037596Z"
    },
    "scrolled": false
   },
   "outputs": [
    {
     "data": {
      "text/plain": [
       "True     0.613181\n",
       "False    0.386819\n",
       "Name: Bool, dtype: float64"
      ]
     },
     "execution_count": 21,
     "metadata": {},
     "output_type": "execute_result"
    }
   ],
   "source": [
    "data_lr = pd.DataFrame()\n",
    "data_lr['actual'] = y_test\n",
    "data_lr['predicted'] = y_test_pred_lr\n",
    "data_lr['lower range'] = y_test_pred_lr - (0.08052532093989041 * y_test_pred_lr)\n",
    "data_lr['upper range'] = y_test_pred_lr + (0.08052532093989041 * y_test_pred_lr)\n",
    "t_list = []\n",
    "for i in data_lr.index:\n",
    "    if data_lr['actual'][i] > data_lr['lower range'][i]:\n",
    "        if data_lr['actual'][i] < data_lr['upper range'][i]:\n",
    "            t_list.append('True')\n",
    "        else:\n",
    "            t_list.append('False')\n",
    "    else:\n",
    "        t_list.append('False')\n",
    "data_lr['Bool'] = t_list\n",
    "data_lr['Bool'].value_counts()/data_lr.shape[0]"
   ]
  },
  {
   "cell_type": "code",
   "execution_count": 22,
   "metadata": {
    "ExecuteTime": {
     "end_time": "2021-04-09T07:07:35.266514Z",
     "start_time": "2021-04-09T07:07:30.134688Z"
    }
   },
   "outputs": [
    {
     "name": "stdout",
     "output_type": "stream",
     "text": [
      "Fitting 10 folds for each of 10 candidates, totalling 100 fits\n",
      "[CV] alpha=0.624 .....................................................\n",
      "[CV] ...................................... alpha=0.624, total=   0.1s\n",
      "[CV] alpha=0.624 .....................................................\n",
      "[CV] ...................................... alpha=0.624, total=   0.0s\n",
      "[CV] alpha=0.624 .....................................................\n",
      "[CV] ...................................... alpha=0.624, total=   0.0s\n",
      "[CV] alpha=0.624 .....................................................\n",
      "[CV] ...................................... alpha=0.624, total=   0.0s"
     ]
    },
    {
     "name": "stderr",
     "output_type": "stream",
     "text": [
      "[Parallel(n_jobs=1)]: Using backend SequentialBackend with 1 concurrent workers.\n",
      "[Parallel(n_jobs=1)]: Done   1 out of   1 | elapsed:    0.0s remaining:    0.0s\n"
     ]
    },
    {
     "name": "stdout",
     "output_type": "stream",
     "text": [
      "\n",
      "[CV] alpha=0.624 .....................................................\n",
      "[CV] ...................................... alpha=0.624, total=   0.1s\n",
      "[CV] alpha=0.624 .....................................................\n",
      "[CV] ...................................... alpha=0.624, total=   0.0s\n",
      "[CV] alpha=0.624 .....................................................\n",
      "[CV] ...................................... alpha=0.624, total=   0.0s\n",
      "[CV] alpha=0.624 .....................................................\n",
      "[CV] ...................................... alpha=0.624, total=   0.0s\n",
      "[CV] alpha=0.624 .....................................................\n",
      "[CV] ...................................... alpha=0.624, total=   0.0s\n",
      "[CV] alpha=0.624 .....................................................\n",
      "[CV] ...................................... alpha=0.624, total=   0.1s\n",
      "[CV] alpha=0.242 .....................................................\n",
      "[CV] ...................................... alpha=0.242, total=   0.0s\n",
      "[CV] alpha=0.242 .....................................................\n",
      "[CV] ...................................... alpha=0.242, total=   0.0s\n",
      "[CV] alpha=0.242 .....................................................\n",
      "[CV] ...................................... alpha=0.242, total=   0.1s\n",
      "[CV] alpha=0.242 .....................................................\n",
      "[CV] ...................................... alpha=0.242, total=   0.0s\n",
      "[CV] alpha=0.242 .....................................................\n",
      "[CV] ...................................... alpha=0.242, total=   0.1s\n",
      "[CV] alpha=0.242 .....................................................\n",
      "[CV] ...................................... alpha=0.242, total=   0.0s\n",
      "[CV] alpha=0.242 .....................................................\n",
      "[CV] ...................................... alpha=0.242, total=   0.1s\n",
      "[CV] alpha=0.242 .....................................................\n",
      "[CV] ...................................... alpha=0.242, total=   0.0s\n",
      "[CV] alpha=0.242 .....................................................\n",
      "[CV] ...................................... alpha=0.242, total=   0.0s\n",
      "[CV] alpha=0.242 .....................................................\n",
      "[CV] ...................................... alpha=0.242, total=   0.1s\n",
      "[CV] alpha=0.144 .....................................................\n",
      "[CV] ...................................... alpha=0.144, total=   0.1s\n",
      "[CV] alpha=0.144 .....................................................\n",
      "[CV] ...................................... alpha=0.144, total=   0.1s\n",
      "[CV] alpha=0.144 .....................................................\n",
      "[CV] ...................................... alpha=0.144, total=   0.1s\n",
      "[CV] alpha=0.144 .....................................................\n",
      "[CV] ...................................... alpha=0.144, total=   0.1s\n",
      "[CV] alpha=0.144 .....................................................\n",
      "[CV] ...................................... alpha=0.144, total=   0.1s\n",
      "[CV] alpha=0.144 .....................................................\n",
      "[CV] ...................................... alpha=0.144, total=   0.1s\n",
      "[CV] alpha=0.144 .....................................................\n",
      "[CV] ...................................... alpha=0.144, total=   0.1s\n",
      "[CV] alpha=0.144 .....................................................\n",
      "[CV] ...................................... alpha=0.144, total=   0.0s\n",
      "[CV] alpha=0.144 .....................................................\n",
      "[CV] ...................................... alpha=0.144, total=   0.1s\n",
      "[CV] alpha=0.144 .....................................................\n",
      "[CV] ...................................... alpha=0.144, total=   0.1s\n",
      "[CV] alpha=0.391 .....................................................\n",
      "[CV] ...................................... alpha=0.391, total=   0.1s\n",
      "[CV] alpha=0.391 .....................................................\n",
      "[CV] ...................................... alpha=0.391, total=   0.0s\n",
      "[CV] alpha=0.391 .....................................................\n",
      "[CV] ...................................... alpha=0.391, total=   0.0s\n",
      "[CV] alpha=0.391 .....................................................\n",
      "[CV] ...................................... alpha=0.391, total=   0.1s\n",
      "[CV] alpha=0.391 .....................................................\n",
      "[CV] ...................................... alpha=0.391, total=   0.0s\n",
      "[CV] alpha=0.391 .....................................................\n",
      "[CV] ...................................... alpha=0.391, total=   0.1s\n",
      "[CV] alpha=0.391 .....................................................\n",
      "[CV] ...................................... alpha=0.391, total=   0.0s\n",
      "[CV] alpha=0.391 .....................................................\n",
      "[CV] ...................................... alpha=0.391, total=   0.1s\n",
      "[CV] alpha=0.391 .....................................................\n",
      "[CV] ...................................... alpha=0.391, total=   0.1s\n",
      "[CV] alpha=0.391 .....................................................\n",
      "[CV] ...................................... alpha=0.391, total=   0.1s\n",
      "[CV] alpha=0.407 .....................................................\n",
      "[CV] ...................................... alpha=0.407, total=   0.1s\n",
      "[CV] alpha=0.407 .....................................................\n",
      "[CV] ...................................... alpha=0.407, total=   0.1s\n",
      "[CV] alpha=0.407 .....................................................\n",
      "[CV] ...................................... alpha=0.407, total=   0.0s\n",
      "[CV] alpha=0.407 .....................................................\n",
      "[CV] ...................................... alpha=0.407, total=   0.1s\n",
      "[CV] alpha=0.407 .....................................................\n",
      "[CV] ...................................... alpha=0.407, total=   0.0s\n",
      "[CV] alpha=0.407 .....................................................\n",
      "[CV] ...................................... alpha=0.407, total=   0.1s\n",
      "[CV] alpha=0.407 .....................................................\n",
      "[CV] ...................................... alpha=0.407, total=   0.0s\n",
      "[CV] alpha=0.407 .....................................................\n",
      "[CV] ...................................... alpha=0.407, total=   0.0s\n",
      "[CV] alpha=0.407 .....................................................\n",
      "[CV] ...................................... alpha=0.407, total=   0.0s\n",
      "[CV] alpha=0.407 .....................................................\n",
      "[CV] ...................................... alpha=0.407, total=   0.0s\n",
      "[CV] alpha=0.314 .....................................................\n",
      "[CV] ...................................... alpha=0.314, total=   0.0s\n",
      "[CV] alpha=0.314 .....................................................\n",
      "[CV] ...................................... alpha=0.314, total=   0.0s\n",
      "[CV] alpha=0.314 .....................................................\n",
      "[CV] ...................................... alpha=0.314, total=   0.0s\n",
      "[CV] alpha=0.314 .....................................................\n",
      "[CV] ...................................... alpha=0.314, total=   0.0s\n",
      "[CV] alpha=0.314 .....................................................\n",
      "[CV] ...................................... alpha=0.314, total=   0.0s\n",
      "[CV] alpha=0.314 .....................................................\n",
      "[CV] ...................................... alpha=0.314, total=   0.0s\n",
      "[CV] alpha=0.314 .....................................................\n",
      "[CV] ...................................... alpha=0.314, total=   0.0s\n",
      "[CV] alpha=0.314 .....................................................\n",
      "[CV] ...................................... alpha=0.314, total=   0.0s\n",
      "[CV] alpha=0.314 .....................................................\n",
      "[CV] ...................................... alpha=0.314, total=   0.0s\n",
      "[CV] alpha=0.314 .....................................................\n",
      "[CV] ...................................... alpha=0.314, total=   0.0s\n",
      "[CV] alpha=0.753 .....................................................\n",
      "[CV] ...................................... alpha=0.753, total=   0.0s\n",
      "[CV] alpha=0.753 .....................................................\n",
      "[CV] ...................................... alpha=0.753, total=   0.0s\n",
      "[CV] alpha=0.753 .....................................................\n",
      "[CV] ...................................... alpha=0.753, total=   0.0s\n",
      "[CV] alpha=0.753 .....................................................\n",
      "[CV] ...................................... alpha=0.753, total=   0.0s\n",
      "[CV] alpha=0.753 .....................................................\n",
      "[CV] ...................................... alpha=0.753, total=   0.0s\n",
      "[CV] alpha=0.753 .....................................................\n",
      "[CV] ...................................... alpha=0.753, total=   0.0s\n",
      "[CV] alpha=0.753 .....................................................\n"
     ]
    },
    {
     "name": "stdout",
     "output_type": "stream",
     "text": [
      "[CV] ...................................... alpha=0.753, total=   0.1s\n",
      "[CV] alpha=0.753 .....................................................\n",
      "[CV] ...................................... alpha=0.753, total=   0.1s\n",
      "[CV] alpha=0.753 .....................................................\n",
      "[CV] ...................................... alpha=0.753, total=   0.1s\n",
      "[CV] alpha=0.753 .....................................................\n",
      "[CV] ...................................... alpha=0.753, total=   0.1s\n",
      "[CV] alpha=0.942 .....................................................\n",
      "[CV] ...................................... alpha=0.942, total=   0.0s\n",
      "[CV] alpha=0.942 .....................................................\n",
      "[CV] ...................................... alpha=0.942, total=   0.0s\n",
      "[CV] alpha=0.942 .....................................................\n",
      "[CV] ...................................... alpha=0.942, total=   0.0s\n",
      "[CV] alpha=0.942 .....................................................\n",
      "[CV] ...................................... alpha=0.942, total=   0.0s\n",
      "[CV] alpha=0.942 .....................................................\n",
      "[CV] ...................................... alpha=0.942, total=   0.0s\n",
      "[CV] alpha=0.942 .....................................................\n",
      "[CV] ...................................... alpha=0.942, total=   0.0s\n",
      "[CV] alpha=0.942 .....................................................\n",
      "[CV] ...................................... alpha=0.942, total=   0.0s\n",
      "[CV] alpha=0.942 .....................................................\n",
      "[CV] ...................................... alpha=0.942, total=   0.0s\n",
      "[CV] alpha=0.942 .....................................................\n",
      "[CV] ...................................... alpha=0.942, total=   0.0s\n",
      "[CV] alpha=0.942 .....................................................\n",
      "[CV] ...................................... alpha=0.942, total=   0.0s\n",
      "[CV] alpha=0.279 .....................................................\n",
      "[CV] ...................................... alpha=0.279, total=   0.0s\n",
      "[CV] alpha=0.279 .....................................................\n",
      "[CV] ...................................... alpha=0.279, total=   0.1s\n",
      "[CV] alpha=0.279 .....................................................\n",
      "[CV] ...................................... alpha=0.279, total=   0.1s\n",
      "[CV] alpha=0.279 .....................................................\n",
      "[CV] ...................................... alpha=0.279, total=   0.0s\n",
      "[CV] alpha=0.279 .....................................................\n",
      "[CV] ...................................... alpha=0.279, total=   0.0s\n",
      "[CV] alpha=0.279 .....................................................\n",
      "[CV] ...................................... alpha=0.279, total=   0.0s\n",
      "[CV] alpha=0.279 .....................................................\n",
      "[CV] ...................................... alpha=0.279, total=   0.0s\n",
      "[CV] alpha=0.279 .....................................................\n",
      "[CV] ...................................... alpha=0.279, total=   0.1s\n",
      "[CV] alpha=0.279 .....................................................\n",
      "[CV] ...................................... alpha=0.279, total=   0.1s\n",
      "[CV] alpha=0.279 .....................................................\n",
      "[CV] ...................................... alpha=0.279, total=   0.1s\n",
      "[CV] alpha=0.032 .....................................................\n",
      "[CV] ...................................... alpha=0.032, total=   0.1s\n",
      "[CV] alpha=0.032 .....................................................\n",
      "[CV] ...................................... alpha=0.032, total=   0.1s\n",
      "[CV] alpha=0.032 .....................................................\n",
      "[CV] ...................................... alpha=0.032, total=   0.1s\n",
      "[CV] alpha=0.032 .....................................................\n",
      "[CV] ...................................... alpha=0.032, total=   0.1s\n",
      "[CV] alpha=0.032 .....................................................\n",
      "[CV] ...................................... alpha=0.032, total=   0.1s\n",
      "[CV] alpha=0.032 .....................................................\n",
      "[CV] ...................................... alpha=0.032, total=   0.1s\n",
      "[CV] alpha=0.032 .....................................................\n",
      "[CV] ...................................... alpha=0.032, total=   0.1s\n",
      "[CV] alpha=0.032 .....................................................\n",
      "[CV] ...................................... alpha=0.032, total=   0.1s\n",
      "[CV] alpha=0.032 .....................................................\n",
      "[CV] ...................................... alpha=0.032, total=   0.1s\n",
      "[CV] alpha=0.032 .....................................................\n",
      "[CV] ...................................... alpha=0.032, total=   0.1s\n"
     ]
    },
    {
     "name": "stderr",
     "output_type": "stream",
     "text": [
      "[Parallel(n_jobs=1)]: Done 100 out of 100 | elapsed:    5.0s finished\n"
     ]
    },
    {
     "data": {
      "text/plain": [
       "{'alpha': 0.279}"
      ]
     },
     "execution_count": 22,
     "metadata": {},
     "output_type": "execute_result"
    }
   ],
   "source": [
    "la = Lasso()\n",
    "possible_parameter_values = {'alpha' : [float(x)/1000 for x in np.arange(start = 1, stop = 1001, step = 1)]}\n",
    "la_rscv = RandomizedSearchCV(estimator = la, param_distributions = possible_parameter_values, cv = 10, scoring = 'neg_mean_squared_error', verbose = 2, random_state = 17, \n",
    "                              n_jobs = 1)\n",
    "la_rscv.fit(X_train, y_train)\n",
    "la_rscv.best_params_"
   ]
  },
  {
   "cell_type": "code",
   "execution_count": 23,
   "metadata": {
    "ExecuteTime": {
     "end_time": "2021-04-09T07:08:09.926208Z",
     "start_time": "2021-04-09T07:08:09.903706Z"
    },
    "scrolled": true
   },
   "outputs": [
    {
     "name": "stdout",
     "output_type": "stream",
     "text": [
      "Lasso Regression:\n",
      "----------------------------------------------------------------------------------------------------\n",
      "Train r2_score:  0.6228137544952084\n",
      "Test r2_score:  0.6838829107770812\n",
      "----------------------------------------------------------------------------------------------------\n",
      "Train RMSE:  17.61944451896617\n",
      "Test RMSE:  16.526736489748945\n",
      "----------------------------------------------------------------------------------------------------\n",
      "Train MAPE:  0.08399641331221015\n",
      "Test MAPE:  0.07783388032622655\n"
     ]
    }
   ],
   "source": [
    "y_train_pred_la = la_rscv.predict(X_train)\n",
    "y_test_pred_la = la_rscv.predict(X_test)\n",
    "print('Lasso Regression:')\n",
    "print('-' * 100)\n",
    "print('Train r2_score: ', r2_score(y_train, y_train_pred_la))\n",
    "print('Test r2_score: ', r2_score(y_test, y_test_pred_la))\n",
    "print('-' * 100)\n",
    "print('Train RMSE: ', np.sqrt(mean_squared_error(y_train, y_train_pred_la)))\n",
    "print('Test RMSE: ', np.sqrt(mean_squared_error(y_test, y_test_pred_la)))\n",
    "print('-' * 100)\n",
    "print('Train MAPE: ', np.mean(mean_absolute_error(y_train, y_train_pred_la) / y_train))\n",
    "print('Test MAPE: ', np.mean(mean_absolute_error(y_test, y_test_pred_la) / y_test))"
   ]
  },
  {
   "cell_type": "code",
   "execution_count": 33,
   "metadata": {
    "ExecuteTime": {
     "end_time": "2021-04-09T07:29:36.724078Z",
     "start_time": "2021-04-09T07:29:36.576051Z"
    }
   },
   "outputs": [
    {
     "data": {
      "text/plain": [
       "True     0.622355\n",
       "False    0.377645\n",
       "Name: Bool, dtype: float64"
      ]
     },
     "execution_count": 33,
     "metadata": {},
     "output_type": "execute_result"
    }
   ],
   "source": [
    "data_la = pd.DataFrame()\n",
    "data_la['actual'] = y_test\n",
    "data_la['predicted'] = y_test_pred_la\n",
    "data_la['lower range'] = y_test_pred_la - (0.07783388032622655 * y_test_pred_la)\n",
    "data_la['upper range'] = y_test_pred_la + (0.07783388032622655 * y_test_pred_la)\n",
    "t_list = []\n",
    "for i in data_la.index:\n",
    "    if data_la['actual'][i] > data_la['lower range'][i]:\n",
    "        if data_la['actual'][i] < data_la['upper range'][i]:\n",
    "            t_list.append('True')\n",
    "        else:\n",
    "            t_list.append('False')\n",
    "    else:\n",
    "        t_list.append('False')\n",
    "data_la['Bool'] = t_list\n",
    "data_la['Bool'].value_counts()/data_la.shape[0]"
   ]
  },
  {
   "cell_type": "code",
   "execution_count": 25,
   "metadata": {
    "ExecuteTime": {
     "end_time": "2021-04-09T07:09:14.958772Z",
     "start_time": "2021-04-09T07:09:12.966930Z"
    }
   },
   "outputs": [
    {
     "name": "stdout",
     "output_type": "stream",
     "text": [
      "Fitting 10 folds for each of 10 candidates, totalling 100 fits\n",
      "[CV] alpha=0.624 .....................................................\n",
      "[CV] ...................................... alpha=0.624, total=   0.0s\n",
      "[CV] alpha=0.624 .....................................................\n",
      "[CV] ...................................... alpha=0.624, total=   0.0s\n",
      "[CV] alpha=0.624 .....................................................\n",
      "[CV] ...................................... alpha=0.624, total=   0.0s\n",
      "[CV] alpha=0.624 .....................................................\n",
      "[CV] ...................................... alpha=0.624, total=   0.0s\n",
      "[CV] alpha=0.624 .....................................................\n",
      "[CV] ...................................... alpha=0.624, total=   0.0s\n",
      "[CV] alpha=0.624 .....................................................\n",
      "[CV] ...................................... alpha=0.624, total=   0.0s\n",
      "[CV] alpha=0.624 .....................................................\n",
      "[CV] ...................................... alpha=0.624, total=   0.0s\n",
      "[CV] alpha=0.624 .....................................................\n",
      "[CV] ...................................... alpha=0.624, total=   0.0s\n",
      "[CV] alpha=0.624 .....................................................\n",
      "[CV] ...................................... alpha=0.624, total=   0.0s\n",
      "[CV] alpha=0.624 .....................................................\n",
      "[CV] ...................................... alpha=0.624, total=   0.0s\n",
      "[CV] alpha=0.242 ....................................................."
     ]
    },
    {
     "name": "stderr",
     "output_type": "stream",
     "text": [
      "[Parallel(n_jobs=1)]: Using backend SequentialBackend with 1 concurrent workers.\n",
      "[Parallel(n_jobs=1)]: Done   1 out of   1 | elapsed:    0.0s remaining:    0.0s\n"
     ]
    },
    {
     "name": "stdout",
     "output_type": "stream",
     "text": [
      "\n",
      "[CV] ...................................... alpha=0.242, total=   0.0s\n",
      "[CV] alpha=0.242 .....................................................\n",
      "[CV] ...................................... alpha=0.242, total=   0.0s\n",
      "[CV] alpha=0.242 .....................................................\n",
      "[CV] ...................................... alpha=0.242, total=   0.0s\n",
      "[CV] alpha=0.242 .....................................................\n",
      "[CV] ...................................... alpha=0.242, total=   0.0s\n",
      "[CV] alpha=0.242 .....................................................\n",
      "[CV] ...................................... alpha=0.242, total=   0.0s\n",
      "[CV] alpha=0.242 .....................................................\n",
      "[CV] ...................................... alpha=0.242, total=   0.0s\n",
      "[CV] alpha=0.242 .....................................................\n",
      "[CV] ...................................... alpha=0.242, total=   0.0s\n",
      "[CV] alpha=0.242 .....................................................\n",
      "[CV] ...................................... alpha=0.242, total=   0.0s\n",
      "[CV] alpha=0.242 .....................................................\n",
      "[CV] ...................................... alpha=0.242, total=   0.0s\n",
      "[CV] alpha=0.242 .....................................................\n",
      "[CV] ...................................... alpha=0.242, total=   0.0s\n",
      "[CV] alpha=0.144 .....................................................\n",
      "[CV] ...................................... alpha=0.144, total=   0.0s\n",
      "[CV] alpha=0.144 .....................................................\n",
      "[CV] ...................................... alpha=0.144, total=   0.0s\n",
      "[CV] alpha=0.144 .....................................................\n",
      "[CV] ...................................... alpha=0.144, total=   0.0s\n",
      "[CV] alpha=0.144 .....................................................\n",
      "[CV] ...................................... alpha=0.144, total=   0.0s\n",
      "[CV] alpha=0.144 .....................................................\n",
      "[CV] ...................................... alpha=0.144, total=   0.0s\n",
      "[CV] alpha=0.144 .....................................................\n",
      "[CV] ...................................... alpha=0.144, total=   0.0s\n",
      "[CV] alpha=0.144 .....................................................\n",
      "[CV] ...................................... alpha=0.144, total=   0.0s\n",
      "[CV] alpha=0.144 .....................................................\n",
      "[CV] ...................................... alpha=0.144, total=   0.0s\n",
      "[CV] alpha=0.144 .....................................................\n",
      "[CV] ...................................... alpha=0.144, total=   0.0s\n",
      "[CV] alpha=0.144 .....................................................\n",
      "[CV] ...................................... alpha=0.144, total=   0.0s\n",
      "[CV] alpha=0.391 .....................................................\n",
      "[CV] ...................................... alpha=0.391, total=   0.0s\n",
      "[CV] alpha=0.391 .....................................................\n",
      "[CV] ...................................... alpha=0.391, total=   0.0s\n",
      "[CV] alpha=0.391 .....................................................\n",
      "[CV] ...................................... alpha=0.391, total=   0.0s\n",
      "[CV] alpha=0.391 .....................................................\n",
      "[CV] ...................................... alpha=0.391, total=   0.0s\n",
      "[CV] alpha=0.391 .....................................................\n",
      "[CV] ...................................... alpha=0.391, total=   0.0s\n",
      "[CV] alpha=0.391 .....................................................\n",
      "[CV] ...................................... alpha=0.391, total=   0.0s\n",
      "[CV] alpha=0.391 .....................................................\n",
      "[CV] ...................................... alpha=0.391, total=   0.0s\n",
      "[CV] alpha=0.391 .....................................................\n",
      "[CV] ...................................... alpha=0.391, total=   0.0s\n",
      "[CV] alpha=0.391 .....................................................\n",
      "[CV] ...................................... alpha=0.391, total=   0.0s\n",
      "[CV] alpha=0.391 .....................................................\n",
      "[CV] ...................................... alpha=0.391, total=   0.0s\n",
      "[CV] alpha=0.407 .....................................................\n",
      "[CV] ...................................... alpha=0.407, total=   0.0s\n",
      "[CV] alpha=0.407 .....................................................\n",
      "[CV] ...................................... alpha=0.407, total=   0.0s\n",
      "[CV] alpha=0.407 .....................................................\n",
      "[CV] ...................................... alpha=0.407, total=   0.0s\n",
      "[CV] alpha=0.407 .....................................................\n",
      "[CV] ...................................... alpha=0.407, total=   0.0s\n",
      "[CV] alpha=0.407 .....................................................\n",
      "[CV] ...................................... alpha=0.407, total=   0.0s\n",
      "[CV] alpha=0.407 .....................................................\n",
      "[CV] ...................................... alpha=0.407, total=   0.0s\n",
      "[CV] alpha=0.407 .....................................................\n",
      "[CV] ...................................... alpha=0.407, total=   0.0s\n",
      "[CV] alpha=0.407 .....................................................\n",
      "[CV] ...................................... alpha=0.407, total=   0.0s\n",
      "[CV] alpha=0.407 .....................................................\n",
      "[CV] ...................................... alpha=0.407, total=   0.0s\n",
      "[CV] alpha=0.407 .....................................................\n",
      "[CV] ...................................... alpha=0.407, total=   0.0s\n",
      "[CV] alpha=0.314 .....................................................\n",
      "[CV] ...................................... alpha=0.314, total=   0.0s\n",
      "[CV] alpha=0.314 .....................................................\n",
      "[CV] ...................................... alpha=0.314, total=   0.0s\n",
      "[CV] alpha=0.314 .....................................................\n",
      "[CV] ...................................... alpha=0.314, total=   0.0s\n",
      "[CV] alpha=0.314 .....................................................\n",
      "[CV] ...................................... alpha=0.314, total=   0.0s\n",
      "[CV] alpha=0.314 .....................................................\n",
      "[CV] ...................................... alpha=0.314, total=   0.0s\n",
      "[CV] alpha=0.314 .....................................................\n",
      "[CV] ...................................... alpha=0.314, total=   0.0s\n",
      "[CV] alpha=0.314 .....................................................\n",
      "[CV] ...................................... alpha=0.314, total=   0.0s\n",
      "[CV] alpha=0.314 .....................................................\n",
      "[CV] ...................................... alpha=0.314, total=   0.0s\n",
      "[CV] alpha=0.314 .....................................................\n",
      "[CV] ...................................... alpha=0.314, total=   0.0s\n",
      "[CV] alpha=0.314 .....................................................\n",
      "[CV] ...................................... alpha=0.314, total=   0.0s\n",
      "[CV] alpha=0.753 .....................................................\n",
      "[CV] ...................................... alpha=0.753, total=   0.0s\n",
      "[CV] alpha=0.753 .....................................................\n",
      "[CV] ...................................... alpha=0.753, total=   0.0s\n",
      "[CV] alpha=0.753 .....................................................\n",
      "[CV] ...................................... alpha=0.753, total=   0.0s\n",
      "[CV] alpha=0.753 .....................................................\n",
      "[CV] ...................................... alpha=0.753, total=   0.0s\n",
      "[CV] alpha=0.753 .....................................................\n",
      "[CV] ...................................... alpha=0.753, total=   0.0s\n",
      "[CV] alpha=0.753 .....................................................\n",
      "[CV] ...................................... alpha=0.753, total=   0.0s\n",
      "[CV] alpha=0.753 .....................................................\n",
      "[CV] ...................................... alpha=0.753, total=   0.0s\n",
      "[CV] alpha=0.753 .....................................................\n",
      "[CV] ...................................... alpha=0.753, total=   0.0s\n",
      "[CV] alpha=0.753 .....................................................\n",
      "[CV] ...................................... alpha=0.753, total=   0.0s\n",
      "[CV] alpha=0.753 .....................................................\n"
     ]
    },
    {
     "name": "stdout",
     "output_type": "stream",
     "text": [
      "[CV] ...................................... alpha=0.753, total=   0.0s\n",
      "[CV] alpha=0.942 .....................................................\n",
      "[CV] ...................................... alpha=0.942, total=   0.0s\n",
      "[CV] alpha=0.942 .....................................................\n",
      "[CV] ...................................... alpha=0.942, total=   0.0s\n",
      "[CV] alpha=0.942 .....................................................\n",
      "[CV] ...................................... alpha=0.942, total=   0.0s\n",
      "[CV] alpha=0.942 .....................................................\n",
      "[CV] ...................................... alpha=0.942, total=   0.0s\n",
      "[CV] alpha=0.942 .....................................................\n",
      "[CV] ...................................... alpha=0.942, total=   0.0s\n",
      "[CV] alpha=0.942 .....................................................\n",
      "[CV] ...................................... alpha=0.942, total=   0.0s\n",
      "[CV] alpha=0.942 .....................................................\n",
      "[CV] ...................................... alpha=0.942, total=   0.0s\n",
      "[CV] alpha=0.942 .....................................................\n",
      "[CV] ...................................... alpha=0.942, total=   0.0s\n",
      "[CV] alpha=0.942 .....................................................\n",
      "[CV] ...................................... alpha=0.942, total=   0.0s\n",
      "[CV] alpha=0.942 .....................................................\n",
      "[CV] ...................................... alpha=0.942, total=   0.0s\n",
      "[CV] alpha=0.279 .....................................................\n",
      "[CV] ...................................... alpha=0.279, total=   0.0s\n",
      "[CV] alpha=0.279 .....................................................\n",
      "[CV] ...................................... alpha=0.279, total=   0.0s\n",
      "[CV] alpha=0.279 .....................................................\n",
      "[CV] ...................................... alpha=0.279, total=   0.0s\n",
      "[CV] alpha=0.279 .....................................................\n",
      "[CV] ...................................... alpha=0.279, total=   0.0s\n",
      "[CV] alpha=0.279 .....................................................\n",
      "[CV] ...................................... alpha=0.279, total=   0.0s\n",
      "[CV] alpha=0.279 .....................................................\n",
      "[CV] ...................................... alpha=0.279, total=   0.0s\n",
      "[CV] alpha=0.279 .....................................................\n",
      "[CV] ...................................... alpha=0.279, total=   0.0s\n",
      "[CV] alpha=0.279 .....................................................\n",
      "[CV] ...................................... alpha=0.279, total=   0.0s\n",
      "[CV] alpha=0.279 .....................................................\n",
      "[CV] ...................................... alpha=0.279, total=   0.0s\n",
      "[CV] alpha=0.279 .....................................................\n",
      "[CV] ...................................... alpha=0.279, total=   0.0s\n",
      "[CV] alpha=0.032 .....................................................\n",
      "[CV] ...................................... alpha=0.032, total=   0.0s\n",
      "[CV] alpha=0.032 .....................................................\n",
      "[CV] ...................................... alpha=0.032, total=   0.0s\n",
      "[CV] alpha=0.032 .....................................................\n",
      "[CV] ...................................... alpha=0.032, total=   0.0s\n",
      "[CV] alpha=0.032 .....................................................\n",
      "[CV] ...................................... alpha=0.032, total=   0.0s\n",
      "[CV] alpha=0.032 .....................................................\n",
      "[CV] ...................................... alpha=0.032, total=   0.0s\n",
      "[CV] alpha=0.032 .....................................................\n",
      "[CV] ...................................... alpha=0.032, total=   0.0s\n",
      "[CV] alpha=0.032 .....................................................\n",
      "[CV] ...................................... alpha=0.032, total=   0.0s\n",
      "[CV] alpha=0.032 .....................................................\n",
      "[CV] ...................................... alpha=0.032, total=   0.0s\n",
      "[CV] alpha=0.032 .....................................................\n",
      "[CV] ...................................... alpha=0.032, total=   0.0s\n",
      "[CV] alpha=0.032 .....................................................\n",
      "[CV] ...................................... alpha=0.032, total=   0.0s\n"
     ]
    },
    {
     "name": "stderr",
     "output_type": "stream",
     "text": [
      "[Parallel(n_jobs=1)]: Done 100 out of 100 | elapsed:    1.9s finished\n"
     ]
    },
    {
     "data": {
      "text/plain": [
       "{'alpha': 0.942}"
      ]
     },
     "execution_count": 25,
     "metadata": {},
     "output_type": "execute_result"
    }
   ],
   "source": [
    "ri = Ridge()\n",
    "possible_parameter_values = {'alpha' : [float(x)/1000 for x in np.arange(start = 1, stop = 1001, step = 1)]}\n",
    "ri_rscv = RandomizedSearchCV(estimator = ri, param_distributions = possible_parameter_values, cv = 10, scoring = 'neg_mean_squared_error', verbose = 2, random_state = 17, \n",
    "                              n_jobs = 1)\n",
    "ri_rscv.fit(X_train, y_train)\n",
    "ri_rscv.best_params_"
   ]
  },
  {
   "cell_type": "code",
   "execution_count": 26,
   "metadata": {
    "ExecuteTime": {
     "end_time": "2021-04-09T07:09:49.107719Z",
     "start_time": "2021-04-09T07:09:49.086807Z"
    }
   },
   "outputs": [
    {
     "name": "stdout",
     "output_type": "stream",
     "text": [
      "Ridge Regression:\n",
      "----------------------------------------------------------------------------------------------------\n",
      "Train r2_score:  0.6314089296026026\n",
      "Test r2_score:  0.6746191962334509\n",
      "----------------------------------------------------------------------------------------------------\n",
      "Train RMSE:  17.417535068704645\n",
      "Test RMSE:  16.76714342169865\n",
      "----------------------------------------------------------------------------------------------------\n",
      "Train MAPE:  0.083771275297166\n",
      "Test MAPE:  0.08051806107511772\n"
     ]
    }
   ],
   "source": [
    "y_train_pred_ri = ri_rscv.predict(X_train)\n",
    "y_test_pred_ri = ri_rscv.predict(X_test)\n",
    "print('Ridge Regression:')\n",
    "print('-' * 100)\n",
    "print('Train r2_score: ', r2_score(y_train, y_train_pred_ri))\n",
    "print('Test r2_score: ', r2_score(y_test, y_test_pred_ri))\n",
    "print('-' * 100)\n",
    "print('Train RMSE: ', np.sqrt(mean_squared_error(y_train, y_train_pred_ri)))\n",
    "print('Test RMSE: ', np.sqrt(mean_squared_error(y_test, y_test_pred_ri)))\n",
    "print('-' * 100)\n",
    "print('Train MAPE: ', np.mean(mean_absolute_error(y_train, y_train_pred_ri) / y_train))\n",
    "print('Test MAPE: ', np.mean(mean_absolute_error(y_test, y_test_pred_ri) / y_test))"
   ]
  },
  {
   "cell_type": "code",
   "execution_count": 34,
   "metadata": {
    "ExecuteTime": {
     "end_time": "2021-04-09T07:29:52.208056Z",
     "start_time": "2021-04-09T07:29:52.048042Z"
    }
   },
   "outputs": [
    {
     "data": {
      "text/plain": [
       "True     0.613181\n",
       "False    0.386819\n",
       "Name: Bool, dtype: float64"
      ]
     },
     "execution_count": 34,
     "metadata": {},
     "output_type": "execute_result"
    }
   ],
   "source": [
    "data_ri = pd.DataFrame()\n",
    "data_ri['actual'] = y_test\n",
    "data_ri['predicted'] = y_test_pred_ri\n",
    "data_ri['lower range'] = y_test_pred_ri - (0.08051806107511772 * y_test_pred_ri)\n",
    "data_ri['upper range'] = y_test_pred_ri + (0.08051806107511772 * y_test_pred_ri)\n",
    "t_list = []\n",
    "for i in data_ri.index:\n",
    "    if data_ri['actual'][i] > data_ri['lower range'][i]:\n",
    "        if data_ri['actual'][i] < data_ri['upper range'][i]:\n",
    "            t_list.append('True')\n",
    "        else:\n",
    "            t_list.append('False')\n",
    "    else:\n",
    "        t_list.append('False')\n",
    "data_ri['Bool'] = t_list\n",
    "data_ri['Bool'].value_counts()/data_ri.shape[0]"
   ]
  },
  {
   "cell_type": "code",
   "execution_count": 30,
   "metadata": {
    "ExecuteTime": {
     "end_time": "2021-04-09T07:21:15.271518Z",
     "start_time": "2021-04-09T07:11:02.630861Z"
    }
   },
   "outputs": [
    {
     "name": "stdout",
     "output_type": "stream",
     "text": [
      "Fitting 10 folds for each of 10 candidates, totalling 100 fits\n",
      "[CV] splitter=random, min_samples_split=44, min_samples_leaf=48, max_depth=55, criterion=friedman_mse \n",
      "[CV]  splitter=random, min_samples_split=44, min_samples_leaf=48, max_depth=55, criterion=friedman_mse, total=   0.1s\n",
      "[CV] splitter=random, min_samples_split=44, min_samples_leaf=48, max_depth=55, criterion=friedman_mse \n",
      "[CV]  splitter=random, min_samples_split=44, min_samples_leaf=48, max_depth=55, criterion=friedman_mse, total=   0.0s\n",
      "[CV] splitter=random, min_samples_split=44, min_samples_leaf=48, max_depth=55, criterion=friedman_mse \n",
      "[CV]  splitter=random, min_samples_split=44, min_samples_leaf=48, max_depth=55, criterion=friedman_mse, total=   0.0s\n",
      "[CV] splitter=random, min_samples_split=44, min_samples_leaf=48, max_depth=55, criterion=friedman_mse \n",
      "[CV]  splitter=random, min_samples_split=44, min_samples_leaf=48, max_depth=55, criterion=friedman_mse, total=   0.0s\n",
      "[CV] splitter=random, min_samples_split=44, min_samples_leaf=48, max_depth=55, criterion=friedman_mse \n"
     ]
    },
    {
     "name": "stderr",
     "output_type": "stream",
     "text": [
      "[Parallel(n_jobs=1)]: Using backend SequentialBackend with 1 concurrent workers.\n",
      "[Parallel(n_jobs=1)]: Done   1 out of   1 | elapsed:    0.0s remaining:    0.0s\n"
     ]
    },
    {
     "name": "stdout",
     "output_type": "stream",
     "text": [
      "[CV]  splitter=random, min_samples_split=44, min_samples_leaf=48, max_depth=55, criterion=friedman_mse, total=   0.0s\n",
      "[CV] splitter=random, min_samples_split=44, min_samples_leaf=48, max_depth=55, criterion=friedman_mse \n",
      "[CV]  splitter=random, min_samples_split=44, min_samples_leaf=48, max_depth=55, criterion=friedman_mse, total=   0.0s\n",
      "[CV] splitter=random, min_samples_split=44, min_samples_leaf=48, max_depth=55, criterion=friedman_mse \n",
      "[CV]  splitter=random, min_samples_split=44, min_samples_leaf=48, max_depth=55, criterion=friedman_mse, total=   0.0s\n",
      "[CV] splitter=random, min_samples_split=44, min_samples_leaf=48, max_depth=55, criterion=friedman_mse \n",
      "[CV]  splitter=random, min_samples_split=44, min_samples_leaf=48, max_depth=55, criterion=friedman_mse, total=   0.0s\n",
      "[CV] splitter=random, min_samples_split=44, min_samples_leaf=48, max_depth=55, criterion=friedman_mse \n",
      "[CV]  splitter=random, min_samples_split=44, min_samples_leaf=48, max_depth=55, criterion=friedman_mse, total=   0.0s\n",
      "[CV] splitter=random, min_samples_split=44, min_samples_leaf=48, max_depth=55, criterion=friedman_mse \n",
      "[CV]  splitter=random, min_samples_split=44, min_samples_leaf=48, max_depth=55, criterion=friedman_mse, total=   0.1s\n",
      "[CV] splitter=best, min_samples_split=16, min_samples_leaf=13, max_depth=60, criterion=mae \n",
      "[CV]  splitter=best, min_samples_split=16, min_samples_leaf=13, max_depth=60, criterion=mae, total=  18.5s\n",
      "[CV] splitter=best, min_samples_split=16, min_samples_leaf=13, max_depth=60, criterion=mae \n",
      "[CV]  splitter=best, min_samples_split=16, min_samples_leaf=13, max_depth=60, criterion=mae, total=  18.6s\n",
      "[CV] splitter=best, min_samples_split=16, min_samples_leaf=13, max_depth=60, criterion=mae \n",
      "[CV]  splitter=best, min_samples_split=16, min_samples_leaf=13, max_depth=60, criterion=mae, total=  21.2s\n",
      "[CV] splitter=best, min_samples_split=16, min_samples_leaf=13, max_depth=60, criterion=mae \n",
      "[CV]  splitter=best, min_samples_split=16, min_samples_leaf=13, max_depth=60, criterion=mae, total=  18.1s\n",
      "[CV] splitter=best, min_samples_split=16, min_samples_leaf=13, max_depth=60, criterion=mae \n",
      "[CV]  splitter=best, min_samples_split=16, min_samples_leaf=13, max_depth=60, criterion=mae, total=  18.8s\n",
      "[CV] splitter=best, min_samples_split=16, min_samples_leaf=13, max_depth=60, criterion=mae \n",
      "[CV]  splitter=best, min_samples_split=16, min_samples_leaf=13, max_depth=60, criterion=mae, total=  18.7s\n",
      "[CV] splitter=best, min_samples_split=16, min_samples_leaf=13, max_depth=60, criterion=mae \n",
      "[CV]  splitter=best, min_samples_split=16, min_samples_leaf=13, max_depth=60, criterion=mae, total=  19.1s\n",
      "[CV] splitter=best, min_samples_split=16, min_samples_leaf=13, max_depth=60, criterion=mae \n",
      "[CV]  splitter=best, min_samples_split=16, min_samples_leaf=13, max_depth=60, criterion=mae, total=  20.1s\n",
      "[CV] splitter=best, min_samples_split=16, min_samples_leaf=13, max_depth=60, criterion=mae \n",
      "[CV]  splitter=best, min_samples_split=16, min_samples_leaf=13, max_depth=60, criterion=mae, total=  20.4s\n",
      "[CV] splitter=best, min_samples_split=16, min_samples_leaf=13, max_depth=60, criterion=mae \n",
      "[CV]  splitter=best, min_samples_split=16, min_samples_leaf=13, max_depth=60, criterion=mae, total=  19.0s\n",
      "[CV] splitter=best, min_samples_split=61, min_samples_leaf=5, max_depth=70, criterion=mse \n",
      "[CV]  splitter=best, min_samples_split=61, min_samples_leaf=5, max_depth=70, criterion=mse, total=   0.1s\n",
      "[CV] splitter=best, min_samples_split=61, min_samples_leaf=5, max_depth=70, criterion=mse \n",
      "[CV]  splitter=best, min_samples_split=61, min_samples_leaf=5, max_depth=70, criterion=mse, total=   0.1s\n",
      "[CV] splitter=best, min_samples_split=61, min_samples_leaf=5, max_depth=70, criterion=mse \n",
      "[CV]  splitter=best, min_samples_split=61, min_samples_leaf=5, max_depth=70, criterion=mse, total=   0.1s\n",
      "[CV] splitter=best, min_samples_split=61, min_samples_leaf=5, max_depth=70, criterion=mse \n",
      "[CV]  splitter=best, min_samples_split=61, min_samples_leaf=5, max_depth=70, criterion=mse, total=   0.1s\n",
      "[CV] splitter=best, min_samples_split=61, min_samples_leaf=5, max_depth=70, criterion=mse \n",
      "[CV]  splitter=best, min_samples_split=61, min_samples_leaf=5, max_depth=70, criterion=mse, total=   0.1s\n",
      "[CV] splitter=best, min_samples_split=61, min_samples_leaf=5, max_depth=70, criterion=mse \n",
      "[CV]  splitter=best, min_samples_split=61, min_samples_leaf=5, max_depth=70, criterion=mse, total=   0.1s\n",
      "[CV] splitter=best, min_samples_split=61, min_samples_leaf=5, max_depth=70, criterion=mse \n",
      "[CV]  splitter=best, min_samples_split=61, min_samples_leaf=5, max_depth=70, criterion=mse, total=   0.1s\n",
      "[CV] splitter=best, min_samples_split=61, min_samples_leaf=5, max_depth=70, criterion=mse \n",
      "[CV]  splitter=best, min_samples_split=61, min_samples_leaf=5, max_depth=70, criterion=mse, total=   0.1s\n",
      "[CV] splitter=best, min_samples_split=61, min_samples_leaf=5, max_depth=70, criterion=mse \n",
      "[CV]  splitter=best, min_samples_split=61, min_samples_leaf=5, max_depth=70, criterion=mse, total=   0.1s\n",
      "[CV] splitter=best, min_samples_split=61, min_samples_leaf=5, max_depth=70, criterion=mse \n",
      "[CV]  splitter=best, min_samples_split=61, min_samples_leaf=5, max_depth=70, criterion=mse, total=   0.1s\n",
      "[CV] splitter=best, min_samples_split=48, min_samples_leaf=40, max_depth=70, criterion=mae \n",
      "[CV]  splitter=best, min_samples_split=48, min_samples_leaf=40, max_depth=70, criterion=mae, total=  17.8s\n",
      "[CV] splitter=best, min_samples_split=48, min_samples_leaf=40, max_depth=70, criterion=mae \n",
      "[CV]  splitter=best, min_samples_split=48, min_samples_leaf=40, max_depth=70, criterion=mae, total=  18.0s\n",
      "[CV] splitter=best, min_samples_split=48, min_samples_leaf=40, max_depth=70, criterion=mae \n",
      "[CV]  splitter=best, min_samples_split=48, min_samples_leaf=40, max_depth=70, criterion=mae, total=  19.9s\n",
      "[CV] splitter=best, min_samples_split=48, min_samples_leaf=40, max_depth=70, criterion=mae \n",
      "[CV]  splitter=best, min_samples_split=48, min_samples_leaf=40, max_depth=70, criterion=mae, total=  17.9s\n",
      "[CV] splitter=best, min_samples_split=48, min_samples_leaf=40, max_depth=70, criterion=mae \n",
      "[CV]  splitter=best, min_samples_split=48, min_samples_leaf=40, max_depth=70, criterion=mae, total=  18.8s\n",
      "[CV] splitter=best, min_samples_split=48, min_samples_leaf=40, max_depth=70, criterion=mae \n",
      "[CV]  splitter=best, min_samples_split=48, min_samples_leaf=40, max_depth=70, criterion=mae, total=  18.3s\n",
      "[CV] splitter=best, min_samples_split=48, min_samples_leaf=40, max_depth=70, criterion=mae \n",
      "[CV]  splitter=best, min_samples_split=48, min_samples_leaf=40, max_depth=70, criterion=mae, total=  18.5s\n",
      "[CV] splitter=best, min_samples_split=48, min_samples_leaf=40, max_depth=70, criterion=mae \n",
      "[CV]  splitter=best, min_samples_split=48, min_samples_leaf=40, max_depth=70, criterion=mae, total=  20.1s\n",
      "[CV] splitter=best, min_samples_split=48, min_samples_leaf=40, max_depth=70, criterion=mae \n",
      "[CV]  splitter=best, min_samples_split=48, min_samples_leaf=40, max_depth=70, criterion=mae, total=  20.2s\n",
      "[CV] splitter=best, min_samples_split=48, min_samples_leaf=40, max_depth=70, criterion=mae \n",
      "[CV]  splitter=best, min_samples_split=48, min_samples_leaf=40, max_depth=70, criterion=mae, total=  18.7s\n",
      "[CV] splitter=random, min_samples_split=84, min_samples_leaf=49, max_depth=50, criterion=friedman_mse \n",
      "[CV]  splitter=random, min_samples_split=84, min_samples_leaf=49, max_depth=50, criterion=friedman_mse, total=   0.0s\n",
      "[CV] splitter=random, min_samples_split=84, min_samples_leaf=49, max_depth=50, criterion=friedman_mse \n",
      "[CV]  splitter=random, min_samples_split=84, min_samples_leaf=49, max_depth=50, criterion=friedman_mse, total=   0.0s\n",
      "[CV] splitter=random, min_samples_split=84, min_samples_leaf=49, max_depth=50, criterion=friedman_mse \n",
      "[CV]  splitter=random, min_samples_split=84, min_samples_leaf=49, max_depth=50, criterion=friedman_mse, total=   0.0s\n",
      "[CV] splitter=random, min_samples_split=84, min_samples_leaf=49, max_depth=50, criterion=friedman_mse \n",
      "[CV]  splitter=random, min_samples_split=84, min_samples_leaf=49, max_depth=50, criterion=friedman_mse, total=   0.0s\n",
      "[CV] splitter=random, min_samples_split=84, min_samples_leaf=49, max_depth=50, criterion=friedman_mse \n",
      "[CV]  splitter=random, min_samples_split=84, min_samples_leaf=49, max_depth=50, criterion=friedman_mse, total=   0.0s\n",
      "[CV] splitter=random, min_samples_split=84, min_samples_leaf=49, max_depth=50, criterion=friedman_mse \n",
      "[CV]  splitter=random, min_samples_split=84, min_samples_leaf=49, max_depth=50, criterion=friedman_mse, total=   0.0s\n",
      "[CV] splitter=random, min_samples_split=84, min_samples_leaf=49, max_depth=50, criterion=friedman_mse \n",
      "[CV]  splitter=random, min_samples_split=84, min_samples_leaf=49, max_depth=50, criterion=friedman_mse, total=   0.0s\n",
      "[CV] splitter=random, min_samples_split=84, min_samples_leaf=49, max_depth=50, criterion=friedman_mse \n",
      "[CV]  splitter=random, min_samples_split=84, min_samples_leaf=49, max_depth=50, criterion=friedman_mse, total=   0.0s\n",
      "[CV] splitter=random, min_samples_split=84, min_samples_leaf=49, max_depth=50, criterion=friedman_mse \n",
      "[CV]  splitter=random, min_samples_split=84, min_samples_leaf=49, max_depth=50, criterion=friedman_mse, total=   0.0s\n",
      "[CV] splitter=random, min_samples_split=84, min_samples_leaf=49, max_depth=50, criterion=friedman_mse \n"
     ]
    },
    {
     "name": "stdout",
     "output_type": "stream",
     "text": [
      "[CV]  splitter=random, min_samples_split=84, min_samples_leaf=49, max_depth=50, criterion=friedman_mse, total=   0.1s\n",
      "[CV] splitter=best, min_samples_split=39, min_samples_leaf=19, max_depth=90, criterion=friedman_mse \n",
      "[CV]  splitter=best, min_samples_split=39, min_samples_leaf=19, max_depth=90, criterion=friedman_mse, total=   0.1s\n",
      "[CV] splitter=best, min_samples_split=39, min_samples_leaf=19, max_depth=90, criterion=friedman_mse \n",
      "[CV]  splitter=best, min_samples_split=39, min_samples_leaf=19, max_depth=90, criterion=friedman_mse, total=   0.1s\n",
      "[CV] splitter=best, min_samples_split=39, min_samples_leaf=19, max_depth=90, criterion=friedman_mse \n",
      "[CV]  splitter=best, min_samples_split=39, min_samples_leaf=19, max_depth=90, criterion=friedman_mse, total=   0.1s\n",
      "[CV] splitter=best, min_samples_split=39, min_samples_leaf=19, max_depth=90, criterion=friedman_mse \n",
      "[CV]  splitter=best, min_samples_split=39, min_samples_leaf=19, max_depth=90, criterion=friedman_mse, total=   0.1s\n",
      "[CV] splitter=best, min_samples_split=39, min_samples_leaf=19, max_depth=90, criterion=friedman_mse \n",
      "[CV]  splitter=best, min_samples_split=39, min_samples_leaf=19, max_depth=90, criterion=friedman_mse, total=   0.1s\n",
      "[CV] splitter=best, min_samples_split=39, min_samples_leaf=19, max_depth=90, criterion=friedman_mse \n",
      "[CV]  splitter=best, min_samples_split=39, min_samples_leaf=19, max_depth=90, criterion=friedman_mse, total=   0.1s\n",
      "[CV] splitter=best, min_samples_split=39, min_samples_leaf=19, max_depth=90, criterion=friedman_mse \n",
      "[CV]  splitter=best, min_samples_split=39, min_samples_leaf=19, max_depth=90, criterion=friedman_mse, total=   0.1s\n",
      "[CV] splitter=best, min_samples_split=39, min_samples_leaf=19, max_depth=90, criterion=friedman_mse \n",
      "[CV]  splitter=best, min_samples_split=39, min_samples_leaf=19, max_depth=90, criterion=friedman_mse, total=   0.1s\n",
      "[CV] splitter=best, min_samples_split=39, min_samples_leaf=19, max_depth=90, criterion=friedman_mse \n",
      "[CV]  splitter=best, min_samples_split=39, min_samples_leaf=19, max_depth=90, criterion=friedman_mse, total=   0.1s\n",
      "[CV] splitter=best, min_samples_split=39, min_samples_leaf=19, max_depth=90, criterion=friedman_mse \n",
      "[CV]  splitter=best, min_samples_split=39, min_samples_leaf=19, max_depth=90, criterion=friedman_mse, total=   0.1s\n",
      "[CV] splitter=best, min_samples_split=79, min_samples_leaf=10, max_depth=60, criterion=friedman_mse \n",
      "[CV]  splitter=best, min_samples_split=79, min_samples_leaf=10, max_depth=60, criterion=friedman_mse, total=   0.1s\n",
      "[CV] splitter=best, min_samples_split=79, min_samples_leaf=10, max_depth=60, criterion=friedman_mse \n",
      "[CV]  splitter=best, min_samples_split=79, min_samples_leaf=10, max_depth=60, criterion=friedman_mse, total=   0.1s\n",
      "[CV] splitter=best, min_samples_split=79, min_samples_leaf=10, max_depth=60, criterion=friedman_mse \n",
      "[CV]  splitter=best, min_samples_split=79, min_samples_leaf=10, max_depth=60, criterion=friedman_mse, total=   0.1s\n",
      "[CV] splitter=best, min_samples_split=79, min_samples_leaf=10, max_depth=60, criterion=friedman_mse \n",
      "[CV]  splitter=best, min_samples_split=79, min_samples_leaf=10, max_depth=60, criterion=friedman_mse, total=   0.1s\n",
      "[CV] splitter=best, min_samples_split=79, min_samples_leaf=10, max_depth=60, criterion=friedman_mse \n",
      "[CV]  splitter=best, min_samples_split=79, min_samples_leaf=10, max_depth=60, criterion=friedman_mse, total=   0.1s\n",
      "[CV] splitter=best, min_samples_split=79, min_samples_leaf=10, max_depth=60, criterion=friedman_mse \n",
      "[CV]  splitter=best, min_samples_split=79, min_samples_leaf=10, max_depth=60, criterion=friedman_mse, total=   0.1s\n",
      "[CV] splitter=best, min_samples_split=79, min_samples_leaf=10, max_depth=60, criterion=friedman_mse \n",
      "[CV]  splitter=best, min_samples_split=79, min_samples_leaf=10, max_depth=60, criterion=friedman_mse, total=   0.1s\n",
      "[CV] splitter=best, min_samples_split=79, min_samples_leaf=10, max_depth=60, criterion=friedman_mse \n",
      "[CV]  splitter=best, min_samples_split=79, min_samples_leaf=10, max_depth=60, criterion=friedman_mse, total=   0.1s\n",
      "[CV] splitter=best, min_samples_split=79, min_samples_leaf=10, max_depth=60, criterion=friedman_mse \n",
      "[CV]  splitter=best, min_samples_split=79, min_samples_leaf=10, max_depth=60, criterion=friedman_mse, total=   0.1s\n",
      "[CV] splitter=best, min_samples_split=79, min_samples_leaf=10, max_depth=60, criterion=friedman_mse \n",
      "[CV]  splitter=best, min_samples_split=79, min_samples_leaf=10, max_depth=60, criterion=friedman_mse, total=   0.1s\n",
      "[CV] splitter=best, min_samples_split=59, min_samples_leaf=16, max_depth=45, criterion=mse \n",
      "[CV]  splitter=best, min_samples_split=59, min_samples_leaf=16, max_depth=45, criterion=mse, total=   0.1s\n",
      "[CV] splitter=best, min_samples_split=59, min_samples_leaf=16, max_depth=45, criterion=mse \n",
      "[CV]  splitter=best, min_samples_split=59, min_samples_leaf=16, max_depth=45, criterion=mse, total=   0.1s\n",
      "[CV] splitter=best, min_samples_split=59, min_samples_leaf=16, max_depth=45, criterion=mse \n",
      "[CV]  splitter=best, min_samples_split=59, min_samples_leaf=16, max_depth=45, criterion=mse, total=   0.1s\n",
      "[CV] splitter=best, min_samples_split=59, min_samples_leaf=16, max_depth=45, criterion=mse \n",
      "[CV]  splitter=best, min_samples_split=59, min_samples_leaf=16, max_depth=45, criterion=mse, total=   0.1s\n",
      "[CV] splitter=best, min_samples_split=59, min_samples_leaf=16, max_depth=45, criterion=mse \n",
      "[CV]  splitter=best, min_samples_split=59, min_samples_leaf=16, max_depth=45, criterion=mse, total=   0.1s\n",
      "[CV] splitter=best, min_samples_split=59, min_samples_leaf=16, max_depth=45, criterion=mse \n",
      "[CV]  splitter=best, min_samples_split=59, min_samples_leaf=16, max_depth=45, criterion=mse, total=   0.1s\n",
      "[CV] splitter=best, min_samples_split=59, min_samples_leaf=16, max_depth=45, criterion=mse \n",
      "[CV]  splitter=best, min_samples_split=59, min_samples_leaf=16, max_depth=45, criterion=mse, total=   0.1s\n",
      "[CV] splitter=best, min_samples_split=59, min_samples_leaf=16, max_depth=45, criterion=mse \n",
      "[CV]  splitter=best, min_samples_split=59, min_samples_leaf=16, max_depth=45, criterion=mse, total=   0.1s\n",
      "[CV] splitter=best, min_samples_split=59, min_samples_leaf=16, max_depth=45, criterion=mse \n",
      "[CV]  splitter=best, min_samples_split=59, min_samples_leaf=16, max_depth=45, criterion=mse, total=   0.1s\n",
      "[CV] splitter=best, min_samples_split=59, min_samples_leaf=16, max_depth=45, criterion=mse \n",
      "[CV]  splitter=best, min_samples_split=59, min_samples_leaf=16, max_depth=45, criterion=mse, total=   0.1s\n",
      "[CV] splitter=random, min_samples_split=69, min_samples_leaf=11, max_depth=70, criterion=mae \n",
      "[CV]  splitter=random, min_samples_split=69, min_samples_leaf=11, max_depth=70, criterion=mae, total=  23.4s\n",
      "[CV] splitter=random, min_samples_split=69, min_samples_leaf=11, max_depth=70, criterion=mae \n",
      "[CV]  splitter=random, min_samples_split=69, min_samples_leaf=11, max_depth=70, criterion=mae, total=  16.5s\n",
      "[CV] splitter=random, min_samples_split=69, min_samples_leaf=11, max_depth=70, criterion=mae \n",
      "[CV]  splitter=random, min_samples_split=69, min_samples_leaf=11, max_depth=70, criterion=mae, total=  24.4s\n",
      "[CV] splitter=random, min_samples_split=69, min_samples_leaf=11, max_depth=70, criterion=mae \n",
      "[CV]  splitter=random, min_samples_split=69, min_samples_leaf=11, max_depth=70, criterion=mae, total=  32.8s\n",
      "[CV] splitter=random, min_samples_split=69, min_samples_leaf=11, max_depth=70, criterion=mae \n",
      "[CV]  splitter=random, min_samples_split=69, min_samples_leaf=11, max_depth=70, criterion=mae, total=  21.5s\n",
      "[CV] splitter=random, min_samples_split=69, min_samples_leaf=11, max_depth=70, criterion=mae \n",
      "[CV]  splitter=random, min_samples_split=69, min_samples_leaf=11, max_depth=70, criterion=mae, total=  20.6s\n",
      "[CV] splitter=random, min_samples_split=69, min_samples_leaf=11, max_depth=70, criterion=mae \n",
      "[CV]  splitter=random, min_samples_split=69, min_samples_leaf=11, max_depth=70, criterion=mae, total=  26.6s\n",
      "[CV] splitter=random, min_samples_split=69, min_samples_leaf=11, max_depth=70, criterion=mae \n",
      "[CV]  splitter=random, min_samples_split=69, min_samples_leaf=11, max_depth=70, criterion=mae, total=  17.3s\n",
      "[CV] splitter=random, min_samples_split=69, min_samples_leaf=11, max_depth=70, criterion=mae \n",
      "[CV]  splitter=random, min_samples_split=69, min_samples_leaf=11, max_depth=70, criterion=mae, total=  21.3s\n",
      "[CV] splitter=random, min_samples_split=69, min_samples_leaf=11, max_depth=70, criterion=mae \n"
     ]
    },
    {
     "name": "stdout",
     "output_type": "stream",
     "text": [
      "[CV]  splitter=random, min_samples_split=69, min_samples_leaf=11, max_depth=70, criterion=mae, total=  23.2s\n",
      "[CV] splitter=best, min_samples_split=28, min_samples_leaf=10, max_depth=5, criterion=mse \n",
      "[CV]  splitter=best, min_samples_split=28, min_samples_leaf=10, max_depth=5, criterion=mse, total=   0.0s\n",
      "[CV] splitter=best, min_samples_split=28, min_samples_leaf=10, max_depth=5, criterion=mse \n",
      "[CV]  splitter=best, min_samples_split=28, min_samples_leaf=10, max_depth=5, criterion=mse, total=   0.0s\n",
      "[CV] splitter=best, min_samples_split=28, min_samples_leaf=10, max_depth=5, criterion=mse \n",
      "[CV]  splitter=best, min_samples_split=28, min_samples_leaf=10, max_depth=5, criterion=mse, total=   0.0s\n",
      "[CV] splitter=best, min_samples_split=28, min_samples_leaf=10, max_depth=5, criterion=mse \n",
      "[CV]  splitter=best, min_samples_split=28, min_samples_leaf=10, max_depth=5, criterion=mse, total=   0.0s\n",
      "[CV] splitter=best, min_samples_split=28, min_samples_leaf=10, max_depth=5, criterion=mse \n",
      "[CV]  splitter=best, min_samples_split=28, min_samples_leaf=10, max_depth=5, criterion=mse, total=   0.0s\n",
      "[CV] splitter=best, min_samples_split=28, min_samples_leaf=10, max_depth=5, criterion=mse \n",
      "[CV]  splitter=best, min_samples_split=28, min_samples_leaf=10, max_depth=5, criterion=mse, total=   0.0s\n",
      "[CV] splitter=best, min_samples_split=28, min_samples_leaf=10, max_depth=5, criterion=mse \n",
      "[CV]  splitter=best, min_samples_split=28, min_samples_leaf=10, max_depth=5, criterion=mse, total=   0.0s\n",
      "[CV] splitter=best, min_samples_split=28, min_samples_leaf=10, max_depth=5, criterion=mse \n",
      "[CV]  splitter=best, min_samples_split=28, min_samples_leaf=10, max_depth=5, criterion=mse, total=   0.0s\n",
      "[CV] splitter=best, min_samples_split=28, min_samples_leaf=10, max_depth=5, criterion=mse \n",
      "[CV]  splitter=best, min_samples_split=28, min_samples_leaf=10, max_depth=5, criterion=mse, total=   0.0s\n",
      "[CV] splitter=best, min_samples_split=28, min_samples_leaf=10, max_depth=5, criterion=mse \n",
      "[CV]  splitter=best, min_samples_split=28, min_samples_leaf=10, max_depth=5, criterion=mse, total=   0.0s\n"
     ]
    },
    {
     "name": "stderr",
     "output_type": "stream",
     "text": [
      "[Parallel(n_jobs=1)]: Done 100 out of 100 | elapsed: 10.2min finished\n"
     ]
    },
    {
     "data": {
      "text/plain": [
       "{'splitter': 'best',\n",
       " 'min_samples_split': 28,\n",
       " 'min_samples_leaf': 10,\n",
       " 'max_depth': 5,\n",
       " 'criterion': 'mse'}"
      ]
     },
     "execution_count": 30,
     "metadata": {},
     "output_type": "execute_result"
    }
   ],
   "source": [
    "dtr = DecisionTreeRegressor()\n",
    "possible_parameter_values = {'criterion' : ['mse', 'friedman_mse', 'mae'],\n",
    "                             'splitter' : ['best', 'random'],\n",
    "                             'max_depth' : [int(x) for x in np.arange(start = 5, stop = 101, step = 5)],\n",
    "                             'min_samples_split' : [int(x) for x in np.arange(start = 5, stop = 101, step = 1)],\n",
    "                             'min_samples_leaf' : [int(x) for x in np.arange(start = 1, stop = 51, step = 1)]}\n",
    "dtr_rscv = RandomizedSearchCV(estimator = dtr, param_distributions = possible_parameter_values, cv = 10, scoring = 'neg_mean_squared_error', verbose = 2, random_state = 17, \n",
    "                              n_jobs = 1)\n",
    "dtr_rscv.fit(X_train, y_train)\n",
    "dtr_rscv.best_params_"
   ]
  },
  {
   "cell_type": "code",
   "execution_count": 52,
   "metadata": {
    "ExecuteTime": {
     "end_time": "2021-04-09T11:00:06.026404Z",
     "start_time": "2021-04-09T11:00:05.993494Z"
    }
   },
   "outputs": [
    {
     "name": "stdout",
     "output_type": "stream",
     "text": [
      "Decision Tree Regressor:\n",
      "----------------------------------------------------------------------------------------------------\n",
      "Train r2_score:  0.5403038150780984\n",
      "Test r2_score:  0.5179605329607417\n",
      "----------------------------------------------------------------------------------------------------\n",
      "Train RMSE:  19.451349556358952\n",
      "Test RMSE:  20.408186488954648\n",
      "----------------------------------------------------------------------------------------------------\n",
      "Train MAPE:  0.09675354259904664\n",
      "Test MAPE:  0.09856665840867859\n"
     ]
    }
   ],
   "source": [
    "y_train_pred_dtr = dtr_rscv.predict(X_train)\n",
    "y_test_pred_dtr = dtr_rscv.predict(X_test)\n",
    "print('Decision Tree Regressor:')\n",
    "print('-' * 100)\n",
    "print('Train r2_score: ', r2_score(y_train, y_train_pred_dtr))\n",
    "print('Test r2_score: ', r2_score(y_test, y_test_pred_dtr))\n",
    "print('-' * 100)\n",
    "print('Train RMSE: ', np.sqrt(mean_squared_error(y_train, y_train_pred_dtr)))\n",
    "print('Test RMSE: ', np.sqrt(mean_squared_error(y_test, y_test_pred_dtr)))\n",
    "print('-' * 100)\n",
    "print('Train MAPE: ', np.mean(mean_absolute_error(y_train, y_train_pred_dtr) / y_train))\n",
    "print('Test MAPE: ', np.mean(mean_absolute_error(y_test, y_test_pred_dtr) / y_test))"
   ]
  },
  {
   "cell_type": "code",
   "execution_count": 53,
   "metadata": {
    "ExecuteTime": {
     "end_time": "2021-04-09T11:00:07.267776Z",
     "start_time": "2021-04-09T11:00:07.112263Z"
    }
   },
   "outputs": [
    {
     "data": {
      "text/plain": [
       "True     0.630594\n",
       "False    0.369406\n",
       "Name: Bool, dtype: float64"
      ]
     },
     "execution_count": 53,
     "metadata": {},
     "output_type": "execute_result"
    }
   ],
   "source": [
    "data_dtr = pd.DataFrame()\n",
    "data_dtr['actual'] = y_test\n",
    "data_dtr['predicted'] = y_test_pred_dtr\n",
    "data_dtr['lower range'] = y_test_pred_dtr - (0.09856665840867859 * y_test_pred_dtr)\n",
    "data_dtr['upper range'] = y_test_pred_dtr + (0.09856665840867859 * y_test_pred_dtr)\n",
    "t_list = []\n",
    "for i in data_dtr.index:\n",
    "    if data_dtr['actual'][i] > data_dtr['lower range'][i]:\n",
    "        if data_dtr['actual'][i] < data_dtr['upper range'][i]:\n",
    "            t_list.append('True')\n",
    "        else:\n",
    "            t_list.append('False')\n",
    "    else:\n",
    "        t_list.append('False')\n",
    "data_dtr['Bool'] = t_list\n",
    "data_dtr['Bool'].value_counts()/data_dtr.shape[0]"
   ]
  },
  {
   "cell_type": "code",
   "execution_count": 37,
   "metadata": {
    "ExecuteTime": {
     "end_time": "2021-04-09T08:10:58.675583Z",
     "start_time": "2021-04-09T07:40:38.304242Z"
    }
   },
   "outputs": [
    {
     "name": "stdout",
     "output_type": "stream",
     "text": [
      "Fitting 10 folds for each of 10 candidates, totalling 100 fits\n",
      "[CV] n_estimators=200, min_samples_split=68, min_samples_leaf=18, max_depth=55 \n"
     ]
    },
    {
     "name": "stderr",
     "output_type": "stream",
     "text": [
      "[Parallel(n_jobs=1)]: Using backend SequentialBackend with 1 concurrent workers.\n"
     ]
    },
    {
     "name": "stdout",
     "output_type": "stream",
     "text": [
      "[CV]  n_estimators=200, min_samples_split=68, min_samples_leaf=18, max_depth=55, total=   7.9s\n",
      "[CV] n_estimators=200, min_samples_split=68, min_samples_leaf=18, max_depth=55 \n"
     ]
    },
    {
     "name": "stderr",
     "output_type": "stream",
     "text": [
      "[Parallel(n_jobs=1)]: Done   1 out of   1 | elapsed:    7.8s remaining:    0.0s\n"
     ]
    },
    {
     "name": "stdout",
     "output_type": "stream",
     "text": [
      "[CV]  n_estimators=200, min_samples_split=68, min_samples_leaf=18, max_depth=55, total=   7.9s\n",
      "[CV] n_estimators=200, min_samples_split=68, min_samples_leaf=18, max_depth=55 \n",
      "[CV]  n_estimators=200, min_samples_split=68, min_samples_leaf=18, max_depth=55, total=   8.2s\n",
      "[CV] n_estimators=200, min_samples_split=68, min_samples_leaf=18, max_depth=55 \n",
      "[CV]  n_estimators=200, min_samples_split=68, min_samples_leaf=18, max_depth=55, total=   8.3s\n",
      "[CV] n_estimators=200, min_samples_split=68, min_samples_leaf=18, max_depth=55 \n",
      "[CV]  n_estimators=200, min_samples_split=68, min_samples_leaf=18, max_depth=55, total=   8.1s\n",
      "[CV] n_estimators=200, min_samples_split=68, min_samples_leaf=18, max_depth=55 \n",
      "[CV]  n_estimators=200, min_samples_split=68, min_samples_leaf=18, max_depth=55, total=   8.2s\n",
      "[CV] n_estimators=200, min_samples_split=68, min_samples_leaf=18, max_depth=55 \n",
      "[CV]  n_estimators=200, min_samples_split=68, min_samples_leaf=18, max_depth=55, total=   8.4s\n",
      "[CV] n_estimators=200, min_samples_split=68, min_samples_leaf=18, max_depth=55 \n",
      "[CV]  n_estimators=200, min_samples_split=68, min_samples_leaf=18, max_depth=55, total=   8.1s\n",
      "[CV] n_estimators=200, min_samples_split=68, min_samples_leaf=18, max_depth=55 \n",
      "[CV]  n_estimators=200, min_samples_split=68, min_samples_leaf=18, max_depth=55, total=   8.3s\n",
      "[CV] n_estimators=200, min_samples_split=68, min_samples_leaf=18, max_depth=55 \n",
      "[CV]  n_estimators=200, min_samples_split=68, min_samples_leaf=18, max_depth=55, total=   7.9s\n",
      "[CV] n_estimators=100, min_samples_split=81, min_samples_leaf=7, max_depth=35 \n",
      "[CV]  n_estimators=100, min_samples_split=81, min_samples_leaf=7, max_depth=35, total=   4.0s\n",
      "[CV] n_estimators=100, min_samples_split=81, min_samples_leaf=7, max_depth=35 \n",
      "[CV]  n_estimators=100, min_samples_split=81, min_samples_leaf=7, max_depth=35, total=   4.6s\n",
      "[CV] n_estimators=100, min_samples_split=81, min_samples_leaf=7, max_depth=35 \n",
      "[CV]  n_estimators=100, min_samples_split=81, min_samples_leaf=7, max_depth=35, total=   4.6s\n",
      "[CV] n_estimators=100, min_samples_split=81, min_samples_leaf=7, max_depth=35 \n",
      "[CV]  n_estimators=100, min_samples_split=81, min_samples_leaf=7, max_depth=35, total=   4.5s\n",
      "[CV] n_estimators=100, min_samples_split=81, min_samples_leaf=7, max_depth=35 \n",
      "[CV]  n_estimators=100, min_samples_split=81, min_samples_leaf=7, max_depth=35, total=   4.4s\n",
      "[CV] n_estimators=100, min_samples_split=81, min_samples_leaf=7, max_depth=35 \n",
      "[CV]  n_estimators=100, min_samples_split=81, min_samples_leaf=7, max_depth=35, total=   4.5s\n",
      "[CV] n_estimators=100, min_samples_split=81, min_samples_leaf=7, max_depth=35 \n",
      "[CV]  n_estimators=100, min_samples_split=81, min_samples_leaf=7, max_depth=35, total=   4.8s\n",
      "[CV] n_estimators=100, min_samples_split=81, min_samples_leaf=7, max_depth=35 \n",
      "[CV]  n_estimators=100, min_samples_split=81, min_samples_leaf=7, max_depth=35, total=   4.7s\n",
      "[CV] n_estimators=100, min_samples_split=81, min_samples_leaf=7, max_depth=35 \n",
      "[CV]  n_estimators=100, min_samples_split=81, min_samples_leaf=7, max_depth=35, total=   4.6s\n",
      "[CV] n_estimators=100, min_samples_split=81, min_samples_leaf=7, max_depth=35 \n",
      "[CV]  n_estimators=100, min_samples_split=81, min_samples_leaf=7, max_depth=35, total=   4.3s\n",
      "[CV] n_estimators=1000, min_samples_split=88, min_samples_leaf=1, max_depth=75 \n",
      "[CV]  n_estimators=1000, min_samples_split=88, min_samples_leaf=1, max_depth=75, total=  43.7s\n",
      "[CV] n_estimators=1000, min_samples_split=88, min_samples_leaf=1, max_depth=75 \n",
      "[CV]  n_estimators=1000, min_samples_split=88, min_samples_leaf=1, max_depth=75, total=  42.5s\n",
      "[CV] n_estimators=1000, min_samples_split=88, min_samples_leaf=1, max_depth=75 \n",
      "[CV]  n_estimators=1000, min_samples_split=88, min_samples_leaf=1, max_depth=75, total=  44.6s\n",
      "[CV] n_estimators=1000, min_samples_split=88, min_samples_leaf=1, max_depth=75 \n",
      "[CV]  n_estimators=1000, min_samples_split=88, min_samples_leaf=1, max_depth=75, total=  43.4s\n",
      "[CV] n_estimators=1000, min_samples_split=88, min_samples_leaf=1, max_depth=75 \n",
      "[CV]  n_estimators=1000, min_samples_split=88, min_samples_leaf=1, max_depth=75, total=  42.6s\n",
      "[CV] n_estimators=1000, min_samples_split=88, min_samples_leaf=1, max_depth=75 \n",
      "[CV]  n_estimators=1000, min_samples_split=88, min_samples_leaf=1, max_depth=75, total=  40.6s\n",
      "[CV] n_estimators=1000, min_samples_split=88, min_samples_leaf=1, max_depth=75 \n",
      "[CV]  n_estimators=1000, min_samples_split=88, min_samples_leaf=1, max_depth=75, total=  43.4s\n",
      "[CV] n_estimators=1000, min_samples_split=88, min_samples_leaf=1, max_depth=75 \n",
      "[CV]  n_estimators=1000, min_samples_split=88, min_samples_leaf=1, max_depth=75, total=  42.7s\n",
      "[CV] n_estimators=1000, min_samples_split=88, min_samples_leaf=1, max_depth=75 \n",
      "[CV]  n_estimators=1000, min_samples_split=88, min_samples_leaf=1, max_depth=75, total=  41.3s\n",
      "[CV] n_estimators=1000, min_samples_split=88, min_samples_leaf=1, max_depth=75 \n",
      "[CV]  n_estimators=1000, min_samples_split=88, min_samples_leaf=1, max_depth=75, total=  40.4s\n",
      "[CV] n_estimators=350, min_samples_split=25, min_samples_leaf=7, max_depth=30 \n",
      "[CV]  n_estimators=350, min_samples_split=25, min_samples_leaf=7, max_depth=30, total=  17.3s\n",
      "[CV] n_estimators=350, min_samples_split=25, min_samples_leaf=7, max_depth=30 \n",
      "[CV]  n_estimators=350, min_samples_split=25, min_samples_leaf=7, max_depth=30, total=  16.4s\n",
      "[CV] n_estimators=350, min_samples_split=25, min_samples_leaf=7, max_depth=30 \n",
      "[CV]  n_estimators=350, min_samples_split=25, min_samples_leaf=7, max_depth=30, total=  17.0s\n",
      "[CV] n_estimators=350, min_samples_split=25, min_samples_leaf=7, max_depth=30 \n",
      "[CV]  n_estimators=350, min_samples_split=25, min_samples_leaf=7, max_depth=30, total=  16.9s\n",
      "[CV] n_estimators=350, min_samples_split=25, min_samples_leaf=7, max_depth=30 \n",
      "[CV]  n_estimators=350, min_samples_split=25, min_samples_leaf=7, max_depth=30, total=  16.5s\n",
      "[CV] n_estimators=350, min_samples_split=25, min_samples_leaf=7, max_depth=30 \n",
      "[CV]  n_estimators=350, min_samples_split=25, min_samples_leaf=7, max_depth=30, total=  16.3s\n",
      "[CV] n_estimators=350, min_samples_split=25, min_samples_leaf=7, max_depth=30 \n",
      "[CV]  n_estimators=350, min_samples_split=25, min_samples_leaf=7, max_depth=30, total=  16.5s\n",
      "[CV] n_estimators=350, min_samples_split=25, min_samples_leaf=7, max_depth=30 \n",
      "[CV]  n_estimators=350, min_samples_split=25, min_samples_leaf=7, max_depth=30, total=  16.7s\n",
      "[CV] n_estimators=350, min_samples_split=25, min_samples_leaf=7, max_depth=30 \n",
      "[CV]  n_estimators=350, min_samples_split=25, min_samples_leaf=7, max_depth=30, total=  16.3s\n",
      "[CV] n_estimators=350, min_samples_split=25, min_samples_leaf=7, max_depth=30 \n",
      "[CV]  n_estimators=350, min_samples_split=25, min_samples_leaf=7, max_depth=30, total=  16.3s\n",
      "[CV] n_estimators=500, min_samples_split=65, min_samples_leaf=32, max_depth=45 \n",
      "[CV]  n_estimators=500, min_samples_split=65, min_samples_leaf=32, max_depth=45, total=  19.7s\n",
      "[CV] n_estimators=500, min_samples_split=65, min_samples_leaf=32, max_depth=45 \n",
      "[CV]  n_estimators=500, min_samples_split=65, min_samples_leaf=32, max_depth=45, total=  19.4s\n",
      "[CV] n_estimators=500, min_samples_split=65, min_samples_leaf=32, max_depth=45 \n",
      "[CV]  n_estimators=500, min_samples_split=65, min_samples_leaf=32, max_depth=45, total=  19.2s\n",
      "[CV] n_estimators=500, min_samples_split=65, min_samples_leaf=32, max_depth=45 \n",
      "[CV]  n_estimators=500, min_samples_split=65, min_samples_leaf=32, max_depth=45, total=  18.9s\n",
      "[CV] n_estimators=500, min_samples_split=65, min_samples_leaf=32, max_depth=45 \n",
      "[CV]  n_estimators=500, min_samples_split=65, min_samples_leaf=32, max_depth=45, total=  18.8s\n",
      "[CV] n_estimators=500, min_samples_split=65, min_samples_leaf=32, max_depth=45 \n",
      "[CV]  n_estimators=500, min_samples_split=65, min_samples_leaf=32, max_depth=45, total=  18.9s\n",
      "[CV] n_estimators=500, min_samples_split=65, min_samples_leaf=32, max_depth=45 \n",
      "[CV]  n_estimators=500, min_samples_split=65, min_samples_leaf=32, max_depth=45, total=  19.1s\n",
      "[CV] n_estimators=500, min_samples_split=65, min_samples_leaf=32, max_depth=45 \n",
      "[CV]  n_estimators=500, min_samples_split=65, min_samples_leaf=32, max_depth=45, total=  19.4s\n",
      "[CV] n_estimators=500, min_samples_split=65, min_samples_leaf=32, max_depth=45 \n",
      "[CV]  n_estimators=500, min_samples_split=65, min_samples_leaf=32, max_depth=45, total=  19.1s\n",
      "[CV] n_estimators=500, min_samples_split=65, min_samples_leaf=32, max_depth=45 \n"
     ]
    },
    {
     "name": "stdout",
     "output_type": "stream",
     "text": [
      "[CV]  n_estimators=500, min_samples_split=65, min_samples_leaf=32, max_depth=45, total=  19.4s\n",
      "[CV] n_estimators=50, min_samples_split=49, min_samples_leaf=16, max_depth=10 \n",
      "[CV]  n_estimators=50, min_samples_split=49, min_samples_leaf=16, max_depth=10, total=   1.7s\n",
      "[CV] n_estimators=50, min_samples_split=49, min_samples_leaf=16, max_depth=10 \n",
      "[CV]  n_estimators=50, min_samples_split=49, min_samples_leaf=16, max_depth=10, total=   1.8s\n",
      "[CV] n_estimators=50, min_samples_split=49, min_samples_leaf=16, max_depth=10 \n",
      "[CV]  n_estimators=50, min_samples_split=49, min_samples_leaf=16, max_depth=10, total=   1.8s\n",
      "[CV] n_estimators=50, min_samples_split=49, min_samples_leaf=16, max_depth=10 \n",
      "[CV]  n_estimators=50, min_samples_split=49, min_samples_leaf=16, max_depth=10, total=   1.9s\n",
      "[CV] n_estimators=50, min_samples_split=49, min_samples_leaf=16, max_depth=10 \n",
      "[CV]  n_estimators=50, min_samples_split=49, min_samples_leaf=16, max_depth=10, total=   1.7s\n",
      "[CV] n_estimators=50, min_samples_split=49, min_samples_leaf=16, max_depth=10 \n",
      "[CV]  n_estimators=50, min_samples_split=49, min_samples_leaf=16, max_depth=10, total=   1.7s\n",
      "[CV] n_estimators=50, min_samples_split=49, min_samples_leaf=16, max_depth=10 \n",
      "[CV]  n_estimators=50, min_samples_split=49, min_samples_leaf=16, max_depth=10, total=   1.7s\n",
      "[CV] n_estimators=50, min_samples_split=49, min_samples_leaf=16, max_depth=10 \n",
      "[CV]  n_estimators=50, min_samples_split=49, min_samples_leaf=16, max_depth=10, total=   1.8s\n",
      "[CV] n_estimators=50, min_samples_split=49, min_samples_leaf=16, max_depth=10 \n",
      "[CV]  n_estimators=50, min_samples_split=49, min_samples_leaf=16, max_depth=10, total=   1.8s\n",
      "[CV] n_estimators=50, min_samples_split=49, min_samples_leaf=16, max_depth=10 \n",
      "[CV]  n_estimators=50, min_samples_split=49, min_samples_leaf=16, max_depth=10, total=   1.8s\n",
      "[CV] n_estimators=500, min_samples_split=26, min_samples_leaf=5, max_depth=45 \n",
      "[CV]  n_estimators=500, min_samples_split=26, min_samples_leaf=5, max_depth=45, total=  24.5s\n",
      "[CV] n_estimators=500, min_samples_split=26, min_samples_leaf=5, max_depth=45 \n",
      "[CV]  n_estimators=500, min_samples_split=26, min_samples_leaf=5, max_depth=45, total=  24.7s\n",
      "[CV] n_estimators=500, min_samples_split=26, min_samples_leaf=5, max_depth=45 \n",
      "[CV]  n_estimators=500, min_samples_split=26, min_samples_leaf=5, max_depth=45, total=  24.9s\n",
      "[CV] n_estimators=500, min_samples_split=26, min_samples_leaf=5, max_depth=45 \n",
      "[CV]  n_estimators=500, min_samples_split=26, min_samples_leaf=5, max_depth=45, total=  24.1s\n",
      "[CV] n_estimators=500, min_samples_split=26, min_samples_leaf=5, max_depth=45 \n",
      "[CV]  n_estimators=500, min_samples_split=26, min_samples_leaf=5, max_depth=45, total=  24.7s\n",
      "[CV] n_estimators=500, min_samples_split=26, min_samples_leaf=5, max_depth=45 \n",
      "[CV]  n_estimators=500, min_samples_split=26, min_samples_leaf=5, max_depth=45, total=  23.6s\n",
      "[CV] n_estimators=500, min_samples_split=26, min_samples_leaf=5, max_depth=45 \n",
      "[CV]  n_estimators=500, min_samples_split=26, min_samples_leaf=5, max_depth=45, total=  24.7s\n",
      "[CV] n_estimators=500, min_samples_split=26, min_samples_leaf=5, max_depth=45 \n",
      "[CV]  n_estimators=500, min_samples_split=26, min_samples_leaf=5, max_depth=45, total=  24.6s\n",
      "[CV] n_estimators=500, min_samples_split=26, min_samples_leaf=5, max_depth=45 \n",
      "[CV]  n_estimators=500, min_samples_split=26, min_samples_leaf=5, max_depth=45, total=  25.2s\n",
      "[CV] n_estimators=500, min_samples_split=26, min_samples_leaf=5, max_depth=45 \n",
      "[CV]  n_estimators=500, min_samples_split=26, min_samples_leaf=5, max_depth=45, total=  24.8s\n",
      "[CV] n_estimators=550, min_samples_split=12, min_samples_leaf=16, max_depth=85 \n",
      "[CV]  n_estimators=550, min_samples_split=12, min_samples_leaf=16, max_depth=85, total=  25.4s\n",
      "[CV] n_estimators=550, min_samples_split=12, min_samples_leaf=16, max_depth=85 \n",
      "[CV]  n_estimators=550, min_samples_split=12, min_samples_leaf=16, max_depth=85, total=  24.1s\n",
      "[CV] n_estimators=550, min_samples_split=12, min_samples_leaf=16, max_depth=85 \n",
      "[CV]  n_estimators=550, min_samples_split=12, min_samples_leaf=16, max_depth=85, total=  24.7s\n",
      "[CV] n_estimators=550, min_samples_split=12, min_samples_leaf=16, max_depth=85 \n",
      "[CV]  n_estimators=550, min_samples_split=12, min_samples_leaf=16, max_depth=85, total=  24.7s\n",
      "[CV] n_estimators=550, min_samples_split=12, min_samples_leaf=16, max_depth=85 \n",
      "[CV]  n_estimators=550, min_samples_split=12, min_samples_leaf=16, max_depth=85, total=  24.2s\n",
      "[CV] n_estimators=550, min_samples_split=12, min_samples_leaf=16, max_depth=85 \n",
      "[CV]  n_estimators=550, min_samples_split=12, min_samples_leaf=16, max_depth=85, total=  24.1s\n",
      "[CV] n_estimators=550, min_samples_split=12, min_samples_leaf=16, max_depth=85 \n",
      "[CV]  n_estimators=550, min_samples_split=12, min_samples_leaf=16, max_depth=85, total=  24.1s\n",
      "[CV] n_estimators=550, min_samples_split=12, min_samples_leaf=16, max_depth=85 \n",
      "[CV]  n_estimators=550, min_samples_split=12, min_samples_leaf=16, max_depth=85, total=  26.3s\n",
      "[CV] n_estimators=550, min_samples_split=12, min_samples_leaf=16, max_depth=85 \n",
      "[CV]  n_estimators=550, min_samples_split=12, min_samples_leaf=16, max_depth=85, total=  24.6s\n",
      "[CV] n_estimators=550, min_samples_split=12, min_samples_leaf=16, max_depth=85 \n",
      "[CV]  n_estimators=550, min_samples_split=12, min_samples_leaf=16, max_depth=85, total=  23.4s\n",
      "[CV] n_estimators=800, min_samples_split=89, min_samples_leaf=50, max_depth=15 \n",
      "[CV]  n_estimators=800, min_samples_split=89, min_samples_leaf=50, max_depth=15, total=  28.3s\n",
      "[CV] n_estimators=800, min_samples_split=89, min_samples_leaf=50, max_depth=15 \n",
      "[CV]  n_estimators=800, min_samples_split=89, min_samples_leaf=50, max_depth=15, total=  28.3s\n",
      "[CV] n_estimators=800, min_samples_split=89, min_samples_leaf=50, max_depth=15 \n",
      "[CV]  n_estimators=800, min_samples_split=89, min_samples_leaf=50, max_depth=15, total=  28.2s\n",
      "[CV] n_estimators=800, min_samples_split=89, min_samples_leaf=50, max_depth=15 \n",
      "[CV]  n_estimators=800, min_samples_split=89, min_samples_leaf=50, max_depth=15, total=  27.9s\n",
      "[CV] n_estimators=800, min_samples_split=89, min_samples_leaf=50, max_depth=15 \n",
      "[CV]  n_estimators=800, min_samples_split=89, min_samples_leaf=50, max_depth=15, total=  28.1s\n",
      "[CV] n_estimators=800, min_samples_split=89, min_samples_leaf=50, max_depth=15 \n",
      "[CV]  n_estimators=800, min_samples_split=89, min_samples_leaf=50, max_depth=15, total=  27.4s\n",
      "[CV] n_estimators=800, min_samples_split=89, min_samples_leaf=50, max_depth=15 \n",
      "[CV]  n_estimators=800, min_samples_split=89, min_samples_leaf=50, max_depth=15, total=  27.7s\n",
      "[CV] n_estimators=800, min_samples_split=89, min_samples_leaf=50, max_depth=15 \n",
      "[CV]  n_estimators=800, min_samples_split=89, min_samples_leaf=50, max_depth=15, total=  28.2s\n",
      "[CV] n_estimators=800, min_samples_split=89, min_samples_leaf=50, max_depth=15 \n",
      "[CV]  n_estimators=800, min_samples_split=89, min_samples_leaf=50, max_depth=15, total=  27.5s\n",
      "[CV] n_estimators=800, min_samples_split=89, min_samples_leaf=50, max_depth=15 \n",
      "[CV]  n_estimators=800, min_samples_split=89, min_samples_leaf=50, max_depth=15, total=  27.4s\n",
      "[CV] n_estimators=250, min_samples_split=85, min_samples_leaf=37, max_depth=20 \n",
      "[CV]  n_estimators=250, min_samples_split=85, min_samples_leaf=37, max_depth=20, total=   9.1s\n",
      "[CV] n_estimators=250, min_samples_split=85, min_samples_leaf=37, max_depth=20 \n",
      "[CV]  n_estimators=250, min_samples_split=85, min_samples_leaf=37, max_depth=20, total=   9.0s\n",
      "[CV] n_estimators=250, min_samples_split=85, min_samples_leaf=37, max_depth=20 \n",
      "[CV]  n_estimators=250, min_samples_split=85, min_samples_leaf=37, max_depth=20, total=   9.2s\n",
      "[CV] n_estimators=250, min_samples_split=85, min_samples_leaf=37, max_depth=20 \n",
      "[CV]  n_estimators=250, min_samples_split=85, min_samples_leaf=37, max_depth=20, total=   9.1s\n",
      "[CV] n_estimators=250, min_samples_split=85, min_samples_leaf=37, max_depth=20 \n",
      "[CV]  n_estimators=250, min_samples_split=85, min_samples_leaf=37, max_depth=20, total=   9.1s\n",
      "[CV] n_estimators=250, min_samples_split=85, min_samples_leaf=37, max_depth=20 \n",
      "[CV]  n_estimators=250, min_samples_split=85, min_samples_leaf=37, max_depth=20, total=   8.9s\n",
      "[CV] n_estimators=250, min_samples_split=85, min_samples_leaf=37, max_depth=20 \n",
      "[CV]  n_estimators=250, min_samples_split=85, min_samples_leaf=37, max_depth=20, total=   9.1s\n",
      "[CV] n_estimators=250, min_samples_split=85, min_samples_leaf=37, max_depth=20 \n"
     ]
    },
    {
     "name": "stdout",
     "output_type": "stream",
     "text": [
      "[CV]  n_estimators=250, min_samples_split=85, min_samples_leaf=37, max_depth=20, total=   9.2s\n",
      "[CV] n_estimators=250, min_samples_split=85, min_samples_leaf=37, max_depth=20 \n",
      "[CV]  n_estimators=250, min_samples_split=85, min_samples_leaf=37, max_depth=20, total=   9.2s\n",
      "[CV] n_estimators=250, min_samples_split=85, min_samples_leaf=37, max_depth=20 \n",
      "[CV]  n_estimators=250, min_samples_split=85, min_samples_leaf=37, max_depth=20, total=   9.0s\n"
     ]
    },
    {
     "name": "stderr",
     "output_type": "stream",
     "text": [
      "[Parallel(n_jobs=1)]: Done 100 out of 100 | elapsed: 29.8min finished\n"
     ]
    },
    {
     "data": {
      "text/plain": [
       "{'n_estimators': 800,\n",
       " 'min_samples_split': 89,\n",
       " 'min_samples_leaf': 50,\n",
       " 'max_depth': 15}"
      ]
     },
     "execution_count": 37,
     "metadata": {},
     "output_type": "execute_result"
    }
   ],
   "source": [
    "rfr = RandomForestRegressor()\n",
    "possible_parameter_values = {'n_estimators' : [int(x) for x in np.arange(start = 50, stop = 1001, step = 50)],\n",
    "                             'max_depth' : [int(x) for x in np.arange(start = 5, stop = 101, step = 5)],\n",
    "                             'min_samples_split' : [int(x) for x in np.arange(start = 5, stop = 101, step = 1)],\n",
    "                             'min_samples_leaf' : [int(x) for x in np.arange(start = 1, stop = 51, step = 1)]}\n",
    "rfr_rscv = RandomizedSearchCV(estimator = rfr, param_distributions = possible_parameter_values, cv = 10, scoring = 'neg_mean_squared_error', verbose = 2, random_state = 17, \n",
    "                              n_jobs = 1)\n",
    "rfr_rscv.fit(X_train, y_train)\n",
    "rfr_rscv.best_params_"
   ]
  },
  {
   "cell_type": "code",
   "execution_count": 54,
   "metadata": {
    "ExecuteTime": {
     "end_time": "2021-04-09T11:00:26.424861Z",
     "start_time": "2021-04-09T11:00:24.609322Z"
    }
   },
   "outputs": [
    {
     "name": "stdout",
     "output_type": "stream",
     "text": [
      "Random Forest Regressor:\n",
      "----------------------------------------------------------------------------------------------------\n",
      "Train r2_score:  0.7391073551624214\n",
      "Test r2_score:  0.6600300398721091\n",
      "----------------------------------------------------------------------------------------------------\n",
      "Train RMSE:  14.653629494626045\n",
      "Test RMSE:  17.138917471265774\n",
      "----------------------------------------------------------------------------------------------------\n",
      "Train MAPE:  0.07003273976873108\n",
      "Test MAPE:  0.080638698151815\n"
     ]
    }
   ],
   "source": [
    "y_train_pred_rfr = rfr_rscv.predict(X_train)\n",
    "y_test_pred_rfr = rfr_rscv.predict(X_test)\n",
    "print('Random Forest Regressor:')\n",
    "print('-' * 100)\n",
    "print('Train r2_score: ', r2_score(y_train, y_train_pred_rfr))\n",
    "print('Test r2_score: ', r2_score(y_test, y_test_pred_rfr))\n",
    "print('-' * 100)\n",
    "print('Train RMSE: ', np.sqrt(mean_squared_error(y_train, y_train_pred_rfr)))\n",
    "print('Test RMSE: ', np.sqrt(mean_squared_error(y_test, y_test_pred_rfr)))\n",
    "print('-' * 100)\n",
    "print('Train MAPE: ', np.mean(mean_absolute_error(y_train, y_train_pred_rfr) / y_train))\n",
    "print('Test MAPE: ', np.mean(mean_absolute_error(y_test, y_test_pred_rfr) / y_test))"
   ]
  },
  {
   "cell_type": "code",
   "execution_count": 55,
   "metadata": {
    "ExecuteTime": {
     "end_time": "2021-04-09T11:00:30.683183Z",
     "start_time": "2021-04-09T11:00:30.526376Z"
    }
   },
   "outputs": [
    {
     "data": {
      "text/plain": [
       "True     0.621045\n",
       "False    0.378955\n",
       "Name: Bool, dtype: float64"
      ]
     },
     "execution_count": 55,
     "metadata": {},
     "output_type": "execute_result"
    }
   ],
   "source": [
    "data_rfr = pd.DataFrame()\n",
    "data_rfr['actual'] = y_test\n",
    "data_rfr['predicted'] = y_test_pred_rfr\n",
    "data_rfr['lower range'] = y_test_pred_rfr - (0.080638698151815 * y_test_pred_rfr)\n",
    "data_rfr['upper range'] = y_test_pred_rfr + (0.080638698151815 * y_test_pred_rfr)\n",
    "t_list = []\n",
    "for i in data_rfr.index:\n",
    "    if data_rfr['actual'][i] > data_rfr['lower range'][i]:\n",
    "        if data_rfr['actual'][i] < data_rfr['upper range'][i]:\n",
    "            t_list.append('True')\n",
    "        else:\n",
    "            t_list.append('False')\n",
    "    else:\n",
    "        t_list.append('False')\n",
    "data_rfr['Bool'] = t_list\n",
    "data_rfr['Bool'].value_counts()/data_rfr.shape[0]"
   ]
  },
  {
   "cell_type": "code",
   "execution_count": 40,
   "metadata": {
    "ExecuteTime": {
     "end_time": "2021-04-09T08:26:23.711373Z",
     "start_time": "2021-04-09T08:19:42.158556Z"
    }
   },
   "outputs": [
    {
     "name": "stdout",
     "output_type": "stream",
     "text": [
      "Fitting 10 folds for each of 10 candidates, totalling 100 fits\n",
      "[CV] n_estimators=200, learning_rate=0.544 ...........................\n"
     ]
    },
    {
     "name": "stderr",
     "output_type": "stream",
     "text": [
      "[Parallel(n_jobs=1)]: Using backend SequentialBackend with 1 concurrent workers.\n"
     ]
    },
    {
     "name": "stdout",
     "output_type": "stream",
     "text": [
      "[CV] ............ n_estimators=200, learning_rate=0.544, total=   1.6s\n",
      "[CV] n_estimators=200, learning_rate=0.544 ...........................\n"
     ]
    },
    {
     "name": "stderr",
     "output_type": "stream",
     "text": [
      "[Parallel(n_jobs=1)]: Done   1 out of   1 | elapsed:    1.5s remaining:    0.0s\n"
     ]
    },
    {
     "name": "stdout",
     "output_type": "stream",
     "text": [
      "[CV] ............ n_estimators=200, learning_rate=0.544, total=   1.2s\n",
      "[CV] n_estimators=200, learning_rate=0.544 ...........................\n",
      "[CV] ............ n_estimators=200, learning_rate=0.544, total=   1.2s\n",
      "[CV] n_estimators=200, learning_rate=0.544 ...........................\n",
      "[CV] ............ n_estimators=200, learning_rate=0.544, total=   1.2s\n",
      "[CV] n_estimators=200, learning_rate=0.544 ...........................\n",
      "[CV] ............ n_estimators=200, learning_rate=0.544, total=   1.5s\n",
      "[CV] n_estimators=200, learning_rate=0.544 ...........................\n",
      "[CV] ............ n_estimators=200, learning_rate=0.544, total=   3.1s\n",
      "[CV] n_estimators=200, learning_rate=0.544 ...........................\n",
      "[CV] ............ n_estimators=200, learning_rate=0.544, total=   1.2s\n",
      "[CV] n_estimators=200, learning_rate=0.544 ...........................\n",
      "[CV] ............ n_estimators=200, learning_rate=0.544, total=   1.8s\n",
      "[CV] n_estimators=200, learning_rate=0.544 ...........................\n",
      "[CV] ............ n_estimators=200, learning_rate=0.544, total=   1.1s\n",
      "[CV] n_estimators=200, learning_rate=0.544 ...........................\n",
      "[CV] ............ n_estimators=200, learning_rate=0.544, total=   1.3s\n",
      "[CV] n_estimators=600, learning_rate=0.11 ............................\n",
      "[CV] ............. n_estimators=600, learning_rate=0.11, total=   4.4s\n",
      "[CV] n_estimators=600, learning_rate=0.11 ............................\n",
      "[CV] ............. n_estimators=600, learning_rate=0.11, total=   4.7s\n",
      "[CV] n_estimators=600, learning_rate=0.11 ............................\n",
      "[CV] ............. n_estimators=600, learning_rate=0.11, total=   4.8s\n",
      "[CV] n_estimators=600, learning_rate=0.11 ............................\n",
      "[CV] ............. n_estimators=600, learning_rate=0.11, total=   6.0s\n",
      "[CV] n_estimators=600, learning_rate=0.11 ............................\n",
      "[CV] ............. n_estimators=600, learning_rate=0.11, total=   6.8s\n",
      "[CV] n_estimators=600, learning_rate=0.11 ............................\n",
      "[CV] ............. n_estimators=600, learning_rate=0.11, total=  13.5s\n",
      "[CV] n_estimators=600, learning_rate=0.11 ............................\n",
      "[CV] ............. n_estimators=600, learning_rate=0.11, total=   5.9s\n",
      "[CV] n_estimators=600, learning_rate=0.11 ............................\n",
      "[CV] ............. n_estimators=600, learning_rate=0.11, total=  10.7s\n",
      "[CV] n_estimators=600, learning_rate=0.11 ............................\n",
      "[CV] ............. n_estimators=600, learning_rate=0.11, total=   5.4s\n",
      "[CV] n_estimators=600, learning_rate=0.11 ............................\n",
      "[CV] ............. n_estimators=600, learning_rate=0.11, total=   5.7s\n",
      "[CV] n_estimators=150, learning_rate=0.686 ...........................\n",
      "[CV] ............ n_estimators=150, learning_rate=0.686, total=   1.0s\n",
      "[CV] n_estimators=150, learning_rate=0.686 ...........................\n",
      "[CV] ............ n_estimators=150, learning_rate=0.686, total=   1.0s\n",
      "[CV] n_estimators=150, learning_rate=0.686 ...........................\n",
      "[CV] ............ n_estimators=150, learning_rate=0.686, total=   1.0s\n",
      "[CV] n_estimators=150, learning_rate=0.686 ...........................\n",
      "[CV] ............ n_estimators=150, learning_rate=0.686, total=   1.1s\n",
      "[CV] n_estimators=150, learning_rate=0.686 ...........................\n",
      "[CV] ............ n_estimators=150, learning_rate=0.686, total=   1.5s\n",
      "[CV] n_estimators=150, learning_rate=0.686 ...........................\n",
      "[CV] ............ n_estimators=150, learning_rate=0.686, total=   2.2s\n",
      "[CV] n_estimators=150, learning_rate=0.686 ...........................\n",
      "[CV] ............ n_estimators=150, learning_rate=0.686, total=   0.9s\n",
      "[CV] n_estimators=150, learning_rate=0.686 ...........................\n",
      "[CV] ............ n_estimators=150, learning_rate=0.686, total=   1.3s\n",
      "[CV] n_estimators=150, learning_rate=0.686 ...........................\n",
      "[CV] ............ n_estimators=150, learning_rate=0.686, total=   1.1s\n",
      "[CV] n_estimators=150, learning_rate=0.686 ...........................\n",
      "[CV] ............ n_estimators=150, learning_rate=0.686, total=   1.0s\n",
      "[CV] n_estimators=350, learning_rate=0.021 ...........................\n",
      "[CV] ............ n_estimators=350, learning_rate=0.021, total=  11.5s\n",
      "[CV] n_estimators=350, learning_rate=0.021 ...........................\n",
      "[CV] ............ n_estimators=350, learning_rate=0.021, total=  11.8s\n",
      "[CV] n_estimators=350, learning_rate=0.021 ...........................\n",
      "[CV] ............ n_estimators=350, learning_rate=0.021, total=  12.4s\n",
      "[CV] n_estimators=350, learning_rate=0.021 ...........................\n",
      "[CV] ............ n_estimators=350, learning_rate=0.021, total=  11.3s\n",
      "[CV] n_estimators=350, learning_rate=0.021 ...........................\n",
      "[CV] ............ n_estimators=350, learning_rate=0.021, total=  11.5s\n",
      "[CV] n_estimators=350, learning_rate=0.021 ...........................\n",
      "[CV] ............ n_estimators=350, learning_rate=0.021, total=  11.4s\n",
      "[CV] n_estimators=350, learning_rate=0.021 ...........................\n",
      "[CV] ............ n_estimators=350, learning_rate=0.021, total=  11.5s\n",
      "[CV] n_estimators=350, learning_rate=0.021 ...........................\n",
      "[CV] ............ n_estimators=350, learning_rate=0.021, total=  11.1s\n",
      "[CV] n_estimators=350, learning_rate=0.021 ...........................\n",
      "[CV] ............ n_estimators=350, learning_rate=0.021, total=  11.2s\n",
      "[CV] n_estimators=350, learning_rate=0.021 ...........................\n",
      "[CV] ............ n_estimators=350, learning_rate=0.021, total=  11.1s\n",
      "[CV] n_estimators=500, learning_rate=0.477 ...........................\n",
      "[CV] ............ n_estimators=500, learning_rate=0.477, total=   1.3s\n",
      "[CV] n_estimators=500, learning_rate=0.477 ...........................\n",
      "[CV] ............ n_estimators=500, learning_rate=0.477, total=   1.1s\n",
      "[CV] n_estimators=500, learning_rate=0.477 ...........................\n",
      "[CV] ............ n_estimators=500, learning_rate=0.477, total=   1.5s\n",
      "[CV] n_estimators=500, learning_rate=0.477 ...........................\n",
      "[CV] ............ n_estimators=500, learning_rate=0.477, total=   1.7s\n",
      "[CV] n_estimators=500, learning_rate=0.477 ...........................\n",
      "[CV] ............ n_estimators=500, learning_rate=0.477, total=   1.5s\n",
      "[CV] n_estimators=500, learning_rate=0.477 ...........................\n",
      "[CV] ............ n_estimators=500, learning_rate=0.477, total=   3.1s\n",
      "[CV] n_estimators=500, learning_rate=0.477 ...........................\n",
      "[CV] ............ n_estimators=500, learning_rate=0.477, total=   1.3s\n",
      "[CV] n_estimators=500, learning_rate=0.477 ...........................\n",
      "[CV] ............ n_estimators=500, learning_rate=0.477, total=   2.3s\n",
      "[CV] n_estimators=500, learning_rate=0.477 ...........................\n",
      "[CV] ............ n_estimators=500, learning_rate=0.477, total=   1.3s\n",
      "[CV] n_estimators=500, learning_rate=0.477 ...........................\n",
      "[CV] ............ n_estimators=500, learning_rate=0.477, total=   1.6s\n",
      "[CV] n_estimators=250, learning_rate=0.229 ...........................\n",
      "[CV] ............ n_estimators=250, learning_rate=0.229, total=   2.6s\n",
      "[CV] n_estimators=250, learning_rate=0.229 ...........................\n",
      "[CV] ............ n_estimators=250, learning_rate=0.229, total=   3.1s\n",
      "[CV] n_estimators=250, learning_rate=0.229 ...........................\n",
      "[CV] ............ n_estimators=250, learning_rate=0.229, total=   2.7s\n",
      "[CV] n_estimators=250, learning_rate=0.229 ...........................\n",
      "[CV] ............ n_estimators=250, learning_rate=0.229, total=   3.0s\n",
      "[CV] n_estimators=250, learning_rate=0.229 ...........................\n",
      "[CV] ............ n_estimators=250, learning_rate=0.229, total=   3.8s\n",
      "[CV] n_estimators=250, learning_rate=0.229 ...........................\n",
      "[CV] ............ n_estimators=250, learning_rate=0.229, total=   5.7s\n",
      "[CV] n_estimators=250, learning_rate=0.229 ...........................\n",
      "[CV] ............ n_estimators=250, learning_rate=0.229, total=   2.6s\n",
      "[CV] n_estimators=250, learning_rate=0.229 ...........................\n",
      "[CV] ............ n_estimators=250, learning_rate=0.229, total=   5.1s\n",
      "[CV] n_estimators=250, learning_rate=0.229 ...........................\n",
      "[CV] ............ n_estimators=250, learning_rate=0.229, total=   2.9s\n",
      "[CV] n_estimators=250, learning_rate=0.229 ...........................\n"
     ]
    },
    {
     "name": "stdout",
     "output_type": "stream",
     "text": [
      "[CV] ............ n_estimators=250, learning_rate=0.229, total=   3.3s\n",
      "[CV] n_estimators=650, learning_rate=0.713 ...........................\n",
      "[CV] ............ n_estimators=650, learning_rate=0.713, total=   0.8s\n",
      "[CV] n_estimators=650, learning_rate=0.713 ...........................\n",
      "[CV] ............ n_estimators=650, learning_rate=0.713, total=   0.9s\n",
      "[CV] n_estimators=650, learning_rate=0.713 ...........................\n",
      "[CV] ............ n_estimators=650, learning_rate=0.713, total=   1.1s\n",
      "[CV] n_estimators=650, learning_rate=0.713 ...........................\n",
      "[CV] ............ n_estimators=650, learning_rate=0.713, total=   1.1s\n",
      "[CV] n_estimators=650, learning_rate=0.713 ...........................\n",
      "[CV] ............ n_estimators=650, learning_rate=0.713, total=   1.9s\n",
      "[CV] n_estimators=650, learning_rate=0.713 ...........................\n",
      "[CV] ............ n_estimators=650, learning_rate=0.713, total=   1.8s\n",
      "[CV] n_estimators=650, learning_rate=0.713 ...........................\n",
      "[CV] ............ n_estimators=650, learning_rate=0.713, total=   1.1s\n",
      "[CV] n_estimators=650, learning_rate=0.713 ...........................\n",
      "[CV] ............ n_estimators=650, learning_rate=0.713, total=   1.5s\n",
      "[CV] n_estimators=650, learning_rate=0.713 ...........................\n",
      "[CV] ............ n_estimators=650, learning_rate=0.713, total=   1.0s\n",
      "[CV] n_estimators=650, learning_rate=0.713 ...........................\n",
      "[CV] ............ n_estimators=650, learning_rate=0.713, total=   1.0s\n",
      "[CV] n_estimators=600, learning_rate=0.692 ...........................\n",
      "[CV] ............ n_estimators=600, learning_rate=0.692, total=   0.9s\n",
      "[CV] n_estimators=600, learning_rate=0.692 ...........................\n",
      "[CV] ............ n_estimators=600, learning_rate=0.692, total=   1.1s\n",
      "[CV] n_estimators=600, learning_rate=0.692 ...........................\n",
      "[CV] ............ n_estimators=600, learning_rate=0.692, total=   1.0s\n",
      "[CV] n_estimators=600, learning_rate=0.692 ...........................\n",
      "[CV] ............ n_estimators=600, learning_rate=0.692, total=   1.8s\n",
      "[CV] n_estimators=600, learning_rate=0.692 ...........................\n",
      "[CV] ............ n_estimators=600, learning_rate=0.692, total=   1.4s\n",
      "[CV] n_estimators=600, learning_rate=0.692 ...........................\n",
      "[CV] ............ n_estimators=600, learning_rate=0.692, total=   1.9s\n",
      "[CV] n_estimators=600, learning_rate=0.692 ...........................\n",
      "[CV] ............ n_estimators=600, learning_rate=0.692, total=   0.9s\n",
      "[CV] n_estimators=600, learning_rate=0.692 ...........................\n",
      "[CV] ............ n_estimators=600, learning_rate=0.692, total=   1.8s\n",
      "[CV] n_estimators=600, learning_rate=0.692 ...........................\n",
      "[CV] ............ n_estimators=600, learning_rate=0.692, total=   1.0s\n",
      "[CV] n_estimators=600, learning_rate=0.692 ...........................\n",
      "[CV] ............ n_estimators=600, learning_rate=0.692, total=   1.5s\n",
      "[CV] n_estimators=500, learning_rate=0.967 ...........................\n",
      "[CV] ............ n_estimators=500, learning_rate=0.967, total=   0.6s\n",
      "[CV] n_estimators=500, learning_rate=0.967 ...........................\n",
      "[CV] ............ n_estimators=500, learning_rate=0.967, total=   1.0s\n",
      "[CV] n_estimators=500, learning_rate=0.967 ...........................\n",
      "[CV] ............ n_estimators=500, learning_rate=0.967, total=   0.7s\n",
      "[CV] n_estimators=500, learning_rate=0.967 ...........................\n",
      "[CV] ............ n_estimators=500, learning_rate=0.967, total=   1.2s\n",
      "[CV] n_estimators=500, learning_rate=0.967 ...........................\n",
      "[CV] ............ n_estimators=500, learning_rate=0.967, total=   1.1s\n",
      "[CV] n_estimators=500, learning_rate=0.967 ...........................\n",
      "[CV] ............ n_estimators=500, learning_rate=0.967, total=   0.9s\n",
      "[CV] n_estimators=500, learning_rate=0.967 ...........................\n",
      "[CV] ............ n_estimators=500, learning_rate=0.967, total=   0.9s\n",
      "[CV] n_estimators=500, learning_rate=0.967 ...........................\n",
      "[CV] ............ n_estimators=500, learning_rate=0.967, total=   1.5s\n",
      "[CV] n_estimators=500, learning_rate=0.967 ...........................\n",
      "[CV] ............ n_estimators=500, learning_rate=0.967, total=   0.8s\n",
      "[CV] n_estimators=500, learning_rate=0.967 ...........................\n",
      "[CV] ............ n_estimators=500, learning_rate=0.967, total=   0.9s\n",
      "[CV] n_estimators=750, learning_rate=0.089 ...........................\n",
      "[CV] ............ n_estimators=750, learning_rate=0.089, total=   6.7s\n",
      "[CV] n_estimators=750, learning_rate=0.089 ...........................\n",
      "[CV] ............ n_estimators=750, learning_rate=0.089, total=   8.5s\n",
      "[CV] n_estimators=750, learning_rate=0.089 ...........................\n",
      "[CV] ............ n_estimators=750, learning_rate=0.089, total=   6.6s\n",
      "[CV] n_estimators=750, learning_rate=0.089 ...........................\n",
      "[CV] ............ n_estimators=750, learning_rate=0.089, total=   7.9s\n",
      "[CV] n_estimators=750, learning_rate=0.089 ...........................\n",
      "[CV] ............ n_estimators=750, learning_rate=0.089, total=   8.4s\n",
      "[CV] n_estimators=750, learning_rate=0.089 ...........................\n",
      "[CV] ............ n_estimators=750, learning_rate=0.089, total=  16.9s\n",
      "[CV] n_estimators=750, learning_rate=0.089 ...........................\n",
      "[CV] ............ n_estimators=750, learning_rate=0.089, total=   7.1s\n",
      "[CV] n_estimators=750, learning_rate=0.089 ...........................\n",
      "[CV] ............ n_estimators=750, learning_rate=0.089, total=  13.6s\n",
      "[CV] n_estimators=750, learning_rate=0.089 ...........................\n",
      "[CV] ............ n_estimators=750, learning_rate=0.089, total=   7.7s\n",
      "[CV] n_estimators=750, learning_rate=0.089 ...........................\n",
      "[CV] ............ n_estimators=750, learning_rate=0.089, total=   8.1s\n"
     ]
    },
    {
     "name": "stderr",
     "output_type": "stream",
     "text": [
      "[Parallel(n_jobs=1)]: Done 100 out of 100 | elapsed:  6.5min finished\n"
     ]
    },
    {
     "data": {
      "text/plain": [
       "{'n_estimators': 350, 'learning_rate': 0.021}"
      ]
     },
     "execution_count": 40,
     "metadata": {},
     "output_type": "execute_result"
    }
   ],
   "source": [
    "abr = AdaBoostRegressor()\n",
    "possible_parameter_values = {'n_estimators' : [int(x) for x in np.arange(start = 50, stop = 1001, step = 50)],\n",
    "                             'learning_rate' : [float(x)/1000 for x in np.arange(start = 1, stop = 1001, step = 1)]}\n",
    "abr_rscv = RandomizedSearchCV(estimator = abr, param_distributions = possible_parameter_values, cv = 10, scoring = 'neg_mean_squared_error', verbose = 2, random_state = 17, \n",
    "                              n_jobs = 1)\n",
    "abr_rscv.fit(X_train, y_train)\n",
    "abr_rscv.best_params_"
   ]
  },
  {
   "cell_type": "code",
   "execution_count": 56,
   "metadata": {
    "ExecuteTime": {
     "end_time": "2021-04-09T11:00:45.344541Z",
     "start_time": "2021-04-09T11:00:43.551890Z"
    }
   },
   "outputs": [
    {
     "name": "stdout",
     "output_type": "stream",
     "text": [
      "Ada Boost Regressor:\n",
      "----------------------------------------------------------------------------------------------------\n",
      "Train r2_score:  0.5093056983147664\n",
      "Test r2_score:  0.48907891119522984\n",
      "----------------------------------------------------------------------------------------------------\n",
      "Train RMSE:  20.09647078739312\n",
      "Test RMSE:  21.01067620367742\n",
      "----------------------------------------------------------------------------------------------------\n",
      "Train MAPE:  0.10141690985856325\n",
      "Test MAPE:  0.10076419335734588\n"
     ]
    }
   ],
   "source": [
    "y_train_pred_abr = abr_rscv.predict(X_train)\n",
    "y_test_pred_abr = abr_rscv.predict(X_test)\n",
    "print('Ada Boost Regressor:')\n",
    "print('-' * 100)\n",
    "print('Train r2_score: ', r2_score(y_train, y_train_pred_abr))\n",
    "print('Test r2_score: ', r2_score(y_test, y_test_pred_abr))\n",
    "print('-' * 100)\n",
    "print('Train RMSE: ', np.sqrt(mean_squared_error(y_train, y_train_pred_abr)))\n",
    "print('Test RMSE: ', np.sqrt(mean_squared_error(y_test, y_test_pred_abr)))\n",
    "print('-' * 100)\n",
    "print('Train MAPE: ', np.mean(mean_absolute_error(y_train, y_train_pred_abr) / y_train))\n",
    "print('Test MAPE: ', np.mean(mean_absolute_error(y_test, y_test_pred_abr) / y_test))"
   ]
  },
  {
   "cell_type": "code",
   "execution_count": 57,
   "metadata": {
    "ExecuteTime": {
     "end_time": "2021-04-09T11:00:59.093423Z",
     "start_time": "2021-04-09T11:00:58.945243Z"
    }
   },
   "outputs": [
    {
     "data": {
      "text/plain": [
       "True     0.603071\n",
       "False    0.396929\n",
       "Name: Bool, dtype: float64"
      ]
     },
     "execution_count": 57,
     "metadata": {},
     "output_type": "execute_result"
    }
   ],
   "source": [
    "data_abr = pd.DataFrame()\n",
    "data_abr['actual'] = y_test\n",
    "data_abr['predicted'] = y_test_pred_abr\n",
    "data_abr['lower range'] = y_test_pred_abr - (0.10076419335734588 * y_test_pred_abr)\n",
    "data_abr['upper range'] = y_test_pred_abr + (0.10076419335734588 * y_test_pred_abr)\n",
    "t_list = []\n",
    "for i in data_abr.index:\n",
    "    if data_abr['actual'][i] > data_abr['lower range'][i]:\n",
    "        if data_abr['actual'][i] < data_abr['upper range'][i]:\n",
    "            t_list.append('True')\n",
    "        else:\n",
    "            t_list.append('False')\n",
    "    else:\n",
    "        t_list.append('False')\n",
    "data_abr['Bool'] = t_list\n",
    "data_abr['Bool'].value_counts()/data_abr.shape[0]"
   ]
  },
  {
   "cell_type": "code",
   "execution_count": 45,
   "metadata": {
    "ExecuteTime": {
     "end_time": "2021-04-09T09:43:09.494067Z",
     "start_time": "2021-04-09T09:42:42.374357Z"
    }
   },
   "outputs": [
    {
     "name": "stdout",
     "output_type": "stream",
     "text": [
      "Fitting 10 folds for each of 10 candidates, totalling 100 fits\n",
      "[CV] weights=uniform, n_neighbors=8 ..................................\n"
     ]
    },
    {
     "name": "stderr",
     "output_type": "stream",
     "text": [
      "[Parallel(n_jobs=1)]: Using backend SequentialBackend with 1 concurrent workers.\n"
     ]
    },
    {
     "name": "stdout",
     "output_type": "stream",
     "text": [
      "[CV] ................... weights=uniform, n_neighbors=8, total=   0.3s\n",
      "[CV] weights=uniform, n_neighbors=8 ..................................\n"
     ]
    },
    {
     "name": "stderr",
     "output_type": "stream",
     "text": [
      "[Parallel(n_jobs=1)]: Done   1 out of   1 | elapsed:    0.2s remaining:    0.0s\n"
     ]
    },
    {
     "name": "stdout",
     "output_type": "stream",
     "text": [
      "[CV] ................... weights=uniform, n_neighbors=8, total=   0.3s\n",
      "[CV] weights=uniform, n_neighbors=8 ..................................\n",
      "[CV] ................... weights=uniform, n_neighbors=8, total=   0.3s\n",
      "[CV] weights=uniform, n_neighbors=8 ..................................\n",
      "[CV] ................... weights=uniform, n_neighbors=8, total=   0.3s\n",
      "[CV] weights=uniform, n_neighbors=8 ..................................\n",
      "[CV] ................... weights=uniform, n_neighbors=8, total=   0.3s\n",
      "[CV] weights=uniform, n_neighbors=8 ..................................\n",
      "[CV] ................... weights=uniform, n_neighbors=8, total=   0.3s\n",
      "[CV] weights=uniform, n_neighbors=8 ..................................\n",
      "[CV] ................... weights=uniform, n_neighbors=8, total=   0.3s\n",
      "[CV] weights=uniform, n_neighbors=8 ..................................\n",
      "[CV] ................... weights=uniform, n_neighbors=8, total=   0.3s\n",
      "[CV] weights=uniform, n_neighbors=8 ..................................\n",
      "[CV] ................... weights=uniform, n_neighbors=8, total=   0.3s\n",
      "[CV] weights=uniform, n_neighbors=8 ..................................\n",
      "[CV] ................... weights=uniform, n_neighbors=8, total=   0.3s\n",
      "[CV] weights=distance, n_neighbors=2 .................................\n",
      "[CV] .................. weights=distance, n_neighbors=2, total=   0.3s\n",
      "[CV] weights=distance, n_neighbors=2 .................................\n",
      "[CV] .................. weights=distance, n_neighbors=2, total=   0.3s\n",
      "[CV] weights=distance, n_neighbors=2 .................................\n",
      "[CV] .................. weights=distance, n_neighbors=2, total=   0.3s\n",
      "[CV] weights=distance, n_neighbors=2 .................................\n",
      "[CV] .................. weights=distance, n_neighbors=2, total=   0.3s\n",
      "[CV] weights=distance, n_neighbors=2 .................................\n",
      "[CV] .................. weights=distance, n_neighbors=2, total=   0.3s\n",
      "[CV] weights=distance, n_neighbors=2 .................................\n",
      "[CV] .................. weights=distance, n_neighbors=2, total=   0.3s\n",
      "[CV] weights=distance, n_neighbors=2 .................................\n",
      "[CV] .................. weights=distance, n_neighbors=2, total=   0.3s\n",
      "[CV] weights=distance, n_neighbors=2 .................................\n",
      "[CV] .................. weights=distance, n_neighbors=2, total=   0.3s\n",
      "[CV] weights=distance, n_neighbors=2 .................................\n",
      "[CV] .................. weights=distance, n_neighbors=2, total=   0.3s\n",
      "[CV] weights=distance, n_neighbors=2 .................................\n",
      "[CV] .................. weights=distance, n_neighbors=2, total=   0.3s\n",
      "[CV] weights=uniform, n_neighbors=2 ..................................\n",
      "[CV] ................... weights=uniform, n_neighbors=2, total=   0.3s\n",
      "[CV] weights=uniform, n_neighbors=2 ..................................\n",
      "[CV] ................... weights=uniform, n_neighbors=2, total=   0.3s\n",
      "[CV] weights=uniform, n_neighbors=2 ..................................\n",
      "[CV] ................... weights=uniform, n_neighbors=2, total=   0.3s\n",
      "[CV] weights=uniform, n_neighbors=2 ..................................\n",
      "[CV] ................... weights=uniform, n_neighbors=2, total=   0.3s\n",
      "[CV] weights=uniform, n_neighbors=2 ..................................\n",
      "[CV] ................... weights=uniform, n_neighbors=2, total=   0.3s\n",
      "[CV] weights=uniform, n_neighbors=2 ..................................\n",
      "[CV] ................... weights=uniform, n_neighbors=2, total=   0.3s\n",
      "[CV] weights=uniform, n_neighbors=2 ..................................\n",
      "[CV] ................... weights=uniform, n_neighbors=2, total=   0.3s\n",
      "[CV] weights=uniform, n_neighbors=2 ..................................\n",
      "[CV] ................... weights=uniform, n_neighbors=2, total=   0.3s\n",
      "[CV] weights=uniform, n_neighbors=2 ..................................\n",
      "[CV] ................... weights=uniform, n_neighbors=2, total=   0.3s\n",
      "[CV] weights=uniform, n_neighbors=2 ..................................\n",
      "[CV] ................... weights=uniform, n_neighbors=2, total=   0.3s\n",
      "[CV] weights=distance, n_neighbors=7 .................................\n",
      "[CV] .................. weights=distance, n_neighbors=7, total=   0.3s\n",
      "[CV] weights=distance, n_neighbors=7 .................................\n",
      "[CV] .................. weights=distance, n_neighbors=7, total=   0.3s\n",
      "[CV] weights=distance, n_neighbors=7 .................................\n",
      "[CV] .................. weights=distance, n_neighbors=7, total=   0.3s\n",
      "[CV] weights=distance, n_neighbors=7 .................................\n",
      "[CV] .................. weights=distance, n_neighbors=7, total=   0.3s\n",
      "[CV] weights=distance, n_neighbors=7 .................................\n",
      "[CV] .................. weights=distance, n_neighbors=7, total=   0.3s\n",
      "[CV] weights=distance, n_neighbors=7 .................................\n",
      "[CV] .................. weights=distance, n_neighbors=7, total=   0.3s\n",
      "[CV] weights=distance, n_neighbors=7 .................................\n",
      "[CV] .................. weights=distance, n_neighbors=7, total=   0.3s\n",
      "[CV] weights=distance, n_neighbors=7 .................................\n",
      "[CV] .................. weights=distance, n_neighbors=7, total=   0.3s\n",
      "[CV] weights=distance, n_neighbors=7 .................................\n",
      "[CV] .................. weights=distance, n_neighbors=7, total=   0.3s\n",
      "[CV] weights=distance, n_neighbors=7 .................................\n",
      "[CV] .................. weights=distance, n_neighbors=7, total=   0.3s\n",
      "[CV] weights=distance, n_neighbors=3 .................................\n",
      "[CV] .................. weights=distance, n_neighbors=3, total=   0.3s\n",
      "[CV] weights=distance, n_neighbors=3 .................................\n",
      "[CV] .................. weights=distance, n_neighbors=3, total=   0.3s\n",
      "[CV] weights=distance, n_neighbors=3 .................................\n",
      "[CV] .................. weights=distance, n_neighbors=3, total=   0.3s\n",
      "[CV] weights=distance, n_neighbors=3 .................................\n",
      "[CV] .................. weights=distance, n_neighbors=3, total=   0.3s\n",
      "[CV] weights=distance, n_neighbors=3 .................................\n",
      "[CV] .................. weights=distance, n_neighbors=3, total=   0.3s\n",
      "[CV] weights=distance, n_neighbors=3 .................................\n",
      "[CV] .................. weights=distance, n_neighbors=3, total=   0.3s\n",
      "[CV] weights=distance, n_neighbors=3 .................................\n",
      "[CV] .................. weights=distance, n_neighbors=3, total=   0.3s\n",
      "[CV] weights=distance, n_neighbors=3 .................................\n",
      "[CV] .................. weights=distance, n_neighbors=3, total=   0.3s\n",
      "[CV] weights=distance, n_neighbors=3 .................................\n",
      "[CV] .................. weights=distance, n_neighbors=3, total=   0.2s\n",
      "[CV] weights=distance, n_neighbors=3 .................................\n",
      "[CV] .................. weights=distance, n_neighbors=3, total=   0.3s\n",
      "[CV] weights=uniform, n_neighbors=5 ..................................\n",
      "[CV] ................... weights=uniform, n_neighbors=5, total=   0.3s\n",
      "[CV] weights=uniform, n_neighbors=5 ..................................\n",
      "[CV] ................... weights=uniform, n_neighbors=5, total=   0.3s\n",
      "[CV] weights=uniform, n_neighbors=5 ..................................\n",
      "[CV] ................... weights=uniform, n_neighbors=5, total=   0.3s\n",
      "[CV] weights=uniform, n_neighbors=5 ..................................\n",
      "[CV] ................... weights=uniform, n_neighbors=5, total=   0.3s\n",
      "[CV] weights=uniform, n_neighbors=5 ..................................\n",
      "[CV] ................... weights=uniform, n_neighbors=5, total=   0.3s\n",
      "[CV] weights=uniform, n_neighbors=5 ..................................\n",
      "[CV] ................... weights=uniform, n_neighbors=5, total=   0.3s\n",
      "[CV] weights=uniform, n_neighbors=5 ..................................\n",
      "[CV] ................... weights=uniform, n_neighbors=5, total=   0.3s\n",
      "[CV] weights=uniform, n_neighbors=5 ..................................\n",
      "[CV] ................... weights=uniform, n_neighbors=5, total=   0.3s\n",
      "[CV] weights=uniform, n_neighbors=5 ..................................\n",
      "[CV] ................... weights=uniform, n_neighbors=5, total=   0.3s\n",
      "[CV] weights=uniform, n_neighbors=5 ..................................\n"
     ]
    },
    {
     "name": "stdout",
     "output_type": "stream",
     "text": [
      "[CV] ................... weights=uniform, n_neighbors=5, total=   0.3s\n",
      "[CV] weights=uniform, n_neighbors=7 ..................................\n",
      "[CV] ................... weights=uniform, n_neighbors=7, total=   0.3s\n",
      "[CV] weights=uniform, n_neighbors=7 ..................................\n",
      "[CV] ................... weights=uniform, n_neighbors=7, total=   0.3s\n",
      "[CV] weights=uniform, n_neighbors=7 ..................................\n",
      "[CV] ................... weights=uniform, n_neighbors=7, total=   0.3s\n",
      "[CV] weights=uniform, n_neighbors=7 ..................................\n",
      "[CV] ................... weights=uniform, n_neighbors=7, total=   0.3s\n",
      "[CV] weights=uniform, n_neighbors=7 ..................................\n",
      "[CV] ................... weights=uniform, n_neighbors=7, total=   0.3s\n",
      "[CV] weights=uniform, n_neighbors=7 ..................................\n",
      "[CV] ................... weights=uniform, n_neighbors=7, total=   0.3s\n",
      "[CV] weights=uniform, n_neighbors=7 ..................................\n",
      "[CV] ................... weights=uniform, n_neighbors=7, total=   0.3s\n",
      "[CV] weights=uniform, n_neighbors=7 ..................................\n",
      "[CV] ................... weights=uniform, n_neighbors=7, total=   0.3s\n",
      "[CV] weights=uniform, n_neighbors=7 ..................................\n",
      "[CV] ................... weights=uniform, n_neighbors=7, total=   0.3s\n",
      "[CV] weights=uniform, n_neighbors=7 ..................................\n",
      "[CV] ................... weights=uniform, n_neighbors=7, total=   0.3s\n",
      "[CV] weights=distance, n_neighbors=1 .................................\n",
      "[CV] .................. weights=distance, n_neighbors=1, total=   0.3s\n",
      "[CV] weights=distance, n_neighbors=1 .................................\n",
      "[CV] .................. weights=distance, n_neighbors=1, total=   0.3s\n",
      "[CV] weights=distance, n_neighbors=1 .................................\n",
      "[CV] .................. weights=distance, n_neighbors=1, total=   0.3s\n",
      "[CV] weights=distance, n_neighbors=1 .................................\n",
      "[CV] .................. weights=distance, n_neighbors=1, total=   0.2s\n",
      "[CV] weights=distance, n_neighbors=1 .................................\n",
      "[CV] .................. weights=distance, n_neighbors=1, total=   0.2s\n",
      "[CV] weights=distance, n_neighbors=1 .................................\n",
      "[CV] .................. weights=distance, n_neighbors=1, total=   0.3s\n",
      "[CV] weights=distance, n_neighbors=1 .................................\n",
      "[CV] .................. weights=distance, n_neighbors=1, total=   0.2s\n",
      "[CV] weights=distance, n_neighbors=1 .................................\n",
      "[CV] .................. weights=distance, n_neighbors=1, total=   0.2s\n",
      "[CV] weights=distance, n_neighbors=1 .................................\n",
      "[CV] .................. weights=distance, n_neighbors=1, total=   0.2s\n",
      "[CV] weights=distance, n_neighbors=1 .................................\n",
      "[CV] .................. weights=distance, n_neighbors=1, total=   0.2s\n",
      "[CV] weights=uniform, n_neighbors=6 ..................................\n",
      "[CV] ................... weights=uniform, n_neighbors=6, total=   0.3s\n",
      "[CV] weights=uniform, n_neighbors=6 ..................................\n",
      "[CV] ................... weights=uniform, n_neighbors=6, total=   0.2s\n",
      "[CV] weights=uniform, n_neighbors=6 ..................................\n",
      "[CV] ................... weights=uniform, n_neighbors=6, total=   0.3s\n",
      "[CV] weights=uniform, n_neighbors=6 ..................................\n",
      "[CV] ................... weights=uniform, n_neighbors=6, total=   0.3s\n",
      "[CV] weights=uniform, n_neighbors=6 ..................................\n",
      "[CV] ................... weights=uniform, n_neighbors=6, total=   0.3s\n",
      "[CV] weights=uniform, n_neighbors=6 ..................................\n",
      "[CV] ................... weights=uniform, n_neighbors=6, total=   0.3s\n",
      "[CV] weights=uniform, n_neighbors=6 ..................................\n",
      "[CV] ................... weights=uniform, n_neighbors=6, total=   0.2s\n",
      "[CV] weights=uniform, n_neighbors=6 ..................................\n",
      "[CV] ................... weights=uniform, n_neighbors=6, total=   0.3s\n",
      "[CV] weights=uniform, n_neighbors=6 ..................................\n",
      "[CV] ................... weights=uniform, n_neighbors=6, total=   0.3s\n",
      "[CV] weights=uniform, n_neighbors=6 ..................................\n",
      "[CV] ................... weights=uniform, n_neighbors=6, total=   0.3s\n",
      "[CV] weights=distance, n_neighbors=6 .................................\n",
      "[CV] .................. weights=distance, n_neighbors=6, total=   0.3s\n",
      "[CV] weights=distance, n_neighbors=6 .................................\n",
      "[CV] .................. weights=distance, n_neighbors=6, total=   0.3s\n",
      "[CV] weights=distance, n_neighbors=6 .................................\n",
      "[CV] .................. weights=distance, n_neighbors=6, total=   0.3s\n",
      "[CV] weights=distance, n_neighbors=6 .................................\n",
      "[CV] .................. weights=distance, n_neighbors=6, total=   0.3s\n",
      "[CV] weights=distance, n_neighbors=6 .................................\n",
      "[CV] .................. weights=distance, n_neighbors=6, total=   0.3s\n",
      "[CV] weights=distance, n_neighbors=6 .................................\n",
      "[CV] .................. weights=distance, n_neighbors=6, total=   0.3s\n",
      "[CV] weights=distance, n_neighbors=6 .................................\n",
      "[CV] .................. weights=distance, n_neighbors=6, total=   0.3s\n",
      "[CV] weights=distance, n_neighbors=6 .................................\n",
      "[CV] .................. weights=distance, n_neighbors=6, total=   0.3s\n",
      "[CV] weights=distance, n_neighbors=6 .................................\n",
      "[CV] .................. weights=distance, n_neighbors=6, total=   0.3s\n",
      "[CV] weights=distance, n_neighbors=6 .................................\n",
      "[CV] .................. weights=distance, n_neighbors=6, total=   0.3s\n"
     ]
    },
    {
     "name": "stderr",
     "output_type": "stream",
     "text": [
      "[Parallel(n_jobs=1)]: Done 100 out of 100 | elapsed:   26.8s finished\n"
     ]
    },
    {
     "data": {
      "text/plain": [
       "{'weights': 'uniform', 'n_neighbors': 8}"
      ]
     },
     "execution_count": 45,
     "metadata": {},
     "output_type": "execute_result"
    }
   ],
   "source": [
    "knr = KNeighborsRegressor()\n",
    "possible_parameter_values = {'n_neighbors' : [int(x) for x in np.arange(start = 1, stop = 11, step = 1)],\n",
    "                             'weights' : ['uniform', 'distance']}\n",
    "knr_rscv = RandomizedSearchCV(estimator = knr, param_distributions = possible_parameter_values, cv = 10, scoring = 'neg_mean_squared_error', verbose = 2, random_state = 17, \n",
    "                              n_jobs = 1)\n",
    "knr_rscv.fit(X_train, y_train)\n",
    "knr_rscv.best_params_"
   ]
  },
  {
   "cell_type": "code",
   "execution_count": 58,
   "metadata": {
    "ExecuteTime": {
     "end_time": "2021-04-09T11:01:14.547408Z",
     "start_time": "2021-04-09T11:01:13.776183Z"
    }
   },
   "outputs": [
    {
     "name": "stdout",
     "output_type": "stream",
     "text": [
      "K Neighbors Regressor:\n",
      "----------------------------------------------------------------------------------------------------\n",
      "Train r2_score:  0.8109540090753671\n",
      "Test r2_score:  0.5649839016463882\n",
      "----------------------------------------------------------------------------------------------------\n",
      "Train RMSE:  12.473778407189613\n",
      "Test RMSE:  19.387230770028765\n",
      "----------------------------------------------------------------------------------------------------\n",
      "Train MAPE:  0.056638190226127684\n",
      "Test MAPE:  0.09076316522754599\n"
     ]
    }
   ],
   "source": [
    "y_train_pred_knr = knr_rscv.predict(X_train)\n",
    "y_test_pred_knr = knr_rscv.predict(X_test)\n",
    "print('K Neighbors Regressor:')\n",
    "print('-' * 100)\n",
    "print('Train r2_score: ', r2_score(y_train, y_train_pred_knr))\n",
    "print('Test r2_score: ', r2_score(y_test, y_test_pred_knr))\n",
    "print('-' * 100)\n",
    "print('Train RMSE: ', np.sqrt(mean_squared_error(y_train, y_train_pred_knr)))\n",
    "print('Test RMSE: ', np.sqrt(mean_squared_error(y_test, y_test_pred_knr)))\n",
    "print('-' * 100)\n",
    "print('Train MAPE: ', np.mean(mean_absolute_error(y_train, y_train_pred_knr) / y_train))\n",
    "print('Test MAPE: ', np.mean(mean_absolute_error(y_test, y_test_pred_knr) / y_test))"
   ]
  },
  {
   "cell_type": "code",
   "execution_count": 59,
   "metadata": {
    "ExecuteTime": {
     "end_time": "2021-04-09T11:01:24.069053Z",
     "start_time": "2021-04-09T11:01:23.928870Z"
    }
   },
   "outputs": [
    {
     "data": {
      "text/plain": [
       "True     0.633028\n",
       "False    0.366972\n",
       "Name: Bool, dtype: float64"
      ]
     },
     "execution_count": 59,
     "metadata": {},
     "output_type": "execute_result"
    }
   ],
   "source": [
    "data_knr = pd.DataFrame()\n",
    "data_knr['actual'] = y_test\n",
    "data_knr['predicted'] = y_test_pred_knr\n",
    "data_knr['lower range'] = y_test_pred_knr - (0.09076316522754599 * y_test_pred_knr)\n",
    "data_knr['upper range'] = y_test_pred_knr + (0.09076316522754599 * y_test_pred_knr)\n",
    "t_list = []\n",
    "for i in data_knr.index:\n",
    "    if data_knr['actual'][i] > data_knr['lower range'][i]:\n",
    "        if data_knr['actual'][i] < data_knr['upper range'][i]:\n",
    "            t_list.append('True')\n",
    "        else:\n",
    "            t_list.append('False')\n",
    "    else:\n",
    "        t_list.append('False')\n",
    "data_knr['Bool'] = t_list\n",
    "data_knr['Bool'].value_counts()/data_knr.shape[0]"
   ]
  },
  {
   "cell_type": "code",
   "execution_count": 49,
   "metadata": {
    "ExecuteTime": {
     "end_time": "2021-04-09T10:51:33.963413Z",
     "start_time": "2021-04-09T10:34:06.248995Z"
    },
    "scrolled": true
   },
   "outputs": [
    {
     "name": "stdout",
     "output_type": "stream",
     "text": [
      "Fitting 10 folds for each of 10 candidates, totalling 100 fits\n",
      "[CV] use_label_encoder=False, n_estimators=50, max_depth=35, learning_rate=0.737 \n"
     ]
    },
    {
     "name": "stderr",
     "output_type": "stream",
     "text": [
      "[Parallel(n_jobs=1)]: Using backend SequentialBackend with 1 concurrent workers.\n"
     ]
    },
    {
     "name": "stdout",
     "output_type": "stream",
     "text": [
      "[CV]  use_label_encoder=False, n_estimators=50, max_depth=35, learning_rate=0.737, total=   5.0s\n",
      "[CV] use_label_encoder=False, n_estimators=50, max_depth=35, learning_rate=0.737 \n"
     ]
    },
    {
     "name": "stderr",
     "output_type": "stream",
     "text": [
      "[Parallel(n_jobs=1)]: Done   1 out of   1 | elapsed:    4.9s remaining:    0.0s\n"
     ]
    },
    {
     "name": "stdout",
     "output_type": "stream",
     "text": [
      "[CV]  use_label_encoder=False, n_estimators=50, max_depth=35, learning_rate=0.737, total=   3.9s\n",
      "[CV] use_label_encoder=False, n_estimators=50, max_depth=35, learning_rate=0.737 \n",
      "[CV]  use_label_encoder=False, n_estimators=50, max_depth=35, learning_rate=0.737, total=   3.7s\n",
      "[CV] use_label_encoder=False, n_estimators=50, max_depth=35, learning_rate=0.737 \n",
      "[CV]  use_label_encoder=False, n_estimators=50, max_depth=35, learning_rate=0.737, total=   4.1s\n",
      "[CV] use_label_encoder=False, n_estimators=50, max_depth=35, learning_rate=0.737 \n",
      "[CV]  use_label_encoder=False, n_estimators=50, max_depth=35, learning_rate=0.737, total=   4.8s\n",
      "[CV] use_label_encoder=False, n_estimators=50, max_depth=35, learning_rate=0.737 \n",
      "[CV]  use_label_encoder=False, n_estimators=50, max_depth=35, learning_rate=0.737, total=   4.8s\n",
      "[CV] use_label_encoder=False, n_estimators=50, max_depth=35, learning_rate=0.737 \n",
      "[CV]  use_label_encoder=False, n_estimators=50, max_depth=35, learning_rate=0.737, total=   4.5s\n",
      "[CV] use_label_encoder=False, n_estimators=50, max_depth=35, learning_rate=0.737 \n",
      "[CV]  use_label_encoder=False, n_estimators=50, max_depth=35, learning_rate=0.737, total=   4.0s\n",
      "[CV] use_label_encoder=False, n_estimators=50, max_depth=35, learning_rate=0.737 \n",
      "[CV]  use_label_encoder=False, n_estimators=50, max_depth=35, learning_rate=0.737, total=   4.0s\n",
      "[CV] use_label_encoder=False, n_estimators=50, max_depth=35, learning_rate=0.737 \n",
      "[CV]  use_label_encoder=False, n_estimators=50, max_depth=35, learning_rate=0.737, total=   4.5s\n",
      "[CV] use_label_encoder=False, n_estimators=600, max_depth=40, learning_rate=0.372 \n",
      "[CV]  use_label_encoder=False, n_estimators=600, max_depth=40, learning_rate=0.372, total=  10.1s\n",
      "[CV] use_label_encoder=False, n_estimators=600, max_depth=40, learning_rate=0.372 \n",
      "[CV]  use_label_encoder=False, n_estimators=600, max_depth=40, learning_rate=0.372, total=   9.9s\n",
      "[CV] use_label_encoder=False, n_estimators=600, max_depth=40, learning_rate=0.372 \n",
      "[CV]  use_label_encoder=False, n_estimators=600, max_depth=40, learning_rate=0.372, total=  10.4s\n",
      "[CV] use_label_encoder=False, n_estimators=600, max_depth=40, learning_rate=0.372 \n",
      "[CV]  use_label_encoder=False, n_estimators=600, max_depth=40, learning_rate=0.372, total=  10.4s\n",
      "[CV] use_label_encoder=False, n_estimators=600, max_depth=40, learning_rate=0.372 \n",
      "[CV]  use_label_encoder=False, n_estimators=600, max_depth=40, learning_rate=0.372, total=  10.2s\n",
      "[CV] use_label_encoder=False, n_estimators=600, max_depth=40, learning_rate=0.372 \n",
      "[CV]  use_label_encoder=False, n_estimators=600, max_depth=40, learning_rate=0.372, total=  10.1s\n",
      "[CV] use_label_encoder=False, n_estimators=600, max_depth=40, learning_rate=0.372 \n",
      "[CV]  use_label_encoder=False, n_estimators=600, max_depth=40, learning_rate=0.372, total=  10.1s\n",
      "[CV] use_label_encoder=False, n_estimators=600, max_depth=40, learning_rate=0.372 \n",
      "[CV]  use_label_encoder=False, n_estimators=600, max_depth=40, learning_rate=0.372, total=  10.0s\n",
      "[CV] use_label_encoder=False, n_estimators=600, max_depth=40, learning_rate=0.372 \n",
      "[CV]  use_label_encoder=False, n_estimators=600, max_depth=40, learning_rate=0.372, total=  10.2s\n",
      "[CV] use_label_encoder=False, n_estimators=600, max_depth=40, learning_rate=0.372 \n",
      "[CV]  use_label_encoder=False, n_estimators=600, max_depth=40, learning_rate=0.372, total=  10.1s\n",
      "[CV] use_label_encoder=True, n_estimators=200, max_depth=95, learning_rate=0.615 \n",
      "[CV]  use_label_encoder=True, n_estimators=200, max_depth=95, learning_rate=0.615, total=   5.5s\n",
      "[CV] use_label_encoder=True, n_estimators=200, max_depth=95, learning_rate=0.615 \n",
      "[CV]  use_label_encoder=True, n_estimators=200, max_depth=95, learning_rate=0.615, total=   5.4s\n",
      "[CV] use_label_encoder=True, n_estimators=200, max_depth=95, learning_rate=0.615 \n",
      "[CV]  use_label_encoder=True, n_estimators=200, max_depth=95, learning_rate=0.615, total=   5.5s\n",
      "[CV] use_label_encoder=True, n_estimators=200, max_depth=95, learning_rate=0.615 \n",
      "[CV]  use_label_encoder=True, n_estimators=200, max_depth=95, learning_rate=0.615, total=   5.5s\n",
      "[CV] use_label_encoder=True, n_estimators=200, max_depth=95, learning_rate=0.615 \n",
      "[CV]  use_label_encoder=True, n_estimators=200, max_depth=95, learning_rate=0.615, total=   6.2s\n",
      "[CV] use_label_encoder=True, n_estimators=200, max_depth=95, learning_rate=0.615 \n",
      "[CV]  use_label_encoder=True, n_estimators=200, max_depth=95, learning_rate=0.615, total=   5.9s\n",
      "[CV] use_label_encoder=True, n_estimators=200, max_depth=95, learning_rate=0.615 \n",
      "[CV]  use_label_encoder=True, n_estimators=200, max_depth=95, learning_rate=0.615, total=   5.5s\n",
      "[CV] use_label_encoder=True, n_estimators=200, max_depth=95, learning_rate=0.615 \n",
      "[CV]  use_label_encoder=True, n_estimators=200, max_depth=95, learning_rate=0.615, total=   5.6s\n",
      "[CV] use_label_encoder=True, n_estimators=200, max_depth=95, learning_rate=0.615 \n",
      "[CV]  use_label_encoder=True, n_estimators=200, max_depth=95, learning_rate=0.615, total=   5.5s\n",
      "[CV] use_label_encoder=True, n_estimators=200, max_depth=95, learning_rate=0.615 \n",
      "[CV]  use_label_encoder=True, n_estimators=200, max_depth=95, learning_rate=0.615, total=   5.7s\n",
      "[CV] use_label_encoder=True, n_estimators=50, max_depth=15, learning_rate=0.158 \n",
      "[CV]  use_label_encoder=True, n_estimators=50, max_depth=15, learning_rate=0.158, total=   2.0s\n",
      "[CV] use_label_encoder=True, n_estimators=50, max_depth=15, learning_rate=0.158 \n",
      "[CV]  use_label_encoder=True, n_estimators=50, max_depth=15, learning_rate=0.158, total=   2.0s\n",
      "[CV] use_label_encoder=True, n_estimators=50, max_depth=15, learning_rate=0.158 \n",
      "[CV]  use_label_encoder=True, n_estimators=50, max_depth=15, learning_rate=0.158, total=   1.9s\n",
      "[CV] use_label_encoder=True, n_estimators=50, max_depth=15, learning_rate=0.158 \n",
      "[CV]  use_label_encoder=True, n_estimators=50, max_depth=15, learning_rate=0.158, total=   1.9s\n",
      "[CV] use_label_encoder=True, n_estimators=50, max_depth=15, learning_rate=0.158 \n",
      "[CV]  use_label_encoder=True, n_estimators=50, max_depth=15, learning_rate=0.158, total=   1.9s\n",
      "[CV] use_label_encoder=True, n_estimators=50, max_depth=15, learning_rate=0.158 \n",
      "[CV]  use_label_encoder=True, n_estimators=50, max_depth=15, learning_rate=0.158, total=   1.9s\n",
      "[CV] use_label_encoder=True, n_estimators=50, max_depth=15, learning_rate=0.158 \n",
      "[CV]  use_label_encoder=True, n_estimators=50, max_depth=15, learning_rate=0.158, total=   1.9s\n",
      "[CV] use_label_encoder=True, n_estimators=50, max_depth=15, learning_rate=0.158 \n",
      "[CV]  use_label_encoder=True, n_estimators=50, max_depth=15, learning_rate=0.158, total=   1.9s\n",
      "[CV] use_label_encoder=True, n_estimators=50, max_depth=15, learning_rate=0.158 \n",
      "[CV]  use_label_encoder=True, n_estimators=50, max_depth=15, learning_rate=0.158, total=   1.8s\n",
      "[CV] use_label_encoder=True, n_estimators=50, max_depth=15, learning_rate=0.158 \n",
      "[CV]  use_label_encoder=True, n_estimators=50, max_depth=15, learning_rate=0.158, total=   1.9s\n",
      "[CV] use_label_encoder=False, n_estimators=750, max_depth=15, learning_rate=0.971 \n",
      "[CV]  use_label_encoder=False, n_estimators=750, max_depth=15, learning_rate=0.971, total=   4.5s\n",
      "[CV] use_label_encoder=False, n_estimators=750, max_depth=15, learning_rate=0.971 \n",
      "[CV]  use_label_encoder=False, n_estimators=750, max_depth=15, learning_rate=0.971, total=   4.7s\n",
      "[CV] use_label_encoder=False, n_estimators=750, max_depth=15, learning_rate=0.971 \n",
      "[CV]  use_label_encoder=False, n_estimators=750, max_depth=15, learning_rate=0.971, total=   4.7s\n",
      "[CV] use_label_encoder=False, n_estimators=750, max_depth=15, learning_rate=0.971 \n",
      "[CV]  use_label_encoder=False, n_estimators=750, max_depth=15, learning_rate=0.971, total=   4.6s\n",
      "[CV] use_label_encoder=False, n_estimators=750, max_depth=15, learning_rate=0.971 \n",
      "[CV]  use_label_encoder=False, n_estimators=750, max_depth=15, learning_rate=0.971, total=   4.8s\n",
      "[CV] use_label_encoder=False, n_estimators=750, max_depth=15, learning_rate=0.971 \n",
      "[CV]  use_label_encoder=False, n_estimators=750, max_depth=15, learning_rate=0.971, total=   4.6s\n",
      "[CV] use_label_encoder=False, n_estimators=750, max_depth=15, learning_rate=0.971 \n",
      "[CV]  use_label_encoder=False, n_estimators=750, max_depth=15, learning_rate=0.971, total=   4.6s\n",
      "[CV] use_label_encoder=False, n_estimators=750, max_depth=15, learning_rate=0.971 \n"
     ]
    },
    {
     "name": "stdout",
     "output_type": "stream",
     "text": [
      "[CV]  use_label_encoder=False, n_estimators=750, max_depth=15, learning_rate=0.971, total=   4.7s\n",
      "[CV] use_label_encoder=False, n_estimators=750, max_depth=15, learning_rate=0.971 \n",
      "[CV]  use_label_encoder=False, n_estimators=750, max_depth=15, learning_rate=0.971, total=   4.9s\n",
      "[CV] use_label_encoder=False, n_estimators=750, max_depth=15, learning_rate=0.971 \n",
      "[CV]  use_label_encoder=False, n_estimators=750, max_depth=15, learning_rate=0.971, total=   4.7s\n",
      "[CV] use_label_encoder=True, n_estimators=400, max_depth=50, learning_rate=0.646 \n",
      "[CV]  use_label_encoder=True, n_estimators=400, max_depth=50, learning_rate=0.646, total=   5.5s\n",
      "[CV] use_label_encoder=True, n_estimators=400, max_depth=50, learning_rate=0.646 \n",
      "[CV]  use_label_encoder=True, n_estimators=400, max_depth=50, learning_rate=0.646, total=   5.7s\n",
      "[CV] use_label_encoder=True, n_estimators=400, max_depth=50, learning_rate=0.646 \n",
      "[CV]  use_label_encoder=True, n_estimators=400, max_depth=50, learning_rate=0.646, total=   5.5s\n",
      "[CV] use_label_encoder=True, n_estimators=400, max_depth=50, learning_rate=0.646 \n",
      "[CV]  use_label_encoder=True, n_estimators=400, max_depth=50, learning_rate=0.646, total=   5.7s\n",
      "[CV] use_label_encoder=True, n_estimators=400, max_depth=50, learning_rate=0.646 \n",
      "[CV]  use_label_encoder=True, n_estimators=400, max_depth=50, learning_rate=0.646, total=   5.7s\n",
      "[CV] use_label_encoder=True, n_estimators=400, max_depth=50, learning_rate=0.646 \n",
      "[CV]  use_label_encoder=True, n_estimators=400, max_depth=50, learning_rate=0.646, total=   5.6s\n",
      "[CV] use_label_encoder=True, n_estimators=400, max_depth=50, learning_rate=0.646 \n",
      "[CV]  use_label_encoder=True, n_estimators=400, max_depth=50, learning_rate=0.646, total=   5.7s\n",
      "[CV] use_label_encoder=True, n_estimators=400, max_depth=50, learning_rate=0.646 \n",
      "[CV]  use_label_encoder=True, n_estimators=400, max_depth=50, learning_rate=0.646, total=   5.6s\n",
      "[CV] use_label_encoder=True, n_estimators=400, max_depth=50, learning_rate=0.646 \n",
      "[CV]  use_label_encoder=True, n_estimators=400, max_depth=50, learning_rate=0.646, total=   5.6s\n",
      "[CV] use_label_encoder=True, n_estimators=400, max_depth=50, learning_rate=0.646 \n",
      "[CV]  use_label_encoder=True, n_estimators=400, max_depth=50, learning_rate=0.646, total=   5.5s\n",
      "[CV] use_label_encoder=False, n_estimators=400, max_depth=75, learning_rate=0.36 \n",
      "[CV]  use_label_encoder=False, n_estimators=400, max_depth=75, learning_rate=0.36, total=  10.4s\n",
      "[CV] use_label_encoder=False, n_estimators=400, max_depth=75, learning_rate=0.36 \n",
      "[CV]  use_label_encoder=False, n_estimators=400, max_depth=75, learning_rate=0.36, total=  10.6s\n",
      "[CV] use_label_encoder=False, n_estimators=400, max_depth=75, learning_rate=0.36 \n",
      "[CV]  use_label_encoder=False, n_estimators=400, max_depth=75, learning_rate=0.36, total=  10.5s\n",
      "[CV] use_label_encoder=False, n_estimators=400, max_depth=75, learning_rate=0.36 \n",
      "[CV]  use_label_encoder=False, n_estimators=400, max_depth=75, learning_rate=0.36, total=  10.4s\n",
      "[CV] use_label_encoder=False, n_estimators=400, max_depth=75, learning_rate=0.36 \n",
      "[CV]  use_label_encoder=False, n_estimators=400, max_depth=75, learning_rate=0.36, total=  10.1s\n",
      "[CV] use_label_encoder=False, n_estimators=400, max_depth=75, learning_rate=0.36 \n",
      "[CV]  use_label_encoder=False, n_estimators=400, max_depth=75, learning_rate=0.36, total=   9.3s\n",
      "[CV] use_label_encoder=False, n_estimators=400, max_depth=75, learning_rate=0.36 \n",
      "[CV]  use_label_encoder=False, n_estimators=400, max_depth=75, learning_rate=0.36, total=   9.4s\n",
      "[CV] use_label_encoder=False, n_estimators=400, max_depth=75, learning_rate=0.36 \n",
      "[CV]  use_label_encoder=False, n_estimators=400, max_depth=75, learning_rate=0.36, total=   9.5s\n",
      "[CV] use_label_encoder=False, n_estimators=400, max_depth=75, learning_rate=0.36 \n",
      "[CV]  use_label_encoder=False, n_estimators=400, max_depth=75, learning_rate=0.36, total=  10.0s\n",
      "[CV] use_label_encoder=False, n_estimators=400, max_depth=75, learning_rate=0.36 \n",
      "[CV]  use_label_encoder=False, n_estimators=400, max_depth=75, learning_rate=0.36, total=   9.4s\n",
      "[CV] use_label_encoder=True, n_estimators=150, max_depth=45, learning_rate=0.449 \n",
      "[CV]  use_label_encoder=True, n_estimators=150, max_depth=45, learning_rate=0.449, total=   7.2s\n",
      "[CV] use_label_encoder=True, n_estimators=150, max_depth=45, learning_rate=0.449 \n",
      "[CV]  use_label_encoder=True, n_estimators=150, max_depth=45, learning_rate=0.449, total=   7.1s\n",
      "[CV] use_label_encoder=True, n_estimators=150, max_depth=45, learning_rate=0.449 \n",
      "[CV]  use_label_encoder=True, n_estimators=150, max_depth=45, learning_rate=0.449, total=   7.4s\n",
      "[CV] use_label_encoder=True, n_estimators=150, max_depth=45, learning_rate=0.449 \n",
      "[CV]  use_label_encoder=True, n_estimators=150, max_depth=45, learning_rate=0.449, total=   7.5s\n",
      "[CV] use_label_encoder=True, n_estimators=150, max_depth=45, learning_rate=0.449 \n",
      "[CV]  use_label_encoder=True, n_estimators=150, max_depth=45, learning_rate=0.449, total=   7.7s\n",
      "[CV] use_label_encoder=True, n_estimators=150, max_depth=45, learning_rate=0.449 \n",
      "[CV]  use_label_encoder=True, n_estimators=150, max_depth=45, learning_rate=0.449, total=   7.5s\n",
      "[CV] use_label_encoder=True, n_estimators=150, max_depth=45, learning_rate=0.449 \n",
      "[CV]  use_label_encoder=True, n_estimators=150, max_depth=45, learning_rate=0.449, total=   7.7s\n",
      "[CV] use_label_encoder=True, n_estimators=150, max_depth=45, learning_rate=0.449 \n",
      "[CV]  use_label_encoder=True, n_estimators=150, max_depth=45, learning_rate=0.449, total=   7.5s\n",
      "[CV] use_label_encoder=True, n_estimators=150, max_depth=45, learning_rate=0.449 \n",
      "[CV]  use_label_encoder=True, n_estimators=150, max_depth=45, learning_rate=0.449, total=   7.3s\n",
      "[CV] use_label_encoder=True, n_estimators=150, max_depth=45, learning_rate=0.449 \n",
      "[CV]  use_label_encoder=True, n_estimators=150, max_depth=45, learning_rate=0.449, total=   7.7s\n",
      "[CV] use_label_encoder=True, n_estimators=950, max_depth=35, learning_rate=0.375 \n",
      "[CV]  use_label_encoder=True, n_estimators=950, max_depth=35, learning_rate=0.375, total=   9.7s\n",
      "[CV] use_label_encoder=True, n_estimators=950, max_depth=35, learning_rate=0.375 \n",
      "[CV]  use_label_encoder=True, n_estimators=950, max_depth=35, learning_rate=0.375, total=  10.6s\n",
      "[CV] use_label_encoder=True, n_estimators=950, max_depth=35, learning_rate=0.375 \n",
      "[CV]  use_label_encoder=True, n_estimators=950, max_depth=35, learning_rate=0.375, total=  10.5s\n",
      "[CV] use_label_encoder=True, n_estimators=950, max_depth=35, learning_rate=0.375 \n",
      "[CV]  use_label_encoder=True, n_estimators=950, max_depth=35, learning_rate=0.375, total=  10.1s\n",
      "[CV] use_label_encoder=True, n_estimators=950, max_depth=35, learning_rate=0.375 \n",
      "[CV]  use_label_encoder=True, n_estimators=950, max_depth=35, learning_rate=0.375, total=   9.8s\n",
      "[CV] use_label_encoder=True, n_estimators=950, max_depth=35, learning_rate=0.375 \n",
      "[CV]  use_label_encoder=True, n_estimators=950, max_depth=35, learning_rate=0.375, total=   9.6s\n",
      "[CV] use_label_encoder=True, n_estimators=950, max_depth=35, learning_rate=0.375 \n",
      "[CV]  use_label_encoder=True, n_estimators=950, max_depth=35, learning_rate=0.375, total=  10.2s\n",
      "[CV] use_label_encoder=True, n_estimators=950, max_depth=35, learning_rate=0.375 \n",
      "[CV]  use_label_encoder=True, n_estimators=950, max_depth=35, learning_rate=0.375, total=  10.7s\n",
      "[CV] use_label_encoder=True, n_estimators=950, max_depth=35, learning_rate=0.375 \n",
      "[CV]  use_label_encoder=True, n_estimators=950, max_depth=35, learning_rate=0.375, total=  10.1s\n",
      "[CV] use_label_encoder=True, n_estimators=950, max_depth=35, learning_rate=0.375 \n",
      "[CV]  use_label_encoder=True, n_estimators=950, max_depth=35, learning_rate=0.375, total=  10.1s\n",
      "[CV] use_label_encoder=True, n_estimators=750, max_depth=75, learning_rate=0.1 \n",
      "[CV]  use_label_encoder=True, n_estimators=750, max_depth=75, learning_rate=0.1, total=  42.0s\n",
      "[CV] use_label_encoder=True, n_estimators=750, max_depth=75, learning_rate=0.1 \n",
      "[CV]  use_label_encoder=True, n_estimators=750, max_depth=75, learning_rate=0.1, total=  42.3s\n",
      "[CV] use_label_encoder=True, n_estimators=750, max_depth=75, learning_rate=0.1 \n",
      "[CV]  use_label_encoder=True, n_estimators=750, max_depth=75, learning_rate=0.1, total=  42.5s\n",
      "[CV] use_label_encoder=True, n_estimators=750, max_depth=75, learning_rate=0.1 \n"
     ]
    },
    {
     "name": "stdout",
     "output_type": "stream",
     "text": [
      "[CV]  use_label_encoder=True, n_estimators=750, max_depth=75, learning_rate=0.1, total=  46.7s\n",
      "[CV] use_label_encoder=True, n_estimators=750, max_depth=75, learning_rate=0.1 \n",
      "[CV]  use_label_encoder=True, n_estimators=750, max_depth=75, learning_rate=0.1, total=  45.2s\n",
      "[CV] use_label_encoder=True, n_estimators=750, max_depth=75, learning_rate=0.1 \n",
      "[CV]  use_label_encoder=True, n_estimators=750, max_depth=75, learning_rate=0.1, total=  43.1s\n",
      "[CV] use_label_encoder=True, n_estimators=750, max_depth=75, learning_rate=0.1 \n",
      "[CV]  use_label_encoder=True, n_estimators=750, max_depth=75, learning_rate=0.1, total=  42.6s\n",
      "[CV] use_label_encoder=True, n_estimators=750, max_depth=75, learning_rate=0.1 \n",
      "[CV]  use_label_encoder=True, n_estimators=750, max_depth=75, learning_rate=0.1, total=  43.9s\n",
      "[CV] use_label_encoder=True, n_estimators=750, max_depth=75, learning_rate=0.1 \n",
      "[CV]  use_label_encoder=True, n_estimators=750, max_depth=75, learning_rate=0.1, total=  47.2s\n",
      "[CV] use_label_encoder=True, n_estimators=750, max_depth=75, learning_rate=0.1 \n",
      "[CV]  use_label_encoder=True, n_estimators=750, max_depth=75, learning_rate=0.1, total=  48.7s\n"
     ]
    },
    {
     "name": "stderr",
     "output_type": "stream",
     "text": [
      "[Parallel(n_jobs=1)]: Done 100 out of 100 | elapsed: 17.4min finished\n"
     ]
    },
    {
     "data": {
      "text/plain": [
       "{'use_label_encoder': True,\n",
       " 'n_estimators': 50,\n",
       " 'max_depth': 15,\n",
       " 'learning_rate': 0.158}"
      ]
     },
     "execution_count": 49,
     "metadata": {},
     "output_type": "execute_result"
    }
   ],
   "source": [
    "xgbr = XGBRegressor()\n",
    "possible_parameter_values = {'n_estimators' : [int(x) for x in np.arange(start = 50, stop = 1001, step = 50)], \n",
    "                             'use_label_encoder' : [True, False], \n",
    "                             'max_depth' : [int(x) for x in np.arange(start = 5, stop = 101, step = 5)], \n",
    "                             'learning_rate' : [float(x)/1000 for x in np.arange(start = 1, stop = 1001, step = 1)]}\n",
    "xgbr_rscv = RandomizedSearchCV(estimator = xgbr, param_distributions = possible_parameter_values, cv = 10, scoring = 'neg_mean_squared_error', verbose = 2, \n",
    "                               random_state = 17, n_jobs = 1)\n",
    "xgbr_rscv.fit(X_train, y_train)\n",
    "xgbr_rscv.best_params_"
   ]
  },
  {
   "cell_type": "code",
   "execution_count": 60,
   "metadata": {
    "ExecuteTime": {
     "end_time": "2021-04-09T11:01:51.710660Z",
     "start_time": "2021-04-09T11:01:51.634897Z"
    }
   },
   "outputs": [
    {
     "name": "stdout",
     "output_type": "stream",
     "text": [
      "XGBoost Regressor:\n",
      "----------------------------------------------------------------------------------------------------\n",
      "Train r2_score:  0.9953679630630898\n",
      "Test r2_score:  0.5576490541651531\n",
      "----------------------------------------------------------------------------------------------------\n",
      "Train RMSE:  1.9525416009205305\n",
      "Test RMSE:  19.549992516316976\n",
      "----------------------------------------------------------------------------------------------------\n",
      "Train MAPE:  0.0076132801897291985\n",
      "Test MAPE:  0.0915860626361764\n"
     ]
    }
   ],
   "source": [
    "y_train_pred_xgbr = xgbr_rscv.predict(X_train)\n",
    "y_test_pred_xgbr = xgbr_rscv.predict(X_test)\n",
    "print('XGBoost Regressor:')\n",
    "print('-' * 100)\n",
    "print('Train r2_score: ', r2_score(y_train, y_train_pred_xgbr))\n",
    "print('Test r2_score: ', r2_score(y_test, y_test_pred_xgbr))\n",
    "print('-' * 100)\n",
    "print('Train RMSE: ', np.sqrt(mean_squared_error(y_train, y_train_pred_xgbr)))\n",
    "print('Test RMSE: ', np.sqrt(mean_squared_error(y_test, y_test_pred_xgbr)))\n",
    "print('-' * 100)\n",
    "print('Train MAPE: ', np.mean(mean_absolute_error(y_train, y_train_pred_xgbr) / y_train))\n",
    "print('Test MAPE: ', np.mean(mean_absolute_error(y_test, y_test_pred_xgbr) / y_test))"
   ]
  },
  {
   "cell_type": "code",
   "execution_count": 61,
   "metadata": {
    "ExecuteTime": {
     "end_time": "2021-04-09T11:02:04.639982Z",
     "start_time": "2021-04-09T11:02:04.497498Z"
    },
    "scrolled": true
   },
   "outputs": [
    {
     "data": {
      "text/plain": [
       "True     0.619547\n",
       "False    0.380453\n",
       "Name: Bool, dtype: float64"
      ]
     },
     "execution_count": 61,
     "metadata": {},
     "output_type": "execute_result"
    }
   ],
   "source": [
    "data_xgbr = pd.DataFrame()\n",
    "data_xgbr['actual'] = y_test\n",
    "data_xgbr['predicted'] = y_test_pred_xgbr\n",
    "data_xgbr['lower range'] = y_test_pred_xgbr - (0.0915860626361764 * y_test_pred_xgbr)\n",
    "data_xgbr['upper range'] = y_test_pred_xgbr + (0.0915860626361764 * y_test_pred_xgbr)\n",
    "t_list = []\n",
    "for i in data_xgbr.index:\n",
    "    if data_xgbr['actual'][i] > data_xgbr['lower range'][i]:\n",
    "        if data_xgbr['actual'][i] < data_xgbr['upper range'][i]:\n",
    "            t_list.append('True')\n",
    "        else:\n",
    "            t_list.append('False')\n",
    "    else:\n",
    "        t_list.append('False')\n",
    "data_xgbr['Bool'] = t_list\n",
    "data_xgbr['Bool'].value_counts()/data_xgbr.shape[0]"
   ]
  },
  {
   "cell_type": "code",
   "execution_count": null,
   "metadata": {},
   "outputs": [],
   "source": [
    "'runs', 'wickets', 'overs', 'runs_last_5', 'wickets_last_5', 'total', 'year', 'bat_team_Deccan Chargers', 'bat_team_Delhi Capitals', 'bat_team_Gujarat Lions', \n",
    "         'bat_team_Kings XI Punjab', 'bat_team_Kolkata Knight Riders', 'bat_team_Mumbai Indians', 'bat_team_Pune Warriors', \n",
    "         'bat_team_Rajasthan Royals', 'bat_team_Rising Pune Supergiant', 'bat_team_Royal Challengers Bangalore', 'bat_team_Sunrisers Hyderabad', \n",
    "         'bowl_team_Deccan Chargers', 'bowl_team_Delhi Capitals', 'bowl_team_Gujarat Lions', 'bowl_team_Kings XI Punjab', 'bowl_team_Kolkata Knight Riders', \n",
    "         'bowl_team_Mumbai Indians', 'bowl_team_Pune Warriors', 'bowl_team_Rajasthan Royals', 'bowl_team_Rising Pune Supergiant', 'bowl_team_Royal Challengers Bangalore', \n",
    "         'bowl_team_Sunrisers Hyderabad'"
   ]
  },
  {
   "cell_type": "code",
   "execution_count": 20,
   "metadata": {
    "ExecuteTime": {
     "end_time": "2021-04-11T15:05:18.842140Z",
     "start_time": "2021-04-11T15:05:18.603125Z"
    }
   },
   "outputs": [
    {
     "data": {
      "text/plain": [
       "KNeighborsRegressor(n_neighbors=8)"
      ]
     },
     "execution_count": 20,
     "metadata": {},
     "output_type": "execute_result"
    }
   ],
   "source": [
    "knr_rscv = KNeighborsRegressor(weights = 'uniform', n_neighbors = 8)\n",
    "knr_rscv.fit(X_train, y_train)"
   ]
  },
  {
   "cell_type": "code",
   "execution_count": 36,
   "metadata": {
    "ExecuteTime": {
     "end_time": "2021-04-11T15:35:04.711126Z",
     "start_time": "2021-04-11T15:35:04.702623Z"
    }
   },
   "outputs": [],
   "source": [
    "arr = np.array([171, 5, 19, 45, 4, 0, 0, 0, 0, 1, 0, 0, 0, 0, 0, 0, 0, 0, 0, 0, 0, 0, 0, 0, 0, 0, 1])"
   ]
  },
  {
   "cell_type": "code",
   "execution_count": 37,
   "metadata": {
    "ExecuteTime": {
     "end_time": "2021-04-11T15:35:05.075255Z",
     "start_time": "2021-04-11T15:35:05.067255Z"
    }
   },
   "outputs": [],
   "source": [
    "arr = arr.reshape(1, -1)"
   ]
  },
  {
   "cell_type": "code",
   "execution_count": 38,
   "metadata": {
    "ExecuteTime": {
     "end_time": "2021-04-11T15:35:05.396893Z",
     "start_time": "2021-04-11T15:35:05.380374Z"
    }
   },
   "outputs": [
    {
     "data": {
      "text/plain": [
       "187.125"
      ]
     },
     "execution_count": 38,
     "metadata": {},
     "output_type": "execute_result"
    }
   ],
   "source": [
    "s = knr_rscv.predict(arr)[0]\n",
    "s"
   ]
  },
  {
   "cell_type": "code",
   "execution_count": 39,
   "metadata": {
    "ExecuteTime": {
     "end_time": "2021-04-11T15:35:05.658591Z",
     "start_time": "2021-04-11T15:35:05.642296Z"
    }
   },
   "outputs": [
    {
     "data": {
      "text/plain": [
       "170.14094270679544"
      ]
     },
     "execution_count": 39,
     "metadata": {},
     "output_type": "execute_result"
    }
   ],
   "source": [
    "s - (0.09076316522754599 * s)"
   ]
  },
  {
   "cell_type": "code",
   "execution_count": 40,
   "metadata": {
    "ExecuteTime": {
     "end_time": "2021-04-11T15:35:06.407882Z",
     "start_time": "2021-04-11T15:35:06.400105Z"
    }
   },
   "outputs": [
    {
     "data": {
      "text/plain": [
       "204.10905729320456"
      ]
     },
     "execution_count": 40,
     "metadata": {},
     "output_type": "execute_result"
    }
   ],
   "source": [
    "s + (0.09076316522754599 * s)"
   ]
  },
  {
   "cell_type": "code",
   "execution_count": null,
   "metadata": {},
   "outputs": [],
   "source": []
  }
 ],
 "metadata": {
  "kernelspec": {
   "display_name": "Python 3",
   "language": "python",
   "name": "python3"
  },
  "language_info": {
   "codemirror_mode": {
    "name": "ipython",
    "version": 3
   },
   "file_extension": ".py",
   "mimetype": "text/x-python",
   "name": "python",
   "nbconvert_exporter": "python",
   "pygments_lexer": "ipython3",
   "version": "3.8.5"
  }
 },
 "nbformat": 4,
 "nbformat_minor": 4
}
