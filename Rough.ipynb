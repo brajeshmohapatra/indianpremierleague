{
 "cells": [
  {
   "cell_type": "code",
   "execution_count": 1,
   "id": "527392ad",
   "metadata": {
    "ExecuteTime": {
     "end_time": "2022-03-30T09:03:53.215159Z",
     "start_time": "2022-03-30T09:03:52.579946Z"
    }
   },
   "outputs": [],
   "source": [
    "import requests\n",
    "import warnings\n",
    "import pandas as pd\n",
    "from bs4 import BeautifulSoup\n",
    "warnings.filterwarnings('ignore')\n",
    "import numpy as np"
   ]
  },
  {
   "cell_type": "code",
   "execution_count": 12,
   "id": "690dd492",
   "metadata": {
    "ExecuteTime": {
     "end_time": "2022-03-30T09:05:15.793780Z",
     "start_time": "2022-03-30T09:05:15.786778Z"
    }
   },
   "outputs": [],
   "source": [
    "url = 'https://www.espncricinfo.com/series/indian-premier-league-2022-1298423/royal-challengers-bangalore-vs-kolkata-knight-riders-6th-match-1304052/full-scorecard'"
   ]
  },
  {
   "cell_type": "code",
   "execution_count": 13,
   "id": "c74b7a08",
   "metadata": {
    "ExecuteTime": {
     "end_time": "2022-03-30T09:05:16.476296Z",
     "start_time": "2022-03-30T09:05:16.461299Z"
    }
   },
   "outputs": [
    {
     "data": {
      "text/plain": [
       "'https://www.espncricinfo.com/series/indian-premier-league-2022-1298423/royal-challengers-bangalore-vs-kolkata-knight-riders-6th-match-1304052/'"
      ]
     },
     "execution_count": 13,
     "metadata": {},
     "output_type": "execute_result"
    }
   ],
   "source": [
    "url = url.split('/')\n",
    "url = '/'.join(url[: -1]) + '/'\n",
    "url"
   ]
  },
  {
   "cell_type": "code",
   "execution_count": 14,
   "id": "ab68ec13",
   "metadata": {
    "ExecuteTime": {
     "end_time": "2022-03-30T09:05:20.195487Z",
     "start_time": "2022-03-30T09:05:19.896223Z"
    }
   },
   "outputs": [],
   "source": [
    "response = requests.get(url + 'live-cricket-score')\n",
    "soup = BeautifulSoup(response.text, 'html.parser')"
   ]
  },
  {
   "cell_type": "code",
   "execution_count": 15,
   "id": "17e93e5d",
   "metadata": {
    "ExecuteTime": {
     "end_time": "2022-03-30T09:05:20.897781Z",
     "start_time": "2022-03-30T09:05:20.887774Z"
    }
   },
   "outputs": [],
   "source": [
    "teams, toss = [], []\n",
    "venue, toss_winner, toss_loser, batting_team, bowling_team, status = '', '', '', '', '', ''\n",
    "innings, overs, runs, wickets, runs_last_5_overs, wickets_last_5_overs = 0, 0, 0, 0, 0, 0\n",
    "playoff, knockout, final, target_overs, target_runs = 0, 0, 0, 0, 0"
   ]
  },
  {
   "cell_type": "code",
   "execution_count": 16,
   "id": "f7f78a38",
   "metadata": {
    "ExecuteTime": {
     "end_time": "2022-03-30T09:05:25.760699Z",
     "start_time": "2022-03-30T09:05:25.548372Z"
    }
   },
   "outputs": [
    {
     "data": {
      "text/plain": [
       "['Royal Challengers Bangalore', 'Kolkata Knight Riders']"
      ]
     },
     "execution_count": 16,
     "metadata": {},
     "output_type": "execute_result"
    }
   ],
   "source": [
    "response = requests.get(url + 'live-cricket-score')\n",
    "soup = BeautifulSoup(response.text, 'html.parser')\n",
    "teams_1 = soup.find_all('div', attrs = {'class' : 'match-header'})\n",
    "for team in teams_1:\n",
    "    teams_2 = team.find_all('p', attrs = {'class' : 'name'})\n",
    "teams = [team.text for team in teams_2]\n",
    "teams"
   ]
  },
  {
   "cell_type": "code",
   "execution_count": 17,
   "id": "0ae24a17",
   "metadata": {
    "ExecuteTime": {
     "end_time": "2022-03-30T09:05:26.787215Z",
     "start_time": "2022-03-30T09:05:26.598160Z"
    }
   },
   "outputs": [
    {
     "data": {
      "text/plain": [
       "'Dr DY Patil Sports Academy, Mumbai'"
      ]
     },
     "execution_count": 17,
     "metadata": {},
     "output_type": "execute_result"
    }
   ],
   "source": [
    "response = requests.get(url + 'full-scorecard')\n",
    "soup = BeautifulSoup(response.text, 'html.parser')\n",
    "venue = soup.find('td', attrs = {'class' : 'match-venue'})\n",
    "venue = venue.text\n",
    "venue"
   ]
  },
  {
   "cell_type": "code",
   "execution_count": 18,
   "id": "65b5250b",
   "metadata": {
    "ExecuteTime": {
     "end_time": "2022-03-30T09:05:27.924136Z",
     "start_time": "2022-03-30T09:05:27.729600Z"
    }
   },
   "outputs": [],
   "source": [
    "#toss\n",
    "\n",
    "response = requests.get(url + 'full-scorecard')\n",
    "soup = BeautifulSoup(response.text, 'html.parser')\n",
    "try:\n",
    "    toss_result = soup.find_all('tr')\n",
    "    toss = [t for t in toss_result if 'Toss' in t.text]\n",
    "    toss_winner = toss[0].text.split(',')[0].split('Toss')[1]\n",
    "    toss_loser = [team for team in teams if team != toss_winner]\n",
    "    toss_loser = toss_loser[0]\n",
    "    print(toss_winner, toss_loser)\n",
    "except:\n",
    "    pass"
   ]
  },
  {
   "cell_type": "code",
   "execution_count": 19,
   "id": "2a7dda30",
   "metadata": {
    "ExecuteTime": {
     "end_time": "2022-03-30T09:05:28.652122Z",
     "start_time": "2022-03-30T09:05:28.434987Z"
    }
   },
   "outputs": [],
   "source": [
    "#innings\n",
    "\n",
    "response = requests.get(url + 'live-cricket-score')\n",
    "soup = BeautifulSoup(response.text, 'html.parser')\n",
    "match_status = soup.find_all('div', attrs = {'class' : 'match-info match-info-MATCH match-info-MATCH-full-width'})\n",
    "try:\n",
    "    for ms in match_status:\n",
    "        verifier = ms.find('div', attrs = {'class' : 'status-text'})\n",
    "    if 'chose to' in verifier.text:\n",
    "        innings = 1\n",
    "    elif 'need' in verifier.text:\n",
    "        innings = 2\n",
    "    print(innings)\n",
    "except:\n",
    "    pass"
   ]
  },
  {
   "cell_type": "code",
   "execution_count": 20,
   "id": "a35a4300",
   "metadata": {
    "ExecuteTime": {
     "end_time": "2022-03-30T09:05:29.292897Z",
     "start_time": "2022-03-30T09:05:29.096227Z"
    }
   },
   "outputs": [],
   "source": [
    "#batting and bowling team\n",
    "\n",
    "response = requests.get(url + 'full-scorecard')\n",
    "soup = BeautifulSoup(response.text, 'html.parser')\n",
    "try:\n",
    "    if 'bat' in toss[0].text and innings == 1:\n",
    "        batting_team = toss_winner\n",
    "        bowling_team = toss_loser\n",
    "    elif 'bat' in toss[0].text and innings == 2:\n",
    "        batting_team = toss_loser\n",
    "        bowling_team = toss_winner\n",
    "    elif 'field' in toss[0].text and innings == 1:\n",
    "        batting_team = toss_loser\n",
    "        bowling_team = toss_winner\n",
    "    else:\n",
    "        batting_team = toss_winner\n",
    "        bowling_team = toss_loser\n",
    "    print(batting_team, '-', bowling_team)\n",
    "except:\n",
    "    pass"
   ]
  },
  {
   "cell_type": "code",
   "execution_count": 22,
   "id": "f795ab99",
   "metadata": {
    "ExecuteTime": {
     "end_time": "2022-03-30T09:06:08.656343Z",
     "start_time": "2022-03-30T09:06:08.641340Z"
    }
   },
   "outputs": [],
   "source": [
    "status = soup.find_all('div', attrs = {'class' : 'match-header-container'})\n",
    "# status = status[0].find_all('div', attrs = {'class' : 'status-text'})\n",
    "# status = status[0].text"
   ]
  },
  {
   "cell_type": "code",
   "execution_count": 25,
   "id": "fa550cd3",
   "metadata": {
    "ExecuteTime": {
     "end_time": "2022-03-30T09:06:27.853961Z",
     "start_time": "2022-03-30T09:06:27.844952Z"
    }
   },
   "outputs": [
    {
     "data": {
      "text/plain": [
       "[]"
      ]
     },
     "execution_count": 25,
     "metadata": {},
     "output_type": "execute_result"
    }
   ],
   "source": [
    "status[0].find_all('div', attrs = {'class' : 'status-text'})"
   ]
  },
  {
   "cell_type": "code",
   "execution_count": null,
   "id": "98ec5e6b",
   "metadata": {},
   "outputs": [],
   "source": []
  },
  {
   "cell_type": "code",
   "execution_count": null,
   "id": "57676281",
   "metadata": {},
   "outputs": [],
   "source": []
  },
  {
   "cell_type": "code",
   "execution_count": null,
   "id": "7809eafd",
   "metadata": {},
   "outputs": [],
   "source": []
  },
  {
   "cell_type": "code",
   "execution_count": 11,
   "id": "b3a706f8",
   "metadata": {
    "ExecuteTime": {
     "end_time": "2022-03-30T09:04:00.493197Z",
     "start_time": "2022-03-30T09:04:00.049060Z"
    }
   },
   "outputs": [
    {
     "ename": "IndexError",
     "evalue": "list index out of range",
     "output_type": "error",
     "traceback": [
      "\u001b[1;31m---------------------------------------------------------------------------\u001b[0m",
      "\u001b[1;31mIndexError\u001b[0m                                Traceback (most recent call last)",
      "\u001b[1;32m~\\AppData\\Local\\Temp/ipykernel_20024/1815510887.py\u001b[0m in \u001b[0;36m<module>\u001b[1;34m\u001b[0m\n\u001b[0;32m     12\u001b[0m         \u001b[0mwickets\u001b[0m \u001b[1;33m=\u001b[0m \u001b[1;36m10\u001b[0m\u001b[1;33m\u001b[0m\u001b[1;33m\u001b[0m\u001b[0m\n\u001b[0;32m     13\u001b[0m \u001b[1;32melse\u001b[0m\u001b[1;33m:\u001b[0m\u001b[1;33m\u001b[0m\u001b[1;33m\u001b[0m\u001b[0m\n\u001b[1;32m---> 14\u001b[1;33m     \u001b[0movers\u001b[0m \u001b[1;33m=\u001b[0m \u001b[0mstatus\u001b[0m\u001b[1;33m[\u001b[0m\u001b[1;36m1\u001b[0m\u001b[1;33m]\u001b[0m\u001b[1;33m.\u001b[0m\u001b[0mtext\u001b[0m\u001b[1;33m.\u001b[0m\u001b[0msplit\u001b[0m\u001b[1;33m(\u001b[0m\u001b[1;34m' Ov'\u001b[0m\u001b[1;33m)\u001b[0m\u001b[1;33m[\u001b[0m\u001b[1;36m0\u001b[0m\u001b[1;33m]\u001b[0m\u001b[1;33m.\u001b[0m\u001b[0msplit\u001b[0m\u001b[1;33m(\u001b[0m\u001b[1;34m'('\u001b[0m\u001b[1;33m)\u001b[0m\u001b[1;33m[\u001b[0m\u001b[1;36m1\u001b[0m\u001b[1;33m]\u001b[0m\u001b[1;33m\u001b[0m\u001b[1;33m\u001b[0m\u001b[0m\n\u001b[0m\u001b[0;32m     15\u001b[0m     \u001b[0mruns\u001b[0m \u001b[1;33m=\u001b[0m \u001b[0mint\u001b[0m\u001b[1;33m(\u001b[0m\u001b[0mstatus\u001b[0m\u001b[1;33m[\u001b[0m\u001b[1;36m1\u001b[0m\u001b[1;33m]\u001b[0m\u001b[1;33m.\u001b[0m\u001b[0mtext\u001b[0m\u001b[1;33m.\u001b[0m\u001b[0msplit\u001b[0m\u001b[1;33m(\u001b[0m\u001b[1;34m'/'\u001b[0m\u001b[1;33m)\u001b[0m\u001b[1;33m[\u001b[0m\u001b[1;36m0\u001b[0m\u001b[1;33m]\u001b[0m\u001b[1;33m.\u001b[0m\u001b[0msplit\u001b[0m\u001b[1;33m(\u001b[0m\u001b[1;34m')'\u001b[0m\u001b[1;33m)\u001b[0m\u001b[1;33m[\u001b[0m\u001b[1;33m-\u001b[0m\u001b[1;36m1\u001b[0m\u001b[1;33m]\u001b[0m\u001b[1;33m)\u001b[0m\u001b[1;33m\u001b[0m\u001b[1;33m\u001b[0m\u001b[0m\n\u001b[0;32m     16\u001b[0m     \u001b[1;32mif\u001b[0m \u001b[1;34m'/'\u001b[0m \u001b[1;32min\u001b[0m \u001b[0mstatus\u001b[0m\u001b[1;33m[\u001b[0m\u001b[1;36m1\u001b[0m\u001b[1;33m]\u001b[0m\u001b[1;33m.\u001b[0m\u001b[0mtext\u001b[0m\u001b[1;33m:\u001b[0m\u001b[1;33m\u001b[0m\u001b[1;33m\u001b[0m\u001b[0m\n",
      "\u001b[1;31mIndexError\u001b[0m: list index out of range"
     ]
    }
   ],
   "source": [
    "#over, score and wickets\n",
    "\n",
    "response = requests.get(url + 'full-scorecard')\n",
    "soup = BeautifulSoup(response.text, 'html.parser')\n",
    "status = soup.find_all('tfoot')\n",
    "if innings == 1:\n",
    "    overs = status[0].text.split(' Ov')[0].split('(')[1]\n",
    "    runs = int(status[0].text.split('/')[0].split(')')[-1])\n",
    "    if '/' in status[0].text:\n",
    "        wickets = int(status[0].text.split('/')[1][0])\n",
    "    else:\n",
    "        wickets = 10\n",
    "else:\n",
    "    overs = status[1].text.split(' Ov')[0].split('(')[1]\n",
    "    runs = int(status[1].text.split('/')[0].split(')')[-1])\n",
    "    if '/' in status[1].text:\n",
    "        wickets = int(status[1].text.split('/')[1][0])\n",
    "    else:\n",
    "        wickets = 10\n",
    "# overs = overs.split('.')[0]\n",
    "overs = float(overs)\n",
    "ball_no = int(np.round((overs % 1) * 10, 0))\n",
    "overs = int(overs)\n",
    "print(overs, ball_no, runs, wickets)"
   ]
  },
  {
   "cell_type": "code",
   "execution_count": 12,
   "id": "10ffbb0c",
   "metadata": {
    "ExecuteTime": {
     "end_time": "2022-03-28T08:53:16.379293Z",
     "start_time": "2022-03-28T08:53:16.366284Z"
    }
   },
   "outputs": [
    {
     "name": "stdout",
     "output_type": "stream",
     "text": [
      "4 1 39 2\n"
     ]
    }
   ],
   "source": []
  },
  {
   "cell_type": "code",
   "execution_count": 32,
   "id": "53d57183",
   "metadata": {
    "ExecuteTime": {
     "end_time": "2022-03-28T08:52:14.286926Z",
     "start_time": "2022-03-28T08:52:14.008973Z"
    }
   },
   "outputs": [],
   "source": [
    "response = requests.get(url + 'full-scorecard')\n",
    "soup = BeautifulSoup(response.text, 'html.parser')"
   ]
  },
  {
   "cell_type": "code",
   "execution_count": 15,
   "id": "112de812",
   "metadata": {
    "ExecuteTime": {
     "end_time": "2022-03-27T15:00:07.947309Z",
     "start_time": "2022-03-27T15:00:07.939485Z"
    }
   },
   "outputs": [],
   "source": [
    "status = soup.find_all('tfoot')"
   ]
  },
  {
   "cell_type": "code",
   "execution_count": 16,
   "id": "ae20ada2",
   "metadata": {
    "ExecuteTime": {
     "end_time": "2022-03-27T15:00:11.045844Z",
     "start_time": "2022-03-27T15:00:11.034108Z"
    }
   },
   "outputs": [
    {
     "data": {
      "text/plain": [
       "12"
      ]
     },
     "execution_count": 16,
     "metadata": {},
     "output_type": "execute_result"
    }
   ],
   "source": [
    "overs = float(status[0].text.split(' Ov')[0].split('(')[1])\n",
    "ball_no = int(np.round((overs % 1) * 10, 0))\n",
    "overs = int(overs / 1)\n",
    "overs"
   ]
  },
  {
   "cell_type": "code",
   "execution_count": 40,
   "id": "b15573de",
   "metadata": {
    "ExecuteTime": {
     "end_time": "2022-03-26T14:38:24.937815Z",
     "start_time": "2022-03-26T14:38:24.923779Z"
    }
   },
   "outputs": [
    {
     "data": {
      "text/plain": [
       "48"
      ]
     },
     "execution_count": 40,
     "metadata": {},
     "output_type": "execute_result"
    }
   ],
   "source": [
    "score = int(status[0].text.split('/')[0].split(')')[-1])\n",
    "score"
   ]
  },
  {
   "cell_type": "code",
   "execution_count": 41,
   "id": "44895958",
   "metadata": {
    "ExecuteTime": {
     "end_time": "2022-03-26T14:38:30.966361Z",
     "start_time": "2022-03-26T14:38:30.950645Z"
    }
   },
   "outputs": [
    {
     "data": {
      "text/plain": [
       "5"
      ]
     },
     "execution_count": 41,
     "metadata": {},
     "output_type": "execute_result"
    }
   ],
   "source": [
    "ball_no"
   ]
  },
  {
   "cell_type": "code",
   "execution_count": null,
   "id": "8f7f9d46",
   "metadata": {},
   "outputs": [],
   "source": []
  },
  {
   "cell_type": "code",
   "execution_count": null,
   "id": "addc140b",
   "metadata": {},
   "outputs": [],
   "source": []
  },
  {
   "cell_type": "code",
   "execution_count": null,
   "id": "e09594e0",
   "metadata": {},
   "outputs": [],
   "source": []
  },
  {
   "cell_type": "code",
   "execution_count": 22,
   "id": "26e612fd",
   "metadata": {
    "ExecuteTime": {
     "end_time": "2022-03-28T08:50:44.950199Z",
     "start_time": "2022-03-28T08:50:44.941196Z"
    }
   },
   "outputs": [],
   "source": [
    "no = 7.2"
   ]
  },
  {
   "cell_type": "code",
   "execution_count": 25,
   "id": "880f825d",
   "metadata": {
    "ExecuteTime": {
     "end_time": "2022-03-28T08:51:08.386111Z",
     "start_time": "2022-03-28T08:51:08.379101Z"
    }
   },
   "outputs": [
    {
     "data": {
      "text/plain": [
       "2"
      ]
     },
     "execution_count": 25,
     "metadata": {},
     "output_type": "execute_result"
    }
   ],
   "source": [
    "int(10*(no%1))"
   ]
  },
  {
   "cell_type": "code",
   "execution_count": null,
   "id": "a88cc30b",
   "metadata": {},
   "outputs": [],
   "source": []
  },
  {
   "cell_type": "code",
   "execution_count": null,
   "id": "2c06e411",
   "metadata": {},
   "outputs": [],
   "source": []
  },
  {
   "cell_type": "code",
   "execution_count": 12,
   "id": "970117df",
   "metadata": {
    "ExecuteTime": {
     "end_time": "2022-03-26T08:32:32.598707Z",
     "start_time": "2022-03-26T08:32:32.257145Z"
    }
   },
   "outputs": [
    {
     "name": "stdout",
     "output_type": "stream",
     "text": [
      "34 0\n"
     ]
    }
   ],
   "source": [
    "#last five overs\n",
    "\n",
    "response = requests.get(url + 'full-scorecard')\n",
    "soup = BeautifulSoup(response.text, 'html.parser')\n",
    "recent = soup.find('div', attrs = {'class' : 'recent-overs'})\n",
    "try:\n",
    "    last_5_score = int(recent.text.split('/')[0].split('\\xa0')[-1])\n",
    "    last_5_wickets = int(recent.text.split('/')[-1].split(' ')[0])\n",
    "    print(last_5_score, last_5_wickets)\n",
    "except:\n",
    "    pass"
   ]
  },
  {
   "cell_type": "code",
   "execution_count": 13,
   "id": "1467b6cf",
   "metadata": {
    "ExecuteTime": {
     "end_time": "2022-03-26T08:32:33.890877Z",
     "start_time": "2022-03-26T08:32:33.438259Z"
    }
   },
   "outputs": [
    {
     "data": {
      "text/plain": [
       "'P.N.G. need 206 runs from 38.5 overs.'"
      ]
     },
     "execution_count": 13,
     "metadata": {},
     "output_type": "execute_result"
    }
   ],
   "source": [
    "#status\n",
    "\n",
    "response = requests.get(url + 'full-scorecard')\n",
    "soup = BeautifulSoup(response.text, 'html.parser')\n",
    "status = soup.find_all('div', attrs = {'class' : 'match-header-container'})\n",
    "status = status[0].find_all('div', attrs = {'class' : 'status-text'})\n",
    "status = status[0].text\n",
    "status"
   ]
  },
  {
   "cell_type": "code",
   "execution_count": 14,
   "id": "e97382ab",
   "metadata": {
    "ExecuteTime": {
     "end_time": "2022-03-26T08:35:02.744671Z",
     "start_time": "2022-03-26T08:35:02.147042Z"
    }
   },
   "outputs": [],
   "source": [
    "response = requests.get(url + 'live-cricket-score')\n",
    "soup = BeautifulSoup(response.text, 'html.parser')"
   ]
  },
  {
   "cell_type": "code",
   "execution_count": 16,
   "id": "ffd0d423",
   "metadata": {
    "ExecuteTime": {
     "end_time": "2022-03-26T08:35:24.654728Z",
     "start_time": "2022-03-26T08:35:24.622892Z"
    }
   },
   "outputs": [],
   "source": [
    "t_list = soup.find_all('div', attrs = {'class' : 'match-info match-info-MATCH match-info-MATCH-full-width'})"
   ]
  },
  {
   "cell_type": "code",
   "execution_count": 17,
   "id": "d00817b8",
   "metadata": {
    "ExecuteTime": {
     "end_time": "2022-03-26T08:35:54.054055Z",
     "start_time": "2022-03-26T08:35:54.038160Z"
    }
   },
   "outputs": [
    {
     "data": {
      "text/plain": [
       "[<div class=\"match-info match-info-MATCH match-info-MATCH-full-width\"><div class=\"teams\"><div><div class=\"team\"><div class=\"name-detail\"><img alt=\"Nepal Flag\" class=\"img img-lazy flag\" src=\"https://wassets.hscicdn.com/static/images/lazyimage.svg\"/><a class=\"name-link\" data-hover=\"\" href=\"/team/nepal-33\" rel=\"\" target=\"_self\"><p class=\"name\">Nepal</p></a></div><div class=\"score-detail\"><span class=\"score-info\"></span><span class=\"score gray-650\">278/8</span></div></div><div class=\"team\"><div class=\"name-detail\"><img alt=\"Papua New Guinea Flag\" class=\"img img-lazy flag\" src=\"https://wassets.hscicdn.com/static/images/lazyimage.svg\"/><a class=\"name-link\" data-hover=\"\" href=\"/team/papua-new-guinea-20\" rel=\"\" target=\"_self\"><p class=\"name\">Papua New Guinea</p></a><span class=\"batting-indicator\"></span></div><div class=\"score-detail\"><span class=\"score-info\">(12/50 ov, target 279)</span><span class=\"score\">78/2</span></div></div></div></div><div class=\"status-text\"><span>P.N.G. need 201 runs from 38 overs.</span></div></div>]"
      ]
     },
     "execution_count": 17,
     "metadata": {},
     "output_type": "execute_result"
    }
   ],
   "source": [
    "t_list"
   ]
  },
  {
   "cell_type": "code",
   "execution_count": 31,
   "id": "e8d15383",
   "metadata": {
    "ExecuteTime": {
     "end_time": "2022-03-26T08:43:06.180981Z",
     "start_time": "2022-03-26T08:43:06.157520Z"
    }
   },
   "outputs": [
    {
     "name": "stdout",
     "output_type": "stream",
     "text": [
      "Nepal278/8Papua New Guinea(12/50 ov, target 279)78/2P.N.G. need 201 runs from 38 overs.\n",
      "50\n",
      "279\n"
     ]
    }
   ],
   "source": [
    "for i in t_list:\n",
    "    print(i.text)\n",
    "    print(i.text.split(' ov')[0].split('(')[1].split('/')[1])\n",
    "    print(i.text.split('target ')[1].split(')')[0])"
   ]
  },
  {
   "cell_type": "code",
   "execution_count": 19,
   "id": "cfa68d96",
   "metadata": {
    "ExecuteTime": {
     "end_time": "2022-03-26T08:36:55.740945Z",
     "start_time": "2022-03-26T08:36:55.725630Z"
    }
   },
   "outputs": [
    {
     "data": {
      "text/plain": [
       "<span class=\"score-info\"></span>"
      ]
     },
     "execution_count": 19,
     "metadata": {},
     "output_type": "execute_result"
    }
   ],
   "source": [
    "t_list_2"
   ]
  },
  {
   "cell_type": "code",
   "execution_count": null,
   "id": "b286f9ab",
   "metadata": {},
   "outputs": [],
   "source": []
  },
  {
   "cell_type": "code",
   "execution_count": null,
   "id": "8806779c",
   "metadata": {},
   "outputs": [],
   "source": []
  },
  {
   "cell_type": "code",
   "execution_count": null,
   "id": "f6a01b07",
   "metadata": {},
   "outputs": [],
   "source": []
  },
  {
   "cell_type": "code",
   "execution_count": null,
   "id": "0e3622f7",
   "metadata": {},
   "outputs": [],
   "source": []
  },
  {
   "cell_type": "code",
   "execution_count": null,
   "id": "83e11a1a",
   "metadata": {},
   "outputs": [],
   "source": []
  },
  {
   "cell_type": "code",
   "execution_count": null,
   "id": "5173ee4d",
   "metadata": {},
   "outputs": [],
   "source": []
  }
 ],
 "metadata": {
  "kernelspec": {
   "display_name": "Python 3 (ipykernel)",
   "language": "python",
   "name": "python3"
  },
  "language_info": {
   "codemirror_mode": {
    "name": "ipython",
    "version": 3
   },
   "file_extension": ".py",
   "mimetype": "text/x-python",
   "name": "python",
   "nbconvert_exporter": "python",
   "pygments_lexer": "ipython3",
   "version": "3.9.7"
  }
 },
 "nbformat": 4,
 "nbformat_minor": 5
}
