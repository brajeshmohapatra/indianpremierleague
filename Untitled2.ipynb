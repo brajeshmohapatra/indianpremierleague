{
 "cells": [
  {
   "cell_type": "code",
   "execution_count": 1,
   "metadata": {
    "ExecuteTime": {
     "end_time": "2022-03-09T16:54:27.621822Z",
     "start_time": "2022-03-09T16:54:26.638392Z"
    }
   },
   "outputs": [
    {
     "data": {
      "text/html": [
       "<style>.container{width : 100% ! important;}</style>"
      ],
      "text/plain": [
       "<IPython.core.display.HTML object>"
      ]
     },
     "metadata": {},
     "output_type": "display_data"
    }
   ],
   "source": [
    "\n",
    "import warnings\n",
    "import numpy as np\n",
    "import pandas as pd\n",
    "from sqlalchemy import *\n",
    "\n",
    "\n",
    "from IPython.core.display import display, HTML\n",
    "from sqlalchemy.ext.declarative import declarative_base\n",
    "warnings.filterwarnings('ignore')\n",
    "display(HTML('<style>.container{width : 100% ! important;}</style>'))"
   ]
  },
  {
   "cell_type": "code",
   "execution_count": 2,
   "metadata": {
    "ExecuteTime": {
     "end_time": "2022-03-09T16:54:28.652433Z",
     "start_time": "2022-03-09T16:54:28.253499Z"
    }
   },
   "outputs": [
    {
     "ename": "NameError",
     "evalue": "name 'declarative_base' is not defined",
     "output_type": "error",
     "traceback": [
      "\u001b[1;31m---------------------------------------------------------------------------\u001b[0m",
      "\u001b[1;31mNameError\u001b[0m                                 Traceback (most recent call last)",
      "\u001b[1;32m<ipython-input-2-d67de09efd5a>\u001b[0m in \u001b[0;36m<module>\u001b[1;34m\u001b[0m\n\u001b[0;32m      2\u001b[0m                                                                             database = 'indianpremierleague')\n\u001b[0;32m      3\u001b[0m \u001b[0mengine\u001b[0m \u001b[1;33m=\u001b[0m \u001b[0mcreate_engine\u001b[0m\u001b[1;33m(\u001b[0m\u001b[0murl\u001b[0m\u001b[1;33m,\u001b[0m \u001b[0mecho\u001b[0m \u001b[1;33m=\u001b[0m \u001b[1;32mTrue\u001b[0m\u001b[1;33m)\u001b[0m\u001b[1;33m\u001b[0m\u001b[1;33m\u001b[0m\u001b[0m\n\u001b[1;32m----> 4\u001b[1;33m \u001b[0mbase\u001b[0m \u001b[1;33m=\u001b[0m \u001b[0mdeclarative_base\u001b[0m\u001b[1;33m(\u001b[0m\u001b[1;33m)\u001b[0m\u001b[1;33m\u001b[0m\u001b[1;33m\u001b[0m\u001b[0m\n\u001b[0m",
      "\u001b[1;31mNameError\u001b[0m: name 'declarative_base' is not defined"
     ]
    }
   ],
   "source": [
    "url = 'mysql+mysqlconnector://{user}:{password}@{server}/{database}'.format(user = 'root', password = 'Titun@1994', server = 'localhost', \n",
    "                                                                            database = 'indianpremierleague')\n",
    "engine = create_engine(url, echo = True)\n",
    "base = declarative_base()"
   ]
  },
  {
   "cell_type": "code",
   "execution_count": 3,
   "metadata": {
    "ExecuteTime": {
     "end_time": "2022-03-09T16:38:15.606156Z",
     "start_time": "2022-03-09T16:38:15.474534Z"
    },
    "scrolled": false
   },
   "outputs": [
    {
     "name": "stdout",
     "output_type": "stream",
     "text": [
      "2022-03-09 22:08:15,555 INFO sqlalchemy.engine.base.Engine SHOW VARIABLES LIKE 'sql_mode'\n",
      "2022-03-09 22:08:15,557 INFO sqlalchemy.engine.base.Engine {}\n",
      "2022-03-09 22:08:15,561 INFO sqlalchemy.engine.base.Engine SHOW VARIABLES LIKE 'lower_case_table_names'\n",
      "2022-03-09 22:08:15,562 INFO sqlalchemy.engine.base.Engine {}\n",
      "2022-03-09 22:08:15,566 INFO sqlalchemy.engine.base.Engine SELECT DATABASE()\n",
      "2022-03-09 22:08:15,567 INFO sqlalchemy.engine.base.Engine {}\n",
      "2022-03-09 22:08:15,569 INFO sqlalchemy.engine.base.Engine SELECT CAST('test plain returns' AS CHAR(60)) AS anon_1\n",
      "2022-03-09 22:08:15,570 INFO sqlalchemy.engine.base.Engine {}\n",
      "2022-03-09 22:08:15,572 INFO sqlalchemy.engine.base.Engine SELECT CAST('test unicode returns' AS CHAR(60)) AS anon_1\n",
      "2022-03-09 22:08:15,573 INFO sqlalchemy.engine.base.Engine {}\n",
      "2022-03-09 22:08:15,576 INFO sqlalchemy.engine.base.Engine show tables;\n",
      "2022-03-09 22:08:15,577 INFO sqlalchemy.engine.base.Engine {}\n"
     ]
    },
    {
     "data": {
      "text/html": [
       "<div>\n",
       "<style scoped>\n",
       "    .dataframe tbody tr th:only-of-type {\n",
       "        vertical-align: middle;\n",
       "    }\n",
       "\n",
       "    .dataframe tbody tr th {\n",
       "        vertical-align: top;\n",
       "    }\n",
       "\n",
       "    .dataframe thead th {\n",
       "        text-align: right;\n",
       "    }\n",
       "</style>\n",
       "<table border=\"1\" class=\"dataframe\">\n",
       "  <thead>\n",
       "    <tr style=\"text-align: right;\">\n",
       "      <th></th>\n",
       "      <th>Tables_in_indianpremierleague</th>\n",
       "    </tr>\n",
       "  </thead>\n",
       "  <tbody>\n",
       "    <tr>\n",
       "      <th>0</th>\n",
       "      <td>fixtures</td>\n",
       "    </tr>\n",
       "    <tr>\n",
       "      <th>1</th>\n",
       "      <td>iplmatches</td>\n",
       "    </tr>\n",
       "  </tbody>\n",
       "</table>\n",
       "</div>"
      ],
      "text/plain": [
       "  Tables_in_indianpremierleague\n",
       "0                      fixtures\n",
       "1                    iplmatches"
      ]
     },
     "execution_count": 3,
     "metadata": {},
     "output_type": "execute_result"
    }
   ],
   "source": [
    "pd.read_sql_query('show tables;', engine.connect())"
   ]
  },
  {
   "cell_type": "code",
   "execution_count": 5,
   "metadata": {
    "ExecuteTime": {
     "end_time": "2022-03-09T16:39:26.751940Z",
     "start_time": "2022-03-09T16:39:26.645198Z"
    }
   },
   "outputs": [
    {
     "name": "stdout",
     "output_type": "stream",
     "text": [
      "2022-03-09 22:09:26,716 INFO sqlalchemy.engine.base.Engine select * from fixtures limit 5;\n",
      "2022-03-09 22:09:26,717 INFO sqlalchemy.engine.base.Engine {}\n"
     ]
    },
    {
     "data": {
      "text/html": [
       "<div>\n",
       "<style scoped>\n",
       "    .dataframe tbody tr th:only-of-type {\n",
       "        vertical-align: middle;\n",
       "    }\n",
       "\n",
       "    .dataframe tbody tr th {\n",
       "        vertical-align: top;\n",
       "    }\n",
       "\n",
       "    .dataframe thead th {\n",
       "        text-align: right;\n",
       "    }\n",
       "</style>\n",
       "<table border=\"1\" class=\"dataframe\">\n",
       "  <thead>\n",
       "    <tr style=\"text-align: right;\">\n",
       "      <th></th>\n",
       "      <th>MATCH ID</th>\n",
       "      <th>MATCH NO</th>\n",
       "      <th>DATE</th>\n",
       "      <th>TIME</th>\n",
       "      <th>HOME TEAM</th>\n",
       "      <th>AWAY TEAM</th>\n",
       "      <th>MATCH</th>\n",
       "      <th>VENUE</th>\n",
       "      <th>URL</th>\n",
       "    </tr>\n",
       "  </thead>\n",
       "  <tbody>\n",
       "    <tr>\n",
       "      <th>0</th>\n",
       "      <td>NaN</td>\n",
       "      <td>None</td>\n",
       "      <td>2022-03-08</td>\n",
       "      <td>17:30:00</td>\n",
       "      <td>None</td>\n",
       "      <td>None</td>\n",
       "      <td>Demo vs Demo</td>\n",
       "      <td>None</td>\n",
       "      <td>None</td>\n",
       "    </tr>\n",
       "    <tr>\n",
       "      <th>1</th>\n",
       "      <td>1304047.0</td>\n",
       "      <td>1st</td>\n",
       "      <td>2022-03-26</td>\n",
       "      <td>07:30 PM</td>\n",
       "      <td>Chennai Super Kings</td>\n",
       "      <td>Kolkata Knight Riders</td>\n",
       "      <td>Chennai Super Kings vs Kolkata Knight Riders, ...</td>\n",
       "      <td>Wankhede Stadium</td>\n",
       "      <td>https://www.espncricinfo.com/series/indian-pre...</td>\n",
       "    </tr>\n",
       "    <tr>\n",
       "      <th>2</th>\n",
       "      <td>1304048.0</td>\n",
       "      <td>2nd</td>\n",
       "      <td>2022-03-27</td>\n",
       "      <td>03:30 PM</td>\n",
       "      <td>Delhi Capitals</td>\n",
       "      <td>Mumbai Indians</td>\n",
       "      <td>Delhi Capitals vs Mumbai Indians, 03:30 PM</td>\n",
       "      <td>Brabourne - CCI</td>\n",
       "      <td>https://www.espncricinfo.com/series/indian-pre...</td>\n",
       "    </tr>\n",
       "    <tr>\n",
       "      <th>3</th>\n",
       "      <td>1304049.0</td>\n",
       "      <td>3rd</td>\n",
       "      <td>2022-03-27</td>\n",
       "      <td>07:30 PM</td>\n",
       "      <td>Punjab Kings</td>\n",
       "      <td>Royal Challengers Bangalore</td>\n",
       "      <td>Punjab Kings vs Royal Challengers Bangalore, 0...</td>\n",
       "      <td>DY Patil Stadium</td>\n",
       "      <td>https://www.espncricinfo.com/series/indian-pre...</td>\n",
       "    </tr>\n",
       "    <tr>\n",
       "      <th>4</th>\n",
       "      <td>1304050.0</td>\n",
       "      <td>4th</td>\n",
       "      <td>2022-03-28</td>\n",
       "      <td>07:30 PM</td>\n",
       "      <td>Gujarat Titans</td>\n",
       "      <td>Lucknow Super Giants</td>\n",
       "      <td>Gujarat Titans vs Lucknow Super Giants, 07:30 PM</td>\n",
       "      <td>Wankhede Stadium</td>\n",
       "      <td>https://www.espncricinfo.com/series/indian-pre...</td>\n",
       "    </tr>\n",
       "  </tbody>\n",
       "</table>\n",
       "</div>"
      ],
      "text/plain": [
       "    MATCH ID MATCH NO       DATE      TIME            HOME TEAM  \\\n",
       "0        NaN     None 2022-03-08  17:30:00                 None   \n",
       "1  1304047.0      1st 2022-03-26  07:30 PM  Chennai Super Kings   \n",
       "2  1304048.0      2nd 2022-03-27  03:30 PM       Delhi Capitals   \n",
       "3  1304049.0      3rd 2022-03-27  07:30 PM         Punjab Kings   \n",
       "4  1304050.0      4th 2022-03-28  07:30 PM       Gujarat Titans   \n",
       "\n",
       "                     AWAY TEAM  \\\n",
       "0                         None   \n",
       "1        Kolkata Knight Riders   \n",
       "2               Mumbai Indians   \n",
       "3  Royal Challengers Bangalore   \n",
       "4         Lucknow Super Giants   \n",
       "\n",
       "                                               MATCH             VENUE  \\\n",
       "0                                       Demo vs Demo              None   \n",
       "1  Chennai Super Kings vs Kolkata Knight Riders, ...  Wankhede Stadium   \n",
       "2         Delhi Capitals vs Mumbai Indians, 03:30 PM   Brabourne - CCI   \n",
       "3  Punjab Kings vs Royal Challengers Bangalore, 0...  DY Patil Stadium   \n",
       "4   Gujarat Titans vs Lucknow Super Giants, 07:30 PM  Wankhede Stadium   \n",
       "\n",
       "                                                 URL  \n",
       "0                                               None  \n",
       "1  https://www.espncricinfo.com/series/indian-pre...  \n",
       "2  https://www.espncricinfo.com/series/indian-pre...  \n",
       "3  https://www.espncricinfo.com/series/indian-pre...  \n",
       "4  https://www.espncricinfo.com/series/indian-pre...  "
      ]
     },
     "execution_count": 5,
     "metadata": {},
     "output_type": "execute_result"
    }
   ],
   "source": [
    "pd.read_sql_query('select * from fixtures limit 5;', engine.connect())"
   ]
  },
  {
   "cell_type": "code",
   "execution_count": 6,
   "metadata": {
    "ExecuteTime": {
     "end_time": "2022-03-09T16:41:05.253927Z",
     "start_time": "2022-03-09T16:41:05.238967Z"
    }
   },
   "outputs": [],
   "source": [
    "value = 'Chennai Super Kings vs Kolkata Knight Riders, 07:30 PM'"
   ]
  },
  {
   "cell_type": "code",
   "execution_count": 12,
   "metadata": {
    "ExecuteTime": {
     "end_time": "2022-03-09T16:43:51.735293Z",
     "start_time": "2022-03-09T16:43:51.666475Z"
    }
   },
   "outputs": [
    {
     "name": "stdout",
     "output_type": "stream",
     "text": [
      "2022-03-09 22:13:51,670 INFO sqlalchemy.engine.base.Engine SHOW FULL TABLES FROM `indianpremierleague`\n",
      "2022-03-09 22:13:51,671 INFO sqlalchemy.engine.base.Engine {}\n",
      "2022-03-09 22:13:51,677 INFO sqlalchemy.engine.base.Engine SHOW FULL TABLES FROM `indianpremierleague`\n",
      "2022-03-09 22:13:51,678 INFO sqlalchemy.engine.base.Engine {}\n",
      "2022-03-09 22:13:51,700 INFO sqlalchemy.engine.base.Engine SHOW CREATE TABLE `fixtures`\n",
      "2022-03-09 22:13:51,701 INFO sqlalchemy.engine.base.Engine {}\n",
      "2022-03-09 22:13:51,710 INFO sqlalchemy.engine.base.OptionEngine SELECT fixtures.`MATCH ID`, fixtures.`MATCH NO`, fixtures.`DATE`, fixtures.`TIME`, fixtures.`HOME TEAM`, fixtures.`AWAY TEAM`, fixtures.`MATCH`, fixtures.`VENUE`, fixtures.`URL` \n",
      "FROM fixtures\n",
      "2022-03-09 22:13:51,712 INFO sqlalchemy.engine.base.OptionEngine {}\n"
     ]
    }
   ],
   "source": [
    "df = pd.read_sql_table('fixtures', engine)"
   ]
  },
  {
   "cell_type": "code",
   "execution_count": 13,
   "metadata": {
    "ExecuteTime": {
     "end_time": "2022-03-09T16:43:57.817174Z",
     "start_time": "2022-03-09T16:43:57.786257Z"
    }
   },
   "outputs": [
    {
     "data": {
      "text/html": [
       "<div>\n",
       "<style scoped>\n",
       "    .dataframe tbody tr th:only-of-type {\n",
       "        vertical-align: middle;\n",
       "    }\n",
       "\n",
       "    .dataframe tbody tr th {\n",
       "        vertical-align: top;\n",
       "    }\n",
       "\n",
       "    .dataframe thead th {\n",
       "        text-align: right;\n",
       "    }\n",
       "</style>\n",
       "<table border=\"1\" class=\"dataframe\">\n",
       "  <thead>\n",
       "    <tr style=\"text-align: right;\">\n",
       "      <th></th>\n",
       "      <th>MATCH ID</th>\n",
       "      <th>MATCH NO</th>\n",
       "      <th>DATE</th>\n",
       "      <th>TIME</th>\n",
       "      <th>HOME TEAM</th>\n",
       "      <th>AWAY TEAM</th>\n",
       "      <th>MATCH</th>\n",
       "      <th>VENUE</th>\n",
       "      <th>URL</th>\n",
       "    </tr>\n",
       "  </thead>\n",
       "  <tbody>\n",
       "    <tr>\n",
       "      <th>0</th>\n",
       "      <td>NaN</td>\n",
       "      <td>None</td>\n",
       "      <td>2022-03-08</td>\n",
       "      <td>17:30:00</td>\n",
       "      <td>None</td>\n",
       "      <td>None</td>\n",
       "      <td>Demo vs Demo</td>\n",
       "      <td>None</td>\n",
       "      <td>None</td>\n",
       "    </tr>\n",
       "    <tr>\n",
       "      <th>1</th>\n",
       "      <td>1304047.0</td>\n",
       "      <td>1st</td>\n",
       "      <td>2022-03-26</td>\n",
       "      <td>07:30 PM</td>\n",
       "      <td>Chennai Super Kings</td>\n",
       "      <td>Kolkata Knight Riders</td>\n",
       "      <td>Chennai Super Kings vs Kolkata Knight Riders, ...</td>\n",
       "      <td>Wankhede Stadium</td>\n",
       "      <td>https://www.espncricinfo.com/series/indian-pre...</td>\n",
       "    </tr>\n",
       "    <tr>\n",
       "      <th>2</th>\n",
       "      <td>1304048.0</td>\n",
       "      <td>2nd</td>\n",
       "      <td>2022-03-27</td>\n",
       "      <td>03:30 PM</td>\n",
       "      <td>Delhi Capitals</td>\n",
       "      <td>Mumbai Indians</td>\n",
       "      <td>Delhi Capitals vs Mumbai Indians, 03:30 PM</td>\n",
       "      <td>Brabourne - CCI</td>\n",
       "      <td>https://www.espncricinfo.com/series/indian-pre...</td>\n",
       "    </tr>\n",
       "    <tr>\n",
       "      <th>3</th>\n",
       "      <td>1304049.0</td>\n",
       "      <td>3rd</td>\n",
       "      <td>2022-03-27</td>\n",
       "      <td>07:30 PM</td>\n",
       "      <td>Punjab Kings</td>\n",
       "      <td>Royal Challengers Bangalore</td>\n",
       "      <td>Punjab Kings vs Royal Challengers Bangalore, 0...</td>\n",
       "      <td>DY Patil Stadium</td>\n",
       "      <td>https://www.espncricinfo.com/series/indian-pre...</td>\n",
       "    </tr>\n",
       "    <tr>\n",
       "      <th>4</th>\n",
       "      <td>1304050.0</td>\n",
       "      <td>4th</td>\n",
       "      <td>2022-03-28</td>\n",
       "      <td>07:30 PM</td>\n",
       "      <td>Gujarat Titans</td>\n",
       "      <td>Lucknow Super Giants</td>\n",
       "      <td>Gujarat Titans vs Lucknow Super Giants, 07:30 PM</td>\n",
       "      <td>Wankhede Stadium</td>\n",
       "      <td>https://www.espncricinfo.com/series/indian-pre...</td>\n",
       "    </tr>\n",
       "  </tbody>\n",
       "</table>\n",
       "</div>"
      ],
      "text/plain": [
       "    MATCH ID MATCH NO       DATE      TIME            HOME TEAM  \\\n",
       "0        NaN     None 2022-03-08  17:30:00                 None   \n",
       "1  1304047.0      1st 2022-03-26  07:30 PM  Chennai Super Kings   \n",
       "2  1304048.0      2nd 2022-03-27  03:30 PM       Delhi Capitals   \n",
       "3  1304049.0      3rd 2022-03-27  07:30 PM         Punjab Kings   \n",
       "4  1304050.0      4th 2022-03-28  07:30 PM       Gujarat Titans   \n",
       "\n",
       "                     AWAY TEAM  \\\n",
       "0                         None   \n",
       "1        Kolkata Knight Riders   \n",
       "2               Mumbai Indians   \n",
       "3  Royal Challengers Bangalore   \n",
       "4         Lucknow Super Giants   \n",
       "\n",
       "                                               MATCH             VENUE  \\\n",
       "0                                       Demo vs Demo              None   \n",
       "1  Chennai Super Kings vs Kolkata Knight Riders, ...  Wankhede Stadium   \n",
       "2         Delhi Capitals vs Mumbai Indians, 03:30 PM   Brabourne - CCI   \n",
       "3  Punjab Kings vs Royal Challengers Bangalore, 0...  DY Patil Stadium   \n",
       "4   Gujarat Titans vs Lucknow Super Giants, 07:30 PM  Wankhede Stadium   \n",
       "\n",
       "                                                 URL  \n",
       "0                                               None  \n",
       "1  https://www.espncricinfo.com/series/indian-pre...  \n",
       "2  https://www.espncricinfo.com/series/indian-pre...  \n",
       "3  https://www.espncricinfo.com/series/indian-pre...  \n",
       "4  https://www.espncricinfo.com/series/indian-pre...  "
      ]
     },
     "execution_count": 13,
     "metadata": {},
     "output_type": "execute_result"
    }
   ],
   "source": [
    "df.head()"
   ]
  },
  {
   "cell_type": "code",
   "execution_count": 18,
   "metadata": {
    "ExecuteTime": {
     "end_time": "2022-03-09T16:44:51.582185Z",
     "start_time": "2022-03-09T16:44:51.573209Z"
    }
   },
   "outputs": [],
   "source": [
    "url = df[df['MATCH'] == value]['URL'].values[0]"
   ]
  },
  {
   "cell_type": "code",
   "execution_count": 19,
   "metadata": {
    "ExecuteTime": {
     "end_time": "2022-03-09T16:44:51.987033Z",
     "start_time": "2022-03-09T16:44:51.976062Z"
    }
   },
   "outputs": [
    {
     "data": {
      "text/plain": [
       "'https://www.espncricinfo.com/series/indian-premier-league-2022-1298423/chennai-super-kings-vs-kolkata-knight-riders-1st-match-1304047/live-cricket-score'"
      ]
     },
     "execution_count": 19,
     "metadata": {},
     "output_type": "execute_result"
    }
   ],
   "source": [
    "url"
   ]
  },
  {
   "cell_type": "code",
   "execution_count": null,
   "metadata": {},
   "outputs": [],
   "source": []
  }
 ],
 "metadata": {
  "hide_input": false,
  "kernelspec": {
   "display_name": "Python 3",
   "language": "python",
   "name": "python3"
  },
  "language_info": {
   "codemirror_mode": {
    "name": "ipython",
    "version": 3
   },
   "file_extension": ".py",
   "mimetype": "text/x-python",
   "name": "python",
   "nbconvert_exporter": "python",
   "pygments_lexer": "ipython3",
   "version": "3.8.5"
  }
 },
 "nbformat": 4,
 "nbformat_minor": 5
}
