{
 "cells": [
  {
   "cell_type": "code",
   "execution_count": 13,
   "id": "735bf1cd",
   "metadata": {
    "ExecuteTime": {
     "end_time": "2022-03-28T11:12:07.967858Z",
     "start_time": "2022-03-28T11:12:07.955840Z"
    }
   },
   "outputs": [
    {
     "data": {
      "text/html": [
       "<style>.container{width : 100% ! important;}</style>"
      ],
      "text/plain": [
       "<IPython.core.display.HTML object>"
      ]
     },
     "metadata": {},
     "output_type": "display_data"
    }
   ],
   "source": [
    "import re\n",
    "import pickle\n",
    "import warnings\n",
    "import numpy as np\n",
    "import pandas as pd\n",
    "from sklearn.svm import SVC\n",
    "from xgboost import XGBClassifier\n",
    "from datetime import date, datetime\n",
    "from sklearn.impute import SimpleImputer\n",
    "from IPython.core.display import display, HTML\n",
    "from sklearn.tree import DecisionTreeClassifier\n",
    "from sklearn.neighbors import KNeighborsClassifier\n",
    "from sklearn.preprocessing import StandardScaler, LabelEncoder\n",
    "from sklearn.model_selection import RandomizedSearchCV, train_test_split\n",
    "from sklearn.linear_model import LogisticRegression, LogisticRegressionCV\n",
    "from sklearn.ensemble import RandomForestClassifier, AdaBoostClassifier, GradientBoostingClassifier\n",
    "from sklearn.metrics import plot_confusion_matrix, accuracy_score, precision_score, recall_score, f1_score\n",
    "warnings.filterwarnings('ignore')\n",
    "pd.pandas.set_option('display.max_rows', None)\n",
    "pd.pandas.set_option('display.max_columns', None)\n",
    "display(HTML('<style>.container{width : 100% ! important;}</style>'))"
   ]
  },
  {
   "cell_type": "code",
   "execution_count": 14,
   "id": "ab807d2e",
   "metadata": {
    "ExecuteTime": {
     "end_time": "2022-03-28T11:12:08.753555Z",
     "start_time": "2022-03-28T11:12:08.180864Z"
    }
   },
   "outputs": [],
   "source": [
    "df = pd.read_csv('IPL 2nd Innings.csv')"
   ]
  },
  {
   "cell_type": "code",
   "execution_count": 15,
   "id": "c415dbdd",
   "metadata": {
    "ExecuteTime": {
     "end_time": "2022-03-28T11:12:08.791065Z",
     "start_time": "2022-03-28T11:12:08.753555Z"
    }
   },
   "outputs": [
    {
     "data": {
      "text/html": [
       "<div>\n",
       "<style scoped>\n",
       "    .dataframe tbody tr th:only-of-type {\n",
       "        vertical-align: middle;\n",
       "    }\n",
       "\n",
       "    .dataframe tbody tr th {\n",
       "        vertical-align: top;\n",
       "    }\n",
       "\n",
       "    .dataframe thead th {\n",
       "        text-align: right;\n",
       "    }\n",
       "</style>\n",
       "<table border=\"1\" class=\"dataframe\">\n",
       "  <thead>\n",
       "    <tr style=\"text-align: right;\">\n",
       "      <th></th>\n",
       "      <th>match_id</th>\n",
       "      <th>year</th>\n",
       "      <th>date</th>\n",
       "      <th>city</th>\n",
       "      <th>venue</th>\n",
       "      <th>team1</th>\n",
       "      <th>team2</th>\n",
       "      <th>toss_winner</th>\n",
       "      <th>toss_decision</th>\n",
       "      <th>innings</th>\n",
       "      <th>batting_team</th>\n",
       "      <th>bowling_team</th>\n",
       "      <th>batsman</th>\n",
       "      <th>non_striker</th>\n",
       "      <th>bowler</th>\n",
       "      <th>overs</th>\n",
       "      <th>balls</th>\n",
       "      <th>ball_no</th>\n",
       "      <th>batsman_runs</th>\n",
       "      <th>extra_runs</th>\n",
       "      <th>total_runs</th>\n",
       "      <th>non_boundary</th>\n",
       "      <th>is_wicket</th>\n",
       "      <th>dismissal_kind</th>\n",
       "      <th>player_dismissed</th>\n",
       "      <th>fielder</th>\n",
       "      <th>extras_type</th>\n",
       "      <th>runs</th>\n",
       "      <th>wickets</th>\n",
       "      <th>runs_last_5_overs</th>\n",
       "      <th>wickets_last_5_overs</th>\n",
       "      <th>winner</th>\n",
       "      <th>result</th>\n",
       "      <th>result_margin</th>\n",
       "      <th>player_of_match</th>\n",
       "      <th>playoff</th>\n",
       "      <th>knockout</th>\n",
       "      <th>final</th>\n",
       "      <th>method</th>\n",
       "      <th>players</th>\n",
       "      <th>umpire1</th>\n",
       "      <th>umpire2</th>\n",
       "      <th>final_score</th>\n",
       "      <th>total_wickets</th>\n",
       "      <th>target_overs</th>\n",
       "      <th>target_runs</th>\n",
       "      <th>won</th>\n",
       "    </tr>\n",
       "  </thead>\n",
       "  <tbody>\n",
       "    <tr>\n",
       "      <th>0</th>\n",
       "      <td>335982</td>\n",
       "      <td>2008</td>\n",
       "      <td>18-04-2008</td>\n",
       "      <td>Bangalore</td>\n",
       "      <td>M Chinnaswamy Stadium</td>\n",
       "      <td>Royal Challengers Bangalore</td>\n",
       "      <td>Kolkata Knight Riders</td>\n",
       "      <td>Royal Challengers Bangalore</td>\n",
       "      <td>field</td>\n",
       "      <td>2</td>\n",
       "      <td>Royal Challengers Bangalore</td>\n",
       "      <td>Kolkata Knight Riders</td>\n",
       "      <td>R Dravid</td>\n",
       "      <td>W Jaffer</td>\n",
       "      <td>AB Dinda</td>\n",
       "      <td>0</td>\n",
       "      <td>1</td>\n",
       "      <td>1</td>\n",
       "      <td>1</td>\n",
       "      <td>0</td>\n",
       "      <td>1</td>\n",
       "      <td>0</td>\n",
       "      <td>0</td>\n",
       "      <td>NaN</td>\n",
       "      <td>NaN</td>\n",
       "      <td>NaN</td>\n",
       "      <td>NaN</td>\n",
       "      <td>1</td>\n",
       "      <td>0</td>\n",
       "      <td>1</td>\n",
       "      <td>0</td>\n",
       "      <td>Kolkata Knight Riders</td>\n",
       "      <td>runs</td>\n",
       "      <td>140.0</td>\n",
       "      <td>BB McCullum</td>\n",
       "      <td>0</td>\n",
       "      <td>0</td>\n",
       "      <td>0</td>\n",
       "      <td>NaN</td>\n",
       "      <td>R Dravid, W Jaffer, V Kohli, JH Kallis, CL Whi...</td>\n",
       "      <td>Asad Rauf</td>\n",
       "      <td>RE Koertzen</td>\n",
       "      <td>82</td>\n",
       "      <td>10</td>\n",
       "      <td>20.0</td>\n",
       "      <td>223</td>\n",
       "      <td>0</td>\n",
       "    </tr>\n",
       "    <tr>\n",
       "      <th>1</th>\n",
       "      <td>335982</td>\n",
       "      <td>2008</td>\n",
       "      <td>18-04-2008</td>\n",
       "      <td>Bangalore</td>\n",
       "      <td>M Chinnaswamy Stadium</td>\n",
       "      <td>Royal Challengers Bangalore</td>\n",
       "      <td>Kolkata Knight Riders</td>\n",
       "      <td>Royal Challengers Bangalore</td>\n",
       "      <td>field</td>\n",
       "      <td>2</td>\n",
       "      <td>Royal Challengers Bangalore</td>\n",
       "      <td>Kolkata Knight Riders</td>\n",
       "      <td>W Jaffer</td>\n",
       "      <td>R Dravid</td>\n",
       "      <td>AB Dinda</td>\n",
       "      <td>0</td>\n",
       "      <td>2</td>\n",
       "      <td>2</td>\n",
       "      <td>0</td>\n",
       "      <td>1</td>\n",
       "      <td>1</td>\n",
       "      <td>0</td>\n",
       "      <td>0</td>\n",
       "      <td>NaN</td>\n",
       "      <td>NaN</td>\n",
       "      <td>NaN</td>\n",
       "      <td>wides</td>\n",
       "      <td>2</td>\n",
       "      <td>0</td>\n",
       "      <td>2</td>\n",
       "      <td>0</td>\n",
       "      <td>Kolkata Knight Riders</td>\n",
       "      <td>runs</td>\n",
       "      <td>140.0</td>\n",
       "      <td>BB McCullum</td>\n",
       "      <td>0</td>\n",
       "      <td>0</td>\n",
       "      <td>0</td>\n",
       "      <td>NaN</td>\n",
       "      <td>R Dravid, W Jaffer, V Kohli, JH Kallis, CL Whi...</td>\n",
       "      <td>Asad Rauf</td>\n",
       "      <td>RE Koertzen</td>\n",
       "      <td>82</td>\n",
       "      <td>10</td>\n",
       "      <td>20.0</td>\n",
       "      <td>223</td>\n",
       "      <td>0</td>\n",
       "    </tr>\n",
       "    <tr>\n",
       "      <th>2</th>\n",
       "      <td>335982</td>\n",
       "      <td>2008</td>\n",
       "      <td>18-04-2008</td>\n",
       "      <td>Bangalore</td>\n",
       "      <td>M Chinnaswamy Stadium</td>\n",
       "      <td>Royal Challengers Bangalore</td>\n",
       "      <td>Kolkata Knight Riders</td>\n",
       "      <td>Royal Challengers Bangalore</td>\n",
       "      <td>field</td>\n",
       "      <td>2</td>\n",
       "      <td>Royal Challengers Bangalore</td>\n",
       "      <td>Kolkata Knight Riders</td>\n",
       "      <td>W Jaffer</td>\n",
       "      <td>R Dravid</td>\n",
       "      <td>AB Dinda</td>\n",
       "      <td>0</td>\n",
       "      <td>3</td>\n",
       "      <td>2</td>\n",
       "      <td>0</td>\n",
       "      <td>0</td>\n",
       "      <td>0</td>\n",
       "      <td>0</td>\n",
       "      <td>0</td>\n",
       "      <td>NaN</td>\n",
       "      <td>NaN</td>\n",
       "      <td>NaN</td>\n",
       "      <td>NaN</td>\n",
       "      <td>2</td>\n",
       "      <td>0</td>\n",
       "      <td>2</td>\n",
       "      <td>0</td>\n",
       "      <td>Kolkata Knight Riders</td>\n",
       "      <td>runs</td>\n",
       "      <td>140.0</td>\n",
       "      <td>BB McCullum</td>\n",
       "      <td>0</td>\n",
       "      <td>0</td>\n",
       "      <td>0</td>\n",
       "      <td>NaN</td>\n",
       "      <td>R Dravid, W Jaffer, V Kohli, JH Kallis, CL Whi...</td>\n",
       "      <td>Asad Rauf</td>\n",
       "      <td>RE Koertzen</td>\n",
       "      <td>82</td>\n",
       "      <td>10</td>\n",
       "      <td>20.0</td>\n",
       "      <td>223</td>\n",
       "      <td>0</td>\n",
       "    </tr>\n",
       "    <tr>\n",
       "      <th>3</th>\n",
       "      <td>335982</td>\n",
       "      <td>2008</td>\n",
       "      <td>18-04-2008</td>\n",
       "      <td>Bangalore</td>\n",
       "      <td>M Chinnaswamy Stadium</td>\n",
       "      <td>Royal Challengers Bangalore</td>\n",
       "      <td>Kolkata Knight Riders</td>\n",
       "      <td>Royal Challengers Bangalore</td>\n",
       "      <td>field</td>\n",
       "      <td>2</td>\n",
       "      <td>Royal Challengers Bangalore</td>\n",
       "      <td>Kolkata Knight Riders</td>\n",
       "      <td>W Jaffer</td>\n",
       "      <td>R Dravid</td>\n",
       "      <td>AB Dinda</td>\n",
       "      <td>0</td>\n",
       "      <td>4</td>\n",
       "      <td>3</td>\n",
       "      <td>1</td>\n",
       "      <td>0</td>\n",
       "      <td>1</td>\n",
       "      <td>0</td>\n",
       "      <td>0</td>\n",
       "      <td>NaN</td>\n",
       "      <td>NaN</td>\n",
       "      <td>NaN</td>\n",
       "      <td>NaN</td>\n",
       "      <td>3</td>\n",
       "      <td>0</td>\n",
       "      <td>3</td>\n",
       "      <td>0</td>\n",
       "      <td>Kolkata Knight Riders</td>\n",
       "      <td>runs</td>\n",
       "      <td>140.0</td>\n",
       "      <td>BB McCullum</td>\n",
       "      <td>0</td>\n",
       "      <td>0</td>\n",
       "      <td>0</td>\n",
       "      <td>NaN</td>\n",
       "      <td>R Dravid, W Jaffer, V Kohli, JH Kallis, CL Whi...</td>\n",
       "      <td>Asad Rauf</td>\n",
       "      <td>RE Koertzen</td>\n",
       "      <td>82</td>\n",
       "      <td>10</td>\n",
       "      <td>20.0</td>\n",
       "      <td>223</td>\n",
       "      <td>0</td>\n",
       "    </tr>\n",
       "    <tr>\n",
       "      <th>4</th>\n",
       "      <td>335982</td>\n",
       "      <td>2008</td>\n",
       "      <td>18-04-2008</td>\n",
       "      <td>Bangalore</td>\n",
       "      <td>M Chinnaswamy Stadium</td>\n",
       "      <td>Royal Challengers Bangalore</td>\n",
       "      <td>Kolkata Knight Riders</td>\n",
       "      <td>Royal Challengers Bangalore</td>\n",
       "      <td>field</td>\n",
       "      <td>2</td>\n",
       "      <td>Royal Challengers Bangalore</td>\n",
       "      <td>Kolkata Knight Riders</td>\n",
       "      <td>R Dravid</td>\n",
       "      <td>W Jaffer</td>\n",
       "      <td>AB Dinda</td>\n",
       "      <td>0</td>\n",
       "      <td>5</td>\n",
       "      <td>4</td>\n",
       "      <td>1</td>\n",
       "      <td>0</td>\n",
       "      <td>1</td>\n",
       "      <td>0</td>\n",
       "      <td>0</td>\n",
       "      <td>NaN</td>\n",
       "      <td>NaN</td>\n",
       "      <td>NaN</td>\n",
       "      <td>NaN</td>\n",
       "      <td>4</td>\n",
       "      <td>0</td>\n",
       "      <td>4</td>\n",
       "      <td>0</td>\n",
       "      <td>Kolkata Knight Riders</td>\n",
       "      <td>runs</td>\n",
       "      <td>140.0</td>\n",
       "      <td>BB McCullum</td>\n",
       "      <td>0</td>\n",
       "      <td>0</td>\n",
       "      <td>0</td>\n",
       "      <td>NaN</td>\n",
       "      <td>R Dravid, W Jaffer, V Kohli, JH Kallis, CL Whi...</td>\n",
       "      <td>Asad Rauf</td>\n",
       "      <td>RE Koertzen</td>\n",
       "      <td>82</td>\n",
       "      <td>10</td>\n",
       "      <td>20.0</td>\n",
       "      <td>223</td>\n",
       "      <td>0</td>\n",
       "    </tr>\n",
       "  </tbody>\n",
       "</table>\n",
       "</div>"
      ],
      "text/plain": [
       "   match_id  year        date       city                  venue  \\\n",
       "0    335982  2008  18-04-2008  Bangalore  M Chinnaswamy Stadium   \n",
       "1    335982  2008  18-04-2008  Bangalore  M Chinnaswamy Stadium   \n",
       "2    335982  2008  18-04-2008  Bangalore  M Chinnaswamy Stadium   \n",
       "3    335982  2008  18-04-2008  Bangalore  M Chinnaswamy Stadium   \n",
       "4    335982  2008  18-04-2008  Bangalore  M Chinnaswamy Stadium   \n",
       "\n",
       "                         team1                  team2  \\\n",
       "0  Royal Challengers Bangalore  Kolkata Knight Riders   \n",
       "1  Royal Challengers Bangalore  Kolkata Knight Riders   \n",
       "2  Royal Challengers Bangalore  Kolkata Knight Riders   \n",
       "3  Royal Challengers Bangalore  Kolkata Knight Riders   \n",
       "4  Royal Challengers Bangalore  Kolkata Knight Riders   \n",
       "\n",
       "                   toss_winner toss_decision  innings  \\\n",
       "0  Royal Challengers Bangalore         field        2   \n",
       "1  Royal Challengers Bangalore         field        2   \n",
       "2  Royal Challengers Bangalore         field        2   \n",
       "3  Royal Challengers Bangalore         field        2   \n",
       "4  Royal Challengers Bangalore         field        2   \n",
       "\n",
       "                  batting_team           bowling_team   batsman non_striker  \\\n",
       "0  Royal Challengers Bangalore  Kolkata Knight Riders  R Dravid    W Jaffer   \n",
       "1  Royal Challengers Bangalore  Kolkata Knight Riders  W Jaffer    R Dravid   \n",
       "2  Royal Challengers Bangalore  Kolkata Knight Riders  W Jaffer    R Dravid   \n",
       "3  Royal Challengers Bangalore  Kolkata Knight Riders  W Jaffer    R Dravid   \n",
       "4  Royal Challengers Bangalore  Kolkata Knight Riders  R Dravid    W Jaffer   \n",
       "\n",
       "     bowler  overs  balls  ball_no  batsman_runs  extra_runs  total_runs  \\\n",
       "0  AB Dinda      0      1        1             1           0           1   \n",
       "1  AB Dinda      0      2        2             0           1           1   \n",
       "2  AB Dinda      0      3        2             0           0           0   \n",
       "3  AB Dinda      0      4        3             1           0           1   \n",
       "4  AB Dinda      0      5        4             1           0           1   \n",
       "\n",
       "   non_boundary  is_wicket  dismissal_kind player_dismissed fielder  \\\n",
       "0             0          0             NaN              NaN     NaN   \n",
       "1             0          0             NaN              NaN     NaN   \n",
       "2             0          0             NaN              NaN     NaN   \n",
       "3             0          0             NaN              NaN     NaN   \n",
       "4             0          0             NaN              NaN     NaN   \n",
       "\n",
       "  extras_type  runs  wickets  runs_last_5_overs  wickets_last_5_overs  \\\n",
       "0         NaN     1        0                  1                     0   \n",
       "1       wides     2        0                  2                     0   \n",
       "2         NaN     2        0                  2                     0   \n",
       "3         NaN     3        0                  3                     0   \n",
       "4         NaN     4        0                  4                     0   \n",
       "\n",
       "                  winner result  result_margin player_of_match  playoff  \\\n",
       "0  Kolkata Knight Riders   runs          140.0     BB McCullum        0   \n",
       "1  Kolkata Knight Riders   runs          140.0     BB McCullum        0   \n",
       "2  Kolkata Knight Riders   runs          140.0     BB McCullum        0   \n",
       "3  Kolkata Knight Riders   runs          140.0     BB McCullum        0   \n",
       "4  Kolkata Knight Riders   runs          140.0     BB McCullum        0   \n",
       "\n",
       "   knockout  final method                                            players  \\\n",
       "0         0      0    NaN  R Dravid, W Jaffer, V Kohli, JH Kallis, CL Whi...   \n",
       "1         0      0    NaN  R Dravid, W Jaffer, V Kohli, JH Kallis, CL Whi...   \n",
       "2         0      0    NaN  R Dravid, W Jaffer, V Kohli, JH Kallis, CL Whi...   \n",
       "3         0      0    NaN  R Dravid, W Jaffer, V Kohli, JH Kallis, CL Whi...   \n",
       "4         0      0    NaN  R Dravid, W Jaffer, V Kohli, JH Kallis, CL Whi...   \n",
       "\n",
       "     umpire1      umpire2  final_score  total_wickets  target_overs  \\\n",
       "0  Asad Rauf  RE Koertzen           82             10          20.0   \n",
       "1  Asad Rauf  RE Koertzen           82             10          20.0   \n",
       "2  Asad Rauf  RE Koertzen           82             10          20.0   \n",
       "3  Asad Rauf  RE Koertzen           82             10          20.0   \n",
       "4  Asad Rauf  RE Koertzen           82             10          20.0   \n",
       "\n",
       "   target_runs  won  \n",
       "0          223    0  \n",
       "1          223    0  \n",
       "2          223    0  \n",
       "3          223    0  \n",
       "4          223    0  "
      ]
     },
     "execution_count": 15,
     "metadata": {},
     "output_type": "execute_result"
    }
   ],
   "source": [
    "df.head()"
   ]
  },
  {
   "cell_type": "code",
   "execution_count": 16,
   "id": "1c43ba38",
   "metadata": {
    "ExecuteTime": {
     "end_time": "2022-03-28T11:12:08.806860Z",
     "start_time": "2022-03-28T11:12:08.792067Z"
    }
   },
   "outputs": [
    {
     "data": {
      "text/plain": [
       "(100217, 47)"
      ]
     },
     "execution_count": 16,
     "metadata": {},
     "output_type": "execute_result"
    }
   ],
   "source": [
    "df.shape"
   ]
  },
  {
   "cell_type": "code",
   "execution_count": 17,
   "id": "6143e7ed",
   "metadata": {
    "ExecuteTime": {
     "end_time": "2022-03-28T11:12:08.838853Z",
     "start_time": "2022-03-28T11:12:08.808854Z"
    }
   },
   "outputs": [],
   "source": [
    "df = df[df['overs'] > 4]"
   ]
  },
  {
   "cell_type": "code",
   "execution_count": 18,
   "id": "92a1b394",
   "metadata": {
    "ExecuteTime": {
     "end_time": "2022-03-28T11:12:08.869874Z",
     "start_time": "2022-03-28T11:12:08.841857Z"
    }
   },
   "outputs": [
    {
     "data": {
      "text/html": [
       "<div>\n",
       "<style scoped>\n",
       "    .dataframe tbody tr th:only-of-type {\n",
       "        vertical-align: middle;\n",
       "    }\n",
       "\n",
       "    .dataframe tbody tr th {\n",
       "        vertical-align: top;\n",
       "    }\n",
       "\n",
       "    .dataframe thead th {\n",
       "        text-align: right;\n",
       "    }\n",
       "</style>\n",
       "<table border=\"1\" class=\"dataframe\">\n",
       "  <thead>\n",
       "    <tr style=\"text-align: right;\">\n",
       "      <th></th>\n",
       "      <th>match_id</th>\n",
       "      <th>year</th>\n",
       "      <th>date</th>\n",
       "      <th>city</th>\n",
       "      <th>venue</th>\n",
       "      <th>team1</th>\n",
       "      <th>team2</th>\n",
       "      <th>toss_winner</th>\n",
       "      <th>toss_decision</th>\n",
       "      <th>innings</th>\n",
       "      <th>batting_team</th>\n",
       "      <th>bowling_team</th>\n",
       "      <th>batsman</th>\n",
       "      <th>non_striker</th>\n",
       "      <th>bowler</th>\n",
       "      <th>overs</th>\n",
       "      <th>balls</th>\n",
       "      <th>ball_no</th>\n",
       "      <th>batsman_runs</th>\n",
       "      <th>extra_runs</th>\n",
       "      <th>total_runs</th>\n",
       "      <th>non_boundary</th>\n",
       "      <th>is_wicket</th>\n",
       "      <th>dismissal_kind</th>\n",
       "      <th>player_dismissed</th>\n",
       "      <th>fielder</th>\n",
       "      <th>extras_type</th>\n",
       "      <th>runs</th>\n",
       "      <th>wickets</th>\n",
       "      <th>runs_last_5_overs</th>\n",
       "      <th>wickets_last_5_overs</th>\n",
       "      <th>winner</th>\n",
       "      <th>result</th>\n",
       "      <th>result_margin</th>\n",
       "      <th>player_of_match</th>\n",
       "      <th>playoff</th>\n",
       "      <th>knockout</th>\n",
       "      <th>final</th>\n",
       "      <th>method</th>\n",
       "      <th>players</th>\n",
       "      <th>umpire1</th>\n",
       "      <th>umpire2</th>\n",
       "      <th>final_score</th>\n",
       "      <th>total_wickets</th>\n",
       "      <th>target_overs</th>\n",
       "      <th>target_runs</th>\n",
       "      <th>won</th>\n",
       "    </tr>\n",
       "  </thead>\n",
       "  <tbody>\n",
       "    <tr>\n",
       "      <th>32</th>\n",
       "      <td>335982</td>\n",
       "      <td>2008</td>\n",
       "      <td>18-04-2008</td>\n",
       "      <td>Bangalore</td>\n",
       "      <td>M Chinnaswamy Stadium</td>\n",
       "      <td>Royal Challengers Bangalore</td>\n",
       "      <td>Kolkata Knight Riders</td>\n",
       "      <td>Royal Challengers Bangalore</td>\n",
       "      <td>field</td>\n",
       "      <td>2</td>\n",
       "      <td>Royal Challengers Bangalore</td>\n",
       "      <td>Kolkata Knight Riders</td>\n",
       "      <td>W Jaffer</td>\n",
       "      <td>CL White</td>\n",
       "      <td>AB Dinda</td>\n",
       "      <td>5</td>\n",
       "      <td>1</td>\n",
       "      <td>31</td>\n",
       "      <td>0</td>\n",
       "      <td>0</td>\n",
       "      <td>0</td>\n",
       "      <td>0</td>\n",
       "      <td>0</td>\n",
       "      <td>NaN</td>\n",
       "      <td>NaN</td>\n",
       "      <td>NaN</td>\n",
       "      <td>NaN</td>\n",
       "      <td>24</td>\n",
       "      <td>3</td>\n",
       "      <td>22</td>\n",
       "      <td>3</td>\n",
       "      <td>Kolkata Knight Riders</td>\n",
       "      <td>runs</td>\n",
       "      <td>140.0</td>\n",
       "      <td>BB McCullum</td>\n",
       "      <td>0</td>\n",
       "      <td>0</td>\n",
       "      <td>0</td>\n",
       "      <td>NaN</td>\n",
       "      <td>R Dravid, W Jaffer, V Kohli, JH Kallis, CL Whi...</td>\n",
       "      <td>Asad Rauf</td>\n",
       "      <td>RE Koertzen</td>\n",
       "      <td>82</td>\n",
       "      <td>10</td>\n",
       "      <td>20.0</td>\n",
       "      <td>223</td>\n",
       "      <td>0</td>\n",
       "    </tr>\n",
       "    <tr>\n",
       "      <th>33</th>\n",
       "      <td>335982</td>\n",
       "      <td>2008</td>\n",
       "      <td>18-04-2008</td>\n",
       "      <td>Bangalore</td>\n",
       "      <td>M Chinnaswamy Stadium</td>\n",
       "      <td>Royal Challengers Bangalore</td>\n",
       "      <td>Kolkata Knight Riders</td>\n",
       "      <td>Royal Challengers Bangalore</td>\n",
       "      <td>field</td>\n",
       "      <td>2</td>\n",
       "      <td>Royal Challengers Bangalore</td>\n",
       "      <td>Kolkata Knight Riders</td>\n",
       "      <td>W Jaffer</td>\n",
       "      <td>CL White</td>\n",
       "      <td>AB Dinda</td>\n",
       "      <td>5</td>\n",
       "      <td>2</td>\n",
       "      <td>32</td>\n",
       "      <td>0</td>\n",
       "      <td>0</td>\n",
       "      <td>0</td>\n",
       "      <td>0</td>\n",
       "      <td>1</td>\n",
       "      <td>71508.0</td>\n",
       "      <td>W Jaffer</td>\n",
       "      <td>RT Ponting</td>\n",
       "      <td>NaN</td>\n",
       "      <td>24</td>\n",
       "      <td>4</td>\n",
       "      <td>21</td>\n",
       "      <td>4</td>\n",
       "      <td>Kolkata Knight Riders</td>\n",
       "      <td>runs</td>\n",
       "      <td>140.0</td>\n",
       "      <td>BB McCullum</td>\n",
       "      <td>0</td>\n",
       "      <td>0</td>\n",
       "      <td>0</td>\n",
       "      <td>NaN</td>\n",
       "      <td>R Dravid, W Jaffer, V Kohli, JH Kallis, CL Whi...</td>\n",
       "      <td>Asad Rauf</td>\n",
       "      <td>RE Koertzen</td>\n",
       "      <td>82</td>\n",
       "      <td>10</td>\n",
       "      <td>20.0</td>\n",
       "      <td>223</td>\n",
       "      <td>0</td>\n",
       "    </tr>\n",
       "    <tr>\n",
       "      <th>34</th>\n",
       "      <td>335982</td>\n",
       "      <td>2008</td>\n",
       "      <td>18-04-2008</td>\n",
       "      <td>Bangalore</td>\n",
       "      <td>M Chinnaswamy Stadium</td>\n",
       "      <td>Royal Challengers Bangalore</td>\n",
       "      <td>Kolkata Knight Riders</td>\n",
       "      <td>Royal Challengers Bangalore</td>\n",
       "      <td>field</td>\n",
       "      <td>2</td>\n",
       "      <td>Royal Challengers Bangalore</td>\n",
       "      <td>Kolkata Knight Riders</td>\n",
       "      <td>MV Boucher</td>\n",
       "      <td>CL White</td>\n",
       "      <td>AB Dinda</td>\n",
       "      <td>5</td>\n",
       "      <td>3</td>\n",
       "      <td>33</td>\n",
       "      <td>0</td>\n",
       "      <td>0</td>\n",
       "      <td>0</td>\n",
       "      <td>0</td>\n",
       "      <td>0</td>\n",
       "      <td>NaN</td>\n",
       "      <td>NaN</td>\n",
       "      <td>NaN</td>\n",
       "      <td>NaN</td>\n",
       "      <td>24</td>\n",
       "      <td>4</td>\n",
       "      <td>20</td>\n",
       "      <td>4</td>\n",
       "      <td>Kolkata Knight Riders</td>\n",
       "      <td>runs</td>\n",
       "      <td>140.0</td>\n",
       "      <td>BB McCullum</td>\n",
       "      <td>0</td>\n",
       "      <td>0</td>\n",
       "      <td>0</td>\n",
       "      <td>NaN</td>\n",
       "      <td>R Dravid, W Jaffer, V Kohli, JH Kallis, CL Whi...</td>\n",
       "      <td>Asad Rauf</td>\n",
       "      <td>RE Koertzen</td>\n",
       "      <td>82</td>\n",
       "      <td>10</td>\n",
       "      <td>20.0</td>\n",
       "      <td>223</td>\n",
       "      <td>0</td>\n",
       "    </tr>\n",
       "    <tr>\n",
       "      <th>35</th>\n",
       "      <td>335982</td>\n",
       "      <td>2008</td>\n",
       "      <td>18-04-2008</td>\n",
       "      <td>Bangalore</td>\n",
       "      <td>M Chinnaswamy Stadium</td>\n",
       "      <td>Royal Challengers Bangalore</td>\n",
       "      <td>Kolkata Knight Riders</td>\n",
       "      <td>Royal Challengers Bangalore</td>\n",
       "      <td>field</td>\n",
       "      <td>2</td>\n",
       "      <td>Royal Challengers Bangalore</td>\n",
       "      <td>Kolkata Knight Riders</td>\n",
       "      <td>MV Boucher</td>\n",
       "      <td>CL White</td>\n",
       "      <td>AB Dinda</td>\n",
       "      <td>5</td>\n",
       "      <td>4</td>\n",
       "      <td>34</td>\n",
       "      <td>1</td>\n",
       "      <td>0</td>\n",
       "      <td>1</td>\n",
       "      <td>0</td>\n",
       "      <td>0</td>\n",
       "      <td>NaN</td>\n",
       "      <td>NaN</td>\n",
       "      <td>NaN</td>\n",
       "      <td>NaN</td>\n",
       "      <td>25</td>\n",
       "      <td>4</td>\n",
       "      <td>21</td>\n",
       "      <td>4</td>\n",
       "      <td>Kolkata Knight Riders</td>\n",
       "      <td>runs</td>\n",
       "      <td>140.0</td>\n",
       "      <td>BB McCullum</td>\n",
       "      <td>0</td>\n",
       "      <td>0</td>\n",
       "      <td>0</td>\n",
       "      <td>NaN</td>\n",
       "      <td>R Dravid, W Jaffer, V Kohli, JH Kallis, CL Whi...</td>\n",
       "      <td>Asad Rauf</td>\n",
       "      <td>RE Koertzen</td>\n",
       "      <td>82</td>\n",
       "      <td>10</td>\n",
       "      <td>20.0</td>\n",
       "      <td>223</td>\n",
       "      <td>0</td>\n",
       "    </tr>\n",
       "    <tr>\n",
       "      <th>36</th>\n",
       "      <td>335982</td>\n",
       "      <td>2008</td>\n",
       "      <td>18-04-2008</td>\n",
       "      <td>Bangalore</td>\n",
       "      <td>M Chinnaswamy Stadium</td>\n",
       "      <td>Royal Challengers Bangalore</td>\n",
       "      <td>Kolkata Knight Riders</td>\n",
       "      <td>Royal Challengers Bangalore</td>\n",
       "      <td>field</td>\n",
       "      <td>2</td>\n",
       "      <td>Royal Challengers Bangalore</td>\n",
       "      <td>Kolkata Knight Riders</td>\n",
       "      <td>CL White</td>\n",
       "      <td>MV Boucher</td>\n",
       "      <td>AB Dinda</td>\n",
       "      <td>5</td>\n",
       "      <td>5</td>\n",
       "      <td>35</td>\n",
       "      <td>1</td>\n",
       "      <td>0</td>\n",
       "      <td>1</td>\n",
       "      <td>0</td>\n",
       "      <td>0</td>\n",
       "      <td>NaN</td>\n",
       "      <td>NaN</td>\n",
       "      <td>NaN</td>\n",
       "      <td>NaN</td>\n",
       "      <td>26</td>\n",
       "      <td>4</td>\n",
       "      <td>22</td>\n",
       "      <td>4</td>\n",
       "      <td>Kolkata Knight Riders</td>\n",
       "      <td>runs</td>\n",
       "      <td>140.0</td>\n",
       "      <td>BB McCullum</td>\n",
       "      <td>0</td>\n",
       "      <td>0</td>\n",
       "      <td>0</td>\n",
       "      <td>NaN</td>\n",
       "      <td>R Dravid, W Jaffer, V Kohli, JH Kallis, CL Whi...</td>\n",
       "      <td>Asad Rauf</td>\n",
       "      <td>RE Koertzen</td>\n",
       "      <td>82</td>\n",
       "      <td>10</td>\n",
       "      <td>20.0</td>\n",
       "      <td>223</td>\n",
       "      <td>0</td>\n",
       "    </tr>\n",
       "  </tbody>\n",
       "</table>\n",
       "</div>"
      ],
      "text/plain": [
       "    match_id  year        date       city                  venue  \\\n",
       "32    335982  2008  18-04-2008  Bangalore  M Chinnaswamy Stadium   \n",
       "33    335982  2008  18-04-2008  Bangalore  M Chinnaswamy Stadium   \n",
       "34    335982  2008  18-04-2008  Bangalore  M Chinnaswamy Stadium   \n",
       "35    335982  2008  18-04-2008  Bangalore  M Chinnaswamy Stadium   \n",
       "36    335982  2008  18-04-2008  Bangalore  M Chinnaswamy Stadium   \n",
       "\n",
       "                          team1                  team2  \\\n",
       "32  Royal Challengers Bangalore  Kolkata Knight Riders   \n",
       "33  Royal Challengers Bangalore  Kolkata Knight Riders   \n",
       "34  Royal Challengers Bangalore  Kolkata Knight Riders   \n",
       "35  Royal Challengers Bangalore  Kolkata Knight Riders   \n",
       "36  Royal Challengers Bangalore  Kolkata Knight Riders   \n",
       "\n",
       "                    toss_winner toss_decision  innings  \\\n",
       "32  Royal Challengers Bangalore         field        2   \n",
       "33  Royal Challengers Bangalore         field        2   \n",
       "34  Royal Challengers Bangalore         field        2   \n",
       "35  Royal Challengers Bangalore         field        2   \n",
       "36  Royal Challengers Bangalore         field        2   \n",
       "\n",
       "                   batting_team           bowling_team     batsman  \\\n",
       "32  Royal Challengers Bangalore  Kolkata Knight Riders    W Jaffer   \n",
       "33  Royal Challengers Bangalore  Kolkata Knight Riders    W Jaffer   \n",
       "34  Royal Challengers Bangalore  Kolkata Knight Riders  MV Boucher   \n",
       "35  Royal Challengers Bangalore  Kolkata Knight Riders  MV Boucher   \n",
       "36  Royal Challengers Bangalore  Kolkata Knight Riders    CL White   \n",
       "\n",
       "   non_striker    bowler  overs  balls  ball_no  batsman_runs  extra_runs  \\\n",
       "32    CL White  AB Dinda      5      1       31             0           0   \n",
       "33    CL White  AB Dinda      5      2       32             0           0   \n",
       "34    CL White  AB Dinda      5      3       33             0           0   \n",
       "35    CL White  AB Dinda      5      4       34             1           0   \n",
       "36  MV Boucher  AB Dinda      5      5       35             1           0   \n",
       "\n",
       "    total_runs  non_boundary  is_wicket  dismissal_kind player_dismissed  \\\n",
       "32           0             0          0             NaN              NaN   \n",
       "33           0             0          1         71508.0         W Jaffer   \n",
       "34           0             0          0             NaN              NaN   \n",
       "35           1             0          0             NaN              NaN   \n",
       "36           1             0          0             NaN              NaN   \n",
       "\n",
       "       fielder extras_type  runs  wickets  runs_last_5_overs  \\\n",
       "32         NaN         NaN    24        3                 22   \n",
       "33  RT Ponting         NaN    24        4                 21   \n",
       "34         NaN         NaN    24        4                 20   \n",
       "35         NaN         NaN    25        4                 21   \n",
       "36         NaN         NaN    26        4                 22   \n",
       "\n",
       "    wickets_last_5_overs                 winner result  result_margin  \\\n",
       "32                     3  Kolkata Knight Riders   runs          140.0   \n",
       "33                     4  Kolkata Knight Riders   runs          140.0   \n",
       "34                     4  Kolkata Knight Riders   runs          140.0   \n",
       "35                     4  Kolkata Knight Riders   runs          140.0   \n",
       "36                     4  Kolkata Knight Riders   runs          140.0   \n",
       "\n",
       "   player_of_match  playoff  knockout  final method  \\\n",
       "32     BB McCullum        0         0      0    NaN   \n",
       "33     BB McCullum        0         0      0    NaN   \n",
       "34     BB McCullum        0         0      0    NaN   \n",
       "35     BB McCullum        0         0      0    NaN   \n",
       "36     BB McCullum        0         0      0    NaN   \n",
       "\n",
       "                                              players    umpire1      umpire2  \\\n",
       "32  R Dravid, W Jaffer, V Kohli, JH Kallis, CL Whi...  Asad Rauf  RE Koertzen   \n",
       "33  R Dravid, W Jaffer, V Kohli, JH Kallis, CL Whi...  Asad Rauf  RE Koertzen   \n",
       "34  R Dravid, W Jaffer, V Kohli, JH Kallis, CL Whi...  Asad Rauf  RE Koertzen   \n",
       "35  R Dravid, W Jaffer, V Kohli, JH Kallis, CL Whi...  Asad Rauf  RE Koertzen   \n",
       "36  R Dravid, W Jaffer, V Kohli, JH Kallis, CL Whi...  Asad Rauf  RE Koertzen   \n",
       "\n",
       "    final_score  total_wickets  target_overs  target_runs  won  \n",
       "32           82             10          20.0          223    0  \n",
       "33           82             10          20.0          223    0  \n",
       "34           82             10          20.0          223    0  \n",
       "35           82             10          20.0          223    0  \n",
       "36           82             10          20.0          223    0  "
      ]
     },
     "execution_count": 18,
     "metadata": {},
     "output_type": "execute_result"
    }
   ],
   "source": [
    "df.head()"
   ]
  },
  {
   "cell_type": "code",
   "execution_count": 19,
   "id": "b8998cdd",
   "metadata": {
    "ExecuteTime": {
     "end_time": "2022-03-28T11:12:09.148749Z",
     "start_time": "2022-03-28T11:12:09.136730Z"
    }
   },
   "outputs": [
    {
     "data": {
      "text/plain": [
       "(72949, 47)"
      ]
     },
     "execution_count": 19,
     "metadata": {},
     "output_type": "execute_result"
    }
   ],
   "source": [
    "df.shape"
   ]
  },
  {
   "cell_type": "code",
   "execution_count": 20,
   "id": "fc4c13f1",
   "metadata": {
    "ExecuteTime": {
     "end_time": "2022-03-28T11:12:09.364850Z",
     "start_time": "2022-03-28T11:12:09.347858Z"
    }
   },
   "outputs": [],
   "source": [
    "df = df[['year', 'venue', 'toss_decision', 'batting_team', 'bowling_team', 'overs', 'ball_no', 'runs', 'wickets', 'runs_last_5_overs', \n",
    "         'wickets_last_5_overs', 'playoff', 'knockout', 'final', 'final_score']]"
   ]
  },
  {
   "cell_type": "code",
   "execution_count": 21,
   "id": "aaa4cda9",
   "metadata": {
    "ExecuteTime": {
     "end_time": "2022-03-28T11:12:09.571329Z",
     "start_time": "2022-03-28T11:12:09.515312Z"
    }
   },
   "outputs": [],
   "source": [
    "dummy = ['venue', 'toss_decision', 'batting_team', 'bowling_team']\n",
    "df_dummy = pd.get_dummies(df[dummy], prefix_sep = '_', drop_first = False)\n",
    "df = df.drop(dummy, axis = 1)\n",
    "df = pd.concat([df, df_dummy], axis = 1)"
   ]
  },
  {
   "cell_type": "code",
   "execution_count": 22,
   "id": "98debc9e",
   "metadata": {
    "ExecuteTime": {
     "end_time": "2022-03-28T11:12:09.694780Z",
     "start_time": "2022-03-28T11:12:09.685778Z"
    }
   },
   "outputs": [],
   "source": [
    "columns = []\n",
    "for i in df.columns:\n",
    "    i = re.sub('\\s', '_', i)\n",
    "    i = re.sub('\\.', '', i)\n",
    "    i = re.sub('\\,', '', i)\n",
    "    i = re.sub('\\-', '_', i)\n",
    "    columns.append(i)\n",
    "df.columns = columns"
   ]
  },
  {
   "cell_type": "code",
   "execution_count": 23,
   "id": "54cf8964",
   "metadata": {
    "ExecuteTime": {
     "end_time": "2022-03-28T11:12:10.072345Z",
     "start_time": "2022-03-28T11:12:10.057323Z"
    }
   },
   "outputs": [
    {
     "data": {
      "text/plain": [
       "Index(['year', 'overs', 'ball_no', 'runs', 'wickets', 'runs_last_5_overs',\n",
       "       'wickets_last_5_overs', 'playoff', 'knockout', 'final', 'final_score',\n",
       "       'venue_Arun_Jaitley_Stadium', 'venue_Barabati_Stadium',\n",
       "       'venue_Brabourne_Stadium', 'venue_Buffalo_Park',\n",
       "       'venue_De_Beers_Diamond_Oval', 'venue_Dr_DY_Patil_Sports_Academy',\n",
       "       'venue_Dr_YS_Rajasekhara_Reddy_ACA_VDCA_Cricket_Stadium',\n",
       "       'venue_Dubai_International_Cricket_Stadium', 'venue_Eden_Gardens',\n",
       "       'venue_Green_Park',\n",
       "       'venue_Himachal_Pradesh_Cricket_Association_Stadium',\n",
       "       'venue_Holkar_Cricket_Stadium',\n",
       "       'venue_JSCA_International_Stadium_Complex', 'venue_Kingsmead',\n",
       "       'venue_M_Chinnaswamy_Stadium', 'venue_MA_Chidambaram_Stadium',\n",
       "       'venue_Maharashtra_Cricket_Association_Stadium',\n",
       "       'venue_Narendra_Modi_Stadium', 'venue_Nehru_Stadium',\n",
       "       'venue_New_Wanderers_Stadium', 'venue_Newlands',\n",
       "       'venue_OUTsurance_Oval',\n",
       "       'venue_Punjab_Cricket_Association_IS_Bindra_Stadium',\n",
       "       'venue_Rajiv_Gandhi_International_Stadium',\n",
       "       'venue_Saurashtra_Cricket_Association_Stadium',\n",
       "       'venue_Sawai_Mansingh_Stadium',\n",
       "       'venue_Shaheed_Veer_Narayan_Singh_International_Stadium',\n",
       "       'venue_Sharjah_Cricket_Stadium', 'venue_Sheikh_Zayed_Stadium',\n",
       "       'venue_St_George's_Park', 'venue_SuperSport_Park',\n",
       "       'venue_Vidarbha_Cricket_Association_Stadium', 'venue_Wankhede_Stadium',\n",
       "       'toss_decision_bat', 'toss_decision_field',\n",
       "       'batting_team_Chennai_Super_Kings', 'batting_team_Deccan_Chargers',\n",
       "       'batting_team_Delhi_Capitals', 'batting_team_Gujarat_Lions',\n",
       "       'batting_team_Kochi_Tuskers_Kerala',\n",
       "       'batting_team_Kolkata_Knight_Riders', 'batting_team_Mumbai_Indians',\n",
       "       'batting_team_Pune_Warriors', 'batting_team_Punjab_Kings',\n",
       "       'batting_team_Rajasthan_Royals', 'batting_team_Rising_Pune_Supergiant',\n",
       "       'batting_team_Royal_Challengers_Bangalore',\n",
       "       'batting_team_Sunrisers_Hyderabad', 'bowling_team_Chennai_Super_Kings',\n",
       "       'bowling_team_Deccan_Chargers', 'bowling_team_Delhi_Capitals',\n",
       "       'bowling_team_Gujarat_Lions', 'bowling_team_Kochi_Tuskers_Kerala',\n",
       "       'bowling_team_Kolkata_Knight_Riders', 'bowling_team_Mumbai_Indians',\n",
       "       'bowling_team_Pune_Warriors', 'bowling_team_Punjab_Kings',\n",
       "       'bowling_team_Rajasthan_Royals', 'bowling_team_Rising_Pune_Supergiant',\n",
       "       'bowling_team_Royal_Challengers_Bangalore',\n",
       "       'bowling_team_Sunrisers_Hyderabad'],\n",
       "      dtype='object')"
      ]
     },
     "execution_count": 23,
     "metadata": {},
     "output_type": "execute_result"
    }
   ],
   "source": [
    "df.columns"
   ]
  },
  {
   "cell_type": "code",
   "execution_count": 24,
   "id": "85761557",
   "metadata": {
    "ExecuteTime": {
     "end_time": "2022-03-28T11:12:10.453641Z",
     "start_time": "2022-03-28T11:12:10.422249Z"
    }
   },
   "outputs": [],
   "source": [
    "df = df[['year', 'batting_team_Chennai_Super_Kings', 'batting_team_Deccan_Chargers', 'batting_team_Delhi_Capitals', 'batting_team_Gujarat_Lions', \n",
    "         'batting_team_Kochi_Tuskers_Kerala', 'batting_team_Kolkata_Knight_Riders', 'batting_team_Mumbai_Indians', 'batting_team_Pune_Warriors', \n",
    "         'batting_team_Punjab_Kings', 'batting_team_Rajasthan_Royals', 'batting_team_Rising_Pune_Supergiant', \n",
    "         'batting_team_Royal_Challengers_Bangalore', 'batting_team_Sunrisers_Hyderabad', 'bowling_team_Chennai_Super_Kings', \n",
    "         'bowling_team_Deccan_Chargers', 'bowling_team_Delhi_Capitals', 'bowling_team_Gujarat_Lions', 'bowling_team_Kochi_Tuskers_Kerala', \n",
    "         'bowling_team_Kolkata_Knight_Riders', 'bowling_team_Mumbai_Indians', 'bowling_team_Pune_Warriors', 'bowling_team_Punjab_Kings', \n",
    "         'bowling_team_Rajasthan_Royals', 'bowling_team_Rising_Pune_Supergiant', 'bowling_team_Royal_Challengers_Bangalore', \n",
    "         'bowling_team_Sunrisers_Hyderabad', 'toss_decision_bat', 'toss_decision_field', 'venue_Arun_Jaitley_Stadium', \n",
    "         'venue_Barabati_Stadium', 'venue_Brabourne_Stadium', 'venue_Buffalo_Park', 'venue_De_Beers_Diamond_Oval', \n",
    "         'venue_Dr_DY_Patil_Sports_Academy', 'venue_Dr_YS_Rajasekhara_Reddy_ACA_VDCA_Cricket_Stadium', \n",
    "         'venue_Dubai_International_Cricket_Stadium', 'venue_Eden_Gardens', 'venue_Green_Park', \n",
    "         'venue_Himachal_Pradesh_Cricket_Association_Stadium', 'venue_Holkar_Cricket_Stadium', \n",
    "         'venue_JSCA_International_Stadium_Complex', 'venue_Kingsmead', 'venue_M_Chinnaswamy_Stadium', 'venue_MA_Chidambaram_Stadium', \n",
    "         'venue_Maharashtra_Cricket_Association_Stadium', 'venue_Narendra_Modi_Stadium', 'venue_Nehru_Stadium', 'venue_New_Wanderers_Stadium', \n",
    "         'venue_Newlands', 'venue_OUTsurance_Oval', 'venue_Punjab_Cricket_Association_IS_Bindra_Stadium', \n",
    "         'venue_Rajiv_Gandhi_International_Stadium', 'venue_Saurashtra_Cricket_Association_Stadium', 'venue_Sawai_Mansingh_Stadium', \n",
    "         'venue_Shaheed_Veer_Narayan_Singh_International_Stadium', 'venue_Sharjah_Cricket_Stadium', 'venue_Sheikh_Zayed_Stadium', \n",
    "         'venue_St_George\\'s_Park', 'venue_SuperSport_Park', 'venue_Vidarbha_Cricket_Association_Stadium', 'venue_Wankhede_Stadium', 'overs', \n",
    "         'ball_no', 'runs', 'wickets', 'runs_last_5_overs', 'wickets_last_5_overs', 'playoff', 'knockout', 'final', 'final_score']]"
   ]
  },
  {
   "cell_type": "code",
   "execution_count": 25,
   "id": "1a2ee7a9",
   "metadata": {
    "ExecuteTime": {
     "end_time": "2022-03-28T11:12:11.690454Z",
     "start_time": "2022-03-28T11:12:11.671460Z"
    }
   },
   "outputs": [
    {
     "data": {
      "text/plain": [
       "(72949, 72)"
      ]
     },
     "execution_count": 25,
     "metadata": {},
     "output_type": "execute_result"
    }
   ],
   "source": [
    "df.shape"
   ]
  },
  {
   "cell_type": "code",
   "execution_count": 26,
   "id": "54c3b5f8",
   "metadata": {
    "ExecuteTime": {
     "end_time": "2022-03-28T11:12:12.174176Z",
     "start_time": "2022-03-28T11:12:12.143970Z"
    }
   },
   "outputs": [],
   "source": [
    "train = df[df['year'] <= 2019]\n",
    "test = df[df['year'] >= 2020]"
   ]
  },
  {
   "cell_type": "code",
   "execution_count": 27,
   "id": "69ecea9a",
   "metadata": {
    "ExecuteTime": {
     "end_time": "2022-03-28T11:12:12.686873Z",
     "start_time": "2022-03-28T11:12:12.676861Z"
    }
   },
   "outputs": [
    {
     "data": {
      "text/plain": [
       "(array([2008, 2009, 2010, 2011, 2012, 2013, 2014, 2015, 2016, 2017, 2018,\n",
       "        2019], dtype=int64),\n",
       " array([2020, 2021], dtype=int64))"
      ]
     },
     "execution_count": 27,
     "metadata": {},
     "output_type": "execute_result"
    }
   ],
   "source": [
    "train.year.unique(), test.year.unique()"
   ]
  },
  {
   "cell_type": "code",
   "execution_count": 28,
   "id": "817db1b4",
   "metadata": {
    "ExecuteTime": {
     "end_time": "2022-03-28T11:12:12.955329Z",
     "start_time": "2022-03-28T11:12:12.925522Z"
    }
   },
   "outputs": [],
   "source": [
    "X_train = pd.DataFrame(train.drop(['year', 'final_score'], axis = 1), columns = train.drop(['year', 'final_score'], axis = 1).columns)\n",
    "X_test = pd.DataFrame(test.drop(['year', 'final_score'], axis = 1), columns = test.drop(['year', 'final_score'], axis = 1).columns)\n",
    "y_train = train['final_score']\n",
    "y_test = test['final_score']"
   ]
  },
  {
   "cell_type": "code",
   "execution_count": 29,
   "id": "ab6bd240",
   "metadata": {
    "ExecuteTime": {
     "end_time": "2022-03-28T11:12:13.143157Z",
     "start_time": "2022-03-28T11:12:13.134161Z"
    }
   },
   "outputs": [
    {
     "data": {
      "text/plain": [
       "((62694, 70), (10255, 70), (62694,), (10255,))"
      ]
     },
     "execution_count": 29,
     "metadata": {},
     "output_type": "execute_result"
    }
   ],
   "source": [
    "X_train.shape, X_test.shape, y_train.shape, y_test.shape"
   ]
  },
  {
   "cell_type": "code",
   "execution_count": 30,
   "id": "4b0480f5",
   "metadata": {
    "ExecuteTime": {
     "end_time": "2022-03-28T11:12:13.765494Z",
     "start_time": "2022-03-28T11:12:13.755483Z"
    }
   },
   "outputs": [
    {
     "ename": "NameError",
     "evalue": "name 'LinearRegression' is not defined",
     "output_type": "error",
     "traceback": [
      "\u001b[1;31m---------------------------------------------------------------------------\u001b[0m",
      "\u001b[1;31mNameError\u001b[0m                                 Traceback (most recent call last)",
      "\u001b[1;32m~\\AppData\\Local\\Temp/ipykernel_15324/3893913333.py\u001b[0m in \u001b[0;36m<module>\u001b[1;34m\u001b[0m\n\u001b[1;32m----> 1\u001b[1;33m \u001b[0mlr\u001b[0m \u001b[1;33m=\u001b[0m \u001b[0mLinearRegression\u001b[0m\u001b[1;33m(\u001b[0m\u001b[1;33m)\u001b[0m\u001b[1;33m\u001b[0m\u001b[1;33m\u001b[0m\u001b[0m\n\u001b[0m\u001b[0;32m      2\u001b[0m \u001b[0mlr\u001b[0m\u001b[1;33m.\u001b[0m\u001b[0mfit\u001b[0m\u001b[1;33m(\u001b[0m\u001b[0mX_train\u001b[0m\u001b[1;33m,\u001b[0m \u001b[0my_train\u001b[0m\u001b[1;33m)\u001b[0m\u001b[1;33m\u001b[0m\u001b[1;33m\u001b[0m\u001b[0m\n",
      "\u001b[1;31mNameError\u001b[0m: name 'LinearRegression' is not defined"
     ]
    }
   ],
   "source": [
    "lr = LinearRegression()\n",
    "lr.fit(X_train, y_train)"
   ]
  },
  {
   "cell_type": "code",
   "execution_count": 19,
   "id": "ef0ed95f",
   "metadata": {
    "ExecuteTime": {
     "end_time": "2022-03-28T11:07:14.609332Z",
     "start_time": "2022-03-28T11:07:14.176720Z"
    }
   },
   "outputs": [
    {
     "name": "stdout",
     "output_type": "stream",
     "text": [
      "Linear Regression:\n",
      "----------------------------------------------------------------------------------------------------\n",
      "Train accuracy_score:  0.08010335917312661\n",
      "Test accuracy_score:  0.00955631399317406\n",
      "----------------------------------------------------------------------------------------------------\n"
     ]
    },
    {
     "ename": "ValueError",
     "evalue": "Target is multiclass but average='binary'. Please choose another average setting, one of [None, 'micro', 'macro', 'weighted'].",
     "output_type": "error",
     "traceback": [
      "\u001b[1;31m---------------------------------------------------------------------------\u001b[0m",
      "\u001b[1;31mValueError\u001b[0m                                Traceback (most recent call last)",
      "\u001b[1;32m~\\AppData\\Local\\Temp/ipykernel_23084/286832500.py\u001b[0m in \u001b[0;36m<module>\u001b[1;34m\u001b[0m\n\u001b[0;32m     20\u001b[0m \u001b[0mprint\u001b[0m\u001b[1;33m(\u001b[0m\u001b[1;34m'Test accuracy_score: '\u001b[0m\u001b[1;33m,\u001b[0m \u001b[0maccuracy_score\u001b[0m\u001b[1;33m(\u001b[0m\u001b[0my_test\u001b[0m\u001b[1;33m,\u001b[0m \u001b[0my_test_pred_lr\u001b[0m\u001b[1;33m)\u001b[0m\u001b[1;33m)\u001b[0m\u001b[1;33m\u001b[0m\u001b[1;33m\u001b[0m\u001b[0m\n\u001b[0;32m     21\u001b[0m \u001b[0mprint\u001b[0m\u001b[1;33m(\u001b[0m\u001b[1;34m'-'\u001b[0m \u001b[1;33m*\u001b[0m \u001b[1;36m100\u001b[0m\u001b[1;33m)\u001b[0m\u001b[1;33m\u001b[0m\u001b[1;33m\u001b[0m\u001b[0m\n\u001b[1;32m---> 22\u001b[1;33m \u001b[0mprint\u001b[0m\u001b[1;33m(\u001b[0m\u001b[1;34m'Train f1_score: '\u001b[0m\u001b[1;33m,\u001b[0m \u001b[0mf1_score\u001b[0m\u001b[1;33m(\u001b[0m\u001b[0my_train\u001b[0m\u001b[1;33m,\u001b[0m \u001b[0my_train_pred_lr\u001b[0m\u001b[1;33m)\u001b[0m\u001b[1;33m)\u001b[0m\u001b[1;33m\u001b[0m\u001b[1;33m\u001b[0m\u001b[0m\n\u001b[0m\u001b[0;32m     23\u001b[0m \u001b[0mprint\u001b[0m\u001b[1;33m(\u001b[0m\u001b[1;34m'Test f1_score: '\u001b[0m\u001b[1;33m,\u001b[0m \u001b[0mf1_score\u001b[0m\u001b[1;33m(\u001b[0m\u001b[0my_test\u001b[0m\u001b[1;33m,\u001b[0m \u001b[0my_test_pred_lr\u001b[0m\u001b[1;33m)\u001b[0m\u001b[1;33m)\u001b[0m\u001b[1;33m\u001b[0m\u001b[1;33m\u001b[0m\u001b[0m\n\u001b[0;32m     24\u001b[0m \u001b[0mprint\u001b[0m\u001b[1;33m(\u001b[0m\u001b[1;34m'-'\u001b[0m \u001b[1;33m*\u001b[0m \u001b[1;36m100\u001b[0m\u001b[1;33m)\u001b[0m\u001b[1;33m\u001b[0m\u001b[1;33m\u001b[0m\u001b[0m\n",
      "\u001b[1;32m~\\anaconda3\\lib\\site-packages\\sklearn\\utils\\validation.py\u001b[0m in \u001b[0;36minner_f\u001b[1;34m(*args, **kwargs)\u001b[0m\n\u001b[0;32m     61\u001b[0m             \u001b[0mextra_args\u001b[0m \u001b[1;33m=\u001b[0m \u001b[0mlen\u001b[0m\u001b[1;33m(\u001b[0m\u001b[0margs\u001b[0m\u001b[1;33m)\u001b[0m \u001b[1;33m-\u001b[0m \u001b[0mlen\u001b[0m\u001b[1;33m(\u001b[0m\u001b[0mall_args\u001b[0m\u001b[1;33m)\u001b[0m\u001b[1;33m\u001b[0m\u001b[1;33m\u001b[0m\u001b[0m\n\u001b[0;32m     62\u001b[0m             \u001b[1;32mif\u001b[0m \u001b[0mextra_args\u001b[0m \u001b[1;33m<=\u001b[0m \u001b[1;36m0\u001b[0m\u001b[1;33m:\u001b[0m\u001b[1;33m\u001b[0m\u001b[1;33m\u001b[0m\u001b[0m\n\u001b[1;32m---> 63\u001b[1;33m                 \u001b[1;32mreturn\u001b[0m \u001b[0mf\u001b[0m\u001b[1;33m(\u001b[0m\u001b[1;33m*\u001b[0m\u001b[0margs\u001b[0m\u001b[1;33m,\u001b[0m \u001b[1;33m**\u001b[0m\u001b[0mkwargs\u001b[0m\u001b[1;33m)\u001b[0m\u001b[1;33m\u001b[0m\u001b[1;33m\u001b[0m\u001b[0m\n\u001b[0m\u001b[0;32m     64\u001b[0m \u001b[1;33m\u001b[0m\u001b[0m\n\u001b[0;32m     65\u001b[0m             \u001b[1;31m# extra_args > 0\u001b[0m\u001b[1;33m\u001b[0m\u001b[1;33m\u001b[0m\u001b[0m\n",
      "\u001b[1;32m~\\anaconda3\\lib\\site-packages\\sklearn\\metrics\\_classification.py\u001b[0m in \u001b[0;36mf1_score\u001b[1;34m(y_true, y_pred, labels, pos_label, average, sample_weight, zero_division)\u001b[0m\n\u001b[0;32m   1069\u001b[0m     \u001b[0mmodified\u001b[0m \u001b[1;32mwith\u001b[0m\u001b[0;31m \u001b[0m\u001b[0;31m`\u001b[0m\u001b[0;31m`\u001b[0m\u001b[0mzero_division\u001b[0m\u001b[0;31m`\u001b[0m\u001b[0;31m`\u001b[0m\u001b[1;33m.\u001b[0m\u001b[1;33m\u001b[0m\u001b[1;33m\u001b[0m\u001b[0m\n\u001b[0;32m   1070\u001b[0m     \"\"\"\n\u001b[1;32m-> 1071\u001b[1;33m     return fbeta_score(y_true, y_pred, beta=1, labels=labels,\n\u001b[0m\u001b[0;32m   1072\u001b[0m                        \u001b[0mpos_label\u001b[0m\u001b[1;33m=\u001b[0m\u001b[0mpos_label\u001b[0m\u001b[1;33m,\u001b[0m \u001b[0maverage\u001b[0m\u001b[1;33m=\u001b[0m\u001b[0maverage\u001b[0m\u001b[1;33m,\u001b[0m\u001b[1;33m\u001b[0m\u001b[1;33m\u001b[0m\u001b[0m\n\u001b[0;32m   1073\u001b[0m                        \u001b[0msample_weight\u001b[0m\u001b[1;33m=\u001b[0m\u001b[0msample_weight\u001b[0m\u001b[1;33m,\u001b[0m\u001b[1;33m\u001b[0m\u001b[1;33m\u001b[0m\u001b[0m\n",
      "\u001b[1;32m~\\anaconda3\\lib\\site-packages\\sklearn\\utils\\validation.py\u001b[0m in \u001b[0;36minner_f\u001b[1;34m(*args, **kwargs)\u001b[0m\n\u001b[0;32m     61\u001b[0m             \u001b[0mextra_args\u001b[0m \u001b[1;33m=\u001b[0m \u001b[0mlen\u001b[0m\u001b[1;33m(\u001b[0m\u001b[0margs\u001b[0m\u001b[1;33m)\u001b[0m \u001b[1;33m-\u001b[0m \u001b[0mlen\u001b[0m\u001b[1;33m(\u001b[0m\u001b[0mall_args\u001b[0m\u001b[1;33m)\u001b[0m\u001b[1;33m\u001b[0m\u001b[1;33m\u001b[0m\u001b[0m\n\u001b[0;32m     62\u001b[0m             \u001b[1;32mif\u001b[0m \u001b[0mextra_args\u001b[0m \u001b[1;33m<=\u001b[0m \u001b[1;36m0\u001b[0m\u001b[1;33m:\u001b[0m\u001b[1;33m\u001b[0m\u001b[1;33m\u001b[0m\u001b[0m\n\u001b[1;32m---> 63\u001b[1;33m                 \u001b[1;32mreturn\u001b[0m \u001b[0mf\u001b[0m\u001b[1;33m(\u001b[0m\u001b[1;33m*\u001b[0m\u001b[0margs\u001b[0m\u001b[1;33m,\u001b[0m \u001b[1;33m**\u001b[0m\u001b[0mkwargs\u001b[0m\u001b[1;33m)\u001b[0m\u001b[1;33m\u001b[0m\u001b[1;33m\u001b[0m\u001b[0m\n\u001b[0m\u001b[0;32m     64\u001b[0m \u001b[1;33m\u001b[0m\u001b[0m\n\u001b[0;32m     65\u001b[0m             \u001b[1;31m# extra_args > 0\u001b[0m\u001b[1;33m\u001b[0m\u001b[1;33m\u001b[0m\u001b[0m\n",
      "\u001b[1;32m~\\anaconda3\\lib\\site-packages\\sklearn\\metrics\\_classification.py\u001b[0m in \u001b[0;36mfbeta_score\u001b[1;34m(y_true, y_pred, beta, labels, pos_label, average, sample_weight, zero_division)\u001b[0m\n\u001b[0;32m   1193\u001b[0m     \"\"\"\n\u001b[0;32m   1194\u001b[0m \u001b[1;33m\u001b[0m\u001b[0m\n\u001b[1;32m-> 1195\u001b[1;33m     _, _, f, _ = precision_recall_fscore_support(y_true, y_pred,\n\u001b[0m\u001b[0;32m   1196\u001b[0m                                                  \u001b[0mbeta\u001b[0m\u001b[1;33m=\u001b[0m\u001b[0mbeta\u001b[0m\u001b[1;33m,\u001b[0m\u001b[1;33m\u001b[0m\u001b[1;33m\u001b[0m\u001b[0m\n\u001b[0;32m   1197\u001b[0m                                                  \u001b[0mlabels\u001b[0m\u001b[1;33m=\u001b[0m\u001b[0mlabels\u001b[0m\u001b[1;33m,\u001b[0m\u001b[1;33m\u001b[0m\u001b[1;33m\u001b[0m\u001b[0m\n",
      "\u001b[1;32m~\\anaconda3\\lib\\site-packages\\sklearn\\utils\\validation.py\u001b[0m in \u001b[0;36minner_f\u001b[1;34m(*args, **kwargs)\u001b[0m\n\u001b[0;32m     61\u001b[0m             \u001b[0mextra_args\u001b[0m \u001b[1;33m=\u001b[0m \u001b[0mlen\u001b[0m\u001b[1;33m(\u001b[0m\u001b[0margs\u001b[0m\u001b[1;33m)\u001b[0m \u001b[1;33m-\u001b[0m \u001b[0mlen\u001b[0m\u001b[1;33m(\u001b[0m\u001b[0mall_args\u001b[0m\u001b[1;33m)\u001b[0m\u001b[1;33m\u001b[0m\u001b[1;33m\u001b[0m\u001b[0m\n\u001b[0;32m     62\u001b[0m             \u001b[1;32mif\u001b[0m \u001b[0mextra_args\u001b[0m \u001b[1;33m<=\u001b[0m \u001b[1;36m0\u001b[0m\u001b[1;33m:\u001b[0m\u001b[1;33m\u001b[0m\u001b[1;33m\u001b[0m\u001b[0m\n\u001b[1;32m---> 63\u001b[1;33m                 \u001b[1;32mreturn\u001b[0m \u001b[0mf\u001b[0m\u001b[1;33m(\u001b[0m\u001b[1;33m*\u001b[0m\u001b[0margs\u001b[0m\u001b[1;33m,\u001b[0m \u001b[1;33m**\u001b[0m\u001b[0mkwargs\u001b[0m\u001b[1;33m)\u001b[0m\u001b[1;33m\u001b[0m\u001b[1;33m\u001b[0m\u001b[0m\n\u001b[0m\u001b[0;32m     64\u001b[0m \u001b[1;33m\u001b[0m\u001b[0m\n\u001b[0;32m     65\u001b[0m             \u001b[1;31m# extra_args > 0\u001b[0m\u001b[1;33m\u001b[0m\u001b[1;33m\u001b[0m\u001b[0m\n",
      "\u001b[1;32m~\\anaconda3\\lib\\site-packages\\sklearn\\metrics\\_classification.py\u001b[0m in \u001b[0;36mprecision_recall_fscore_support\u001b[1;34m(y_true, y_pred, beta, labels, pos_label, average, warn_for, sample_weight, zero_division)\u001b[0m\n\u001b[0;32m   1462\u001b[0m     \u001b[1;32mif\u001b[0m \u001b[0mbeta\u001b[0m \u001b[1;33m<\u001b[0m \u001b[1;36m0\u001b[0m\u001b[1;33m:\u001b[0m\u001b[1;33m\u001b[0m\u001b[1;33m\u001b[0m\u001b[0m\n\u001b[0;32m   1463\u001b[0m         \u001b[1;32mraise\u001b[0m \u001b[0mValueError\u001b[0m\u001b[1;33m(\u001b[0m\u001b[1;34m\"beta should be >=0 in the F-beta score\"\u001b[0m\u001b[1;33m)\u001b[0m\u001b[1;33m\u001b[0m\u001b[1;33m\u001b[0m\u001b[0m\n\u001b[1;32m-> 1464\u001b[1;33m     labels = _check_set_wise_labels(y_true, y_pred, average, labels,\n\u001b[0m\u001b[0;32m   1465\u001b[0m                                     pos_label)\n\u001b[0;32m   1466\u001b[0m \u001b[1;33m\u001b[0m\u001b[0m\n",
      "\u001b[1;32m~\\anaconda3\\lib\\site-packages\\sklearn\\metrics\\_classification.py\u001b[0m in \u001b[0;36m_check_set_wise_labels\u001b[1;34m(y_true, y_pred, average, labels, pos_label)\u001b[0m\n\u001b[0;32m   1292\u001b[0m             \u001b[1;32mif\u001b[0m \u001b[0my_type\u001b[0m \u001b[1;33m==\u001b[0m \u001b[1;34m'multiclass'\u001b[0m\u001b[1;33m:\u001b[0m\u001b[1;33m\u001b[0m\u001b[1;33m\u001b[0m\u001b[0m\n\u001b[0;32m   1293\u001b[0m                 \u001b[0maverage_options\u001b[0m\u001b[1;33m.\u001b[0m\u001b[0mremove\u001b[0m\u001b[1;33m(\u001b[0m\u001b[1;34m'samples'\u001b[0m\u001b[1;33m)\u001b[0m\u001b[1;33m\u001b[0m\u001b[1;33m\u001b[0m\u001b[0m\n\u001b[1;32m-> 1294\u001b[1;33m             raise ValueError(\"Target is %s but average='binary'. Please \"\n\u001b[0m\u001b[0;32m   1295\u001b[0m                              \u001b[1;34m\"choose another average setting, one of %r.\"\u001b[0m\u001b[1;33m\u001b[0m\u001b[1;33m\u001b[0m\u001b[0m\n\u001b[0;32m   1296\u001b[0m                              % (y_type, average_options))\n",
      "\u001b[1;31mValueError\u001b[0m: Target is multiclass but average='binary'. Please choose another average setting, one of [None, 'micro', 'macro', 'weighted']."
     ]
    }
   ],
   "source": [
    "y_train_pred_lr = lr.predict(X_train)\n",
    "y_test_pred_lr = lr.predict(X_test)\n",
    "print('Linear Regression:')\n",
    "print('-' * 100)\n",
    "print('Train r2_score: ', r2_score(y_train, y_train_pred_lr))\n",
    "print('Test r2_score: ', r2_score(y_test, y_test_pred_lr))\n",
    "print('-' * 100)\n",
    "print('Train RMSE: ', np.sqrt(mean_squared_error(y_train, y_train_pred_lr)))\n",
    "print('Test RMSE: ', np.sqrt(mean_squared_error(y_test, y_test_pred_lr)))\n",
    "print('-' * 100)\n",
    "print('Train MAE: ', mean_absolute_error(y_train, y_train_pred_lr))\n",
    "print('Test MAE: ', mean_absolute_error(y_test, y_test_pred_lr))\n",
    "data_lr = test\n",
    "data_lr['predicted_score'] = y_test_pred_lr\n",
    "sns.distplot(data_lr['final_score'] - data_lr['predicted_score'])\n",
    "sns.distplot(abs(data_lr['final_score'] - data_lr['predicted_score']))"
   ]
  },
  {
   "cell_type": "code",
   "execution_count": 20,
   "id": "4ce465a9",
   "metadata": {
    "ExecuteTime": {
     "end_time": "2022-03-26T16:37:11.634717Z",
     "start_time": "2022-03-26T16:35:54.694037Z"
    },
    "scrolled": true
   },
   "outputs": [
    {
     "name": "stdout",
     "output_type": "stream",
     "text": [
      "Fitting 10 folds for each of 10 candidates, totalling 100 fits\n",
      "[CV] END ........................................alpha=0.627; total time=   0.7s\n",
      "[CV] END ........................................alpha=0.627; total time=   0.6s\n",
      "[CV] END ........................................alpha=0.627; total time=   0.7s\n",
      "[CV] END ........................................alpha=0.627; total time=   0.5s\n",
      "[CV] END ........................................alpha=0.627; total time=   0.5s\n",
      "[CV] END ........................................alpha=0.627; total time=   0.5s\n",
      "[CV] END ........................................alpha=0.627; total time=   0.5s\n",
      "[CV] END ........................................alpha=0.627; total time=   0.5s\n",
      "[CV] END ........................................alpha=0.627; total time=   0.5s\n",
      "[CV] END ........................................alpha=0.627; total time=   0.4s\n",
      "[CV] END .........................................alpha=0.23; total time=   0.9s\n",
      "[CV] END .........................................alpha=0.23; total time=   0.8s\n",
      "[CV] END .........................................alpha=0.23; total time=   0.8s\n",
      "[CV] END .........................................alpha=0.23; total time=   0.8s\n",
      "[CV] END .........................................alpha=0.23; total time=   0.8s\n",
      "[CV] END .........................................alpha=0.23; total time=   0.8s\n",
      "[CV] END .........................................alpha=0.23; total time=   0.8s\n",
      "[CV] END .........................................alpha=0.23; total time=   0.8s\n",
      "[CV] END .........................................alpha=0.23; total time=   0.9s\n",
      "[CV] END .........................................alpha=0.23; total time=   0.8s\n",
      "[CV] END ........................................alpha=0.928; total time=   0.4s\n",
      "[CV] END ........................................alpha=0.928; total time=   0.3s\n",
      "[CV] END ........................................alpha=0.928; total time=   0.4s\n",
      "[CV] END ........................................alpha=0.928; total time=   0.3s\n",
      "[CV] END ........................................alpha=0.928; total time=   0.4s\n",
      "[CV] END ........................................alpha=0.928; total time=   0.3s\n",
      "[CV] END ........................................alpha=0.928; total time=   0.4s\n",
      "[CV] END ........................................alpha=0.928; total time=   0.4s\n",
      "[CV] END ........................................alpha=0.928; total time=   0.4s\n",
      "[CV] END ........................................alpha=0.928; total time=   0.4s\n",
      "[CV] END ..........................................alpha=1.0; total time=   0.3s\n",
      "[CV] END ..........................................alpha=1.0; total time=   0.3s\n",
      "[CV] END ..........................................alpha=1.0; total time=   0.3s\n",
      "[CV] END ..........................................alpha=1.0; total time=   0.4s\n",
      "[CV] END ..........................................alpha=1.0; total time=   0.3s\n",
      "[CV] END ..........................................alpha=1.0; total time=   0.3s\n",
      "[CV] END ..........................................alpha=1.0; total time=   0.3s\n",
      "[CV] END ..........................................alpha=1.0; total time=   0.3s\n",
      "[CV] END ..........................................alpha=1.0; total time=   0.3s\n",
      "[CV] END ..........................................alpha=1.0; total time=   0.3s\n",
      "[CV] END ........................................alpha=0.439; total time=   0.6s\n",
      "[CV] END ........................................alpha=0.439; total time=   0.6s\n",
      "[CV] END ........................................alpha=0.439; total time=   0.6s\n",
      "[CV] END ........................................alpha=0.439; total time=   0.6s\n",
      "[CV] END ........................................alpha=0.439; total time=   0.6s\n",
      "[CV] END ........................................alpha=0.439; total time=   0.6s\n",
      "[CV] END ........................................alpha=0.439; total time=   0.6s\n",
      "[CV] END ........................................alpha=0.439; total time=   0.6s\n",
      "[CV] END ........................................alpha=0.439; total time=   0.6s\n",
      "[CV] END ........................................alpha=0.439; total time=   0.6s\n",
      "[CV] END ........................................alpha=0.315; total time=   0.7s\n",
      "[CV] END ........................................alpha=0.315; total time=   0.7s\n",
      "[CV] END ........................................alpha=0.315; total time=   0.7s\n",
      "[CV] END ........................................alpha=0.315; total time=   0.7s\n",
      "[CV] END ........................................alpha=0.315; total time=   0.7s\n",
      "[CV] END ........................................alpha=0.315; total time=   0.7s\n",
      "[CV] END ........................................alpha=0.315; total time=   0.8s\n",
      "[CV] END ........................................alpha=0.315; total time=   0.8s\n",
      "[CV] END ........................................alpha=0.315; total time=   0.7s\n",
      "[CV] END ........................................alpha=0.315; total time=   0.8s\n",
      "[CV] END ........................................alpha=0.739; total time=   0.4s\n",
      "[CV] END ........................................alpha=0.739; total time=   0.4s\n",
      "[CV] END ........................................alpha=0.739; total time=   0.4s\n",
      "[CV] END ........................................alpha=0.739; total time=   0.5s\n",
      "[CV] END ........................................alpha=0.739; total time=   0.4s\n",
      "[CV] END ........................................alpha=0.739; total time=   0.5s\n",
      "[CV] END ........................................alpha=0.739; total time=   0.4s\n",
      "[CV] END ........................................alpha=0.739; total time=   0.5s\n",
      "[CV] END ........................................alpha=0.739; total time=   0.4s\n",
      "[CV] END ........................................alpha=0.739; total time=   0.4s\n",
      "[CV] END ........................................alpha=0.511; total time=   0.5s\n",
      "[CV] END ........................................alpha=0.511; total time=   0.5s\n",
      "[CV] END ........................................alpha=0.511; total time=   0.5s\n",
      "[CV] END ........................................alpha=0.511; total time=   0.5s\n",
      "[CV] END ........................................alpha=0.511; total time=   0.6s\n",
      "[CV] END ........................................alpha=0.511; total time=   0.6s\n",
      "[CV] END ........................................alpha=0.511; total time=   0.5s\n",
      "[CV] END ........................................alpha=0.511; total time=   0.5s\n",
      "[CV] END ........................................alpha=0.511; total time=   0.5s\n",
      "[CV] END ........................................alpha=0.511; total time=   0.5s\n",
      "[CV] END ........................................alpha=0.062; total time=   1.8s\n",
      "[CV] END ........................................alpha=0.062; total time=   1.7s\n",
      "[CV] END ........................................alpha=0.062; total time=   1.8s\n",
      "[CV] END ........................................alpha=0.062; total time=   1.8s\n",
      "[CV] END ........................................alpha=0.062; total time=   1.8s\n",
      "[CV] END ........................................alpha=0.062; total time=   1.8s\n",
      "[CV] END ........................................alpha=0.062; total time=   1.8s\n",
      "[CV] END ........................................alpha=0.062; total time=   1.7s\n",
      "[CV] END ........................................alpha=0.062; total time=   1.8s\n",
      "[CV] END ........................................alpha=0.062; total time=   1.8s\n",
      "[CV] END .........................................alpha=0.74; total time=   0.5s\n",
      "[CV] END .........................................alpha=0.74; total time=   0.4s\n",
      "[CV] END .........................................alpha=0.74; total time=   0.4s\n",
      "[CV] END .........................................alpha=0.74; total time=   0.5s\n",
      "[CV] END .........................................alpha=0.74; total time=   0.4s\n",
      "[CV] END .........................................alpha=0.74; total time=   0.4s\n",
      "[CV] END .........................................alpha=0.74; total time=   0.5s\n",
      "[CV] END .........................................alpha=0.74; total time=   0.4s\n",
      "[CV] END .........................................alpha=0.74; total time=   0.4s\n",
      "[CV] END .........................................alpha=0.74; total time=   0.5s\n"
     ]
    },
    {
     "data": {
      "text/plain": [
       "{'alpha': 0.23}"
      ]
     },
     "execution_count": 20,
     "metadata": {},
     "output_type": "execute_result"
    }
   ],
   "source": [
    "la = Lasso()\n",
    "possible_parameter_values = {'alpha' : [float(x)/1000 for x in np.arange(start = 1, stop = 1001, step = 1)]}\n",
    "la_rscv = RandomizedSearchCV(estimator = la, param_distributions = possible_parameter_values, cv = 10, scoring = 'neg_mean_absolute_error', \n",
    "                             verbose = 2, n_jobs = 1)\n",
    "la_rscv.fit(X_train, y_train)\n",
    "la_rscv.best_params_"
   ]
  },
  {
   "cell_type": "code",
   "execution_count": 21,
   "id": "5c3e3cc4",
   "metadata": {
    "ExecuteTime": {
     "end_time": "2022-03-26T16:37:48.544735Z",
     "start_time": "2022-03-26T16:37:47.761504Z"
    }
   },
   "outputs": [
    {
     "name": "stdout",
     "output_type": "stream",
     "text": [
      "Lasso Regression:\n",
      "----------------------------------------------------------------------------------------------------\n",
      "Train r2_score:  0.6296678694868545\n",
      "Test r2_score:  0.6584517225266941\n",
      "----------------------------------------------------------------------------------------------------\n",
      "Train RMSE:  17.932675025705766\n",
      "Test RMSE:  17.702902891584586\n",
      "----------------------------------------------------------------------------------------------------\n",
      "Train MAE:  13.236678031847266\n",
      "Test MAE:  13.88891464802978\n"
     ]
    },
    {
     "data": {
      "text/plain": [
       "<AxesSubplot:ylabel='Density'>"
      ]
     },
     "execution_count": 21,
     "metadata": {},
     "output_type": "execute_result"
    },
    {
     "data": {
      "image/png": "[encoded data removed]",
      "text/plain": [
       "<Figure size 432x288 with 1 Axes>"
      ]
     },
     "metadata": {
      "needs_background": "light"
     },
     "output_type": "display_data"
    }
   ],
   "source": [
    "y_train_pred_la = la_rscv.predict(X_train)\n",
    "y_test_pred_la = la_rscv.predict(X_test)\n",
    "print('Lasso Regression:')\n",
    "print('-' * 100)\n",
    "print('Train r2_score: ', r2_score(y_train, y_train_pred_la))\n",
    "print('Test r2_score: ', r2_score(y_test, y_test_pred_la))\n",
    "print('-' * 100)\n",
    "print('Train RMSE: ', np.sqrt(mean_squared_error(y_train, y_train_pred_la)))\n",
    "print('Test RMSE: ', np.sqrt(mean_squared_error(y_test, y_test_pred_la)))\n",
    "print('-' * 100)\n",
    "print('Train MAE: ', mean_absolute_error(y_train, y_train_pred_la))\n",
    "print('Test MAE: ', mean_absolute_error(y_test, y_test_pred_la))\n",
    "data_la = test\n",
    "data_la['predicted_score'] = y_test_pred_la\n",
    "sns.distplot(data_la['final_score'] - data_la['predicted_score'])\n",
    "sns.distplot(abs(data_la['final_score'] - data_la['predicted_score']))"
   ]
  },
  {
   "cell_type": "code",
   "execution_count": 22,
   "id": "9dc8c116",
   "metadata": {
    "ExecuteTime": {
     "end_time": "2022-03-26T16:38:18.453548Z",
     "start_time": "2022-03-26T16:37:59.049470Z"
    },
    "scrolled": true
   },
   "outputs": [
    {
     "name": "stdout",
     "output_type": "stream",
     "text": [
      "Fitting 10 folds for each of 10 candidates, totalling 100 fits\n",
      "[CV] END ........................................alpha=0.312; total time=   0.2s\n",
      "[CV] END ........................................alpha=0.312; total time=   0.1s\n",
      "[CV] END ........................................alpha=0.312; total time=   0.2s\n",
      "[CV] END ........................................alpha=0.312; total time=   0.2s\n",
      "[CV] END ........................................alpha=0.312; total time=   0.2s\n",
      "[CV] END ........................................alpha=0.312; total time=   0.1s\n",
      "[CV] END ........................................alpha=0.312; total time=   0.2s\n",
      "[CV] END ........................................alpha=0.312; total time=   0.1s\n",
      "[CV] END ........................................alpha=0.312; total time=   0.1s\n",
      "[CV] END ........................................alpha=0.312; total time=   0.1s\n",
      "[CV] END ........................................alpha=0.614; total time=   0.1s\n",
      "[CV] END ........................................alpha=0.614; total time=   0.1s\n",
      "[CV] END ........................................alpha=0.614; total time=   0.1s\n",
      "[CV] END ........................................alpha=0.614; total time=   0.1s\n",
      "[CV] END ........................................alpha=0.614; total time=   0.1s\n",
      "[CV] END ........................................alpha=0.614; total time=   0.1s\n",
      "[CV] END ........................................alpha=0.614; total time=   0.1s\n",
      "[CV] END ........................................alpha=0.614; total time=   0.1s\n",
      "[CV] END ........................................alpha=0.614; total time=   0.1s\n",
      "[CV] END ........................................alpha=0.614; total time=   0.1s\n",
      "[CV] END .........................................alpha=0.39; total time=   0.1s\n",
      "[CV] END .........................................alpha=0.39; total time=   0.1s\n",
      "[CV] END .........................................alpha=0.39; total time=   0.1s\n",
      "[CV] END .........................................alpha=0.39; total time=   0.1s\n",
      "[CV] END .........................................alpha=0.39; total time=   0.1s\n",
      "[CV] END .........................................alpha=0.39; total time=   0.1s\n",
      "[CV] END .........................................alpha=0.39; total time=   0.1s\n",
      "[CV] END .........................................alpha=0.39; total time=   0.1s\n",
      "[CV] END .........................................alpha=0.39; total time=   0.1s\n",
      "[CV] END .........................................alpha=0.39; total time=   0.1s\n",
      "[CV] END ........................................alpha=0.569; total time=   0.1s\n",
      "[CV] END ........................................alpha=0.569; total time=   0.1s\n",
      "[CV] END ........................................alpha=0.569; total time=   0.1s\n",
      "[CV] END ........................................alpha=0.569; total time=   0.1s\n",
      "[CV] END ........................................alpha=0.569; total time=   0.1s\n",
      "[CV] END ........................................alpha=0.569; total time=   0.1s\n",
      "[CV] END ........................................alpha=0.569; total time=   0.1s\n",
      "[CV] END ........................................alpha=0.569; total time=   0.1s\n",
      "[CV] END ........................................alpha=0.569; total time=   0.1s\n",
      "[CV] END ........................................alpha=0.569; total time=   0.1s\n",
      "[CV] END ........................................alpha=0.756; total time=   0.1s\n",
      "[CV] END ........................................alpha=0.756; total time=   0.1s\n",
      "[CV] END ........................................alpha=0.756; total time=   0.1s\n",
      "[CV] END ........................................alpha=0.756; total time=   0.1s\n",
      "[CV] END ........................................alpha=0.756; total time=   0.1s\n",
      "[CV] END ........................................alpha=0.756; total time=   0.1s\n",
      "[CV] END ........................................alpha=0.756; total time=   0.1s\n",
      "[CV] END ........................................alpha=0.756; total time=   0.1s\n",
      "[CV] END ........................................alpha=0.756; total time=   0.1s\n",
      "[CV] END ........................................alpha=0.756; total time=   0.1s\n",
      "[CV] END ........................................alpha=0.852; total time=   0.1s\n",
      "[CV] END ........................................alpha=0.852; total time=   0.1s\n",
      "[CV] END ........................................alpha=0.852; total time=   0.1s\n",
      "[CV] END ........................................alpha=0.852; total time=   0.1s\n",
      "[CV] END ........................................alpha=0.852; total time=   0.1s\n",
      "[CV] END ........................................alpha=0.852; total time=   0.1s\n",
      "[CV] END ........................................alpha=0.852; total time=   0.1s\n",
      "[CV] END ........................................alpha=0.852; total time=   0.1s\n",
      "[CV] END ........................................alpha=0.852; total time=   0.1s\n",
      "[CV] END ........................................alpha=0.852; total time=   0.1s\n",
      "[CV] END ........................................alpha=0.898; total time=   0.1s\n",
      "[CV] END ........................................alpha=0.898; total time=   0.1s\n",
      "[CV] END ........................................alpha=0.898; total time=   0.1s\n",
      "[CV] END ........................................alpha=0.898; total time=   0.1s\n",
      "[CV] END ........................................alpha=0.898; total time=   0.1s\n",
      "[CV] END ........................................alpha=0.898; total time=   0.1s\n",
      "[CV] END ........................................alpha=0.898; total time=   0.1s\n",
      "[CV] END ........................................alpha=0.898; total time=   0.1s\n",
      "[CV] END ........................................alpha=0.898; total time=   0.1s\n",
      "[CV] END ........................................alpha=0.898; total time=   0.1s\n",
      "[CV] END ........................................alpha=0.723; total time=   0.1s\n",
      "[CV] END ........................................alpha=0.723; total time=   0.1s\n",
      "[CV] END ........................................alpha=0.723; total time=   0.1s\n",
      "[CV] END ........................................alpha=0.723; total time=   0.1s\n",
      "[CV] END ........................................alpha=0.723; total time=   0.1s\n",
      "[CV] END ........................................alpha=0.723; total time=   0.1s\n",
      "[CV] END ........................................alpha=0.723; total time=   0.1s\n",
      "[CV] END ........................................alpha=0.723; total time=   0.1s\n",
      "[CV] END ........................................alpha=0.723; total time=   0.1s\n",
      "[CV] END ........................................alpha=0.723; total time=   0.1s\n",
      "[CV] END .........................................alpha=0.83; total time=   0.1s\n",
      "[CV] END .........................................alpha=0.83; total time=   0.1s\n",
      "[CV] END .........................................alpha=0.83; total time=   0.1s\n",
      "[CV] END .........................................alpha=0.83; total time=   0.1s\n",
      "[CV] END .........................................alpha=0.83; total time=   0.1s\n",
      "[CV] END .........................................alpha=0.83; total time=   0.1s\n",
      "[CV] END .........................................alpha=0.83; total time=   0.1s\n",
      "[CV] END .........................................alpha=0.83; total time=   0.1s\n",
      "[CV] END .........................................alpha=0.83; total time=   0.1s\n",
      "[CV] END .........................................alpha=0.83; total time=   0.1s\n",
      "[CV] END ........................................alpha=0.474; total time=   0.1s\n",
      "[CV] END ........................................alpha=0.474; total time=   0.1s\n",
      "[CV] END ........................................alpha=0.474; total time=   0.1s\n",
      "[CV] END ........................................alpha=0.474; total time=   0.1s\n",
      "[CV] END ........................................alpha=0.474; total time=   0.1s\n",
      "[CV] END ........................................alpha=0.474; total time=   0.1s\n",
      "[CV] END ........................................alpha=0.474; total time=   0.1s\n",
      "[CV] END ........................................alpha=0.474; total time=   0.1s\n",
      "[CV] END ........................................alpha=0.474; total time=   0.1s\n",
      "[CV] END ........................................alpha=0.474; total time=   0.1s\n"
     ]
    },
    {
     "data": {
      "text/plain": [
       "{'alpha': 0.898}"
      ]
     },
     "execution_count": 22,
     "metadata": {},
     "output_type": "execute_result"
    }
   ],
   "source": [
    "ri = Ridge()\n",
    "possible_parameter_values = {'alpha' : [float(x)/1000 for x in np.arange(start = 1, stop = 1001, step = 1)]}\n",
    "ri_rscv = RandomizedSearchCV(estimator = ri, param_distributions = possible_parameter_values, cv = 10, scoring = 'neg_mean_absolute_error', \n",
    "                             verbose = 2, n_jobs = 1)\n",
    "ri_rscv.fit(X_train, y_train)\n",
    "ri_rscv.best_params_"
   ]
  },
  {
   "cell_type": "code",
   "execution_count": 23,
   "id": "672f42aa",
   "metadata": {
    "ExecuteTime": {
     "end_time": "2022-03-26T16:38:43.978718Z",
     "start_time": "2022-03-26T16:38:43.192018Z"
    }
   },
   "outputs": [
    {
     "name": "stdout",
     "output_type": "stream",
     "text": [
      "Ridge Regression:\n",
      "----------------------------------------------------------------------------------------------------\n",
      "Train r2_score:  0.6482904609654013\n",
      "Test r2_score:  0.6218437724352945\n",
      "----------------------------------------------------------------------------------------------------\n",
      "Train RMSE:  17.475976625839156\n",
      "Test RMSE:  18.627478284916698\n",
      "----------------------------------------------------------------------------------------------------\n",
      "Train MAE:  12.994792450799114\n",
      "Test MAE:  14.554589557420261\n"
     ]
    },
    {
     "data": {
      "text/plain": [
       "<AxesSubplot:ylabel='Density'>"
      ]
     },
     "execution_count": 23,
     "metadata": {},
     "output_type": "execute_result"
    },
    {
     "data": {
      "image/png": "[encoded data removed]",
      "text/plain": [
       "<Figure size 432x288 with 1 Axes>"
      ]
     },
     "metadata": {
      "needs_background": "light"
     },
     "output_type": "display_data"
    }
   ],
   "source": [
    "y_train_pred_ri = ri_rscv.predict(X_train)\n",
    "y_test_pred_ri = ri_rscv.predict(X_test)\n",
    "print('Ridge Regression:')\n",
    "print('-' * 100)\n",
    "print('Train r2_score: ', r2_score(y_train, y_train_pred_ri))\n",
    "print('Test r2_score: ', r2_score(y_test, y_test_pred_ri))\n",
    "print('-' * 100)\n",
    "print('Train RMSE: ', np.sqrt(mean_squared_error(y_train, y_train_pred_ri)))\n",
    "print('Test RMSE: ', np.sqrt(mean_squared_error(y_test, y_test_pred_ri)))\n",
    "print('-' * 100)\n",
    "print('Train MAE: ', mean_absolute_error(y_train, y_train_pred_ri))\n",
    "print('Test MAE: ', mean_absolute_error(y_test, y_test_pred_ri))\n",
    "data_ri = test\n",
    "data_ri['predicted_score'] = y_test_pred_ri\n",
    "sns.distplot(data_ri['final_score'] - data_ri['predicted_score'])\n",
    "sns.distplot(abs(data_ri['final_score'] - data_ri['predicted_score']))"
   ]
  },
  {
   "cell_type": "code",
   "execution_count": null,
   "id": "b55542e1",
   "metadata": {
    "ExecuteTime": {
     "start_time": "2022-03-28T09:48:01.583Z"
    },
    "scrolled": false
   },
   "outputs": [
    {
     "name": "stdout",
     "output_type": "stream",
     "text": [
      "Fitting 10 folds for each of 10 candidates, totalling 100 fits\n"
     ]
    },
    {
     "name": "stderr",
     "output_type": "stream",
     "text": [
      "C:\\Users\\asset\\anaconda3\\lib\\site-packages\\sklearn\\model_selection\\_split.py:666: UserWarning: The least populated class in y has only 2 members, which is less than n_splits=10.\n",
      "  warnings.warn((\"The least populated class in y has only %d\"\n"
     ]
    },
    {
     "name": "stdout",
     "output_type": "stream",
     "text": [
      "[CV] END ...............learning_rate=0.88, n_estimators=850; total time= 3.4min\n",
      "[CV] END ...............learning_rate=0.88, n_estimators=850; total time= 3.4min\n"
     ]
    }
   ],
   "source": [
    "abc = AdaBoostClassifier()\n",
    "possible_parameter_values = {'n_estimators' : [int(x) for x in np.arange(start = 50, stop = 1001, step = 50)],\n",
    "                             'learning_rate' : [float(x)/1000 for x in np.arange(start = 1, stop = 1001, step = 1)]}\n",
    "abr_rscv = RandomizedSearchCV(estimator = abc, param_distributions = possible_parameter_values, cv = 10, scoring = 'neg_mean_absolute_error', \n",
    "                              verbose = 2, n_jobs = 1)\n",
    "abr_rscv.fit(X_train, y_train)\n",
    "abr_rscv.best_params_"
   ]
  },
  {
   "cell_type": "code",
   "execution_count": 25,
   "id": "a00ce0c3",
   "metadata": {
    "ExecuteTime": {
     "end_time": "2022-03-26T17:55:42.449663Z",
     "start_time": "2022-03-26T17:55:41.310554Z"
    }
   },
   "outputs": [
    {
     "name": "stdout",
     "output_type": "stream",
     "text": [
      "Ada Boost Regression:\n",
      "----------------------------------------------------------------------------------------------------\n",
      "Train r2_score:  0.4909095506149216\n",
      "Test r2_score:  0.4748697015891684\n",
      "----------------------------------------------------------------------------------------------------\n",
      "Train RMSE:  21.025525364862272\n",
      "Test RMSE:  21.950882022683775\n",
      "----------------------------------------------------------------------------------------------------\n",
      "Train MAE:  16.45341290738583\n",
      "Test MAE:  17.61940572490252\n"
     ]
    },
    {
     "data": {
      "text/plain": [
       "<AxesSubplot:ylabel='Density'>"
      ]
     },
     "execution_count": 25,
     "metadata": {},
     "output_type": "execute_result"
    },
    {
     "data": {
      "image/png": "[encoded data removed]",
      "text/plain": [
       "<Figure size 432x288 with 1 Axes>"
      ]
     },
     "metadata": {
      "needs_background": "light"
     },
     "output_type": "display_data"
    }
   ],
   "source": [
    "y_train_pred_abr = abr_rscv.predict(X_train)\n",
    "y_test_pred_abr = abr_rscv.predict(X_test)\n",
    "print('Ada Boost Regression:')\n",
    "print('-' * 100)\n",
    "print('Train r2_score: ', r2_score(y_train, y_train_pred_abr))\n",
    "print('Test r2_score: ', r2_score(y_test, y_test_pred_abr))\n",
    "print('-' * 100)\n",
    "print('Train RMSE: ', np.sqrt(mean_squared_error(y_train, y_train_pred_abr)))\n",
    "print('Test RMSE: ', np.sqrt(mean_squared_error(y_test, y_test_pred_abr)))\n",
    "print('-' * 100)\n",
    "print('Train MAE: ', mean_absolute_error(y_train, y_train_pred_abr))\n",
    "print('Test MAE: ', mean_absolute_error(y_test, y_test_pred_abr))\n",
    "data_abr = test\n",
    "data_abr['predicted_score'] = y_test_pred_abr\n",
    "sns.distplot(data_abr['final_score'] - data_abr['predicted_score'])\n",
    "sns.distplot(abs(data_abr['final_score'] - data_abr['predicted_score']))"
   ]
  },
  {
   "cell_type": "code",
   "execution_count": 26,
   "id": "234f8624",
   "metadata": {
    "ExecuteTime": {
     "end_time": "2022-03-26T18:05:49.863581Z",
     "start_time": "2022-03-26T17:55:48.440227Z"
    },
    "scrolled": false
   },
   "outputs": [
    {
     "name": "stdout",
     "output_type": "stream",
     "text": [
      "Fitting 10 folds for each of 10 candidates, totalling 100 fits\n",
      "[CV] END .....................n_neighbors=2, weights=uniform; total time=   5.5s\n",
      "[CV] END .....................n_neighbors=2, weights=uniform; total time=   5.4s\n",
      "[CV] END .....................n_neighbors=2, weights=uniform; total time=   5.5s\n",
      "[CV] END .....................n_neighbors=2, weights=uniform; total time=   5.7s\n",
      "[CV] END .....................n_neighbors=2, weights=uniform; total time=   5.8s\n",
      "[CV] END .....................n_neighbors=2, weights=uniform; total time=   5.8s\n",
      "[CV] END .....................n_neighbors=2, weights=uniform; total time=   5.8s\n",
      "[CV] END .....................n_neighbors=2, weights=uniform; total time=   5.6s\n",
      "[CV] END .....................n_neighbors=2, weights=uniform; total time=   5.7s\n",
      "[CV] END .....................n_neighbors=2, weights=uniform; total time=   5.7s\n",
      "[CV] END .....................n_neighbors=7, weights=uniform; total time=   6.2s\n",
      "[CV] END .....................n_neighbors=7, weights=uniform; total time=   6.2s\n",
      "[CV] END .....................n_neighbors=7, weights=uniform; total time=   6.3s\n",
      "[CV] END .....................n_neighbors=7, weights=uniform; total time=   6.2s\n",
      "[CV] END .....................n_neighbors=7, weights=uniform; total time=   6.3s\n",
      "[CV] END .....................n_neighbors=7, weights=uniform; total time=   6.1s\n",
      "[CV] END .....................n_neighbors=7, weights=uniform; total time=   6.2s\n",
      "[CV] END .....................n_neighbors=7, weights=uniform; total time=   6.1s\n",
      "[CV] END .....................n_neighbors=7, weights=uniform; total time=   6.2s\n",
      "[CV] END .....................n_neighbors=7, weights=uniform; total time=   5.9s\n",
      "[CV] END ....................n_neighbors=6, weights=distance; total time=   6.2s\n",
      "[CV] END ....................n_neighbors=6, weights=distance; total time=   6.2s\n",
      "[CV] END ....................n_neighbors=6, weights=distance; total time=   6.1s\n",
      "[CV] END ....................n_neighbors=6, weights=distance; total time=   6.2s\n",
      "[CV] END ....................n_neighbors=6, weights=distance; total time=   6.2s\n",
      "[CV] END ....................n_neighbors=6, weights=distance; total time=   6.1s\n",
      "[CV] END ....................n_neighbors=6, weights=distance; total time=   6.1s\n",
      "[CV] END ....................n_neighbors=6, weights=distance; total time=   6.2s\n",
      "[CV] END ....................n_neighbors=6, weights=distance; total time=   6.0s\n",
      "[CV] END ....................n_neighbors=6, weights=distance; total time=   6.0s\n",
      "[CV] END ....................n_neighbors=9, weights=distance; total time=   6.1s\n",
      "[CV] END ....................n_neighbors=9, weights=distance; total time=   6.1s\n",
      "[CV] END ....................n_neighbors=9, weights=distance; total time=   6.2s\n",
      "[CV] END ....................n_neighbors=9, weights=distance; total time=   6.1s\n",
      "[CV] END ....................n_neighbors=9, weights=distance; total time=   6.2s\n",
      "[CV] END ....................n_neighbors=9, weights=distance; total time=   6.1s\n",
      "[CV] END ....................n_neighbors=9, weights=distance; total time=   6.0s\n",
      "[CV] END ....................n_neighbors=9, weights=distance; total time=   6.1s\n",
      "[CV] END ....................n_neighbors=9, weights=distance; total time=   6.1s\n",
      "[CV] END ....................n_neighbors=9, weights=distance; total time=   6.0s\n",
      "[CV] END .....................n_neighbors=1, weights=uniform; total time=   5.3s\n",
      "[CV] END .....................n_neighbors=1, weights=uniform; total time=   5.3s\n",
      "[CV] END .....................n_neighbors=1, weights=uniform; total time=   5.3s\n",
      "[CV] END .....................n_neighbors=1, weights=uniform; total time=   5.2s\n",
      "[CV] END .....................n_neighbors=1, weights=uniform; total time=   5.3s\n",
      "[CV] END .....................n_neighbors=1, weights=uniform; total time=   5.3s\n",
      "[CV] END .....................n_neighbors=1, weights=uniform; total time=   5.3s\n",
      "[CV] END .....................n_neighbors=1, weights=uniform; total time=   5.4s\n",
      "[CV] END .....................n_neighbors=1, weights=uniform; total time=   5.2s\n",
      "[CV] END .....................n_neighbors=1, weights=uniform; total time=   5.2s\n",
      "[CV] END ....................n_neighbors=7, weights=distance; total time=   6.2s\n",
      "[CV] END ....................n_neighbors=7, weights=distance; total time=   6.0s\n",
      "[CV] END ....................n_neighbors=7, weights=distance; total time=   6.2s\n",
      "[CV] END ....................n_neighbors=7, weights=distance; total time=   6.2s\n",
      "[CV] END ....................n_neighbors=7, weights=distance; total time=   6.2s\n",
      "[CV] END ....................n_neighbors=7, weights=distance; total time=   6.0s\n",
      "[CV] END ....................n_neighbors=7, weights=distance; total time=   5.9s\n",
      "[CV] END ....................n_neighbors=7, weights=distance; total time=   5.9s\n",
      "[CV] END ....................n_neighbors=7, weights=distance; total time=   6.0s\n",
      "[CV] END ....................n_neighbors=7, weights=distance; total time=   5.7s\n",
      "[CV] END .....................n_neighbors=9, weights=uniform; total time=   6.0s\n",
      "[CV] END .....................n_neighbors=9, weights=uniform; total time=   6.0s\n",
      "[CV] END .....................n_neighbors=9, weights=uniform; total time=   6.0s\n",
      "[CV] END .....................n_neighbors=9, weights=uniform; total time=   6.0s\n",
      "[CV] END .....................n_neighbors=9, weights=uniform; total time=   6.0s\n",
      "[CV] END .....................n_neighbors=9, weights=uniform; total time=   5.9s\n",
      "[CV] END .....................n_neighbors=9, weights=uniform; total time=   6.0s\n",
      "[CV] END .....................n_neighbors=9, weights=uniform; total time=   6.0s\n",
      "[CV] END .....................n_neighbors=9, weights=uniform; total time=   5.9s\n",
      "[CV] END .....................n_neighbors=9, weights=uniform; total time=   5.7s\n",
      "[CV] END ....................n_neighbors=3, weights=distance; total time=   5.8s\n",
      "[CV] END ....................n_neighbors=3, weights=distance; total time=   5.8s\n",
      "[CV] END ....................n_neighbors=3, weights=distance; total time=   5.8s\n",
      "[CV] END ....................n_neighbors=3, weights=distance; total time=   5.8s\n",
      "[CV] END ....................n_neighbors=3, weights=distance; total time=   5.9s\n",
      "[CV] END ....................n_neighbors=3, weights=distance; total time=   5.8s\n",
      "[CV] END ....................n_neighbors=3, weights=distance; total time=   5.8s\n",
      "[CV] END ....................n_neighbors=3, weights=distance; total time=   5.8s\n",
      "[CV] END ....................n_neighbors=3, weights=distance; total time=   5.8s\n",
      "[CV] END ....................n_neighbors=3, weights=distance; total time=   5.8s\n",
      "[CV] END ....................n_neighbors=10, weights=uniform; total time=   6.0s\n",
      "[CV] END ....................n_neighbors=10, weights=uniform; total time=   6.0s\n",
      "[CV] END ....................n_neighbors=10, weights=uniform; total time=   6.0s\n",
      "[CV] END ....................n_neighbors=10, weights=uniform; total time=   6.0s\n",
      "[CV] END ....................n_neighbors=10, weights=uniform; total time=   6.0s\n",
      "[CV] END ....................n_neighbors=10, weights=uniform; total time=   6.0s\n",
      "[CV] END ....................n_neighbors=10, weights=uniform; total time=   5.9s\n",
      "[CV] END ....................n_neighbors=10, weights=uniform; total time=   6.0s\n",
      "[CV] END ....................n_neighbors=10, weights=uniform; total time=   6.0s\n",
      "[CV] END ....................n_neighbors=10, weights=uniform; total time=   5.8s\n",
      "[CV] END .....................n_neighbors=8, weights=uniform; total time=   6.0s\n",
      "[CV] END .....................n_neighbors=8, weights=uniform; total time=   6.1s\n",
      "[CV] END .....................n_neighbors=8, weights=uniform; total time=   6.3s\n",
      "[CV] END .....................n_neighbors=8, weights=uniform; total time=   6.0s\n",
      "[CV] END .....................n_neighbors=8, weights=uniform; total time=   6.0s\n",
      "[CV] END .....................n_neighbors=8, weights=uniform; total time=   6.0s\n",
      "[CV] END .....................n_neighbors=8, weights=uniform; total time=   5.9s\n",
      "[CV] END .....................n_neighbors=8, weights=uniform; total time=   5.9s\n",
      "[CV] END .....................n_neighbors=8, weights=uniform; total time=   5.9s\n",
      "[CV] END .....................n_neighbors=8, weights=uniform; total time=   5.8s\n"
     ]
    },
    {
     "data": {
      "text/plain": [
       "{'weights': 'uniform', 'n_neighbors': 10}"
      ]
     },
     "execution_count": 26,
     "metadata": {},
     "output_type": "execute_result"
    }
   ],
   "source": [
    "knr = KNeighborsRegressor()\n",
    "possible_parameter_values = {'n_neighbors' : [int(x) for x in np.arange(start = 1, stop = 11, step = 1)],\n",
    "                             'weights' : ['uniform', 'distance']}\n",
    "knr_rscv = RandomizedSearchCV(estimator = knr, param_distributions = possible_parameter_values, cv = 10, scoring = 'neg_mean_absolute_error', \n",
    "                              verbose = 2, n_jobs = 1)\n",
    "knr_rscv.fit(X_train, y_train)\n",
    "knr_rscv.best_params_"
   ]
  },
  {
   "cell_type": "code",
   "execution_count": 27,
   "id": "ef27e715",
   "metadata": {
    "ExecuteTime": {
     "end_time": "2022-03-26T18:13:59.887299Z",
     "start_time": "2022-03-26T18:12:40.791376Z"
    }
   },
   "outputs": [
    {
     "name": "stdout",
     "output_type": "stream",
     "text": [
      "K Neighbors Regression:\n",
      "----------------------------------------------------------------------------------------------------\n",
      "Train r2_score:  0.7940011058114101\n",
      "Test r2_score:  0.6255758777420586\n",
      "----------------------------------------------------------------------------------------------------\n",
      "Train RMSE:  13.374631527916426\n",
      "Test RMSE:  18.53533106717677\n",
      "----------------------------------------------------------------------------------------------------\n",
      "Train MAE:  9.488389215147395\n",
      "Test MAE:  13.905602140945584\n"
     ]
    },
    {
     "data": {
      "text/plain": [
       "<AxesSubplot:ylabel='Density'>"
      ]
     },
     "execution_count": 27,
     "metadata": {},
     "output_type": "execute_result"
    },
    {
     "data": {
      "image/png": "[encoded data removed]",
      "text/plain": [
       "<Figure size 432x288 with 1 Axes>"
      ]
     },
     "metadata": {
      "needs_background": "light"
     },
     "output_type": "display_data"
    }
   ],
   "source": [
    "y_train_pred_knr = knr_rscv.predict(X_train)\n",
    "y_test_pred_knr = knr_rscv.predict(X_test)\n",
    "print('K Neighbors Regression:')\n",
    "print('-' * 100)\n",
    "print('Train r2_score: ', r2_score(y_train, y_train_pred_knr))\n",
    "print('Test r2_score: ', r2_score(y_test, y_test_pred_knr))\n",
    "print('-' * 100)\n",
    "print('Train RMSE: ', np.sqrt(mean_squared_error(y_train, y_train_pred_knr)))\n",
    "print('Test RMSE: ', np.sqrt(mean_squared_error(y_test, y_test_pred_knr)))\n",
    "print('-' * 100)\n",
    "print('Train MAE: ', mean_absolute_error(y_train, y_train_pred_knr))\n",
    "print('Test MAE: ', mean_absolute_error(y_test, y_test_pred_knr))\n",
    "data_knr = test\n",
    "data_knr['predicted_score'] = y_test_pred_knr\n",
    "sns.distplot(data_knr['final_score'] - data_knr['predicted_score'])\n",
    "sns.distplot(abs(data_knr['final_score'] - data_knr['predicted_score']))"
   ]
  },
  {
   "cell_type": "code",
   "execution_count": null,
   "id": "754d5d34",
   "metadata": {},
   "outputs": [],
   "source": []
  }
 ],
 "metadata": {
  "kernelspec": {
   "display_name": "Python 3 (ipykernel)",
   "language": "python",
   "name": "python3"
  },
  "language_info": {
   "codemirror_mode": {
    "name": "ipython",
    "version": 3
   },
   "file_extension": ".py",
   "mimetype": "text/x-python",
   "name": "python",
   "nbconvert_exporter": "python",
   "pygments_lexer": "ipython3",
   "version": "3.9.7"
  }
 },
 "nbformat": 4,
 "nbformat_minor": 5
}
