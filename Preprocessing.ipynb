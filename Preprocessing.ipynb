{
 "cells": [
  {
   "cell_type": "code",
   "execution_count": 1,
   "id": "b8c4a109",
   "metadata": {
    "ExecuteTime": {
     "end_time": "2022-03-02T11:05:12.970169Z",
     "start_time": "2022-03-02T11:05:12.190516Z"
    }
   },
   "outputs": [
    {
     "data": {
      "text/html": [
       "<style>.container{width : 100% ! important;}</style>"
      ],
      "text/plain": [
       "<IPython.core.display.HTML object>"
      ]
     },
     "metadata": {},
     "output_type": "display_data"
    }
   ],
   "source": [
    "import warnings\n",
    "import numpy as np\n",
    "import pandas as pd\n",
    "from IPython.core.display import display, HTML\n",
    "warnings.filterwarnings('ignore')\n",
    "pd.pandas.set_option('display.max_rows', None)\n",
    "pd.pandas.set_option('display.max_columns', None)\n",
    "display(HTML('<style>.container{width : 100% ! important;}</style>'))"
   ]
  },
  {
   "cell_type": "code",
   "execution_count": 2,
   "id": "50f091e4",
   "metadata": {
    "ExecuteTime": {
     "end_time": "2022-03-02T11:05:14.872076Z",
     "start_time": "2022-03-02T11:05:14.351591Z"
    }
   },
   "outputs": [
    {
     "name": "stdout",
     "output_type": "stream",
     "text": [
      "Datasets Loaded.\n"
     ]
    }
   ],
   "source": [
    "matches = pd.read_csv('IPL Matches 2008-2021.csv')\n",
    "balls = pd.read_csv('IPL Ball-by-Ball 2008-2021.csv')\n",
    "print('Datasets Loaded.')"
   ]
  },
  {
   "cell_type": "code",
   "execution_count": 3,
   "id": "1c20f3e8",
   "metadata": {
    "ExecuteTime": {
     "end_time": "2022-03-02T11:11:23.380787Z",
     "start_time": "2022-03-02T11:05:15.016797Z"
    }
   },
   "outputs": [
    {
     "name": "stdout",
     "output_type": "stream",
     "text": [
      "IPL dataset formed.\n",
      "final_score column completed.\n",
      "total_wickets column completed.\n",
      "runs column completed.\n",
      "wickets column completed.\n",
      "runs_last_5_overs column completed.\n",
      "wickets_last_5_overs column completed.\n",
      "maximum overs completed.\n",
      "maximum balls completed.\n",
      "total balls completed.\n",
      "ball number completed.\n",
      "runs scored in balls remaining completed.\n",
      "1st_team cleaned.\n",
      "2nd_team cleaned.\n",
      "batting_team cleaned.\n",
      "bowling_team cleaned.\n",
      "venue cleaned.\n"
     ]
    }
   ],
   "source": [
    "#merging matches and balls to make ipl dataset\n",
    "\n",
    "ipl = balls.merge(matches, on = 'id', how = 'left')\n",
    "ipl.rename(columns = {'team1' : '1st_team', 'team2' : '2nd_team', 'inning' : 'innings', 'over' : 'overs', 'ball' : 'balls'}, inplace = True)\n",
    "ipl['date'] = pd.to_datetime(ipl['date'])\n",
    "ipl = ipl.sort_values(by = ['id', 'innings', 'overs', 'balls'])\n",
    "ipl.reset_index(inplace = True, drop = True)\n",
    "print('IPL dataset formed.')\n",
    "\n",
    "#final score\n",
    "\n",
    "final_score = pd.DataFrame(ipl.groupby(['id', 'innings'])['total_runs'].sum())\n",
    "final_score.reset_index(inplace = True)\n",
    "final_score.rename(columns = {'total_runs' : 'final_score'}, inplace = True)\n",
    "ipl = ipl.merge(final_score, on = ['id', 'innings'], how = 'left')\n",
    "print('final_score column completed.')\n",
    "\n",
    "#total wickets\n",
    "\n",
    "total_wickets = pd.DataFrame(ipl.groupby(['id', 'innings'])['is_wicket'].sum())\n",
    "total_wickets.reset_index(inplace = True)\n",
    "total_wickets.rename(columns = {'is_wicket' : 'total_wickets'}, inplace = True)\n",
    "ipl = ipl.merge(total_wickets, on = ['id', 'innings'], how = 'left')\n",
    "print('total_wickets column completed.')\n",
    "\n",
    "#runs\n",
    "\n",
    "ipl['runs'] = 0\n",
    "ipl['runs'][0] = ipl['total_runs'][0]\n",
    "ipl['runs'][ipl.shape[0]-1] = ipl['final_score'][ipl.shape[0]-1]\n",
    "for i in range(1, ipl.shape[0]-1):\n",
    "    if ipl['id'][i] == ipl['id'][i+1]:\n",
    "        if ipl['innings'][i] == ipl['innings'][i+1]:\n",
    "            ipl['runs'][i] = ipl['total_runs'][i] + ipl['runs'][i-1]\n",
    "for i in range(1, ipl.shape[0]-1):\n",
    "    if ipl['id'][i] != ipl['id'][i+1]:\n",
    "        ipl['runs'][i] = ipl['total_runs'][i] + ipl['runs'][i-1]\n",
    "for i in range(1, ipl.shape[0]-1):\n",
    "    if ipl['id'][i] == ipl['id'][i+1]:\n",
    "        if ipl['innings'][i] != ipl['innings'][i+1]:\n",
    "            ipl['runs'][i] = ipl['total_runs'][i] + ipl['runs'][i-1]\n",
    "print('runs column completed.')\n",
    "            \n",
    "#wickets\n",
    "\n",
    "ipl['wickets'] = 0\n",
    "ipl['wickets'][0] = ipl['is_wicket'][0]\n",
    "ipl['wickets'][ipl.shape[0]-1] = ipl['total_wickets'][ipl.shape[0]-1]\n",
    "for i in range(1, ipl.shape[0]-1):\n",
    "    if ipl['id'][i] == ipl['id'][i+1]:\n",
    "        if ipl['innings'][i] == ipl['innings'][i+1]:\n",
    "            ipl['wickets'][i] = ipl['is_wicket'][i] + ipl['wickets'][i-1]\n",
    "for i in range(ipl.shape[0]-1):\n",
    "    if ipl['id'][i] != ipl['id'][i+1]:\n",
    "        ipl['wickets'][i] = ipl['total_wickets'][i]\n",
    "for i in range(ipl.shape[0]-1):\n",
    "    if ipl['id'][i] == ipl['id'][i+1]:\n",
    "        if ipl['innings'][i] != ipl['innings'][i+1]:\n",
    "            ipl['wickets'][i] = ipl['total_wickets'][i]\n",
    "print('wickets column completed.')\n",
    "            \n",
    "#runs last 5 overs\n",
    "\n",
    "ipl['runs_last_5_overs'] = 0\n",
    "for i in ipl.index:\n",
    "    if ipl['overs'][i] <= 4:\n",
    "        ipl['runs_last_5_overs'][i] = ipl['runs'][i]\n",
    "for i in ipl.index:\n",
    "    if ipl['overs'][i] > 4:\n",
    "        if ipl['id'][i] == ipl['id'][i-30]:\n",
    "            if ipl['innings'][i] == ipl['innings'][i-30]:\n",
    "                ipl['runs_last_5_overs'][i] = ipl['runs'][i] - ipl['runs'][i-30]\n",
    "print('runs_last_5_overs column completed.')\n",
    "                \n",
    "#wickets last 5 overs\n",
    "\n",
    "ipl['wickets_last_5_overs'] = 0\n",
    "for i in ipl.index:\n",
    "    if ipl['overs'][i] <= 4:\n",
    "        ipl['wickets_last_5_overs'][i] = ipl['wickets'][i]\n",
    "for i in ipl.index:\n",
    "    if ipl['overs'][i] > 4:\n",
    "        if ipl['id'][i] == ipl['id'][i-30]:\n",
    "            if ipl['innings'][i] == ipl['innings'][i-30]:\n",
    "                ipl['wickets_last_5_overs'][i] = ipl['wickets'][i] - ipl['wickets'][i-30]\n",
    "for i in ipl.index:\n",
    "    if ipl['overs'][i] > 4:\n",
    "        if ipl['id'][i] != ipl['id'][i-1]:\n",
    "            ipl['wickets_last_5_overs'][i-1] = ipl['wickets'][i-1] - ipl['wickets'][i-31]\n",
    "for i in ipl.index:\n",
    "    if ipl['overs'][i] > 4:\n",
    "        if ipl['id'][i] == ipl['id'][i-1]:\n",
    "            if ipl['innings'][i] != ipl['innings'][i-1]:\n",
    "                ipl['wickets_last_5_overs'][i-1] = ipl['wickets'][i-1] - ipl['wickets'][i-31]\n",
    "print('wickets_last_5_overs column completed.')\n",
    "\n",
    "#maximum overs and balls played\n",
    "\n",
    "max_overs = pd.DataFrame(ipl.groupby(['id', 'innings'])['overs'].max())\n",
    "max_overs.rename(columns = {'overs' : 'max_overs'}, inplace = True)\n",
    "max_overs.reset_index(inplace = True)\n",
    "print('maximum overs completed.')\n",
    "\n",
    "mid, inn, balls = [], [], []\n",
    "for i in ipl['id'].unique():\n",
    "    for j in ipl['innings'].unique():\n",
    "        tdf = ipl[ipl['id'] == i]\n",
    "        tdf = tdf[tdf['innings'] == j]\n",
    "        mxovrs = tdf['overs'].max()\n",
    "        tdf2 = tdf[tdf['overs'] == mxovrs]\n",
    "        mid.append(i)\n",
    "        inn.append(j)\n",
    "        balls.append(tdf2['balls'].max())\n",
    "max_balls = pd.DataFrame({'id' : mid, 'innings' : inn, 'max_balls' : balls})\n",
    "print('maximum balls completed.')\n",
    "\n",
    "total_balls = max_overs.merge(max_balls, on = ['id', 'innings'], how = 'left')\n",
    "total_balls['total_balls'] = total_balls['max_overs'] * 6 + total_balls['max_balls']\n",
    "\n",
    "ipl = ipl.merge(total_balls[['id', 'innings', 'total_balls']], on = ['id', 'innings'], how = 'left')\n",
    "print('total balls completed.')\n",
    "\n",
    "#balls number\n",
    "\n",
    "ipl['ball_no'] = 0\n",
    "for i in ipl.index:\n",
    "    if (ipl['overs'][i] == 0) & (ipl['balls'][i] == 1):\n",
    "        ipl['ball_no'][i] = 1\n",
    "for i in range(1, ipl.shape[0]):\n",
    "    if (ipl['overs'][i] == 0) & (ipl['balls'][i] == 1):\n",
    "        pass\n",
    "    else:\n",
    "        if ipl['extras_type'][i-1] == 'wides':\n",
    "            ipl['ball_no'][i] = ipl['ball_no'][i-1]\n",
    "        elif ipl['extras_type'][i-1] == 'noballs':\n",
    "            ipl['ball_no'][i] = ipl['ball_no'][i-1]\n",
    "        else:\n",
    "            ipl['ball_no'][i] = ipl['ball_no'][i-1] + 1\n",
    "print('ball number completed.')\n",
    "\n",
    "#runs scored in balls remaining\n",
    "\n",
    "ipl['balls_remaining'] = ipl['total_balls'] - ipl['ball_no']\n",
    "ipl['runs_scored_ball_remaining'] = ipl['final_score'] - ipl['runs']\n",
    "print('runs scored in balls remaining completed.')\n",
    "\n",
    "#cleaning teams\n",
    "\n",
    "for col in ['1st_team', '2nd_team', 'batting_team', 'bowling_team']:\n",
    "    t_list = []\n",
    "    for i in ipl[col]:\n",
    "        if i == 'Delhi Daredevils':\n",
    "            t_list.append('Delhi Capitals')\n",
    "        elif i == 'Rising Pune Supergiants':\n",
    "            t_list.append('Rising Pune Supergiant')\n",
    "        elif i == 'Kings XI Punjab':\n",
    "            t_list.append('Punjab Kings')\n",
    "        else:\n",
    "            t_list.append(i)\n",
    "    ipl[col] = t_list\n",
    "    print(col + ' cleaned.')\n",
    "\n",
    "#cleaning venues\n",
    "\n",
    "t_list = []\n",
    "for i in ipl['venue']:\n",
    "    if i == 'M.Chinnaswamy Stadium':\n",
    "        t_list.append('M Chinnaswamy Stadium')\n",
    "    elif i == 'MA Chidambaram Stadium, Chepauk, Chennai':\n",
    "        t_list.append('MA Chidambaram Stadium, Chepauk')\n",
    "    elif i == 'Maharashtra Cricket Association Stadium':\n",
    "        t_list.append('Subrata Roy Sahara Stadium')\n",
    "    elif i == 'Punjab Cricket Association IS Bindra Stadium, Mohali':\n",
    "        t_list.append('Punjab Cricket Association Stadium, Mohali')\n",
    "    elif i == 'Sardar Patel Stadium, Motera':\n",
    "        t_list.append('Narendra Modi Stadium, Ahmedabad')\n",
    "    elif i == 'Wankhede Stadium, Mumbai':\n",
    "        t_list.append('Wankhede Stadium')\n",
    "    else:\n",
    "        t_list.append(i)\n",
    "ipl['venue'] = t_list\n",
    "print('venue cleaned.')"
   ]
  },
  {
   "cell_type": "code",
   "execution_count": 4,
   "id": "8727d271",
   "metadata": {
    "ExecuteTime": {
     "end_time": "2022-03-02T11:30:49.945363Z",
     "start_time": "2022-03-02T11:30:49.763339Z"
    }
   },
   "outputs": [],
   "source": [
    "#rearranging columns\n",
    "\n",
    "ipl = ipl[['id', 'date', 'city', 'venue', '1st_team', 'neutral_venue', '2nd_team', 'toss_winner', 'toss_decision', 'innings', 'batting_team', \n",
    "           'bowling_team', 'batsman', 'non_striker', 'bowler', 'overs', 'balls', 'ball_no', 'batsman_runs', 'extra_runs', \n",
    "           'total_runs', 'non_boundary', 'is_wicket', 'dismissal_kind', 'player_dismissed', 'fielder', 'extras_type', 'runs', 'wickets', \n",
    "           'runs_last_5_overs', 'wickets_last_5_overs', 'balls_remaining', 'runs_scored_ball_remaining', 'winner', 'result', 'result_margin', \n",
    "           'player_of_match', 'eliminator', 'method', 'umpire1', 'umpire2', 'final_score', 'total_wickets', 'total_balls']]"
   ]
  },
  {
   "cell_type": "code",
   "execution_count": 5,
   "id": "7f3cf1d9",
   "metadata": {
    "ExecuteTime": {
     "end_time": "2022-03-02T11:30:56.520127Z",
     "start_time": "2022-03-02T11:30:51.368014Z"
    }
   },
   "outputs": [],
   "source": [
    "#Saving file\n",
    "\n",
    "ipl.to_csv('IPL.csv', index = None)"
   ]
  },
  {
   "cell_type": "code",
   "execution_count": null,
   "id": "48e6ea4c",
   "metadata": {},
   "outputs": [],
   "source": []
  }
 ],
 "metadata": {
  "kernelspec": {
   "display_name": "Python 3 (ipykernel)",
   "language": "python",
   "name": "python3"
  },
  "language_info": {
   "codemirror_mode": {
    "name": "ipython",
    "version": 3
   },
   "file_extension": ".py",
   "mimetype": "text/x-python",
   "name": "python",
   "nbconvert_exporter": "python",
   "pygments_lexer": "ipython3",
   "version": "3.9.7"
  }
 },
 "nbformat": 4,
 "nbformat_minor": 5
}
