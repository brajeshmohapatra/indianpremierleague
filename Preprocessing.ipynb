{
 "cells": [
  {
   "cell_type": "code",
   "execution_count": 1,
   "id": "b8c4a109",
   "metadata": {
    "ExecuteTime": {
     "end_time": "2022-03-30T15:27:37.439799Z",
     "start_time": "2022-03-30T15:27:36.814332Z"
    }
   },
   "outputs": [
    {
     "data": {
      "text/html": [
       "<style>.container{width : 100% ! important;}</style>"
      ],
      "text/plain": [
       "<IPython.core.display.HTML object>"
      ]
     },
     "metadata": {},
     "output_type": "display_data"
    }
   ],
   "source": [
    "import warnings\n",
    "import numpy as np\n",
    "import pandas as pd\n",
    "from datetime import date, datetime\n",
    "from IPython.core.display import display, HTML\n",
    "warnings.filterwarnings('ignore')\n",
    "pd.pandas.set_option('display.max_rows', None)\n",
    "pd.pandas.set_option('display.max_columns', None)\n",
    "display(HTML('<style>.container{width : 100% ! important;}</style>'))"
   ]
  },
  {
   "cell_type": "code",
   "execution_count": 2,
   "id": "50f091e4",
   "metadata": {
    "ExecuteTime": {
     "end_time": "2022-03-30T15:27:38.656652Z",
     "start_time": "2022-03-30T15:27:38.047280Z"
    }
   },
   "outputs": [
    {
     "name": "stdout",
     "output_type": "stream",
     "text": [
      "Datasets Loaded.\n"
     ]
    }
   ],
   "source": [
    "matches = pd.read_csv('Matches.csv')\n",
    "balls = pd.read_csv('Match Details.csv')\n",
    "print('Datasets Loaded.')"
   ]
  },
  {
   "cell_type": "code",
   "execution_count": 3,
   "id": "1c20f3e8",
   "metadata": {
    "ExecuteTime": {
     "end_time": "2022-03-30T15:36:37.689991Z",
     "start_time": "2022-03-30T15:27:38.658303Z"
    }
   },
   "outputs": [
    {
     "name": "stdout",
     "output_type": "stream",
     "text": [
      "IPL dataset formed.\n",
      "final_score column completed.\n",
      "total_wickets column completed.\n",
      "runs column completed.\n",
      "wickets column completed.\n",
      "runs_last_5_overs column completed.\n",
      "wickets_last_5_overs column completed.\n",
      "ball number completed.\n",
      "balls completed.\n",
      "overs completed.\n",
      "balls remaining completed.\n",
      "runs scored/required completed.\n",
      "won column created.\n",
      "bowling_team cleaned.\n",
      "venue cleaned.\n"
     ]
    }
   ],
   "source": [
    "#merging matches and balls to make ipl dataset\n",
    "\n",
    "ipl = balls.merge(matches, on = 'match_id', how = 'left')\n",
    "ipl['year'] = ipl['date'].apply(lambda dateString : datetime.strptime(dateString,'%d-%m-%Y').year)\n",
    "ipl['date'] = pd.to_datetime(ipl['date'])\n",
    "ipl = ipl.sort_values(by = ['match_id', 'innings', 'overs', 'balls'])\n",
    "ipl.reset_index(inplace = True, drop = True)\n",
    "print('IPL dataset formed.')\n",
    "\n",
    "#final score\n",
    "\n",
    "final_score = pd.DataFrame(ipl.groupby(['match_id', 'innings'])['total_runs'].sum())\n",
    "final_score.reset_index(inplace = True)\n",
    "final_score.rename(columns = {'total_runs' : 'final_score'}, inplace = True)\n",
    "ipl = ipl.merge(final_score, on = ['match_id', 'innings'], how = 'left')\n",
    "print('final_score column completed.')\n",
    "\n",
    "#total wickets\n",
    "\n",
    "total_wickets = pd.DataFrame(ipl.groupby(['match_id', 'innings'])['is_wicket'].sum())\n",
    "total_wickets.reset_index(inplace = True)\n",
    "total_wickets.rename(columns = {'is_wicket' : 'total_wickets'}, inplace = True)\n",
    "ipl = ipl.merge(total_wickets, on = ['match_id', 'innings'], how = 'left')\n",
    "print('total_wickets column completed.')\n",
    "\n",
    "#runs\n",
    "\n",
    "ipl['runs'] = 0\n",
    "ipl['runs'][0] = ipl['total_runs'][0]\n",
    "ipl['runs'][ipl.shape[0]-1] = ipl['final_score'][ipl.shape[0]-1]\n",
    "for i in range(1, ipl.shape[0]-1):\n",
    "    if ipl['match_id'][i] == ipl['match_id'][i+1]:\n",
    "        if ipl['innings'][i] == ipl['innings'][i+1]:\n",
    "            ipl['runs'][i] = ipl['total_runs'][i] + ipl['runs'][i-1]\n",
    "for i in range(1, ipl.shape[0]-1):\n",
    "    if ipl['match_id'][i] != ipl['match_id'][i+1]:\n",
    "        ipl['runs'][i] = ipl['total_runs'][i] + ipl['runs'][i-1]\n",
    "for i in range(1, ipl.shape[0]-1):\n",
    "    if ipl['match_id'][i] == ipl['match_id'][i+1]:\n",
    "        if ipl['innings'][i] != ipl['innings'][i+1]:\n",
    "            ipl['runs'][i] = ipl['total_runs'][i] + ipl['runs'][i-1]\n",
    "print('runs column completed.')\n",
    "            \n",
    "#wickets\n",
    "\n",
    "ipl['wickets'] = 0\n",
    "ipl['wickets'][0] = ipl['is_wicket'][0]\n",
    "ipl['wickets'][ipl.shape[0]-1] = ipl['total_wickets'][ipl.shape[0]-1]\n",
    "for i in range(1, ipl.shape[0]-1):\n",
    "    if ipl['match_id'][i] == ipl['match_id'][i+1]:\n",
    "        if ipl['innings'][i] == ipl['innings'][i+1]:\n",
    "            ipl['wickets'][i] = ipl['is_wicket'][i] + ipl['wickets'][i-1]\n",
    "for i in range(ipl.shape[0]-1):\n",
    "    if ipl['match_id'][i] != ipl['match_id'][i+1]:\n",
    "        ipl['wickets'][i] = ipl['total_wickets'][i]\n",
    "for i in range(ipl.shape[0]-1):\n",
    "    if ipl['match_id'][i] == ipl['match_id'][i+1]:\n",
    "        if ipl['innings'][i] != ipl['innings'][i+1]:\n",
    "            ipl['wickets'][i] = ipl['total_wickets'][i]\n",
    "print('wickets column completed.')\n",
    "            \n",
    "#runs last 5 overs\n",
    "\n",
    "ipl['runs_last_5_overs'] = 0\n",
    "for i in ipl.index:\n",
    "    if ipl['overs'][i] <= 4:\n",
    "        ipl['runs_last_5_overs'][i] = ipl['runs'][i]\n",
    "for i in ipl.index:\n",
    "    if ipl['overs'][i] > 4:\n",
    "        if ipl['match_id'][i] == ipl['match_id'][i-30]:\n",
    "            if ipl['innings'][i] == ipl['innings'][i-30]:\n",
    "                ipl['runs_last_5_overs'][i] = ipl['runs'][i] - ipl['runs'][i-30]\n",
    "print('runs_last_5_overs column completed.')\n",
    "                \n",
    "#wickets last 5 overs\n",
    "\n",
    "ipl['wickets_last_5_overs'] = 0\n",
    "for i in ipl.index:\n",
    "    if ipl['overs'][i] <= 4:\n",
    "        ipl['wickets_last_5_overs'][i] = ipl['wickets'][i]\n",
    "for i in ipl.index:\n",
    "    if ipl['overs'][i] > 4:\n",
    "        if ipl['match_id'][i] == ipl['match_id'][i-30]:\n",
    "            if ipl['innings'][i] == ipl['innings'][i-30]:\n",
    "                ipl['wickets_last_5_overs'][i] = ipl['wickets'][i] - ipl['wickets'][i-30]\n",
    "for i in ipl.index:\n",
    "    if ipl['overs'][i] > 4:\n",
    "        if ipl['match_id'][i] != ipl['match_id'][i-1]:\n",
    "            ipl['wickets_last_5_overs'][i-1] = ipl['wickets'][i-1] - ipl['wickets'][i-31]\n",
    "for i in ipl.index:\n",
    "    if ipl['overs'][i] > 4:\n",
    "        if ipl['match_id'][i] == ipl['match_id'][i-1]:\n",
    "            if ipl['innings'][i] != ipl['innings'][i-1]:\n",
    "                ipl['wickets_last_5_overs'][i-1] = ipl['wickets'][i-1] - ipl['wickets'][i-31]\n",
    "print('wickets_last_5_overs column completed.')\n",
    "\n",
    "#balls number, balls and overs\n",
    "\n",
    "ipl['ball_no'] = 0\n",
    "ipl['extras_type'] = ipl['extras_type'].astype(str)\n",
    "for i in ipl.index:\n",
    "    if (ipl['overs'][i] == 0) & (ipl['balls'][i] == 1):\n",
    "        ipl['ball_no'][i] = 1\n",
    "for i in range(1, ipl.shape[0]):\n",
    "    if (ipl['overs'][i] == 0) & (ipl['balls'][i] == 1):\n",
    "        pass\n",
    "    else:\n",
    "        if 'wides' in ipl['extras_type'][i-1]:\n",
    "            ipl['ball_no'][i] = ipl['ball_no'][i-1]\n",
    "        elif 'noballs' in ipl['extras_type'][i-1]:\n",
    "            ipl['ball_no'][i] = ipl['ball_no'][i-1]\n",
    "        else:\n",
    "            ipl['ball_no'][i] = ipl['ball_no'][i-1] + 1\n",
    "print('ball number completed.')\n",
    "\n",
    "ipl['balls'] = ipl['ball_no'] % 6\n",
    "print('balls completed.')\n",
    "\n",
    "for i in ipl.index:\n",
    "    if ipl['balls'][i] == 0:\n",
    "        ipl['overs'][i] += 1\n",
    "print('overs completed.')\n",
    "\n",
    "#balls remaining and runs scored/required\n",
    "\n",
    "max_balls = pd.DataFrame(ipl.groupby(['match_id', 'innings'])['ball_no'].max())\n",
    "max_balls.rename(columns = {'ball_no' : 'max_balls'}, inplace = True)\n",
    "max_balls.reset_index(inplace = True)\n",
    "ipl = ipl.merge(max_balls, on = ['match_id', 'innings'], how = 'left')\n",
    "ipl['balls_remaining'] = 0\n",
    "for i in ipl.index:\n",
    "    if ipl['innings'][i] == 1:\n",
    "        ipl['balls_remaining'][i] = ipl['max_balls'][i] - ipl['ball_no'][i]\n",
    "    else:\n",
    "        ipl['balls_remaining'][i] = (ipl['target_overs'][i] * 6) - ipl['ball_no'][i]\n",
    "print('balls remaining completed.')\n",
    "\n",
    "ipl['runs_scored_in_remaining_balls'] = 0\n",
    "ipl['runs_required'] = 0\n",
    "for i in ipl.index:\n",
    "    if ipl['innings'][i] == 1:\n",
    "        ipl['runs_scored_in_remaining_balls'][i] = ipl['final_score'][i] - ipl['runs'][i]\n",
    "    else:\n",
    "        ipl['runs_required'][i] = ipl['target_runs'][i] - ipl['runs'][i]\n",
    "print('runs scored/required completed.')\n",
    "\n",
    "#won\n",
    "\n",
    "won = []\n",
    "for i in ipl.index:\n",
    "    if ipl['batting_team'][i] == ipl['winner'][i]:\n",
    "        won.append(1)\n",
    "    else:\n",
    "        won.append(0)\n",
    "ipl['won'] = won\n",
    "print('won column created.')\n",
    "\n",
    "#cleaning teams\n",
    "\n",
    "for col in ['team1', 'team2', 'batting_team', 'bowling_team']:\n",
    "    t_list = []\n",
    "    for i in ipl[col]:\n",
    "        if i == 'Delhi Daredevils':\n",
    "            t_list.append('Delhi Capitals')\n",
    "        elif i == 'Rising Pune Supergiants':\n",
    "            t_list.append('Rising Pune Supergiant')\n",
    "        elif i == 'Kings XI Punjab':\n",
    "            t_list.append('Punjab Kings')\n",
    "        else:\n",
    "            t_list.append(i)\n",
    "    ipl[col] = t_list\n",
    "print(col + ' cleaned.')\n",
    "\n",
    "#cleaning venues\n",
    "\n",
    "t_list = []\n",
    "for i in ipl['venue']:\n",
    "    if i == 'M.Chinnaswamy Stadium':\n",
    "        t_list.append('M Chinnaswamy Stadium')\n",
    "    elif i == 'MA Chidambaram Stadium, Chepauk, Chennai':\n",
    "        t_list.append('MA Chidambaram Stadium')\n",
    "    elif i == 'MA Chidambaram Stadium, Chepauk':\n",
    "        t_list.append('MA Chidambaram Stadium')\n",
    "    elif i == 'Subrata Roy Sahara Stadium':\n",
    "        t_list.append('Maharashtra Cricket Association Stadium')\n",
    "    elif i == 'Sardar Patel Stadium, Motera':\n",
    "        t_list.append('Narendra Modi Stadium')\n",
    "    elif i == 'Narendra Modi Stadium, Ahmedabad':\n",
    "        t_list.append('Narendra Modi Stadium')\n",
    "    elif i == 'Wankhede Stadium, Mumbai':\n",
    "        t_list.append('Wankhede Stadium')\n",
    "    elif i == 'Feroz Shah Kotla':\n",
    "        t_list.append('Arun Jaitley Stadium')\n",
    "    elif i == 'Arun Jaitley Stadium, Delhi':\n",
    "        t_list.append('Arun Jaitley Stadium')\n",
    "    elif i == 'Brabourne Stadium, Mumbai':\n",
    "        t_list.append('Brabourne Stadium')\n",
    "    elif i == 'Punjab Cricket Association IS Bindra Stadium, Mohali':\n",
    "        t_list.append('Punjab Cricket Association IS Bindra Stadium')\n",
    "    elif i == 'Punjab Cricket Association Stadium, Mohali':\n",
    "        t_list.append('Punjab Cricket Association IS Bindra Stadium')\n",
    "    elif i == 'Rajiv Gandhi International Stadium, Uppal':\n",
    "        t_list.append('Rajiv Gandhi International Stadium')\n",
    "    elif i == 'Zayed Cricket Stadium, Abu Dhabi':\n",
    "        t_list.append('Sheikh Zayed Stadium')\n",
    "    elif i == 'Vidarbha Cricket Association Stadium, Jamtha':\n",
    "        t_list.append('Vidarbha Cricket Association Stadium')\n",
    "    else:\n",
    "        t_list.append(i)\n",
    "ipl['venue'] = t_list\n",
    "print('venue cleaned.')"
   ]
  },
  {
   "cell_type": "code",
   "execution_count": 4,
   "id": "db218dc3",
   "metadata": {
    "ExecuteTime": {
     "end_time": "2022-03-30T15:37:13.566534Z",
     "start_time": "2022-03-30T15:37:13.542495Z"
    }
   },
   "outputs": [
    {
     "data": {
      "text/plain": [
       "Index(['match_id', 'innings', 'overs', 'balls', 'batsman', 'non_striker',\n",
       "       'bowler', 'batsman_runs', 'extra_runs', 'total_runs', 'non_boundary',\n",
       "       'is_wicket', 'dismissal_kind', 'player_dismissed', 'fielder',\n",
       "       'extras_type', 'batting_team', 'bowling_team', 'target_overs',\n",
       "       'target_runs', 'year', 'city', 'date', 'player_of_match', 'venue',\n",
       "       'team1', 'team2', 'toss_winner', 'toss_decision', 'winner', 'result',\n",
       "       'result_margin', 'method', 'players', 'umpire1', 'umpire2', 'playoff',\n",
       "       'knockout', 'final', 'final_score', 'total_wickets', 'runs', 'wickets',\n",
       "       'runs_last_5_overs', 'wickets_last_5_overs', 'ball_no', 'max_balls',\n",
       "       'balls_remaining', 'runs_scored_in_remaining_balls', 'runs_required',\n",
       "       'won'],\n",
       "      dtype='object')"
      ]
     },
     "execution_count": 4,
     "metadata": {},
     "output_type": "execute_result"
    }
   ],
   "source": [
    "ipl.columns"
   ]
  },
  {
   "cell_type": "code",
   "execution_count": 5,
   "id": "8727d271",
   "metadata": {
    "ExecuteTime": {
     "end_time": "2022-03-30T15:37:21.183533Z",
     "start_time": "2022-03-30T15:37:20.970704Z"
    }
   },
   "outputs": [],
   "source": [
    "#rearranging columns\n",
    "\n",
    "ipl = ipl[['match_id', 'year', 'date', 'city', 'venue', 'team1', 'team2', 'toss_winner', 'toss_decision', 'innings', 'batting_team', \n",
    "           'bowling_team', 'batsman', 'non_striker', 'bowler', 'overs', 'balls', 'batsman_runs', 'extra_runs', 'total_runs', \n",
    "           'non_boundary', 'is_wicket', 'dismissal_kind', 'player_dismissed', 'fielder', 'extras_type', 'runs', 'wickets', 'runs_last_5_overs', \n",
    "           'wickets_last_5_overs', 'target_overs', 'target_runs', 'balls_remaining', 'runs_scored_in_remaining_balls', 'runs_required', \n",
    "           'winner', 'result', 'result_margin', 'player_of_match', 'playoff', 'knockout', 'final', 'method', 'players', 'umpire1', 'umpire2', \n",
    "           'final_score', 'total_wickets']]"
   ]
  },
  {
   "cell_type": "code",
   "execution_count": 6,
   "id": "a3764b66",
   "metadata": {
    "ExecuteTime": {
     "end_time": "2022-03-30T15:37:22.261513Z",
     "start_time": "2022-03-30T15:37:22.118723Z"
    }
   },
   "outputs": [],
   "source": [
    "#1st and 2nd Innings data\n",
    "\n",
    "ipl_1 = ipl[ipl['innings'] == 1]\n",
    "ipl_2 = ipl[ipl['innings'] == 2]"
   ]
  },
  {
   "cell_type": "code",
   "execution_count": 7,
   "id": "2f668a4e",
   "metadata": {
    "ExecuteTime": {
     "end_time": "2022-03-30T15:37:23.800102Z",
     "start_time": "2022-03-30T15:37:23.192858Z"
    }
   },
   "outputs": [],
   "source": [
    "#merging scores and wickets to match list\n",
    "\n",
    "matches = matches.merge(ipl_1[['match_id', 'final_score', 'total_wickets']], on = 'match_id', how = 'left')\n",
    "matches.drop_duplicates(inplace = True)\n",
    "matches.rename(columns = {'final_score' : 'innings_1_score', 'total_wickets' : 'innings_1_wickets'}, inplace = True)\n",
    "matches = matches.merge(ipl_2[['match_id', 'final_score', 'total_wickets']], on = 'match_id', how = 'left')\n",
    "matches.drop_duplicates(inplace = True)\n",
    "matches.rename(columns = {'final_score' : 'innings_2_score', 'total_wickets' : 'innings_2_wickets'}, inplace = True)"
   ]
  },
  {
   "cell_type": "code",
   "execution_count": 8,
   "id": "3f30d831",
   "metadata": {
    "ExecuteTime": {
     "end_time": "2022-03-30T15:37:23.893979Z",
     "start_time": "2022-03-30T15:37:23.800102Z"
    }
   },
   "outputs": [],
   "source": [
    "#batting and bowling teams\n",
    "\n",
    "innings_1_bat_team, innings_2_bat_team = [], []\n",
    "for i in matches.index:\n",
    "    if (matches['team1'][i] == matches['toss_winner'][i]) and (matches['toss_decision'][i] == 'bat'):\n",
    "        innings_1_bat_team.append(matches['team1'][i])\n",
    "        innings_2_bat_team.append(matches['team2'][i])\n",
    "    elif (matches['team1'][i] == matches['toss_winner'][i]) and (matches['toss_decision'][i] == 'field'):\n",
    "        innings_1_bat_team.append(matches['team2'][i])\n",
    "        innings_2_bat_team.append(matches['team1'][i])\n",
    "    elif (matches['team2'][i] == matches['toss_winner'][i]) and (matches['toss_decision'][i] == 'bat'):\n",
    "        innings_1_bat_team.append(matches['team2'][i])\n",
    "        innings_2_bat_team.append(matches['team1'][i])\n",
    "    elif (matches['team2'][i] == matches['toss_winner'][i]) and (matches['toss_decision'][i] == 'field'):\n",
    "        innings_1_bat_team.append(matches['team1'][i])\n",
    "        innings_2_bat_team.append(matches['team2'][i])\n",
    "    else:\n",
    "        innings_1_bat_team.append(np.nan)\n",
    "        innings_2_bat_team.append(np.nan)\n",
    "matches['innings_1_bat_team'] = innings_1_bat_team\n",
    "matches['innings_2_bat_team'] = innings_2_bat_team"
   ]
  },
  {
   "cell_type": "code",
   "execution_count": 9,
   "id": "7f3cf1d9",
   "metadata": {
    "ExecuteTime": {
     "end_time": "2022-03-30T15:37:38.874123Z",
     "start_time": "2022-03-30T15:37:26.335147Z"
    }
   },
   "outputs": [],
   "source": [
    "#Saving files\n",
    "\n",
    "ipl.to_csv('IPL.csv', index = None)\n",
    "ipl_1.to_csv('IPL 1st Inningsv2.csv', index = None)\n",
    "ipl_2.to_csv('IPL 2nd Inningsv2.csv', index = None)\n",
    "matches.to_csv('Match Processed.csv', index = None)"
   ]
  },
  {
   "cell_type": "code",
   "execution_count": null,
   "id": "5c693f9c",
   "metadata": {},
   "outputs": [],
   "source": []
  }
 ],
 "metadata": {
  "kernelspec": {
   "display_name": "Python 3 (ipykernel)",
   "language": "python",
   "name": "python3"
  },
  "language_info": {
   "codemirror_mode": {
    "name": "ipython",
    "version": 3
   },
   "file_extension": ".py",
   "mimetype": "text/x-python",
   "name": "python",
   "nbconvert_exporter": "python",
   "pygments_lexer": "ipython3",
   "version": "3.9.7"
  }
 },
 "nbformat": 4,
 "nbformat_minor": 5
}
