{
 "cells": [
  {
   "cell_type": "code",
   "execution_count": 1,
   "id": "23125f88",
   "metadata": {
    "ExecuteTime": {
     "end_time": "2022-03-31T11:35:42.103703Z",
     "start_time": "2022-03-31T11:35:40.552061Z"
    }
   },
   "outputs": [
    {
     "data": {
      "text/html": [
       "<style>.container{width : 100% ! important;}</style>"
      ],
      "text/plain": [
       "<IPython.core.display.HTML object>"
      ]
     },
     "metadata": {},
     "output_type": "display_data"
    }
   ],
   "source": [
    "import re\n",
    "import pickle\n",
    "import warnings\n",
    "import numpy as np\n",
    "import pandas as pd\n",
    "import seaborn as sns\n",
    "from catboost import CatBoostRegressor\n",
    "from IPython.core.display import display, HTML\n",
    "from sklearn.model_selection import RandomizedSearchCV, train_test_split\n",
    "from sklearn.metrics import r2_score, mean_squared_error, mean_absolute_error\n",
    "warnings.filterwarnings('ignore')\n",
    "pd.pandas.set_option('display.max_rows', None)\n",
    "pd.pandas.set_option('display.max_columns', None)\n",
    "display(HTML('<style>.container{width : 100% ! important;}</style>'))"
   ]
  },
  {
   "cell_type": "code",
   "execution_count": 2,
   "id": "5ba86383",
   "metadata": {
    "ExecuteTime": {
     "end_time": "2022-03-31T11:35:42.750486Z",
     "start_time": "2022-03-31T11:35:42.103703Z"
    }
   },
   "outputs": [],
   "source": [
    "df = pd.read_csv('IPL 1st Inningsv2.csv')"
   ]
  },
  {
   "cell_type": "code",
   "execution_count": 3,
   "id": "3293fa84",
   "metadata": {
    "ExecuteTime": {
     "end_time": "2022-03-31T11:35:42.782376Z",
     "start_time": "2022-03-31T11:35:42.750486Z"
    }
   },
   "outputs": [
    {
     "data": {
      "text/html": [
       "<div>\n",
       "<style scoped>\n",
       "    .dataframe tbody tr th:only-of-type {\n",
       "        vertical-align: middle;\n",
       "    }\n",
       "\n",
       "    .dataframe tbody tr th {\n",
       "        vertical-align: top;\n",
       "    }\n",
       "\n",
       "    .dataframe thead th {\n",
       "        text-align: right;\n",
       "    }\n",
       "</style>\n",
       "<table border=\"1\" class=\"dataframe\">\n",
       "  <thead>\n",
       "    <tr style=\"text-align: right;\">\n",
       "      <th></th>\n",
       "      <th>match_id</th>\n",
       "      <th>year</th>\n",
       "      <th>date</th>\n",
       "      <th>city</th>\n",
       "      <th>venue</th>\n",
       "      <th>team1</th>\n",
       "      <th>team2</th>\n",
       "      <th>toss_winner</th>\n",
       "      <th>toss_decision</th>\n",
       "      <th>innings</th>\n",
       "      <th>batting_team</th>\n",
       "      <th>bowling_team</th>\n",
       "      <th>batsman</th>\n",
       "      <th>non_striker</th>\n",
       "      <th>bowler</th>\n",
       "      <th>overs</th>\n",
       "      <th>balls</th>\n",
       "      <th>batsman_runs</th>\n",
       "      <th>extra_runs</th>\n",
       "      <th>total_runs</th>\n",
       "      <th>non_boundary</th>\n",
       "      <th>is_wicket</th>\n",
       "      <th>dismissal_kind</th>\n",
       "      <th>player_dismissed</th>\n",
       "      <th>fielder</th>\n",
       "      <th>extras_type</th>\n",
       "      <th>runs</th>\n",
       "      <th>wickets</th>\n",
       "      <th>runs_last_5_overs</th>\n",
       "      <th>wickets_last_5_overs</th>\n",
       "      <th>target_overs</th>\n",
       "      <th>target_runs</th>\n",
       "      <th>balls_remaining</th>\n",
       "      <th>runs_scored_in_remaining_balls</th>\n",
       "      <th>runs_required</th>\n",
       "      <th>winner</th>\n",
       "      <th>result</th>\n",
       "      <th>result_margin</th>\n",
       "      <th>player_of_match</th>\n",
       "      <th>playoff</th>\n",
       "      <th>knockout</th>\n",
       "      <th>final</th>\n",
       "      <th>method</th>\n",
       "      <th>players</th>\n",
       "      <th>umpire1</th>\n",
       "      <th>umpire2</th>\n",
       "      <th>final_score</th>\n",
       "      <th>total_wickets</th>\n",
       "    </tr>\n",
       "  </thead>\n",
       "  <tbody>\n",
       "    <tr>\n",
       "      <th>0</th>\n",
       "      <td>335982</td>\n",
       "      <td>2008</td>\n",
       "      <td>2008-04-18</td>\n",
       "      <td>Bangalore</td>\n",
       "      <td>M Chinnaswamy Stadium</td>\n",
       "      <td>Royal Challengers Bangalore</td>\n",
       "      <td>Kolkata Knight Riders</td>\n",
       "      <td>Royal Challengers Bangalore</td>\n",
       "      <td>field</td>\n",
       "      <td>1</td>\n",
       "      <td>Kolkata Knight Riders</td>\n",
       "      <td>Royal Challengers Bangalore</td>\n",
       "      <td>SC Ganguly</td>\n",
       "      <td>BB McCullum</td>\n",
       "      <td>P Kumar</td>\n",
       "      <td>0</td>\n",
       "      <td>1</td>\n",
       "      <td>0.0</td>\n",
       "      <td>1.0</td>\n",
       "      <td>1.0</td>\n",
       "      <td>0</td>\n",
       "      <td>0</td>\n",
       "      <td>NaN</td>\n",
       "      <td>NaN</td>\n",
       "      <td>NaN</td>\n",
       "      <td>legbyes</td>\n",
       "      <td>1</td>\n",
       "      <td>0</td>\n",
       "      <td>1</td>\n",
       "      <td>0</td>\n",
       "      <td>NaN</td>\n",
       "      <td>NaN</td>\n",
       "      <td>119</td>\n",
       "      <td>221</td>\n",
       "      <td>0</td>\n",
       "      <td>Kolkata Knight Riders</td>\n",
       "      <td>runs</td>\n",
       "      <td>140.0</td>\n",
       "      <td>BB McCullum</td>\n",
       "      <td>0</td>\n",
       "      <td>0</td>\n",
       "      <td>0</td>\n",
       "      <td>NaN</td>\n",
       "      <td>R Dravid, W Jaffer, V Kohli, JH Kallis, CL Whi...</td>\n",
       "      <td>Asad Rauf</td>\n",
       "      <td>RE Koertzen</td>\n",
       "      <td>222.0</td>\n",
       "      <td>3</td>\n",
       "    </tr>\n",
       "    <tr>\n",
       "      <th>1</th>\n",
       "      <td>335982</td>\n",
       "      <td>2008</td>\n",
       "      <td>2008-04-18</td>\n",
       "      <td>Bangalore</td>\n",
       "      <td>M Chinnaswamy Stadium</td>\n",
       "      <td>Royal Challengers Bangalore</td>\n",
       "      <td>Kolkata Knight Riders</td>\n",
       "      <td>Royal Challengers Bangalore</td>\n",
       "      <td>field</td>\n",
       "      <td>1</td>\n",
       "      <td>Kolkata Knight Riders</td>\n",
       "      <td>Royal Challengers Bangalore</td>\n",
       "      <td>BB McCullum</td>\n",
       "      <td>SC Ganguly</td>\n",
       "      <td>P Kumar</td>\n",
       "      <td>0</td>\n",
       "      <td>2</td>\n",
       "      <td>0.0</td>\n",
       "      <td>0.0</td>\n",
       "      <td>0.0</td>\n",
       "      <td>0</td>\n",
       "      <td>0</td>\n",
       "      <td>NaN</td>\n",
       "      <td>NaN</td>\n",
       "      <td>NaN</td>\n",
       "      <td>NaN</td>\n",
       "      <td>1</td>\n",
       "      <td>0</td>\n",
       "      <td>1</td>\n",
       "      <td>0</td>\n",
       "      <td>NaN</td>\n",
       "      <td>NaN</td>\n",
       "      <td>118</td>\n",
       "      <td>221</td>\n",
       "      <td>0</td>\n",
       "      <td>Kolkata Knight Riders</td>\n",
       "      <td>runs</td>\n",
       "      <td>140.0</td>\n",
       "      <td>BB McCullum</td>\n",
       "      <td>0</td>\n",
       "      <td>0</td>\n",
       "      <td>0</td>\n",
       "      <td>NaN</td>\n",
       "      <td>R Dravid, W Jaffer, V Kohli, JH Kallis, CL Whi...</td>\n",
       "      <td>Asad Rauf</td>\n",
       "      <td>RE Koertzen</td>\n",
       "      <td>222.0</td>\n",
       "      <td>3</td>\n",
       "    </tr>\n",
       "    <tr>\n",
       "      <th>2</th>\n",
       "      <td>335982</td>\n",
       "      <td>2008</td>\n",
       "      <td>2008-04-18</td>\n",
       "      <td>Bangalore</td>\n",
       "      <td>M Chinnaswamy Stadium</td>\n",
       "      <td>Royal Challengers Bangalore</td>\n",
       "      <td>Kolkata Knight Riders</td>\n",
       "      <td>Royal Challengers Bangalore</td>\n",
       "      <td>field</td>\n",
       "      <td>1</td>\n",
       "      <td>Kolkata Knight Riders</td>\n",
       "      <td>Royal Challengers Bangalore</td>\n",
       "      <td>BB McCullum</td>\n",
       "      <td>SC Ganguly</td>\n",
       "      <td>P Kumar</td>\n",
       "      <td>0</td>\n",
       "      <td>3</td>\n",
       "      <td>0.0</td>\n",
       "      <td>1.0</td>\n",
       "      <td>1.0</td>\n",
       "      <td>0</td>\n",
       "      <td>0</td>\n",
       "      <td>NaN</td>\n",
       "      <td>NaN</td>\n",
       "      <td>NaN</td>\n",
       "      <td>wides</td>\n",
       "      <td>2</td>\n",
       "      <td>0</td>\n",
       "      <td>2</td>\n",
       "      <td>0</td>\n",
       "      <td>NaN</td>\n",
       "      <td>NaN</td>\n",
       "      <td>117</td>\n",
       "      <td>220</td>\n",
       "      <td>0</td>\n",
       "      <td>Kolkata Knight Riders</td>\n",
       "      <td>runs</td>\n",
       "      <td>140.0</td>\n",
       "      <td>BB McCullum</td>\n",
       "      <td>0</td>\n",
       "      <td>0</td>\n",
       "      <td>0</td>\n",
       "      <td>NaN</td>\n",
       "      <td>R Dravid, W Jaffer, V Kohli, JH Kallis, CL Whi...</td>\n",
       "      <td>Asad Rauf</td>\n",
       "      <td>RE Koertzen</td>\n",
       "      <td>222.0</td>\n",
       "      <td>3</td>\n",
       "    </tr>\n",
       "    <tr>\n",
       "      <th>3</th>\n",
       "      <td>335982</td>\n",
       "      <td>2008</td>\n",
       "      <td>2008-04-18</td>\n",
       "      <td>Bangalore</td>\n",
       "      <td>M Chinnaswamy Stadium</td>\n",
       "      <td>Royal Challengers Bangalore</td>\n",
       "      <td>Kolkata Knight Riders</td>\n",
       "      <td>Royal Challengers Bangalore</td>\n",
       "      <td>field</td>\n",
       "      <td>1</td>\n",
       "      <td>Kolkata Knight Riders</td>\n",
       "      <td>Royal Challengers Bangalore</td>\n",
       "      <td>BB McCullum</td>\n",
       "      <td>SC Ganguly</td>\n",
       "      <td>P Kumar</td>\n",
       "      <td>0</td>\n",
       "      <td>3</td>\n",
       "      <td>0.0</td>\n",
       "      <td>0.0</td>\n",
       "      <td>0.0</td>\n",
       "      <td>0</td>\n",
       "      <td>0</td>\n",
       "      <td>NaN</td>\n",
       "      <td>NaN</td>\n",
       "      <td>NaN</td>\n",
       "      <td>NaN</td>\n",
       "      <td>2</td>\n",
       "      <td>0</td>\n",
       "      <td>2</td>\n",
       "      <td>0</td>\n",
       "      <td>NaN</td>\n",
       "      <td>NaN</td>\n",
       "      <td>117</td>\n",
       "      <td>220</td>\n",
       "      <td>0</td>\n",
       "      <td>Kolkata Knight Riders</td>\n",
       "      <td>runs</td>\n",
       "      <td>140.0</td>\n",
       "      <td>BB McCullum</td>\n",
       "      <td>0</td>\n",
       "      <td>0</td>\n",
       "      <td>0</td>\n",
       "      <td>NaN</td>\n",
       "      <td>R Dravid, W Jaffer, V Kohli, JH Kallis, CL Whi...</td>\n",
       "      <td>Asad Rauf</td>\n",
       "      <td>RE Koertzen</td>\n",
       "      <td>222.0</td>\n",
       "      <td>3</td>\n",
       "    </tr>\n",
       "    <tr>\n",
       "      <th>4</th>\n",
       "      <td>335982</td>\n",
       "      <td>2008</td>\n",
       "      <td>2008-04-18</td>\n",
       "      <td>Bangalore</td>\n",
       "      <td>M Chinnaswamy Stadium</td>\n",
       "      <td>Royal Challengers Bangalore</td>\n",
       "      <td>Kolkata Knight Riders</td>\n",
       "      <td>Royal Challengers Bangalore</td>\n",
       "      <td>field</td>\n",
       "      <td>1</td>\n",
       "      <td>Kolkata Knight Riders</td>\n",
       "      <td>Royal Challengers Bangalore</td>\n",
       "      <td>BB McCullum</td>\n",
       "      <td>SC Ganguly</td>\n",
       "      <td>P Kumar</td>\n",
       "      <td>0</td>\n",
       "      <td>4</td>\n",
       "      <td>0.0</td>\n",
       "      <td>0.0</td>\n",
       "      <td>0.0</td>\n",
       "      <td>0</td>\n",
       "      <td>0</td>\n",
       "      <td>NaN</td>\n",
       "      <td>NaN</td>\n",
       "      <td>NaN</td>\n",
       "      <td>NaN</td>\n",
       "      <td>2</td>\n",
       "      <td>0</td>\n",
       "      <td>2</td>\n",
       "      <td>0</td>\n",
       "      <td>NaN</td>\n",
       "      <td>NaN</td>\n",
       "      <td>116</td>\n",
       "      <td>220</td>\n",
       "      <td>0</td>\n",
       "      <td>Kolkata Knight Riders</td>\n",
       "      <td>runs</td>\n",
       "      <td>140.0</td>\n",
       "      <td>BB McCullum</td>\n",
       "      <td>0</td>\n",
       "      <td>0</td>\n",
       "      <td>0</td>\n",
       "      <td>NaN</td>\n",
       "      <td>R Dravid, W Jaffer, V Kohli, JH Kallis, CL Whi...</td>\n",
       "      <td>Asad Rauf</td>\n",
       "      <td>RE Koertzen</td>\n",
       "      <td>222.0</td>\n",
       "      <td>3</td>\n",
       "    </tr>\n",
       "  </tbody>\n",
       "</table>\n",
       "</div>"
      ],
      "text/plain": [
       "   match_id  year        date       city                  venue  \\\n",
       "0    335982  2008  2008-04-18  Bangalore  M Chinnaswamy Stadium   \n",
       "1    335982  2008  2008-04-18  Bangalore  M Chinnaswamy Stadium   \n",
       "2    335982  2008  2008-04-18  Bangalore  M Chinnaswamy Stadium   \n",
       "3    335982  2008  2008-04-18  Bangalore  M Chinnaswamy Stadium   \n",
       "4    335982  2008  2008-04-18  Bangalore  M Chinnaswamy Stadium   \n",
       "\n",
       "                         team1                  team2  \\\n",
       "0  Royal Challengers Bangalore  Kolkata Knight Riders   \n",
       "1  Royal Challengers Bangalore  Kolkata Knight Riders   \n",
       "2  Royal Challengers Bangalore  Kolkata Knight Riders   \n",
       "3  Royal Challengers Bangalore  Kolkata Knight Riders   \n",
       "4  Royal Challengers Bangalore  Kolkata Knight Riders   \n",
       "\n",
       "                   toss_winner toss_decision  innings           batting_team  \\\n",
       "0  Royal Challengers Bangalore         field        1  Kolkata Knight Riders   \n",
       "1  Royal Challengers Bangalore         field        1  Kolkata Knight Riders   \n",
       "2  Royal Challengers Bangalore         field        1  Kolkata Knight Riders   \n",
       "3  Royal Challengers Bangalore         field        1  Kolkata Knight Riders   \n",
       "4  Royal Challengers Bangalore         field        1  Kolkata Knight Riders   \n",
       "\n",
       "                  bowling_team      batsman  non_striker   bowler  overs  \\\n",
       "0  Royal Challengers Bangalore   SC Ganguly  BB McCullum  P Kumar      0   \n",
       "1  Royal Challengers Bangalore  BB McCullum   SC Ganguly  P Kumar      0   \n",
       "2  Royal Challengers Bangalore  BB McCullum   SC Ganguly  P Kumar      0   \n",
       "3  Royal Challengers Bangalore  BB McCullum   SC Ganguly  P Kumar      0   \n",
       "4  Royal Challengers Bangalore  BB McCullum   SC Ganguly  P Kumar      0   \n",
       "\n",
       "   balls  batsman_runs  extra_runs  total_runs  non_boundary  is_wicket  \\\n",
       "0      1           0.0         1.0         1.0             0          0   \n",
       "1      2           0.0         0.0         0.0             0          0   \n",
       "2      3           0.0         1.0         1.0             0          0   \n",
       "3      3           0.0         0.0         0.0             0          0   \n",
       "4      4           0.0         0.0         0.0             0          0   \n",
       "\n",
       "  dismissal_kind player_dismissed fielder extras_type  runs  wickets  \\\n",
       "0            NaN              NaN     NaN     legbyes     1        0   \n",
       "1            NaN              NaN     NaN         NaN     1        0   \n",
       "2            NaN              NaN     NaN       wides     2        0   \n",
       "3            NaN              NaN     NaN         NaN     2        0   \n",
       "4            NaN              NaN     NaN         NaN     2        0   \n",
       "\n",
       "   runs_last_5_overs  wickets_last_5_overs  target_overs  target_runs  \\\n",
       "0                  1                     0           NaN          NaN   \n",
       "1                  1                     0           NaN          NaN   \n",
       "2                  2                     0           NaN          NaN   \n",
       "3                  2                     0           NaN          NaN   \n",
       "4                  2                     0           NaN          NaN   \n",
       "\n",
       "   balls_remaining  runs_scored_in_remaining_balls  runs_required  \\\n",
       "0              119                             221              0   \n",
       "1              118                             221              0   \n",
       "2              117                             220              0   \n",
       "3              117                             220              0   \n",
       "4              116                             220              0   \n",
       "\n",
       "                  winner result  result_margin player_of_match  playoff  \\\n",
       "0  Kolkata Knight Riders   runs          140.0     BB McCullum        0   \n",
       "1  Kolkata Knight Riders   runs          140.0     BB McCullum        0   \n",
       "2  Kolkata Knight Riders   runs          140.0     BB McCullum        0   \n",
       "3  Kolkata Knight Riders   runs          140.0     BB McCullum        0   \n",
       "4  Kolkata Knight Riders   runs          140.0     BB McCullum        0   \n",
       "\n",
       "   knockout  final method                                            players  \\\n",
       "0         0      0    NaN  R Dravid, W Jaffer, V Kohli, JH Kallis, CL Whi...   \n",
       "1         0      0    NaN  R Dravid, W Jaffer, V Kohli, JH Kallis, CL Whi...   \n",
       "2         0      0    NaN  R Dravid, W Jaffer, V Kohli, JH Kallis, CL Whi...   \n",
       "3         0      0    NaN  R Dravid, W Jaffer, V Kohli, JH Kallis, CL Whi...   \n",
       "4         0      0    NaN  R Dravid, W Jaffer, V Kohli, JH Kallis, CL Whi...   \n",
       "\n",
       "     umpire1      umpire2  final_score  total_wickets  \n",
       "0  Asad Rauf  RE Koertzen        222.0              3  \n",
       "1  Asad Rauf  RE Koertzen        222.0              3  \n",
       "2  Asad Rauf  RE Koertzen        222.0              3  \n",
       "3  Asad Rauf  RE Koertzen        222.0              3  \n",
       "4  Asad Rauf  RE Koertzen        222.0              3  "
      ]
     },
     "execution_count": 3,
     "metadata": {},
     "output_type": "execute_result"
    }
   ],
   "source": [
    "df.head()"
   ]
  },
  {
   "cell_type": "code",
   "execution_count": 4,
   "id": "3eec3ef6",
   "metadata": {
    "ExecuteTime": {
     "end_time": "2022-03-31T11:35:42.829373Z",
     "start_time": "2022-03-31T11:35:42.784370Z"
    }
   },
   "outputs": [
    {
     "name": "stdout",
     "output_type": "stream",
     "text": [
      "(107664, 48)\n",
      "(81247, 48)\n"
     ]
    }
   ],
   "source": [
    "print(df.shape)\n",
    "df = df[df['overs'] >= 5]\n",
    "print(df.shape)"
   ]
  },
  {
   "cell_type": "code",
   "execution_count": 5,
   "id": "553dbded",
   "metadata": {
    "ExecuteTime": {
     "end_time": "2022-03-31T11:35:42.845376Z",
     "start_time": "2022-03-31T11:35:42.831374Z"
    }
   },
   "outputs": [],
   "source": [
    "df = df[['venue', 'toss_decision', 'batting_team', 'bowling_team', 'overs', 'balls', 'runs', 'wickets', 'runs_last_5_overs', \n",
    "         'wickets_last_5_overs', 'balls_remaining', 'runs_scored_in_remaining_balls', 'playoff', 'knockout', 'final']]"
   ]
  },
  {
   "cell_type": "code",
   "execution_count": 6,
   "id": "7eb9c557",
   "metadata": {
    "ExecuteTime": {
     "end_time": "2022-03-31T11:35:42.909391Z",
     "start_time": "2022-03-31T11:35:42.847379Z"
    }
   },
   "outputs": [],
   "source": [
    "dummy = ['batting_team', 'bowling_team', 'toss_decision', 'venue']\n",
    "df_dummy = pd.get_dummies(df[dummy], prefix_sep = '_', drop_first = False)\n",
    "df = df.drop(dummy, axis = 1)\n",
    "df = pd.concat([df, df_dummy], axis = 1)"
   ]
  },
  {
   "cell_type": "code",
   "execution_count": 7,
   "id": "36e489b6",
   "metadata": {
    "ExecuteTime": {
     "end_time": "2022-03-31T11:35:42.937150Z",
     "start_time": "2022-03-31T11:35:42.911392Z"
    }
   },
   "outputs": [],
   "source": [
    "category = ['overs', 'balls', 'wickets']\n",
    "for col in category:\n",
    "    df[col] = df[col].astype('category', copy = False)"
   ]
  },
  {
   "cell_type": "code",
   "execution_count": 8,
   "id": "94ad6174",
   "metadata": {
    "ExecuteTime": {
     "end_time": "2022-03-31T11:35:42.960012Z",
     "start_time": "2022-03-31T11:35:42.937150Z"
    }
   },
   "outputs": [],
   "source": [
    "columns = []\n",
    "for i in df.columns:\n",
    "    i = re.sub('\\s', '_', i)\n",
    "    i = re.sub('\\.', '', i)\n",
    "    i = re.sub('\\,', '', i)\n",
    "    i = re.sub('\\-', '_', i)\n",
    "    columns.append(i)\n",
    "df.columns = columns"
   ]
  },
  {
   "cell_type": "code",
   "execution_count": 9,
   "id": "b0d31e6d",
   "metadata": {
    "ExecuteTime": {
     "end_time": "2022-03-31T11:35:48.071102Z",
     "start_time": "2022-03-31T11:35:48.059090Z"
    }
   },
   "outputs": [
    {
     "data": {
      "text/plain": [
       "Index(['overs', 'balls', 'runs', 'wickets', 'runs_last_5_overs',\n",
       "       'wickets_last_5_overs', 'balls_remaining',\n",
       "       'runs_scored_in_remaining_balls', 'playoff', 'knockout', 'final',\n",
       "       'batting_team_Chennai_Super_Kings', 'batting_team_Deccan_Chargers',\n",
       "       'batting_team_Delhi_Capitals', 'batting_team_Gujarat_Lions',\n",
       "       'batting_team_Kochi_Tuskers_Kerala',\n",
       "       'batting_team_Kolkata_Knight_Riders', 'batting_team_Mumbai_Indians',\n",
       "       'batting_team_Pune_Warriors', 'batting_team_Punjab_Kings',\n",
       "       'batting_team_Rajasthan_Royals', 'batting_team_Rising_Pune_Supergiant',\n",
       "       'batting_team_Royal_Challengers_Bangalore',\n",
       "       'batting_team_Sunrisers_Hyderabad', 'bowling_team_Chennai_Super_Kings',\n",
       "       'bowling_team_Deccan_Chargers', 'bowling_team_Delhi_Capitals',\n",
       "       'bowling_team_Gujarat_Lions', 'bowling_team_Kochi_Tuskers_Kerala',\n",
       "       'bowling_team_Kolkata_Knight_Riders', 'bowling_team_Mumbai_Indians',\n",
       "       'bowling_team_Pune_Warriors', 'bowling_team_Punjab_Kings',\n",
       "       'bowling_team_Rajasthan_Royals', 'bowling_team_Rising_Pune_Supergiant',\n",
       "       'bowling_team_Royal_Challengers_Bangalore',\n",
       "       'bowling_team_Sunrisers_Hyderabad', 'toss_decision_bat',\n",
       "       'toss_decision_field', 'venue_Arun_Jaitley_Stadium',\n",
       "       'venue_Barabati_Stadium', 'venue_Brabourne_Stadium',\n",
       "       'venue_Buffalo_Park', 'venue_De_Beers_Diamond_Oval',\n",
       "       'venue_Dr_DY_Patil_Sports_Academy',\n",
       "       'venue_Dr_YS_Rajasekhara_Reddy_ACA_VDCA_Cricket_Stadium',\n",
       "       'venue_Dubai_International_Cricket_Stadium', 'venue_Eden_Gardens',\n",
       "       'venue_Green_Park',\n",
       "       'venue_Himachal_Pradesh_Cricket_Association_Stadium',\n",
       "       'venue_Holkar_Cricket_Stadium',\n",
       "       'venue_JSCA_International_Stadium_Complex', 'venue_Kingsmead',\n",
       "       'venue_M_Chinnaswamy_Stadium', 'venue_MA_Chidambaram_Stadium',\n",
       "       'venue_Maharashtra_Cricket_Association_Stadium',\n",
       "       'venue_Narendra_Modi_Stadium', 'venue_Nehru_Stadium',\n",
       "       'venue_New_Wanderers_Stadium', 'venue_Newlands',\n",
       "       'venue_OUTsurance_Oval',\n",
       "       'venue_Punjab_Cricket_Association_IS_Bindra_Stadium',\n",
       "       'venue_Rajiv_Gandhi_International_Stadium',\n",
       "       'venue_Saurashtra_Cricket_Association_Stadium',\n",
       "       'venue_Sawai_Mansingh_Stadium',\n",
       "       'venue_Shaheed_Veer_Narayan_Singh_International_Stadium',\n",
       "       'venue_Sharjah_Cricket_Stadium', 'venue_Sheikh_Zayed_Stadium',\n",
       "       'venue_St_George's_Park', 'venue_SuperSport_Park',\n",
       "       'venue_Vidarbha_Cricket_Association_Stadium', 'venue_Wankhede_Stadium'],\n",
       "      dtype='object')"
      ]
     },
     "execution_count": 9,
     "metadata": {},
     "output_type": "execute_result"
    }
   ],
   "source": [
    "df.columns"
   ]
  },
  {
   "cell_type": "code",
   "execution_count": 10,
   "id": "b13ca97e",
   "metadata": {
    "ExecuteTime": {
     "end_time": "2022-03-31T11:35:48.380696Z",
     "start_time": "2022-03-31T11:35:48.349730Z"
    }
   },
   "outputs": [],
   "source": [
    "df = df[['batting_team_Chennai_Super_Kings', 'batting_team_Deccan_Chargers',\n",
    "       'batting_team_Delhi_Capitals', 'batting_team_Gujarat_Lions',\n",
    "       'batting_team_Kochi_Tuskers_Kerala',\n",
    "       'batting_team_Kolkata_Knight_Riders', 'batting_team_Mumbai_Indians',\n",
    "       'batting_team_Pune_Warriors', 'batting_team_Punjab_Kings',\n",
    "       'batting_team_Rajasthan_Royals', 'batting_team_Rising_Pune_Supergiant',\n",
    "       'batting_team_Royal_Challengers_Bangalore',\n",
    "       'batting_team_Sunrisers_Hyderabad', 'bowling_team_Chennai_Super_Kings',\n",
    "       'bowling_team_Deccan_Chargers', 'bowling_team_Delhi_Capitals',\n",
    "       'bowling_team_Gujarat_Lions', 'bowling_team_Kochi_Tuskers_Kerala',\n",
    "       'bowling_team_Kolkata_Knight_Riders', 'bowling_team_Mumbai_Indians',\n",
    "       'bowling_team_Pune_Warriors', 'bowling_team_Punjab_Kings',\n",
    "       'bowling_team_Rajasthan_Royals', 'bowling_team_Rising_Pune_Supergiant',\n",
    "       'bowling_team_Royal_Challengers_Bangalore',\n",
    "       'bowling_team_Sunrisers_Hyderabad', 'toss_decision_bat',\n",
    "       'toss_decision_field', 'venue_Arun_Jaitley_Stadium',\n",
    "       'venue_Barabati_Stadium', 'venue_Brabourne_Stadium',\n",
    "       'venue_Buffalo_Park', 'venue_De_Beers_Diamond_Oval',\n",
    "       'venue_Dr_DY_Patil_Sports_Academy',\n",
    "       'venue_Dr_YS_Rajasekhara_Reddy_ACA_VDCA_Cricket_Stadium',\n",
    "       'venue_Dubai_International_Cricket_Stadium', 'venue_Eden_Gardens',\n",
    "       'venue_Green_Park',\n",
    "       'venue_Himachal_Pradesh_Cricket_Association_Stadium',\n",
    "       'venue_Holkar_Cricket_Stadium',\n",
    "       'venue_JSCA_International_Stadium_Complex', 'venue_Kingsmead',\n",
    "       'venue_M_Chinnaswamy_Stadium', 'venue_MA_Chidambaram_Stadium',\n",
    "       'venue_Maharashtra_Cricket_Association_Stadium',\n",
    "       'venue_Narendra_Modi_Stadium', 'venue_Nehru_Stadium',\n",
    "       'venue_New_Wanderers_Stadium', 'venue_Newlands',\n",
    "       'venue_OUTsurance_Oval',\n",
    "       'venue_Punjab_Cricket_Association_IS_Bindra_Stadium',\n",
    "       'venue_Rajiv_Gandhi_International_Stadium',\n",
    "       'venue_Saurashtra_Cricket_Association_Stadium',\n",
    "       'venue_Sawai_Mansingh_Stadium',\n",
    "       'venue_Shaheed_Veer_Narayan_Singh_International_Stadium',\n",
    "       'venue_Sharjah_Cricket_Stadium', 'venue_Sheikh_Zayed_Stadium',\n",
    "       'venue_St_George\\'s_Park', 'venue_SuperSport_Park',\n",
    "       'venue_Vidarbha_Cricket_Association_Stadium', 'venue_Wankhede_Stadium', 'overs', 'balls', 'runs', 'wickets', 'runs_last_5_overs',\n",
    "       'wickets_last_5_overs', 'balls_remaining',\n",
    "       'runs_scored_in_remaining_balls', 'playoff', 'knockout', 'final']]"
   ]
  },
  {
   "cell_type": "code",
   "execution_count": 11,
   "id": "c5bed016",
   "metadata": {
    "ExecuteTime": {
     "end_time": "2022-03-31T11:35:49.090593Z",
     "start_time": "2022-03-31T11:35:49.078592Z"
    }
   },
   "outputs": [
    {
     "data": {
      "text/plain": [
       "(81247, 72)"
      ]
     },
     "execution_count": 11,
     "metadata": {},
     "output_type": "execute_result"
    }
   ],
   "source": [
    "df.shape"
   ]
  },
  {
   "cell_type": "code",
   "execution_count": 12,
   "id": "e74d0a05",
   "metadata": {
    "ExecuteTime": {
     "end_time": "2022-03-31T11:35:49.962644Z",
     "start_time": "2022-03-31T11:35:49.936209Z"
    }
   },
   "outputs": [],
   "source": [
    "X = pd.DataFrame(df.drop('runs_scored_in_remaining_balls', axis = 1), columns = df.drop('runs_scored_in_remaining_balls', axis = 1).columns)\n",
    "y = df['runs_scored_in_remaining_balls']"
   ]
  },
  {
   "cell_type": "code",
   "execution_count": 13,
   "id": "9d9c57c1",
   "metadata": {
    "ExecuteTime": {
     "end_time": "2022-03-31T11:35:50.813968Z",
     "start_time": "2022-03-31T11:35:50.762280Z"
    }
   },
   "outputs": [],
   "source": [
    "X_train, X_test, y_train, y_test = train_test_split(X, y, test_size = 0.1, random_state = 17)"
   ]
  },
  {
   "cell_type": "code",
   "execution_count": 14,
   "id": "0a8f4c3c",
   "metadata": {
    "ExecuteTime": {
     "end_time": "2022-03-31T11:35:51.617816Z",
     "start_time": "2022-03-31T11:35:51.597815Z"
    }
   },
   "outputs": [
    {
     "data": {
      "text/plain": [
       "((73122, 71), (8125, 71), (73122,), (8125,))"
      ]
     },
     "execution_count": 14,
     "metadata": {},
     "output_type": "execute_result"
    }
   ],
   "source": [
    "X_train.shape, X_test.shape, y_train.shape, y_test.shape"
   ]
  },
  {
   "cell_type": "code",
   "execution_count": 15,
   "id": "0860c05c",
   "metadata": {
    "ExecuteTime": {
     "end_time": "2022-03-31T11:35:52.699005Z",
     "start_time": "2022-03-31T11:35:52.680004Z"
    }
   },
   "outputs": [
    {
     "data": {
      "text/plain": [
       "Index(['batting_team_Chennai_Super_Kings', 'batting_team_Deccan_Chargers',\n",
       "       'batting_team_Delhi_Capitals', 'batting_team_Gujarat_Lions',\n",
       "       'batting_team_Kochi_Tuskers_Kerala',\n",
       "       'batting_team_Kolkata_Knight_Riders', 'batting_team_Mumbai_Indians',\n",
       "       'batting_team_Pune_Warriors', 'batting_team_Punjab_Kings',\n",
       "       'batting_team_Rajasthan_Royals', 'batting_team_Rising_Pune_Supergiant',\n",
       "       'batting_team_Royal_Challengers_Bangalore',\n",
       "       'batting_team_Sunrisers_Hyderabad', 'bowling_team_Chennai_Super_Kings',\n",
       "       'bowling_team_Deccan_Chargers', 'bowling_team_Delhi_Capitals',\n",
       "       'bowling_team_Gujarat_Lions', 'bowling_team_Kochi_Tuskers_Kerala',\n",
       "       'bowling_team_Kolkata_Knight_Riders', 'bowling_team_Mumbai_Indians',\n",
       "       'bowling_team_Pune_Warriors', 'bowling_team_Punjab_Kings',\n",
       "       'bowling_team_Rajasthan_Royals', 'bowling_team_Rising_Pune_Supergiant',\n",
       "       'bowling_team_Royal_Challengers_Bangalore',\n",
       "       'bowling_team_Sunrisers_Hyderabad', 'toss_decision_bat',\n",
       "       'toss_decision_field', 'venue_Arun_Jaitley_Stadium',\n",
       "       'venue_Barabati_Stadium', 'venue_Brabourne_Stadium',\n",
       "       'venue_Buffalo_Park', 'venue_De_Beers_Diamond_Oval',\n",
       "       'venue_Dr_DY_Patil_Sports_Academy',\n",
       "       'venue_Dr_YS_Rajasekhara_Reddy_ACA_VDCA_Cricket_Stadium',\n",
       "       'venue_Dubai_International_Cricket_Stadium', 'venue_Eden_Gardens',\n",
       "       'venue_Green_Park',\n",
       "       'venue_Himachal_Pradesh_Cricket_Association_Stadium',\n",
       "       'venue_Holkar_Cricket_Stadium',\n",
       "       'venue_JSCA_International_Stadium_Complex', 'venue_Kingsmead',\n",
       "       'venue_M_Chinnaswamy_Stadium', 'venue_MA_Chidambaram_Stadium',\n",
       "       'venue_Maharashtra_Cricket_Association_Stadium',\n",
       "       'venue_Narendra_Modi_Stadium', 'venue_Nehru_Stadium',\n",
       "       'venue_New_Wanderers_Stadium', 'venue_Newlands',\n",
       "       'venue_OUTsurance_Oval',\n",
       "       'venue_Punjab_Cricket_Association_IS_Bindra_Stadium',\n",
       "       'venue_Rajiv_Gandhi_International_Stadium',\n",
       "       'venue_Saurashtra_Cricket_Association_Stadium',\n",
       "       'venue_Sawai_Mansingh_Stadium',\n",
       "       'venue_Shaheed_Veer_Narayan_Singh_International_Stadium',\n",
       "       'venue_Sharjah_Cricket_Stadium', 'venue_Sheikh_Zayed_Stadium',\n",
       "       'venue_St_George's_Park', 'venue_SuperSport_Park',\n",
       "       'venue_Vidarbha_Cricket_Association_Stadium', 'venue_Wankhede_Stadium',\n",
       "       'overs', 'balls', 'runs', 'wickets', 'runs_last_5_overs',\n",
       "       'wickets_last_5_overs', 'balls_remaining', 'playoff', 'knockout',\n",
       "       'final'],\n",
       "      dtype='object')"
      ]
     },
     "execution_count": 15,
     "metadata": {},
     "output_type": "execute_result"
    }
   ],
   "source": [
    "X_train.columns"
   ]
  },
  {
   "cell_type": "code",
   "execution_count": null,
   "id": "0f6e011f",
   "metadata": {},
   "outputs": [],
   "source": []
  },
  {
   "cell_type": "code",
   "execution_count": 20,
   "id": "0eb7d99d",
   "metadata": {
    "ExecuteTime": {
     "end_time": "2022-03-30T15:59:42.317144Z",
     "start_time": "2022-03-30T15:59:41.672385Z"
    },
    "scrolled": true
   },
   "outputs": [
    {
     "ename": "CatBoostError",
     "evalue": "features data: pandas.DataFrame column 'overs' has dtype 'category' but is not in  cat_features list",
     "output_type": "error",
     "traceback": [
      "\u001b[1;31m---------------------------------------------------------------------------\u001b[0m",
      "\u001b[1;31mCatBoostError\u001b[0m                             Traceback (most recent call last)",
      "\u001b[1;32m~\\AppData\\Local\\Temp/ipykernel_12200/717028127.py\u001b[0m in \u001b[0;36m<module>\u001b[1;34m\u001b[0m\n\u001b[0;32m      1\u001b[0m \u001b[0mcbr\u001b[0m \u001b[1;33m=\u001b[0m \u001b[0mCatBoostRegressor\u001b[0m\u001b[1;33m(\u001b[0m\u001b[1;33m)\u001b[0m\u001b[1;33m\u001b[0m\u001b[1;33m\u001b[0m\u001b[0m\n\u001b[1;32m----> 2\u001b[1;33m \u001b[0mcbr\u001b[0m\u001b[1;33m.\u001b[0m\u001b[0mfit\u001b[0m\u001b[1;33m(\u001b[0m\u001b[0mX_train\u001b[0m\u001b[1;33m,\u001b[0m \u001b[0my_train\u001b[0m\u001b[1;33m)\u001b[0m\u001b[1;33m\u001b[0m\u001b[1;33m\u001b[0m\u001b[0m\n\u001b[0m",
      "\u001b[1;32m~\\anaconda3\\lib\\site-packages\\catboost\\core.py\u001b[0m in \u001b[0;36mfit\u001b[1;34m(self, X, y, cat_features, sample_weight, baseline, use_best_model, eval_set, verbose, logging_level, plot, column_description, verbose_eval, metric_period, silent, early_stopping_rounds, save_snapshot, snapshot_file, snapshot_interval, init_model, callbacks, log_cout, log_cerr)\u001b[0m\n\u001b[0;32m   5349\u001b[0m             \u001b[0mCatBoostRegressor\u001b[0m\u001b[1;33m.\u001b[0m\u001b[0m_check_is_compatible_loss\u001b[0m\u001b[1;33m(\u001b[0m\u001b[0mparams\u001b[0m\u001b[1;33m[\u001b[0m\u001b[1;34m'loss_function'\u001b[0m\u001b[1;33m]\u001b[0m\u001b[1;33m)\u001b[0m\u001b[1;33m\u001b[0m\u001b[1;33m\u001b[0m\u001b[0m\n\u001b[0;32m   5350\u001b[0m \u001b[1;33m\u001b[0m\u001b[0m\n\u001b[1;32m-> 5351\u001b[1;33m         return self._fit(X, y, cat_features, None, None, None, sample_weight, None, None, None, None, baseline,\n\u001b[0m\u001b[0;32m   5352\u001b[0m                          \u001b[0muse_best_model\u001b[0m\u001b[1;33m,\u001b[0m \u001b[0meval_set\u001b[0m\u001b[1;33m,\u001b[0m \u001b[0mverbose\u001b[0m\u001b[1;33m,\u001b[0m \u001b[0mlogging_level\u001b[0m\u001b[1;33m,\u001b[0m \u001b[0mplot\u001b[0m\u001b[1;33m,\u001b[0m \u001b[0mcolumn_description\u001b[0m\u001b[1;33m,\u001b[0m\u001b[1;33m\u001b[0m\u001b[1;33m\u001b[0m\u001b[0m\n\u001b[0;32m   5353\u001b[0m                          \u001b[0mverbose_eval\u001b[0m\u001b[1;33m,\u001b[0m \u001b[0mmetric_period\u001b[0m\u001b[1;33m,\u001b[0m \u001b[0msilent\u001b[0m\u001b[1;33m,\u001b[0m \u001b[0mearly_stopping_rounds\u001b[0m\u001b[1;33m,\u001b[0m\u001b[1;33m\u001b[0m\u001b[1;33m\u001b[0m\u001b[0m\n",
      "\u001b[1;32m~\\anaconda3\\lib\\site-packages\\catboost\\core.py\u001b[0m in \u001b[0;36m_fit\u001b[1;34m(self, X, y, cat_features, text_features, embedding_features, pairs, sample_weight, group_id, group_weight, subgroup_id, pairs_weight, baseline, use_best_model, eval_set, verbose, logging_level, plot, column_description, verbose_eval, metric_period, silent, early_stopping_rounds, save_snapshot, snapshot_file, snapshot_interval, init_model, callbacks, log_cout, log_cerr)\u001b[0m\n\u001b[0;32m   2071\u001b[0m             \u001b[1;32mraise\u001b[0m \u001b[0mCatBoostError\u001b[0m\u001b[1;33m(\u001b[0m\u001b[1;34m\"y may be None only when X is an instance of catboost.Pool or string\"\u001b[0m\u001b[1;33m)\u001b[0m\u001b[1;33m\u001b[0m\u001b[1;33m\u001b[0m\u001b[0m\n\u001b[0;32m   2072\u001b[0m \u001b[1;33m\u001b[0m\u001b[0m\n\u001b[1;32m-> 2073\u001b[1;33m         train_params = self._prepare_train_params(\n\u001b[0m\u001b[0;32m   2074\u001b[0m             \u001b[0mX\u001b[0m\u001b[1;33m=\u001b[0m\u001b[0mX\u001b[0m\u001b[1;33m,\u001b[0m \u001b[0my\u001b[0m\u001b[1;33m=\u001b[0m\u001b[0my\u001b[0m\u001b[1;33m,\u001b[0m \u001b[0mcat_features\u001b[0m\u001b[1;33m=\u001b[0m\u001b[0mcat_features\u001b[0m\u001b[1;33m,\u001b[0m \u001b[0mtext_features\u001b[0m\u001b[1;33m=\u001b[0m\u001b[0mtext_features\u001b[0m\u001b[1;33m,\u001b[0m \u001b[0membedding_features\u001b[0m\u001b[1;33m=\u001b[0m\u001b[0membedding_features\u001b[0m\u001b[1;33m,\u001b[0m\u001b[1;33m\u001b[0m\u001b[1;33m\u001b[0m\u001b[0m\n\u001b[0;32m   2075\u001b[0m             \u001b[0mpairs\u001b[0m\u001b[1;33m=\u001b[0m\u001b[0mpairs\u001b[0m\u001b[1;33m,\u001b[0m \u001b[0msample_weight\u001b[0m\u001b[1;33m=\u001b[0m\u001b[0msample_weight\u001b[0m\u001b[1;33m,\u001b[0m \u001b[0mgroup_id\u001b[0m\u001b[1;33m=\u001b[0m\u001b[0mgroup_id\u001b[0m\u001b[1;33m,\u001b[0m \u001b[0mgroup_weight\u001b[0m\u001b[1;33m=\u001b[0m\u001b[0mgroup_weight\u001b[0m\u001b[1;33m,\u001b[0m\u001b[1;33m\u001b[0m\u001b[1;33m\u001b[0m\u001b[0m\n",
      "\u001b[1;32m~\\anaconda3\\lib\\site-packages\\catboost\\core.py\u001b[0m in \u001b[0;36m_prepare_train_params\u001b[1;34m(self, X, y, cat_features, text_features, embedding_features, pairs, sample_weight, group_id, group_weight, subgroup_id, pairs_weight, baseline, use_best_model, eval_set, verbose, logging_level, plot, column_description, verbose_eval, metric_period, silent, early_stopping_rounds, save_snapshot, snapshot_file, snapshot_interval, init_model, callbacks)\u001b[0m\n\u001b[0;32m   1957\u001b[0m         \u001b[0membedding_features\u001b[0m \u001b[1;33m=\u001b[0m \u001b[0m_process_feature_indices\u001b[0m\u001b[1;33m(\u001b[0m\u001b[0membedding_features\u001b[0m\u001b[1;33m,\u001b[0m \u001b[0mX\u001b[0m\u001b[1;33m,\u001b[0m \u001b[0mparams\u001b[0m\u001b[1;33m,\u001b[0m \u001b[1;34m'embedding_features'\u001b[0m\u001b[1;33m)\u001b[0m\u001b[1;33m\u001b[0m\u001b[1;33m\u001b[0m\u001b[0m\n\u001b[0;32m   1958\u001b[0m \u001b[1;33m\u001b[0m\u001b[0m\n\u001b[1;32m-> 1959\u001b[1;33m         train_pool = _build_train_pool(X, y, cat_features, text_features, embedding_features, pairs,\n\u001b[0m\u001b[0;32m   1960\u001b[0m                                        \u001b[0msample_weight\u001b[0m\u001b[1;33m,\u001b[0m \u001b[0mgroup_id\u001b[0m\u001b[1;33m,\u001b[0m \u001b[0mgroup_weight\u001b[0m\u001b[1;33m,\u001b[0m \u001b[0msubgroup_id\u001b[0m\u001b[1;33m,\u001b[0m \u001b[0mpairs_weight\u001b[0m\u001b[1;33m,\u001b[0m\u001b[1;33m\u001b[0m\u001b[1;33m\u001b[0m\u001b[0m\n\u001b[0;32m   1961\u001b[0m                                        baseline, column_description)\n",
      "\u001b[1;32m~\\anaconda3\\lib\\site-packages\\catboost\\core.py\u001b[0m in \u001b[0;36m_build_train_pool\u001b[1;34m(X, y, cat_features, text_features, embedding_features, pairs, sample_weight, group_id, group_weight, subgroup_id, pairs_weight, baseline, column_description)\u001b[0m\n\u001b[0;32m   1239\u001b[0m         \u001b[1;32mif\u001b[0m \u001b[0my\u001b[0m \u001b[1;32mis\u001b[0m \u001b[1;32mNone\u001b[0m\u001b[1;33m:\u001b[0m\u001b[1;33m\u001b[0m\u001b[1;33m\u001b[0m\u001b[0m\n\u001b[0;32m   1240\u001b[0m             \u001b[1;32mraise\u001b[0m \u001b[0mCatBoostError\u001b[0m\u001b[1;33m(\u001b[0m\u001b[1;34m\"y has not initialized in fit(): X is not catboost.Pool object, y must be not None in fit().\"\u001b[0m\u001b[1;33m)\u001b[0m\u001b[1;33m\u001b[0m\u001b[1;33m\u001b[0m\u001b[0m\n\u001b[1;32m-> 1241\u001b[1;33m         train_pool = Pool(X, y, cat_features=cat_features, text_features=text_features, embedding_features=embedding_features, pairs=pairs, weight=sample_weight, group_id=group_id,\n\u001b[0m\u001b[0;32m   1242\u001b[0m                           group_weight=group_weight, subgroup_id=subgroup_id, pairs_weight=pairs_weight, baseline=baseline)\n\u001b[0;32m   1243\u001b[0m     \u001b[1;32mreturn\u001b[0m \u001b[0mtrain_pool\u001b[0m\u001b[1;33m\u001b[0m\u001b[1;33m\u001b[0m\u001b[0m\n",
      "\u001b[1;32m~\\anaconda3\\lib\\site-packages\\catboost\\core.py\u001b[0m in \u001b[0;36m__init__\u001b[1;34m(self, data, label, cat_features, text_features, embedding_features, column_description, pairs, delimiter, has_header, ignore_csv_quoting, weight, group_id, group_weight, subgroup_id, pairs_weight, baseline, timestamp, feature_names, feature_tags, thread_count, log_cout, log_cerr)\u001b[0m\n\u001b[0;32m    643\u001b[0m                     )\n\u001b[0;32m    644\u001b[0m \u001b[1;33m\u001b[0m\u001b[0m\n\u001b[1;32m--> 645\u001b[1;33m                 self._init(data, label, cat_features, text_features, embedding_features, pairs, weight,\n\u001b[0m\u001b[0;32m    646\u001b[0m                            group_id, group_weight, subgroup_id, pairs_weight, baseline, timestamp, feature_names, feature_tags, thread_count)\n\u001b[0;32m    647\u001b[0m         \u001b[0msuper\u001b[0m\u001b[1;33m(\u001b[0m\u001b[0mPool\u001b[0m\u001b[1;33m,\u001b[0m \u001b[0mself\u001b[0m\u001b[1;33m)\u001b[0m\u001b[1;33m.\u001b[0m\u001b[0m__init__\u001b[0m\u001b[1;33m(\u001b[0m\u001b[1;33m)\u001b[0m\u001b[1;33m\u001b[0m\u001b[1;33m\u001b[0m\u001b[0m\n",
      "\u001b[1;32m~\\anaconda3\\lib\\site-packages\\catboost\\core.py\u001b[0m in \u001b[0;36m_init\u001b[1;34m(self, data, label, cat_features, text_features, embedding_features, pairs, weight, group_id, group_weight, subgroup_id, pairs_weight, baseline, timestamp, feature_names, feature_tags, thread_count)\u001b[0m\n\u001b[0;32m   1220\u001b[0m         \u001b[1;32mif\u001b[0m \u001b[0mfeature_tags\u001b[0m \u001b[1;32mis\u001b[0m \u001b[1;32mnot\u001b[0m \u001b[1;32mNone\u001b[0m\u001b[1;33m:\u001b[0m\u001b[1;33m\u001b[0m\u001b[1;33m\u001b[0m\u001b[0m\n\u001b[0;32m   1221\u001b[0m             \u001b[0mfeature_tags\u001b[0m \u001b[1;33m=\u001b[0m \u001b[0mself\u001b[0m\u001b[1;33m.\u001b[0m\u001b[0m_check_transform_tags\u001b[0m\u001b[1;33m(\u001b[0m\u001b[0mfeature_tags\u001b[0m\u001b[1;33m,\u001b[0m \u001b[0mfeature_names\u001b[0m\u001b[1;33m)\u001b[0m\u001b[1;33m\u001b[0m\u001b[1;33m\u001b[0m\u001b[0m\n\u001b[1;32m-> 1222\u001b[1;33m         self._init_pool(data, label, cat_features, text_features, embedding_features, pairs, weight,\n\u001b[0m\u001b[0;32m   1223\u001b[0m                         group_id, group_weight, subgroup_id, pairs_weight, baseline, timestamp, feature_names, feature_tags, thread_count)\n\u001b[0;32m   1224\u001b[0m \u001b[1;33m\u001b[0m\u001b[0m\n",
      "\u001b[1;32m_catboost.pyx\u001b[0m in \u001b[0;36m_catboost._PoolBase._init_pool\u001b[1;34m()\u001b[0m\n",
      "\u001b[1;32m_catboost.pyx\u001b[0m in \u001b[0;36m_catboost._PoolBase._init_pool\u001b[1;34m()\u001b[0m\n",
      "\u001b[1;32m_catboost.pyx\u001b[0m in \u001b[0;36m_catboost._PoolBase._init_features_order_layout_pool\u001b[1;34m()\u001b[0m\n",
      "\u001b[1;32m_catboost.pyx\u001b[0m in \u001b[0;36m_catboost._set_features_order_data_pd_data_frame\u001b[1;34m()\u001b[0m\n",
      "\u001b[1;31mCatBoostError\u001b[0m: features data: pandas.DataFrame column 'overs' has dtype 'category' but is not in  cat_features list"
     ]
    }
   ],
   "source": [
    "cbr = CatBoostRegressor()\n",
    "cbr.fit(X_train, y_train)"
   ]
  },
  {
   "cell_type": "code",
   "execution_count": 16,
   "id": "43472cf2",
   "metadata": {
    "ExecuteTime": {
     "end_time": "2022-03-30T07:32:01.249501Z",
     "start_time": "2022-03-30T07:32:00.865718Z"
    }
   },
   "outputs": [
    {
     "name": "stdout",
     "output_type": "stream",
     "text": [
      "Cat Boost Regression:\n",
      "----------------------------------------------------------------------------------------------------\n",
      "Train r2_score:  0.9525381074900239\n",
      "Test r2_score:  0.9492993752418563\n",
      "----------------------------------------------------------------------------------------------------\n",
      "Train RMSE:  8.79232650015186\n",
      "Test RMSE:  9.122588535121574\n",
      "----------------------------------------------------------------------------------------------------\n",
      "Train MAE:  6.463873430908231\n",
      "Test MAE:  6.688776276565442\n"
     ]
    },
    {
     "data": {
      "text/plain": [
       "<AxesSubplot:xlabel='runs_scored_in_remaining_balls', ylabel='Density'>"
      ]
     },
     "execution_count": 16,
     "metadata": {},
     "output_type": "execute_result"
    },
    {
     "data": {
      "image/png": "[encoded data removed]",
      "text/plain": [
       "<Figure size 432x288 with 1 Axes>"
      ]
     },
     "metadata": {
      "needs_background": "light"
     },
     "output_type": "display_data"
    }
   ],
   "source": [
    "y_train_pred_cbr = cbr.predict(X_train)\n",
    "y_test_pred_cbr = cbr.predict(X_test)\n",
    "print('Cat Boost Regression:')\n",
    "print('-' * 100)\n",
    "print('Train r2_score: ', r2_score(y_train, y_train_pred_cbr))\n",
    "print('Test r2_score: ', r2_score(y_test, y_test_pred_cbr))\n",
    "print('-' * 100)\n",
    "print('Train RMSE: ', np.sqrt(mean_squared_error(y_train, y_train_pred_cbr)))\n",
    "print('Test RMSE: ', np.sqrt(mean_squared_error(y_test, y_test_pred_cbr)))\n",
    "print('-' * 100)\n",
    "print('Train MAE: ', mean_absolute_error(y_train, y_train_pred_cbr))\n",
    "print('Test MAE: ', mean_absolute_error(y_test, y_test_pred_cbr))\n",
    "sns.distplot(y_test - y_test_pred_cbr)\n",
    "sns.distplot(abs(y_test - y_test_pred_cbr))"
   ]
  },
  {
   "cell_type": "code",
   "execution_count": 17,
   "id": "3fda8993",
   "metadata": {
    "ExecuteTime": {
     "end_time": "2022-03-30T07:32:10.527022Z",
     "start_time": "2022-03-30T07:32:10.512027Z"
    }
   },
   "outputs": [],
   "source": [
    "tdf = X_test"
   ]
  },
  {
   "cell_type": "code",
   "execution_count": 18,
   "id": "21fd11c8",
   "metadata": {
    "ExecuteTime": {
     "end_time": "2022-03-30T07:32:10.901467Z",
     "start_time": "2022-03-30T07:32:10.895465Z"
    }
   },
   "outputs": [],
   "source": [
    "tdf['actual'] = y_test\n",
    "tdf['predicted'] = y_test_pred_cbr"
   ]
  },
  {
   "cell_type": "code",
   "execution_count": 19,
   "id": "0459b8d1",
   "metadata": {
    "ExecuteTime": {
     "end_time": "2022-03-30T07:32:19.120477Z",
     "start_time": "2022-03-30T07:32:19.011352Z"
    }
   },
   "outputs": [],
   "source": [
    "tdf.to_csv('1stTEMPDATA.csv', index = None)"
   ]
  },
  {
   "cell_type": "code",
   "execution_count": 21,
   "id": "4eabaf25",
   "metadata": {
    "ExecuteTime": {
     "end_time": "2022-03-30T07:32:26.198999Z",
     "start_time": "2022-03-30T07:32:26.188016Z"
    }
   },
   "outputs": [],
   "source": [
    "file = open('regressor.pkl', 'wb')\n",
    "pickle.dump(cbr, file)\n",
    "file.close()"
   ]
  },
  {
   "cell_type": "code",
   "execution_count": null,
   "id": "681bd47e",
   "metadata": {},
   "outputs": [],
   "source": []
  }
 ],
 "metadata": {
  "kernelspec": {
   "display_name": "Python 3 (ipykernel)",
   "language": "python",
   "name": "python3"
  },
  "language_info": {
   "codemirror_mode": {
    "name": "ipython",
    "version": 3
   },
   "file_extension": ".py",
   "mimetype": "text/x-python",
   "name": "python",
   "nbconvert_exporter": "python",
   "pygments_lexer": "ipython3",
   "version": "3.9.7"
  }
 },
 "nbformat": 4,
 "nbformat_minor": 5
}
