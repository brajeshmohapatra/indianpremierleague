{
 "cells": [
  {
   "cell_type": "code",
   "execution_count": 1,
   "id": "f9ef0395",
   "metadata": {
    "ExecuteTime": {
     "end_time": "2022-04-01T06:37:47.677588Z",
     "start_time": "2022-04-01T06:37:44.167733Z"
    }
   },
   "outputs": [],
   "source": [
    "import time\n",
    "import pickle\n",
    "import jsonify\n",
    "import requests\n",
    "import numpy as np\n",
    "import pandas as pd\n",
    "import matplotlib.pyplot as plt\n",
    "from sqlalchemy import *\n",
    "from bs4 import BeautifulSoup\n",
    "from datetime import date, datetime\n",
    "from sklearn.preprocessing import StandardScaler\n",
    "from flask import Flask, render_template, request\n",
    "from sqlalchemy.ext.declarative import declarative_base"
   ]
  },
  {
   "cell_type": "code",
   "execution_count": 2,
   "id": "ae195d3a",
   "metadata": {
    "ExecuteTime": {
     "end_time": "2022-04-01T06:37:54.760670Z",
     "start_time": "2022-04-01T06:37:54.628270Z"
    }
   },
   "outputs": [],
   "source": [
    "url = 'mysql+mysqlconnector://{user}:{password}@{server}/{database}'.format(user = 'admin', password = 'adminroot', \n",
    "                                                                            server = 'indianpremierleague.cloqh08fxh1t.ap-south-1.rds.amazonaws.com',\n",
    "                                                                            database = 'ipl')\n",
    "engine = create_engine(url, echo = True)\n",
    "base = declarative_base()"
   ]
  },
  {
   "cell_type": "code",
   "execution_count": 3,
   "id": "db0f8cc4",
   "metadata": {
    "ExecuteTime": {
     "end_time": "2022-04-01T06:38:20.846046Z",
     "start_time": "2022-04-01T06:38:13.945812Z"
    }
   },
   "outputs": [
    {
     "name": "stdout",
     "output_type": "stream",
     "text": [
      "2022-04-01 12:08:14,577 INFO sqlalchemy.engine.Engine SHOW VARIABLES LIKE 'sql_mode'\n",
      "2022-04-01 12:08:14,577 INFO sqlalchemy.engine.Engine [raw sql] {}\n",
      "2022-04-01 12:08:14,728 INFO sqlalchemy.engine.Engine SHOW VARIABLES LIKE 'lower_case_table_names'\n",
      "2022-04-01 12:08:14,728 INFO sqlalchemy.engine.Engine [generated in 0.07393s] {}\n",
      "2022-04-01 12:08:15,006 INFO sqlalchemy.engine.Engine SELECT DATABASE()\n",
      "2022-04-01 12:08:15,006 INFO sqlalchemy.engine.Engine [raw sql] {}\n",
      "2022-04-01 12:08:15,344 INFO sqlalchemy.engine.Engine SHOW FULL TABLES FROM `ipl`\n",
      "2022-04-01 12:08:15,344 INFO sqlalchemy.engine.Engine [raw sql] {}\n",
      "2022-04-01 12:08:15,480 INFO sqlalchemy.engine.Engine SHOW FULL TABLES FROM `ipl`\n",
      "2022-04-01 12:08:15,480 INFO sqlalchemy.engine.Engine [raw sql] {}\n",
      "2022-04-01 12:08:15,638 INFO sqlalchemy.engine.Engine SHOW CREATE TABLE `fixtures`\n",
      "2022-04-01 12:08:15,640 INFO sqlalchemy.engine.Engine [raw sql] {}\n",
      "2022-04-01 12:08:15,784 INFO sqlalchemy.engine.Engine SELECT fixtures.`DATE`, fixtures.`MATCH` \n",
      "FROM fixtures\n",
      "2022-04-01 12:08:15,784 INFO sqlalchemy.engine.Engine [generated in 0.06793s] {}\n",
      "2022-04-01 12:08:16,420 INFO sqlalchemy.engine.Engine SHOW FULL TABLES FROM `ipl`\n",
      "2022-04-01 12:08:16,420 INFO sqlalchemy.engine.Engine [raw sql] {}\n",
      "2022-04-01 12:08:16,557 INFO sqlalchemy.engine.Engine SHOW FULL TABLES FROM `ipl`\n",
      "2022-04-01 12:08:16,557 INFO sqlalchemy.engine.Engine [raw sql] {}\n",
      "2022-04-01 12:08:16,697 INFO sqlalchemy.engine.Engine SHOW CREATE TABLE `match_list`\n",
      "2022-04-01 12:08:16,697 INFO sqlalchemy.engine.Engine [raw sql] {}\n",
      "2022-04-01 12:08:16,834 INFO sqlalchemy.engine.Engine SELECT match_list.year, match_list.winner, match_list.final \n",
      "FROM match_list\n",
      "2022-04-01 12:08:16,834 INFO sqlalchemy.engine.Engine [generated in 0.06793s] {}\n",
      "2022-04-01 12:08:17,518 INFO sqlalchemy.engine.Engine SHOW FULL TABLES FROM `ipl`\n",
      "2022-04-01 12:08:17,518 INFO sqlalchemy.engine.Engine [raw sql] {}\n",
      "2022-04-01 12:08:17,646 INFO sqlalchemy.engine.Engine SHOW FULL TABLES FROM `ipl`\n",
      "2022-04-01 12:08:17,646 INFO sqlalchemy.engine.Engine [raw sql] {}\n",
      "2022-04-01 12:08:17,795 INFO sqlalchemy.engine.Engine SHOW CREATE TABLE `match_details`\n",
      "2022-04-01 12:08:17,795 INFO sqlalchemy.engine.Engine [raw sql] {}\n",
      "2022-04-01 12:08:17,928 INFO sqlalchemy.engine.Engine SELECT match_details.batsman, match_details.bowler, match_details.batsman_runs, match_details.is_wicket, match_details.dismissal_kind \n",
      "FROM match_details\n",
      "2022-04-01 12:08:17,928 INFO sqlalchemy.engine.Engine [generated in 0.07078s] {}\n"
     ]
    }
   ],
   "source": [
    "fixtures = pd.read_sql_table('fixtures', engine.connect(), columns = ['DATE', 'MATCH'])\n",
    "\n",
    "match_list = pd.read_sql_table('match_list', engine.connect(), columns = ['year', 'winner', 'final'])\n",
    "\n",
    "match_details = pd.read_sql_table('match_details', engine.connect(), columns = ['batsman', 'bowler', 'batsman_runs', 'is_wicket', 'dismissal_kind'])"
   ]
  },
  {
   "cell_type": "code",
   "execution_count": 6,
   "id": "70b000cb",
   "metadata": {
    "ExecuteTime": {
     "end_time": "2022-04-01T06:38:44.770653Z",
     "start_time": "2022-04-01T06:38:44.754655Z"
    }
   },
   "outputs": [
    {
     "data": {
      "text/html": [
       "<div>\n",
       "<style scoped>\n",
       "    .dataframe tbody tr th:only-of-type {\n",
       "        vertical-align: middle;\n",
       "    }\n",
       "\n",
       "    .dataframe tbody tr th {\n",
       "        vertical-align: top;\n",
       "    }\n",
       "\n",
       "    .dataframe thead th {\n",
       "        text-align: right;\n",
       "    }\n",
       "</style>\n",
       "<table border=\"1\" class=\"dataframe\">\n",
       "  <thead>\n",
       "    <tr style=\"text-align: right;\">\n",
       "      <th></th>\n",
       "      <th>batsman</th>\n",
       "      <th>bowler</th>\n",
       "      <th>batsman_runs</th>\n",
       "      <th>is_wicket</th>\n",
       "      <th>dismissal_kind</th>\n",
       "    </tr>\n",
       "  </thead>\n",
       "  <tbody>\n",
       "    <tr>\n",
       "      <th>0</th>\n",
       "      <td>SC Ganguly</td>\n",
       "      <td>P Kumar</td>\n",
       "      <td>0.0</td>\n",
       "      <td>0</td>\n",
       "      <td>None</td>\n",
       "    </tr>\n",
       "    <tr>\n",
       "      <th>1</th>\n",
       "      <td>BB McCullum</td>\n",
       "      <td>P Kumar</td>\n",
       "      <td>0.0</td>\n",
       "      <td>0</td>\n",
       "      <td>None</td>\n",
       "    </tr>\n",
       "    <tr>\n",
       "      <th>2</th>\n",
       "      <td>BB McCullum</td>\n",
       "      <td>P Kumar</td>\n",
       "      <td>0.0</td>\n",
       "      <td>0</td>\n",
       "      <td>None</td>\n",
       "    </tr>\n",
       "    <tr>\n",
       "      <th>3</th>\n",
       "      <td>BB McCullum</td>\n",
       "      <td>P Kumar</td>\n",
       "      <td>0.0</td>\n",
       "      <td>0</td>\n",
       "      <td>None</td>\n",
       "    </tr>\n",
       "    <tr>\n",
       "      <th>4</th>\n",
       "      <td>BB McCullum</td>\n",
       "      <td>P Kumar</td>\n",
       "      <td>0.0</td>\n",
       "      <td>0</td>\n",
       "      <td>None</td>\n",
       "    </tr>\n",
       "  </tbody>\n",
       "</table>\n",
       "</div>"
      ],
      "text/plain": [
       "       batsman   bowler  batsman_runs  is_wicket dismissal_kind\n",
       "0   SC Ganguly  P Kumar           0.0          0           None\n",
       "1  BB McCullum  P Kumar           0.0          0           None\n",
       "2  BB McCullum  P Kumar           0.0          0           None\n",
       "3  BB McCullum  P Kumar           0.0          0           None\n",
       "4  BB McCullum  P Kumar           0.0          0           None"
      ]
     },
     "execution_count": 6,
     "metadata": {},
     "output_type": "execute_result"
    }
   ],
   "source": [
    "match_details.head()"
   ]
  },
  {
   "cell_type": "code",
   "execution_count": null,
   "id": "44be158c",
   "metadata": {},
   "outputs": [],
   "source": []
  }
 ],
 "metadata": {
  "kernelspec": {
   "display_name": "Python 3 (ipykernel)",
   "language": "python",
   "name": "python3"
  },
  "language_info": {
   "codemirror_mode": {
    "name": "ipython",
    "version": 3
   },
   "file_extension": ".py",
   "mimetype": "text/x-python",
   "name": "python",
   "nbconvert_exporter": "python",
   "pygments_lexer": "ipython3",
   "version": "3.9.7"
  }
 },
 "nbformat": 4,
 "nbformat_minor": 5
}
