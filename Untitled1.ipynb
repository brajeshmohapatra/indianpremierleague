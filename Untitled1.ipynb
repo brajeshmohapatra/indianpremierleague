{
 "cells": [
  {
   "cell_type": "code",
   "execution_count": 1,
   "id": "05bd0ddd",
   "metadata": {
    "ExecuteTime": {
     "end_time": "2022-03-09T08:57:18.846313Z",
     "start_time": "2022-03-09T08:57:18.156847Z"
    }
   },
   "outputs": [],
   "source": [
    "import time\n",
    "import warnings\n",
    "import pandas as pd\n",
    "from datetime import date, datetime\n",
    "warnings.filterwarnings('ignore')"
   ]
  },
  {
   "cell_type": "code",
   "execution_count": 2,
   "id": "b9a8df4b",
   "metadata": {
    "ExecuteTime": {
     "end_time": "2022-03-09T08:57:19.675796Z",
     "start_time": "2022-03-09T08:57:19.187471Z"
    }
   },
   "outputs": [],
   "source": [
    "df = pd.read_excel('Fixtures.xlsx')"
   ]
  },
  {
   "cell_type": "code",
   "execution_count": 3,
   "id": "0bdd9a7d",
   "metadata": {
    "ExecuteTime": {
     "end_time": "2022-03-09T08:57:19.784704Z",
     "start_time": "2022-03-09T08:57:19.736697Z"
    }
   },
   "outputs": [
    {
     "data": {
      "text/html": [
       "<div>\n",
       "<style scoped>\n",
       "    .dataframe tbody tr th:only-of-type {\n",
       "        vertical-align: middle;\n",
       "    }\n",
       "\n",
       "    .dataframe tbody tr th {\n",
       "        vertical-align: top;\n",
       "    }\n",
       "\n",
       "    .dataframe thead th {\n",
       "        text-align: right;\n",
       "    }\n",
       "</style>\n",
       "<table border=\"1\" class=\"dataframe\">\n",
       "  <thead>\n",
       "    <tr style=\"text-align: right;\">\n",
       "      <th></th>\n",
       "      <th>MATCH ID</th>\n",
       "      <th>MATCH NO</th>\n",
       "      <th>DATE</th>\n",
       "      <th>TIME</th>\n",
       "      <th>HOME TEAM</th>\n",
       "      <th>AWAY TEAM</th>\n",
       "      <th>MATCH</th>\n",
       "      <th>VENUE</th>\n",
       "      <th>URL</th>\n",
       "    </tr>\n",
       "  </thead>\n",
       "  <tbody>\n",
       "    <tr>\n",
       "      <th>0</th>\n",
       "      <td>NaN</td>\n",
       "      <td>NaN</td>\n",
       "      <td>2022-03-09</td>\n",
       "      <td>17:30:00</td>\n",
       "      <td>NaN</td>\n",
       "      <td>NaN</td>\n",
       "      <td>Demo vs Demo</td>\n",
       "      <td>NaN</td>\n",
       "      <td>NaN</td>\n",
       "    </tr>\n",
       "    <tr>\n",
       "      <th>1</th>\n",
       "      <td>1304047.0</td>\n",
       "      <td>1st</td>\n",
       "      <td>2022-03-26</td>\n",
       "      <td>07:30 PM</td>\n",
       "      <td>Chennai Super Kings</td>\n",
       "      <td>Kolkata Knight Riders</td>\n",
       "      <td>Chennai Super Kings vs Kolkata Knight Riders, ...</td>\n",
       "      <td>Wankhede Stadium</td>\n",
       "      <td>https://www.espncricinfo.com/series/indian-pre...</td>\n",
       "    </tr>\n",
       "    <tr>\n",
       "      <th>2</th>\n",
       "      <td>1304048.0</td>\n",
       "      <td>2nd</td>\n",
       "      <td>2022-03-27</td>\n",
       "      <td>03:30 PM</td>\n",
       "      <td>Delhi Capitals</td>\n",
       "      <td>Mumbai Indians</td>\n",
       "      <td>Delhi Capitals vs Mumbai Indians, 03:30 PM</td>\n",
       "      <td>Brabourne - CCI</td>\n",
       "      <td>https://www.espncricinfo.com/series/indian-pre...</td>\n",
       "    </tr>\n",
       "    <tr>\n",
       "      <th>3</th>\n",
       "      <td>1304049.0</td>\n",
       "      <td>3rd</td>\n",
       "      <td>2022-03-27</td>\n",
       "      <td>07:30 PM</td>\n",
       "      <td>Punjab Kings</td>\n",
       "      <td>Royal Challengers Bangalore</td>\n",
       "      <td>Punjab Kings vs Royal Challengers Bangalore, 0...</td>\n",
       "      <td>DY Patil Stadium</td>\n",
       "      <td>https://www.espncricinfo.com/series/indian-pre...</td>\n",
       "    </tr>\n",
       "    <tr>\n",
       "      <th>4</th>\n",
       "      <td>1304050.0</td>\n",
       "      <td>4th</td>\n",
       "      <td>2022-03-28</td>\n",
       "      <td>07:30 PM</td>\n",
       "      <td>Gujarat Titans</td>\n",
       "      <td>Lucknow Super Giants</td>\n",
       "      <td>Gujarat Titans vs Lucknow Super Giants, 07:30 PM</td>\n",
       "      <td>Wankhede Stadium</td>\n",
       "      <td>https://www.espncricinfo.com/series/indian-pre...</td>\n",
       "    </tr>\n",
       "  </tbody>\n",
       "</table>\n",
       "</div>"
      ],
      "text/plain": [
       "    MATCH ID MATCH NO       DATE      TIME            HOME TEAM  \\\n",
       "0        NaN      NaN 2022-03-09  17:30:00                  NaN   \n",
       "1  1304047.0      1st 2022-03-26  07:30 PM  Chennai Super Kings   \n",
       "2  1304048.0      2nd 2022-03-27  03:30 PM       Delhi Capitals   \n",
       "3  1304049.0      3rd 2022-03-27  07:30 PM         Punjab Kings   \n",
       "4  1304050.0      4th 2022-03-28  07:30 PM       Gujarat Titans   \n",
       "\n",
       "                     AWAY TEAM  \\\n",
       "0                          NaN   \n",
       "1        Kolkata Knight Riders   \n",
       "2               Mumbai Indians   \n",
       "3  Royal Challengers Bangalore   \n",
       "4         Lucknow Super Giants   \n",
       "\n",
       "                                               MATCH             VENUE  \\\n",
       "0                                       Demo vs Demo               NaN   \n",
       "1  Chennai Super Kings vs Kolkata Knight Riders, ...  Wankhede Stadium   \n",
       "2         Delhi Capitals vs Mumbai Indians, 03:30 PM   Brabourne - CCI   \n",
       "3  Punjab Kings vs Royal Challengers Bangalore, 0...  DY Patil Stadium   \n",
       "4   Gujarat Titans vs Lucknow Super Giants, 07:30 PM  Wankhede Stadium   \n",
       "\n",
       "                                                 URL  \n",
       "0                                                NaN  \n",
       "1  https://www.espncricinfo.com/series/indian-pre...  \n",
       "2  https://www.espncricinfo.com/series/indian-pre...  \n",
       "3  https://www.espncricinfo.com/series/indian-pre...  \n",
       "4  https://www.espncricinfo.com/series/indian-pre...  "
      ]
     },
     "execution_count": 3,
     "metadata": {},
     "output_type": "execute_result"
    }
   ],
   "source": [
    "df.head()"
   ]
  },
  {
   "cell_type": "code",
   "execution_count": 4,
   "id": "01c65eeb",
   "metadata": {
    "ExecuteTime": {
     "end_time": "2022-03-09T08:57:41.794528Z",
     "start_time": "2022-03-09T08:57:41.787282Z"
    }
   },
   "outputs": [],
   "source": [
    "match = 'Gujarat Titans vs Lucknow Super Giants, 07:30 PM'"
   ]
  },
  {
   "cell_type": "code",
   "execution_count": 8,
   "id": "4ca473a2",
   "metadata": {
    "ExecuteTime": {
     "end_time": "2022-03-09T08:58:38.070418Z",
     "start_time": "2022-03-09T08:58:38.062418Z"
    }
   },
   "outputs": [],
   "source": [
    "url = df[df['MATCH'] == match]['URL'].values[0]"
   ]
  },
  {
   "cell_type": "code",
   "execution_count": 9,
   "id": "10bf92c3",
   "metadata": {
    "ExecuteTime": {
     "end_time": "2022-03-09T08:58:39.975289Z",
     "start_time": "2022-03-09T08:58:39.959287Z"
    }
   },
   "outputs": [
    {
     "data": {
      "text/plain": [
       "'https://www.espncricinfo.com/series/indian-premier-league-2022-1298423/gujarat-titans-vs-lucknow-super-giants-4th-match-1304050/live-cricket-score'"
      ]
     },
     "execution_count": 9,
     "metadata": {},
     "output_type": "execute_result"
    }
   ],
   "source": [
    "url"
   ]
  },
  {
   "cell_type": "code",
   "execution_count": null,
   "id": "01506035",
   "metadata": {},
   "outputs": [],
   "source": []
  },
  {
   "cell_type": "code",
   "execution_count": null,
   "id": "f4970f7d",
   "metadata": {},
   "outputs": [],
   "source": []
  },
  {
   "cell_type": "code",
   "execution_count": null,
   "id": "f52eb1ac",
   "metadata": {},
   "outputs": [],
   "source": []
  },
  {
   "cell_type": "code",
   "execution_count": null,
   "id": "7f6ee535",
   "metadata": {},
   "outputs": [],
   "source": []
  },
  {
   "cell_type": "code",
   "execution_count": null,
   "id": "7493b026",
   "metadata": {},
   "outputs": [],
   "source": []
  },
  {
   "cell_type": "code",
   "execution_count": null,
   "id": "dba08020",
   "metadata": {},
   "outputs": [],
   "source": []
  },
  {
   "cell_type": "code",
   "execution_count": null,
   "id": "96552cb3",
   "metadata": {},
   "outputs": [],
   "source": []
  },
  {
   "cell_type": "code",
   "execution_count": null,
   "id": "1b08d75a",
   "metadata": {},
   "outputs": [],
   "source": []
  },
  {
   "cell_type": "code",
   "execution_count": null,
   "id": "cc1b4248",
   "metadata": {},
   "outputs": [],
   "source": []
  },
  {
   "cell_type": "code",
   "execution_count": null,
   "id": "1b952e57",
   "metadata": {},
   "outputs": [],
   "source": []
  },
  {
   "cell_type": "code",
   "execution_count": null,
   "id": "4aac8cea",
   "metadata": {},
   "outputs": [],
   "source": []
  },
  {
   "cell_type": "code",
   "execution_count": null,
   "id": "ea8827f4",
   "metadata": {},
   "outputs": [],
   "source": []
  },
  {
   "cell_type": "code",
   "execution_count": null,
   "id": "38825176",
   "metadata": {},
   "outputs": [],
   "source": []
  },
  {
   "cell_type": "code",
   "execution_count": null,
   "id": "a92c182e",
   "metadata": {},
   "outputs": [],
   "source": []
  },
  {
   "cell_type": "code",
   "execution_count": 4,
   "id": "961c4e9a",
   "metadata": {
    "ExecuteTime": {
     "end_time": "2022-03-08T11:15:15.537237Z",
     "start_time": "2022-03-08T11:15:15.521214Z"
    }
   },
   "outputs": [],
   "source": [
    "year = date.today().year\n",
    "month = date.today().month\n",
    "day = date.today().day\n",
    "if month < 10:\n",
    "    month = '0' + str(month)\n",
    "if day < 10:\n",
    "    day = '0' + str(day)\n",
    "today = str(year) + '-' + str(month) + '-' + str(day)"
   ]
  },
  {
   "cell_type": "code",
   "execution_count": 19,
   "id": "fdb978d2",
   "metadata": {
    "ExecuteTime": {
     "end_time": "2022-03-08T11:58:46.035413Z",
     "start_time": "2022-03-08T11:58:39.334064Z"
    }
   },
   "outputs": [
    {
     "name": "stdout",
     "output_type": "stream",
     "text": [
      "Enter Date: 2022-04-02\n"
     ]
    }
   ],
   "source": [
    "today = input('Enter Date: ')"
   ]
  },
  {
   "cell_type": "code",
   "execution_count": 20,
   "id": "df120ec8",
   "metadata": {
    "ExecuteTime": {
     "end_time": "2022-03-08T11:58:46.518769Z",
     "start_time": "2022-03-08T11:58:46.502772Z"
    }
   },
   "outputs": [
    {
     "data": {
      "text/plain": [
       "'2022-04-02'"
      ]
     },
     "execution_count": 20,
     "metadata": {},
     "output_type": "execute_result"
    }
   ],
   "source": [
    "today"
   ]
  },
  {
   "cell_type": "code",
   "execution_count": 25,
   "id": "cdbd3a8e",
   "metadata": {
    "ExecuteTime": {
     "end_time": "2022-03-08T12:00:45.823918Z",
     "start_time": "2022-03-08T12:00:45.812901Z"
    }
   },
   "outputs": [],
   "source": [
    "text = df[df['DATE'] == today]['MATCH'].values"
   ]
  },
  {
   "cell_type": "code",
   "execution_count": 15,
   "id": "63b80513",
   "metadata": {
    "ExecuteTime": {
     "end_time": "2022-03-08T11:55:13.554494Z",
     "start_time": "2022-03-08T11:55:13.546493Z"
    }
   },
   "outputs": [],
   "source": [
    "texts = []"
   ]
  },
  {
   "cell_type": "code",
   "execution_count": 16,
   "id": "a02f6e43",
   "metadata": {
    "ExecuteTime": {
     "end_time": "2022-03-08T11:55:14.784496Z",
     "start_time": "2022-03-08T11:55:14.779508Z"
    }
   },
   "outputs": [],
   "source": [
    "for i in range(len(text)):\n",
    "    texts.append(str(i + 1) + '. ' + str(text[i]))"
   ]
  },
  {
   "cell_type": "code",
   "execution_count": 17,
   "id": "86752523",
   "metadata": {
    "ExecuteTime": {
     "end_time": "2022-03-08T11:55:15.407757Z",
     "start_time": "2022-03-08T11:55:15.403742Z"
    }
   },
   "outputs": [
    {
     "data": {
      "text/plain": [
       "['1. Sunrisers Hyderabad vs Rajasthan Royals, 07:30 PM']"
      ]
     },
     "execution_count": 17,
     "metadata": {},
     "output_type": "execute_result"
    }
   ],
   "source": [
    "texts"
   ]
  },
  {
   "cell_type": "code",
   "execution_count": 18,
   "id": "c53608c5",
   "metadata": {
    "ExecuteTime": {
     "end_time": "2022-03-08T11:55:18.334238Z",
     "start_time": "2022-03-08T11:55:18.321237Z"
    }
   },
   "outputs": [
    {
     "data": {
      "text/plain": [
       "'1. Sunrisers Hyderabad vs Rajasthan Royals, 07:30 PM'"
      ]
     },
     "execution_count": 18,
     "metadata": {},
     "output_type": "execute_result"
    }
   ],
   "source": [
    "'\\n'.join(texts)"
   ]
  },
  {
   "cell_type": "code",
   "execution_count": null,
   "id": "292fb078",
   "metadata": {},
   "outputs": [],
   "source": []
  }
 ],
 "metadata": {
  "kernelspec": {
   "display_name": "Python 3 (ipykernel)",
   "language": "python",
   "name": "python3"
  },
  "language_info": {
   "codemirror_mode": {
    "name": "ipython",
    "version": 3
   },
   "file_extension": ".py",
   "mimetype": "text/x-python",
   "name": "python",
   "nbconvert_exporter": "python",
   "pygments_lexer": "ipython3",
   "version": "3.9.7"
  }
 },
 "nbformat": 4,
 "nbformat_minor": 5
}
